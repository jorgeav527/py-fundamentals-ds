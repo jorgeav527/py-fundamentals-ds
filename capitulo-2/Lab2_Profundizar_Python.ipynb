{
 "cells": [
  {
   "cell_type": "markdown",
   "metadata": {},
   "source": [
    "## OOP"
   ]
  },
  {
   "cell_type": "code",
   "execution_count": 1,
   "metadata": {},
   "outputs": [],
   "source": [
    "#referencia https://realpython.com/python3-object-oriented-programming/"
   ]
  },
  {
   "cell_type": "markdown",
   "metadata": {},
   "source": [
    "- este ejemplo demuestra cómo definir una clase en Python,\n",
    "- crear instancias de la clase (objetos) y acceder a los atributos y métodos de esas instancias.\n",
    "- como lo dijimos, las clases son una parte fundamental de la programación orientada a objetos en Python y se utilizan para modelar objetos del mundo real de manera efectiva."
   ]
  },
  {
   "cell_type": "code",
   "execution_count": 2,
   "metadata": {},
   "outputs": [],
   "source": [
    "# Creamos y definimos una clase llamada Dog.\n",
    "class Dog:\n",
    "    # Creamos un atributo de clase llamado species para definir la especie de todos los perros.\n",
    "    species = 'mammal'\n",
    "\n",
    "    # Definimos el método __init__ se llama automáticamente cuando creamos una nueva instancia de la clase Dog.\n",
    "    def __init__(self, name, age):\n",
    "        # Asignamos el nombre y la edad al perro.\n",
    "        self.name = name\n",
    "        self.age = age\n",
    "\n",
    "    # Este método de instancia nos permite obtener una descripción detallada del perro, incluyendo su nombre y edad.\n",
    "    def description(self):\n",
    "        return \"{} is {} years old\".format(self.name, self.age)\n",
    "\n",
    "    # Con este método de instancia, el perro puede 'hablar'. Le pasamos un sonido como argumento, y el método devuelve un mensaje que incluye el nombre del perro y el sonido que hace.\n",
    "    def speak(self, sound):\n",
    "        return \"{} says {}\".format(self.name, sound)"
   ]
  },
  {
   "cell_type": "code",
   "execution_count": 3,
   "metadata": {},
   "outputs": [],
   "source": [
    "# Creamos dos instancias de la clase Dog: dog1 y dog2.\n",
    "dog1 = Dog('Pluto', 5)  # Creamos un perro llamado Pluto de 5 años de edad.\n",
    "dog2 = Dog('Milu', 3)   # Creamos otro perro llamado Milu de 3 años de edad."
   ]
  },
  {
   "cell_type": "code",
   "execution_count": 5,
   "metadata": {},
   "outputs": [
    {
     "data": {
      "text/plain": [
       "__main__.Dog"
      ]
     },
     "execution_count": 5,
     "metadata": {},
     "output_type": "execute_result"
    }
   ],
   "source": [
    "# Comprobamos el tipo de objeto que es dog1.\n",
    "type(dog1)  # Devolverá <class '__main__.Dog'>, lo que indica que dog1 es una instancia de la clase Dog en el módulo actual."
   ]
  },
  {
   "cell_type": "markdown",
   "metadata": {},
   "source": [
    "- __init__: Este método se llama cuando se crea un objeto a partir de una clase y se utiliza para la inicialización.\n",
    "- __str__: Define la representación de cadena \"informal\" o \"amigable para el usuario\" de un objeto y se llama con la función str() o cuando se imprime el objeto.\n",
    "- __repr__: Este método define la representación de cadena \"oficial\" o \"amigable para el desarrollador\" de un objeto. Se llama con la función repr() y también se utiliza en entornos interactivos.\n",
    "- __len__: Devuelve la longitud de un objeto y se llama con la función len().\n",
    "- __getitem__ y __setitem__: Estos métodos se utilizan para implementar la indexación (por ejemplo, objeto[clave] para obtener y establecer valores).\n",
    "- __iter__ y __next__: Estos métodos se utilizan para hacer que un objeto sea iterable y se utilizan en bucles for.\n",
    "- __eq__, __ne__, __lt__, __le__, __gt__, __ge__: Estos métodos definen el comportamiento de comparación (por ejemplo, igualdad, menor que, etc.) para objetos.\n",
    "- __add__, __sub__, __mul__, __truediv__, etc.: Estos métodos definen operaciones aritméticas para objetos.\n",
    "- __enter__ y __exit__: Estos métodos se utilizan para definir un administrador de contexto para un objeto (utilizado con la declaración with).\n",
    "- __call__: Este método te permite llamar a un objeto como si fuera una función.\n",
    "- __del__: Este método se llama cuando un objeto está a punto de ser destruido, a menudo se utiliza para la limpieza."
   ]
  },
  {
   "cell_type": "code",
   "execution_count": 7,
   "metadata": {},
   "outputs": [
    {
     "name": "stdout",
     "output_type": "stream",
     "text": [
      "Pluto is 5 and Milu is 3.\n"
     ]
    }
   ],
   "source": [
    "## Accedemos a los atributos de instancia para obtener información sobre los perros.\n",
    "print(\"{} is {} and {} is {}.\".format(\n",
    "    dog1.name, dog1.age, dog2.name, dog2.age))\n",
    "\n",
    "# Esta línea imprimirá algo como: \"Pluto is 5 and Milu is 3.\""
   ]
  },
  {
   "cell_type": "code",
   "execution_count": 8,
   "metadata": {},
   "outputs": [
    {
     "name": "stdout",
     "output_type": "stream",
     "text": [
      "Pluto is a mammal!\n"
     ]
    }
   ],
   "source": [
    "# Verificamos si dog1 es un mamífero? y luego imprimimos un mensaje en consecuencia.\n",
    "if dog1.species == \"mammal\":\n",
    "    print(\"{0} is a {1}!\".format(dog1.name, dog1.species))\n",
    "\n",
    "# Si dog1.species es igual a \"mammal\", se imprimirá algo como: \"Pluto is a mammal!\""
   ]
  },
  {
   "cell_type": "code",
   "execution_count": 9,
   "metadata": {},
   "outputs": [
    {
     "name": "stdout",
     "output_type": "stream",
     "text": [
      "Pluto is 5 years old\n",
      "Pluto says Gruff Gruff\n"
     ]
    }
   ],
   "source": [
    "# Llamando a los métodos para obtener información y hacer que los perros 'ladren'.\n",
    "print(dog1.description())  # Obtenemos una descripción de Pluto, como \"Pluto tiene 5 años.\"\n",
    "print(dog1.speak(\"Gruff Gruff\"))  # Le decimos a Pluto que haga un sonido, y él responde, \"Pluto dice Gruff Gruff.\""
   ]
  },
  {
   "cell_type": "markdown",
   "metadata": {},
   "source": [
    "- Veamos la herencia que es un concepto fundamental en la programación orientada a objetos\n",
    "- esto permite que las clases compartan atributos y métodos comunes, al tiempo que pueden tener sus propios atributos y métodos específicos.\n",
    "- En este ejemplo, \"RussellTerrier\" y \"Bulldog\" son subclases de \"Dog\" y heredan sus características, pero también pueden tener comportamientos únicos."
   ]
  },
  {
   "cell_type": "code",
   "execution_count": 10,
   "metadata": {},
   "outputs": [],
   "source": [
    "# Definimos una nueva clase llamada RussellTerrier.\n",
    "# RussellTerrier hereda todos los atributos y métodos de la clase Dog.\n",
    "class RussellTerrier(Dog):\n",
    "    # RussellTerrier tiene una habilidad especial llamada \"run\".\n",
    "    def run(self, speed):\n",
    "        # Cuando corre, podemos indicar su velocidad en el mensaje.\n",
    "        return \"{} runs at {}\".format(self.name, speed)\n",
    "\n",
    "# Definimos otra nueva clase llamada Bulldog.\n",
    "# Al igual que RussellTerrier, Bulldog hereda de la clase Dog.\n",
    "class Bulldog(Dog):\n",
    "    # Bulldog tiene su propia habilidad especial llamada \"smiles\".\n",
    "    def smiles(self):\n",
    "        # Cuando sonríe, simplemente lo indicamos en el mensaje.\n",
    "        return \"{} smiles!\".format(self.name)"
   ]
  },
  {
   "cell_type": "code",
   "execution_count": 11,
   "metadata": {},
   "outputs": [
    {
     "name": "stdout",
     "output_type": "stream",
     "text": [
      "Jim is 12 years old\n",
      "Jim runs at slowly\n"
     ]
    }
   ],
   "source": [
    "# Creamos una instancia de la clase RussellTerrier llamada \"Jim\" con nombre y edad.\n",
    "jim = RussellTerrier(\"Jim\", 12)\n",
    "\n",
    "# Podemos usar los métodos heredados de la clase Dog con esta instancia.\n",
    "print(jim.description())\n",
    "# Esto imprimirá \"Jim is 12 years old.\" porque Jim hereda el método \"description\" de la clase Dog.\n",
    "\n",
    "# Pero además, RussellTerrier tiene su propia habilidad especial \"run\".\n",
    "# Jim puede correr y podemos indicar su velocidad en el mensaje.\n",
    "print(jim.run(\"slowly\"))\n",
    "# Esto imprimirá \"Jim runs slowly.\" porque Jim utiliza su habilidad especial \"run\"."
   ]
  },
  {
   "cell_type": "code",
   "execution_count": 12,
   "metadata": {},
   "outputs": [
    {
     "name": "stdout",
     "output_type": "stream",
     "text": [
      "Spot is 8 years old\n",
      "Spot smiles!\n"
     ]
    }
   ],
   "source": [
    "# Creamos una instancia de la clase Bulldog llamada \"Spot\" con nombre y edad.\n",
    "spot = Bulldog(\"Spot\", 8)\n",
    "\n",
    "# Al igual que con RussellTerrier, podemos usar los métodos heredados de la clase Dog con esta instancia.\n",
    "print(spot.description())\n",
    "# Esto imprimirá \"Spot is 8 years old.\" porque Spot hereda el método \"description\" de la clase Dog.\n",
    "\n",
    "# Pero Bulldog tiene su propia habilidad especial llamada \"smiles\".\n",
    "# Podemos ver cómo Spot muestra su sonrisa cuando usamos su habilidad especial.\n",
    "print(spot.smiles())\n",
    "# Esto imprimirá \"Spot smiles!\" porque Spot utiliza su habilidad especial \"smiles\"."
   ]
  },
  {
   "cell_type": "markdown",
   "metadata": {},
   "source": [
    "- Encapsulación: La encapsulación es un principio que se refiere a la capacidad de un objeto de ocultar sus detalles internos y exponer solo una interfaz pública. Los detalles internos, como variables y métodos, están encapsulados dentro del objeto, lo que permite el control sobre quién puede acceder y modificar esos detalles. Esto facilita la modularidad y el mantenimiento del código al reducir las dependencias y el riesgo de cambios no autorizados en los datos internos.\n",
    "- Abstracción: La abstracción es el proceso de simplificar objetos y sus interacciones al identificar las características esenciales y eliminar las no esenciales. Permite centrarse en los aspectos clave de un objeto y su funcionalidad, ignorando los detalles menos relevantes. La abstracción facilita la creación de modelos que representan conceptos del mundo real de manera efectiva en el código.\n",
    "- Herencia: La herencia es un mecanismo que permite crear nuevas clases basadas en clases existentes. Una clase derivada (subclase) hereda propiedades y métodos de una clase base (superclase). Esto promueve la reutilización del código y la organización jerárquica de las clases. Las subclases pueden agregar, modificar o heredar comportamientos de la superclase, lo que facilita la extensión y especialización del código.\n",
    "- Polimorfismo: El polimorfismo se refiere a la capacidad de diferentes objetos de responder de manera única a una misma operación o mensaje. Permite tratar objetos de diferentes clases de manera uniforme, siempre que implementen una interfaz común. Esto simplifica el diseño y la flexibilidad del código, ya que se pueden usar objetos intercambiables en funciones y métodos sin necesidad de conocer los detalles internos de cada objeto."
   ]
  },
  {
   "cell_type": "markdown",
   "metadata": {},
   "source": [
    "## ERRORES"
   ]
  },
  {
   "cell_type": "markdown",
   "metadata": {},
   "source": [
    "- El manejo de errores en Python te permite escribir código más robusto y predecible al anticipar y gestionar problemas potenciales. Al entender cómo trabajar con excepciones, puedes crear programas que sean más resistentes y fáciles de mantener."
   ]
  },
  {
   "cell_type": "code",
   "execution_count": 13,
   "metadata": {},
   "outputs": [],
   "source": [
    "# https://realpython.com/python-exceptions/"
   ]
  },
  {
   "cell_type": "code",
   "execution_count": 14,
   "metadata": {},
   "outputs": [
    {
     "ename": "SyntaxError",
     "evalue": "unmatched ')' (3672257620.py, line 2)",
     "output_type": "error",
     "traceback": [
      "\u001b[0;36m  Cell \u001b[0;32mIn[14], line 2\u001b[0;36m\u001b[0m\n\u001b[0;31m    print( 0 / 0 ))\u001b[0m\n\u001b[0m                  ^\u001b[0m\n\u001b[0;31mSyntaxError\u001b[0m\u001b[0;31m:\u001b[0m unmatched ')'\n"
     ]
    }
   ],
   "source": [
    "# Esto causará un error de sintaxis.\n",
    "print( 0 / 0 ))"
   ]
  },
  {
   "cell_type": "code",
   "execution_count": 15,
   "metadata": {},
   "outputs": [
    {
     "ename": "ZeroDivisionError",
     "evalue": "division by zero",
     "output_type": "error",
     "traceback": [
      "\u001b[0;31m---------------------------------------------------------------------------\u001b[0m",
      "\u001b[0;31mZeroDivisionError\u001b[0m                         Traceback (most recent call last)",
      "Cell \u001b[0;32mIn[15], line 2\u001b[0m\n\u001b[1;32m      1\u001b[0m \u001b[38;5;66;03m# Esto causará un error de división por cero, pero la sintaxis será correcta.\u001b[39;00m\n\u001b[0;32m----> 2\u001b[0m \u001b[38;5;28mprint\u001b[39m( \u001b[38;5;241;43m0\u001b[39;49m\u001b[43m \u001b[49m\u001b[38;5;241;43m/\u001b[39;49m\u001b[43m \u001b[49m\u001b[38;5;241;43m0\u001b[39;49m)\n",
      "\u001b[0;31mZeroDivisionError\u001b[0m: division by zero"
     ]
    }
   ],
   "source": [
    "# Esto causará un error de división por cero, pero la sintaxis será correcta.\n",
    "print( 0 / 0)"
   ]
  },
  {
   "cell_type": "markdown",
   "metadata": {},
   "source": [
    "- El uso de raise y except te permite personalizar la gestión de errores en tu código y lanzar excepciones específicas cuando ocurren situaciones inesperadas o excepcionales. "
   ]
  },
  {
   "cell_type": "code",
   "execution_count": 16,
   "metadata": {},
   "outputs": [
    {
     "ename": "Exception",
     "evalue": "x should not exceed 5. The value of x was: 10",
     "output_type": "error",
     "traceback": [
      "\u001b[0;31m---------------------------------------------------------------------------\u001b[0m",
      "\u001b[0;31mException\u001b[0m                                 Traceback (most recent call last)",
      "Cell \u001b[0;32mIn[16], line 7\u001b[0m\n\u001b[1;32m      4\u001b[0m \u001b[38;5;66;03m# Comprobamos si x es mayor que 5.\u001b[39;00m\n\u001b[1;32m      5\u001b[0m \u001b[38;5;28;01mif\u001b[39;00m x \u001b[38;5;241m>\u001b[39m \u001b[38;5;241m5\u001b[39m:\n\u001b[1;32m      6\u001b[0m     \u001b[38;5;66;03m# Si x es mayor que 5, levantamos una excepción con un mensaje personalizado.\u001b[39;00m\n\u001b[0;32m----> 7\u001b[0m     \u001b[38;5;28;01mraise\u001b[39;00m \u001b[38;5;167;01mException\u001b[39;00m(\u001b[38;5;124m'\u001b[39m\u001b[38;5;124mx should not exceed 5. The value of x was: \u001b[39m\u001b[38;5;132;01m{}\u001b[39;00m\u001b[38;5;124m'\u001b[39m\u001b[38;5;241m.\u001b[39mformat(x))\n",
      "\u001b[0;31mException\u001b[0m: x should not exceed 5. The value of x was: 10"
     ]
    }
   ],
   "source": [
    "# Asignamos un valor a la variable x.\n",
    "x = 10\n",
    "\n",
    "# Comprobamos si x es mayor que 5.\n",
    "if x > 5:\n",
    "    # Si x es mayor que 5, levantamos una excepción con un mensaje personalizado.\n",
    "    raise Exception('x should not exceed 5. The value of x was: {}'.format(x))"
   ]
  },
  {
   "cell_type": "code",
   "execution_count": 17,
   "metadata": {},
   "outputs": [],
   "source": [
    "# Importamos el módulo sys para obtener información sobre el sistema operativo actual.\n",
    "import sys\n",
    "\n",
    "# Verificamos si el sistema operativo actual es Linux utilizando la variable sys.platform.\n",
    "# Si no es Linux, se generará una excepción AssertionError con un mensaje personalizado.\n",
    "assert ('linux' in sys.platform), \"This code runs on Linux only.\""
   ]
  },
  {
   "cell_type": "code",
   "execution_count": 19,
   "metadata": {},
   "outputs": [
    {
     "ename": "AssertionError",
     "evalue": "This code runs on macOS only.",
     "output_type": "error",
     "traceback": [
      "\u001b[0;31m---------------------------------------------------------------------------\u001b[0m",
      "\u001b[0;31mAssertionError\u001b[0m                            Traceback (most recent call last)",
      "Cell \u001b[0;32mIn[19], line 2\u001b[0m\n\u001b[1;32m      1\u001b[0m \u001b[38;5;66;03m# Si no es macOS, se generará una excepción AssertionError con un mensaje personalizado.\u001b[39;00m\n\u001b[0;32m----> 2\u001b[0m \u001b[38;5;28;01massert\u001b[39;00m (\u001b[38;5;124m'\u001b[39m\u001b[38;5;124mdarwin\u001b[39m\u001b[38;5;124m'\u001b[39m \u001b[38;5;129;01min\u001b[39;00m sys\u001b[38;5;241m.\u001b[39mplatform), \u001b[38;5;124m\"\u001b[39m\u001b[38;5;124mThis code runs on macOS only.\u001b[39m\u001b[38;5;124m\"\u001b[39m\n",
      "\u001b[0;31mAssertionError\u001b[0m: This code runs on macOS only."
     ]
    }
   ],
   "source": [
    "# Si no es macOS, se generará una excepción AssertionError con un mensaje personalizado.\n",
    "assert ('darwin' in sys.platform), \"This code runs on macOS only.\""
   ]
  },
  {
   "cell_type": "code",
   "execution_count": 20,
   "metadata": {},
   "outputs": [
    {
     "ename": "AssertionError",
     "evalue": "This code runs on Windows only.",
     "output_type": "error",
     "traceback": [
      "\u001b[0;31m---------------------------------------------------------------------------\u001b[0m",
      "\u001b[0;31mAssertionError\u001b[0m                            Traceback (most recent call last)",
      "Cell \u001b[0;32mIn[20], line 2\u001b[0m\n\u001b[1;32m      1\u001b[0m \u001b[38;5;66;03m# Si no es windows, se generará una excepción AssertionError con un mensaje personalizado.\u001b[39;00m\n\u001b[0;32m----> 2\u001b[0m \u001b[38;5;28;01massert\u001b[39;00m (\u001b[38;5;124m'\u001b[39m\u001b[38;5;124mwin32\u001b[39m\u001b[38;5;124m'\u001b[39m \u001b[38;5;129;01min\u001b[39;00m sys\u001b[38;5;241m.\u001b[39mplatform), \u001b[38;5;124m\"\u001b[39m\u001b[38;5;124mThis code runs on Windows only.\u001b[39m\u001b[38;5;124m\"\u001b[39m\n",
      "\u001b[0;31mAssertionError\u001b[0m: This code runs on Windows only."
     ]
    }
   ],
   "source": [
    "# Si no es windows, se generará una excepción AssertionError con un mensaje personalizado.\n",
    "assert ('win32' in sys.platform), \"This code runs on Windows only.\""
   ]
  },
  {
   "cell_type": "code",
   "execution_count": 21,
   "metadata": {},
   "outputs": [
    {
     "name": "stdout",
     "output_type": "stream",
     "text": [
      "Could not open file.log\n"
     ]
    }
   ],
   "source": [
    "#a) Utilizamos una estructura try...except para manejar posibles excepciones.\n",
    "\n",
    "try:\n",
    "    # Intentamos abrir el archivo 'file.log' en modo lectura.\n",
    "    with open('file.log') as file:\n",
    "        read_data = file.read()  # Leemos el contenido del archivo en read_data.\n",
    "except:\n",
    "    # Si ocurre una excepción (por ejemplo, el archivo no existe o hay un problema al abrirlo),\n",
    "    # capturamos la excepción y ejecutamos el siguiente bloque de código.\n",
    "    \n",
    "    # Imprimimos un mensaje de error personalizado.\n",
    "    print('Could not open file.log')\n",
    "\n",
    "# El flujo del programa continúa aquí después de manejar la excepción (si ocurre) o después de leer el archivo (si no hay excepción)."
   ]
  },
  {
   "cell_type": "code",
   "execution_count": 23,
   "metadata": {},
   "outputs": [
    {
     "name": "stdout",
     "output_type": "stream",
     "text": [
      "[Errno 2] No such file or directory: 'file.log'\n"
     ]
    }
   ],
   "source": [
    "#b) Utilizamos otra vez try\n",
    "try:\n",
    "    # Intentamos abrir el archivo 'file.log' en modo lectura.\n",
    "    with open('file.log') as file:\n",
    "        read_data = file.read()  # Leemos el contenido del archivo en read_data.\n",
    "except FileNotFoundError as fnf_error:\n",
    "    # Si se genera una excepción FileNotFoundError (el archivo no se encuentra),\n",
    "    # capturamos la excepción y mostramos el mensaje de error predefinido proporcionado por la excepción.\n",
    "    print(fnf_error)"
   ]
  },
  {
   "cell_type": "code",
   "execution_count": 24,
   "metadata": {},
   "outputs": [
    {
     "ename": "AssertionError",
     "evalue": "Function can only run on Windows systems.",
     "output_type": "error",
     "traceback": [
      "\u001b[0;31m---------------------------------------------------------------------------\u001b[0m",
      "\u001b[0;31mAssertionError\u001b[0m                            Traceback (most recent call last)",
      "Cell \u001b[0;32mIn[24], line 13\u001b[0m\n\u001b[1;32m      7\u001b[0m     \u001b[38;5;28;01massert\u001b[39;00m (\u001b[38;5;124m'\u001b[39m\u001b[38;5;124mwin32\u001b[39m\u001b[38;5;124m'\u001b[39m \u001b[38;5;129;01min\u001b[39;00m sys\u001b[38;5;241m.\u001b[39mplatform), \u001b[38;5;124m\"\u001b[39m\u001b[38;5;124mFunction can only run on Windows systems.\u001b[39m\u001b[38;5;124m\"\u001b[39m\n\u001b[1;32m      9\u001b[0m     \u001b[38;5;66;03m# Si la condición en el assert es verdadera, la función continúa aquí.\u001b[39;00m\n\u001b[1;32m     10\u001b[0m     \u001b[38;5;66;03m#print('OK.. in Windows')\u001b[39;00m\n\u001b[1;32m     11\u001b[0m \n\u001b[1;32m     12\u001b[0m \u001b[38;5;66;03m# Llamamos a la función win_interaction para verificar si estamos en un sistema Windows.\u001b[39;00m\n\u001b[0;32m---> 13\u001b[0m \u001b[43mwin_interaction\u001b[49m\u001b[43m(\u001b[49m\u001b[43m)\u001b[49m\n",
      "Cell \u001b[0;32mIn[24], line 7\u001b[0m, in \u001b[0;36mwin_interaction\u001b[0;34m()\u001b[0m\n\u001b[1;32m      5\u001b[0m \u001b[38;5;28;01mdef\u001b[39;00m \u001b[38;5;21mwin_interaction\u001b[39m():\n\u001b[1;32m      6\u001b[0m     \u001b[38;5;66;03m# Utilizamos assert para verificar si el sistema operativo es Windows.\u001b[39;00m\n\u001b[0;32m----> 7\u001b[0m     \u001b[38;5;28;01massert\u001b[39;00m (\u001b[38;5;124m'\u001b[39m\u001b[38;5;124mwin32\u001b[39m\u001b[38;5;124m'\u001b[39m \u001b[38;5;129;01min\u001b[39;00m sys\u001b[38;5;241m.\u001b[39mplatform), \u001b[38;5;124m\"\u001b[39m\u001b[38;5;124mFunction can only run on Windows systems.\u001b[39m\u001b[38;5;124m\"\u001b[39m\n",
      "\u001b[0;31mAssertionError\u001b[0m: Function can only run on Windows systems."
     ]
    }
   ],
   "source": [
    "# Importamos el módulo sys para obtener información sobre el sistema operativo actual.\n",
    "import sys\n",
    "\n",
    "# Definimos una función llamada win_interaction.\n",
    "def win_interaction():\n",
    "    # Utilizamos assert para verificar si el sistema operativo es Windows.\n",
    "    assert ('win32' in sys.platform), \"Function can only run on Windows systems.\"\n",
    "    \n",
    "    # Si la condición en el assert es verdadera, la función continúa aquí.\n",
    "    #print('OK.. in Windows')\n",
    "\n",
    "# Llamamos a la función win_interaction para verificar si estamos en un sistema Windows.\n",
    "win_interaction()"
   ]
  },
  {
   "cell_type": "code",
   "execution_count": 25,
   "metadata": {},
   "outputs": [
    {
     "name": "stdout",
     "output_type": "stream",
     "text": [
      "Function can only run on Windows systems.\n"
     ]
    }
   ],
   "source": [
    "# Utilizamos otra vez try para intentar el codigo\n",
    "try:\n",
    "    # Llamamos a la función win_interaction(), que puede generar una excepción AssertionError.\n",
    "    win_interaction()\n",
    "except AssertionError as error:\n",
    "    # Si se genera una excepción AssertionError, capturamos la excepción y mostramos el mensaje de error.\n",
    "    print(error)\n",
    "else:\n",
    "    # Si la función se ejecuta sin excepciones, se ejecuta este bloque.\n",
    "    print('OK!')"
   ]
  },
  {
   "cell_type": "markdown",
   "metadata": {},
   "source": [
    "- Este código muestra un manejo de excepciones en Python utilizando los bloques try, except y finally. Aquí hay una descripción de lo que está ocurriendo:\n",
    "- En resumen, este código muestra cómo manejar excepciones en Python para manejar errores de manera controlada y garantizar que ciertas acciones se realicen independientemente de si se generan excepciones o no."
   ]
  },
  {
   "cell_type": "code",
   "execution_count": 26,
   "metadata": {},
   "outputs": [
    {
     "name": "stdout",
     "output_type": "stream",
     "text": [
      "Function can only run on Windows systems.\n",
      "Always execute this!!\n"
     ]
    }
   ],
   "source": [
    "# Intentamos ejecutar la función win_interaction().\n",
    "try:    \n",
    "    win_interaction()\n",
    "except AssertionError as error:\n",
    "    # Si se genera una excepción AssertionError, capturamos la excepción y mostramos el mensaje de error.\n",
    "    print(error)\n",
    "else:\n",
    "    try:\n",
    "        # Intentamos abrir el archivo 'file.log' en modo lectura.\n",
    "        with open('file.log') as file:\n",
    "            read_data = file.read()  # Leemos el contenido del archivo en read_data.\n",
    "    except FileNotFoundError as fnf_error:\n",
    "        # Si se genera una excepción FileNotFoundError (el archivo no se encuentra),\n",
    "        # capturamos la excepción y mostramos el mensaje de error.\n",
    "        print(fnf_error)\n",
    "finally:\n",
    "    # El bloque finally se ejecutará siempre, sin importar si se generaron excepciones o no.\n",
    "    print('Always execute this!!')"
   ]
  },
  {
   "cell_type": "markdown",
   "metadata": {},
   "source": [
    "## LIST COMPREHENSION"
   ]
  },
  {
   "cell_type": "code",
   "execution_count": 27,
   "metadata": {},
   "outputs": [],
   "source": [
    "#referencia https://realpython.com/list-comprehension-python/"
   ]
  },
  {
   "cell_type": "code",
   "execution_count": 28,
   "metadata": {},
   "outputs": [
    {
     "name": "stdout",
     "output_type": "stream",
     "text": [
      "[0, 1, 4, 9, 16, 25, 36, 49, 64, 81]\n"
     ]
    }
   ],
   "source": [
    "# Creamos una lista vacía llamada 'squares' para almacenar los cuadrados de los números.\n",
    "squares = []\n",
    "\n",
    "# Usamos un bucle 'for' para iterar sobre los números del 0 al 9.\n",
    "for i in range(10):\n",
    "    # Calculamos el cuadrado de 'i' y lo agregamos a la lista 'squares'.\n",
    "    squares.append(i * i)\n",
    "\n",
    "# Imprimimos la lista 'squares', que contendrá los cuadrados de los números del 0 al 9.\n",
    "print(squares)"
   ]
  },
  {
   "cell_type": "code",
   "execution_count": 29,
   "metadata": {},
   "outputs": [
    {
     "data": {
      "text/plain": [
       "[0, 1, 4, 9, 16, 25, 36, 49, 64, 81]"
      ]
     },
     "execution_count": 29,
     "metadata": {},
     "output_type": "execute_result"
    }
   ],
   "source": [
    "# Usamos una comprensión de lista para crear la lista 'sq2'.\n",
    "# Esta comprensión de lista genera los cuadrados de los números del 0 al 9.\n",
    "\n",
    "sq2 = [x ** 2 for x in range(10)]\n",
    "\n",
    "# El resultado será una lista 'sq2' que contiene los cuadrados de los números del 0 al 9.\n",
    "sq2"
   ]
  },
  {
   "cell_type": "code",
   "execution_count": 30,
   "metadata": {},
   "outputs": [
    {
     "data": {
      "text/plain": [
       "['e', 'o', 'e', 'a', 'e', 'a', 'o', 'a']"
      ]
     },
     "execution_count": 30,
     "metadata": {},
     "output_type": "execute_result"
    }
   ],
   "source": [
    "# Definimos una oración.\n",
    "sentence = 'the rocket came back from mars'\n",
    "\n",
    "# Usamos una comprensión de lista para crear la lista 'vowels'.\n",
    "# La comprensión de lista recorre cada carácter en la oración y verifica si es una vocal ('aeiou').\n",
    "vowels = [i for i in sentence if i in 'aeiou']\n",
    "\n",
    "# El resultado será una lista 'vowels' que contiene todas las vocales que aparecen en la oración.\n",
    "vowels"
   ]
  },
  {
   "cell_type": "code",
   "execution_count": 31,
   "metadata": {},
   "outputs": [
    {
     "data": {
      "text/plain": [
       "['T',\n",
       " 'h',\n",
       " 'r',\n",
       " 'c',\n",
       " 'k',\n",
       " 't',\n",
       " 'w',\n",
       " 'h',\n",
       " 'w',\n",
       " 's',\n",
       " 'n',\n",
       " 'm',\n",
       " 'd',\n",
       " 'T',\n",
       " 'd',\n",
       " 'c',\n",
       " 'm',\n",
       " 'b',\n",
       " 'c',\n",
       " 'k',\n",
       " 'f',\n",
       " 'r',\n",
       " 'm',\n",
       " 'M',\n",
       " 'r',\n",
       " 's',\n",
       " 'b',\n",
       " 'c',\n",
       " 's',\n",
       " 'h',\n",
       " 'm',\n",
       " 's',\n",
       " 's',\n",
       " 'd',\n",
       " 'h',\n",
       " 's',\n",
       " 'f',\n",
       " 'r',\n",
       " 'n',\n",
       " 'd',\n",
       " 's']"
      ]
     },
     "execution_count": 31,
     "metadata": {},
     "output_type": "execute_result"
    }
   ],
   "source": [
    "# Definimos una oración.\n",
    "sentence = 'The rocket, who was named Ted, came back \\\n",
    "    from Mars because he missed his friends.'\n",
    "\n",
    "# Definimos una función llamada 'is_consonant' que verifica si un carácter es una consonante.\n",
    "def is_consonant(letter):\n",
    "    vowels = 'aeiou'\n",
    "    return letter.isalpha() and letter.lower() not in vowels\n",
    "\n",
    "# Usamos una comprensión de lista para crear la lista 'consonants'.\n",
    "# La comprensión de lista recorre cada carácter en la oración y verifica si es una consonante utilizando la función 'is_consonant'.\n",
    "consonants = [i for i in sentence if is_consonant(i)]\n",
    "\n",
    "# El resultado será una lista 'consonants' que contiene todos los caracteres que son consonantes en la oración.\n",
    "consonants"
   ]
  },
  {
   "cell_type": "code",
   "execution_count": 32,
   "metadata": {},
   "outputs": [
    {
     "data": {
      "text/plain": [
       "[1.25, 10.22, 3.78, 1.16]"
      ]
     },
     "execution_count": 32,
     "metadata": {},
     "output_type": "execute_result"
    }
   ],
   "source": [
    "# Definimos una lista de precios originales que contiene valores positivos y negativos.\n",
    "original_prices = [1.25, -9.45, 10.22, 3.78, -5.92, 1.16]\n",
    "\n",
    "# Usamos una comprensión de lista para crear la lista 'prices'.\n",
    "# La comprensión de lista recorre cada elemento en 'original_prices' y agrega solo los valores que son mayores que 0.\n",
    "prices = [i for i in original_prices if i > 0]\n",
    "\n",
    "# El resultado será una nueva lista 'prices' que contiene solo los valores positivos de 'original_prices'.\n",
    "prices"
   ]
  },
  {
   "cell_type": "code",
   "execution_count": 33,
   "metadata": {},
   "outputs": [
    {
     "data": {
      "text/plain": [
       "[1.25, 0, 10.22, 3.78, 0, 1.16]"
      ]
     },
     "execution_count": 33,
     "metadata": {},
     "output_type": "execute_result"
    }
   ],
   "source": [
    "# Usamos una comprensión de lista para crear la lista 'prices'.\n",
    "# La comprensión de lista recorre cada elemento en 'original_prices' y, si es mayor que 0, lo mantiene; de lo contrario, lo reemplaza por 0.\n",
    "prices = [i if i > 0 else 0 for i in original_prices]\n",
    "prices"
   ]
  },
  {
   "cell_type": "code",
   "execution_count": 34,
   "metadata": {},
   "outputs": [
    {
     "data": {
      "text/plain": [
       "{'a', 'e', 'i', 'u'}"
      ]
     },
     "execution_count": 34,
     "metadata": {},
     "output_type": "execute_result"
    }
   ],
   "source": [
    "#SET COMPREHENSIONS\n",
    "# Definimos una cita (quote).\n",
    "quote = \"life, uh, finds a way\"\n",
    "\n",
    "# Usamos una comprensión de conjunto para crear el conjunto 'unique_vowels'.\n",
    "# La comprensión de conjunto recorre cada carácter en la cita y agrega solo las vocales únicas ('aeiou') al conjunto.\n",
    "unique_vowels = {i for i in quote if i in 'aeiou'}\n",
    "\n",
    "# El resultado será un conjunto 'unique_vowels' que contiene las vocales únicas que aparecen en la cita.\n",
    "unique_vowels"
   ]
  },
  {
   "cell_type": "code",
   "execution_count": 35,
   "metadata": {},
   "outputs": [
    {
     "name": "stdout",
     "output_type": "stream",
     "text": [
      "['E', 'M', 'A', 'Y', 'U', 'S', 'C', 'U', 'L', 'A', 'S', 'O']\n",
      "{'M', 'L', 'E', 'C', 'Y', 'A', 'O', 'S', 'U'}\n"
     ]
    }
   ],
   "source": [
    "#PRACTICA\n",
    "#EXTRAER DE UNA FRASE CON MAYUSCULAS, LAS LETRAS MAYUSCULAS USANDO LIST COMPREHENSIONS. ¿Cómo elimino duplicados?\n",
    "frase = \"Existen algunas MAYUSCULAS no es ciertO\"\n",
    "\n",
    "# Usamos una comprensión de lista para crear la lista 'mayuscula' que contiene letras mayúsculas.\n",
    "mayuscula = [m for m in frase if m.isupper()]\n",
    "print(mayuscula)\n",
    "\n",
    "# Usamos una comprensión de conjunto para crear el conjunto 'umayuscula' que contiene letras mayúsculas únicas.\n",
    "umayuscula = {m for m in frase if m.isupper()}\n",
    "print(umayuscula)"
   ]
  },
  {
   "cell_type": "markdown",
   "metadata": {},
   "source": [
    "## FUNCIONES LAMBDA"
   ]
  },
  {
   "cell_type": "code",
   "execution_count": 36,
   "metadata": {},
   "outputs": [],
   "source": [
    "#referencia https://realpython.com/python-lambda/"
   ]
  },
  {
   "cell_type": "markdown",
   "metadata": {},
   "source": [
    "- La expresión lambda x, y: x + y define una función lambda que toma dos argumentos x e y y devuelve su suma. Luego, _(1, 2) parece ser un intento de llamar a esa función lambda con los argumentos 1 y 2."
   ]
  },
  {
   "cell_type": "code",
   "execution_count": 37,
   "metadata": {},
   "outputs": [
    {
     "data": {
      "text/plain": [
       "<function __main__.<lambda>(x, y)>"
      ]
     },
     "execution_count": 37,
     "metadata": {},
     "output_type": "execute_result"
    }
   ],
   "source": [
    "# Definimos la función lambda y la asignamos a una variable llamada 'suma'.\n",
    "lambda x, y: x + y"
   ]
  },
  {
   "cell_type": "markdown",
   "metadata": {},
   "source": [
    "- Sin embargo, en Python, no es común o convencional utilizar _ como el nombre de una función o variable."
   ]
  },
  {
   "cell_type": "code",
   "execution_count": 38,
   "metadata": {},
   "outputs": [
    {
     "data": {
      "text/plain": [
       "3"
      ]
     },
     "execution_count": 38,
     "metadata": {},
     "output_type": "execute_result"
    }
   ],
   "source": [
    "_(1, 2)"
   ]
  },
  {
   "cell_type": "markdown",
   "metadata": {},
   "source": [
    "- La expresión (lambda x, y: x + y)(2, 3) representa una función lambda que toma dos argumentos x e y y devuelve la suma de esos argumentos. Luego, la función lambda se llama inmediatamente con los valores 2 y 3 como argumentos.\n",
    "- El resultado de esta expresión será 5, ya que 2 + 3 = 5."
   ]
  },
  {
   "cell_type": "code",
   "execution_count": 39,
   "metadata": {},
   "outputs": [
    {
     "data": {
      "text/plain": [
       "5"
      ]
     },
     "execution_count": 39,
     "metadata": {},
     "output_type": "execute_result"
    }
   ],
   "source": [
    "(lambda x, y: x + y)(2, 3)"
   ]
  },
  {
   "cell_type": "code",
   "execution_count": 40,
   "metadata": {},
   "outputs": [],
   "source": [
    "# Luego, llamamos inmediatamente a la función lambda con los argumentos 2 y 3, y almacenamos el resultado en la variable res.\n",
    "res = (lambda x, y: x + y)(2, 3)"
   ]
  },
  {
   "cell_type": "code",
   "execution_count": 41,
   "metadata": {},
   "outputs": [
    {
     "data": {
      "text/plain": [
       "5"
      ]
     },
     "execution_count": 41,
     "metadata": {},
     "output_type": "execute_result"
    }
   ],
   "source": [
    "# Imprimimos el valor de res, que contendrá la suma de 2 y 3.\n",
    "res"
   ]
  },
  {
   "cell_type": "code",
   "execution_count": 42,
   "metadata": {},
   "outputs": [
    {
     "data": {
      "text/plain": [
       "'odd'"
      ]
     },
     "execution_count": 42,
     "metadata": {},
     "output_type": "execute_result"
    }
   ],
   "source": [
    "# En este caso, 3 % 2 es igual a 1, lo que significa que x es impar, por lo que la expresión devuelve 'odd'.\n",
    "# El resultado se almacena en la variable 'resultado'.\n",
    "(lambda x:\n",
    "(x % 2 and 'odd' or 'even'))(3)"
   ]
  },
  {
   "cell_type": "code",
   "execution_count": 43,
   "metadata": {},
   "outputs": [
    {
     "data": {
      "text/plain": [
       "6"
      ]
     },
     "execution_count": 43,
     "metadata": {},
     "output_type": "execute_result"
    }
   ],
   "source": [
    "# Definimos una función lambda que toma tres argumentos, x, y, y z, y devuelve la suma de esos argumentos.\n",
    "(lambda x, y, z: x + y + z)(1, 2, 3)"
   ]
  },
  {
   "cell_type": "code",
   "execution_count": 44,
   "metadata": {},
   "outputs": [
    {
     "data": {
      "text/plain": [
       "6"
      ]
     },
     "execution_count": 44,
     "metadata": {},
     "output_type": "execute_result"
    }
   ],
   "source": [
    "# Definimos una función lambda que toma tres argumentos: x, y y z, con un valor predeterminado de z=3.\n",
    "# La función devuelve la suma de x, y y z.\n",
    "(lambda x, y, z=3: x + y + z)(1, 2)"
   ]
  },
  {
   "cell_type": "code",
   "execution_count": 45,
   "metadata": {},
   "outputs": [
    {
     "data": {
      "text/plain": [
       "6"
      ]
     },
     "execution_count": 45,
     "metadata": {},
     "output_type": "execute_result"
    }
   ],
   "source": [
    "# Luego, llamamos inmediatamente a la función lambda con el valor 1 para x y 2 para y.\n",
    "# Como z tiene un valor predeterminado de 3, no es necesario proporcionar un tercer argumento.\n",
    "(lambda x, y, z=3: x + y + z)(1, y=2)"
   ]
  },
  {
   "cell_type": "code",
   "execution_count": 46,
   "metadata": {},
   "outputs": [
    {
     "data": {
      "text/plain": [
       "6"
      ]
     },
     "execution_count": 46,
     "metadata": {},
     "output_type": "execute_result"
    }
   ],
   "source": [
    "# Definimos una función lambda que toma un número variable de argumentos (*args) y devuelve la suma de todos ellos.\n",
    "(lambda *args: sum(args))(1,2,3)"
   ]
  },
  {
   "cell_type": "code",
   "execution_count": 47,
   "metadata": {},
   "outputs": [
    {
     "data": {
      "text/plain": [
       "6"
      ]
     },
     "execution_count": 47,
     "metadata": {},
     "output_type": "execute_result"
    }
   ],
   "source": [
    "# Definimos una función lambda que toma un número variable de argumentos con nombre (**kwargs).\n",
    "# La función devuelve la suma de los valores de todos los argumentos con nombre.\n",
    "(lambda **kwargs: sum(kwargs.values()))(one=1, two=2, three=3)"
   ]
  },
  {
   "cell_type": "code",
   "execution_count": 48,
   "metadata": {},
   "outputs": [
    {
     "data": {
      "text/plain": [
       "6"
      ]
     },
     "execution_count": 48,
     "metadata": {},
     "output_type": "execute_result"
    }
   ],
   "source": [
    "(lambda x, *, y=0, z=0: x + y + z)(1, y=2, z=3)"
   ]
  },
  {
   "cell_type": "code",
   "execution_count": 49,
   "metadata": {},
   "outputs": [
    {
     "name": "stdout",
     "output_type": "stream",
     "text": [
      "['id1', 'id100', 'id2', 'id22', 'id3', 'id30']\n"
     ]
    }
   ],
   "source": [
    "#uso con funciones\n",
    "# Definimos una lista de identificadores (cadenas de texto).\n",
    "ids = ['id1', 'id2', 'id30', 'id3', 'id22', 'id100']\n",
    "# Imprimimos la lista ordenada utilizando la función sorted().\n",
    "# Por defecto, sorted() realiza una ordenación lexicográfica (orden alfabético) de las cadenas de texto.\n",
    "# Esto significa que los elementos se ordenarán en función de su valor alfabético, en lugar de su valor numérico.\n",
    "print(sorted(ids)) # Lexicographic sort"
   ]
  },
  {
   "cell_type": "code",
   "execution_count": 50,
   "metadata": {},
   "outputs": [
    {
     "name": "stdout",
     "output_type": "stream",
     "text": [
      "['id1', 'id2', 'id3', 'id22', 'id30', 'id100']\n"
     ]
    }
   ],
   "source": [
    "# Utilizamos la función sorted() con un argumento 'key' para realizar una ordenación numérica en lugar de lexicográfica.\n",
    "# El argumento 'key' toma una función lambda que extrae el valor numérico de cada cadena de identificador.\n",
    "# La función lambda toma cada elemento 'x' de la lista y convierte la subcadena desde el tercer carácter en adelante a un entero.\n",
    "# Luego, los elementos se ordenan en función de esos valores numéricos.\n",
    "sorted_ids = sorted(ids, key=lambda x: int(x[2:])) # Integer sort\n",
    "print(sorted_ids)"
   ]
  },
  {
   "cell_type": "markdown",
   "metadata": {},
   "source": [
    "## MAP"
   ]
  },
  {
   "cell_type": "code",
   "execution_count": 51,
   "metadata": {},
   "outputs": [],
   "source": [
    "#referencia https://www.learnpython.org/en/Map,_Filter,_Reduce"
   ]
  },
  {
   "cell_type": "markdown",
   "metadata": {},
   "source": [
    "La función map se utiliza para aplicar una función a cada elemento de un iterable (como una lista) y crear una nueva lista con los resultados. Es útil para transformar o modificar los elementos de una lista de manera eficiente."
   ]
  },
  {
   "cell_type": "code",
   "execution_count": 72,
   "metadata": {},
   "outputs": [
    {
     "name": "stdout",
     "output_type": "stream",
     "text": [
      "['ALFRED', 'TABITHA', 'WILLIAM', 'ARLA']\n"
     ]
    }
   ],
   "source": [
    "#sin map\n",
    "# Definimos una lista de nombres de mascotas en minúsculas.\n",
    "my_pets = ['alfred', 'tabitha', 'william', 'arla']\n",
    "\n",
    "# Creamos una lista vacía llamada 'uppered_pets' para almacenar los nombres de mascotas en mayúsculas.\n",
    "uppered_pets = []\n",
    "\n",
    "# Iteramos a través de la lista 'my_pets' utilizando un bucle for.\n",
    "for pet in my_pets:\n",
    "    # Convertimos cada nombre de mascota a mayúsculas utilizando el método upper() de las cadenas.\n",
    "    pet_ = pet.upper()\n",
    "    \n",
    "    # Agregamos el nombre de mascota en mayúsculas a la lista 'uppered_pets'.\n",
    "    uppered_pets.append(pet_)\n",
    "\n",
    "# Imprimimos la lista 'uppered_pets' que contiene los nombres de mascotas en mayúsculas.\n",
    "print(uppered_pets)"
   ]
  },
  {
   "cell_type": "code",
   "execution_count": 73,
   "metadata": {},
   "outputs": [
    {
     "name": "stdout",
     "output_type": "stream",
     "text": [
      "['ALFRED', 'TABITHA', 'WILLIAM', 'ARLA']\n"
     ]
    }
   ],
   "source": [
    "#con map\n",
    "# Definimos una lista de nombres de mascotas en minúsculas.\n",
    "my_pets = ['alfred', 'tabitha', 'william', 'arla']\n",
    "\n",
    "# Utilizamos una comprensión de lista para convertir cada nombre de mascota a mayúsculas utilizando str.upper().\n",
    "uppered_pets = [pet.upper() for pet in my_pets]\n",
    "\n",
    "# Imprimimos la lista 'uppered_pets' que contiene los nombres de mascotas en mayúsculas.\n",
    "print(uppered_pets)"
   ]
  },
  {
   "cell_type": "code",
   "execution_count": 74,
   "metadata": {},
   "outputs": [
    {
     "name": "stdout",
     "output_type": "stream",
     "text": [
      "[('a', 1), ('b', 2), ('c', 3), ('d', 4), ('e', 5)]\n"
     ]
    }
   ],
   "source": [
    "# Definimos dos listas, una de cadenas de texto y otra de números.\n",
    "my_strings = ['a', 'b', 'c', 'd', 'e']\n",
    "my_numbers = [1, 2, 3, 4, 5]\n",
    "\n",
    "# Utilizamos la función map() junto con una función lambda para combinar las dos listas en una lista de tuplas.\n",
    "# La función lambda toma un elemento de cada lista y crea una tupla con esos elementos.\n",
    "results = list(map(lambda x, y: (x, y), my_strings, my_numbers))\n",
    "\n",
    "# Imprimimos la lista 'results' que contiene las tuplas formadas por las cadenas y los números.\n",
    "print(results)"
   ]
  },
  {
   "cell_type": "code",
   "execution_count": 75,
   "metadata": {},
   "outputs": [
    {
     "name": "stdout",
     "output_type": "stream",
     "text": [
      "[2, 4, 6, 8, 10]\n"
     ]
    }
   ],
   "source": [
    "# Duplicar cada número en la lista\n",
    "numbers = [1, 2, 3, 4, 5]\n",
    "doubled = list(map(lambda x: x * 2, numbers))\n",
    "print(doubled)\n",
    "# Resultado: [2, 4, 6, 8, 10]"
   ]
  },
  {
   "cell_type": "markdown",
   "metadata": {},
   "source": [
    "## FILTER"
   ]
  },
  {
   "cell_type": "markdown",
   "metadata": {},
   "source": [
    "La función filter se utiliza para filtrar elementos de una lista según una condición específica. Devuelve una nueva lista con los elementos que cumplen la condición. "
   ]
  },
  {
   "cell_type": "code",
   "execution_count": 76,
   "metadata": {},
   "outputs": [
    {
     "name": "stdout",
     "output_type": "stream",
     "text": [
      "[90, 76, 88, 81]\n"
     ]
    }
   ],
   "source": [
    "#filter 1\n",
    "# Definimos una lista de puntuaciones.\n",
    "scores = [66, 90, 68, 59, 76, 60, 88, 74, 81, 65]\n",
    "\n",
    "# Definimos una función llamada 'is_A_student' que toma una puntuación como argumento y devuelve True si es mayor que 75.\n",
    "def is_A_student(score):\n",
    "    return score > 75\n",
    "\n",
    "# Utilizamos la función filter() para filtrar las puntuaciones que cumplen con la condición de 'is_A_student'.\n",
    "# El resultado es una lista de las puntuaciones que son mayores que 75.\n",
    "over_75 = list(filter(is_A_student, scores))\n",
    "\n",
    "# Imprimimos la lista 'over_75' que contiene las puntuaciones mayores que 75.\n",
    "print(over_75)"
   ]
  },
  {
   "cell_type": "code",
   "execution_count": 77,
   "metadata": {},
   "outputs": [
    {
     "name": "stdout",
     "output_type": "stream",
     "text": [
      "['madam', 'anutforajaroftuna']\n"
     ]
    }
   ],
   "source": [
    "#filter 2\n",
    "# Definimos una tupla de palabras.\n",
    "dromes = (\"demigod\", \"rewire\", \"madam\", \"freer\", \"anutforajaroftuna\", \"kiosk\")\n",
    "\n",
    "# Utilizamos la función filter() con una función lambda para filtrar las palabras palíndromas.\n",
    "palindromes = list(filter(lambda word: word == word[::-1], dromes))\n",
    "\n",
    "# Imprimimos las palabras palíndromas.\n",
    "print(palindromes)"
   ]
  },
  {
   "cell_type": "code",
   "execution_count": 78,
   "metadata": {},
   "outputs": [],
   "source": [
    "# Filtrar números pares de la lista\n",
    "numbers = [1, 2, 3, 4, 5]\n",
    "even_numbers = list(filter(lambda x: x % 2 == 0, numbers))\n",
    "# Resultado: [2, 4]"
   ]
  },
  {
   "cell_type": "markdown",
   "metadata": {},
   "source": [
    "## REDUCE"
   ]
  },
  {
   "cell_type": "markdown",
   "metadata": {},
   "source": [
    "La función reduce no se encuentra en el espacio de nombres global en Python 3, pero puedes importarla desde el módulo functools. Reduce se utiliza para aplicar una función de manera acumulativa a los elementos de una lista, de izquierda a derecha, para reducir la lista a un solo valor"
   ]
  },
  {
   "cell_type": "code",
   "execution_count": 79,
   "metadata": {},
   "outputs": [
    {
     "name": "stdout",
     "output_type": "stream",
     "text": [
      "[('a', 1), ('b', 2), ('c', 3), ('d', 4), ('e', 5)]\n"
     ]
    }
   ],
   "source": [
    "# Definimos dos listas, una de cadenas de texto y otra de números.\n",
    "my_strings = ['a', 'b', 'c', 'd', 'e']\n",
    "my_numbers = [1, 2, 3, 4, 5]\n",
    "\n",
    "# Utilizamos una comprensión de listabers))\n",
    "\n",
    "# Imprimimos la lista 'results' que contiene las tuplas formadas por las cadenas y los números.\n",
    "print(results)"
   ]
  },
  {
   "cell_type": "code",
   "execution_count": 82,
   "metadata": {},
   "outputs": [
    {
     "name": "stdout",
     "output_type": "stream",
     "text": [
      "78\n"
     ]
    }
   ],
   "source": [
    "# valor inicial\n",
    "# Importamos la función 'reduce' de la biblioteca 'functools'.\n",
    "from functools import reduce\n",
    "\n",
    "# Definimos una lista de números.\n",
    "numbers = [3, 4, 6, 9, 34, 12]\n",
    "\n",
    "# Definimos una función llamada 'custom_sum' que toma dos números como argumentos y devuelve su suma.\n",
    "def custom_sum(first, second):\n",
    "    return first + second\n",
    "\n",
    "# Utilizamos la función 'reduce' para aplicar la función 'custom_sum' de manera acumulativa a los elementos de la lista 'numbers'.\n",
    "# Específicamente, comenzamos con un valor inicial de 10 y luego aplicamos la función a los elementos de la lista.\n",
    "# Esto calculará la suma de todos los números en la lista, comenzando desde 10.\n",
    "result = reduce(custom_sum, numbers, 10)\n",
    "\n",
    "# Imprimimos el resultado, que es la suma de los números en la lista, comenzando desde 10.\n",
    "print(result)"
   ]
  },
  {
   "cell_type": "code",
   "execution_count": 83,
   "metadata": {},
   "outputs": [
    {
     "name": "stdout",
     "output_type": "stream",
     "text": [
      "68\n"
     ]
    }
   ],
   "source": [
    "# Importamos la función 'reduce' de la biblioteca 'functools'.\n",
    "from functools import reduce\n",
    "\n",
    "# Definimos una lista de números.\n",
    "numbers = [3, 4, 6, 9, 34, 12]\n",
    "\n",
    "# Definimos una función llamada 'custom_sum' que toma dos números como argumentos y devuelve su suma.\n",
    "def custom_sum(first, second):\n",
    "    return first + second\n",
    "\n",
    "# Utilizamos la función 'reduce' para aplicar la función 'custom_sum' de manera acumulativa a los elementos de la lista 'numbers'.\n",
    "# Esto calculará la suma de todos los números en la lista.\n",
    "result = reduce(custom_sum, numbers)\n",
    "\n",
    "# Imprimimos el resultado, que es la suma de los números en la lista.\n",
    "print(result)"
   ]
  },
  {
   "cell_type": "markdown",
   "metadata": {},
   "source": [
    "## ZIP"
   ]
  },
  {
   "cell_type": "markdown",
   "metadata": {},
   "source": [
    "La función zip se utiliza para combinar dos o más iterables en pares de elementos correspondientes. Crea un iterador que genera tuplas con elementos de las listas de entrada"
   ]
  },
  {
   "cell_type": "code",
   "execution_count": 84,
   "metadata": {},
   "outputs": [],
   "source": [
    "# Combinar dos listas en pares\n",
    "names = ['Alice', 'Bob', 'Charlie']\n",
    "scores = [85, 92, 78]\n",
    "name_score_pairs = list(zip(names, scores))\n",
    "# Resultado: [('Alice', 85), ('Bob', 92), ('Charlie', 78)]"
   ]
  },
  {
   "cell_type": "markdown",
   "metadata": {},
   "source": [
    "## Iterdores"
   ]
  },
  {
   "cell_type": "markdown",
   "metadata": {},
   "source": [
    "Un iterador es un objeto en Python que permite recorrer una secuencia de elementos, como una lista, una cadena de texto o incluso una secuencia personalizada. Los iteradores deben implementar dos métodos: __iter__ (para devolver el propio iterador) y __next__ (para obtener el próximo elemento de la secuencia)"
   ]
  },
  {
   "cell_type": "code",
   "execution_count": 85,
   "metadata": {},
   "outputs": [
    {
     "name": "stdout",
     "output_type": "stream",
     "text": [
      "0\n",
      "1\n",
      "2\n",
      "3\n",
      "4\n"
     ]
    }
   ],
   "source": [
    "class MiIterador:\n",
    "    def __init__(self, max_value):\n",
    "        self.max_value = max_value\n",
    "        self.current = 0\n",
    "\n",
    "    def __iter__(self):\n",
    "        return self\n",
    "\n",
    "    def __next__(self):\n",
    "        if self.current < self.max_value:\n",
    "            self.current += 1\n",
    "            return self.current - 1\n",
    "        else:\n",
    "            raise StopIteration\n",
    "\n",
    "# Uso del iterador\n",
    "mi_iterador = MiIterador(5)\n",
    "for elemento in mi_iterador:\n",
    "    print(elemento)"
   ]
  },
  {
   "cell_type": "markdown",
   "metadata": {},
   "source": [
    "## GENERATORS"
   ]
  },
  {
   "cell_type": "markdown",
   "metadata": {},
   "source": [
    "Un generador es una forma más concisa y eficiente de crear un iterador en Python. En lugar de definir una clase completa con métodos __iter__ y __next__, puedes utilizar funciones generadoras. Las funciones generadoras utilizan la palabra clave yield para producir un valor y, en ese momento, \"pausan\" la función para permitir que el código que lo llama continúe."
   ]
  },
  {
   "cell_type": "code",
   "execution_count": 86,
   "metadata": {},
   "outputs": [
    {
     "name": "stdout",
     "output_type": "stream",
     "text": [
      "0\n",
      "1\n",
      "2\n",
      "3\n",
      "4\n"
     ]
    }
   ],
   "source": [
    "def mi_generador(max_value):\n",
    "    current = 0\n",
    "    while current < max_value:\n",
    "        yield current\n",
    "        current += 1\n",
    "\n",
    "# Uso del generador\n",
    "mi_iterador = mi_generador(5)\n",
    "for elemento in mi_iterador:\n",
    "    print(elemento)"
   ]
  },
  {
   "cell_type": "code",
   "execution_count": 87,
   "metadata": {},
   "outputs": [],
   "source": [
    "#referencia https://realpython.com/introduction-to-python-generators/"
   ]
  },
  {
   "cell_type": "code",
   "execution_count": 88,
   "metadata": {},
   "outputs": [],
   "source": [
    "# Creamos una lista de comprensión para calcular los cuadrados de números del 0 al 4.\n",
    "nums_squared_lc = [num**2 for num in range(5)]\n",
    "\n",
    "# Creamos una expresión de generador para calcular los cuadrados de números del 0 al 4.\n",
    "nums_squared_gc = (num**2 for num in range(5))"
   ]
  },
  {
   "cell_type": "code",
   "execution_count": 89,
   "metadata": {},
   "outputs": [
    {
     "data": {
      "text/plain": [
       "[0, 1, 4, 9, 16]"
      ]
     },
     "execution_count": 89,
     "metadata": {},
     "output_type": "execute_result"
    }
   ],
   "source": [
    "# Cuando imprimimos nums_squared_lc, obtenemos la lista completa de cuadrados.\n",
    "nums_squared_lc"
   ]
  },
  {
   "cell_type": "code",
   "execution_count": 90,
   "metadata": {},
   "outputs": [
    {
     "data": {
      "text/plain": [
       "<generator object <genexpr> at 0x7f645acc5770>"
      ]
     },
     "execution_count": 90,
     "metadata": {},
     "output_type": "execute_result"
    }
   ],
   "source": [
    "# Al imprimir nums_squared_gc, no obtenemos la lista completa, sino un generador.\n",
    "nums_squared_gc"
   ]
  },
  {
   "cell_type": "code",
   "execution_count": 91,
   "metadata": {},
   "outputs": [
    {
     "name": "stdout",
     "output_type": "stream",
     "text": [
      "Tamaño en bytes de la lista: 85176\n"
     ]
    }
   ],
   "source": [
    "# Importamos el módulo sys\n",
    "import sys\n",
    "\n",
    "# Creamos una lista de comprensión con los cuadrados de los números del 0 al 9999, multiplicados por 2\n",
    "nums_squared_lc = [i * 2 for i in range(10000)]\n",
    "\n",
    "# Obtenemos el tamaño en bytes de la lista y lo imprimimos\n",
    "print(\"Tamaño en bytes de la lista:\", sys.getsizeof(nums_squared_lc))"
   ]
  },
  {
   "cell_type": "code",
   "execution_count": 92,
   "metadata": {},
   "outputs": [
    {
     "name": "stdout",
     "output_type": "stream",
     "text": [
      "Tamaño en bytes del generador 'nums_squared_gc': 104\n"
     ]
    }
   ],
   "source": [
    "# Importamos el módulo sys para obtener información del sistema.\n",
    "import sys\n",
    "\n",
    "# Creamos un generador de expresión llamado 'nums_squared_gc'.\n",
    "# Este generador genera los cuadrados de los números del 0 al 9999.\n",
    "nums_squared_gc = (i ** 2 for i in range(10000))\n",
    "\n",
    "# Utilizamos la función 'sys.getsizeof()' para obtener el tamaño en bytes del generador.\n",
    "size_of_generator = sys.getsizeof(nums_squared_gc)\n",
    "\n",
    "# Imprimimos el tamaño en bytes del generador, que será mucho menor que el de una lista equivalente.\n",
    "print(\"Tamaño en bytes del generador 'nums_squared_gc':\", size_of_generator)"
   ]
  },
  {
   "cell_type": "code",
   "execution_count": 93,
   "metadata": {},
   "outputs": [
    {
     "data": {
      "text/plain": [
       "<generator object <genexpr> at 0x7f645acc5b60>"
      ]
     },
     "execution_count": 93,
     "metadata": {},
     "output_type": "execute_result"
    }
   ],
   "source": [
    "nums_squared_gc"
   ]
  },
  {
   "cell_type": "code",
   "execution_count": 94,
   "metadata": {},
   "outputs": [
    {
     "data": {
      "text/plain": [
       "0"
      ]
     },
     "execution_count": 94,
     "metadata": {},
     "output_type": "execute_result"
    }
   ],
   "source": [
    "# Llamamos a next() para obtener los primeros valores de la secuencia\n",
    "next(nums_squared_gc)"
   ]
  },
  {
   "cell_type": "code",
   "execution_count": 95,
   "metadata": {},
   "outputs": [
    {
     "data": {
      "text/plain": [
       "1"
      ]
     },
     "execution_count": 95,
     "metadata": {},
     "output_type": "execute_result"
    }
   ],
   "source": [
    "next(nums_squared_gc)"
   ]
  },
  {
   "cell_type": "code",
   "execution_count": 96,
   "metadata": {},
   "outputs": [
    {
     "data": {
      "text/plain": [
       "4"
      ]
     },
     "execution_count": 96,
     "metadata": {},
     "output_type": "execute_result"
    }
   ],
   "source": [
    "next(nums_squared_gc)"
   ]
  },
  {
   "cell_type": "code",
   "execution_count": 97,
   "metadata": {},
   "outputs": [
    {
     "data": {
      "text/plain": [
       "9"
      ]
     },
     "execution_count": 97,
     "metadata": {},
     "output_type": "execute_result"
    }
   ],
   "source": [
    "next(nums_squared_gc)"
   ]
  },
  {
   "cell_type": "markdown",
   "metadata": {},
   "source": [
    "- Una función generadora con yield para generar los cuadrados de los números en un bucle infinito hasta que se alcanza un cuadrado mayor que 100"
   ]
  },
  {
   "cell_type": "code",
   "execution_count": 98,
   "metadata": {},
   "outputs": [
    {
     "name": "stdout",
     "output_type": "stream",
     "text": [
      "1\n",
      "4\n",
      "9\n",
      "16\n",
      "25\n",
      "36\n",
      "49\n",
      "64\n",
      "81\n",
      "100\n"
     ]
    }
   ],
   "source": [
    "# Definimos una función generadora llamada 'nextSquare'\n",
    "def nextSquare(): \n",
    "    i = 1\n",
    "  \n",
    "    # Iniciamos un bucle infinito\n",
    "    while True: \n",
    "        # Usamos 'yield' para generar el cuadrado de 'i' en cada iteración\n",
    "        yield i*i                 \n",
    "        i += 1 \n",
    "\n",
    "# Creamos un bucle 'for' que itera sobre los valores generados por la función generadora\n",
    "for num in nextSquare(): \n",
    "    if num > 100: \n",
    "        break  # Salimos del bucle si el cuadrado es mayor que 100\n",
    "    print(num)  # Imprimimos el cuadrado en cada iteración"
   ]
  },
  {
   "cell_type": "code",
   "execution_count": 99,
   "metadata": {},
   "outputs": [
    {
     "name": "stdout",
     "output_type": "stream",
     "text": [
      "Suma total de fondos para rondas 'a': 4376015000\n"
     ]
    }
   ],
   "source": [
    "# Nombre del archivo CSV\n",
    "file_name = \"techcrunch.csv\"\n",
    "\n",
    "# Abrimos el archivo y creamos un generador 'lines' para las líneas del archivo\n",
    "lines = (line for line in open(file_name))\n",
    "\n",
    "# Creamos un generador 'list_line' que divide cada línea en una lista de valores separados por comas\n",
    "list_line = (s.rstrip().split(\",\") for s in lines)\n",
    "\n",
    "# Obtenemos los nombres de las columnas de la primera línea del archivo CSV\n",
    "cols = next(list_line)\n",
    "\n",
    "# Creamos un generador 'company_dicts' que convierte cada línea en un diccionario con las columnas como claves\n",
    "company_dicts = (dict(zip(cols, data)) for data in list_line)\n",
    "\n",
    "# Creamos un generador 'funding' que extrae el valor de 'raisedAmt' como un entero para las filas donde 'round' es 'a'\n",
    "funding = (int(company_dict[\"raisedAmt\"]) for company_dict in company_dicts if company_dict[\"round\"] == \"a\")\n",
    "\n",
    "# Calculamos la suma total de 'raisedAmt' para las rondas 'a'\n",
    "total_series_a = sum(funding)\n",
    "\n",
    "# Imprimimos el resultado, que es la suma total de fondos para rondas 'a'\n",
    "\n",
    "print(\"Suma total de fondos para rondas 'a':\", total_series_a)"
   ]
  },
  {
   "cell_type": "markdown",
   "metadata": {},
   "source": [
    "## DECORATORS"
   ]
  },
  {
   "cell_type": "code",
   "execution_count": 100,
   "metadata": {},
   "outputs": [],
   "source": [
    "#referencia https://realpython.com/primer-on-python-decorators/"
   ]
  },
  {
   "cell_type": "code",
   "execution_count": 101,
   "metadata": {},
   "outputs": [
    {
     "data": {
      "text/plain": [
       "3"
      ]
     },
     "execution_count": 101,
     "metadata": {},
     "output_type": "execute_result"
    }
   ],
   "source": [
    "# Definimos una función llamada 'add_one' que toma un número como argumento.\n",
    "# La función devuelve el número aumentado en 1.\n",
    "def add_one(number):\n",
    "    return number + 1\n",
    "\n",
    "# Llamamos a la función 'add_one' con el argumento 2.\n",
    "# El resultado será 2 + 1, que es igual a 3.\n",
    "add_one(2)"
   ]
  },
  {
   "cell_type": "code",
   "execution_count": 102,
   "metadata": {},
   "outputs": [],
   "source": [
    "# Definimos un decorador llamado 'my_decorator'.\n",
    "# El decorador toma una función 'func' como argumento y devuelve una función 'wrapper'.\n",
    "def my_decorator(func):\n",
    "    # Definimos la función 'wrapper', que actúa como un envoltorio alrededor de 'func'.\n",
    "    def wrapper():\n",
    "        print(\"Something is happening before the function is called.\")\n",
    "        func()  # Llamamos a 'func' dentro de 'wrapper'.\n",
    "        print(\"Something is happening after the function is called.\")\n",
    "    # Devolvemos la función 'wrapper' como resultado del decorador.\n",
    "    return wrapper\n",
    "    \n",
    "# Aplicamos el decorador '@my_decorator' a la función 'say_whee'.\n",
    "# Esto significa que 'say_whee' se ejecutará dentro del contexto de 'my_decorator'.\n",
    "@my_decorator\n",
    "def say_whee_decorated():\n",
    "    print(\"Whee!\")"
   ]
  },
  {
   "cell_type": "code",
   "execution_count": 103,
   "metadata": {},
   "outputs": [
    {
     "name": "stdout",
     "output_type": "stream",
     "text": [
      "Something is happening before the function is called.\n",
      "Whee!\n",
      "Something is happening after the function is called.\n"
     ]
    }
   ],
   "source": [
    "say_whee_decorated()"
   ]
  },
  {
   "cell_type": "code",
   "execution_count": 104,
   "metadata": {},
   "outputs": [],
   "source": [
    "# Definimos un decorador llamado 'do_twice'.\n",
    "# El decorador toma una función 'func' como argumento.\n",
    "def do_twice(func):\n",
    "    # Definimos una función 'wrapper_do_twice'.\n",
    "    # Esta función ejecuta 'func' dos veces.\n",
    "    def wrapper_do_twice():\n",
    "        func()  # Ejecutamos 'func' la primera vez.\n",
    "        func()  # Ejecutamos 'func' la segunda vez.\n",
    "    # Devolvemos la función 'wrapper_do_twice' como resultado del decorador.\n",
    "    return wrapper_do_twice"
   ]
  },
  {
   "cell_type": "code",
   "execution_count": 105,
   "metadata": {},
   "outputs": [],
   "source": [
    "# Definimos una función llamada 'say_whee2'.\n",
    "@do_twice  # Aplicamos el decorador 'do_twice' a 'say_whee2'.\n",
    "def say_whee2():\n",
    "    print(\"Whee!\")"
   ]
  },
  {
   "cell_type": "code",
   "execution_count": 106,
   "metadata": {},
   "outputs": [
    {
     "name": "stdout",
     "output_type": "stream",
     "text": [
      "Whee!\n",
      "Whee!\n"
     ]
    }
   ],
   "source": [
    "say_whee2()"
   ]
  },
  {
   "cell_type": "code",
   "execution_count": 107,
   "metadata": {},
   "outputs": [],
   "source": [
    "# Definimos un decorador llamado 'do_twice2'.\n",
    "# El decorador toma una función 'func' como argumento y la ejecuta dos veces con los mismos argumentos.\n",
    "def do_twice2(func):\n",
    "    # Definimos una función 'wrapper_do_twice' que acepta cualquier número de argumentos posicionales (*args) y argumentos de palabras clave (**kwargs).\n",
    "    # Esta función ejecuta 'func' dos veces con los mismos argumentos.\n",
    "    def wrapper_do_twice(*args, **kwargs):\n",
    "        func(*args, **kwargs)  # Ejecutamos 'func' la primera vez con los mismos argumentos.\n",
    "        func(*args, **kwargs)  # Ejecutamos 'func' la segunda vez con los mismos argumentos.\n",
    "    # Devolvemos la función 'wrapper_do_twice' como resultado del decorador.\n",
    "    return wrapper_do_twice"
   ]
  },
  {
   "cell_type": "code",
   "execution_count": 108,
   "metadata": {},
   "outputs": [
    {
     "name": "stdout",
     "output_type": "stream",
     "text": [
      "Hello Serge\n",
      "Hello Serge\n"
     ]
    }
   ],
   "source": [
    "# Cuando ejecutamos la función greet(\"Serge\") \n",
    "@do_twice2 # que está decorada con @do_twice2. \n",
    "def greet(name):\n",
    "    print(\"Hello {}\".format(name))\n",
    "# La función greet se ejecuta dos veces con el mismo argumento \"Serge\".\n",
    "greet(\"Serge\")"
   ]
  },
  {
   "cell_type": "code",
   "execution_count": 109,
   "metadata": {},
   "outputs": [],
   "source": [
    "# Importamos los módulos functools y time. \n",
    "# El módulo functools se utiliza para trabajar con funciones y objetos relacionados con funciones en Python\n",
    "import functools\n",
    "import time\n",
    "\n",
    "# Definimos un decorador llamado 'slow_down'.\n",
    "# El decorador agrega un retraso de 1 segundo antes de llamar a la función decorada.\n",
    "def slow_down(func):\n",
    "    # Usamos functools.wraps para preservar la información de la función original.\n",
    "    @functools.wraps(func)\n",
    "    def wrapper_slow_down(*args, **kwargs):\n",
    "        time.sleep(1)  # Agregamos un retraso de 1 segundo.\n",
    "        return func(*args, **kwargs)  # Llamamos a la función decorada.\n",
    "    # Devolvemos la función 'wrapper_slow_down' como resultado del decorador.\n",
    "    return wrapper_slow_down\n",
    "\n",
    "# Definimos una función llamada 'countdown' que cuenta hacia atrás desde un número dado.\n",
    "@slow_down  # Aplicamos el decorador 'slow_down' a 'countdown'.\n",
    "def countdown(from_number):\n",
    "    if from_number < 1:\n",
    "        print(\"Liftoff!\")\n",
    "    else:\n",
    "        print(from_number)\n",
    "        countdown(from_number - 1)"
   ]
  },
  {
   "cell_type": "code",
   "execution_count": 110,
   "metadata": {},
   "outputs": [
    {
     "name": "stdout",
     "output_type": "stream",
     "text": [
      "10\n",
      "9\n",
      "8\n",
      "7\n",
      "6\n",
      "5\n",
      "4\n",
      "3\n",
      "2\n",
      "1\n",
      "Liftoff!\n"
     ]
    }
   ],
   "source": [
    "countdown(10)"
   ]
  },
  {
   "cell_type": "code",
   "execution_count": 111,
   "metadata": {},
   "outputs": [
    {
     "name": "stdout",
     "output_type": "stream",
     "text": [
      "##############################\n",
      "FLASH!\n",
      "##############################\n"
     ]
    }
   ],
   "source": [
    "#PRACTICA\n",
    "#Crear un decorador que imprime # 30 veces antes y despues de un texto\n",
    "def hasher(func):\n",
    "    def inner(*args, **kwargs):\n",
    "        print(\"#\" * 30)\n",
    "        func(*args, **kwargs)\n",
    "        print(\"#\" * 30)\n",
    "    return inner\n",
    "\n",
    "@hasher\n",
    "def printer(msg):\n",
    "    print(msg)\n",
    "printer(\"FLASH!\")"
   ]
  },
  {
   "cell_type": "code",
   "execution_count": null,
   "metadata": {},
   "outputs": [],
   "source": []
  }
 ],
 "metadata": {
  "kernelspec": {
   "display_name": "Python 3 (ipykernel)",
   "language": "python",
   "name": "python3"
  },
  "language_info": {
   "codemirror_mode": {
    "name": "ipython",
    "version": 3
   },
   "file_extension": ".py",
   "mimetype": "text/x-python",
   "name": "python",
   "nbconvert_exporter": "python",
   "pygments_lexer": "ipython3",
   "version": "3.10.12"
  }
 },
 "nbformat": 4,
 "nbformat_minor": 4
}
