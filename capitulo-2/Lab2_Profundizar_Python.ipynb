{
 "cells": [
  {
   "cell_type": "markdown",
   "metadata": {},
   "source": [
    "## OOP"
   ]
  },
  {
   "cell_type": "code",
   "execution_count": 1,
   "metadata": {},
   "outputs": [],
   "source": [
    "#referencia https://realpython.com/python3-object-oriented-programming/"
   ]
  },
  {
   "cell_type": "markdown",
   "metadata": {},
   "source": [
    "- este ejemplo demuestra cómo definir una clase en Python,\n",
    "- crear instancias de la clase (objetos) y acceder a los atributos y métodos de esas instancias.\n",
    "- como lo dijimos, las clases son una parte fundamental de la programación orientada a objetos en Python y se utilizan para modelar objetos del mundo real de manera efectiva."
   ]
  },
  {
   "cell_type": "code",
   "execution_count": 2,
   "metadata": {},
   "outputs": [],
   "source": [
    "# Creamos y definimos una clase llamada Dog.\n",
    "class Dog:\n",
    "    # Creamos un atributo de clase llamado species para definir la especie de todos los perros.\n",
    "    species = 'mammal'\n",
    "\n",
    "    # Definimos el método __init__ se llama automáticamente cuando creamos una nueva instancia de la clase Dog.\n",
    "    def __init__(self, name, age):\n",
    "        # Asignamos el nombre y la edad al perro.\n",
    "        self.name = name\n",
    "        self.age = age\n",
    "\n",
    "    # Este método de instancia nos permite obtener una descripción detallada del perro, incluyendo su nombre y edad.\n",
    "    def description(self):\n",
    "        return \"{} is {} years old\".format(self.name, self.age)\n",
    "\n",
    "    # Con este método de instancia, el perro puede 'hablar'. Le pasamos un sonido como argumento, y el método devuelve un mensaje que incluye el nombre del perro y el sonido que hace.\n",
    "    def speak(self, sound):\n",
    "        return \"{} says {}\".format(self.name, sound)"
   ]
  },
  {
   "cell_type": "code",
   "execution_count": 3,
   "metadata": {},
   "outputs": [],
   "source": [
    "# Creamos dos instancias de la clase Dog: dog1 y dog2.\n",
    "dog1 = Dog('Pluto', 5)  # Creamos un perro llamado Pluto de 5 años de edad.\n",
    "dog2 = Dog('Milu', 3)   # Creamos otro perro llamado Milu de 3 años de edad."
   ]
  },
  {
   "cell_type": "code",
   "execution_count": 5,
   "metadata": {},
   "outputs": [
    {
     "data": {
      "text/plain": [
       "__main__.Dog"
      ]
     },
     "execution_count": 5,
     "metadata": {},
     "output_type": "execute_result"
    }
   ],
   "source": [
    "# Comprobamos el tipo de objeto que es dog1.\n",
    "type(dog1)  # Devolverá <class '__main__.Dog'>, lo que indica que dog1 es una instancia de la clase Dog en el módulo actual."
   ]
  },
  {
   "cell_type": "markdown",
   "metadata": {},
   "source": [
    "- __init__: Este método se llama cuando se crea un objeto a partir de una clase y se utiliza para la inicialización.\n",
    "- __str__: Define la representación de cadena \"informal\" o \"amigable para el usuario\" de un objeto y se llama con la función str() o cuando se imprime el objeto.\n",
    "- __repr__: Este método define la representación de cadena \"oficial\" o \"amigable para el desarrollador\" de un objeto. Se llama con la función repr() y también se utiliza en entornos interactivos.\n",
    "- __len__: Devuelve la longitud de un objeto y se llama con la función len().\n",
    "- __getitem__ y __setitem__: Estos métodos se utilizan para implementar la indexación (por ejemplo, objeto[clave] para obtener y establecer valores).\n",
    "- __iter__ y __next__: Estos métodos se utilizan para hacer que un objeto sea iterable y se utilizan en bucles for.\n",
    "- __eq__, __ne__, __lt__, __le__, __gt__, __ge__: Estos métodos definen el comportamiento de comparación (por ejemplo, igualdad, menor que, etc.) para objetos.\n",
    "- __add__, __sub__, __mul__, __truediv__, etc.: Estos métodos definen operaciones aritméticas para objetos.\n",
    "- __enter__ y __exit__: Estos métodos se utilizan para definir un administrador de contexto para un objeto (utilizado con la declaración with).\n",
    "- __call__: Este método te permite llamar a un objeto como si fuera una función.\n",
    "- __del__: Este método se llama cuando un objeto está a punto de ser destruido, a menudo se utiliza para la limpieza."
   ]
  },
  {
   "cell_type": "code",
   "execution_count": 7,
   "metadata": {},
   "outputs": [
    {
     "name": "stdout",
     "output_type": "stream",
     "text": [
      "Pluto is 5 and Milu is 3.\n"
     ]
    }
   ],
   "source": [
    "## Accedemos a los atributos de instancia para obtener información sobre los perros.\n",
    "print(\"{} is {} and {} is {}.\".format(\n",
    "    dog1.name, dog1.age, dog2.name, dog2.age))\n",
    "\n",
    "# Esta línea imprimirá algo como: \"Pluto is 5 and Milu is 3.\""
   ]
  },
  {
   "cell_type": "code",
   "execution_count": 8,
   "metadata": {},
   "outputs": [
    {
     "name": "stdout",
     "output_type": "stream",
     "text": [
      "Pluto is a mammal!\n"
     ]
    }
   ],
   "source": [
    "# Verificamos si dog1 es un mamífero? y luego imprimimos un mensaje en consecuencia.\n",
    "if dog1.species == \"mammal\":\n",
    "    print(\"{0} is a {1}!\".format(dog1.name, dog1.species))\n",
    "\n",
    "# Si dog1.species es igual a \"mammal\", se imprimirá algo como: \"Pluto is a mammal!\""
   ]
  },
  {
   "cell_type": "code",
   "execution_count": 9,
   "metadata": {},
   "outputs": [
    {
     "name": "stdout",
     "output_type": "stream",
     "text": [
      "Pluto is 5 years old\n",
      "Pluto says Gruff Gruff\n"
     ]
    }
   ],
   "source": [
    "# Llamando a los métodos para obtener información y hacer que los perros 'ladren'.\n",
    "print(dog1.description())  # Obtenemos una descripción de Pluto, como \"Pluto tiene 5 años.\"\n",
    "print(dog1.speak(\"Gruff Gruff\"))  # Le decimos a Pluto que haga un sonido, y él responde, \"Pluto dice Gruff Gruff.\""
   ]
  },
  {
   "cell_type": "markdown",
   "metadata": {},
   "source": [
    "- Veamos la herencia que es un concepto fundamental en la programación orientada a objetos\n",
    "- esto permite que las clases compartan atributos y métodos comunes, al tiempo que pueden tener sus propios atributos y métodos específicos.\n",
    "- En este ejemplo, \"RussellTerrier\" y \"Bulldog\" son subclases de \"Dog\" y heredan sus características, pero también pueden tener comportamientos únicos."
   ]
  },
  {
   "cell_type": "code",
   "execution_count": 10,
   "metadata": {},
   "outputs": [],
   "source": [
    "# Definimos una nueva clase llamada RussellTerrier.\n",
    "# RussellTerrier hereda todos los atributos y métodos de la clase Dog.\n",
    "class RussellTerrier(Dog):\n",
    "    # RussellTerrier tiene una habilidad especial llamada \"run\".\n",
    "    def run(self, speed):\n",
    "        # Cuando corre, podemos indicar su velocidad en el mensaje.\n",
    "        return \"{} runs at {}\".format(self.name, speed)\n",
    "\n",
    "# Definimos otra nueva clase llamada Bulldog.\n",
    "# Al igual que RussellTerrier, Bulldog hereda de la clase Dog.\n",
    "class Bulldog(Dog):\n",
    "    # Bulldog tiene su propia habilidad especial llamada \"smiles\".\n",
    "    def smiles(self):\n",
    "        # Cuando sonríe, simplemente lo indicamos en el mensaje.\n",
    "        return \"{} smiles!\".format(self.name)"
   ]
  },
  {
   "cell_type": "code",
   "execution_count": 11,
   "metadata": {},
   "outputs": [
    {
     "name": "stdout",
     "output_type": "stream",
     "text": [
      "Jim is 12 years old\n",
      "Jim runs at slowly\n"
     ]
    }
   ],
   "source": [
    "# Creamos una instancia de la clase RussellTerrier llamada \"Jim\" con nombre y edad.\n",
    "jim = RussellTerrier(\"Jim\", 12)\n",
    "\n",
    "# Podemos usar los métodos heredados de la clase Dog con esta instancia.\n",
    "print(jim.description())\n",
    "# Esto imprimirá \"Jim is 12 years old.\" porque Jim hereda el método \"description\" de la clase Dog.\n",
    "\n",
    "# Pero además, RussellTerrier tiene su propia habilidad especial \"run\".\n",
    "# Jim puede correr y podemos indicar su velocidad en el mensaje.\n",
    "print(jim.run(\"slowly\"))\n",
    "# Esto imprimirá \"Jim runs slowly.\" porque Jim utiliza su habilidad especial \"run\"."
   ]
  },
  {
   "cell_type": "code",
   "execution_count": 12,
   "metadata": {},
   "outputs": [
    {
     "name": "stdout",
     "output_type": "stream",
     "text": [
      "Spot is 8 years old\n",
      "Spot smiles!\n"
     ]
    }
   ],
   "source": [
    "# Creamos una instancia de la clase Bulldog llamada \"Spot\" con nombre y edad.\n",
    "spot = Bulldog(\"Spot\", 8)\n",
    "\n",
    "# Al igual que con RussellTerrier, podemos usar los métodos heredados de la clase Dog con esta instancia.\n",
    "print(spot.description())\n",
    "# Esto imprimirá \"Spot is 8 years old.\" porque Spot hereda el método \"description\" de la clase Dog.\n",
    "\n",
    "# Pero Bulldog tiene su propia habilidad especial llamada \"smiles\".\n",
    "# Podemos ver cómo Spot muestra su sonrisa cuando usamos su habilidad especial.\n",
    "print(spot.smiles())\n",
    "# Esto imprimirá \"Spot smiles!\" porque Spot utiliza su habilidad especial \"smiles\"."
   ]
  },
  {
   "cell_type": "markdown",
   "metadata": {},
   "source": [
    "- Encapsulación: La encapsulación es un principio que se refiere a la capacidad de un objeto de ocultar sus detalles internos y exponer solo una interfaz pública. Los detalles internos, como variables y métodos, están encapsulados dentro del objeto, lo que permite el control sobre quién puede acceder y modificar esos detalles. Esto facilita la modularidad y el mantenimiento del código al reducir las dependencias y el riesgo de cambios no autorizados en los datos internos.\n",
    "- Abstracción: La abstracción es el proceso de simplificar objetos y sus interacciones al identificar las características esenciales y eliminar las no esenciales. Permite centrarse en los aspectos clave de un objeto y su funcionalidad, ignorando los detalles menos relevantes. La abstracción facilita la creación de modelos que representan conceptos del mundo real de manera efectiva en el código.\n",
    "- Herencia: La herencia es un mecanismo que permite crear nuevas clases basadas en clases existentes. Una clase derivada (subclase) hereda propiedades y métodos de una clase base (superclase). Esto promueve la reutilización del código y la organización jerárquica de las clases. Las subclases pueden agregar, modificar o heredar comportamientos de la superclase, lo que facilita la extensión y especialización del código.\n",
    "- Polimorfismo: El polimorfismo se refiere a la capacidad de diferentes objetos de responder de manera única a una misma operación o mensaje. Permite tratar objetos de diferentes clases de manera uniforme, siempre que implementen una interfaz común. Esto simplifica el diseño y la flexibilidad del código, ya que se pueden usar objetos intercambiables en funciones y métodos sin necesidad de conocer los detalles internos de cada objeto."
   ]
  },
  {
   "cell_type": "markdown",
   "metadata": {},
   "source": [
    "## ERRORES"
   ]
  },
  {
   "cell_type": "markdown",
   "metadata": {},
   "source": [
    "- El manejo de errores en Python te permite escribir código más robusto y predecible al anticipar y gestionar problemas potenciales. Al entender cómo trabajar con excepciones, puedes crear programas que sean más resistentes y fáciles de mantener."
   ]
  },
  {
   "cell_type": "code",
   "execution_count": 13,
   "metadata": {},
   "outputs": [],
   "source": [
    "# https://realpython.com/python-exceptions/"
   ]
  },
  {
   "cell_type": "code",
   "execution_count": 14,
   "metadata": {},
   "outputs": [
    {
     "ename": "SyntaxError",
     "evalue": "unmatched ')' (3672257620.py, line 2)",
     "output_type": "error",
     "traceback": [
      "\u001b[0;36m  Cell \u001b[0;32mIn[14], line 2\u001b[0;36m\u001b[0m\n\u001b[0;31m    print( 0 / 0 ))\u001b[0m\n\u001b[0m                  ^\u001b[0m\n\u001b[0;31mSyntaxError\u001b[0m\u001b[0;31m:\u001b[0m unmatched ')'\n"
     ]
    }
   ],
   "source": [
    "# Esto causará un error de sintaxis.\n",
    "print( 0 / 0 ))"
   ]
  },
  {
   "cell_type": "code",
   "execution_count": 15,
   "metadata": {},
   "outputs": [
    {
     "ename": "ZeroDivisionError",
     "evalue": "division by zero",
     "output_type": "error",
     "traceback": [
      "\u001b[0;31m---------------------------------------------------------------------------\u001b[0m",
      "\u001b[0;31mZeroDivisionError\u001b[0m                         Traceback (most recent call last)",
      "Cell \u001b[0;32mIn[15], line 2\u001b[0m\n\u001b[1;32m      1\u001b[0m \u001b[38;5;66;03m# Esto causará un error de división por cero, pero la sintaxis será correcta.\u001b[39;00m\n\u001b[0;32m----> 2\u001b[0m \u001b[38;5;28mprint\u001b[39m( \u001b[38;5;241;43m0\u001b[39;49m\u001b[43m \u001b[49m\u001b[38;5;241;43m/\u001b[39;49m\u001b[43m \u001b[49m\u001b[38;5;241;43m0\u001b[39;49m)\n",
      "\u001b[0;31mZeroDivisionError\u001b[0m: division by zero"
     ]
    }
   ],
   "source": [
    "# Esto causará un error de división por cero, pero la sintaxis será correcta.\n",
    "print( 0 / 0)"
   ]
  },
  {
   "cell_type": "markdown",
   "metadata": {},
   "source": [
    "- El uso de raise y except te permite personalizar la gestión de errores en tu código y lanzar excepciones específicas cuando ocurren situaciones inesperadas o excepcionales. "
   ]
  },
  {
   "cell_type": "code",
   "execution_count": 16,
   "metadata": {},
   "outputs": [
    {
     "ename": "Exception",
     "evalue": "x should not exceed 5. The value of x was: 10",
     "output_type": "error",
     "traceback": [
      "\u001b[0;31m---------------------------------------------------------------------------\u001b[0m",
      "\u001b[0;31mException\u001b[0m                                 Traceback (most recent call last)",
      "Cell \u001b[0;32mIn[16], line 7\u001b[0m\n\u001b[1;32m      4\u001b[0m \u001b[38;5;66;03m# Comprobamos si x es mayor que 5.\u001b[39;00m\n\u001b[1;32m      5\u001b[0m \u001b[38;5;28;01mif\u001b[39;00m x \u001b[38;5;241m>\u001b[39m \u001b[38;5;241m5\u001b[39m:\n\u001b[1;32m      6\u001b[0m     \u001b[38;5;66;03m# Si x es mayor que 5, levantamos una excepción con un mensaje personalizado.\u001b[39;00m\n\u001b[0;32m----> 7\u001b[0m     \u001b[38;5;28;01mraise\u001b[39;00m \u001b[38;5;167;01mException\u001b[39;00m(\u001b[38;5;124m'\u001b[39m\u001b[38;5;124mx should not exceed 5. The value of x was: \u001b[39m\u001b[38;5;132;01m{}\u001b[39;00m\u001b[38;5;124m'\u001b[39m\u001b[38;5;241m.\u001b[39mformat(x))\n",
      "\u001b[0;31mException\u001b[0m: x should not exceed 5. The value of x was: 10"
     ]
    }
   ],
   "source": [
    "# Asignamos un valor a la variable x.\n",
    "x = 10\n",
    "\n",
    "# Comprobamos si x es mayor que 5.\n",
    "if x > 5:\n",
    "    # Si x es mayor que 5, levantamos una excepción con un mensaje personalizado.\n",
    "    raise Exception('x should not exceed 5. The value of x was: {}'.format(x))"
   ]
  },
  {
   "cell_type": "code",
   "execution_count": 17,
   "metadata": {},
   "outputs": [],
   "source": [
    "# Importamos el módulo sys para obtener información sobre el sistema operativo actual.\n",
    "import sys\n",
    "\n",
    "# Verificamos si el sistema operativo actual es Linux utilizando la variable sys.platform.\n",
    "# Si no es Linux, se generará una excepción AssertionError con un mensaje personalizado.\n",
    "assert ('linux' in sys.platform), \"This code runs on Linux only.\""
   ]
  },
  {
   "cell_type": "code",
   "execution_count": 19,
   "metadata": {},
   "outputs": [
    {
     "ename": "AssertionError",
     "evalue": "This code runs on macOS only.",
     "output_type": "error",
     "traceback": [
      "\u001b[0;31m---------------------------------------------------------------------------\u001b[0m",
      "\u001b[0;31mAssertionError\u001b[0m                            Traceback (most recent call last)",
      "Cell \u001b[0;32mIn[19], line 2\u001b[0m\n\u001b[1;32m      1\u001b[0m \u001b[38;5;66;03m# Si no es macOS, se generará una excepción AssertionError con un mensaje personalizado.\u001b[39;00m\n\u001b[0;32m----> 2\u001b[0m \u001b[38;5;28;01massert\u001b[39;00m (\u001b[38;5;124m'\u001b[39m\u001b[38;5;124mdarwin\u001b[39m\u001b[38;5;124m'\u001b[39m \u001b[38;5;129;01min\u001b[39;00m sys\u001b[38;5;241m.\u001b[39mplatform), \u001b[38;5;124m\"\u001b[39m\u001b[38;5;124mThis code runs on macOS only.\u001b[39m\u001b[38;5;124m\"\u001b[39m\n",
      "\u001b[0;31mAssertionError\u001b[0m: This code runs on macOS only."
     ]
    }
   ],
   "source": [
    "# Si no es macOS, se generará una excepción AssertionError con un mensaje personalizado.\n",
    "assert ('darwin' in sys.platform), \"This code runs on macOS only.\""
   ]
  },
  {
   "cell_type": "code",
   "execution_count": 20,
   "metadata": {},
   "outputs": [
    {
     "ename": "AssertionError",
     "evalue": "This code runs on Windows only.",
     "output_type": "error",
     "traceback": [
      "\u001b[0;31m---------------------------------------------------------------------------\u001b[0m",
      "\u001b[0;31mAssertionError\u001b[0m                            Traceback (most recent call last)",
      "Cell \u001b[0;32mIn[20], line 2\u001b[0m\n\u001b[1;32m      1\u001b[0m \u001b[38;5;66;03m# Si no es windows, se generará una excepción AssertionError con un mensaje personalizado.\u001b[39;00m\n\u001b[0;32m----> 2\u001b[0m \u001b[38;5;28;01massert\u001b[39;00m (\u001b[38;5;124m'\u001b[39m\u001b[38;5;124mwin32\u001b[39m\u001b[38;5;124m'\u001b[39m \u001b[38;5;129;01min\u001b[39;00m sys\u001b[38;5;241m.\u001b[39mplatform), \u001b[38;5;124m\"\u001b[39m\u001b[38;5;124mThis code runs on Windows only.\u001b[39m\u001b[38;5;124m\"\u001b[39m\n",
      "\u001b[0;31mAssertionError\u001b[0m: This code runs on Windows only."
     ]
    }
   ],
   "source": [
    "# Si no es windows, se generará una excepción AssertionError con un mensaje personalizado.\n",
    "assert ('win32' in sys.platform), \"This code runs on Windows only.\""
   ]
  },
  {
   "cell_type": "code",
   "execution_count": 21,
   "metadata": {},
   "outputs": [
    {
     "name": "stdout",
     "output_type": "stream",
     "text": [
      "Could not open file.log\n"
     ]
    }
   ],
   "source": [
    "#a) Utilizamos una estructura try...except para manejar posibles excepciones.\n",
    "\n",
    "try:\n",
    "    # Intentamos abrir el archivo 'file.log' en modo lectura.\n",
    "    with open('file.log') as file:\n",
    "        read_data = file.read()  # Leemos el contenido del archivo en read_data.\n",
    "except:\n",
    "    # Si ocurre una excepción (por ejemplo, el archivo no existe o hay un problema al abrirlo),\n",
    "    # capturamos la excepción y ejecutamos el siguiente bloque de código.\n",
    "    \n",
    "    # Imprimimos un mensaje de error personalizado.\n",
    "    print('Could not open file.log')\n",
    "\n",
    "# El flujo del programa continúa aquí después de manejar la excepción (si ocurre) o después de leer el archivo (si no hay excepción)."
   ]
  },
  {
   "cell_type": "code",
   "execution_count": 23,
   "metadata": {},
   "outputs": [
    {
     "name": "stdout",
     "output_type": "stream",
     "text": [
      "[Errno 2] No such file or directory: 'file.log'\n"
     ]
    }
   ],
   "source": [
    "#b) Utilizamos otra vez try\n",
    "try:\n",
    "    # Intentamos abrir el archivo 'file.log' en modo lectura.\n",
    "    with open('file.log') as file:\n",
    "        read_data = file.read()  # Leemos el contenido del archivo en read_data.\n",
    "except FileNotFoundError as fnf_error:\n",
    "    # Si se genera una excepción FileNotFoundError (el archivo no se encuentra),\n",
    "    # capturamos la excepción y mostramos el mensaje de error predefinido proporcionado por la excepción.\n",
    "    print(fnf_error)"
   ]
  },
  {
   "cell_type": "code",
   "execution_count": 24,
   "metadata": {},
   "outputs": [
    {
     "ename": "AssertionError",
     "evalue": "Function can only run on Windows systems.",
     "output_type": "error",
     "traceback": [
      "\u001b[0;31m---------------------------------------------------------------------------\u001b[0m",
      "\u001b[0;31mAssertionError\u001b[0m                            Traceback (most recent call last)",
      "Cell \u001b[0;32mIn[24], line 13\u001b[0m\n\u001b[1;32m      7\u001b[0m     \u001b[38;5;28;01massert\u001b[39;00m (\u001b[38;5;124m'\u001b[39m\u001b[38;5;124mwin32\u001b[39m\u001b[38;5;124m'\u001b[39m \u001b[38;5;129;01min\u001b[39;00m sys\u001b[38;5;241m.\u001b[39mplatform), \u001b[38;5;124m\"\u001b[39m\u001b[38;5;124mFunction can only run on Windows systems.\u001b[39m\u001b[38;5;124m\"\u001b[39m\n\u001b[1;32m      9\u001b[0m     \u001b[38;5;66;03m# Si la condición en el assert es verdadera, la función continúa aquí.\u001b[39;00m\n\u001b[1;32m     10\u001b[0m     \u001b[38;5;66;03m#print('OK.. in Windows')\u001b[39;00m\n\u001b[1;32m     11\u001b[0m \n\u001b[1;32m     12\u001b[0m \u001b[38;5;66;03m# Llamamos a la función win_interaction para verificar si estamos en un sistema Windows.\u001b[39;00m\n\u001b[0;32m---> 13\u001b[0m \u001b[43mwin_interaction\u001b[49m\u001b[43m(\u001b[49m\u001b[43m)\u001b[49m\n",
      "Cell \u001b[0;32mIn[24], line 7\u001b[0m, in \u001b[0;36mwin_interaction\u001b[0;34m()\u001b[0m\n\u001b[1;32m      5\u001b[0m \u001b[38;5;28;01mdef\u001b[39;00m \u001b[38;5;21mwin_interaction\u001b[39m():\n\u001b[1;32m      6\u001b[0m     \u001b[38;5;66;03m# Utilizamos assert para verificar si el sistema operativo es Windows.\u001b[39;00m\n\u001b[0;32m----> 7\u001b[0m     \u001b[38;5;28;01massert\u001b[39;00m (\u001b[38;5;124m'\u001b[39m\u001b[38;5;124mwin32\u001b[39m\u001b[38;5;124m'\u001b[39m \u001b[38;5;129;01min\u001b[39;00m sys\u001b[38;5;241m.\u001b[39mplatform), \u001b[38;5;124m\"\u001b[39m\u001b[38;5;124mFunction can only run on Windows systems.\u001b[39m\u001b[38;5;124m\"\u001b[39m\n",
      "\u001b[0;31mAssertionError\u001b[0m: Function can only run on Windows systems."
     ]
    }
   ],
   "source": [
    "# Importamos el módulo sys para obtener información sobre el sistema operativo actual.\n",
    "import sys\n",
    "\n",
    "# Definimos una función llamada win_interaction.\n",
    "def win_interaction():\n",
    "    # Utilizamos assert para verificar si el sistema operativo es Windows.\n",
    "    assert ('win32' in sys.platform), \"Function can only run on Windows systems.\"\n",
    "    \n",
    "    # Si la condición en el assert es verdadera, la función continúa aquí.\n",
    "    #print('OK.. in Windows')\n",
    "\n",
    "# Llamamos a la función win_interaction para verificar si estamos en un sistema Windows.\n",
    "win_interaction()"
   ]
  },
  {
   "cell_type": "code",
   "execution_count": 25,
   "metadata": {},
   "outputs": [
    {
     "name": "stdout",
     "output_type": "stream",
     "text": [
      "Function can only run on Windows systems.\n"
     ]
    }
   ],
   "source": [
    "# Utilizamos otra vez try para intentar el codigo\n",
    "try:\n",
    "    # Llamamos a la función win_interaction(), que puede generar una excepción AssertionError.\n",
    "    win_interaction()\n",
    "except AssertionError as error:\n",
    "    # Si se genera una excepción AssertionError, capturamos la excepción y mostramos el mensaje de error.\n",
    "    print(error)\n",
    "else:\n",
    "    # Si la función se ejecuta sin excepciones, se ejecuta este bloque.\n",
    "    print('OK!')"
   ]
  },
  {
   "cell_type": "markdown",
   "metadata": {},
   "source": [
    "- Este código muestra un manejo de excepciones en Python utilizando los bloques try, except y finally. Aquí hay una descripción de lo que está ocurriendo:\n",
    "- En resumen, este código muestra cómo manejar excepciones en Python para manejar errores de manera controlada y garantizar que ciertas acciones se realicen independientemente de si se generan excepciones o no."
   ]
  },
  {
   "cell_type": "code",
   "execution_count": 26,
   "metadata": {},
   "outputs": [
    {
     "name": "stdout",
     "output_type": "stream",
     "text": [
      "Function can only run on Windows systems.\n",
      "Always execute this!!\n"
     ]
    }
   ],
   "source": [
    "# Intentamos ejecutar la función win_interaction().\n",
    "try:    \n",
    "    win_interaction()\n",
    "except AssertionError as error:\n",
    "    # Si se genera una excepción AssertionError, capturamos la excepción y mostramos el mensaje de error.\n",
    "    print(error)\n",
    "else:\n",
    "    try:\n",
    "        # Intentamos abrir el archivo 'file.log' en modo lectura.\n",
    "        with open('file.log') as file:\n",
    "            read_data = file.read()  # Leemos el contenido del archivo en read_data.\n",
    "    except FileNotFoundError as fnf_error:\n",
    "        # Si se genera una excepción FileNotFoundError (el archivo no se encuentra),\n",
    "        # capturamos la excepción y mostramos el mensaje de error.\n",
    "        print(fnf_error)\n",
    "finally:\n",
    "    # El bloque finally se ejecutará siempre, sin importar si se generaron excepciones o no.\n",
    "    print('Always execute this!!')"
   ]
  },
  {
   "cell_type": "markdown",
   "metadata": {},
   "source": [
    "## LIST COMPREHENSION"
   ]
  },
  {
   "cell_type": "code",
   "execution_count": 27,
   "metadata": {},
   "outputs": [],
   "source": [
    "#referencia https://realpython.com/list-comprehension-python/"
   ]
  },
  {
   "cell_type": "code",
   "execution_count": 28,
   "metadata": {},
   "outputs": [
    {
     "name": "stdout",
     "output_type": "stream",
     "text": [
      "[0, 1, 4, 9, 16, 25, 36, 49, 64, 81]\n"
     ]
    }
   ],
   "source": [
    "# Creamos una lista vacía llamada 'squares' para almacenar los cuadrados de los números.\n",
    "squares = []\n",
    "\n",
    "# Usamos un bucle 'for' para iterar sobre los números del 0 al 9.\n",
    "for i in range(10):\n",
    "    # Calculamos el cuadrado de 'i' y lo agregamos a la lista 'squares'.\n",
    "    squares.append(i * i)\n",
    "\n",
    "# Imprimimos la lista 'squares', que contendrá los cuadrados de los números del 0 al 9.\n",
    "print(squares)"
   ]
  },
  {
   "cell_type": "code",
   "execution_count": 29,
   "metadata": {},
   "outputs": [
    {
     "data": {
      "text/plain": [
       "[0, 1, 4, 9, 16, 25, 36, 49, 64, 81]"
      ]
     },
     "execution_count": 29,
     "metadata": {},
     "output_type": "execute_result"
    }
   ],
   "source": [
    "# Usamos una comprensión de lista para crear la lista 'sq2'.\n",
    "# Esta comprensión de lista genera los cuadrados de los números del 0 al 9.\n",
    "\n",
    "sq2 = [x ** 2 for x in range(10)]\n",
    "\n",
    "# El resultado será una lista 'sq2' que contiene los cuadrados de los números del 0 al 9.\n",
    "sq2"
   ]
  },
  {
   "cell_type": "code",
   "execution_count": 30,
   "metadata": {},
   "outputs": [
    {
     "data": {
      "text/plain": [
       "['e', 'o', 'e', 'a', 'e', 'a', 'o', 'a']"
      ]
     },
     "execution_count": 30,
     "metadata": {},
     "output_type": "execute_result"
    }
   ],
   "source": [
    "# Definimos una oración.\n",
    "sentence = 'the rocket came back from mars'\n",
    "\n",
    "# Usamos una comprensión de lista para crear la lista 'vowels'.\n",
    "# La comprensión de lista recorre cada carácter en la oración y verifica si es una vocal ('aeiou').\n",
    "vowels = [i for i in sentence if i in 'aeiou']\n",
    "\n",
    "# El resultado será una lista 'vowels' que contiene todas las vocales que aparecen en la oración.\n",
    "vowels"
   ]
  },
  {
   "cell_type": "code",
   "execution_count": 31,
   "metadata": {},
   "outputs": [
    {
     "data": {
      "text/plain": [
       "['T',\n",
       " 'h',\n",
       " 'r',\n",
       " 'c',\n",
       " 'k',\n",
       " 't',\n",
       " 'w',\n",
       " 'h',\n",
       " 'w',\n",
       " 's',\n",
       " 'n',\n",
       " 'm',\n",
       " 'd',\n",
       " 'T',\n",
       " 'd',\n",
       " 'c',\n",
       " 'm',\n",
       " 'b',\n",
       " 'c',\n",
       " 'k',\n",
       " 'f',\n",
       " 'r',\n",
       " 'm',\n",
       " 'M',\n",
       " 'r',\n",
       " 's',\n",
       " 'b',\n",
       " 'c',\n",
       " 's',\n",
       " 'h',\n",
       " 'm',\n",
       " 's',\n",
       " 's',\n",
       " 'd',\n",
       " 'h',\n",
       " 's',\n",
       " 'f',\n",
       " 'r',\n",
       " 'n',\n",
       " 'd',\n",
       " 's']"
      ]
     },
     "execution_count": 31,
     "metadata": {},
     "output_type": "execute_result"
    }
   ],
   "source": [
    "# Definimos una oración.\n",
    "sentence = 'The rocket, who was named Ted, came back \\\n",
    "    from Mars because he missed his friends.'\n",
    "\n",
    "# Definimos una función llamada 'is_consonant' que verifica si un carácter es una consonante.\n",
    "def is_consonant(letter):\n",
    "    vowels = 'aeiou'\n",
    "    return letter.isalpha() and letter.lower() not in vowels\n",
    "\n",
    "# Usamos una comprensión de lista para crear la lista 'consonants'.\n",
    "# La comprensión de lista recorre cada carácter en la oración y verifica si es una consonante utilizando la función 'is_consonant'.\n",
    "consonants = [i for i in sentence if is_consonant(i)]\n",
    "\n",
    "# El resultado será una lista 'consonants' que contiene todos los caracteres que son consonantes en la oración.\n",
    "consonants"
   ]
  },
  {
   "cell_type": "code",
   "execution_count": 32,
   "metadata": {},
   "outputs": [
    {
     "data": {
      "text/plain": [
       "[1.25, 10.22, 3.78, 1.16]"
      ]
     },
     "execution_count": 32,
     "metadata": {},
     "output_type": "execute_result"
    }
   ],
   "source": [
    "# Definimos una lista de precios originales que contiene valores positivos y negativos.\n",
    "original_prices = [1.25, -9.45, 10.22, 3.78, -5.92, 1.16]\n",
    "\n",
    "# Usamos una comprensión de lista para crear la lista 'prices'.\n",
    "# La comprensión de lista recorre cada elemento en 'original_prices' y agrega solo los valores que son mayores que 0.\n",
    "prices = [i for i in original_prices if i > 0]\n",
    "\n",
    "# El resultado será una nueva lista 'prices' que contiene solo los valores positivos de 'original_prices'.\n",
    "prices"
   ]
  },
  {
   "cell_type": "code",
   "execution_count": 33,
   "metadata": {},
   "outputs": [
    {
     "data": {
      "text/plain": [
       "[1.25, 0, 10.22, 3.78, 0, 1.16]"
      ]
     },
     "execution_count": 33,
     "metadata": {},
     "output_type": "execute_result"
    }
   ],
   "source": [
    "# Usamos una comprensión de lista para crear la lista 'prices'.\n",
    "# La comprensión de lista recorre cada elemento en 'original_prices' y, si es mayor que 0, lo mantiene; de lo contrario, lo reemplaza por 0.\n",
    "prices = [i if i > 0 else 0 for i in original_prices]\n",
    "prices"
   ]
  },
  {
   "cell_type": "code",
   "execution_count": 34,
   "metadata": {},
   "outputs": [
    {
     "data": {
      "text/plain": [
       "{'a', 'e', 'i', 'u'}"
      ]
     },
     "execution_count": 34,
     "metadata": {},
     "output_type": "execute_result"
    }
   ],
   "source": [
    "#SET COMPREHENSIONS\n",
    "# Definimos una cita (quote).\n",
    "quote = \"life, uh, finds a way\"\n",
    "\n",
    "# Usamos una comprensión de conjunto para crear el conjunto 'unique_vowels'.\n",
    "# La comprensión de conjunto recorre cada carácter en la cita y agrega solo las vocales únicas ('aeiou') al conjunto.\n",
    "unique_vowels = {i for i in quote if i in 'aeiou'}\n",
    "\n",
    "# El resultado será un conjunto 'unique_vowels' que contiene las vocales únicas que aparecen en la cita.\n",
    "unique_vowels"
   ]
  },
  {
   "cell_type": "code",
   "execution_count": 35,
   "metadata": {},
   "outputs": [
    {
     "name": "stdout",
     "output_type": "stream",
     "text": [
      "['E', 'M', 'A', 'Y', 'U', 'S', 'C', 'U', 'L', 'A', 'S', 'O']\n",
      "{'M', 'L', 'E', 'C', 'Y', 'A', 'O', 'S', 'U'}\n"
     ]
    }
   ],
   "source": [
    "#PRACTICA\n",
    "#EXTRAER DE UNA FRASE CON MAYUSCULAS, LAS LETRAS MAYUSCULAS USANDO LIST COMPREHENSIONS. ¿Cómo elimino duplicados?\n",
    "frase = \"Existen algunas MAYUSCULAS no es ciertO\"\n",
    "\n",
    "# Usamos una comprensión de lista para crear la lista 'mayuscula' que contiene letras mayúsculas.\n",
    "mayuscula = [m for m in frase if m.isupper()]\n",
    "print(mayuscula)\n",
    "\n",
    "# Usamos una comprensión de conjunto para crear el conjunto 'umayuscula' que contiene letras mayúsculas únicas.\n",
    "umayuscula = {m for m in frase if m.isupper()}\n",
    "print(umayuscula)"
   ]
  },
  {
   "cell_type": "markdown",
   "metadata": {},
   "source": [
    "## FUNCIONES LAMBDA"
   ]
  },
  {
   "cell_type": "code",
   "execution_count": 36,
   "metadata": {},
   "outputs": [],
   "source": [
    "#referencia https://realpython.com/python-lambda/"
   ]
  },
  {
   "cell_type": "markdown",
   "metadata": {},
   "source": [
    "- La expresión lambda x, y: x + y define una función que toma dos argumentos x e y y devuelve su suma. Luego, _(1, 2) parece ser un intento de llamar a esa función lambda con los argumentos 1 y 2."
   ]
  },
  {
   "cell_type": "code",
   "execution_count": 37,
   "metadata": {},
   "outputs": [
    {
     "data": {
      "text/plain": [
       "<function __main__.<lambda>(x, y)>"
      ]
     },
     "execution_count": 37,
     "metadata": {},
     "output_type": "execute_result"
    }
   ],
   "source": [
    "# Definimos la función lambda y la asignamos a una variable llamada 'suma'.\n",
    "lambda x, y: x + y"
   ]
  },
  {
   "cell_type": "markdown",
   "metadata": {},
   "source": [
    "- Sin embargo, en Python, no es común o convencional utilizar _ como el nombre de una función o variable."
   ]
  },
  {
   "cell_type": "code",
   "execution_count": 38,
   "metadata": {},
   "outputs": [
    {
     "data": {
      "text/plain": [
       "3"
      ]
     },
     "execution_count": 38,
     "metadata": {},
     "output_type": "execute_result"
    }
   ],
   "source": [
    "_(1, 2)"
   ]
  },
  {
   "cell_type": "markdown",
   "metadata": {},
   "source": [
    "- La expresión (lambda x, y: x + y)(2, 3) representa una función lambda que toma dos argumentos x e y y devuelve la suma de esos argumentos. Luego, la función lambda se llama inmediatamente con los valores 2 y 3 como argumentos.\n",
    "- El resultado de esta expresión será 5, ya que 2 + 3 = 5."
   ]
  },
  {
   "cell_type": "code",
   "execution_count": 39,
   "metadata": {},
   "outputs": [
    {
     "data": {
      "text/plain": [
       "5"
      ]
     },
     "execution_count": 39,
     "metadata": {},
     "output_type": "execute_result"
    }
   ],
   "source": [
    "(lambda x, y: x + y)(2, 3)"
   ]
  },
  {
   "cell_type": "code",
   "execution_count": 40,
   "metadata": {},
   "outputs": [],
   "source": [
    "# Luego, llamamos inmediatamente a la función lambda con los argumentos 2 y 3, y almacenamos el resultado en la variable res.\n",
    "res = (lambda x, y: x + y)(2, 3)"
   ]
  },
  {
   "cell_type": "code",
   "execution_count": 41,
   "metadata": {},
   "outputs": [
    {
     "data": {
      "text/plain": [
       "5"
      ]
     },
     "execution_count": 41,
     "metadata": {},
     "output_type": "execute_result"
    }
   ],
   "source": [
    "# Imprimimos el valor de res, que contendrá la suma de 2 y 3.\n",
    "res"
   ]
  },
  {
   "cell_type": "code",
   "execution_count": 177,
   "metadata": {},
   "outputs": [
    {
     "data": {
      "text/plain": [
       "'odd'"
      ]
     },
     "execution_count": 177,
     "metadata": {},
     "output_type": "execute_result"
    }
   ],
   "source": [
    "# En este caso, 3 % 2 es igual a 1, lo que significa que x es impar, por lo que la expresión devuelve 'odd'.\n",
    "# El resultado se almacena en la variable 'resultado'.\n",
    "(lambda x:(x % 2 and 'odd' or 'even'))(3)"
   ]
  },
  {
   "cell_type": "code",
   "execution_count": 43,
   "metadata": {},
   "outputs": [
    {
     "data": {
      "text/plain": [
       "6"
      ]
     },
     "execution_count": 43,
     "metadata": {},
     "output_type": "execute_result"
    }
   ],
   "source": [
    "# Definimos una función lambda que toma tres argumentos, x, y, y z, y devuelve la suma de esos argumentos.\n",
    "(lambda x, y, z: x + y + z)(1, 2, 3)"
   ]
  },
  {
   "cell_type": "code",
   "execution_count": 44,
   "metadata": {},
   "outputs": [
    {
     "data": {
      "text/plain": [
       "6"
      ]
     },
     "execution_count": 44,
     "metadata": {},
     "output_type": "execute_result"
    }
   ],
   "source": [
    "# Definimos una función lambda que toma tres argumentos: x, y y z, con un valor predeterminado de z=3.\n",
    "# La función devuelve la suma de x, y y z.\n",
    "(lambda x, y, z=3: x + y + z)(1, 2)"
   ]
  },
  {
   "cell_type": "code",
   "execution_count": 45,
   "metadata": {},
   "outputs": [
    {
     "data": {
      "text/plain": [
       "6"
      ]
     },
     "execution_count": 45,
     "metadata": {},
     "output_type": "execute_result"
    }
   ],
   "source": [
    "# Luego, llamamos inmediatamente a la función lambda con el valor 1 para x y 2 para y.\n",
    "# Como z tiene un valor predeterminado de 3, no es necesario proporcionar un tercer argumento.\n",
    "(lambda x, y, z=3: x + y + z)(1, y=2)"
   ]
  },
  {
   "cell_type": "code",
   "execution_count": 46,
   "metadata": {},
   "outputs": [
    {
     "data": {
      "text/plain": [
       "6"
      ]
     },
     "execution_count": 46,
     "metadata": {},
     "output_type": "execute_result"
    }
   ],
   "source": [
    "# Definimos una función lambda que toma un número variable de argumentos (*args) y devuelve la suma de todos ellos.\n",
    "(lambda *args: sum(args))(1,2,3)"
   ]
  },
  {
   "cell_type": "code",
   "execution_count": 47,
   "metadata": {},
   "outputs": [
    {
     "data": {
      "text/plain": [
       "6"
      ]
     },
     "execution_count": 47,
     "metadata": {},
     "output_type": "execute_result"
    }
   ],
   "source": [
    "# Definimos una función lambda que toma un número variable de argumentos con nombre (**kwargs).\n",
    "# La función devuelve la suma de los valores de todos los argumentos con nombre.\n",
    "(lambda **kwargs: sum(kwargs.values()))(one=1, two=2, three=3)"
   ]
  },
  {
   "cell_type": "code",
   "execution_count": 48,
   "metadata": {},
   "outputs": [
    {
     "data": {
      "text/plain": [
       "6"
      ]
     },
     "execution_count": 48,
     "metadata": {},
     "output_type": "execute_result"
    }
   ],
   "source": [
    "(lambda x, *, y=0, z=0: x + y + z)(1, y=2, z=3)"
   ]
  },
  {
   "cell_type": "code",
   "execution_count": 49,
   "metadata": {},
   "outputs": [
    {
     "name": "stdout",
     "output_type": "stream",
     "text": [
      "['id1', 'id100', 'id2', 'id22', 'id3', 'id30']\n"
     ]
    }
   ],
   "source": [
    "#uso con funciones\n",
    "# Definimos una lista de identificadores (cadenas de texto).\n",
    "ids = ['id1', 'id2', 'id30', 'id3', 'id22', 'id100']\n",
    "# Imprimimos la lista ordenada utilizando la función sorted().\n",
    "# Por defecto, sorted() realiza una ordenación lexicográfica (orden alfabético) de las cadenas de texto.\n",
    "# Esto significa que los elementos se ordenarán en función de su valor alfabético, en lugar de su valor numérico.\n",
    "print(sorted(ids)) # Lexicographic sort"
   ]
  },
  {
   "cell_type": "code",
   "execution_count": 50,
   "metadata": {},
   "outputs": [
    {
     "name": "stdout",
     "output_type": "stream",
     "text": [
      "['id1', 'id2', 'id3', 'id22', 'id30', 'id100']\n"
     ]
    }
   ],
   "source": [
    "# Utilizamos la función sorted() con un argumento 'key' para realizar una ordenación numérica en lugar de lexicográfica.\n",
    "# El argumento 'key' toma una función lambda que extrae el valor numérico de cada cadena de identificador.\n",
    "# La función lambda toma cada elemento 'x' de la lista y convierte la subcadena desde el tercer carácter en adelante a un entero.\n",
    "# Luego, los elementos se ordenan en función de esos valores numéricos.\n",
    "sorted_ids = sorted(ids, key=lambda x: int(x[2:])) # Integer sort\n",
    "print(sorted_ids)"
   ]
  },
  {
   "cell_type": "markdown",
   "metadata": {},
   "source": [
    "## MAP"
   ]
  },
  {
   "cell_type": "code",
   "execution_count": 51,
   "metadata": {},
   "outputs": [],
   "source": [
    "#referencia https://www.learnpython.org/en/Map,_Filter,_Reduce"
   ]
  },
  {
   "cell_type": "markdown",
   "metadata": {},
   "source": [
    "- La función map se utiliza para aplicar una función a cada elemento de un iterable (como una lista o tupla) y de esa manera crear una nueva lista con los resultados.\n",
    "- Es útil para transformar o modificar los elementos de una lista de manera eficiente."
   ]
  },
  {
   "cell_type": "code",
   "execution_count": 1,
   "metadata": {},
   "outputs": [
    {
     "name": "stdout",
     "output_type": "stream",
     "text": [
      "['ALFRED', 'TABITHA', 'WILLIAM', 'ARLA']\n"
     ]
    }
   ],
   "source": [
    "#sin map\n",
    "# Definimos una lista de nombres de mascotas en minúsculas.\n",
    "my_pets = ['alfred', 'tabitha', 'william', 'arla']\n",
    "\n",
    "# Creamos una lista vacía llamada 'uppered_pets' para almacenar los nombres de mascotas en mayúsculas.\n",
    "uppered_pets = []\n",
    "\n",
    "# Iteramos a través de la lista 'my_pets' utilizando un bucle for.\n",
    "for pet in my_pets:\n",
    "    # Convertimos cada nombre de mascota a mayúsculas utilizando el método upper().\n",
    "    pet_ = pet.upper()\n",
    "    \n",
    "    # Agregamos el nombre de la mascota en mayúsculas a la lista 'uppered_pets'.\n",
    "    uppered_pets.append(pet_)\n",
    "\n",
    "# Imprimimos la lista 'uppered_pets' que contiene los nombres de mascotas en mayúsculas.\n",
    "print(uppered_pets)"
   ]
  },
  {
   "cell_type": "code",
   "execution_count": 4,
   "metadata": {},
   "outputs": [
    {
     "name": "stdout",
     "output_type": "stream",
     "text": [
      "['ALFRED', 'TABITHA', 'WILLIAM', 'ARLA']\n"
     ]
    }
   ],
   "source": [
    "#con map\n",
    "# Definimos una lista de nombres de mascotas en minúsculas.\n",
    "my_pets = ['alfred', 'tabitha', 'william', 'arla']\n",
    "\n",
    "# Usamos la función map para aplicar str.upper a cada nombre de mascota.\n",
    "uppered_pets = list(map(str.upper, my_pets))\n",
    "\n",
    "# Imprimimos la lista 'uppered_pets' que contiene los nombres de mascotas en mayúsculas.\n",
    "print(uppered_pets)"
   ]
  },
  {
   "cell_type": "markdown",
   "metadata": {},
   "source": [
    "### Ejemplos con lamda y map"
   ]
  },
  {
   "cell_type": "code",
   "execution_count": 10,
   "metadata": {},
   "outputs": [
    {
     "name": "stdout",
     "output_type": "stream",
     "text": [
      "[2, 4, 6, 8, 10]\n"
     ]
    }
   ],
   "source": [
    "# Creamos una lista de números\n",
    "numbers = [1, 2, 3, 4, 5]\n",
    "\n",
    "# Utilizamos la función map para aplicar una función lambda que duplica cada número en la lista.\n",
    "# La función lambda toma un número x y devuelve x * 2, que es el número duplicado.\n",
    "doubled = list(map(lambda x: x * 2, numbers))\n",
    "\n",
    "# Imprimimos la lista 'doubled' que contiene los números duplicados.\n",
    "print(doubled)\n",
    "\n",
    "# Resultado: [2, 4, 6, 8, 10]"
   ]
  },
  {
   "cell_type": "code",
   "execution_count": 20,
   "metadata": {},
   "outputs": [
    {
     "name": "stdout",
     "output_type": "stream",
     "text": [
      "[('a', 1), ('b', 2), ('c', 3), ('d', 4), ('e', 5)]\n"
     ]
    }
   ],
   "source": [
    "# map practica 1\n",
    "# utilice la función map() junto con una función lambda para combinar estas dos listas en una nueva lista de tuplas.\n",
    "#La función lambda toma un elemento de cada lista y crea una tupla que contiene esos elementos. \n",
    "\n",
    "# Definimos dos listas, una de cadenas de texto y otra de números.\n",
    "my_strings = ['a', 'b', 'c', 'd', 'e']\n",
    "my_numbers = [1, 2, 3, 4, 5]\n",
    "\n",
    "# Utilizamos la función map() junto con una función lambda para combinar las dos listas en una lista de tuplas.\n",
    "# La función lambda toma un elemento de cada lista y crea una tupla con esos elementos.\n",
    "results = list(map(lambda x, y: (x, y), my_strings, my_numbers))\n",
    "\n",
    "# Imprimimos la lista 'results' que contiene las tuplas formadas por las cadenas y los números.\n",
    "print(results)"
   ]
  },
  {
   "cell_type": "markdown",
   "metadata": {},
   "source": [
    "## FILTER"
   ]
  },
  {
   "cell_type": "markdown",
   "metadata": {},
   "source": [
    "- La función filter se utiliza para filtrar elementos de una lista según una condición específica.\n",
    "- Devuelve una nueva lista con los elementos que cumplen la condición. "
   ]
  },
  {
   "cell_type": "code",
   "execution_count": 21,
   "metadata": {},
   "outputs": [
    {
     "name": "stdout",
     "output_type": "stream",
     "text": [
      "[90, 76, 88, 81]\n"
     ]
    }
   ],
   "source": [
    "# sin filter\n",
    "# Definimos una función llamada 'filter_scores' que toma una lista de puntuaciones como argumento.\n",
    "# La función filtra las puntuaciones que son mayores que 75 y devuelve una lista con esas puntuaciones.\n",
    "def filter_scores(score_list):\n",
    "    filtered_scores = []  # Inicializamos una lista vacía para almacenar las puntuaciones filtradas.\n",
    "    for score in score_list:  # Iteramos a través de las puntuaciones en la lista.\n",
    "        if score > 75:  # Verificamos si la puntuación es mayor que 75.\n",
    "            filtered_scores.append(score)  # Si cumple con la condición, agregamos la puntuación a la lista filtrada.\n",
    "    return filtered_scores  # Devolvemos la lista de puntuaciones filtradas.\n",
    "\n",
    "# Definimos una lista de puntuaciones.\n",
    "scores = [66, 90, 68, 59, 76, 60, 88, 74, 81, 65]\n",
    "\n",
    "# Utilizamos la función 'filter_scores' para obtener las puntuaciones mayores que 75.\n",
    "over_75 = filter_scores(scores)\n",
    "\n",
    "# Imprimimos la lista 'over_75' que contiene las puntuaciones mayores que 75.\n",
    "print(over_75)"
   ]
  },
  {
   "cell_type": "code",
   "execution_count": 22,
   "metadata": {},
   "outputs": [
    {
     "name": "stdout",
     "output_type": "stream",
     "text": [
      "[90, 76, 88, 81]\n"
     ]
    }
   ],
   "source": [
    "# con filter\n",
    "# Definimos una lista de puntuaciones.\n",
    "scores = [66, 90, 68, 59, 76, 60, 88, 74, 81, 65]\n",
    "\n",
    "# Utilizamos la función filter() con una función lambda para filtrar las puntuaciones que son mayores que 75.\n",
    "over_75 = list(filter(lambda score: score > 75, scores))\n",
    "\n",
    "# Imprimimos la lista 'over_75' que contiene las puntuaciones mayores que 75.\n",
    "print(over_75)"
   ]
  },
  {
   "cell_type": "markdown",
   "metadata": {},
   "source": [
    "### Ejemplos con lamda y filter"
   ]
  },
  {
   "cell_type": "code",
   "execution_count": 28,
   "metadata": {},
   "outputs": [
    {
     "name": "stdout",
     "output_type": "stream",
     "text": [
      "[2, 4]\n"
     ]
    }
   ],
   "source": [
    "# se requiere filtrar los números pares de la lista utilizando la función filter() en combinación con una función lambda.\n",
    "# La función lambda verificará si un número es par calculando el residuo de la división por 2.\n",
    "\n",
    "# Filtrar números pares de la lista\n",
    "numbers = [1, 2, 3, 4, 5]\n",
    "# Utilizamos la función filter() junto con una función lambda para filtrar los números pares de la lista.\n",
    "# La función lambda verifica si un número es par al calcular su residuo al dividirlo por 2.\n",
    "even_numbers = list(filter(lambda x: x % 2 == 0, numbers))\n",
    "print(even_numbers)"
   ]
  },
  {
   "cell_type": "code",
   "execution_count": 29,
   "metadata": {},
   "outputs": [
    {
     "name": "stdout",
     "output_type": "stream",
     "text": [
      "['madam', 'anutforajaroftuna']\n"
     ]
    }
   ],
   "source": [
    "# filter practica 2\n",
    "# utilice la función filter() junto con una función lambda para filtrar las palabras palíndromas de la tupla. \n",
    "# Una palabra palíndroma es aquella que se lee igual de izquierda a derecha que de derecha a izquierda.\n",
    "# Definimos una tupla de palabras.\n",
    "words = (\"demigod\", \"rewire\", \"madam\", \"freer\", \"anutforajaroftuna\", \"kiosk\")\n",
    "\n",
    "# Utilizamos la función filter() con una función lambda para filtrar las palabras palíndromas.\n",
    "palindromes = list(filter(lambda word: word == word[::-1], words))\n",
    "\n",
    "# Imprimimos las palabras palíndromas.\n",
    "print(palindromes)"
   ]
  },
  {
   "cell_type": "markdown",
   "metadata": {},
   "source": [
    "## REDUCE"
   ]
  },
  {
   "cell_type": "markdown",
   "metadata": {},
   "source": [
    "- La función reduce no se encuentra en el espacio de nombres global en Python 3, pero puedes importarla desde el módulo functools.\n",
    "- Reduce se utiliza para aplicar una función de manera acumulativa a los elementos de una lista, de izquierda a derecha, para reducir la lista a un solo valor"
   ]
  },
  {
   "cell_type": "code",
   "execution_count": 38,
   "metadata": {},
   "outputs": [
    {
     "name": "stdout",
     "output_type": "stream",
     "text": [
      "68\n"
     ]
    }
   ],
   "source": [
    "# sin reduce\n",
    "# Definimos una lista de números.\n",
    "numbers = [3, 4, 6, 9, 34, 12]\n",
    "\n",
    "# Definimos una función llamada 'custom_sum' que toma dos números como argumentos y devuelve su suma.\n",
    "def custom_sum(first, second):\n",
    "    return first + second\n",
    "\n",
    "# Inicializamos una variable llamada 'result' con un valor inicial de 0.\n",
    "result = 0\n",
    "\n",
    "# Iteramos a través de los elementos de la lista 'numbers'.\n",
    "for number in numbers:\n",
    "    # Aplicamos la función 'custom_sum' para sumar el número actual al valor acumulado en 'result'.\n",
    "    result = custom_sum(result, number)\n",
    "\n",
    "# Imprimimos el resultado, que es la suma de los números en la lista, comenzando desde 10.\n",
    "print(result)"
   ]
  },
  {
   "cell_type": "code",
   "execution_count": 35,
   "metadata": {},
   "outputs": [],
   "source": [
    "# con reduce\n",
    "# Importamos la función 'reduce' de la biblioteca 'functools'.\n",
    "from functools import reduce"
   ]
  },
  {
   "cell_type": "code",
   "execution_count": 42,
   "metadata": {},
   "outputs": [
    {
     "name": "stdout",
     "output_type": "stream",
     "text": [
      "68\n"
     ]
    }
   ],
   "source": [
    "# Definimos una lista de números.\n",
    "numbers = [3, 4, 6, 9, 34, 12]\n",
    "\n",
    "# Definimos una función llamada 'custom_sum' que toma dos números como argumentos y devuelve su suma.\n",
    "def custom_sum(first, second):\n",
    "    return first + second\n",
    "\n",
    "# Utilizamos la función 'reduce' para aplicar la función 'custom_sum' de manera acumulativa a los elementos de la lista 'numbers'.\n",
    "# Específicamente, comenzamos con un valor inicial de 10 y luego aplicamos la función a los elementos de la lista.\n",
    "# Esto calculará la suma de todos los números en la lista.\n",
    "result = reduce(custom_sum, numbers)\n",
    "\n",
    "# Imprimimos el resultado, que es la suma de los números en la lista, comenzando desde 10.\n",
    "print(result)"
   ]
  },
  {
   "cell_type": "code",
   "execution_count": 47,
   "metadata": {},
   "outputs": [
    {
     "name": "stdout",
     "output_type": "stream",
     "text": [
      "68\n"
     ]
    }
   ],
   "source": [
    "# Con reduce y lambda\n",
    "# Importamos la función 'reduce' de la biblioteca 'functools'.\n",
    "from functools import reduce\n",
    "\n",
    "# Definimos una lista de números.\n",
    "numbers = [3, 4, 6, 9, 34, 12]\n",
    "\n",
    "# Utilizamos la función 'reduce' junto con una función lambda para realizar una suma \n",
    "# acumulativa de los elementos de la lista 'numbers'.\n",
    "result = reduce(lambda x, y: x + y, numbers)\n",
    "\n",
    "# Imprimimos el resultado, que es la suma de los números en la lista, comenzando desde 10.\n",
    "print(result)"
   ]
  },
  {
   "cell_type": "markdown",
   "metadata": {},
   "source": [
    "## ZIP"
   ]
  },
  {
   "cell_type": "markdown",
   "metadata": {},
   "source": [
    "la función zip en Python se utiliza para combinar dos o más listas (u otros iterables) tomando elementos correspondientes de cada una y creando pares de elementos en forma de tuplas."
   ]
  },
  {
   "cell_type": "code",
   "execution_count": 49,
   "metadata": {},
   "outputs": [
    {
     "name": "stdout",
     "output_type": "stream",
     "text": [
      "[('Alice', 85), ('Bob', 92), ('Charlie', 78)]\n"
     ]
    }
   ],
   "source": [
    "# Combinar dos listas en pares\n",
    "names = ['Alice', 'Bob', 'Charlie']\n",
    "scores = [85, 92, 78]\n",
    "name_score_pairs = list(zip(names, scores))\n",
    "print(name_score_pairs)\n",
    "# Resultado: [('Alice', 85), ('Bob', 92), ('Charlie', 78)]"
   ]
  },
  {
   "cell_type": "markdown",
   "metadata": {},
   "source": [
    "Básicamente, crea un iterador que te permite recorrer las listas de entrada en paralelo y obtener elementos emparejados en tuplas"
   ]
  },
  {
   "cell_type": "markdown",
   "metadata": {},
   "source": [
    "## Iterdores e Iterables"
   ]
  },
  {
   "cell_type": "markdown",
   "metadata": {},
   "source": [
    "Primero tenemos que saber que es iterable?\n",
    "- Un iterable es cualquier objeto de Python capaz de devolver sus elementos uno a uno.\n",
    "- Ejemplos de iterables son las listas, tuplas, diccionarios, cadenas y más. "
   ]
  },
  {
   "cell_type": "code",
   "execution_count": 50,
   "metadata": {},
   "outputs": [
    {
     "name": "stdout",
     "output_type": "stream",
     "text": [
      "1\n",
      "2\n",
      "3\n",
      "4\n",
      "5\n"
     ]
    }
   ],
   "source": [
    "mi_lista = [1, 2, 3, 4, 5]\n",
    "for elemento in mi_lista:\n",
    "    print(elemento)"
   ]
  },
  {
   "cell_type": "code",
   "execution_count": 51,
   "metadata": {},
   "outputs": [
    {
     "name": "stdout",
     "output_type": "stream",
     "text": [
      "10\n",
      "20\n",
      "30\n",
      "40\n",
      "50\n"
     ]
    }
   ],
   "source": [
    "mi_tupla = (10, 20, 30, 40, 50)\n",
    "for elemento in mi_tupla:\n",
    "    print(elemento)"
   ]
  },
  {
   "cell_type": "code",
   "execution_count": 52,
   "metadata": {},
   "outputs": [
    {
     "name": "stdout",
     "output_type": "stream",
     "text": [
      "P\n",
      "y\n",
      "t\n",
      "h\n",
      "o\n",
      "n\n"
     ]
    }
   ],
   "source": [
    "mi_cadena = \"Python\"\n",
    "for letra in mi_cadena:\n",
    "    print(letra)"
   ]
  },
  {
   "cell_type": "code",
   "execution_count": 54,
   "metadata": {},
   "outputs": [
    {
     "name": "stdout",
     "output_type": "stream",
     "text": [
      "a\n",
      "b\n",
      "c\n"
     ]
    }
   ],
   "source": [
    "mi_diccionario = {'a': 1, 'b': 2, 'c': 3}\n",
    "for clave in mi_diccionario.keys():\n",
    "    print(clave)"
   ]
  },
  {
   "cell_type": "code",
   "execution_count": 55,
   "metadata": {},
   "outputs": [
    {
     "name": "stdout",
     "output_type": "stream",
     "text": [
      "1\n",
      "2\n",
      "3\n"
     ]
    }
   ],
   "source": [
    "mi_diccionario = {'a': 1, 'b': 2, 'c': 3}\n",
    "for valor in mi_diccionario.values():\n",
    "    print(valor)"
   ]
  },
  {
   "cell_type": "markdown",
   "metadata": {},
   "source": [
    "### destructurando"
   ]
  },
  {
   "cell_type": "code",
   "execution_count": 87,
   "metadata": {},
   "outputs": [
    {
     "name": "stdout",
     "output_type": "stream",
     "text": [
      "['__add__', '__class__', '__class_getitem__', '__contains__', '__delattr__', '__dir__', '__doc__', '__eq__', '__format__', '__ge__', '__getattribute__', '__getitem__', '__getnewargs__', '__gt__', '__hash__', '__init__', '__init_subclass__', '__iter__', '__le__', '__len__', '__lt__', '__mul__', '__ne__', '__new__', '__reduce__', '__reduce_ex__', '__repr__', '__rmul__', '__setattr__', '__sizeof__', '__str__', '__subclasshook__', 'count', 'index']\n"
     ]
    }
   ],
   "source": [
    "# Definimos una tupla llamada 'mi_tupla' con algunos valores.\n",
    "mi_tupla = (10, 20, 30, 40, 50)\n",
    "\n",
    "# Utilizamos la función 'dir()' para obtener una lista de atributos y métodos asociados a la tupla.\n",
    "print(dir(mi_tupla))"
   ]
  },
  {
   "cell_type": "code",
   "execution_count": 90,
   "metadata": {},
   "outputs": [
    {
     "name": "stdout",
     "output_type": "stream",
     "text": [
      "<tuple_iterator object at 0x7fa4887588e0>\n",
      "['__class__', '__delattr__', '__dir__', '__doc__', '__eq__', '__format__', '__ge__', '__getattribute__', '__gt__', '__hash__', '__init__', '__init_subclass__', '__iter__', '__le__', '__length_hint__', '__lt__', '__ne__', '__new__', '__next__', '__reduce__', '__reduce_ex__', '__repr__', '__setattr__', '__setstate__', '__sizeof__', '__str__', '__subclasshook__']\n"
     ]
    }
   ],
   "source": [
    "# Definimos una tupla llamada 'mi_tupla' con algunos valores.\n",
    "mi_tupla = (10, 20, 30, 40, 50)\n",
    "\n",
    "# Creamos un iterador a partir de la tupla 'mi_tupla'.\n",
    "iterador_1 = mi_tupla.__iter__()\n",
    "\n",
    "# Imprimimos el iterador, que es un objeto iterable.\n",
    "print(iterador_1)\n",
    "\n",
    "# Utilizamos la función 'dir()' para obtener una lista de atributos y métodos asociados al iterador.\n",
    "atributos_y_metodos_iterador = dir(iterador_1)\n",
    "\n",
    "# Imprimimos la lista de atributos y métodos asociados al iterador.\n",
    "print(atributos_y_metodos_iterador)"
   ]
  },
  {
   "cell_type": "code",
   "execution_count": 92,
   "metadata": {},
   "outputs": [
    {
     "name": "stdout",
     "output_type": "stream",
     "text": [
      "10\n",
      "20\n",
      "30\n",
      "40\n",
      "50\n"
     ]
    }
   ],
   "source": [
    "# Imprimimos los elemento del iterador utilizando el método '__next__()'.\n",
    "print(iterador_1.__next__())\n",
    "print(iterador_1.__next__())\n",
    "print(iterador_1.__next__())\n",
    "print(iterador_1.__next__())\n",
    "print(iterador_1.__next__())"
   ]
  },
  {
   "cell_type": "code",
   "execution_count": 95,
   "metadata": {},
   "outputs": [
    {
     "ename": "StopIteration",
     "evalue": "",
     "output_type": "error",
     "traceback": [
      "\u001b[0;31m---------------------------------------------------------------------------\u001b[0m",
      "\u001b[0;31mStopIteration\u001b[0m                             Traceback (most recent call last)",
      "Cell \u001b[0;32mIn[95], line 1\u001b[0m\n\u001b[0;32m----> 1\u001b[0m \u001b[38;5;28mprint\u001b[39m(\u001b[43miterador_1\u001b[49m\u001b[38;5;241;43m.\u001b[39;49m\u001b[38;5;21;43m__next__\u001b[39;49m\u001b[43m(\u001b[49m\u001b[43m)\u001b[49m)\n\u001b[1;32m      2\u001b[0m \u001b[38;5;66;03m# El error StopIteration indica que el iterador ha alcanzado el final y no hay más elementos para iterar. \u001b[39;00m\n",
      "\u001b[0;31mStopIteration\u001b[0m: "
     ]
    }
   ],
   "source": [
    "print(iterador_1.__next__())\n",
    "# El error StopIteration indica que el iterador ha alcanzado el final y no hay más elementos para iterar. "
   ]
  },
  {
   "cell_type": "code",
   "execution_count": 99,
   "metadata": {},
   "outputs": [
    {
     "name": "stdout",
     "output_type": "stream",
     "text": [
      "<tuple_iterator object at 0x7fa488e2ce80>\n",
      "['__class__', '__delattr__', '__dir__', '__doc__', '__eq__', '__format__', '__ge__', '__getattribute__', '__gt__', '__hash__', '__init__', '__init_subclass__', '__iter__', '__le__', '__length_hint__', '__lt__', '__ne__', '__new__', '__next__', '__reduce__', '__reduce_ex__', '__repr__', '__setattr__', '__setstate__', '__sizeof__', '__str__', '__subclasshook__']\n"
     ]
    }
   ],
   "source": [
    "# Creamos un iterador a partir de la tupla.\n",
    "iterador_2 = iter(mi_tupla)\n",
    "\n",
    "# Mostramos el iterador y sus métodos disponibles.\n",
    "print(iterador_2)\n",
    "print(dir(iterador_2))"
   ]
  },
  {
   "cell_type": "code",
   "execution_count": 100,
   "metadata": {},
   "outputs": [
    {
     "name": "stdout",
     "output_type": "stream",
     "text": [
      "10\n",
      "20\n",
      "30\n",
      "40\n",
      "50\n"
     ]
    }
   ],
   "source": [
    "# Mostramos el valor obtenido al usar la función next() para obtener elementos del iterador.\n",
    "print(next(iterador_2))\n",
    "print(next(iterador_2))\n",
    "print(next(iterador_2))\n",
    "print(next(iterador_2))\n",
    "print(next(iterador_2))"
   ]
  },
  {
   "cell_type": "code",
   "execution_count": 102,
   "metadata": {},
   "outputs": [
    {
     "ename": "StopIteration",
     "evalue": "",
     "output_type": "error",
     "traceback": [
      "\u001b[0;31m---------------------------------------------------------------------------\u001b[0m",
      "\u001b[0;31mStopIteration\u001b[0m                             Traceback (most recent call last)",
      "Cell \u001b[0;32mIn[102], line 1\u001b[0m\n\u001b[0;32m----> 1\u001b[0m \u001b[38;5;28mprint\u001b[39m(\u001b[38;5;28;43mnext\u001b[39;49m\u001b[43m(\u001b[49m\u001b[43miterador_2\u001b[49m\u001b[43m)\u001b[49m)\n\u001b[1;32m      2\u001b[0m \u001b[38;5;66;03m# El error StopIteration indica que el iterador ha alcanzado el final y no hay más elementos para iterar. \u001b[39;00m\n",
      "\u001b[0;31mStopIteration\u001b[0m: "
     ]
    }
   ],
   "source": [
    "print(next(iterador_2))\n",
    "# El error StopIteration indica que el iterador ha alcanzado el final y no hay más elementos para iterar. "
   ]
  },
  {
   "cell_type": "code",
   "execution_count": 107,
   "metadata": {},
   "outputs": [],
   "source": [
    "users = [\"jorge\", \"jaime\", \"fransisco\"]"
   ]
  },
  {
   "cell_type": "code",
   "execution_count": 112,
   "metadata": {},
   "outputs": [
    {
     "name": "stdout",
     "output_type": "stream",
     "text": [
      "jorge\n",
      "jaime\n",
      "fransisco\n"
     ]
    }
   ],
   "source": [
    "# Itera a través de la lista de usuarios y muestra cada usuario en la consola.\n",
    "for user in users:\n",
    "    print(user)"
   ]
  },
  {
   "cell_type": "code",
   "execution_count": 111,
   "metadata": {},
   "outputs": [
    {
     "name": "stdout",
     "output_type": "stream",
     "text": [
      "jorge\n",
      "jaime\n",
      "fransisco\n"
     ]
    }
   ],
   "source": [
    "# Creamos un iterador a partir de la lista de usuarios.\n",
    "looper = iter(users)\n",
    "\n",
    "# Ejecutamos un bucle while infinito.\n",
    "while True:\n",
    "    try:\n",
    "        # Intentamos obtener el siguiente elemento del iterador.\n",
    "        user = next(looper)\n",
    "\n",
    "        # Imprimimos el usuario.\n",
    "        print(user)\n",
    "    except StopIteration:\n",
    "        # Si alcanzamos el final del iterador, salimos del bucle.\n",
    "        break"
   ]
  },
  {
   "cell_type": "markdown",
   "metadata": {},
   "source": [
    "Los iteradores son una parte fundamental de la programación en Python. En esencia, son objetos que nos permiten recorrer elementos de una colección o secuencia, como listas, tuplas o diccionarios. A lo largo de esta lección, exploraremos cómo funcionan los iteradores y cómo se pueden crear iteradores personalizados para recorrer y procesar datos de manera eficiente en Python. Entender los iteradores es esencial para trabajar con bucles, generadores y expresiones generadoras, y te ayudará a aprovechar al máximo el poder de Python en tus programas y proyectos.\""
   ]
  },
  {
   "cell_type": "code",
   "execution_count": 114,
   "metadata": {},
   "outputs": [
    {
     "name": "stdout",
     "output_type": "stream",
     "text": [
      "0\n",
      "1\n",
      "2\n",
      "3\n",
      "4\n"
     ]
    }
   ],
   "source": [
    "# Definimos una clase llamada 'MiIterador' que actúa como un iterador.\n",
    "class MiIterador:\n",
    "    def __init__(self, max_value):\n",
    "        self.max_value = max_value  # Valor máximo para iterar\n",
    "        self.current = 0  # Valor actual del iterador\n",
    "\n",
    "    def __iter__(self):\n",
    "        return self  # El objeto es su propio iterador\n",
    "\n",
    "    def __next__(self):\n",
    "        if self.current < self.max_value:\n",
    "            self.current += 1\n",
    "            return self.current - 1  # Devuelve el valor actual antes de incrementarlo\n",
    "        else:\n",
    "            raise StopIteration  # Alcanzamos el final del iterador\n",
    "\n",
    "# Creamos una instancia de 'MiIterador' con un valor máximo de 5.\n",
    "mi_iterador = MiIterador(5)\n",
    "\n",
    "# Iteramos a través de 'mi_iterador' utilizando un bucle 'for' y mostramos los elementos.\n",
    "for elemento in mi_iterador:\n",
    "    print(elemento)"
   ]
  },
  {
   "cell_type": "markdown",
   "metadata": {},
   "source": [
    "## GENERATORS"
   ]
  },
  {
   "cell_type": "markdown",
   "metadata": {},
   "source": [
    "- Los generadores son una característica única y poderosa en Python que permiten crear secuencias de valores de manera eficiente, especialmente cuando se trabaja con grandes conjuntos de datos o cálculos costosos en memoria.\n",
    "- A diferencia de las listas, que almacenan todos los valores en memoria, los generadores generan valores sobre la marcha y solo los mantienen en memoria temporalmente.\n",
    "- Algo muy importante es que los son funciones que actuan como iteradores, generan los elementos según la demanda en su contra parte los iterantes vienen ya con una espesífica cantidad de memoria alocada: vamos a aclarar esto con los siguientes ejemplos."
   ]
  },
  {
   "cell_type": "code",
   "execution_count": 122,
   "metadata": {},
   "outputs": [],
   "source": [
    "def fetch_lines(filename):\n",
    "    try:\n",
    "        # Intentamos abrir el archivo especificado en modo lectura (\"r\").\n",
    "        with open(filename, \"r\") as file:\n",
    "            list_of_lines = []\n",
    "            # Iteramos a través de las líneas del archivo y las almacenamos en una lista.\n",
    "            for line in file:\n",
    "                list_of_lines.append(line)\n",
    "            return list_of_lines  # Retornamos la lista de líneas leídas.\n",
    "    except FileNotFoundError:\n",
    "        # Manejamos la excepción si el archivo no se encuentra.\n",
    "        print(f\"El archivo {filename} no se encontró.\")\n",
    "        return None  # Opcional: Puedes retornar None u otro valor predeterminado en caso de error."
   ]
  },
  {
   "cell_type": "code",
   "execution_count": 129,
   "metadata": {},
   "outputs": [
    {
     "name": "stdout",
     "output_type": "stream",
     "text": [
      "['permalink,company,numEmps,category,city,state,fundedDate,raisedAmt,raisedCurrency,round\\n', 'lifelock,LifeLock,,web,Tempe,AZ,1-May-07,6850000,USD,b\\n', 'lifelock,LifeLock,,web,Tempe,AZ,1-Oct-06,6000000,USD,a\\n', 'lifelock,LifeLock,,web,Tempe,AZ,1-Jan-08,25000000,USD,c\\n', 'mycityfaces,MyCityFaces,7,web,Scottsdale,AZ,1-Jan-08,50000,USD,seed\\n', 'flypaper,Flypaper,,web,Phoenix,AZ,1-Feb-08,3000000,USD,a\\n', 'infusionsoft,Infusionsoft,105,software,Gilbert,AZ,1-Oct-07,9000000,USD,a\\n', 'gauto,gAuto,4,web,Scottsdale,AZ,1-Jan-08,250000,USD,seed\\n', 'chosenlist-com,ChosenList.com,5,web,Scottsdale,AZ,1-Oct-06,140000,USD,seed\\n', 'chosenlist-com,ChosenList.com,5,web,Scottsdale,AZ,25-Jan-08,233750,USD,angel\\n', 'digg,Digg,60,web,San Francisco,CA,1-Dec-06,8500000,USD,b\\n', 'digg,Digg,60,web,San Francisco,CA,1-Oct-05,2800000,USD,a\\n', 'facebook,Facebook,450,web,Palo Alto,CA,1-Sep-04,500000,USD,angel\\n', 'facebook,Facebook,450,web,Palo Alto,CA,1-May-05,12700000,USD,a\\n', 'facebook,Facebook,450,web,Palo Alto,CA,1-Apr-06,27500000,USD,b\\n', 'facebook,Facebook,450,web,Palo Alto,CA,1-Oct-07,300000000,USD,c\\n', 'facebook,Facebook,450,web,Palo Alto,CA,1-Mar-08,40000000,USD,c\\n', 'facebook,Facebook,450,web,Palo Alto,CA,15-Jan-08,15000000,USD,c\\n', 'facebook,Facebook,450,web,Palo Alto,CA,1-May-08,100000000,USD,debt_round\\n', 'photobucket,Photobucket,60,web,Palo Alto,CA,1-May-06,10500000,USD,b\\n', 'photobucket,Photobucket,60,web,Palo Alto,CA,1-Mar-05,3000000,USD,a\\n', 'omnidrive,Omnidrive,,web,Palo Alto,CA,1-Dec-06,800000,USD,angel\\n', 'geni,Geni,18,web,West Hollywood,CA,1-Jan-07,1500000,USD,a\\n', 'geni,Geni,18,web,West Hollywood,CA,1-Mar-07,10000000,USD,b\\n', 'twitter,Twitter,17,web,San Francisco,CA,1-Jul-07,5400000,USD,b\\n', 'twitter,Twitter,17,web,San Francisco,CA,1-May-08,15000000,USD,c\\n', 'stumbleupon,StumbleUpon,,web,San Francisco,CA,1-Dec-05,1500000,USD,seed\\n', 'gizmoz,Gizmoz,,web,Menlo Park,CA,1-May-07,6300000,USD,a\\n', 'gizmoz,Gizmoz,,web,Menlo Park,CA,16-Mar-08,6500000,USD,b\\n', 'scribd,Scribd,14,web,San Francisco,CA,1-Jun-06,12000,USD,seed\\n', 'scribd,Scribd,14,web,San Francisco,CA,1-Jan-07,40000,USD,angel\\n', 'scribd,Scribd,14,web,San Francisco,CA,1-Jun-07,3710000,USD,a\\n', 'slacker,Slacker,,web,San Diego,CA,1-Jun-07,40000000,USD,b\\n', 'slacker,Slacker,,web,San Diego,CA,1-Jun-07,13500000,USD,a\\n', 'lala,Lala,,web,Palo Alto,CA,1-May-07,9000000,USD,a\\n', 'plaxo,Plaxo,50,web,Mountain View,CA,1-Nov-02,3800000,USD,a\\n', 'plaxo,Plaxo,50,web,Mountain View,CA,1-Jul-03,8500000,USD,b\\n', 'plaxo,Plaxo,50,web,Mountain View,CA,1-Apr-04,7000000,USD,c\\n', 'plaxo,Plaxo,50,web,Mountain View,CA,1-Feb-07,9000000,USD,d\\n', 'powerset,Powerset,60,web,San Francisco,CA,1-Jun-07,12500000,USD,a\\n', 'technorati,Technorati,25,web,San Francisco,CA,1-Jun-06,10520000,USD,c\\n', 'technorati,Technorati,25,web,San Francisco,CA,1-Sep-04,6500000,USD,b\\n', 'technorati,Technorati,25,web,San Francisco,CA,13-Jun-08,7500000,USD,d\\n', 'technorati,Technorati,25,web,San Francisco,CA,10-May-07,1000000,USD,c\\n', 'mahalo,Mahalo,40,web,Santa Monica,CA,1-Jan-06,5000000,USD,a\\n', 'mahalo,Mahalo,40,web,Santa Monica,CA,1-Jan-07,16000000,USD,b\\n', 'kyte,Kyte,40,web,San Francisco,CA,1-Jul-07,2250000,USD,a\\n', 'kyte,Kyte,40,web,San Francisco,CA,1-Dec-07,15000000,USD,b\\n', 'kyte,Kyte,40,web,San Francisco,CA,10-Mar-08,6100000,USD,b\\n', 'veoh,Veoh,,web,San Diego,CA,1-Apr-06,12500000,USD,b\\n', 'veoh,Veoh,,web,San Diego,CA,1-Aug-07,25000000,USD,c\\n', 'veoh,Veoh,,web,San Diego,CA,1-Jul-05,2250000,USD,a\\n', 'veoh,Veoh,,web,San Diego,CA,3-Jun-08,30000000,USD,d\\n', 'jingle-networks,Jingle Networks,,web,Menlo Park,CA,1-Oct-06,30000000,USD,c\\n', 'jingle-networks,Jingle Networks,,web,Menlo Park,CA,1-Dec-05,5000000,USD,a\\n', 'jingle-networks,Jingle Networks,,web,Menlo Park,CA,1-Apr-06,26000000,USD,b\\n', 'jingle-networks,Jingle Networks,,web,Menlo Park,CA,1-Oct-05,400000,USD,angel\\n', 'jingle-networks,Jingle Networks,,web,Menlo Park,CA,1-Jan-08,13000000,USD,c\\n', 'ning,Ning,41,web,Palo Alto,CA,1-Jul-07,44000000,USD,c\\n', 'ning,Ning,41,web,Palo Alto,CA,1-Apr-08,60000000,USD,d\\n', 'jotspot,JotSpot,,web,Palo Alto,CA,1-Aug-04,5200000,USD,a\\n', 'mercora,Mercora,,web,Sunnyvale,CA,1-Jan-05,5000000,USD,a\\n', 'wesabe,Wesabe,,web,San Francisco,CA,1-Feb-07,700000,USD,seed\\n', 'wesabe,Wesabe,,web,San Francisco,CA,1-Jun-07,4000000,USD,a\\n', 'jangl,Jangl,22,web,Pleasanton,CA,1-Jul-06,7000000,USD,b\\n', 'hyphen8,Hyphen 8,4,web,San Francisco,CA,1-Oct-07,100000,USD,angel\\n', 'prosper,Prosper,,web,San Francisco,CA,1-Jun-07,20000000,USD,c\\n', 'prosper,Prosper,,web,San Francisco,CA,1-Apr-05,7500000,USD,a\\n', 'prosper,Prosper,,web,San Francisco,CA,1-Feb-06,12500000,USD,b\\n', 'google,Google,20000,web,Mountain View,CA,1-Jun-99,25000000,USD,a\\n', 'jajah,Jajah,80,web,Mountain View,CA,1-May-07,20000000,USD,c\\n', 'jajah,Jajah,80,web,Mountain View,CA,1-Mar-06,3000000,USD,a\\n', 'jajah,Jajah,80,web,Mountain View,CA,1-Apr-06,5000000,USD,b\\n', 'youtube,YouTube,,web,San Bruno,CA,1-Nov-05,3500000,USD,a\\n', 'youtube,YouTube,,web,San Bruno,CA,1-Apr-06,8000000,USD,b\\n', 'ustream,Ustream,,web,Mountain View,CA,1-Dec-07,2000000,USD,angel\\n', 'ustream,Ustream,,web,Mountain View,CA,10-Apr-08,11100000,USD,a\\n', 'gizmoproject,GizmoProject,,web,San Diego,CA,1-Feb-06,6000000,USD,a\\n', 'adap-tv,Adap.tv,15,web,San Mateo,CA,1-Jul-07,10000000,USD,a\\n', 'topix,Topix,,web,Palo Alto,CA,1-Nov-06,15000000,USD,b\\n', 'revision3,Revision3,,web,San Francisco,CA,1-Sep-06,1000000,USD,a\\n', 'revision3,Revision3,,web,San Francisco,CA,1-Jun-07,8000000,USD,b\\n', 'aggregateknowledge,Aggregate Knowledge,,web,San Mateo,CA,1-Jun-06,5000000,USD,a\\n', 'aggregateknowledge,Aggregate Knowledge,,web,San Mateo,CA,1-Apr-07,20000000,USD,b\\n', 'sugarinc,Sugar Inc,,web,San Francisco,CA,1-Oct-06,5000000,USD,a\\n', 'sugarinc,Sugar Inc,,web,San Francisco,CA,1-Jun-07,10000000,USD,b\\n', 'zing,Zing,,web,Mountain View,CA,1-Jan-07,13000000,USD,a\\n', 'criticalmetrics,CriticalMetrics,4,web,,CA,1-Jan-07,100000,USD,angel\\n', 'spock,Spock,30,web,Redwood City,CA,1-Dec-06,7000000,USD,a\\n', 'wize,Wize,,web,,CA,1-Jan-07,4000000,USD,a\\n', 'sodahead,SodaHead,,web,,CA,1-Jan-07,4250000,USD,a\\n', 'sodahead,SodaHead,,web,,CA,25-Jun-08,8400000,USD,b\\n', 'casttv,CastTV,0,web,San Francisco,CA,1-Apr-07,3100000,USD,a\\n', 'buzznet,BuzzNet,,web,Hollywood,CA,1-May-07,6000000,USD,a\\n', 'buzznet,BuzzNet,,web,Hollywood,CA,7-Apr-08,25000000,USD,b\\n', 'funny-or-die,Funny Or Die,,web,Palo Alto,CA,1-Dec-07,15000000,USD,b\\n', 'sphere,Sphere,11,web,San Francisco,CA,1-May-06,3000000,USD,b\\n', 'sphere,Sphere,11,web,San Francisco,CA,1-Apr-05,500000,USD,a\\n', 'meevee,MeeVee,,web,Burlingame,CA,1-Feb-06,6500000,USD,b\\n', 'meevee,MeeVee,,web,Burlingame,CA,1-Aug-06,8000000,USD,c\\n', 'meevee,MeeVee,,web,Burlingame,CA,1-Feb-05,7000000,USD,a\\n', 'meevee,MeeVee,,web,Burlingame,CA,1-Sep-07,3500000,USD,d\\n', 'mashery,Mashery,0,web,San Francisco,CA,26-Jun-08,2000000,USD,c\\n', 'yelp,Yelp,,web,San Francisco,CA,1-Oct-06,10000000,USD,c\\n', 'yelp,Yelp,,web,San Francisco,CA,1-Oct-05,5000000,USD,b\\n', 'yelp,Yelp,,web,San Francisco,CA,1-Jul-04,1000000,USD,a\\n', 'yelp,Yelp,,web,San Francisco,CA,26-Feb-08,15000000,USD,d\\n', 'spotplex,Spotplex,3,web,Santa Clara,CA,1-Jan-07,450000,USD,angel\\n', 'coghead,Coghead,21,web,Redwood City,CA,1-Mar-06,3200000,USD,a\\n', 'coghead,Coghead,21,web,Redwood City,CA,1-Mar-07,8000000,USD,b\\n', 'zooomr,Zooomr,,web,San Francisco,CA,1-Feb-06,50000,USD,angel\\n', 'sidestep,SideStep,75,web,Santa Clara,CA,1-Feb-07,15000000,USD,c\\n', 'sidestep,SideStep,75,web,Santa Clara,CA,1-Jan-04,8000000,USD,b\\n', 'sidestep,SideStep,75,web,Santa Clara,CA,1-Dec-99,2200000,USD,a\\n', 'sidestep,SideStep,75,web,Santa Clara,CA,1-Oct-00,6800000,USD,a\\n', 'rockyou,RockYou,,web,San Mateo,CA,1-Jan-07,1500000,USD,a\\n', 'rockyou,RockYou,,web,San Mateo,CA,1-Mar-07,15000000,USD,b\\n', 'rockyou,RockYou,,web,San Mateo,CA,9-Jun-08,35000000,USD,c\\n', 'rockyou,RockYou,,web,San Mateo,CA,27-May-08,1000000,USD,unattributed\\n', 'pageflakes,Pageflakes,20,web,San Francisco,CA,1-May-06,1300000,USD,a\\n', 'swivel,Swivel,,web,San Francisco,CA,1-Sep-06,1000000,USD,a\\n', 'swivel,Swivel,,web,San Francisco,CA,1-Apr-07,1000000,USD,a\\n', 'slide,Slide,64,web,San Francisco,CA,1-Jul-05,8000000,USD,b\\n', 'slide,Slide,64,web,San Francisco,CA,1-Jan-08,50000000,USD,d\\n', 'bebo,Bebo,,web,San Francisco,CA,1-May-06,15000000,USD,a\\n', 'freebase,freebase,,web,San Francisco,CA,1-Mar-06,15000000,USD,a\\n', 'freebase,freebase,,web,San Francisco,CA,1-Jan-08,42500000,USD,b\\n', 'metawebtechnologies,Metaweb Technologies,,web,San Francisco,CA,15-Jan-08,42000000,USD,b\\n', 'glammedia,Glam Media,,web,Brisbane,CA,1-Jul-04,1100000,USD,a\\n', 'glammedia,Glam Media,,web,Brisbane,CA,1-Jul-05,10000000,USD,b\\n', 'glammedia,Glam Media,,web,Brisbane,CA,1-Dec-06,18500000,USD,c\\n', 'glammedia,Glam Media,,web,Brisbane,CA,1-Feb-08,65000000,USD,d\\n', 'glammedia,Glam Media,,web,Brisbane,CA,1-Feb-08,20000000,USD,d\\n', 'thefind,TheFind,,web,Mountain View,CA,1-Feb-05,7000000,USD,a\\n', 'thefind,TheFind,,web,Mountain View,CA,1-Oct-06,4000000,USD,b\\n', 'thefind,TheFind,,web,Mountain View,CA,1-Jul-07,15000000,USD,c\\n', 'zazzle,Zazzle,,web,Redwood City,CA,1-Jul-05,16000000,USD,a\\n', 'zazzle,Zazzle,,web,Redwood City,CA,1-Oct-07,30000000,USD,b\\n', 'dogster,Dogster,,web,San Francisco,CA,1-Sep-06,1000000,USD,angel\\n', 'pandora,Pandora,80,web,Oakland,CA,1-Jan-04,7800000,USD,b\\n', 'pandora,Pandora,80,web,Oakland,CA,1-Oct-05,12000000,USD,c\\n', 'pandora,Pandora,80,web,Oakland,CA,2-Mar-00,1500000,USD,a\\n', 'cafepress,Cafepress,300,web,Foster City,CA,1-Mar-00,1200000,USD,a\\n', 'cafepress,Cafepress,300,web,Foster City,CA,1-May-01,300000,USD,a\\n', 'cafepress,Cafepress,300,web,Foster City,CA,1-Feb-05,14000000,USD,b\\n', 'pbwiki,pbwiki,15,web,,CA,11-Sep-06,350000,USD,a\\n', 'pbwiki,pbwiki,15,web,,CA,1-Feb-07,2100000,USD,b\\n', 'adbrite,AdBrite,,web,San Francisco,CA,1-Sep-04,4000000,USD,a\\n', 'adbrite,AdBrite,,web,San Francisco,CA,1-Feb-06,8000000,USD,b\\n', 'adbrite,AdBrite,,web,San Francisco,CA,1-Nov-07,23000000,USD,c\\n', 'loomia,Loomia,,web,San Francisco,CA,1-Jun-05,1000000,USD,seed\\n', 'loomia,Loomia,,web,San Francisco,CA,1-Apr-08,5000000,USD,a\\n', 'meebo,Meebo,40,web,Mountain View,CA,1-Dec-05,3500000,USD,a\\n', 'meebo,Meebo,40,web,Mountain View,CA,1-Jan-07,9000000,USD,b\\n', 'meebo,Meebo,40,web,Mountain View,CA,30-Apr-08,25000000,USD,c\\n', 'eventbrite,Eventbrite,13,web,San Francisco,CA,1-Nov-06,100000,USD,angel\\n', 'linkedin,LinkedIn,,web,Mountain View,CA,1-Nov-03,4700000,USD,a\\n', 'linkedin,LinkedIn,,web,Mountain View,CA,1-Oct-04,10000000,USD,b\\n', 'linkedin,LinkedIn,,web,Mountain View,CA,1-Jan-07,12800000,USD,c\\n', 'linkedin,LinkedIn,,web,Mountain View,CA,17-Jun-08,53000000,USD,d\\n', 'flickim,FlickIM,,web,Berkeley,CA,1-Mar-07,1600000,USD,a\\n', 'terabitz,Terabitz,12,web,Palo Alto,CA,1-Feb-07,10000000,USD,a\\n', 'healthline,Healthline,,web,San Francisco,CA,1-Jan-06,14000000,USD,a\\n', 'healthline,Healthline,,web,San Francisco,CA,1-Jul-07,21000000,USD,b\\n', 'box-net,Box.net,19,web,Palo Alto,CA,1-Oct-06,1500000,USD,a\\n', 'box-net,Box.net,19,web,Palo Alto,CA,23-Jan-08,6000000,USD,b\\n', 'conduit,Conduit,,web,Redwood Shores,CA,1-Jul-06,1800000,USD,a\\n', 'conduit,Conduit,,web,Redwood Shores,CA,1-Jan-08,8000000,USD,b\\n', 'edgeio,Edgeio,,web,Palo Alto,CA,1-Jul-07,5000000,USD,a\\n', 'spotrunner,Spot Runner,,web,Los Angeles,CA,1-Jan-06,10000000,USD,a\\n', 'spotrunner,Spot Runner,,web,Los Angeles,CA,1-Oct-06,40000000,USD,b\\n', 'spotrunner,Spot Runner,,web,Los Angeles,CA,7-May-08,51000000,USD,c\\n', 'kaboodle,Kaboodle,,web,Santa Clara,CA,1-Mar-05,1500000,USD,a\\n', 'kaboodle,Kaboodle,,web,Santa Clara,CA,1-Mar-06,2000000,USD,b\\n', 'kaboodle,Kaboodle,,web,Santa Clara,CA,1-Mar-07,1500000,USD,c\\n', 'giga-omni-media,Giga Omni Media,18,web,San Francisco,CA,1-Jun-06,325000,USD,a\\n', 'visiblepath,Visible Path,,web,Foster City,CA,1-Mar-06,17000000,USD,b\\n', 'visiblepath,Visible Path,,web,Foster City,CA,1-Mar-06,7700000,USD,a\\n', 'wink,Wink,,web,Mountain View,CA,1-Jan-05,6200000,USD,a\\n', 'seesmic,seesmic,,web,San Francisco,CA,1-Nov-07,6000000,USD,a\\n', 'seesmic,seesmic,,web,San Francisco,CA,20-Jun-08,6000000,USD,b\\n', 'zvents,Zvents,,web,San Mateo,CA,7-Nov-06,7000000,USD,a\\n', 'zvents,Zvents,,web,San Mateo,CA,5-Oct-05,200000,USD,seed\\n', 'eventful,Eventful,35,web,San Diego,CA,1-Sep-06,7500000,USD,b\\n', 'eventful,Eventful,35,web,San Diego,CA,1-Mar-05,2100000,USD,a\\n', 'oodle,Oodle,,web,San Mateo,CA,1-May-06,5000000,USD,a\\n', 'oodle,Oodle,,web,San Mateo,CA,1-Jul-07,11000000,USD,b\\n', 'odesk,oDesk,,web,Menlo Park,CA,1-Apr-06,6000000,USD,a\\n', 'odesk,oDesk,,web,Menlo Park,CA,1-Sep-06,8000000,USD,b\\n', 'odesk,oDesk,,web,Menlo Park,CA,1-Jun-08,15000000,USD,c\\n', 'simplyhired,SimplyHired,,web,Mountain View,CA,1-Mar-06,13500000,USD,b\\n', 'simplyhired,SimplyHired,,web,Mountain View,CA,5-Aug-05,3000000,USD,a\\n', 'ooma,ooma,47,web,Palo Alto,CA,1-Jan-05,8000000,USD,a\\n', 'ooma,ooma,47,web,Palo Alto,CA,1-Dec-06,18000000,USD,b\\n', 'goingon,GoingOn,3,web,Woodside,CA,1-Aug-05,1000000,USD,seed\\n', 'flixster,Flixster,17,web,San Francisco,CA,1-Feb-07,2000000,USD,a\\n', 'flixster,Flixster,17,web,San Francisco,CA,4-Apr-08,5000000,USD,b\\n', 'piczo,Piczo,,web,San Francisco,CA,1-Jan-07,11000000,USD,c\\n', 'socialtext,Socialtext,,web,Palo Alto,CA,1-Jun-04,300000,USD,angel\\n', 'socialtext,Socialtext,,web,Palo Alto,CA,1-Jun-05,3100000,USD,b\\n', 'socialtext,Socialtext,,web,Palo Alto,CA,1-Nov-07,9500000,USD,c\\n', 'powerreviews,PowerReview,,web,Millbrae,CA,1-Dec-05,6250000,USD,a\\n', 'powerreviews,PowerReview,,web,Millbrae,CA,1-Sep-07,15000000,USD,b\\n', 'hi5,hi5,100,web,San Francisco,CA,1-Jul-07,20000000,USD,a\\n', 'hi5,hi5,100,web,San Francisco,CA,1-Dec-07,15000000,USD,debt_round\\n', 'tagged,Tagged,,web,San Francisco,CA,1-Sep-05,1500000,USD,angel\\n', 'tagged,Tagged,,web,San Francisco,CA,1-Dec-05,7000000,USD,a\\n', 'tagged,Tagged,,web,San Francisco,CA,1-Jul-07,15000000,USD,b\\n', 'jaxtr,Jaxtr,,web,Menlo Park,CA,1-Jul-07,1500000,USD,angel\\n', 'jaxtr,Jaxtr,,web,Menlo Park,CA,1-Aug-07,10000000,USD,a\\n', 'jaxtr,Jaxtr,,web,Menlo Park,CA,23-Jun-08,10000000,USD,b\\n', 'm,Me,,web,San Jose,CA,1-May-07,1500000,USD,seed\\n', 'intronetworks,introNetworks,9,web,Santa Barbara,CA,1-May-07,2700000,USD,a\\n', 'leveragesoftware,Leverage Software,21,web,San Francisco,CA,14-May-05,6000000,USD,a\\n', 'lithiumtechnologies,Lithium Technologies,42,web,Emeryville,CA,17-Apr-07,9000000,USD,a\\n', 'lithiumtechnologies,Lithium Technologies,42,web,Emeryville,CA,1-Jun-08,12000000,USD,b\\n', 'genius,Genius,,web,San Mateo,CA,1-Mar-06,5100000,USD,a\\n', 'genius,Genius,,web,San Mateo,CA,1-Jan-07,10000000,USD,b\\n', 'genius,Genius,,web,San Mateo,CA,5-Feb-08,19000000,USD,c\\n', 'respectance,Respectance,,web,San Francisco,CA,1-Jun-07,250000,USD,seed\\n', 'respectance,Respectance,,web,San Francisco,CA,1-Jul-07,1500000,USD,a\\n', 'curse,Curse,,web,San Francisco,CA,1-Jul-07,5000000,USD,a\\n', 'licketyship,LicketyShip,,web,San Francisco,CA,1-Dec-07,1500000,USD,angel\\n', 'grockit,Grockit,8,web,San Francisco,CA,1-Jun-07,2300000,USD,a\\n', 'grockit,Grockit,8,web,San Francisco,CA,30-May-08,8000000,USD,b\\n', 'peerme,PeerMe,,web,Mountain View,CA,1-Jan-05,5000000,USD,a\\n', 'kiptronic,Kiptronic,20,web,San Francisco,CA,1-Dec-06,4000000,USD,a\\n', 'kiptronic,Kiptronic,20,web,San Francisco,CA,1-Nov-05,300000,USD,angel\\n', 'kiptronic,Kiptronic,20,web,San Francisco,CA,5-Jun-08,3000000,USD,b\\n', 'vuze,Vuze,,web,Palo Alto,CA,1-Dec-06,12000000,USD,b\\n', 'vuze,Vuze,,web,Palo Alto,CA,1-Dec-07,20000000,USD,c\\n', 'phonezoo,Phonezoo,,web,Sunnyvale,CA,1-Jun-06,560000,USD,a\\n', 'phonezoo,Phonezoo,,web,Sunnyvale,CA,1-Feb-07,1500000,USD,a\\n', 'droplettechnology,Droplet Technology,,web,Menlo Park,CA,1-Oct-06,3500000,USD,a\\n', 'podtech,PodTech,,web,Palo Alto,CA,1-Mar-06,5500000,USD,a\\n', 'podtech,PodTech,,web,Palo Alto,CA,1-Jun-07,2000000,USD,a\\n', 'crackle,Crackle,,web,Mill Valley,CA,1-Dec-05,1750000,USD,a\\n', 'reddit,Reddit,,web,San Francisco,CA,1-Jun-05,100000,USD,seed\\n', 'wikia,Wikia,,web,San Mateo,CA,1-Mar-06,4000000,USD,a\\n', 'wikia,Wikia,,web,San Mateo,CA,1-Dec-06,10000000,USD,b\\n', 'retrevo,Retrevo,,web,Sunnyvale,CA,1-Dec-06,3200000,USD,a\\n', 'retrevo,Retrevo,,web,Sunnyvale,CA,1-Feb-06,700000,USD,seed\\n', 'retrevo,Retrevo,,web,Sunnyvale,CA,20-Mar-08,8000000,USD,b\\n', 'buxfer,Buxfer,2,web,Mountain View,CA,1-Jan-07,15000,USD,seed\\n', 'buxfer,Buxfer,2,web,Mountain View,CA,1-Apr-07,300000,USD,angel\\n', 'yousendit,YouSendIt,0,web,Campbell,CA,24-Apr-07,10000000,USD,b\\n', 'yousendit,YouSendIt,0,web,Campbell,CA,1-Aug-05,10000000,USD,a\\n', 'yousendit,YouSendIt,0,web,Campbell,CA,15-Jul-08,14000000,USD,c\\n', 'tangler,Tangler,,web,Mountain View,CA,1-Jul-06,1500000,USD,angel\\n', 'obopay,obopay,,web,Redwood City,CA,1-Feb-06,10000000,USD,a\\n', 'obopay,obopay,,web,Redwood City,CA,1-Sep-06,7000000,USD,b\\n', 'obopay,obopay,,web,Redwood City,CA,1-Jul-07,29000000,USD,c\\n', 'obopay,obopay,,web,Redwood City,CA,21-Apr-08,20000000,USD,d\\n', 'paypal,PayPal,,web,San Jose,CA,1-Apr-00,100000000,USD,c\\n', 'paypal,PayPal,,web,San Jose,CA,1-Feb-01,90000000,USD,d\\n', 'paypal,PayPal,,web,San Jose,CA,1-Jul-99,4000000,USD,b\\n', 'talkplus,TalkPlus,,web,San Mateo,CA,1-Oct-06,5500000,USD,a\\n', 'vudu,Vudu,50,hardware,Santa Clara,CA,1-Jun-05,21000000,USD,a\\n', 'insiderpages,Insider Pages,,web,Redwood City,CA,1-Mar-06,8500000,USD,a\\n', 'snapfish,Snapfish,,web,San Francisco,CA,1-Nov-99,7500000,USD,a\\n', 'snapfish,Snapfish,,web,San Francisco,CA,1-May-00,36000000,USD,b\\n', 'affinitycircles,Affinity Circles,22,web,Mountain View,CA,1-May-06,4100000,USD,c\\n', 'affinitycircles,Affinity Circles,22,web,Mountain View,CA,1-Jun-05,1000000,USD,b\\n', 'affinitycircles,Affinity Circles,22,web,Mountain View,CA,1-Dec-04,440000,USD,a\\n', 'imvu,IMVU,,web,Palo Alto,CA,1-Feb-06,1000000,USD,angel\\n', 'nirvanix,Nirvanix,,web,San Diego,CA,19-Dec-07,18000000,USD,a\\n', 'fuzzwich,Habit Industries,4,web,Palo Alto,CA,1-Jun-07,15000,USD,seed\\n', 'gaia,Gaia,,web,San Jose,CA,1-Jun-06,8930000,USD,a\\n', 'gaia,Gaia,,web,San Jose,CA,1-Mar-07,12000000,USD,b\\n', 'gaia,Gaia,,web,San Jose,CA,14-Jul-08,11000000,USD,c\\n', 'greatcall,GreatCall,,web,Del Mar,CA,1-Aug-07,36600000,USD,a\\n', 'revver,Revver,,web,Los Angeles,CA,1-Nov-05,4000000,USD,a\\n', 'revver,Revver,,web,Los Angeles,CA,1-Apr-06,8700000,USD,b\\n', 'metacafe,Metacafe,,web,Palo Alto,CA,1-Jul-06,15000000,USD,b\\n', 'metacafe,Metacafe,,web,Palo Alto,CA,1-Aug-07,30000000,USD,c\\n', 'flock,Flock,40,web,Redwood City,CA,1-Nov-05,3300000,USD,b\\n', 'flock,Flock,40,web,Redwood City,CA,1-Jun-06,10000000,USD,c\\n', 'flock,Flock,40,web,Redwood City,CA,21-May-08,15000000,USD,d\\n', 'vmixmedia,VMIX Media,42,web,San Diego,CA,1-Mar-06,5000000,USD,a\\n', 'vmixmedia,VMIX Media,42,web,San Diego,CA,1-Oct-07,16500000,USD,b\\n', 'kontera,Kontera,,web,San Francisco,CA,1-Aug-07,10300000,USD,b\\n', 'kontera,Kontera,,web,San Francisco,CA,1-Jul-06,7000000,USD,a\\n', 'tokbox,Tokbox,,web,San Francisco,CA,1-Oct-07,4000000,USD,a\\n', 'tokbox,Tokbox,,web,San Francisco,CA,6-Aug-08,10000000,USD,b\\n', 'six-apart,Six Apart,150,web,San Francisco,CA,1-Oct-04,10000000,USD,b\\n', 'six-apart,Six Apart,150,web,San Francisco,CA,1-Mar-06,12000000,USD,c\\n', 'six-apart,Six Apart,150,web,San Francisco,CA,23-Apr-03,600000,USD,a\\n', 'weebly,Weebly,,web,San Francisco,CA,1-May-07,650000,USD,seed\\n', 'synthasite,Synthasite,26,web,San Francisco,CA,1-Nov-07,5000000,USD,a\\n', 'bittorrent,BitTorrent,29,web,San Francisco,CA,1-Sep-05,8750000,USD,a\\n', 'bittorrent,BitTorrent,29,web,San Francisco,CA,1-Dec-06,25000000,USD,b\\n', 'kongregate,Kongregate,16,web,San Francisco,CA,1-Mar-07,1000000,USD,a\\n', 'kongregate,Kongregate,16,web,San Francisco,CA,1-Aug-07,5000000,USD,b\\n', 'kongregate,Kongregate,16,web,San Francisco,CA,1-Apr-08,3000000,USD,b\\n', 'dancejam,DanceJam,0,web,San Francisco,CA,1-May-07,1000000,USD,angel\\n', 'dancejam,DanceJam,0,web,San Francisco,CA,1-Feb-08,3500000,USD,a\\n', 'fathomonline,Fathom Online,,web,San Francisco,CA,1-Jul-04,6000000,USD,a\\n', 'zivity,Zivity,16,web,San Francisco,CA,1-Aug-07,1000000,USD,seed\\n', 'zivity,Zivity,16,web,San Francisco,CA,1-Mar-08,7000000,USD,b\\n', 'bluelithium,BlueLithium,135,web,San Jose,CA,1-Feb-05,11500000,USD,a\\n', 'expresso,eXpresso,,web,Menlo Park,CA,1-Oct-07,2000000,USD,a\\n', 'doostang,Doostang,,web,Palo Alto,CA,1-Sep-07,3500000,USD,a\\n', 'docstoc,Docstoc,,web,Beverly Hills,CA,1-Nov-07,750000,USD,a\\n', 'docstoc,Docstoc,,web,Beverly Hills,CA,28-Apr-08,3250000,USD,b\\n', 'mevio,Mevio,,web,San Francisco,CA,1-Jul-05,8900000,USD,a\\n', 'mevio,Mevio,,web,San Francisco,CA,1-Sep-06,15000000,USD,b\\n', 'mevio,Mevio,,web,San Francisco,CA,9-Jul-08,15000000,USD,c\\n', 'purevideo,PureVideo Networks,,web,Los Angeles,CA,1-Dec-05,5600000,USD,a\\n', 'purevideo,PureVideo Networks,,web,Los Angeles,CA,1-Sep-07,2850000,USD,b\\n', 'filmloop,FilmLoop,,web,Menlo Park,CA,1-Feb-05,5600000,USD,a\\n', 'bitpass,BitPass,,web,Mountain View,CA,1-Jul-03,1500000,USD,a\\n', 'bitpass,BitPass,,web,Mountain View,CA,1-Sep-04,11800000,USD,b\\n', 'art-com,Art.com,500,web,Emeryville,CA,1-Feb-05,30000000,USD,a\\n', 'atomshockwave,Atom Shockwave,,web,San Francisco,CA,1-Mar-01,22900000,USD,a\\n', 'cinemanow,CinemaNow,,web,Marina Del Rey,CA,1-Jul-04,11000000,USD,a\\n', 'digitalchocolate,Digital Chocolate,,web,San Mateo,CA,1-Dec-03,8400000,USD,a\\n', 'digitalchocolate,Digital Chocolate,,web,San Mateo,CA,1-Dec-03,13000000,USD,b\\n', 'eharmony,eHarmony,,web,Pasadena,CA,1-Jun-00,3000000,USD,a\\n', 'eharmony,eHarmony,,web,Pasadena,CA,1-Nov-04,110000000,USD,b\\n', 'friendster,Friendster,465,web,San Francisco,CA,1-Dec-02,2400000,USD,a\\n', 'friendster,Friendster,465,web,San Francisco,CA,1-Oct-03,13000000,USD,b\\n', 'friendster,Friendster,465,web,San Francisco,CA,1-Aug-06,10000000,USD,c\\n', 'friendster,Friendster,465,web,San Francisco,CA,5-Aug-08,20000000,USD,d\\n', 'greystripe,Greystripe,,web,San Francisco,CA,1-May-07,8900000,USD,b\\n', 'slingmedia,Sling Media,,web,Foster City,CA,1-Nov-04,10500000,USD,a\\n', 'slingmedia,Sling Media,,web,Foster City,CA,1-Jul-05,4000000,USD,a\\n', 'trulia,Trulia,,web,San Francisco,CA,1-Dec-05,5700000,USD,b\\n', 'trulia,Trulia,,web,San Francisco,CA,1-May-07,10000000,USD,c\\n', 'trulia,Trulia,,web,San Francisco,CA,1-Sep-05,2100000,USD,a\\n', 'trulia,Trulia,,web,San Francisco,CA,10-Jul-08,15000000,USD,d\\n', 'lendingclub,Lending Club,,web,Sunnyvale,CA,1-May-07,2000000,USD,angel\\n', 'lendingclub,Lending Club,,web,Sunnyvale,CA,1-Aug-07,10260000,USD,a\\n', 'tubemogul,tubemogul,15,web,Emeryville,CA,7-Feb-08,1500000,USD,a\\n', 'gemini,Gemini,,web,San Mateo,CA,1-Mar-07,20000000,USD,a\\n', 'gemini,Gemini,,web,San Mateo,CA,1-May-07,5000000,USD,b\\n', 'multiverse,Multiverse,,web,Mountain View,CA,1-May-07,4175000,USD,a\\n', 'multiverse,Multiverse,,web,Mountain View,CA,17-Apr-07,850000,USD,angel\\n', 'limelife,LimeLife,,mobile,Menlo Park,CA,28-Mar-06,10000000,USD,b\\n', 'limelife,LimeLife,,mobile,Menlo Park,CA,1-Aug-05,5000000,USD,a\\n', 'limelife,LimeLife,,mobile,Menlo Park,CA,24-May-07,3900000,USD,b\\n', 'opentable,OpenTable,,web,San Francisco,CA,1-May-99,2000000,USD,a\\n', 'opentable,OpenTable,,web,San Francisco,CA,1-Jan-00,10000000,USD,b\\n', 'opentable,OpenTable,,web,San Francisco,CA,1-Oct-00,36000000,USD,c\\n', 'rooftopcomedy,RooftopComedy,20,web,San Francisco,CA,1-May-07,2500000,USD,a\\n', 'federatedmedia,Federated Media,,web,Sausalito,CA,1-Aug-07,4500000,USD,b\\n', 'federatedmedia,Federated Media,,web,Sausalito,CA,1-Apr-08,50000000,USD,c\\n', 'deliveryagent,Delivery Agent,,web,San Francisco,CA,1-May-07,18500000,USD,c\\n', 'deliveryagent,Delivery Agent,,web,San Francisco,CA,17-May-06,11000000,USD,b\\n', 'deliveryagent,Delivery Agent,,web,San Francisco,CA,29-Mar-05,5500000,USD,a\\n', 'reunion,Reunion,100,web,Los Angeles,CA,1-Apr-07,25000000,USD,a\\n', 'mixercast,Mixercast,,web,San Mateo,CA,1-May-05,2600000,USD,a\\n', 'mixercast,Mixercast,,web,San Mateo,CA,1-Jan-08,6000000,USD,b\\n', 'mtraks,mTraks,,web,San Diego,CA,1-May-07,550000,USD,angel\\n', 'xora,Xora,,web,Mountain View,CA,1-May-01,7000000,USD,a\\n', 'xora,Xora,,web,Mountain View,CA,1-Feb-03,4000000,USD,b\\n', 'xora,Xora,,web,Mountain View,CA,1-Jun-07,4000000,USD,debt_round\\n', 'ooyala,Ooyala,,web,Mountain View,CA,1-Jan-08,8500000,USD,b\\n', 'saynow,SayNow,14,web,Palo Alto,CA,1-Sep-07,7500000,USD,a\\n', 'crunchyroll,Crunchyroll,,web,San Francsico,CA,1-Feb-08,4050000,USD,a\\n', 'circleup,CircleUp,19,web,Newport Beach,CA,1-Jun-07,3000000,USD,a\\n', 'pixsense,PixSense,,web,Santa Clara,CA,1-Dec-06,5400000,USD,a\\n', 'pixsense,PixSense,,web,Santa Clara,CA,1-Jun-07,2000000,USD,b\\n', 'danal,Danal,,web,San Jose,CA,1-Jun-07,9500000,USD,a\\n', 'hulu,hulu,,web,Los Angeles,CA,1-Aug-07,100000000,USD,a\\n', 'ourstory,OurStory,,web,Mountain View,CA,1-Jan-06,6300000,USD,a\\n', 'specificmedia,Specificmedia,,web,Ir vine,CA,1-Jun-06,10000000,USD,a\\n', 'specificmedia,Specificmedia,,web,Ir vine,CA,1-Nov-07,100000000,USD,b\\n', 'admob,AdMob,,web,San Mateo,CA,1-Mar-07,15000000,USD,b\\n', 'mysql,MySQL,,web,Cupertino,CA,1-Feb-06,18500000,USD,c\\n', 'mysql,MySQL,,web,Cupertino,CA,1-Jun-03,19500000,USD,b\\n', 'attributor,Attributor,0,web,Redwood City,CA,28-Jan-06,2000000,USD,a\\n', 'attributor,Attributor,0,web,Redwood City,CA,2-Apr-08,12000000,USD,c\\n', 'attributor,Attributor,0,web,Redwood City,CA,18-Dec-06,8000000,USD,b\\n', 'socialmedia,Social Media,15,web,Palo Alto,CA,1-Sep-07,500000,USD,a\\n', 'socialmedia,Social Media,15,web,Palo Alto,CA,1-Oct-07,3500000,USD,b\\n', 'demandmedia,Demand Media,,web,Santa Monica,CA,1-May-06,120000000,USD,a\\n', 'demandmedia,Demand Media,,web,Santa Monica,CA,1-Sep-06,100000000,USD,b\\n', 'demandmedia,Demand Media,,web,Santa Monica,CA,1-Sep-07,100000000,USD,c\\n', 'demandmedia,Demand Media,,web,Santa Monica,CA,24-Mar-08,35000000,USD,d\\n', 'tripit,TripIt,8,web,San Francisco,CA,1-Apr-07,1000000,USD,seed\\n', 'pubmatic,PubMatic,35,web,Palo Alto,CA,1-Jan-08,7000000,USD,a\\n', 'mint,Mint,22,web,Mountain View,CA,1-Oct-07,4700000,USD,a\\n', 'mint,Mint,22,web,Mountain View,CA,1-Oct-06,325000,USD,seed\\n', 'mint,Mint,22,web,Mountain View,CA,5-Mar-08,12000000,USD,b\\n', 'app2you,app2you,4,web,La Jolla,CA,20-Nov-07,255000,USD,angel\\n', 'app2you,app2you,4,web,La Jolla,CA,1-Oct-06,177000,USD,angel\\n', 'yourstreet,YourStreet,6,web,San Francisco,CA,1-Oct-06,250000,USD,angel\\n', 'tagworld,Tagworld,,web,Santa Monica,CA,1-Mar-06,7500000,USD,a\\n', 'tagworld,Tagworld,,web,Santa Monica,CA,1-Dec-06,40000000,USD,b\\n', 'rotohog,RotoHog,,web,Inglewood,CA,1-Aug-07,6000000,USD,a\\n', 'thisnext,ThisNext,0,web,Santa Monica,CA,1-Jan-08,5000000,USD,b\\n', 'thisnext,ThisNext,0,web,Santa Monica,CA,1-Jan-06,2500000,USD,a\\n', 'chesspark,ChessPark,,web,West Palm Beach,CA,1-Jul-07,1000000,USD,angel\\n', 'break,Break,,web,Beverly Hills,CA,1-Jul-07,21400000,USD,a\\n', 'musestorm,MuseStorm,,web,Sunnyvale,CA,1-Jul-07,1000000,USD,a\\n', 'mediamachines,Media Machines,,web,San Francisco,CA,1-Aug-07,9400000,USD,a\\n', 'mig33,Ciihui,,web,Burlingame,CA,1-May-07,10000000,USD,a\\n', 'mig33,Ciihui,,web,Burlingame,CA,1-Jan-08,13500000,USD,b\\n', 'aliph,Aliph,,web,San Francisco,CA,1-Jul-07,5000000,USD,a\\n', 'mego,mEgo,15,web,Los Angeles,CA,1-May-06,1100000,USD,angel\\n', 'mego,mEgo,15,web,Los Angeles,CA,1-Jul-07,2000000,USD,angel\\n', 'realius,Realius,3,web,Berkeley,CA,1-May-07,500000,USD,angel\\n', 'xobni,Xobni,0,software,San Francisco,CA,1-Jun-06,12000,USD,seed\\n', 'xobni,Xobni,0,software,San Francisco,CA,1-Nov-06,80000,USD,angel\\n', 'xobni,Xobni,0,software,San Francisco,CA,1-Mar-07,4260000,USD,a\\n', 'spoke,Spoke,0,web,San Mateo,CA,18-Nov-03,11700000,USD,c\\n', 'spoke,Spoke,0,web,San Mateo,CA,24-Apr-03,9200000,USD,b\\n', 'fixya,FixYa,30,web,San Mateo,CA,1-Jan-07,2000000,USD,a\\n', 'fixya,FixYa,30,web,San Mateo,CA,18-Mar-08,6000000,USD,b\\n', 'mozilla,Mozilla,150,web,Mountain View,CA,15-Jul-03,2000000,USD,unattributed\\n', 'brightqube,BrightQube,0,web,Carlsbad,CA,1-May-07,200000,USD,angel\\n', 'buzzdash,BuzzDash,0,web,Marina del Rey,CA,1-Sep-06,1200000,USD,angel\\n', 'urbanmapping,Urban Mapping,9,web,San Francisco,CA,1-May-06,400000,USD,seed\\n', 'consortemedia,Consorte Media,0,web,San Francisco,CA,1-Dec-07,7000000,USD,b\\n', 'ffwd,ffwd,,web,San Francisco,CA,1-Aug-07,1700000,USD,a\\n', 'satisfaction,Get Satisfaction,,web,San Francisco,CA,1-Sep-07,1300000,USD,a\\n', 'ringcentral,RingCentral,,web,Redwood City,CA,1-Sep-07,12000000,USD,a\\n', 'ringcentral,RingCentral,,web,Redwood City,CA,1-Feb-08,12000000,USD,b\\n', '3jam,3Jam,,web,Menlo Park,CA,1-Jul-07,4000000,USD,a\\n', 'playspan,PlaySpan,,web,Santa Clara,CA,1-Sep-07,6500000,USD,a\\n', 'grouply,Grouply,6,web,Redwood City,CA,1-Jun-07,935000,USD,angel\\n', 'grouply,Grouply,6,web,Redwood City,CA,1-Jan-08,365000,USD,angel\\n', 'grouply,Grouply,6,web,Redwood City,CA,14-Jan-08,1300000,USD,a\\n', 'graspr,Graspr,,web,Sunnyvale,CA,10-Jul-08,2500000,USD,a\\n', 'zannel,Zannel,,web,San Francisco,CA,2-Jun-08,10000000,USD,b\\n', 'deca-tv,deca.tv,,web,Santa Monica,CA,1-Sep-07,5000000,USD,a\\n', 'zimbra,Zimbra,,web,San Mateo,CA,1-Apr-06,14500000,USD,c\\n', 'friendfeed,FriendFeed,,web,Mountain View,CA,26-Feb-08,5000000,USD,a\\n', 'rupture,Rupture,15,web,San Francisco,CA,1-Jul-07,3000000,USD,angel\\n', 'jibjab,JibJab,,web,Santa Monica,CA,1-Oct-07,3000000,USD,b\\n', 'rubiconproject,Rubicon Project,,web,Los Angeles,CA,1-Oct-07,4000000,USD,a\\n', 'rubiconproject,Rubicon Project,,web,Los Angeles,CA,1-Oct-07,2000000,USD,debt_round\\n', 'rubiconproject,Rubicon Project,,web,Los Angeles,CA,28-Jan-08,15000000,USD,b\\n', 'snaplayout,SnapLayout,,web,San Francisco,CA,1-May-07,650000,USD,a\\n', 'confabb,Confabb,,web,,CA,1-Aug-07,200000,USD,angel\\n', 'uptake,UpTake,,web,Palo Alto,CA,18-Dec-07,4000000,USD,a\\n', '23andme,23andMe,30,web,Mountain View,CA,1-May-07,9000000,USD,a\\n', 'yume,YuMe,,web,Redwood City,CA,1-Oct-07,9000000,USD,b\\n', 'mochimedia,Mochi Media,,web,San Francisco,CA,12-Mar-08,4000000,USD,a\\n', 'mochimedia,Mochi Media,,web,San Francisco,CA,18-Jun-08,10000000,USD,b\\n', 'blurb,Blurb,,web,San Francisco,CA,1-Oct-06,12000000,USD,b\\n', 'weatherbill,WeatherBill,,web,San Francisco,CA,1-Oct-07,12600000,USD,a\\n', 'automattic,Automattic,20,web,San Francisco,CA,1-Jul-05,1100000,USD,a\\n', 'automattic,Automattic,20,web,San Francisco,CA,1-Jan-08,29500000,USD,b\\n', 'twine,Radar Networks,,web,San Francisco,CA,1-Apr-06,5000000,USD,a\\n', 'twine,Radar Networks,,web,San Francisco,CA,1-Feb-08,13000000,USD,b\\n', 'veodia,Veodia,15,web,San Mateo,CA,12-May-08,8300000,USD,a\\n', 'echosign,EchoSign,,web,Palo Alto,CA,1-Oct-07,6000000,USD,a\\n', 'rollbase,Rollbase,0,web,Mountain View,CA,1-Aug-07,400000,USD,angel\\n', 'predictify,Predictify,6,web,Redwood City,CA,25-Mar-08,4300000,USD,a\\n', 'trialpay,TrialPay,50,web,San Francisco,CA,1-Feb-08,12700000,USD,b\\n', 'socializr,Socializr,,web,San Francisco,CA,1-Sep-07,1500000,USD,a\\n', 'eurekster,Eurekster,0,web,,CA,1-Dec-04,1350000,USD,a\\n', 'eurekster,Eurekster,0,web,,CA,13-Mar-07,5500000,USD,b\\n', 'gydget,Gydget,,web,San Francisco,CA,1-Aug-06,1000000,USD,a\\n', 'pickspal,PicksPal,,web,Mountain View,CA,1-Oct-07,3000000,USD,c\\n', 'gigya,Gigya,,web,Palo Alto,CA,1-Feb-07,3000000,USD,a\\n', 'gigya,Gigya,,web,Palo Alto,CA,9-Mar-08,9500000,USD,b\\n', 'songbird,Songbird,,web,San Francisco,CA,1-Dec-06,8000000,USD,seed\\n', 'guardiananalytics,Guardian Analytics,,web,Los Altos,CA,1-Oct-07,4500000,USD,b\\n', 'fora-tv,Fora.TV,,web,San Francisco,CA,1-Oct-07,4000000,USD,a\\n', 'disqus,Disqus,3,web,San Francisco,CA,18-Mar-08,500000,USD,a\\n', 'sezwho,SezWho,9,web,Los Altos,CA,1-Oct-07,1000000,USD,a\\n', 'yieldbuild,YieldBuild,,web,San Francisco,CA,3-Mar-08,6000000,USD,b\\n', 'akimbo,Akimbo,,web,San Mateo,CA,1-Jun-06,15500000,USD,c\\n', 'akimbo,Akimbo,,web,San Mateo,CA,1-Jul-04,12000000,USD,b\\n', 'akimbo,Akimbo,,web,San Mateo,CA,1-Jun-03,4200000,USD,seed\\n', 'akimbo,Akimbo,,web,San Mateo,CA,29-Feb-08,8000000,USD,d\\n', 'laszlosystems,Laszlo Systems,60,software,San Mateo,CA,6-Mar-08,14600000,USD,c\\n', 'laszlosystems,Laszlo Systems,60,software,San Mateo,CA,15-Apr-05,6250000,USD,b\\n', 'brightroll,BrightRoll,,web,San Francisco,CA,1-Oct-07,5000000,USD,b\\n', 'merchantcircle,MerchantCircle,10,web,Los Altos,CA,1-Sep-07,10000000,USD,b\\n', 'minekey,Minekey,,web,Sunnyvale,CA,1-Aug-07,3000000,USD,a\\n', 'bookingangel,Booking Angel,,web,Hollywood,CA,1-Aug-07,100000,USD,angel\\n', 'loopt,Loopt,,web,Mountain View,CA,1-Jun-05,6000,USD,seed\\n', 'loopt,Loopt,,web,Mountain View,CA,23-Jul-07,8250000,USD,b\\n', 'fix8,Fix8,,web,Sherman Oaks,CA,1-Oct-07,3000000,USD,a\\n', 'fix8,Fix8,,web,Sherman Oaks,CA,3-Apr-08,2000000,USD,b\\n', 'mybuys,MyBuys,,web,Redwood Shores,CA,21-Feb-07,2800000,USD,a\\n', 'mybuys,MyBuys,,web,Redwood Shores,CA,8-Oct-07,10000000,USD,b\\n', 'blackarrow,BlackArrow,35,web,San Mateo,CA,1-Oct-07,12000000,USD,b\\n', 'blackarrow,BlackArrow,35,web,San Mateo,CA,1-Nov-06,14750000,USD,a\\n', 'peerflix,Peerflix,,web,Palo Alto,CA,1-Oct-05,8000000,USD,b\\n', 'peerflix,Peerflix,,web,Palo Alto,CA,1-Mar-05,2000000,USD,a\\n', 'fatdoor,fatdoor,,web,Palo Alto,CA,1-Nov-07,5500000,USD,a\\n', 'fatdoor,fatdoor,,web,Palo Alto,CA,1-Feb-07,1000000,USD,angel\\n', 'fatdoor,fatdoor,,web,Palo Alto,CA,1-May-07,500000,USD,debt_round\\n', 'verimatrix,Verimatrix,100,web,San Diego,CA,1-Jun-06,8000000,USD,b\\n', 'verimatrix,Verimatrix,100,web,San Diego,CA,1-Oct-07,5000000,USD,c\\n', 'billeo,Billeo,,web,Santa Clara,CA,1-Nov-07,7000000,USD,b\\n', 'billeo,Billeo,,web,Santa Clara,CA,1-Apr-06,4000000,USD,a\\n', 'caring-com,Caring.com,,web,San Mateo,CA,1-Sep-07,6000000,USD,a\\n', 'ask-com,Ask.com,475,web,Oakland,CA,1-Mar-99,25000000,USD,a\\n', 'projectplaylist,Project Playlist,,web,Palo Alto,CA,1-Sep-07,3000000,USD,a\\n', 'blowtorch,Blowtorch,,web,Sausalito,CA,1-Nov-07,50000000,USD,a\\n', 'gamelayers,GameLayers,,web,San Francisco,CA,1-Oct-07,500000,USD,seed\\n', 'mogreet,MoGreet,,web,Venice,CA,1-Aug-07,1200000,USD,a\\n', 'mogreet,MoGreet,,web,Venice,CA,20-Jun-08,2500000,USD,b\\n', 'yourtrumanshow,YourTrumanShow,,web,San Francisco,CA,1-Dec-06,1300000,USD,angel\\n', 'apprema,Apprema,,web,Sunnyvale,CA,1-Nov-07,800000,USD,debt_round\\n', 'trustedid,TrustedID,100,web,Redwood City,CA,1-Jan-07,5000000,USD,a\\n', 'trustedid,TrustedID,100,web,Redwood City,CA,18-Oct-07,10000000,USD,b\\n', 'seeqpod,Seeqpod,25,web,Emeryville,CA,1-Apr-08,7000000,USD,angel\\n', 'quantenna,Quantenna,,web,Sunnyvale,CA,1-Nov-07,12700000,USD,b\\n', 'qwaq,Qwaq,,web,Palo Alto,CA,1-Nov-07,7000000,USD,b\\n', 'uber,uber,24,web,Beverly Hills,CA,26-May-08,7600000,USD,b\\n', 'cashview,CashView,,web,Palo Alto,CA,1-Sep-07,6500000,USD,b\\n', 'crossloop,CrossLoop,8,web,Monterey,CA,1-Dec-07,3000000,USD,a\\n', 'dapper,Dapper,20,web,San Francisco,CA,1-Dec-07,3000000,USD,a\\n', 'anchorintelligence,Anchor Intelligence,,web,Mountain View,CA,1-Jan-07,2000000,USD,a\\n', 'anchorintelligence,Anchor Intelligence,,web,Mountain View,CA,1-Sep-07,4000000,USD,b\\n', 'edgecast,EdgeCast,30,web,Los Angeles,CA,1-Dec-07,6000000,USD,b\\n', 'edgecast,EdgeCast,30,web,Los Angeles,CA,1-Jun-07,4000000,USD,a\\n', 'kosmix,Kosmix,,web,Mountain View,CA,1-Dec-07,10000000,USD,c\\n', 'goodreads,GoodReads,,web,Santa Monica,CA,1-Nov-07,750000,USD,angel\\n', 'ribbit,Ribbit,28,web,Mountain View,CA,1-Dec-07,10000000,USD,b\\n', 'ribbit,Ribbit,28,web,Mountain View,CA,1-Oct-06,3000000,USD,a\\n', 'jobvite,Jobvite,,web,San Francisco,CA,1-Dec-07,7200000,USD,a\\n', 'juicewireless,Juice Wireless,,web,Los Angeles,CA,1-Apr-05,500000,USD,a\\n', 'juicewireless,Juice Wireless,,web,Los Angeles,CA,1-Jan-06,1500000,USD,a\\n', 'juicewireless,Juice Wireless,,web,Los Angeles,CA,1-Jul-06,4000000,USD,a\\n', 'juicewireless,Juice Wireless,,web,Los Angeles,CA,1-Mar-07,3300000,USD,b\\n', 'juicewireless,Juice Wireless,,web,Los Angeles,CA,1-Dec-07,6000000,USD,c\\n', 'qik,Qik,22,web,Foster City,CA,9-Apr-08,3000000,USD,b\\n', 'playfirst,PlayFirst,,web,San Francisco,CA,1-Dec-07,16500000,USD,c\\n', 'playfirst,PlayFirst,,web,San Francisco,CA,1-Jan-06,5000000,USD,b\\n', 'mobissimo,Mobissimo,15,web,San Francisco,CA,1-Apr-04,1000000,USD,seed\\n', 'chumby,Chumby,20,hardware,San Diego,CA,1-Dec-06,5000000,USD,a\\n', 'chumby,Chumby,20,hardware,San Diego,CA,31-Mar-08,12500000,USD,b\\n', 'ugobe,UGOBE,,web,Emeryville,CA,1-Oct-06,8000000,USD,b\\n', 'ausra,Ausra,4,web,Palo Alto,CA,1-Sep-07,40000000,USD,a\\n', 'causes,Causes,,web,Berkeley,CA,1-Jan-07,2350000,USD,a\\n', 'causes,Causes,,web,Berkeley,CA,1-Mar-08,5000000,USD,b\\n', 'nanosolar,Nanosolar,,web,San Jose,CA,1-May-05,20000000,USD,b\\n', 'nanosolar,Nanosolar,,web,San Jose,CA,1-Jun-06,75000000,USD,c\\n', 'shozu,Shozu,,web,San Francisco,CA,1-May-05,12000000,USD,b\\n', 'shozu,Shozu,,web,San Francisco,CA,29-Jan-08,12000000,USD,c\\n', 'tesla-motors,Tesla Motors,270,hardware,San Carlos,CA,1-May-06,40000000,USD,c\\n', 'tesla-motors,Tesla Motors,270,hardware,San Carlos,CA,1-May-07,45000000,USD,d\\n', 'tesla-motors,Tesla Motors,270,hardware,San Carlos,CA,1-Apr-04,7500000,USD,a\\n', 'tesla-motors,Tesla Motors,270,hardware,San Carlos,CA,1-Feb-05,13000000,USD,b\\n', 'tesla-motors,Tesla Motors,270,hardware,San Carlos,CA,8-Feb-08,40000000,USD,e\\n', 'bunchball,Bunchball,,web,Redwood City,CA,1-Oct-06,2000000,USD,a\\n', 'bunchball,Bunchball,,web,Redwood City,CA,13-Apr-08,4000000,USD,b\\n', 'pinger,Pinger,,web,San Jose,CA,1-Dec-06,8000000,USD,b\\n', 'hooja,Hooja,,web,Palo Alto,CA,1-Dec-07,1250000,USD,seed\\n', 'travelmuse,TravelMuse,11,web,Los Altos,CA,1-May-07,3000000,USD,a\\n', 'cooking-com,Cooking.com,,web,Santa Monica,CA,1-Jan-08,7000000,USD,debt_round\\n', 'cooking-com,Cooking.com,,web,Santa Monica,CA,1-May-00,35000000,USD,e\\n', 'cooking-com,Cooking.com,,web,Santa Monica,CA,1-Apr-99,16000000,USD,b\\n', 'cooking-com,Cooking.com,,web,Santa Monica,CA,1-Oct-99,30000000,USD,c\\n', 'meraki,Meraki,,web,Mountain View,CA,1-Feb-07,5000000,USD,a\\n', 'meraki,Meraki,,web,Mountain View,CA,1-Jan-08,20000000,USD,b\\n', 'sugarcrm,SugarCRM,,web,Cupertino,CA,1-Jan-08,14500000,USD,d\\n', 'sugarcrm,SugarCRM,,web,Cupertino,CA,1-Oct-05,18770000,USD,c\\n', 'sugarcrm,SugarCRM,,web,Cupertino,CA,1-Aug-04,2000000,USD,a\\n', 'sugarcrm,SugarCRM,,web,Cupertino,CA,1-Feb-05,5750000,USD,b\\n', 'puddingmedia,Pudding Media,11,software,San Jose,CA,1-Jan-08,8000000,USD,a\\n', '4homemedia,4HomeMedia,10,web,Sunnyvale,CA,1-Jan-07,2850000,USD,a\\n', 'pageonce,Pageonce,,web,Palo Alto,CA,1-Jan-08,1500000,USD,a\\n', 'bluepulse,bluepulse,0,web,San Mateo,CA,1-Apr-07,6000000,USD,a\\n', 'mogad,Mogad,2,web,San Francisco,CA,1-Aug-07,500000,USD,a\\n', 'devicevm,DeviceVM,,web,San Jose,CA,1-Aug-06,10000000,USD,a\\n', 'devicevm,DeviceVM,,web,San Jose,CA,1-Oct-07,10000000,USD,b\\n', 'outspark,Outspark,,web,San Francisco,CA,11-Apr-07,4000000,USD,a\\n', 'outspark,Outspark,,web,San Francisco,CA,1-Jan-08,11000000,USD,b\\n', 'engineyard,Engine Yard,60,web,San Francisco,CA,1-Jan-08,3500000,USD,a\\n', 'engineyard,Engine Yard,60,web,San Francisco,CA,13-Jul-08,15000000,USD,b\\n', 'plymedia,PLYmedia,,web,Palo Alto,CA,1-Oct-06,2500000,USD,a\\n', 'plymedia,PLYmedia,,web,Palo Alto,CA,1-Jul-08,6000000,USD,b\\n', 'fabrik,fabrik,175,web,San Mateo,CA,1-Sep-05,4100000,USD,a\\n', 'fabrik,fabrik,175,web,San Mateo,CA,1-Jun-06,8000000,USD,b\\n', 'fabrik,fabrik,175,web,San Mateo,CA,1-Feb-07,14300000,USD,c\\n', 'fabrik,fabrik,175,web,San Mateo,CA,1-May-07,24900000,USD,d\\n', 'widgetbox,Widgetbox,,web,San Francisco,CA,1-Jun-06,1500000,USD,angel\\n', 'widgetbox,Widgetbox,,web,San Francisco,CA,1-Jan-08,8000000,USD,b\\n', 'widgetbox,Widgetbox,,web,San Francisco,CA,1-Jun-07,5000000,USD,a\\n', 'razorgator,RazorGator,,web,Los Angeles,CA,1-Mar-05,26000000,USD,a\\n', 'razorgator,RazorGator,,web,Los Angeles,CA,1-Mar-06,22800000,USD,b\\n', 'oversee,OverSee,150,web,Los Angeles,CA,1-Jan-07,60000000,USD,debt_round\\n', 'oversee,OverSee,150,web,Los Angeles,CA,1-Jan-08,150000000,USD,a\\n', 'zynga,Zynga,90,other,San Francisco,CA,1-Jan-08,10000000,USD,a\\n', 'zynga,Zynga,90,other,San Francisco,CA,22-Jul-08,29000000,USD,b\\n', 'smaato,Smaato,,web,San Mateo,CA,1-Jan-08,3500000,USD,a\\n', 'credit-karma,Credit Karma,4,web,San Francisco,CA,1-May-07,750000,USD,angel\\n', 'greenplum,Greenplum,,web,San Mateo,CA,1-Jan-08,27000000,USD,c\\n', 'greenplum,Greenplum,,web,San Mateo,CA,1-Feb-07,15000000,USD,b\\n', 'greenplum,Greenplum,,web,San Mateo,CA,1-Mar-06,15000000,USD,a\\n', 'greenplum,Greenplum,,web,San Mateo,CA,1-Feb-07,4000000,USD,debt_round\\n', 'amobee,Amobee,,web,Redwood City,CA,1-Nov-06,5000000,USD,a\\n', 'amobee,Amobee,,web,Redwood City,CA,1-Jan-07,15000000,USD,b\\n', 'webmynd,WebMynd,,web,San Francisco,CA,1-Jul-08,250000,USD,angel\\n', 'currenttv,Current Media,,web,San Francisco,CA,29-Jul-05,15000000,USD,a\\n', 'heroku,Heroku,3,web,San Francisco,CA,1-Jan-08,20000,USD,seed\\n', 'heroku,Heroku,3,web,San Francisco,CA,8-May-08,3000000,USD,a\\n', 'lookery,Lookery,9,web,San Francisco,CA,7-Feb-08,900000,USD,seed\\n', 'mill-river-labs,Mill River Labs,5,web,Mountain View,CA,1-Jan-08,900000,USD,angel\\n', 'grouptivity,Grouptivity,10,web,San Mateo,CA,1-May-06,2000000,USD,angel\\n', 'aductions,Aductions,5,web,San Jose,CA,5-Jul-07,100000,USD,seed\\n', 'venturebeat,VentureBeat,,web,,CA,11-Feb-08,320000,USD,seed\\n', 'collarity,Collarity,30,web,Palo Alto,CA,1-Feb-08,7800000,USD,b\\n', 'rocketon,RocketOn,,web,South San Francisco,CA,1-Feb-08,5800000,USD,b\\n', 'what-they-like,What They Like,10,web,San Francisco,CA,29-Aug-07,990000,USD,a\\n', 'gumgum,GumGum,5,web,Los Angeles,CA,1-Dec-07,225000,USD,seed\\n', 'gumgum,GumGum,5,web,Los Angeles,CA,21-Jul-08,1000000,USD,a\\n', 'snap-technologies,Snap Technologies,32,web,Pasadena,CA,1-Jul-05,10000000,USD,a\\n', 'twofish,TwoFish,,web,Redwood City,CA,1-Jun-07,5000000,USD,a\\n', 'three-rings,Three Rings,30,web,San Francisco,CA,3-Mar-08,3500000,USD,a\\n', 'smalltown,Smalltown,8,web,San Mateo,CA,1-Nov-05,4000000,USD,a\\n', 'sparkplay-media,Sparkplay Media,,web,Mill Valley,CA,1-Feb-08,4250000,USD,a\\n', 'mog,MOG,,web,Berkeley,CA,1-Mar-07,1800000,USD,angel\\n', 'mog,MOG,,web,Berkeley,CA,29-Apr-08,2800000,USD,a\\n', 'social-gaming-network,Social Gaming Network,,web,Palo Alto,CA,13-May-08,15000000,USD,a\\n', 'danger,Danger,,software,Palo Alto,CA,1-Oct-01,36000000,USD,b\\n', 'danger,Danger,,software,Palo Alto,CA,1-Feb-03,35000000,USD,d\\n', 'danger,Danger,,software,Palo Alto,CA,1-Jul-04,37000000,USD,d\\n', 'coverity,Coverity,,software,San Francisco,CA,1-Feb-08,22000000,USD,a\\n', 'genietown,GenieTown,8,web,Palo Alto,CA,1-Oct-07,2000000,USD,a\\n', 'redux,Redux,11,web,Berkeley,CA,1-Mar-07,1650000,USD,seed\\n', 'redux,Redux,11,web,Berkeley,CA,7-Apr-08,6500000,USD,a\\n', 'evernote,Evernote,,software,Sunnyvale,CA,1-Mar-06,6000000,USD,angel\\n', 'evernote,Evernote,,software,Sunnyvale,CA,1-Sep-07,3000000,USD,angel\\n', 'numobiq,Numobiq,,mobile,Pleasanton,CA,8-Feb-08,4500000,USD,a\\n', 'goldspot-media,GoldSpot Media,,mobile,Sunnyvale,CA,23-Jan-08,3000000,USD,a\\n', 'mobixell,Mobixell,,mobile,Cupertino,CA,8-Jul-08,6000000,USD,a\\n', 'ad-infuse,Ad Infuse,,mobile,San Francisco,CA,23-Jan-08,12000000,USD,b\\n', 'ad-infuse,Ad Infuse,,mobile,San Francisco,CA,1-Jun-06,5000000,USD,a\\n', 'sendme,SendMe,,mobile,San Francisco,CA,1-Dec-06,6000000,USD,b\\n', 'sendme,SendMe,,mobile,San Francisco,CA,18-Mar-08,15000000,USD,c\\n', 'tiny-pictures,Tiny Pictures,15,mobile,San Francisco,CA,1-Aug-07,4000000,USD,a\\n', 'tiny-pictures,Tiny Pictures,15,mobile,San Francisco,CA,1-Feb-08,7200000,USD,b\\n', 'flurry,flurry,,mobile,San Francisco,CA,8-Mar-07,3500000,USD,a\\n', 'sharpcast,Sharpcast,,,Palo Alto,CA,8-Mar-06,13500000,USD,a\\n', 'sharpcast,Sharpcast,,,Palo Alto,CA,8-Mar-06,3000000,USD,b\\n', 'teneros,Teneros,,software,Mountain View,CA,1-Jul-04,7000000,USD,a\\n', 'teneros,Teneros,,software,Mountain View,CA,1-Mar-05,17500000,USD,b\\n', 'teneros,Teneros,,software,Mountain View,CA,1-Apr-06,20000000,USD,c\\n', 'teneros,Teneros,,software,Mountain View,CA,1-Jan-08,40000000,USD,d\\n', 'photocrank,PhotoCrank,3,web,Palo Alto,CA,1-Apr-07,250000,USD,seed\\n', 'yodlee,Yodlee,,web,Redwood City,CA,4-Jun-08,35000000,USD,unattributed\\n', 'sliderocket,SlideRocket,5,web,San Francisco,CA,31-Dec-07,2000000,USD,a\\n', 'surf-canyon,Surf Canyon,3,software,Oakland,CA,31-Jul-07,250000,USD,seed\\n', 'surf-canyon,Surf Canyon,3,software,Oakland,CA,8-May-08,600000,USD,seed\\n', 'central-desktop,Central Desktop,,web,Pasadena,CA,16-Apr-08,7000000,USD,a\\n', 'opendns,OpenDNS,15,web,San Francisco,CA,1-Jun-06,2000000,USD,a\\n', 'coveo,Coveo,,web,Palo Alto,CA,6-Mar-08,2500000,USD,a\\n', 'vizu,Vizu,,web,San Francisco,CA,20-Feb-06,1000000,USD,a\\n', 'vizu,Vizu,,web,San Francisco,CA,31-Jan-07,2900000,USD,b\\n', 'taltopia,Taltopia,,web,Los Angeles,CA,8-Mar-08,800000,USD,angel\\n', 'kapow-technologies,Kapow Technologies,,web,Palo Alto,CA,6-Mar-08,11600000,USD,c\\n', 'kapow-technologies,Kapow Technologies,,web,Palo Alto,CA,1-Feb-05,5100000,EUR,b\\n', 'programmermeetdesigner-com,ProgrammerMeetDesigner.com,4,web,Los Angeles,CA,12-Dec-07,500000,USD,seed\\n', 'liveops,LiveOps,,web,Santa Clara,CA,1-Apr-04,22000000,USD,b\\n', 'liveops,LiveOps,,web,Santa Clara,CA,13-Feb-07,28000000,USD,c\\n', 'clickpass,Clickpass,,web,San Francisco,CA,1-Jun-07,20000,USD,seed\\n', 'searchme,SearchMe,52,web,Mountain View,CA,1-Jul-05,400000,USD,a\\n', 'searchme,SearchMe,52,web,Mountain View,CA,1-Jan-06,3600000,USD,b\\n', 'searchme,SearchMe,52,web,Mountain View,CA,1-Jun-07,12000000,USD,c\\n', 'searchme,SearchMe,52,web,Mountain View,CA,1-Oct-07,15000000,USD,d\\n', 'searchme,SearchMe,52,web,Mountain View,CA,1-May-08,12600000,USD,e\\n', 'accountnow,AccountNow,,web,San Ramon,CA,29-Jun-07,12750000,USD,c\\n', 'dailystrength,DailyStrength,14,web,Los Angeles,CA,18-May-07,4000000,USD,a\\n', 'popularmedia,PopularMedia,,web,San Francisco,CA,1-Mar-07,4250000,USD,unattributed\\n', 'popularmedia,PopularMedia,,web,San Francisco,CA,28-Jul-08,8000000,USD,c\\n', 'clarizen,Clarizen,5,web,San Mateo,CA,1-May-08,9000000,USD,b\\n', 'sellpoint,SellPoint,,web,San Ramon,CA,27-Feb-08,7000000,USD,a\\n', 'livedeal,LiveDeal,,web,Santa Clara,CA,26-Oct-05,4900000,USD,a\\n', 'neoedge-networks,NeoEdge Networks,,web,Mountain View,CA,8-Jun-07,3000000,USD,b\\n', 'zuora,Zuora,30,web,Redwood City,CA,13-Mar-08,6500000,USD,a\\n', 'jivox,Jivox,,web,San Mateo,CA,10-Mar-08,2700000,USD,seed\\n', 'jivox,Jivox,,web,San Mateo,CA,16-Jun-08,10700000,USD,a\\n', 'elastra,Elastra,,,San Francisco,CA,15-Aug-07,2600000,USD,a\\n', 'kwiry,kwiry,3,mobile,San Francisco,CA,20-Mar-07,1000000,USD,a\\n', 'supplyframe,SupplyFrame,25,web,Pasadena,CA,21-Jun-07,7000000,USD,b\\n', 'inmage-systems,InMage Systems,,software,Santa Clara,CA,10-Jul-07,10000000,USD,b\\n', 'authenticlick,Authenticlick,20,web,Los Angeles,CA,1-Feb-06,5000000,USD,a\\n', 'interneer,Interneer,6,web,Agoura Hills,CA,6-Jun-07,2000000,USD,angel\\n', 'interneer,Interneer,6,web,Agoura Hills,CA,11-Mar-07,1200000,USD,a\\n', 'handipoints,Handipoints,,web,Oakland,CA,2-May-07,250000,USD,seed\\n', 'handipoints,Handipoints,,web,Oakland,CA,2-May-08,550000,USD,angel\\n', 'adconion-media-group,Adconion Media Group,150,web,Santa Monica,CA,24-Feb-08,80000000,USD,c\\n', 'zend-technologies,Zend Technologies,,,Cupertino,CA,28-Aug-06,20000000,USD,d\\n', 'zend-technologies,Zend Technologies,,,Cupertino,CA,19-Jul-04,8000000,USD,c\\n', 'slideshare,SlideShare,10,web,San Francisco,CA,7-May-08,3000000,USD,a\\n', 'intent,Intent,6,web,Santa Monica,CA,1-Feb-08,250000,USD,angel\\n', 'wikimedia-foundation,Wikimedia Foundation,,web,San Francisco,CA,25-Mar-08,3000000,USD,unattributed\\n', 'clearwell-systems,Clearwell Systems,75,software,Mountain View,CA,22-Aug-07,17000000,USD,c\\n', 'become,Become,,web,Mountain View,CA,25-Mar-08,17500000,USD,c\\n', 'become,Become,,web,Mountain View,CA,17-Jul-08,8000000,USD,d\\n', 'bubble-motion,Bubble Motion,,mobile,Mountain View,CA,26-Mar-08,14000000,USD,b\\n', 'bubble-motion,Bubble Motion,,mobile,Mountain View,CA,11-Sep-06,10000000,USD,a\\n', 'perfect-market,Perfect Market,,web,Pasadena,CA,9-Jul-08,15600000,USD,a\\n', 'glassdoor,Glassdoor,12,web,Sausalito,CA,27-Mar-08,3000000,USD,b\\n', 'support-space,Support Space,,web,Redwood City,CA,24-Oct-06,4250000,USD,a\\n', 'xoopit,Xoopit,,web,San Francisco,CA,1-Dec-06,1500000,USD,angel\\n', 'xoopit,Xoopit,,web,San Francisco,CA,2-Apr-08,5000000,USD,a\\n', 'reality-digital,Reality Digital,,software,San Francisco,CA,1-Nov-05,2000000,USD,a\\n', 'reality-digital,Reality Digital,,software,San Francisco,CA,31-Mar-08,6300000,USD,b\\n', 'cloud9-analytics,Cloud9 Analytics,,web,San Mateo,CA,25-Jul-07,5000000,USD,a\\n', 'netcipia,Netcipia,3,web,Palo Alto,CA,30-Aug-07,200000,USD,angel\\n', 'icontrol,iControl,,web,Palo Alto,CA,2-Apr-08,15500000,USD,b\\n', 'icontrol,iControl,,web,Palo Alto,CA,26-Apr-06,5000000,USD,a\\n', 'frengo,Frengo,,web,San Mateo,CA,1-Dec-06,2300000,USD,a\\n', 'frengo,Frengo,,web,San Mateo,CA,3-May-07,5700000,USD,b\\n', 'mblox,mBlox,,mobile,Sunnyvale,CA,23-Feb-06,25000000,USD,d\\n', 'mblox,mBlox,,mobile,Sunnyvale,CA,9-Mar-05,7500000,USD,c\\n', 'mblox,mBlox,,mobile,Sunnyvale,CA,9-Jul-04,10000000,USD,b\\n', 'mblox,mBlox,,mobile,Sunnyvale,CA,28-Jan-08,22000000,USD,e\\n', 'esolar,eSolar,10,hardware,Pasadena,CA,17-Jan-08,10000000,USD,a\\n', 'esolar,eSolar,10,hardware,Pasadena,CA,21-Apr-08,130000000,USD,b\\n', 'marin-software,Marin Software,,software,San Francisco,CA,5-Oct-06,2000000,USD,a\\n', 'marin-software,Marin Software,,software,San Francisco,CA,9-Apr-08,7250000,USD,b\\n', 'sibeam,SiBEAM,,hardware,Sunnyvale,CA,1-Dec-04,1250000,USD,seed\\n', 'sibeam,SiBEAM,,hardware,Sunnyvale,CA,1-May-05,15000000,USD,a\\n', 'sibeam,SiBEAM,,hardware,Sunnyvale,CA,1-Aug-06,21000000,USD,b\\n', 'sibeam,SiBEAM,,hardware,Sunnyvale,CA,7-Apr-08,40000000,USD,c\\n', 'lumosity,Lumos Labs,,web,San Francisco,CA,11-Jun-07,400000,USD,angel\\n', 'lumosity,Lumos Labs,,web,San Francisco,CA,3-Jun-08,3000000,USD,a\\n', 'irise,iRise,150,software,El Segundo,CA,1-Mar-08,20000000,USD,unattributed\\n', 'richrelevance,richrelevance,,web,San Francisco,CA,8-Apr-08,4200000,USD,b\\n', 'labmeeting,Labmeeting,,web,,CA,1-May-08,500000,USD,seed\\n', 'shopflick,Shopflick,10,web,Los Angeles,CA,15-Mar-08,1000000,USD,angel\\n', 'shopflick,Shopflick,10,web,Los Angeles,CA,1-Jul-08,7000000,USD,a\\n', 'turnhere,TurnHere,35,web,Emeryville,CA,15-Feb-08,7500000,USD,a\\n', 'turnhere,TurnHere,35,web,Emeryville,CA,1-Nov-06,1100000,USD,seed\\n', 'coupa,Coupa,,web,Foster City,CA,13-Mar-07,1500000,USD,a\\n', 'coupa,Coupa,,web,Foster City,CA,9-Apr-08,6000000,USD,b\\n', 'squaretrade,SquareTrade,,hardware,San Francisco,CA,1-Oct-99,400000,USD,seed\\n', 'squaretrade,SquareTrade,,hardware,San Francisco,CA,10-Apr-08,9000000,USD,b\\n', 'v-enable,V-Enable,,mobile,San Diego,CA,28-Feb-06,6000000,USD,c\\n', 'v-enable,V-Enable,,mobile,San Diego,CA,21-Sep-03,3750000,USD,b\\n', 'aeria,Aeria,,web,Santa Clara,CA,1-Oct-07,288000,USD,seed\\n', 'heysan,Heysan,6,mobile,San Francisco,CA,24-Jan-07,20000,USD,seed\\n', 'memeo,Memeo,,software,Aliso Viejo,CA,7-Jan-08,8100000,USD,b\\n', 'imageshack,imageshack,,web,Los Gatos,CA,1-May-07,10000000,USD,a\\n', 'pluggedin,PluggedIn,,,Santa Monica,CA,15-Apr-08,2000000,USD,unattributed\\n', 'cellspin,CellSpin,12,mobile,San Jose,CA,1-Dec-06,1100000,USD,angel\\n', 'remixation,Remixation,5,web,San Francisco,CA,1-Jul-07,1000000,USD,a\\n', 'the-auteurs,The Auteurs,9,web,Palo Alto,CA,1-Aug-07,750000,USD,a\\n', 'modern-feed,Modern Feed,,web,Los Angeles,CA,1-Apr-07,3000000,USD,seed\\n', 'grou-ps,GROU.PS,,web,San Francisco,CA,1-Jun-08,1100000,USD,a\\n', 'triggit,Triggit,5,web,San Francisco,CA,1-Mar-07,350000,USD,seed\\n', 'triggit,Triggit,5,web,San Francisco,CA,1-Jul-07,500000,USD,angel\\n', 'serious-business,Serious Business,6,web,San Francisco,CA,25-Apr-08,4000000,USD,unattributed\\n', 'presdo,Presdo,1,web,Mountain View,CA,1-Dec-07,35000,USD,seed\\n', 'nile-guide,Nile Guide,,web,San Francisco,CA,5-Jun-08,8000000,USD,b\\n', 'adify,Adify,10,web,San Bruno,CA,1-Aug-06,8000000,USD,a\\n', 'adify,Adify,10,web,San Bruno,CA,18-Apr-07,19000000,USD,b\\n', 'invensense,Invensense,,hardware,Sunnyvale,CA,28-Apr-08,19000000,USD,c\\n', \"centerd,Center'd,,web,Menlo Park,CA,1-Feb-07,1000000,USD,angel\\n\", \"centerd,Center'd,,web,Menlo Park,CA,1-Oct-07,5500000,USD,a\\n\", \"centerd,Center'd,,web,Menlo Park,CA,1-May-07,500000,USD,debt_round\\n\", 'new-relic,New Relic,,web,,CA,1-Apr-08,3500000,USD,a\\n', 'gridstone-research,Gridstone Research,,software,San Mateo,CA,4-Apr-08,10000000,USD,b\\n', 'fusionops,FusionOps,10,software,Sunnyvale,CA,1-Mar-05,4000000,USD,a\\n', 'marketlive,MarketLive,,software,Foster City,CA,5-May-08,20000000,USD,e\\n', 'snaplogic,SnapLogic,,software,San Mateo,CA,22-May-07,2500000,USD,a\\n', 'boardwalktech,Boardwalktech,20,software,Palo Alto,CA,1-Oct-06,500000,USD,angel\\n', 'rosum,Rosum,,hardware,Mountain View,CA,15-Apr-08,15000000,USD,b\\n', 'citizenhawk,CitizenHawk,,,Aliso Viejo,CA,12-May-08,3000000,USD,unattributed\\n', 'dilithium-networks,Dilithium Networks,,web,Petaluma,CA,23-Apr-03,10000000,USD,b\\n', 'dilithium-networks,Dilithium Networks,,web,Petaluma,CA,14-Mar-05,18000000,USD,c\\n', 'dilithium-networks,Dilithium Networks,,web,Petaluma,CA,3-Jul-07,33000000,USD,d\\n', 'passenger,Passenger,,,Los Angeles,CA,5-Nov-07,8300000,USD,b\\n', 'passenger,Passenger,,,Los Angeles,CA,14-Mar-08,12200000,USD,c\\n', 'experience-project,Experience Project,,web,San Francisco,CA,13-May-08,3000000,USD,a\\n', 'mozes,Mozes,,web,Palo Alto,CA,22-Feb-07,5000000,USD,a\\n', 'mozes,Mozes,,web,Palo Alto,CA,1-May-08,11500000,USD,b\\n', 'rvita,rVita,6,software,Santa Clara,CA,1-Oct-07,1000000,USD,angel\\n', 'mefeedia,Mefeedia,6,web,Burbank,CA,19-Mar-08,250000,USD,angel\\n', 'wavemaker-software,Wavemaker Software,,software,San Francisco,CA,15-Apr-08,4500000,USD,a\\n', 'virtuallogix,VirtualLogix,,software,Sunnyvale,CA,11-Jul-07,16000000,USD,b\\n', 'fonemesh,Fonemesh,7,software,San Francisco,CA,1-Jun-08,100000,USD,angel\\n', 'fonemesh,Fonemesh,7,software,San Francisco,CA,1-May-08,150000,USD,seed\\n', 'cognition-technologies,Cognition Technologies,20,software,Culver City,CA,15-Jul-08,2700000,USD,unattributed\\n', 'sometrics,Sometrics,,web,Los Angeles,CA,14-May-08,1000000,USD,a\\n', 'socialvibe,SocialVibe,,web,Los Angeles,CA,1-Dec-07,4200000,USD,a\\n', 'deviantart,deviantART,,web,Hollywood,CA,21-Jun-07,3500000,USD,a\\n', 'mythings,MyThings,,web,Menlo Park,CA,1-Apr-06,8000000,USD,a\\n', 'mywaves,mywaves,35,mobile,Sunnyvale,CA,8-Dec-06,6000000,USD,a\\n', 'litescape,litescape,,web,Redwood Shores,CA,6-Aug-07,14000000,USD,b\\n', 'nextbio,nextbio,,,Cupertino,CA,6-Jun-07,7000000,USD,b\\n', 'parascale,Parascale,,software,Cupertino,CA,23-Jun-08,11370000,USD,a\\n', 'row44,Row44,,hardware,Westlake Village,CA,20-May-08,21000000,USD,a\\n', 'jellycloud,JellyCloud,,web,Redwood City,CA,16-May-08,6600000,USD,a\\n', 'aster-data-systems,Aster Data Systems,50,software,Redwood City,CA,1-Nov-05,1000000,USD,angel\\n', 'aster-data-systems,Aster Data Systems,50,software,Redwood City,CA,1-May-07,5000000,USD,a\\n', 'pixim,Pixim,,hardware,Mountain View,CA,7-Mar-07,15000000,USD,b\\n', 'pixim,Pixim,,hardware,Mountain View,CA,9-Jun-05,12000000,USD,a\\n', 'pixim,Pixim,,hardware,Mountain View,CA,12-Jun-07,5100000,USD,b\\n', 'funambol,Funambol,,mobile,Redwood City,CA,8-Aug-05,5000000,USD,a\\n', 'funambol,Funambol,,mobile,Redwood City,CA,1-Dec-06,5500000,USD,a\\n', 'funambol,Funambol,,mobile,Redwood City,CA,17-Jun-08,12500000,USD,b\\n', 'funambol,Funambol,,mobile,Redwood City,CA,1-Jun-08,2000000,USD,debt_round\\n', 'moblyng,Moblyng,,web,Menlo Park,CA,21-May-08,5700000,USD,b\\n', 'moblyng,Moblyng,,web,Menlo Park,CA,28-Mar-07,1530000,USD,a\\n', 'zecter,Zecter,3,web,Mountain View,CA,1-Jun-07,15000,USD,seed\\n', 'votigo,Votigo,,web,Emeryville,CA,31-Dec-07,1265000,USD,a\\n', 'zinio,Zinio,,web,San Francisco,CA,12-Sep-05,7000000,USD,a\\n', 'dreamfactory,Dreamfactory,,web,Mountain View,CA,8-May-06,5800000,USD,a\\n', 'greennote,GreenNote,15,web,Redwood City,CA,1-Oct-07,4200000,USD,a\\n', 'skyfire,Skyfire,,software,Mountain View,CA,1-Jun-07,4800000,USD,a\\n', 'skyfire,Skyfire,,software,Mountain View,CA,28-May-08,13000000,USD,b\\n', 'edufire,eduFire,,web,Santa Monica,CA,9-Apr-08,400000,USD,angel\\n', 'b-hive-networks,B-hive Networks,,software,San Mateo,CA,25-Aug-06,7000000,USD,a\\n', 'vmware,VMware,5000,,Palo Alto,CA,30-Jul-07,150000000,USD,unattributed\\n', 'katalyst-media,Katalyst Media,11,,Los Angeles,CA,28-Jan-08,10000000,USD,a\\n', 'neurovigil,NeuroVigil,5,biotech,La Jolla,CA,30-May-08,250000,USD,seed\\n', 'sylantro,Sylantro,,web,Campbell,CA,1-Apr-06,11000000,USD,e\\n', 'sylantro,Sylantro,,web,Campbell,CA,1-Nov-03,4500000,USD,d\\n', 'sylantro,Sylantro,,web,Campbell,CA,1-Oct-00,55000000,USD,c\\n', 'teleflip,TeleFlip,,mobile,Santa Monica,CA,1-Jan-08,4900000,USD,b\\n', 'vidshadow,Vidshadow,16,web,Placentia,CA,15-Feb-07,2000000,USD,a\\n', 'jigsaw,Jigsaw,,web,San Mateo,CA,1-Dec-03,750000,USD,a\\n', 'jigsaw,Jigsaw,,web,San Mateo,CA,1-Sep-04,5200000,USD,b\\n', 'jigsaw,Jigsaw,,web,San Mateo,CA,1-Mar-06,12000000,USD,c\\n', 'ozmo-devices,Ozmo Devices,,hardware,Palo Alto,CA,30-Mar-06,12550000,USD,a\\n', 'cooliris,Cooliris,,web,Menlo Park,CA,1-Jul-07,3000000,USD,a\\n', 'gamook,Gamook,,web,Menlo Park,CA,16-Mar-08,1500000,USD,a\\n', 'vindicia,Vindicia,,web,Redwood City,CA,31-Mar-08,5600000,USD,c\\n', 'dizzywood,Dizzywood,,web,,CA,7-Feb-08,1000000,USD,a\\n', 'limbo,Limbo,37,web,Burlingame,CA,25-Apr-07,8000000,USD,b\\n', 'startforce,StartForce,21,web,San Francisco,CA,1-Sep-07,1000000,USD,a\\n', 'coolearth,coolearth,9,cleantech,Livermore,CA,20-Feb-08,21000000,USD,a\\n', 'coolearth,coolearth,9,cleantech,Livermore,CA,1-Jun-07,1000000,USD,angel\\n', 'yield-software,Yield Software,,web,San Mateo,CA,4-Jun-08,6000000,USD,b\\n', 'tapulous,Tapulous,9,web,Palo Alto,CA,1-Jul-08,1800000,USD,angel\\n', 'codefast,Codefast,,software,San Jose,CA,15-Mar-05,6500000,USD,a\\n', 'hyperic,Hyperic,,web,San Francisco,CA,10-May-06,3800000,USD,a\\n', 'ipling-2,iPling :)),7,mobile,San Francisco,CA,1-Mar-08,300000,USD,angel\\n', 'intacct,Intacct,100,software,San Jose,CA,29-Apr-08,15000000,USD,unattributed\\n', 'intacct,Intacct,100,software,San Jose,CA,27-Jun-07,14000000,USD,unattributed\\n', 'vivaty,Vivaty,25,web,Menlo Park,CA,1-Aug-07,9400000,USD,a\\n', 'aurora-biofuels,Aurora Biofuels,,cleantech,Alameda,CA,10-Jun-08,20000000,USD,b\\n', 'eeye,eEye,,,Irvine,CA,1-Jun-04,15000000,USD,d\\n', 'eeye,eEye,,,Irvine,CA,1-Dec-02,9000000,USD,c\\n', 'allbusiness-com,AllBusiness.com,50,other,San Francisco,CA,1-Jul-04,10000000,USD,b\\n', 'allbusiness-com,AllBusiness.com,50,other,San Francisco,CA,1-Feb-06,12400000,USD,c\\n', 'insideview,InsideView,40,software,San Francisco,CA,1-Jun-07,7400000,USD,a\\n', 'clickability,Clickability,,software,San Francisco,CA,14-Jul-08,3500000,USD,debt_round\\n', 'keibi-technologies,Keibi Technologies,30,software,San Francisco,CA,1-May-07,5000000,USD,b\\n', 'robodynamics,RoboDynamics,5,hardware,Santa Monica,CA,1-Sep-03,100000,USD,seed\\n', 'robodynamics,RoboDynamics,5,hardware,Santa Monica,CA,1-May-06,500000,USD,angel\\n', 'imagespan,ImageSpan,,web,Sausalito,CA,23-Jun-08,11000000,USD,b\\n', 'solarflare,Solarflare,,hardware,Irvine,CA,18-Jun-08,26000000,USD,unattributed\\n', 'clupedia,Clupedia,,web,Santa Ana,CA,22-May-07,1300000,USD,a\\n', 'zigabid,Zigabid,10,other,La Canada,CA,1-Dec-06,500000,USD,seed\\n', 'zigabid,Zigabid,10,other,La Canada,CA,1-Feb-08,500000,USD,angel\\n', 'inthrma,InThrMa,3,software,Oakland,CA,1-Oct-07,10000,USD,seed\\n', 'webaroo,Webaroo,,,Santa Clara,CA,22-Dec-06,10000000,USD,b\\n', 'webaroo,Webaroo,,,Santa Clara,CA,5-Jul-08,10000000,USD,c\\n', 'fluid-entertainment,Fluid Entertainment,,other,Mill Valley,CA,12-Mar-08,3200000,USD,a\\n', 'unisfair,Unisfair,,other,Menlo Park,CA,21-Jan-08,10000000,USD,b\\n', 'on24,ON24,,web,San Francisco,CA,11-Jul-08,8000000,USD,unattributed\\n', 'trueanthem,trueAnthem,10,other,Newport Beach,CA,28-Jul-08,2000000,USD,angel\\n', 'colizer,Colizer,,web,San Diego,CA,1-Apr-04,120000,USD,a\\n', 'coremetrics,Coremetrics,,software,San Mateo,CA,9-Mar-06,31000000,USD,d\\n', 'coremetrics,Coremetrics,,software,San Mateo,CA,4-Apr-08,60000000,USD,e\\n', 'minted,Minted,,,San Francisco,CA,18-Jul-08,2500000,USD,seed\\n', 'appirio,Appirio,,software,San Mateo,CA,13-Mar-08,1100000,USD,a\\n', 'appirio,Appirio,,software,San Mateo,CA,21-Jul-08,10000000,USD,b\\n', 'samfind,samfind,3,web,Los Angeles,CA,1-Jan-06,20000,USD,seed\\n', 'eye-fi,Eye-Fi,,hardware,Mountain View,CA,11-Jun-07,5500000,USD,a\\n', 'responselogix,ResponseLogix,,web,Sunnyvale,CA,23-Jan-08,8000000,USD,a\\n', 'qumu,Qumu,,software,Emeryville,CA,21-Jul-08,10700000,USD,c\\n', 'carbonflow,CarbonFlow,,cleantech,San Francsico,CA,23-Jul-08,2900000,USD,a\\n', 'allvoices,Allvoices,8,web,San Francisco,CA,31-Jul-07,4500000,USD,a\\n', 'moxsie,Moxsie,,web,Palo Alto,CA,27-Jun-08,1000000,USD,a\\n', 'service-now-com,Service-now.com,80,web,Solana Beach,CA,5-Jul-05,2500000,USD,a\\n', 'service-now-com,Service-now.com,80,web,Solana Beach,CA,5-Dec-06,5000000,USD,b\\n', 'anvato,Anvato,,web,Mountain View,CA,29-Jul-08,550000,USD,seed\\n', 'vantage-media,Vantage Media,150,web,El Segundo,CA,28-Feb-07,70000000,USD,a\\n', 'entone-technologies,Entone Technologies,80,hardware,San Mateo,CA,1-Aug-08,14500000,USD,b\\n', 'entone-technologies,Entone Technologies,80,hardware,San Mateo,CA,2-May-03,9500000,USD,a\\n', '750-industries,750 Industries,7,web,San Francisco,CA,1-Aug-08,1000000,USD,a\\n', 'plastic-logic,Plastic Logic,,hardware,Mountain View,CA,20-Apr-02,13700000,USD,a\\n', 'plastic-logic,Plastic Logic,,hardware,Mountain View,CA,5-Jan-05,8000000,USD,b\\n', 'plastic-logic,Plastic Logic,,hardware,Mountain View,CA,30-Nov-05,24000000,USD,c\\n', 'plastic-logic,Plastic Logic,,hardware,Mountain View,CA,6-Jan-07,100000000,USD,d\\n', 'plastic-logic,Plastic Logic,,hardware,Mountain View,CA,4-Aug-08,50000000,USD,e\\n', 'paymo,Paymo,,mobile,San Francisco,CA,1-Aug-08,5000000,USD,seed\\n', 'brilliant-telecom,Brilliant Telecom,,,Campbell,CA,4-Aug-08,11000000,USD,a\\n', 'skygrid,SkyGrid,,web,Sunnyvale,CA,6-Aug-08,11000000,USD,b\\n', 'intensedebate,Intense Debate,4,web,Boulder,CO,1-May-07,15000,USD,seed\\n', 'associatedcontent,Associated Content,,web,Denver,CO,1-Jan-06,5400000,USD,a\\n', 'associatedcontent,Associated Content,,web,Denver,CO,1-Jul-07,10000000,USD,b\\n', 'madkast,madKast,,web,Boulder,CO,1-Mar-07,15000,USD,seed\\n', 'madkast,madKast,,web,Boulder,CO,1-Oct-07,300000,USD,a\\n', 'eventvue,EventVue,,web,Boulder,CO,1-Aug-07,15000,USD,seed\\n', 'eventvue,EventVue,,web,Boulder,CO,1-Sep-07,250000,USD,a\\n', 'socialthing,Socialthing!,6,web,Boulder,CO,18-May-07,15000,USD,seed\\n', 'socialthing,Socialthing!,6,web,Boulder,CO,1-Oct-07,500000,USD,debt_round\\n', 'jsquaredmedia,J Squared Media,,web,Boulder,CO,1-Aug-07,15000,USD,seed\\n', 'searchtophone,Search to Phone,,web,Boulder,CO,1-Aug-07,15000,USD,seed\\n', 'filtrbox,Filtrbox,,web,Boulder,CO,1-Aug-07,15000,USD,seed\\n', 'filtrbox,Filtrbox,,web,Boulder,CO,28-Feb-08,500000,USD,seed\\n', 'brightkite,Brightkite,,web,Denver,CO,1-Aug-07,15000,USD,seed\\n', 'brightkite,Brightkite,,web,Denver,CO,1-Mar-08,1000000,USD,angel\\n', 'newsgator,NewsGator,,web,Denver,CO,23-Jun-04,1400000,USD,a\\n', 'newsgator,NewsGator,,web,Denver,CO,1-Dec-07,12000000,USD,c\\n', 'newsgator,NewsGator,,web,Denver,CO,1-Dec-04,8600000,USD,b\\n', 'me-dium,Me.dium,,web,Boulder,CO,1-Jun-07,15000000,USD,b\\n', 'buzzwire,Buzzwire,,web,Denver,CO,1-Dec-07,8000000,USD,b\\n', 'hivelive,HiveLive,,web,Boulder,CO,1-Feb-08,2200000,USD,angel\\n', 'hivelive,HiveLive,,web,Boulder,CO,27-Feb-08,5600000,USD,a\\n', 'xaware,XAware,,web,Colorado Springs,CO,1-Jan-08,7400000,USD,b\\n', 'xaware,XAware,,web,Colorado Springs,CO,1-Nov-02,2100000,USD,a\\n', 'lijit,Lijit,,web,Boulder,CO,1-Jan-07,900000,USD,a\\n', 'lijit,Lijit,,web,Boulder,CO,1-Jun-07,3300000,USD,b\\n', 'hubbuzz,hubbuzz,8,web,Centennial,CO,1-Mar-07,750000,USD,angel\\n', 'gnip,Gnip,6,web,Boulder,CO,1-Mar-08,1100000,USD,a\\n', 'collective-intellect,Collective Intellect,,,Boulder,CO,1-Feb-06,2600000,USD,a\\n', 'collective-intellect,Collective Intellect,,,Boulder,CO,15-Apr-08,6600000,USD,b\\n', 'rally-software,Rally Software,,software,Boulder,CO,4-Jun-08,16850000,USD,c\\n', 'rally-software,Rally Software,,software,Boulder,CO,14-Jun-06,8000000,USD,b\\n', 'symplified,Symplified,,software,Boulder,CO,9-Jun-08,6000000,USD,a\\n', 'indeed,Indeed,,web,Stamford,CT,1-Aug-05,5000000,USD,a\\n', 'geezeo,Geezeo,,web,Hartford,CT,24-Apr-08,1200000,USD,unattributed\\n', 'entrecard,Entrecard,1,web,Hamden,CT,1-Jan-07,30000,USD,seed\\n', 'entrecard,Entrecard,1,web,Hamden,CT,1-Nov-07,40000,USD,seed\\n', 'americantowns-com,AmericanTowns.com,10,web,Fairfield,CT,1-Jul-06,1100000,USD,a\\n', 'americantowns-com,AmericanTowns.com,10,web,Fairfield,CT,1-Sep-07,3300000,USD,b\\n', 'kayak,Kayak,58,web,Norwalk,CT,1-May-06,11500000,USD,c\\n', 'kayak,Kayak,58,web,Norwalk,CT,1-Dec-04,7000000,USD,b\\n', 'kayak,Kayak,58,web,Norwalk,CT,1-Dec-07,196000000,USD,d\\n', 'gocrosscampus,GoCrossCampus,25,web,New Haven,CT,1-Sep-07,375000,USD,seed\\n', 'health-plan-one,Health Plan One,,web,Shelton,CT,21-Apr-08,6500000,USD,a\\n', 'your-survival,Your Survival,10,web,Westport,CT,1-Nov-07,350000,USD,angel\\n', 'media-lantern,Media Lantern,9,web,New London,CT,30-Mar-08,250000,USD,seed\\n', 'gridpoint,GridPoint,,cleantech,Washington,DC,1-Sep-07,32000000,USD,d\\n', 'gridpoint,GridPoint,,cleantech,Washington,DC,1-May-06,16000000,USD,b\\n', 'gridpoint,GridPoint,,cleantech,Washington,DC,1-Sep-06,21000000,USD,c\\n', 'gridpoint,GridPoint,,cleantech,Washington,DC,28-Mar-08,15000000,USD,d\\n', 'hotpads-com,HotPads,11,web,Washington,DC,1-Mar-07,2300000,USD,a\\n', 'launchbox,LaunchBox,,web,Washinton,DC,1-Feb-08,250000,USD,a\\n', 'cogent,Cogent,,web,Washington,DC,12-Feb-08,510000,USD,seed\\n', 'swapdrive,SwapDrive,,web,Washington,DC,1-May-00,2650000,USD,a\\n', 'swapdrive,SwapDrive,,web,Washington,DC,1-May-01,2000000,USD,a\\n', 'searchles,Searchles,,web,Washington,DC,1-Jul-08,2000000,USD,angel\\n', 'payperpost,PayPerPost,,web,Orlando,FL,1-Jun-07,7000000,USD,b\\n', 'payperpost,PayPerPost,,web,Orlando,FL,1-Oct-06,3000000,USD,a\\n', 'affinityinternet,Affinity Internet,,web,Fort Lauderdale,FL,1-Oct-99,60000000,USD,a\\n', 'affinityinternet,Affinity Internet,,web,Fort Lauderdale,FL,1-Jan-02,25000000,USD,a\\n', 'multiply,Multiply,,web,Boca Raton,FL,1-Nov-05,2000000,USD,a\\n', 'multiply,Multiply,,web,Boca Raton,FL,1-Jul-06,3000000,USD,a\\n', 'multiply,Multiply,,web,Boca Raton,FL,1-Aug-07,16600000,USD,b\\n', 'revolutionmoney,Revolution Money,,web,Largo,FL,1-Sep-07,50000000,USD,b\\n', 'batanga,Batanga,,web,Miami,FL,1-Aug-07,30000000,USD,c\\n', 'batanga,Batanga,,web,Miami,FL,1-Apr-06,5000000,USD,b\\n', 'divorce360,divorce360,6,web,North Palm Beach,FL,1-Sep-07,2500000,USD,a\\n', 'infinitybox,Infinity Box,3,web,Tampa,FL,1-Jan-06,18000,USD,seed\\n', 'infinitybox,Infinity Box,3,web,Tampa,FL,1-Apr-06,100000,USD,angel\\n', 'moli,MOLI,,web,West Palm Beach,FL,1-Jan-08,29600000,USD,b\\n', 'global-roaming,Global Roaming,29,mobile,Miami,FL,1-Feb-07,7500000,USD,a\\n', 'global-roaming,Global Roaming,29,mobile,Miami,FL,1-Feb-08,23000000,USD,b\\n', 'slingpage,Slingpage,8,software,Estero,FL,1-Dec-07,2250000,USD,angel\\n', 'wrapmail,WrapMail,10,web,Fort Lauderdale,FL,6-Jan-07,1100000,USD,seed\\n', 'ejamming,eJamming,,web,Boca Raton,FL,2-Jun-08,150000,USD,unattributed\\n', 'lehigh-technologies,Lehigh Technologies,,cleantech,Naples,FL,23-Jun-08,34500000,USD,unattributed\\n', 'tournease,TournEase,10,web,Lakeland,FL,1-Apr-06,3000000,USD,angel\\n', 'tournease,TournEase,10,web,Lakeland,FL,1-Mar-08,500000,USD,angel\\n', 'vitrue,Vitrue,,web,Atlanta,GA,1-Oct-07,10000000,USD,b\\n', 'vitrue,Vitrue,,web,Atlanta,GA,1-May-06,2200000,USD,seed\\n', 'screamingsports,Screaming Sports,,web,Atlanta,GA,1-Jul-07,1250000,USD,a\\n', 'berecruited,beRecruited,,web,Atlanta,GA,1-Nov-07,1200000,USD,a\\n', 'mfg,MFG,,web,Atlanta,GA,1-Sep-05,14000000,USD,a\\n', 'mfg,MFG,,web,Atlanta,GA,1-Jan-07,4000000,USD,c\\n', 'mfg,MFG,,web,Atlanta,GA,1-Jan-08,26000000,USD,d\\n', 'scintella-solutions,Scintella Solutions,2,consulting,Atlanta,GA,30-Apr-08,10000,USD,seed\\n', 'scribestorm,ScribeStorm,12,web,Fairfield,IA,24-Apr-06,225000,USD,angel\\n', 'balihoo,Balihoo,,mobile,Boise,ID,1-Jul-07,1500000,USD,a\\n', 'balihoo,Balihoo,,mobile,Boise,ID,1-Jan-08,4000000,USD,b\\n', 'info,Info,,web,Chicago,IL,1-Nov-04,8400000,USD,a\\n', 'feedburner,FeedBurner,,web,Chicago,IL,1-Jun-04,1000000,USD,a\\n', 'feedburner,FeedBurner,,web,Chicago,IL,1-Apr-05,7000000,USD,b\\n', 'viewpoints,Viewpoints,,web,Chicago,IL,1-Jun-07,5000000,USD,a\\n', 'grubhub,GrubHub,,web,Chicago,IL,1-Nov-07,1100000,USD,a\\n', 'ticketsnow,TicketsNow,,web,Rolling Meadows,IL,1-Jan-07,34000000,USD,a\\n', 'the-point,The Point,,web,Chicago,IL,1-Nov-07,2500000,USD,angel\\n', 'the-point,The Point,,web,Chicago,IL,1-Feb-08,4800000,USD,a\\n', 'inkling,Inkling,2,web,Chicago,IL,1-Jan-07,20000,USD,seed\\n', 'crowdspring,crowdSPRING,6,web,Chicago,IL,23-May-08,3000000,USD,angel\\n', 'ifbyphone,Ifbyphone,16,web,Skokie,IL,1-Jul-07,1500000,USD,a\\n', 'fave-media,Fave Media,18,web,Chicago,IL,17-Jan-08,1600000,USD,a\\n', 'accertify,Accertify,,web,Schaumburg,IL,3-Jun-08,4000000,USD,a\\n', 'firefly-energy,Firefly Energy,,cleantech,Peoria,IL,14-Oct-04,4000000,USD,a\\n', 'firefly-energy,Firefly Energy,,cleantech,Peoria,IL,10-Jun-08,15000000,USD,c\\n', 'firefly-energy,Firefly Energy,,cleantech,Peoria,IL,13-Nov-06,10000000,USD,b\\n', 'savo,SAVO,68,software,Chicago,IL,1-Sep-05,10000000,USD,a\\n', 'chacha,ChaCha,75,web,Carmel,IN,1-Jan-07,6000000,USD,a\\n', 'chacha,ChaCha,75,web,Carmel,IN,1-Nov-07,10000000,USD,b\\n', 'betterworld,Better World Books,,web,Mishawaka,IN,7-Apr-08,4500000,USD,a\\n', 'compendium-blogware,Compendium Blogware,25,software,Indianapolis,IN,1-May-07,1100000,USD,angel\\n', 'compendium-blogware,Compendium Blogware,25,software,Indianapolis,IN,1-May-08,1600000,USD,angel\\n', 'instagarage,Instagarage,4,web,New Orleans,LA,10-May-07,25000,USD,seed\\n', 'iskoot,iSkoot,,web,Cambridge,MA,27-Feb-07,7000000,USD,b\\n', 'iskoot,iSkoot,,web,Cambridge,MA,29-Nov-06,6200000,USD,a\\n', 'gotuitmedia,Gotuit Media,,web,Woburn,MA,1-Dec-04,10000000,USD,b\\n', 'gotuitmedia,Gotuit Media,,web,Woburn,MA,1-Dec-02,6000000,USD,a\\n', 'carbonite,Carbonite,68,web,Boston,MA,1-Mar-06,2500000,USD,a\\n', 'carbonite,Carbonite,68,web,Boston,MA,1-Dec-06,3500000,USD,a\\n', 'carbonite,Carbonite,68,web,Boston,MA,1-May-07,15000000,USD,b\\n', 'carbonite,Carbonite,68,web,Boston,MA,28-Dec-07,5000000,USD,b\\n', 'scanscout,ScanScout,40,web,Boston,MA,1-Mar-07,7000000,USD,a\\n', 'scanscout,ScanScout,40,web,Boston,MA,1-Apr-07,2000000,USD,angel\\n', 'going,Going,,web,Boston,MA,1-Jul-07,5000000,USD,a\\n', 'brightcove,Brightcove,,web,Cambridge,MA,1-Mar-05,5500000,USD,a\\n', 'brightcove,Brightcove,,web,Cambridge,MA,1-Nov-05,16200000,USD,b\\n', 'brightcove,Brightcove,,web,Cambridge,MA,1-Jan-07,59500000,USD,c\\n', 'brightcove,Brightcove,,web,Cambridge,MA,1-Sep-06,5000000,USD,b\\n', 'brightcove,Brightcove,,web,Cambridge,MA,1-May-08,4900000,USD,d\\n', 'permissiontv,PermissionTV,,web,Waltham,MA,1-Jun-07,9000000,USD,c\\n', 'bountii,Bountii,,web,Boston,MA,1-Jun-07,15000,USD,seed\\n', 'conduitlabs,Conduit Labs,,web,Cambridge,MA,1-Aug-07,5500000,USD,a\\n', 'zoominfo,ZoomInfo,80,web,Waltham,MA,1-Jul-04,7000000,USD,a\\n', 'zoominfo,ZoomInfo,80,web,Waltham,MA,1-Jul-04,7000000,USD,a\\n', 'vlingo,Vlingo,,web,Cambridge,MA,2-Apr-08,20000000,USD,b\\n', 'vtap,Vtap,,web,Andover,MA,1-May-07,14000000,USD,b\\n', 'mocospace,MocoSpace,25,mobile,Boston,MA,1-Jan-07,3000000,USD,a\\n', 'quattro-wireless,Quattro Wireless,,web,Waltham,MA,1-May-07,6000000,USD,a\\n', 'quattro-wireless,Quattro Wireless,,web,Waltham,MA,5-Sep-07,12300000,USD,b\\n', 'care-com,Care.com,,web,Waltham,MA,1-May-07,3100000,USD,a\\n', 'onforce,OnForce,,web,Lexington,MA,1-Sep-07,6750000,USD,a\\n', 'onforce,OnForce,,web,Lexington,MA,12-Jan-06,15000000,USD,a\\n', 'ratepoint,RatePoint,,web,Needham,MA,1-Jun-07,6500000,USD,a\\n', 'updown,UpDown,5,web,Cambridge,MA,29-Jan-08,750000,USD,angel\\n', 'eons,Eons,,web,Boston,MA,1-Mar-07,22000000,USD,b\\n', 'eons,Eons,,web,Boston,MA,1-Apr-06,10000000,USD,a\\n', 'gamerdna,GamerDNA,,web,Cambridge,MA,18-Apr-08,3000000,USD,a\\n', 'mixandmeet,Mix & Meet,2,web,Cambridge,MA,29-Mar-08,400000,USD,angel\\n', 'sermo,Sermo,,web,Cambridge,MA,1-Sep-07,25000000,USD,c\\n', 'sermo,Sermo,,web,Cambridge,MA,1-Jan-07,9500000,USD,b\\n', 'sermo,Sermo,,web,Cambridge,MA,1-Sep-06,3000000,USD,a\\n', 'worklight,WorkLight,30,web,Newton,MA,1-Sep-06,5100000,USD,a\\n', 'worklight,WorkLight,30,web,Newton,MA,30-Apr-08,12000000,USD,b\\n', 'matchmine,MatchMine,,web,Needham,MA,1-Sep-07,10000000,USD,a\\n', 'condodomain,CondoDomain,4,other,Boston,MA,1-Jun-05,300000,USD,angel\\n', 'utest,uTest,10,web,Ashland,MA,1-Oct-07,2300000,USD,a\\n', 'compete,Compete,,web,Boston,MA,1-Aug-07,10000000,USD,c\\n', 'compete,Compete,,web,Boston,MA,6-Oct-03,13000000,USD,b\\n', 'azuki,Azuki Systems,30,web,Acton,MA,1-Sep-07,6000000,USD,a\\n', 'acinion,Acinion,,web,Acton,MA,1-Dec-06,5000000,USD,a\\n', 'acinion,Acinion,,web,Acton,MA,1-Oct-07,16000000,USD,b\\n', 'xkoto,xkoto,45,software,Waltham,MA,1-Nov-07,7500000,USD,b\\n', 'hubspot,HubSpot,30,web,Cambridge,MA,1-Sep-07,5000000,USD,a\\n', 'hubspot,HubSpot,30,web,Cambridge,MA,16-May-08,12000000,USD,b\\n', 'hubspot,HubSpot,30,web,Cambridge,MA,1-May-06,500000,USD,seed\\n', 'utterz,Utterz,3,mobile,Maynard,MA,1-Sep-07,4000000,USD,a\\n', 'intronis,Intronis,,web,Boston,MA,1-Oct-07,5000000,USD,a\\n', 'acquia,Acquia,11,web,Andover,MA,1-Dec-07,7000000,USD,a\\n', 'a123systems,A123Systems,,web,Watertown,MA,1-Oct-07,30000000,USD,d\\n', 'a123systems,A123Systems,,web,Watertown,MA,1-Jan-07,40000000,USD,c\\n', 'a123systems,A123Systems,,web,Watertown,MA,1-Feb-06,30000000,USD,b\\n', 'bostonpower,Boston Power,55,web,Westborough,MA,1-Nov-06,8000000,USD,a\\n', 'bostonpower,Boston Power,55,web,Westborough,MA,1-Jan-08,45000000,USD,c\\n', 'bostonpower,Boston Power,55,web,Westborough,MA,1-Jan-07,15600000,USD,b\\n', 'visiblemeasures,Visible Measures,,web,Boston,MA,1-Mar-07,5000000,USD,a\\n', 'visiblemeasures,Visible Measures,,web,Boston,MA,1-Jan-08,13500000,USD,b\\n', 'visiblemeasures,Visible Measures,,web,Boston,MA,1-Jan-06,800000,USD,seed\\n', 'endeca,Endeca,500,web,Cambridge,MA,1-Jun-04,15000000,USD,c\\n', 'endeca,Endeca,500,web,Cambridge,MA,1-Jan-08,15000000,USD,d\\n', 'endeca,Endeca,500,web,Cambridge,MA,1-Nov-01,15000000,USD,b\\n', 'endeca,Endeca,500,web,Cambridge,MA,1-Jan-01,10000000,USD,a\\n', 'choicestream,ChoiceStream,70,software,Cambridge,MA,1-Jan-00,15000000,USD,seed\\n', 'choicestream,ChoiceStream,70,software,Cambridge,MA,22-Feb-05,7000000,USD,a\\n', 'choicestream,ChoiceStream,70,software,Cambridge,MA,1-Jun-06,13100000,USD,b\\n', 'choicestream,ChoiceStream,70,software,Cambridge,MA,4-Apr-07,26500000,USD,c\\n', 'youcastr,YouCastr,5,web,Cambridge,MA,1-Feb-08,100000,USD,angel\\n', 'jackpot-rewards,JackPot Rewards,,web,Newton,MA,1-Feb-08,16700000,USD,a\\n', 'mzinga,Mzinga,,web,Burlington,MA,3-Mar-08,32500000,USD,d\\n', 'dimdim,Dimdim,,web,Burlington,MA,1-Feb-07,2400000,USD,a\\n', 'dimdim,Dimdim,,web,Burlington,MA,1-Jul-08,6000000,USD,b\\n', 'utoopia,utoopia,2,web,Boston,MA,1-Mar-07,100000,USD,seed\\n', 'retail-convergence,Retail Convergence,,web,Boston,MA,24-Apr-08,25000000,USD,a\\n', 'frame-media,Frame Media,,web,Wellesley,MA,9-Nov-07,2000000,USD,a\\n', 'frame-media,Frame Media,,web,Wellesley,MA,2-May-08,3000000,USD,unattributed\\n', 'turbine,Turbine,200,web,Westwood,MA,29-Apr-08,40000000,USD,c\\n', 'turbine,Turbine,200,web,Westwood,MA,9-May-05,30000000,USD,b\\n', 'zeer,Zeer,5,web,Boston,MA,1-Aug-07,1050000,USD,angel\\n', 'simpletuition,SimpleTuition,,web,Newton,MA,14-Apr-06,4400000,USD,a\\n', 'simpletuition,SimpleTuition,,web,Newton,MA,18-Dec-06,7500000,USD,b\\n', 'sirtris-pharmaceuticals,Sirtris Pharmaceuticals,,biotech,Cambridge,MA,1-Dec-04,13000000,USD,a\\n', 'sirtris-pharmaceuticals,Sirtris Pharmaceuticals,,biotech,Cambridge,MA,8-Mar-05,27000000,USD,b\\n', 'sirtris-pharmaceuticals,Sirtris Pharmaceuticals,,biotech,Cambridge,MA,19-Apr-06,37000000,USD,c\\n', 'good-data,Good Data,30,web,Cambridge,MA,23-Jul-08,2000000,USD,seed\\n', 'navic-networks,Navic Networks,,web,Waltham,MA,14-Feb-00,2000000,USD,a\\n', 'navic-networks,Navic Networks,,web,Waltham,MA,26-Feb-01,20000000,USD,c\\n', 'navic-networks,Navic Networks,,web,Waltham,MA,7-Jun-00,20000000,USD,b\\n', 'pivot,Pivot,40,software,Cambridge,MA,1-Dec-04,5000000,USD,a\\n', 'pivot,Pivot,40,software,Cambridge,MA,1-Apr-06,8000000,USD,b\\n', 'optaros,Optaros,200,consulting,Boston,MA,1-Jun-08,12000000,USD,c\\n', 'optaros,Optaros,200,consulting,Boston,MA,20-Nov-06,13000000,USD,b\\n', 'optaros,Optaros,200,consulting,Boston,MA,9-Mar-05,7000000,USD,a\\n', 'astaro,Astaro,,hardware,Burlington,MA,1-May-03,6200000,USD,a\\n', 'astaro,Astaro,,hardware,Burlington,MA,1-May-04,6700000,USD,b\\n', 'pangea-media,Pangea Media,25,web,Watertown,MA,1-Apr-07,1000000,USD,angel\\n', 'posterous,Posterous,,web,Boston,MA,1-May-08,15000,USD,seed\\n', 'spire,Spire,,web,Boston,MA,8-Jul-08,9000000,USD,a\\n', 'neosaej,neoSaej,,web,Burlington,MA,14-Jul-08,7000000,USD,unattributed\\n', 'genarts,GenArts,,software,Cambridge,MA,17-Jul-08,22400000,USD,unattributed\\n', 'ordermotion,OrderMotion,,web,Boston,MA,21-Jul-08,1400000,USD,unattributed\\n', 'ham-it,HAM-IT,7,web,North Andover,MA,1-Oct-07,340000,USD,seed\\n', 'freewebs,Freewebs,35,web,Silver Spring,MD,1-Aug-06,12000000,USD,a\\n', 'mptrax,MPTrax,4,web,Baltimore,MD,1-Jan-07,350000,USD,angel\\n', 'jackbe,JackBe,0,web,Chevy Chase,MD,1-Oct-07,9500000,USD,c\\n', 'zenimax,ZeniMax,,web,Rockville,MD,1-Oct-07,300000000,USD,a\\n', 'zenimax,ZeniMax,,web,Rockville,MD,30-May-08,9900000,USD,a\\n', 'intelliworks,Intelliworks,24,software,Rockville,MD,14-Feb-05,6000000,USD,a\\n', 'intelliworks,Intelliworks,24,software,Rockville,MD,10-Oct-06,10000000,USD,b\\n', 'intelliworks,Intelliworks,24,software,Rockville,MD,7-Apr-08,4000000,USD,c\\n', 'hexio,HEXIO,1,web,Kennebunk,ME,10-Jan-08,20000,USD,seed\\n', 'foneshow,Foneshow,8,web,Portland,ME,1-Sep-07,1050000,USD,a\\n', 'foneshow,Foneshow,8,web,Portland,ME,1-Sep-06,25000,USD,seed\\n', 'zattoo,Zattoo,45,web,Ann Arbor,MI,1-Nov-07,10000000,USD,b\\n', 'loudclick,LoudClick,9,web,Richfield,MN,31-Mar-08,600000,USD,angel\\n', 'agilis-systems,Agilis Systems,,mobile,St. Louis,MO,16-May-08,5000000,USD,b\\n', 'international-liars-poker-association,International Liars Poker Association,24,other,St. Louis,MO,1-Nov-07,1250000,USD,seed\\n', 'channeladvisor,ChannelAdvisor,300,web,Morrisville,NC,1-May-07,30000000,USD,c\\n', 'channeladvisor,ChannelAdvisor,300,web,Morrisville,NC,22-Jan-04,7000000,USD,a\\n', 'channeladvisor,ChannelAdvisor,300,web,Morrisville,NC,28-Apr-05,18000000,USD,b\\n', 'yap,Yap,,mobile,Charlotte,NC,1-Mar-07,1500000,USD,angel\\n', 'yap,Yap,,mobile,Charlotte,NC,10-Jun-08,6500000,USD,a\\n', 'prepchamps,PrepChamps,10,web,Durham,NC,22-Apr-08,1200000,USD,a\\n', 'silkroad-technology,SilkRoad technology,,,Winston-Salem,NC,19-Feb-08,10000000,USD,b\\n', 'silkroad-technology,SilkRoad technology,,,Winston-Salem,NC,15-May-08,54000000,USD,c\\n', 'brightdoor-systems,BrightDoor Systems,26,web,Cary,NC,13-Apr-07,200000,USD,a\\n', 'drifttoit,DriftToIt,4,web,Raleigh,NC,1-Jun-07,300000,USD,angel\\n', 'rpath,rPath,45,other,Raleigh,NC,24-Jan-06,6400000,USD,a\\n', 'rpath,rPath,45,other,Raleigh,NC,24-Jan-07,9100000,USD,b\\n', 'rpath,rPath,45,other,Raleigh,NC,24-Jun-08,10000000,USD,c\\n', 'ntractive,Ntractive,6,web,Grand Forks,ND,8-Jul-08,570000,USD,a\\n', 'billmelater,Bill Me Later,,web,Omaha,NE,1-Mar-06,27400000,USD,a\\n', 'adaptiveblue,AdaptiveBlue,6,web,Livingston,NJ,15-Feb-07,1500000,USD,a\\n', 'phanfare,Phanfare,,web,Metuchen,NJ,1-Nov-07,2500000,USD,c\\n', 'phanfare,Phanfare,,web,Metuchen,NJ,1-Jul-06,2000000,USD,b\\n', 'enterprisedb,EnterpriseDB,,software,Edison,NJ,7-Sep-05,7000000,USD,a\\n', 'enterprisedb,EnterpriseDB,,software,Edison,NJ,1-Aug-06,20000000,USD,b\\n', 'enterprisedb,EnterpriseDB,,software,Edison,NJ,25-Mar-08,10000000,USD,c\\n', 'neocleus,Neocleus,,web,Jersey City,NJ,19-Jun-08,11000000,USD,b\\n', 'datapipe,Datapipe,,web,Jersey City,NJ,8-Jul-08,75000000,USD,unattributed\\n', 'switch2health,Switch2Health,,web,North Brunswick,NJ,16-Jul-08,200000,USD,unattributed\\n', 'voltaix,Voltaix,,hardware,N. Branch,NJ,29-Jul-08,12500000,USD,unattributed\\n', 'spaboom,SpaBoom,9,web,Albuquerque,NM,15-Jul-06,700000,USD,a\\n', 'spaboom,SpaBoom,9,web,Albuquerque,NM,15-Sep-07,600000,USD,b\\n', 'novint,Novint,,other,Albuquerque,NM,17-Jun-08,5200000,USD,unattributed\\n', 'meetmoi,MeetMoi,7,web,New York City,NY,1-Jun-07,1500000,USD,a\\n', 'meetup,Meetup,1,mobile,New York,NY,1-Dec-02,2800000,USD,a\\n', 'meetup,Meetup,1,mobile,New York,NY,1-Nov-03,5300000,USD,b\\n', 'meetup,Meetup,1,mobile,New York,NY,23-Jul-08,7500000,USD,d\\n', 'mogulus,Mogulus,20,web,New York,NY,1-May-07,1200000,USD,angel\\n', 'mogulus,Mogulus,20,web,New York,NY,1-Jan-08,1500000,USD,angel\\n', 'mogulus,Mogulus,20,web,New York,NY,1-Jul-08,10000000,USD,a\\n', 'pando,Pando,23,software,New York,NY,1-Jan-07,11000000,USD,b\\n', 'pando,Pando,23,software,New York,NY,1-Mar-08,20900000,USD,c\\n', 'outside-in,Outside.in,17,web,Brooklyn,NY,1-Feb-07,900000,USD,angel\\n', 'outside-in,Outside.in,17,web,Brooklyn,NY,1-Oct-07,1500000,USD,angel\\n', 'outside-in,Outside.in,17,web,Brooklyn,NY,19-May-08,3000000,USD,a\\n', 'selectminds,SelectMinds,55,web,New York,NY,1-Aug-07,5500000,USD,a\\n', 'veotag,Veotag,,web,New York,NY,1-May-07,750000,USD,angel\\n', 'roo,KIT digital,100,web,New York,NY,8-May-08,15000000,USD,b\\n', 'roo,KIT digital,100,web,New York,NY,18-Apr-08,5000000,USD,a\\n', 'contextweb,ContextWeb,,web,New York,NY,1-Jun-04,3000000,USD,a\\n', 'contextweb,ContextWeb,,web,New York,NY,1-Jun-05,9000000,USD,b\\n', 'contextweb,ContextWeb,,web,New York,NY,20-Jul-08,26000000,USD,d\\n', 'datranmedia,Datran Media,,web,New York,NY,1-Mar-05,60000000,USD,a\\n', 'eyeblaster,Eyeblaster,,web,New York,NY,1-Dec-03,8000000,USD,a\\n', 'eyeblaster,Eyeblaster,,web,New York,NY,21-Mar-07,30000000,USD,b\\n', 'covestor,Covestor,,web,New York,NY,1-Jun-07,1000000,USD,angel\\n', 'covestor,Covestor,,web,New York,NY,7-Apr-08,6500000,USD,a\\n', 'globalgrind,Global Grind,20,web,New York,NY,1-Aug-07,4500000,USD,b\\n', 'heavy-com,Heavy.com,,web,New York,NY,1-Mar-01,3000000,USD,a\\n', 'spiralfrog,SpiralFrog,15,web,New York,NY,1-Dec-07,2000000,USD,debt_round\\n', 'broadbandenterprises,Broadband Enterprises,,web,New York,NY,1-Jan-08,10000000,USD,a\\n', 'thumbplay,Thumbplay,,mobile,New York,NY,13-Mar-08,18000000,USD,e\\n', 'waterfrontmedia,Waterfront Media,,web,\"Brooklyn, New York\",NY,1-Sep-07,25000000,USD,d\\n', 'waterfrontmedia,Waterfront Media,,web,\"Brooklyn, New York\",NY,1-Mar-04,4000000,USD,a\\n', 'waterfrontmedia,Waterfront Media,,web,\"Brooklyn, New York\",NY,1-Mar-06,6000000,USD,b\\n', 'waterfrontmedia,Waterfront Media,,web,\"Brooklyn, New York\",NY,1-Apr-07,8000000,USD,c\\n', 'tutor,Tutor,55,web,New Yorl,NY,1-May-07,13500000,USD,b\\n', 'daylife,Daylife,,web,New York,NY,1-Jun-07,8300000,USD,b\\n', 'teachthepeople,Teach The People,1,web,Astoria,NY,1-Jan-07,300000,USD,angel\\n', 'healthcare-health-human-powered-search,OrganizedWisdom,18,web,New York,NY,1-Jun-08,2300000,USD,a\\n', 'snooth,Snooth,,web,New  York,NY,1-Dec-06,300000,USD,angel\\n', 'snooth,Snooth,,web,New  York,NY,1-Nov-07,1000000,USD,a\\n', '5min,5min,8,web,New York,NY,1-Apr-07,300000,USD,angel\\n', '5min,5min,8,web,New York,NY,1-Nov-07,5000000,USD,a\\n', 'kaltura,Kaltura,20,web,Brooklyn,NY,1-May-07,2100000,USD,a\\n', 'mimeo,Mimeo,,web,New York,NY,1-Sep-07,25000000,USD,a\\n', 'rayv,RayV,,web,New York,NY,1-Oct-07,8000000,USD,b\\n', 'tumblr,Tumblr,,web,New York,NY,31-Oct-07,750000,USD,a\\n', 'payoneer,Payoneer,50,web,New York,NY,24-Jul-08,8000000,USD,b\\n', 'exelate,eXelate,,web,New York,NY,1-Oct-07,4000000,USD,a\\n', 'quigo,Quigo,,web,New York,NY,1-Mar-04,5000000,USD,a\\n', 'peer39,Peer39,50,web,New York,NY,1-Feb-07,3000000,USD,a\\n', 'peer39,Peer39,50,web,New York,NY,1-Sep-07,8200000,USD,b\\n', 'peer39,Peer39,50,web,New York,NY,1-Mar-06,500000,USD,seed\\n', 'rebelmonkey,Rebel Monkey,15,web,New York,NY,5-Feb-08,1000000,USD,a\\n', 'answers,Answers Corporation,,web,New York,NY,1-Jan-99,300000,USD,a\\n', 'answers,Answers Corporation,,web,New York,NY,1-Apr-99,1360000,USD,b\\n', 'answers,Answers Corporation,,web,New York,NY,1-Sep-99,2750000,USD,c\\n', 'answers,Answers Corporation,,web,New York,NY,1-May-00,28000000,USD,d\\n', 'answers,Answers Corporation,,web,New York,NY,17-Jun-08,13000000,USD,debt_round\\n', 'seetoo,SeeToo,,web,New York,NY,1-Oct-07,1000000,USD,angel\\n', 'drop-io-2,drop.io,,web,Brooklyn,NY,1-Nov-07,1250000,USD,a\\n', 'drop-io-2,drop.io,,web,Brooklyn,NY,10-Mar-08,2700000,USD,b\\n', 'motionbox,Motionbox,,web,New York,NY,1-Sep-06,4200000,USD,a\\n', 'motionbox,Motionbox,,web,New York,NY,1-Dec-07,7000000,USD,b\\n', 'dgplabs,DGP Labs,,web,New York,NY,1-Nov-07,4750000,USD,a\\n', 'ideeli,Ideeli,,web,New York,NY,1-Dec-07,3800000,USD,a\\n', 'livegamer,Live Gamer,,web,New York,NY,1-Dec-07,24000000,USD,a\\n', 'weshow,WeShow,0,web,New York,NY,1-Jun-07,5000000,USD,a\\n', 'etsy,Etsy,45,web,Brooklyn,NY,1-Jun-06,315000,USD,angel\\n', 'etsy,Etsy,45,web,Brooklyn,NY,1-Nov-06,1000000,USD,a\\n', 'etsy,Etsy,45,web,Brooklyn,NY,1-Jul-07,3250000,USD,b\\n', 'etsy,Etsy,45,web,Brooklyn,NY,1-Jan-08,27000000,USD,c\\n', 'phonetag,PhoneTag,10,web,New York,NY,1-Feb-07,3500000,USD,angel\\n', 'phonetag,PhoneTag,10,web,New York,NY,1-Jan-04,200000,USD,seed\\n', 'phonetag,PhoneTag,10,web,New York,NY,1-Dec-07,2000000,USD,angel\\n', 'tremormedia,Tremor Media,,web,New York,NY,1-Sep-06,8400000,USD,a\\n', 'tremormedia,Tremor Media,,web,New York,NY,1-Jan-08,11000000,USD,b\\n', 'yoonew,YooNew,,web,New York,NY,1-Aug-05,2000000,USD,angel\\n', 'fifthgenerationsystems,Fifth Generation Systems,,web,Roslyn Heights,NY,1-Jan-08,5300000,USD,b\\n', 'fifthgenerationsystems,Fifth Generation Systems,,web,Roslyn Heights,NY,1-Nov-06,5250000,USD,a\\n', 'igaworldwide,IGA Worldwide,,web,New York,NY,1-Feb-06,12000000,USD,a\\n', 'igaworldwide,IGA Worldwide,,web,New York,NY,1-Jul-07,25000000,USD,b\\n', 'igaworldwide,IGA Worldwide,,web,New York,NY,1-Jan-08,5000000,USD,b\\n', 'theladders,TheLadders,200,web,New York,NY,8-Nov-04,7250000,USD,a\\n', 'adotube,Adotube,30,web,New York,NY,31-Jul-07,630000,USD,seed\\n', 'adotube,Adotube,30,web,New York,NY,1-Apr-08,600000,USD,seed\\n', 'kluster,Kluster,,web,New York,NY,1-Jan-08,1000000,USD,seed\\n', 'blog-talk-radio,Blog Talk Radio,,web,New York,NY,25-Jun-08,4600000,USD,a\\n', 'pingg,Pingg,7,web,New York,NY,1-Jan-07,500000,USD,seed\\n', 'pingg,Pingg,7,web,New York,NY,1-Mar-07,800000,USD,angel\\n', 'outbrain,Outbrain,,web,New York City,NY,1-Jan-07,1000000,USD,seed\\n', 'outbrain,Outbrain,,web,New York City,NY,25-Feb-08,5000000,USD,a\\n', 'mochila,Mochila,52,web,New York,NY,2-Jan-07,8000000,USD,b\\n', 'olx,OLX,85,web,New York City,NY,1-Sep-07,10000000,USD,a\\n', 'olx,OLX,85,web,New York City,NY,11-Apr-08,13500000,USD,b\\n', 'boonty,Boonty,150,web,New York,NY,7-Jul-05,10000000,USD,b\\n', 'tripology,Tripology,,web,New York,NY,1-Jan-07,1250000,USD,a\\n', 'the-feedroom,The Feedroom,,web,New York,NY,9-Jul-08,12000000,USD,unattributed\\n', 'next-new-networks,Next New Networks,15,web,New York,NY,1-Jan-07,8000000,USD,a\\n', 'next-new-networks,Next New Networks,15,web,New York,NY,12-Mar-08,15000000,USD,b\\n', 'riverwired,RiverWired,,web,New York,NY,1-Mar-08,1500000,USD,seed\\n', 'fynanz,Fynanz,10,web,New York,NY,1-Oct-07,500000,USD,angel\\n', 'digital-railroad,Digital Railroad,,web,New York,NY,14-Jun-05,5200000,USD,a\\n', 'digital-railroad,Digital Railroad,,web,New York,NY,5-Feb-07,10000000,USD,b\\n', 'silicon-alley-insider,Silicon Alley Insider,,,New York,NY,16-Jul-08,900000,USD,seed\\n', 'undertone-networks,Undertone Networks,,web,New York,NY,31-Mar-08,40000000,USD,a\\n', 'someecards,Someecards,,web,New York,NY,1-Apr-08,350000,USD,seed\\n', 'trunkt,Trunkt,2,web,New York,NY,15-May-07,350000,USD,seed\\n', 'cutcaster-2,Cutcaster,6,web,New York City,NY,1-Jan-08,150000,USD,seed\\n', 'visible-world,Visible World,,software,New York,NY,14-Apr-08,25000000,USD,c\\n', 'visible-world,Visible World,,software,New York,NY,17-Nov-03,8000000,USD,b\\n', 'mad-mimi,Mad Mimi,3,web,,NY,29-Apr-07,200000,USD,angel\\n', 'social-median,Social Median,,web,New York,NY,7-Mar-08,500000,USD,seed\\n', 'scanbuy,Scanbuy,,software,New York,NY,12-Dec-06,9000000,USD,b\\n', 'scanbuy,Scanbuy,,software,New York,NY,1-Nov-07,6800000,USD,b\\n', 'pontiflex,Pontiflex,,web,Brooklyn,NY,30-Apr-08,2500000,USD,a\\n', 'chic-tv,CHIC.TV,12,web,New York,NY,1-Jan-06,500000,USD,angel\\n', 'expertflyer,ExpertFlyer,3,web,Patchogue,NY,1-Mar-04,30000,USD,seed\\n', 'x-1,x+1,,web,New York,NY,1-Jun-08,16000000,USD,a\\n', 'media6,Media6¡,,web,New York,NY,1-May-08,2000000,USD,debt_round\\n', 'knewton,Knewton,,web,New York,NY,21-May-08,2500000,USD,a\\n', 'sense-networks,Sense Networks,,mobile,New York City,NY,1-Apr-08,3000000,USD,a\\n', 'targetspot,TargetSpot,20,web,New York,NY,11-Mar-08,8600000,USD,b\\n', 'bountyjobs,BountyJobs,31,web,New York,NY,7-Jul-08,12000000,USD,b\\n', 'vbs-tv,vbs tv,40,other,Brooklyn,NY,1-Dec-06,10000000,USD,seed\\n', 'instinctiv,Instinctiv,,mobile,Ithaca,NY,1-Jun-08,750000,USD,seed\\n', 'visualplant,VISUALPLANT,6,web,New York,NY,1-Mar-07,500000,USD,seed\\n', 'xunlight,XunLight,,hardware,Toledo,OH,7-May-08,22000000,USD,b\\n', 'strands,Strands,150,web,Corvallis,OR,1-Mar-06,6000000,USD,a\\n', 'strands,Strands,150,web,Corvallis,OR,18-Jun-07,25000000,USD,b\\n', 'strands,Strands,150,web,Corvallis,OR,1-Dec-07,24000000,USD,b\\n', 'jivesoftware,Jive Software,,web,Portland,OR,1-Aug-07,15000000,USD,a\\n', 'platial,Platial,,web,Portland,OR,1-Oct-05,800000,USD,angel\\n', 'platial,Platial,,web,Portland,OR,1-Feb-07,2600000,USD,a\\n', 'garagegames,GarageGames,,web,Eugene,OR,1-Sep-07,50000000,USD,a\\n', 'iovation,iovation,50,web,Portland,OR,27-Mar-08,15000000,USD,a\\n', 'ingrid,InGrid,,web,Berwyn,PA,1-Jul-07,13500000,USD,c\\n', 'ingrid,InGrid,,web,Berwyn,PA,1-Sep-04,6600000,USD,a\\n', 'ingrid,InGrid,,web,Berwyn,PA,1-Jun-06,8100000,USD,b\\n', 'ingrid,InGrid,,web,Berwyn,PA,1-Jun-06,1500000,USD,debt_round\\n', 'sleep-fm,Sleep.FM,4,web,Philadelphia,PA,30-Mar-08,15000,USD,seed\\n', 'boomi,Boomi,0,web,Berwyn,PA,1-Jul-08,4000000,USD,a\\n', 'styky,Styky,3,web,Philadelphia,PA,1-Jan-07,100000,USD,seed\\n', 'totaltakeout,TotalTakeout,25,web,Allentown,PA,1-Oct-07,150000,USD,seed\\n', 'redlasso,RedLasso,,web,King of Prussia,PA,1-Nov-07,6500000,CAD,a\\n', 'qpondirect,QponDirect,10,web,Pittsburgh,PA,1-Mar-08,300000,USD,angel\\n', 'energyweb-solutions,EnergyWeb Solutions,3,web,Allentown,PA,15-Jun-06,100000,USD,seed\\n', 'aria-systems,Aria Systems,,software,Media,PA,7-Nov-07,4000000,USD,a\\n', 'vivsimo,Viv’simo,,software,Pittsburgh,PA,17-Mar-08,4000000,USD,a\\n', 'vivsimo,Viv’simo,,software,Pittsburgh,PA,12-Jul-03,960000,USD,seed\\n', 'vivsimo,Viv’simo,,software,Pittsburgh,PA,4-Jul-02,500000,USD,seed\\n', 'vivsimo,Viv’simo,,software,Pittsburgh,PA,1-Jun-00,100000,USD,seed\\n', 'vivsimo,Viv’simo,,software,Pittsburgh,PA,29-Jan-01,100000,USD,seed\\n', 'showclix,ShowClix,,web,Oakmont,PA,1-Oct-07,150000,USD,seed\\n', 'showclix,ShowClix,,web,Oakmont,PA,1-Jun-08,250000,USD,seed\\n', 'biowizard,BioWizard,8,web,Wayne,PA,3-Jan-08,1000000,USD,a\\n', 'ticketleap,TicketLeap,4,web,Philadelphia,PA,22-Jul-08,2000000,USD,a\\n', 'tizra,Tizra,,web,Providence,RI,1-May-07,500000,USD,seed\\n', 'quickoffice,Quickoffice,,software,Plano,TN,5-Feb-07,7000000,USD,b\\n', 'quickoffice,Quickoffice,,software,Plano,TN,1-Jan-06,11500000,USD,a\\n', 'quickoffice,Quickoffice,,software,Plano,TN,23-May-08,3000000,USD,c\\n', 'thoof,Thoof,,web,Austin,TX,1-Jun-07,1000000,USD,seed\\n', 'bazaarvoice,Bazaarvoice,,web,Austin,TX,1-May-06,4000000,USD,a\\n', 'bazaarvoice,Bazaarvoice,,web,Austin,TX,1-Sep-07,8800000,USD,b\\n', 'bazaarvoice,Bazaarvoice,,web,Austin,TX,18-Jun-08,7100000,USD,c\\n', 'smallworldlabs,Small World Labs,25,web,Austin,TX,19-Mar-08,1000000,USD,a\\n', 'pluck,Pluck,,web,Austin,TX,6-Oct-04,8500000,USD,b\\n', 'pluck,Pluck,,web,Austin,TX,14-Nov-06,7000000,USD,c\\n', 'spiceworks,Spiceworks,,web,Austin,TX,1-Aug-07,8000000,USD,b\\n', 'spendview,SpendView,3,web,Houston,TX,1-Jan-08,2000000,USD,a\\n', 'shangby,Shangby,,web,Austin,TX,1-Jun-07,1000000,USD,a\\n', 'onnetworks,On Networks,20,web,Austin,TX,1-Nov-06,4000000,USD,a\\n', 'onnetworks,On Networks,20,web,Austin,TX,1-Nov-07,12000000,USD,b\\n', 'careflash,CareFlash,0,web,Houston,TX,1-Aug-07,600000,USD,seed\\n', 'heliovolt,HelioVolt,,web,Austin,TX,1-Aug-07,77000000,USD,b\\n', 'challenge-games,Challenge Games,,web,Austin,TX,10-Jul-08,4500000,USD,a\\n', 'woot,Woot,100,web,Carrollton,TX,1-Jan-08,4000000,USD,a\\n', 'mumboe,Mumboe,17,software,Austin,TX,1-Oct-06,4500000,USD,seed\\n', 'breakingpoint-systems,BreakingPoint Systems,54,hardware,Austin,TX,12-Nov-07,15000000,USD,c\\n', 'famecast,FameCast,,web,Austin,TX,1-Jun-07,4500000,USD,a\\n', 'click-forensics,Click Forensics,,web,Austin,TX,1-Jan-07,5000000,USD,a\\n', 'click-forensics,Click Forensics,,web,Austin,TX,1-Mar-08,10000000,USD,b\\n', 'godtube,GodTube,,web,Plano,TX,4-May-08,30000000,USD,b\\n', 'ibiz-software,iBiz Software,50,software,Dallas,TX,20-May-08,250000,USD,angel\\n', 'cosential,Cosential,10,web,Austin,TX,1-Jun-02,250000,USD,b\\n', 'jad-tech-consulting,JAD Tech Consulting,6,consulting,Richardson,TX,23-Sep-93,125000,USD,seed\\n', 'mozy,Mozy,26,web,American Fork,UT,1-May-05,1900000,USD,a\\n', 'mozy,Mozy,26,web,American Fork,UT,1-May-05,1900000,USD,a\\n', 'ancestry-com,Ancestry.com,,web,Provo,UT,1-Sep-99,33200000,USD,b\\n', 'movenetworks,Move Networks,,web,American Fork,UT,1-Dec-06,11300000,USD,a\\n', 'movenetworks,Move Networks,,web,American Fork,UT,1-Oct-07,34000000,USD,b\\n', 'movenetworks,Move Networks,,web,American Fork,UT,14-Apr-08,46000000,USD,c\\n', 'worldvitalrecords,World Vital Records,,web,Provo,UT,1-Sep-07,1200000,USD,a\\n', 'bungee-labs,Bungee Labs,38,web,Orem,UT,14-Mar-08,8000000,USD,c\\n', 'footnote,Footnote,31,web,Lindon,UT,1-Jan-08,8000000,USD,a\\n', 'mediaforge,mediaFORGE,,web,Salt Lake City,UT,1-Jul-06,1500000,USD,a\\n', 'teamstreamz,TeamStreamz,5,web,Lehi,UT,10-Jan-07,80000,USD,seed\\n', 'exinda,Exinda,,software,Sandy,UT,22-May-04,6000000,USD,a\\n', 'clearspring,Clearspring,,web,McLean,VA,1-May-06,2500000,USD,a\\n', 'clearspring,Clearspring,,web,McLean,VA,1-Feb-07,5500000,USD,b\\n', 'clearspring,Clearspring,,web,McLean,VA,20-May-08,18000000,USD,c\\n', 'clearspring,Clearspring,,web,McLean,VA,27-Jul-07,10000000,USD,b\\n', 'availmedia,Avail Media,,web,Reston,VA,1-May-07,17000000,USD,b\\n', 'availmedia,Avail Media,,web,Reston,VA,1-Nov-07,25000000,USD,c\\n', 'fortiusone,FortiusOne,,web,Arlington,VA,1-May-07,5450000,USD,b\\n', 'mixx,Mixx,,web,,VA,1-Sep-07,1500000,USD,a\\n', 'mixx,Mixx,,web,,VA,1-Feb-08,2000000,USD,b\\n', 'jobfox,Jobfox,,web,McLean,VA,1-Jan-08,20000000,USD,c\\n', 'jobfox,Jobfox,,web,McLean,VA,1-May-06,13000000,USD,b\\n', 'jobfox,Jobfox,,web,McLean,VA,1-Apr-05,7000000,USD,a\\n', 'healthcentral,HealthCentral,,web,Arlington,VA,1-Jan-08,50000000,USD,a\\n', 'comscore,comScore,,web,Reston,VA,6-Jun-02,20000000,USD,d\\n', 'comscore,comScore,,web,Reston,VA,13-Aug-01,15000000,USD,c\\n', 'visualcv,VisualCV,20,web,Reston,VA,28-Jan-08,2000000,USD,a\\n', 'paxfire,Paxfire,,,Sterling,VA,22-May-05,2100000,USD,a\\n', 'shoutwire,ShoutWire,9,web,,VA,1-Jan-07,500000,USD,a\\n', 'parature,Parature,100,software,Vienna,VA,5-Jul-06,13500000,USD,a\\n', 'parature,Parature,100,software,Vienna,VA,7-May-08,16000000,USD,b\\n', 'loladex,Loladex,2,web,Leesburg,VA,1-Nov-07,350000,USD,seed\\n', 'appian,Appian,120,software,Vienna,VA,21-Jul-08,10000000,USD,a\\n', 'fortisphere,Fortisphere,50,software,Chantilly,VA,19-Nov-07,10000000,USD,a\\n', 'wetpaint,Wetpaint,35,web,Seattle,WA,1-Oct-05,5250000,USD,a\\n', 'wetpaint,Wetpaint,35,web,Seattle,WA,1-Jan-07,9500000,USD,b\\n', 'wetpaint,Wetpaint,35,web,Seattle,WA,1-May-05,25000000,USD,c\\n', 'jobster,Jobster,,web,Seattle,WA,1-Aug-05,19500000,USD,b\\n', 'jobster,Jobster,,web,Seattle,WA,1-Jul-06,18000000,USD,c\\n', 'jobster,Jobster,,web,Seattle,WA,1-Jan-05,8000000,USD,a\\n', 'jobster,Jobster,,web,Seattle,WA,25-Apr-08,7000000,USD,d\\n', 'yapta,Yapta,,web,Seattle,WA,1-Jul-07,2300000,USD,a\\n', 'yapta,Yapta,,web,Seattle,WA,1-Jul-07,700000,USD,seed\\n', 'farecast,Farecast,26,web,Seattle,WA,1-Oct-04,1500000,USD,a\\n', 'farecast,Farecast,26,web,Seattle,WA,1-Jul-05,7000000,USD,b\\n', 'farecast,Farecast,26,web,Seattle,WA,1-Jan-07,12100000,USD,c\\n', 'hautesecure,Haute Secure,,web,Seattle,WA,1-Jan-07,500000,USD,a\\n', 'newsvine,Newsvine,6,web,Seattle,WA,1-Jul-05,1250000,USD,a\\n', 'ilike,iLike,28,web,Seattle,WA,1-Jan-06,2500000,USD,a\\n', 'ilike,iLike,28,web,Seattle,WA,1-Jan-06,13300000,USD,b\\n', 'redfin,Redfin,100,web,Seattle,WA,1-Jul-07,12000000,USD,c\\n', 'redfin,Redfin,100,web,Seattle,WA,1-May-06,8000000,USD,b\\n', 'redfin,Redfin,100,web,Seattle,WA,1-Sep-05,770000,USD,a\\n', 'actionengine,Action Engine,,web,Bellevue,WA,1-May-00,7700000,USD,a\\n', 'actionengine,Action Engine,,web,Bellevue,WA,1-May-02,5000000,USD,b\\n', 'actionengine,Action Engine,,web,Bellevue,WA,1-Jan-05,10000000,USD,d\\n', 'actionengine,Action Engine,,web,Bellevue,WA,1-Mar-03,15500000,USD,c\\n', 'actionengine,Action Engine,,web,Bellevue,WA,1-Jul-07,20000000,USD,e\\n', 'wishpot,Wishpot,,web,Seattle,WA,29-Apr-08,1000000,USD,a\\n', 'payscale,PayScale,,web,Seattle,WA,1-Oct-04,3200000,USD,a\\n', 'payscale,PayScale,,web,Seattle,WA,1-Oct-05,7000000,USD,b\\n', 'payscale,PayScale,,web,Seattle,WA,1-Jul-07,10300000,USD,c\\n', 'buddytv,BuddyTV,,web,Seattle,WA,1-Jul-07,2800000,USD,a\\n', 'buddytv,BuddyTV,,web,Seattle,WA,1-May-07,250000,USD,angel\\n', 'buddytv,BuddyTV,,web,Seattle,WA,14-Apr-08,6000000,USD,b\\n', 'judysbook,Judys Book,,web,Seattle,WA,1-Jul-04,2500000,USD,a\\n', 'judysbook,Judys Book,,web,Seattle,WA,1-Nov-05,8000000,USD,b\\n', 'sampa,Sampa,4,web,Redmond,WA,1-Aug-07,310000,USD,angel\\n', 'sampa,Sampa,4,web,Redmond,WA,2-Apr-08,1000000,USD,angel\\n', 'zango,Zango,225,web,Bellevue,WA,1-Mar-04,40000000,USD,a\\n', 'cdigix,Cdigix,,web,Seattle,WA,1-Nov-05,4000000,USD,a\\n', 'ripl,Ripl,,web,Seattle,WA,1-Aug-07,4500000,USD,b\\n', 'eyejot,EyeJot,5,web,Seattle,WA,1-May-07,750000,USD,seed\\n', 'eyejot,EyeJot,5,web,Seattle,WA,1-Jan-07,400000,USD,angel\\n', 'flowplay,FlowPlay,6,web,Seattle,WA,1-May-07,500000,USD,angel\\n', 'flowplay,FlowPlay,6,web,Seattle,WA,6-Feb-08,3700000,USD,a\\n', 'smartsheet,SmartSheet,,web,Bellevue,WA,1-Jun-07,2690000,USD,a\\n', 'visibletechnologies,Visible Technologies,60,web,Seattle,WA,1-Aug-06,3500000,USD,a\\n', 'visibletechnologies,Visible Technologies,60,web,Seattle,WA,1-Sep-07,12000000,USD,b\\n', 'zillow,Zillow,155,web,Seattle,WA,1-Oct-05,32000000,USD,a\\n', 'zillow,Zillow,155,web,Seattle,WA,1-Jul-06,25000000,USD,b\\n', 'zillow,Zillow,155,web,Seattle,WA,1-Sep-07,30000000,USD,c\\n', 'seomoz,SEOMoz,,web,Seattle,WA,1-Sep-07,1250000,USD,a\\n', 'docusign,DocuSign,,web,Seattle,WA,1-Apr-06,10000000,USD,b\\n', 'docusign,DocuSign,,web,Seattle,WA,1-Sep-07,12400000,USD,c\\n', 'adready,AdReady,33,web,Seattle,WA,1-Dec-07,10000000,USD,b\\n', 'treemo,Treemo,,web,Seattle,WA,1-Oct-07,2550000,USD,a\\n', 'gridnetworks,GridNetworks,,web,Seattle,WA,1-Oct-07,9500000,USD,a\\n', 'pelago,Pelago,,web,Seattle,WA,1-Nov-06,7400000,USD,a\\n', 'pelago,Pelago,,web,Seattle,WA,27-May-08,15000000,USD,b\\n', 'blist,Blist,,web,Seattle,WA,20-Feb-08,6500000,USD,a\\n', 'realself,RealSelf,,web,Seattle,WA,1-Oct-07,1000000,USD,angel\\n', 'rescuetime,RescueTime,,web,Seattle,WA,14-Oct-07,20000,USD,seed\\n', 'zoji,Zoji,,web,Seattle,WA,1-Oct-07,1500000,USD,angel\\n', 'snapvine,Snapvine,20,web,Seattle,WA,1-Jul-06,2000000,USD,a\\n', 'snapvine,Snapvine,20,web,Seattle,WA,1-Sep-07,10000000,USD,b\\n', 'jott,Jott,,web,Seattle,WA,1-May-07,5400000,USD,b\\n', 'earthclassmail,Earth Class Mail,,web,Seattle,WA,1-Sep-07,7400000,USD,a\\n', 'earthclassmail,Earth Class Mail,,web,Seattle,WA,1-Jan-08,5900000,USD,a\\n', 'smilebox,Smilebox,,web,Redmond,WA,1-Feb-06,5000000,USD,a\\n', 'smilebox,Smilebox,,web,Redmond,WA,1-Dec-07,7000000,USD,b\\n', 'fyreball,Fyreball,,web,Bellevue,WA,1-Dec-07,1000000,USD,angel\\n', 'delve-networks,Delve Networks,,web,Seattle,WA,1-Dec-06,1650000,USD,seed\\n', 'delve-networks,Delve Networks,,web,Seattle,WA,1-Aug-07,8000000,USD,a\\n', 'livemocha,LiveMocha,,web,Bellevue,WA,1-Jan-08,6000000,USD,a\\n', 'mercentcorporation,Mercent Corporation,50,web,Seattle,WA,1-Jan-08,6500000,USD,b\\n', 'cleverset,CleverSet,,web,Seattle,WA,1-Aug-06,1400000,USD,angel\\n', 'cleverset,CleverSet,,web,Seattle,WA,1-Sep-05,1200000,USD,a\\n', 'cleverset,CleverSet,,web,Seattle,WA,1-Dec-07,500000,USD,angel\\n', 'liquidplanner,LiquidPlanner,11,web,Bellevue,WA,1-Jan-08,1200000,USD,angel\\n', 'limeade,Limeade,10,web,Bellevue,WA,1-Jan-07,1000000,USD,angel\\n', 'yodio,Yodio,4,web,Bellevue,WA,1-Feb-08,850000,USD,a\\n', 'tastemakers,Tastemakers,11,web,Seattle,WA,1-Feb-07,1000000,USD,a\\n', 'whitepages-com,WhitePages.com,125,web,Seattle,WA,1-Aug-05,45000000,USD,a\\n', 'revenuescience,RevenueScience,,web,Seattle,WA,19-Dec-05,24000000,USD,e\\n', 'gotvoice,GotVoice,15,mobile,Kirkland,WA,25-Oct-06,3000000,USD,a\\n', 'cardomain-network,CarDomain Network,50,web,Seattle,WA,29-Jun-07,3000000,USD,a\\n', 'mpire,mpire,,web,Seattle,WA,1-Feb-07,9800000,USD,a\\n', 'mpire,mpire,,web,Seattle,WA,11-Jun-08,10000000,USD,b\\n', 'teachstreet,TeachStreet,8,web,Seattle,WA,1-Mar-08,2250000,USD,a\\n', 'estately,Estately,,web,,WA,24-Apr-08,450000,USD,angel\\n', 'infinia,Infinia,,cleantech,Kennewick,WA,22-Apr-08,57000000,USD,b\\n', 'infinia,Infinia,,cleantech,Kennewick,WA,1-Jun-07,9500000,USD,a\\n', 'm-metrics,M:Metrics,,web,Seattle,WA,16-Oct-05,7000000,USD,b\\n', 'cozi,Cozi,26,software,Seattle,WA,11-Jul-07,3000000,USD,a\\n', 'cozi,Cozi,26,software,Seattle,WA,1-Jun-08,8000000,USD,c\\n', 'trusera,Trusera,15,web,Seattle,WA,1-Jun-07,2000000,USD,angel\\n', 'alerts-com,Alerts.com,,web,Bellevue,WA,8-Jul-08,1200000,USD,a\\n', 'myrio,Myrio,75,software,Bothell,WA,1-Jan-01,20500000,USD,unattributed\\n', 'grid-networks,Grid Networks,,web,Seattle,WA,30-Oct-07,9500000,USD,a\\n', 'grid-networks,Grid Networks,,web,Seattle,WA,20-May-08,10500000,USD,b\\n']\n"
     ]
    }
   ],
   "source": [
    "file_path = \"techcrunch.csv\"\n",
    "result = fech_lines(file_path)\n",
    "print(result)"
   ]
  },
  {
   "cell_type": "code",
   "execution_count": 131,
   "metadata": {},
   "outputs": [
    {
     "name": "stdout",
     "output_type": "stream",
     "text": [
      "12728\n"
     ]
    }
   ],
   "source": [
    "import sys\n",
    "\n",
    "memory_size = sys.getsizeof(result)\n",
    "print(memory_size)"
   ]
  },
  {
   "cell_type": "code",
   "execution_count": 130,
   "metadata": {},
   "outputs": [],
   "source": [
    "def fetch_lines_with_yield(filename):\n",
    "    try:\n",
    "        # Intentamos abrir el archivo especificado en modo lectura (\"r\").\n",
    "        with open(filename, \"r\") as file:\n",
    "            # Iteramos a través de las líneas del archivo y las yield (retornamos) una a una.\n",
    "            for line in file:\n",
    "                yield line  # Utilizamos yield para generar (retornar) cada línea individualmente.\n",
    "    except FileNotFoundError:\n",
    "        # Manejamos la excepción si el archivo no se encuentra.\n",
    "        print(f\"El archivo {filename} no se encontró.\")\n",
    "        return  # Puedes usar 'return' sin valor para indicar el final de la función en lugar de 'None'."
   ]
  },
  {
   "cell_type": "code",
   "execution_count": 134,
   "metadata": {},
   "outputs": [
    {
     "name": "stdout",
     "output_type": "stream",
     "text": [
      "permalink,company,numEmps,category,city,state,fundedDate,raisedAmt,raisedCurrency,round\n",
      "lifelock,LifeLock,,web,Tempe,AZ,1-May-07,6850000,USD,b\n",
      "lifelock,LifeLock,,web,Tempe,AZ,1-Oct-06,6000000,USD,a\n",
      "lifelock,LifeLock,,web,Tempe,AZ,1-Jan-08,25000000,USD,c\n",
      "mycityfaces,MyCityFaces,7,web,Scottsdale,AZ,1-Jan-08,50000,USD,seed\n",
      "flypaper,Flypaper,,web,Phoenix,AZ,1-Feb-08,3000000,USD,a\n",
      "infusionsoft,Infusionsoft,105,software,Gilbert,AZ,1-Oct-07,9000000,USD,a\n",
      "gauto,gAuto,4,web,Scottsdale,AZ,1-Jan-08,250000,USD,seed\n",
      "chosenlist-com,ChosenList.com,5,web,Scottsdale,AZ,1-Oct-06,140000,USD,seed\n",
      "chosenlist-com,ChosenList.com,5,web,Scottsdale,AZ,25-Jan-08,233750,USD,angel\n",
      "digg,Digg,60,web,San Francisco,CA,1-Dec-06,8500000,USD,b\n",
      "digg,Digg,60,web,San Francisco,CA,1-Oct-05,2800000,USD,a\n",
      "facebook,Facebook,450,web,Palo Alto,CA,1-Sep-04,500000,USD,angel\n",
      "facebook,Facebook,450,web,Palo Alto,CA,1-May-05,12700000,USD,a\n",
      "facebook,Facebook,450,web,Palo Alto,CA,1-Apr-06,27500000,USD,b\n",
      "facebook,Facebook,450,web,Palo Alto,CA,1-Oct-07,300000000,USD,c\n",
      "facebook,Facebook,450,web,Palo Alto,CA,1-Mar-08,40000000,USD,c\n",
      "facebook,Facebook,450,web,Palo Alto,CA,15-Jan-08,15000000,USD,c\n",
      "facebook,Facebook,450,web,Palo Alto,CA,1-May-08,100000000,USD,debt_round\n",
      "photobucket,Photobucket,60,web,Palo Alto,CA,1-May-06,10500000,USD,b\n",
      "photobucket,Photobucket,60,web,Palo Alto,CA,1-Mar-05,3000000,USD,a\n",
      "omnidrive,Omnidrive,,web,Palo Alto,CA,1-Dec-06,800000,USD,angel\n",
      "geni,Geni,18,web,West Hollywood,CA,1-Jan-07,1500000,USD,a\n",
      "geni,Geni,18,web,West Hollywood,CA,1-Mar-07,10000000,USD,b\n",
      "twitter,Twitter,17,web,San Francisco,CA,1-Jul-07,5400000,USD,b\n",
      "twitter,Twitter,17,web,San Francisco,CA,1-May-08,15000000,USD,c\n",
      "stumbleupon,StumbleUpon,,web,San Francisco,CA,1-Dec-05,1500000,USD,seed\n",
      "gizmoz,Gizmoz,,web,Menlo Park,CA,1-May-07,6300000,USD,a\n",
      "gizmoz,Gizmoz,,web,Menlo Park,CA,16-Mar-08,6500000,USD,b\n",
      "scribd,Scribd,14,web,San Francisco,CA,1-Jun-06,12000,USD,seed\n",
      "scribd,Scribd,14,web,San Francisco,CA,1-Jan-07,40000,USD,angel\n",
      "scribd,Scribd,14,web,San Francisco,CA,1-Jun-07,3710000,USD,a\n",
      "slacker,Slacker,,web,San Diego,CA,1-Jun-07,40000000,USD,b\n",
      "slacker,Slacker,,web,San Diego,CA,1-Jun-07,13500000,USD,a\n",
      "lala,Lala,,web,Palo Alto,CA,1-May-07,9000000,USD,a\n",
      "plaxo,Plaxo,50,web,Mountain View,CA,1-Nov-02,3800000,USD,a\n",
      "plaxo,Plaxo,50,web,Mountain View,CA,1-Jul-03,8500000,USD,b\n",
      "plaxo,Plaxo,50,web,Mountain View,CA,1-Apr-04,7000000,USD,c\n",
      "plaxo,Plaxo,50,web,Mountain View,CA,1-Feb-07,9000000,USD,d\n",
      "powerset,Powerset,60,web,San Francisco,CA,1-Jun-07,12500000,USD,a\n",
      "technorati,Technorati,25,web,San Francisco,CA,1-Jun-06,10520000,USD,c\n",
      "technorati,Technorati,25,web,San Francisco,CA,1-Sep-04,6500000,USD,b\n",
      "technorati,Technorati,25,web,San Francisco,CA,13-Jun-08,7500000,USD,d\n",
      "technorati,Technorati,25,web,San Francisco,CA,10-May-07,1000000,USD,c\n",
      "mahalo,Mahalo,40,web,Santa Monica,CA,1-Jan-06,5000000,USD,a\n",
      "mahalo,Mahalo,40,web,Santa Monica,CA,1-Jan-07,16000000,USD,b\n",
      "kyte,Kyte,40,web,San Francisco,CA,1-Jul-07,2250000,USD,a\n",
      "kyte,Kyte,40,web,San Francisco,CA,1-Dec-07,15000000,USD,b\n",
      "kyte,Kyte,40,web,San Francisco,CA,10-Mar-08,6100000,USD,b\n",
      "veoh,Veoh,,web,San Diego,CA,1-Apr-06,12500000,USD,b\n",
      "veoh,Veoh,,web,San Diego,CA,1-Aug-07,25000000,USD,c\n",
      "veoh,Veoh,,web,San Diego,CA,1-Jul-05,2250000,USD,a\n",
      "veoh,Veoh,,web,San Diego,CA,3-Jun-08,30000000,USD,d\n",
      "jingle-networks,Jingle Networks,,web,Menlo Park,CA,1-Oct-06,30000000,USD,c\n",
      "jingle-networks,Jingle Networks,,web,Menlo Park,CA,1-Dec-05,5000000,USD,a\n",
      "jingle-networks,Jingle Networks,,web,Menlo Park,CA,1-Apr-06,26000000,USD,b\n",
      "jingle-networks,Jingle Networks,,web,Menlo Park,CA,1-Oct-05,400000,USD,angel\n",
      "jingle-networks,Jingle Networks,,web,Menlo Park,CA,1-Jan-08,13000000,USD,c\n",
      "ning,Ning,41,web,Palo Alto,CA,1-Jul-07,44000000,USD,c\n",
      "ning,Ning,41,web,Palo Alto,CA,1-Apr-08,60000000,USD,d\n",
      "jotspot,JotSpot,,web,Palo Alto,CA,1-Aug-04,5200000,USD,a\n",
      "mercora,Mercora,,web,Sunnyvale,CA,1-Jan-05,5000000,USD,a\n",
      "wesabe,Wesabe,,web,San Francisco,CA,1-Feb-07,700000,USD,seed\n",
      "wesabe,Wesabe,,web,San Francisco,CA,1-Jun-07,4000000,USD,a\n",
      "jangl,Jangl,22,web,Pleasanton,CA,1-Jul-06,7000000,USD,b\n",
      "hyphen8,Hyphen 8,4,web,San Francisco,CA,1-Oct-07,100000,USD,angel\n",
      "prosper,Prosper,,web,San Francisco,CA,1-Jun-07,20000000,USD,c\n",
      "prosper,Prosper,,web,San Francisco,CA,1-Apr-05,7500000,USD,a\n",
      "prosper,Prosper,,web,San Francisco,CA,1-Feb-06,12500000,USD,b\n",
      "google,Google,20000,web,Mountain View,CA,1-Jun-99,25000000,USD,a\n",
      "jajah,Jajah,80,web,Mountain View,CA,1-May-07,20000000,USD,c\n",
      "jajah,Jajah,80,web,Mountain View,CA,1-Mar-06,3000000,USD,a\n",
      "jajah,Jajah,80,web,Mountain View,CA,1-Apr-06,5000000,USD,b\n",
      "youtube,YouTube,,web,San Bruno,CA,1-Nov-05,3500000,USD,a\n",
      "youtube,YouTube,,web,San Bruno,CA,1-Apr-06,8000000,USD,b\n",
      "ustream,Ustream,,web,Mountain View,CA,1-Dec-07,2000000,USD,angel\n",
      "ustream,Ustream,,web,Mountain View,CA,10-Apr-08,11100000,USD,a\n",
      "gizmoproject,GizmoProject,,web,San Diego,CA,1-Feb-06,6000000,USD,a\n",
      "adap-tv,Adap.tv,15,web,San Mateo,CA,1-Jul-07,10000000,USD,a\n",
      "topix,Topix,,web,Palo Alto,CA,1-Nov-06,15000000,USD,b\n",
      "revision3,Revision3,,web,San Francisco,CA,1-Sep-06,1000000,USD,a\n",
      "revision3,Revision3,,web,San Francisco,CA,1-Jun-07,8000000,USD,b\n",
      "aggregateknowledge,Aggregate Knowledge,,web,San Mateo,CA,1-Jun-06,5000000,USD,a\n",
      "aggregateknowledge,Aggregate Knowledge,,web,San Mateo,CA,1-Apr-07,20000000,USD,b\n",
      "sugarinc,Sugar Inc,,web,San Francisco,CA,1-Oct-06,5000000,USD,a\n",
      "sugarinc,Sugar Inc,,web,San Francisco,CA,1-Jun-07,10000000,USD,b\n",
      "zing,Zing,,web,Mountain View,CA,1-Jan-07,13000000,USD,a\n",
      "criticalmetrics,CriticalMetrics,4,web,,CA,1-Jan-07,100000,USD,angel\n",
      "spock,Spock,30,web,Redwood City,CA,1-Dec-06,7000000,USD,a\n",
      "wize,Wize,,web,,CA,1-Jan-07,4000000,USD,a\n",
      "sodahead,SodaHead,,web,,CA,1-Jan-07,4250000,USD,a\n",
      "sodahead,SodaHead,,web,,CA,25-Jun-08,8400000,USD,b\n",
      "casttv,CastTV,0,web,San Francisco,CA,1-Apr-07,3100000,USD,a\n",
      "buzznet,BuzzNet,,web,Hollywood,CA,1-May-07,6000000,USD,a\n",
      "buzznet,BuzzNet,,web,Hollywood,CA,7-Apr-08,25000000,USD,b\n",
      "funny-or-die,Funny Or Die,,web,Palo Alto,CA,1-Dec-07,15000000,USD,b\n",
      "sphere,Sphere,11,web,San Francisco,CA,1-May-06,3000000,USD,b\n",
      "sphere,Sphere,11,web,San Francisco,CA,1-Apr-05,500000,USD,a\n",
      "meevee,MeeVee,,web,Burlingame,CA,1-Feb-06,6500000,USD,b\n",
      "meevee,MeeVee,,web,Burlingame,CA,1-Aug-06,8000000,USD,c\n",
      "meevee,MeeVee,,web,Burlingame,CA,1-Feb-05,7000000,USD,a\n",
      "meevee,MeeVee,,web,Burlingame,CA,1-Sep-07,3500000,USD,d\n",
      "mashery,Mashery,0,web,San Francisco,CA,26-Jun-08,2000000,USD,c\n",
      "yelp,Yelp,,web,San Francisco,CA,1-Oct-06,10000000,USD,c\n",
      "yelp,Yelp,,web,San Francisco,CA,1-Oct-05,5000000,USD,b\n",
      "yelp,Yelp,,web,San Francisco,CA,1-Jul-04,1000000,USD,a\n",
      "yelp,Yelp,,web,San Francisco,CA,26-Feb-08,15000000,USD,d\n",
      "spotplex,Spotplex,3,web,Santa Clara,CA,1-Jan-07,450000,USD,angel\n",
      "coghead,Coghead,21,web,Redwood City,CA,1-Mar-06,3200000,USD,a\n",
      "coghead,Coghead,21,web,Redwood City,CA,1-Mar-07,8000000,USD,b\n",
      "zooomr,Zooomr,,web,San Francisco,CA,1-Feb-06,50000,USD,angel\n",
      "sidestep,SideStep,75,web,Santa Clara,CA,1-Feb-07,15000000,USD,c\n",
      "sidestep,SideStep,75,web,Santa Clara,CA,1-Jan-04,8000000,USD,b\n",
      "sidestep,SideStep,75,web,Santa Clara,CA,1-Dec-99,2200000,USD,a\n",
      "sidestep,SideStep,75,web,Santa Clara,CA,1-Oct-00,6800000,USD,a\n",
      "rockyou,RockYou,,web,San Mateo,CA,1-Jan-07,1500000,USD,a\n",
      "rockyou,RockYou,,web,San Mateo,CA,1-Mar-07,15000000,USD,b\n",
      "rockyou,RockYou,,web,San Mateo,CA,9-Jun-08,35000000,USD,c\n",
      "rockyou,RockYou,,web,San Mateo,CA,27-May-08,1000000,USD,unattributed\n",
      "pageflakes,Pageflakes,20,web,San Francisco,CA,1-May-06,1300000,USD,a\n",
      "swivel,Swivel,,web,San Francisco,CA,1-Sep-06,1000000,USD,a\n",
      "swivel,Swivel,,web,San Francisco,CA,1-Apr-07,1000000,USD,a\n",
      "slide,Slide,64,web,San Francisco,CA,1-Jul-05,8000000,USD,b\n",
      "slide,Slide,64,web,San Francisco,CA,1-Jan-08,50000000,USD,d\n",
      "bebo,Bebo,,web,San Francisco,CA,1-May-06,15000000,USD,a\n",
      "freebase,freebase,,web,San Francisco,CA,1-Mar-06,15000000,USD,a\n",
      "freebase,freebase,,web,San Francisco,CA,1-Jan-08,42500000,USD,b\n",
      "metawebtechnologies,Metaweb Technologies,,web,San Francisco,CA,15-Jan-08,42000000,USD,b\n",
      "glammedia,Glam Media,,web,Brisbane,CA,1-Jul-04,1100000,USD,a\n",
      "glammedia,Glam Media,,web,Brisbane,CA,1-Jul-05,10000000,USD,b\n",
      "glammedia,Glam Media,,web,Brisbane,CA,1-Dec-06,18500000,USD,c\n",
      "glammedia,Glam Media,,web,Brisbane,CA,1-Feb-08,65000000,USD,d\n",
      "glammedia,Glam Media,,web,Brisbane,CA,1-Feb-08,20000000,USD,d\n",
      "thefind,TheFind,,web,Mountain View,CA,1-Feb-05,7000000,USD,a\n",
      "thefind,TheFind,,web,Mountain View,CA,1-Oct-06,4000000,USD,b\n",
      "thefind,TheFind,,web,Mountain View,CA,1-Jul-07,15000000,USD,c\n",
      "zazzle,Zazzle,,web,Redwood City,CA,1-Jul-05,16000000,USD,a\n",
      "zazzle,Zazzle,,web,Redwood City,CA,1-Oct-07,30000000,USD,b\n",
      "dogster,Dogster,,web,San Francisco,CA,1-Sep-06,1000000,USD,angel\n",
      "pandora,Pandora,80,web,Oakland,CA,1-Jan-04,7800000,USD,b\n",
      "pandora,Pandora,80,web,Oakland,CA,1-Oct-05,12000000,USD,c\n",
      "pandora,Pandora,80,web,Oakland,CA,2-Mar-00,1500000,USD,a\n",
      "cafepress,Cafepress,300,web,Foster City,CA,1-Mar-00,1200000,USD,a\n",
      "cafepress,Cafepress,300,web,Foster City,CA,1-May-01,300000,USD,a\n",
      "cafepress,Cafepress,300,web,Foster City,CA,1-Feb-05,14000000,USD,b\n",
      "pbwiki,pbwiki,15,web,,CA,11-Sep-06,350000,USD,a\n",
      "pbwiki,pbwiki,15,web,,CA,1-Feb-07,2100000,USD,b\n",
      "adbrite,AdBrite,,web,San Francisco,CA,1-Sep-04,4000000,USD,a\n",
      "adbrite,AdBrite,,web,San Francisco,CA,1-Feb-06,8000000,USD,b\n",
      "adbrite,AdBrite,,web,San Francisco,CA,1-Nov-07,23000000,USD,c\n",
      "loomia,Loomia,,web,San Francisco,CA,1-Jun-05,1000000,USD,seed\n",
      "loomia,Loomia,,web,San Francisco,CA,1-Apr-08,5000000,USD,a\n",
      "meebo,Meebo,40,web,Mountain View,CA,1-Dec-05,3500000,USD,a\n",
      "meebo,Meebo,40,web,Mountain View,CA,1-Jan-07,9000000,USD,b\n",
      "meebo,Meebo,40,web,Mountain View,CA,30-Apr-08,25000000,USD,c\n",
      "eventbrite,Eventbrite,13,web,San Francisco,CA,1-Nov-06,100000,USD,angel\n",
      "linkedin,LinkedIn,,web,Mountain View,CA,1-Nov-03,4700000,USD,a\n",
      "linkedin,LinkedIn,,web,Mountain View,CA,1-Oct-04,10000000,USD,b\n",
      "linkedin,LinkedIn,,web,Mountain View,CA,1-Jan-07,12800000,USD,c\n",
      "linkedin,LinkedIn,,web,Mountain View,CA,17-Jun-08,53000000,USD,d\n",
      "flickim,FlickIM,,web,Berkeley,CA,1-Mar-07,1600000,USD,a\n",
      "terabitz,Terabitz,12,web,Palo Alto,CA,1-Feb-07,10000000,USD,a\n",
      "healthline,Healthline,,web,San Francisco,CA,1-Jan-06,14000000,USD,a\n",
      "healthline,Healthline,,web,San Francisco,CA,1-Jul-07,21000000,USD,b\n",
      "box-net,Box.net,19,web,Palo Alto,CA,1-Oct-06,1500000,USD,a\n",
      "box-net,Box.net,19,web,Palo Alto,CA,23-Jan-08,6000000,USD,b\n",
      "conduit,Conduit,,web,Redwood Shores,CA,1-Jul-06,1800000,USD,a\n",
      "conduit,Conduit,,web,Redwood Shores,CA,1-Jan-08,8000000,USD,b\n",
      "edgeio,Edgeio,,web,Palo Alto,CA,1-Jul-07,5000000,USD,a\n",
      "spotrunner,Spot Runner,,web,Los Angeles,CA,1-Jan-06,10000000,USD,a\n",
      "spotrunner,Spot Runner,,web,Los Angeles,CA,1-Oct-06,40000000,USD,b\n",
      "spotrunner,Spot Runner,,web,Los Angeles,CA,7-May-08,51000000,USD,c\n",
      "kaboodle,Kaboodle,,web,Santa Clara,CA,1-Mar-05,1500000,USD,a\n",
      "kaboodle,Kaboodle,,web,Santa Clara,CA,1-Mar-06,2000000,USD,b\n",
      "kaboodle,Kaboodle,,web,Santa Clara,CA,1-Mar-07,1500000,USD,c\n",
      "giga-omni-media,Giga Omni Media,18,web,San Francisco,CA,1-Jun-06,325000,USD,a\n",
      "visiblepath,Visible Path,,web,Foster City,CA,1-Mar-06,17000000,USD,b\n",
      "visiblepath,Visible Path,,web,Foster City,CA,1-Mar-06,7700000,USD,a\n",
      "wink,Wink,,web,Mountain View,CA,1-Jan-05,6200000,USD,a\n",
      "seesmic,seesmic,,web,San Francisco,CA,1-Nov-07,6000000,USD,a\n",
      "seesmic,seesmic,,web,San Francisco,CA,20-Jun-08,6000000,USD,b\n",
      "zvents,Zvents,,web,San Mateo,CA,7-Nov-06,7000000,USD,a\n",
      "zvents,Zvents,,web,San Mateo,CA,5-Oct-05,200000,USD,seed\n",
      "eventful,Eventful,35,web,San Diego,CA,1-Sep-06,7500000,USD,b\n",
      "eventful,Eventful,35,web,San Diego,CA,1-Mar-05,2100000,USD,a\n",
      "oodle,Oodle,,web,San Mateo,CA,1-May-06,5000000,USD,a\n",
      "oodle,Oodle,,web,San Mateo,CA,1-Jul-07,11000000,USD,b\n",
      "odesk,oDesk,,web,Menlo Park,CA,1-Apr-06,6000000,USD,a\n",
      "odesk,oDesk,,web,Menlo Park,CA,1-Sep-06,8000000,USD,b\n",
      "odesk,oDesk,,web,Menlo Park,CA,1-Jun-08,15000000,USD,c\n",
      "simplyhired,SimplyHired,,web,Mountain View,CA,1-Mar-06,13500000,USD,b\n",
      "simplyhired,SimplyHired,,web,Mountain View,CA,5-Aug-05,3000000,USD,a\n",
      "ooma,ooma,47,web,Palo Alto,CA,1-Jan-05,8000000,USD,a\n",
      "ooma,ooma,47,web,Palo Alto,CA,1-Dec-06,18000000,USD,b\n",
      "goingon,GoingOn,3,web,Woodside,CA,1-Aug-05,1000000,USD,seed\n",
      "flixster,Flixster,17,web,San Francisco,CA,1-Feb-07,2000000,USD,a\n",
      "flixster,Flixster,17,web,San Francisco,CA,4-Apr-08,5000000,USD,b\n",
      "piczo,Piczo,,web,San Francisco,CA,1-Jan-07,11000000,USD,c\n",
      "socialtext,Socialtext,,web,Palo Alto,CA,1-Jun-04,300000,USD,angel\n",
      "socialtext,Socialtext,,web,Palo Alto,CA,1-Jun-05,3100000,USD,b\n",
      "socialtext,Socialtext,,web,Palo Alto,CA,1-Nov-07,9500000,USD,c\n",
      "powerreviews,PowerReview,,web,Millbrae,CA,1-Dec-05,6250000,USD,a\n",
      "powerreviews,PowerReview,,web,Millbrae,CA,1-Sep-07,15000000,USD,b\n",
      "hi5,hi5,100,web,San Francisco,CA,1-Jul-07,20000000,USD,a\n",
      "hi5,hi5,100,web,San Francisco,CA,1-Dec-07,15000000,USD,debt_round\n",
      "tagged,Tagged,,web,San Francisco,CA,1-Sep-05,1500000,USD,angel\n",
      "tagged,Tagged,,web,San Francisco,CA,1-Dec-05,7000000,USD,a\n",
      "tagged,Tagged,,web,San Francisco,CA,1-Jul-07,15000000,USD,b\n",
      "jaxtr,Jaxtr,,web,Menlo Park,CA,1-Jul-07,1500000,USD,angel\n",
      "jaxtr,Jaxtr,,web,Menlo Park,CA,1-Aug-07,10000000,USD,a\n",
      "jaxtr,Jaxtr,,web,Menlo Park,CA,23-Jun-08,10000000,USD,b\n",
      "m,Me,,web,San Jose,CA,1-May-07,1500000,USD,seed\n",
      "intronetworks,introNetworks,9,web,Santa Barbara,CA,1-May-07,2700000,USD,a\n",
      "leveragesoftware,Leverage Software,21,web,San Francisco,CA,14-May-05,6000000,USD,a\n",
      "lithiumtechnologies,Lithium Technologies,42,web,Emeryville,CA,17-Apr-07,9000000,USD,a\n",
      "lithiumtechnologies,Lithium Technologies,42,web,Emeryville,CA,1-Jun-08,12000000,USD,b\n",
      "genius,Genius,,web,San Mateo,CA,1-Mar-06,5100000,USD,a\n",
      "genius,Genius,,web,San Mateo,CA,1-Jan-07,10000000,USD,b\n",
      "genius,Genius,,web,San Mateo,CA,5-Feb-08,19000000,USD,c\n",
      "respectance,Respectance,,web,San Francisco,CA,1-Jun-07,250000,USD,seed\n",
      "respectance,Respectance,,web,San Francisco,CA,1-Jul-07,1500000,USD,a\n",
      "curse,Curse,,web,San Francisco,CA,1-Jul-07,5000000,USD,a\n",
      "licketyship,LicketyShip,,web,San Francisco,CA,1-Dec-07,1500000,USD,angel\n",
      "grockit,Grockit,8,web,San Francisco,CA,1-Jun-07,2300000,USD,a\n",
      "grockit,Grockit,8,web,San Francisco,CA,30-May-08,8000000,USD,b\n",
      "peerme,PeerMe,,web,Mountain View,CA,1-Jan-05,5000000,USD,a\n",
      "kiptronic,Kiptronic,20,web,San Francisco,CA,1-Dec-06,4000000,USD,a\n",
      "kiptronic,Kiptronic,20,web,San Francisco,CA,1-Nov-05,300000,USD,angel\n",
      "kiptronic,Kiptronic,20,web,San Francisco,CA,5-Jun-08,3000000,USD,b\n",
      "vuze,Vuze,,web,Palo Alto,CA,1-Dec-06,12000000,USD,b\n",
      "vuze,Vuze,,web,Palo Alto,CA,1-Dec-07,20000000,USD,c\n",
      "phonezoo,Phonezoo,,web,Sunnyvale,CA,1-Jun-06,560000,USD,a\n",
      "phonezoo,Phonezoo,,web,Sunnyvale,CA,1-Feb-07,1500000,USD,a\n",
      "droplettechnology,Droplet Technology,,web,Menlo Park,CA,1-Oct-06,3500000,USD,a\n",
      "podtech,PodTech,,web,Palo Alto,CA,1-Mar-06,5500000,USD,a\n",
      "podtech,PodTech,,web,Palo Alto,CA,1-Jun-07,2000000,USD,a\n",
      "crackle,Crackle,,web,Mill Valley,CA,1-Dec-05,1750000,USD,a\n",
      "reddit,Reddit,,web,San Francisco,CA,1-Jun-05,100000,USD,seed\n",
      "wikia,Wikia,,web,San Mateo,CA,1-Mar-06,4000000,USD,a\n",
      "wikia,Wikia,,web,San Mateo,CA,1-Dec-06,10000000,USD,b\n",
      "retrevo,Retrevo,,web,Sunnyvale,CA,1-Dec-06,3200000,USD,a\n",
      "retrevo,Retrevo,,web,Sunnyvale,CA,1-Feb-06,700000,USD,seed\n",
      "retrevo,Retrevo,,web,Sunnyvale,CA,20-Mar-08,8000000,USD,b\n",
      "buxfer,Buxfer,2,web,Mountain View,CA,1-Jan-07,15000,USD,seed\n",
      "buxfer,Buxfer,2,web,Mountain View,CA,1-Apr-07,300000,USD,angel\n",
      "yousendit,YouSendIt,0,web,Campbell,CA,24-Apr-07,10000000,USD,b\n",
      "yousendit,YouSendIt,0,web,Campbell,CA,1-Aug-05,10000000,USD,a\n",
      "yousendit,YouSendIt,0,web,Campbell,CA,15-Jul-08,14000000,USD,c\n",
      "tangler,Tangler,,web,Mountain View,CA,1-Jul-06,1500000,USD,angel\n",
      "obopay,obopay,,web,Redwood City,CA,1-Feb-06,10000000,USD,a\n",
      "obopay,obopay,,web,Redwood City,CA,1-Sep-06,7000000,USD,b\n",
      "obopay,obopay,,web,Redwood City,CA,1-Jul-07,29000000,USD,c\n",
      "obopay,obopay,,web,Redwood City,CA,21-Apr-08,20000000,USD,d\n",
      "paypal,PayPal,,web,San Jose,CA,1-Apr-00,100000000,USD,c\n",
      "paypal,PayPal,,web,San Jose,CA,1-Feb-01,90000000,USD,d\n",
      "paypal,PayPal,,web,San Jose,CA,1-Jul-99,4000000,USD,b\n",
      "talkplus,TalkPlus,,web,San Mateo,CA,1-Oct-06,5500000,USD,a\n",
      "vudu,Vudu,50,hardware,Santa Clara,CA,1-Jun-05,21000000,USD,a\n",
      "insiderpages,Insider Pages,,web,Redwood City,CA,1-Mar-06,8500000,USD,a\n",
      "snapfish,Snapfish,,web,San Francisco,CA,1-Nov-99,7500000,USD,a\n",
      "snapfish,Snapfish,,web,San Francisco,CA,1-May-00,36000000,USD,b\n",
      "affinitycircles,Affinity Circles,22,web,Mountain View,CA,1-May-06,4100000,USD,c\n",
      "affinitycircles,Affinity Circles,22,web,Mountain View,CA,1-Jun-05,1000000,USD,b\n",
      "affinitycircles,Affinity Circles,22,web,Mountain View,CA,1-Dec-04,440000,USD,a\n",
      "imvu,IMVU,,web,Palo Alto,CA,1-Feb-06,1000000,USD,angel\n",
      "nirvanix,Nirvanix,,web,San Diego,CA,19-Dec-07,18000000,USD,a\n",
      "fuzzwich,Habit Industries,4,web,Palo Alto,CA,1-Jun-07,15000,USD,seed\n",
      "gaia,Gaia,,web,San Jose,CA,1-Jun-06,8930000,USD,a\n",
      "gaia,Gaia,,web,San Jose,CA,1-Mar-07,12000000,USD,b\n",
      "gaia,Gaia,,web,San Jose,CA,14-Jul-08,11000000,USD,c\n",
      "greatcall,GreatCall,,web,Del Mar,CA,1-Aug-07,36600000,USD,a\n",
      "revver,Revver,,web,Los Angeles,CA,1-Nov-05,4000000,USD,a\n",
      "revver,Revver,,web,Los Angeles,CA,1-Apr-06,8700000,USD,b\n",
      "metacafe,Metacafe,,web,Palo Alto,CA,1-Jul-06,15000000,USD,b\n",
      "metacafe,Metacafe,,web,Palo Alto,CA,1-Aug-07,30000000,USD,c\n",
      "flock,Flock,40,web,Redwood City,CA,1-Nov-05,3300000,USD,b\n",
      "flock,Flock,40,web,Redwood City,CA,1-Jun-06,10000000,USD,c\n",
      "flock,Flock,40,web,Redwood City,CA,21-May-08,15000000,USD,d\n",
      "vmixmedia,VMIX Media,42,web,San Diego,CA,1-Mar-06,5000000,USD,a\n",
      "vmixmedia,VMIX Media,42,web,San Diego,CA,1-Oct-07,16500000,USD,b\n",
      "kontera,Kontera,,web,San Francisco,CA,1-Aug-07,10300000,USD,b\n",
      "kontera,Kontera,,web,San Francisco,CA,1-Jul-06,7000000,USD,a\n",
      "tokbox,Tokbox,,web,San Francisco,CA,1-Oct-07,4000000,USD,a\n",
      "tokbox,Tokbox,,web,San Francisco,CA,6-Aug-08,10000000,USD,b\n",
      "six-apart,Six Apart,150,web,San Francisco,CA,1-Oct-04,10000000,USD,b\n",
      "six-apart,Six Apart,150,web,San Francisco,CA,1-Mar-06,12000000,USD,c\n",
      "six-apart,Six Apart,150,web,San Francisco,CA,23-Apr-03,600000,USD,a\n",
      "weebly,Weebly,,web,San Francisco,CA,1-May-07,650000,USD,seed\n",
      "synthasite,Synthasite,26,web,San Francisco,CA,1-Nov-07,5000000,USD,a\n",
      "bittorrent,BitTorrent,29,web,San Francisco,CA,1-Sep-05,8750000,USD,a\n",
      "bittorrent,BitTorrent,29,web,San Francisco,CA,1-Dec-06,25000000,USD,b\n",
      "kongregate,Kongregate,16,web,San Francisco,CA,1-Mar-07,1000000,USD,a\n",
      "kongregate,Kongregate,16,web,San Francisco,CA,1-Aug-07,5000000,USD,b\n",
      "kongregate,Kongregate,16,web,San Francisco,CA,1-Apr-08,3000000,USD,b\n",
      "dancejam,DanceJam,0,web,San Francisco,CA,1-May-07,1000000,USD,angel\n",
      "dancejam,DanceJam,0,web,San Francisco,CA,1-Feb-08,3500000,USD,a\n",
      "fathomonline,Fathom Online,,web,San Francisco,CA,1-Jul-04,6000000,USD,a\n",
      "zivity,Zivity,16,web,San Francisco,CA,1-Aug-07,1000000,USD,seed\n",
      "zivity,Zivity,16,web,San Francisco,CA,1-Mar-08,7000000,USD,b\n",
      "bluelithium,BlueLithium,135,web,San Jose,CA,1-Feb-05,11500000,USD,a\n",
      "expresso,eXpresso,,web,Menlo Park,CA,1-Oct-07,2000000,USD,a\n",
      "doostang,Doostang,,web,Palo Alto,CA,1-Sep-07,3500000,USD,a\n",
      "docstoc,Docstoc,,web,Beverly Hills,CA,1-Nov-07,750000,USD,a\n",
      "docstoc,Docstoc,,web,Beverly Hills,CA,28-Apr-08,3250000,USD,b\n",
      "mevio,Mevio,,web,San Francisco,CA,1-Jul-05,8900000,USD,a\n",
      "mevio,Mevio,,web,San Francisco,CA,1-Sep-06,15000000,USD,b\n",
      "mevio,Mevio,,web,San Francisco,CA,9-Jul-08,15000000,USD,c\n",
      "purevideo,PureVideo Networks,,web,Los Angeles,CA,1-Dec-05,5600000,USD,a\n",
      "purevideo,PureVideo Networks,,web,Los Angeles,CA,1-Sep-07,2850000,USD,b\n",
      "filmloop,FilmLoop,,web,Menlo Park,CA,1-Feb-05,5600000,USD,a\n",
      "bitpass,BitPass,,web,Mountain View,CA,1-Jul-03,1500000,USD,a\n",
      "bitpass,BitPass,,web,Mountain View,CA,1-Sep-04,11800000,USD,b\n",
      "art-com,Art.com,500,web,Emeryville,CA,1-Feb-05,30000000,USD,a\n",
      "atomshockwave,Atom Shockwave,,web,San Francisco,CA,1-Mar-01,22900000,USD,a\n",
      "cinemanow,CinemaNow,,web,Marina Del Rey,CA,1-Jul-04,11000000,USD,a\n",
      "digitalchocolate,Digital Chocolate,,web,San Mateo,CA,1-Dec-03,8400000,USD,a\n",
      "digitalchocolate,Digital Chocolate,,web,San Mateo,CA,1-Dec-03,13000000,USD,b\n",
      "eharmony,eHarmony,,web,Pasadena,CA,1-Jun-00,3000000,USD,a\n",
      "eharmony,eHarmony,,web,Pasadena,CA,1-Nov-04,110000000,USD,b\n",
      "friendster,Friendster,465,web,San Francisco,CA,1-Dec-02,2400000,USD,a\n",
      "friendster,Friendster,465,web,San Francisco,CA,1-Oct-03,13000000,USD,b\n",
      "friendster,Friendster,465,web,San Francisco,CA,1-Aug-06,10000000,USD,c\n",
      "friendster,Friendster,465,web,San Francisco,CA,5-Aug-08,20000000,USD,d\n",
      "greystripe,Greystripe,,web,San Francisco,CA,1-May-07,8900000,USD,b\n",
      "slingmedia,Sling Media,,web,Foster City,CA,1-Nov-04,10500000,USD,a\n",
      "slingmedia,Sling Media,,web,Foster City,CA,1-Jul-05,4000000,USD,a\n",
      "trulia,Trulia,,web,San Francisco,CA,1-Dec-05,5700000,USD,b\n",
      "trulia,Trulia,,web,San Francisco,CA,1-May-07,10000000,USD,c\n",
      "trulia,Trulia,,web,San Francisco,CA,1-Sep-05,2100000,USD,a\n",
      "trulia,Trulia,,web,San Francisco,CA,10-Jul-08,15000000,USD,d\n",
      "lendingclub,Lending Club,,web,Sunnyvale,CA,1-May-07,2000000,USD,angel\n",
      "lendingclub,Lending Club,,web,Sunnyvale,CA,1-Aug-07,10260000,USD,a\n",
      "tubemogul,tubemogul,15,web,Emeryville,CA,7-Feb-08,1500000,USD,a\n",
      "gemini,Gemini,,web,San Mateo,CA,1-Mar-07,20000000,USD,a\n",
      "gemini,Gemini,,web,San Mateo,CA,1-May-07,5000000,USD,b\n",
      "multiverse,Multiverse,,web,Mountain View,CA,1-May-07,4175000,USD,a\n",
      "multiverse,Multiverse,,web,Mountain View,CA,17-Apr-07,850000,USD,angel\n",
      "limelife,LimeLife,,mobile,Menlo Park,CA,28-Mar-06,10000000,USD,b\n",
      "limelife,LimeLife,,mobile,Menlo Park,CA,1-Aug-05,5000000,USD,a\n",
      "limelife,LimeLife,,mobile,Menlo Park,CA,24-May-07,3900000,USD,b\n",
      "opentable,OpenTable,,web,San Francisco,CA,1-May-99,2000000,USD,a\n",
      "opentable,OpenTable,,web,San Francisco,CA,1-Jan-00,10000000,USD,b\n",
      "opentable,OpenTable,,web,San Francisco,CA,1-Oct-00,36000000,USD,c\n",
      "rooftopcomedy,RooftopComedy,20,web,San Francisco,CA,1-May-07,2500000,USD,a\n",
      "federatedmedia,Federated Media,,web,Sausalito,CA,1-Aug-07,4500000,USD,b\n",
      "federatedmedia,Federated Media,,web,Sausalito,CA,1-Apr-08,50000000,USD,c\n",
      "deliveryagent,Delivery Agent,,web,San Francisco,CA,1-May-07,18500000,USD,c\n",
      "deliveryagent,Delivery Agent,,web,San Francisco,CA,17-May-06,11000000,USD,b\n",
      "deliveryagent,Delivery Agent,,web,San Francisco,CA,29-Mar-05,5500000,USD,a\n",
      "reunion,Reunion,100,web,Los Angeles,CA,1-Apr-07,25000000,USD,a\n",
      "mixercast,Mixercast,,web,San Mateo,CA,1-May-05,2600000,USD,a\n",
      "mixercast,Mixercast,,web,San Mateo,CA,1-Jan-08,6000000,USD,b\n",
      "mtraks,mTraks,,web,San Diego,CA,1-May-07,550000,USD,angel\n",
      "xora,Xora,,web,Mountain View,CA,1-May-01,7000000,USD,a\n",
      "xora,Xora,,web,Mountain View,CA,1-Feb-03,4000000,USD,b\n",
      "xora,Xora,,web,Mountain View,CA,1-Jun-07,4000000,USD,debt_round\n",
      "ooyala,Ooyala,,web,Mountain View,CA,1-Jan-08,8500000,USD,b\n",
      "saynow,SayNow,14,web,Palo Alto,CA,1-Sep-07,7500000,USD,a\n",
      "crunchyroll,Crunchyroll,,web,San Francsico,CA,1-Feb-08,4050000,USD,a\n",
      "circleup,CircleUp,19,web,Newport Beach,CA,1-Jun-07,3000000,USD,a\n",
      "pixsense,PixSense,,web,Santa Clara,CA,1-Dec-06,5400000,USD,a\n",
      "pixsense,PixSense,,web,Santa Clara,CA,1-Jun-07,2000000,USD,b\n",
      "danal,Danal,,web,San Jose,CA,1-Jun-07,9500000,USD,a\n",
      "hulu,hulu,,web,Los Angeles,CA,1-Aug-07,100000000,USD,a\n",
      "ourstory,OurStory,,web,Mountain View,CA,1-Jan-06,6300000,USD,a\n",
      "specificmedia,Specificmedia,,web,Ir vine,CA,1-Jun-06,10000000,USD,a\n",
      "specificmedia,Specificmedia,,web,Ir vine,CA,1-Nov-07,100000000,USD,b\n",
      "admob,AdMob,,web,San Mateo,CA,1-Mar-07,15000000,USD,b\n",
      "mysql,MySQL,,web,Cupertino,CA,1-Feb-06,18500000,USD,c\n",
      "mysql,MySQL,,web,Cupertino,CA,1-Jun-03,19500000,USD,b\n",
      "attributor,Attributor,0,web,Redwood City,CA,28-Jan-06,2000000,USD,a\n",
      "attributor,Attributor,0,web,Redwood City,CA,2-Apr-08,12000000,USD,c\n",
      "attributor,Attributor,0,web,Redwood City,CA,18-Dec-06,8000000,USD,b\n",
      "socialmedia,Social Media,15,web,Palo Alto,CA,1-Sep-07,500000,USD,a\n",
      "socialmedia,Social Media,15,web,Palo Alto,CA,1-Oct-07,3500000,USD,b\n",
      "demandmedia,Demand Media,,web,Santa Monica,CA,1-May-06,120000000,USD,a\n",
      "demandmedia,Demand Media,,web,Santa Monica,CA,1-Sep-06,100000000,USD,b\n",
      "demandmedia,Demand Media,,web,Santa Monica,CA,1-Sep-07,100000000,USD,c\n",
      "demandmedia,Demand Media,,web,Santa Monica,CA,24-Mar-08,35000000,USD,d\n",
      "tripit,TripIt,8,web,San Francisco,CA,1-Apr-07,1000000,USD,seed\n",
      "pubmatic,PubMatic,35,web,Palo Alto,CA,1-Jan-08,7000000,USD,a\n",
      "mint,Mint,22,web,Mountain View,CA,1-Oct-07,4700000,USD,a\n",
      "mint,Mint,22,web,Mountain View,CA,1-Oct-06,325000,USD,seed\n",
      "mint,Mint,22,web,Mountain View,CA,5-Mar-08,12000000,USD,b\n",
      "app2you,app2you,4,web,La Jolla,CA,20-Nov-07,255000,USD,angel\n",
      "app2you,app2you,4,web,La Jolla,CA,1-Oct-06,177000,USD,angel\n",
      "yourstreet,YourStreet,6,web,San Francisco,CA,1-Oct-06,250000,USD,angel\n",
      "tagworld,Tagworld,,web,Santa Monica,CA,1-Mar-06,7500000,USD,a\n",
      "tagworld,Tagworld,,web,Santa Monica,CA,1-Dec-06,40000000,USD,b\n",
      "rotohog,RotoHog,,web,Inglewood,CA,1-Aug-07,6000000,USD,a\n",
      "thisnext,ThisNext,0,web,Santa Monica,CA,1-Jan-08,5000000,USD,b\n",
      "thisnext,ThisNext,0,web,Santa Monica,CA,1-Jan-06,2500000,USD,a\n",
      "chesspark,ChessPark,,web,West Palm Beach,CA,1-Jul-07,1000000,USD,angel\n",
      "break,Break,,web,Beverly Hills,CA,1-Jul-07,21400000,USD,a\n",
      "musestorm,MuseStorm,,web,Sunnyvale,CA,1-Jul-07,1000000,USD,a\n",
      "mediamachines,Media Machines,,web,San Francisco,CA,1-Aug-07,9400000,USD,a\n",
      "mig33,Ciihui,,web,Burlingame,CA,1-May-07,10000000,USD,a\n",
      "mig33,Ciihui,,web,Burlingame,CA,1-Jan-08,13500000,USD,b\n",
      "aliph,Aliph,,web,San Francisco,CA,1-Jul-07,5000000,USD,a\n",
      "mego,mEgo,15,web,Los Angeles,CA,1-May-06,1100000,USD,angel\n",
      "mego,mEgo,15,web,Los Angeles,CA,1-Jul-07,2000000,USD,angel\n",
      "realius,Realius,3,web,Berkeley,CA,1-May-07,500000,USD,angel\n",
      "xobni,Xobni,0,software,San Francisco,CA,1-Jun-06,12000,USD,seed\n",
      "xobni,Xobni,0,software,San Francisco,CA,1-Nov-06,80000,USD,angel\n",
      "xobni,Xobni,0,software,San Francisco,CA,1-Mar-07,4260000,USD,a\n",
      "spoke,Spoke,0,web,San Mateo,CA,18-Nov-03,11700000,USD,c\n",
      "spoke,Spoke,0,web,San Mateo,CA,24-Apr-03,9200000,USD,b\n",
      "fixya,FixYa,30,web,San Mateo,CA,1-Jan-07,2000000,USD,a\n",
      "fixya,FixYa,30,web,San Mateo,CA,18-Mar-08,6000000,USD,b\n",
      "mozilla,Mozilla,150,web,Mountain View,CA,15-Jul-03,2000000,USD,unattributed\n",
      "brightqube,BrightQube,0,web,Carlsbad,CA,1-May-07,200000,USD,angel\n",
      "buzzdash,BuzzDash,0,web,Marina del Rey,CA,1-Sep-06,1200000,USD,angel\n",
      "urbanmapping,Urban Mapping,9,web,San Francisco,CA,1-May-06,400000,USD,seed\n",
      "consortemedia,Consorte Media,0,web,San Francisco,CA,1-Dec-07,7000000,USD,b\n",
      "ffwd,ffwd,,web,San Francisco,CA,1-Aug-07,1700000,USD,a\n",
      "satisfaction,Get Satisfaction,,web,San Francisco,CA,1-Sep-07,1300000,USD,a\n",
      "ringcentral,RingCentral,,web,Redwood City,CA,1-Sep-07,12000000,USD,a\n",
      "ringcentral,RingCentral,,web,Redwood City,CA,1-Feb-08,12000000,USD,b\n",
      "3jam,3Jam,,web,Menlo Park,CA,1-Jul-07,4000000,USD,a\n",
      "playspan,PlaySpan,,web,Santa Clara,CA,1-Sep-07,6500000,USD,a\n",
      "grouply,Grouply,6,web,Redwood City,CA,1-Jun-07,935000,USD,angel\n",
      "grouply,Grouply,6,web,Redwood City,CA,1-Jan-08,365000,USD,angel\n",
      "grouply,Grouply,6,web,Redwood City,CA,14-Jan-08,1300000,USD,a\n",
      "graspr,Graspr,,web,Sunnyvale,CA,10-Jul-08,2500000,USD,a\n",
      "zannel,Zannel,,web,San Francisco,CA,2-Jun-08,10000000,USD,b\n",
      "deca-tv,deca.tv,,web,Santa Monica,CA,1-Sep-07,5000000,USD,a\n",
      "zimbra,Zimbra,,web,San Mateo,CA,1-Apr-06,14500000,USD,c\n",
      "friendfeed,FriendFeed,,web,Mountain View,CA,26-Feb-08,5000000,USD,a\n",
      "rupture,Rupture,15,web,San Francisco,CA,1-Jul-07,3000000,USD,angel\n",
      "jibjab,JibJab,,web,Santa Monica,CA,1-Oct-07,3000000,USD,b\n",
      "rubiconproject,Rubicon Project,,web,Los Angeles,CA,1-Oct-07,4000000,USD,a\n",
      "rubiconproject,Rubicon Project,,web,Los Angeles,CA,1-Oct-07,2000000,USD,debt_round\n",
      "rubiconproject,Rubicon Project,,web,Los Angeles,CA,28-Jan-08,15000000,USD,b\n",
      "snaplayout,SnapLayout,,web,San Francisco,CA,1-May-07,650000,USD,a\n",
      "confabb,Confabb,,web,,CA,1-Aug-07,200000,USD,angel\n",
      "uptake,UpTake,,web,Palo Alto,CA,18-Dec-07,4000000,USD,a\n",
      "23andme,23andMe,30,web,Mountain View,CA,1-May-07,9000000,USD,a\n",
      "yume,YuMe,,web,Redwood City,CA,1-Oct-07,9000000,USD,b\n",
      "mochimedia,Mochi Media,,web,San Francisco,CA,12-Mar-08,4000000,USD,a\n",
      "mochimedia,Mochi Media,,web,San Francisco,CA,18-Jun-08,10000000,USD,b\n",
      "blurb,Blurb,,web,San Francisco,CA,1-Oct-06,12000000,USD,b\n",
      "weatherbill,WeatherBill,,web,San Francisco,CA,1-Oct-07,12600000,USD,a\n",
      "automattic,Automattic,20,web,San Francisco,CA,1-Jul-05,1100000,USD,a\n",
      "automattic,Automattic,20,web,San Francisco,CA,1-Jan-08,29500000,USD,b\n",
      "twine,Radar Networks,,web,San Francisco,CA,1-Apr-06,5000000,USD,a\n",
      "twine,Radar Networks,,web,San Francisco,CA,1-Feb-08,13000000,USD,b\n",
      "veodia,Veodia,15,web,San Mateo,CA,12-May-08,8300000,USD,a\n",
      "echosign,EchoSign,,web,Palo Alto,CA,1-Oct-07,6000000,USD,a\n",
      "rollbase,Rollbase,0,web,Mountain View,CA,1-Aug-07,400000,USD,angel\n",
      "predictify,Predictify,6,web,Redwood City,CA,25-Mar-08,4300000,USD,a\n",
      "trialpay,TrialPay,50,web,San Francisco,CA,1-Feb-08,12700000,USD,b\n",
      "socializr,Socializr,,web,San Francisco,CA,1-Sep-07,1500000,USD,a\n",
      "eurekster,Eurekster,0,web,,CA,1-Dec-04,1350000,USD,a\n",
      "eurekster,Eurekster,0,web,,CA,13-Mar-07,5500000,USD,b\n",
      "gydget,Gydget,,web,San Francisco,CA,1-Aug-06,1000000,USD,a\n",
      "pickspal,PicksPal,,web,Mountain View,CA,1-Oct-07,3000000,USD,c\n",
      "gigya,Gigya,,web,Palo Alto,CA,1-Feb-07,3000000,USD,a\n",
      "gigya,Gigya,,web,Palo Alto,CA,9-Mar-08,9500000,USD,b\n",
      "songbird,Songbird,,web,San Francisco,CA,1-Dec-06,8000000,USD,seed\n",
      "guardiananalytics,Guardian Analytics,,web,Los Altos,CA,1-Oct-07,4500000,USD,b\n",
      "fora-tv,Fora.TV,,web,San Francisco,CA,1-Oct-07,4000000,USD,a\n",
      "disqus,Disqus,3,web,San Francisco,CA,18-Mar-08,500000,USD,a\n",
      "sezwho,SezWho,9,web,Los Altos,CA,1-Oct-07,1000000,USD,a\n",
      "yieldbuild,YieldBuild,,web,San Francisco,CA,3-Mar-08,6000000,USD,b\n",
      "akimbo,Akimbo,,web,San Mateo,CA,1-Jun-06,15500000,USD,c\n",
      "akimbo,Akimbo,,web,San Mateo,CA,1-Jul-04,12000000,USD,b\n",
      "akimbo,Akimbo,,web,San Mateo,CA,1-Jun-03,4200000,USD,seed\n",
      "akimbo,Akimbo,,web,San Mateo,CA,29-Feb-08,8000000,USD,d\n",
      "laszlosystems,Laszlo Systems,60,software,San Mateo,CA,6-Mar-08,14600000,USD,c\n",
      "laszlosystems,Laszlo Systems,60,software,San Mateo,CA,15-Apr-05,6250000,USD,b\n",
      "brightroll,BrightRoll,,web,San Francisco,CA,1-Oct-07,5000000,USD,b\n",
      "merchantcircle,MerchantCircle,10,web,Los Altos,CA,1-Sep-07,10000000,USD,b\n",
      "minekey,Minekey,,web,Sunnyvale,CA,1-Aug-07,3000000,USD,a\n",
      "bookingangel,Booking Angel,,web,Hollywood,CA,1-Aug-07,100000,USD,angel\n",
      "loopt,Loopt,,web,Mountain View,CA,1-Jun-05,6000,USD,seed\n",
      "loopt,Loopt,,web,Mountain View,CA,23-Jul-07,8250000,USD,b\n",
      "fix8,Fix8,,web,Sherman Oaks,CA,1-Oct-07,3000000,USD,a\n",
      "fix8,Fix8,,web,Sherman Oaks,CA,3-Apr-08,2000000,USD,b\n",
      "mybuys,MyBuys,,web,Redwood Shores,CA,21-Feb-07,2800000,USD,a\n",
      "mybuys,MyBuys,,web,Redwood Shores,CA,8-Oct-07,10000000,USD,b\n",
      "blackarrow,BlackArrow,35,web,San Mateo,CA,1-Oct-07,12000000,USD,b\n",
      "blackarrow,BlackArrow,35,web,San Mateo,CA,1-Nov-06,14750000,USD,a\n",
      "peerflix,Peerflix,,web,Palo Alto,CA,1-Oct-05,8000000,USD,b\n",
      "peerflix,Peerflix,,web,Palo Alto,CA,1-Mar-05,2000000,USD,a\n",
      "fatdoor,fatdoor,,web,Palo Alto,CA,1-Nov-07,5500000,USD,a\n",
      "fatdoor,fatdoor,,web,Palo Alto,CA,1-Feb-07,1000000,USD,angel\n",
      "fatdoor,fatdoor,,web,Palo Alto,CA,1-May-07,500000,USD,debt_round\n",
      "verimatrix,Verimatrix,100,web,San Diego,CA,1-Jun-06,8000000,USD,b\n",
      "verimatrix,Verimatrix,100,web,San Diego,CA,1-Oct-07,5000000,USD,c\n",
      "billeo,Billeo,,web,Santa Clara,CA,1-Nov-07,7000000,USD,b\n",
      "billeo,Billeo,,web,Santa Clara,CA,1-Apr-06,4000000,USD,a\n",
      "caring-com,Caring.com,,web,San Mateo,CA,1-Sep-07,6000000,USD,a\n",
      "ask-com,Ask.com,475,web,Oakland,CA,1-Mar-99,25000000,USD,a\n",
      "projectplaylist,Project Playlist,,web,Palo Alto,CA,1-Sep-07,3000000,USD,a\n",
      "blowtorch,Blowtorch,,web,Sausalito,CA,1-Nov-07,50000000,USD,a\n",
      "gamelayers,GameLayers,,web,San Francisco,CA,1-Oct-07,500000,USD,seed\n",
      "mogreet,MoGreet,,web,Venice,CA,1-Aug-07,1200000,USD,a\n",
      "mogreet,MoGreet,,web,Venice,CA,20-Jun-08,2500000,USD,b\n",
      "yourtrumanshow,YourTrumanShow,,web,San Francisco,CA,1-Dec-06,1300000,USD,angel\n",
      "apprema,Apprema,,web,Sunnyvale,CA,1-Nov-07,800000,USD,debt_round\n",
      "trustedid,TrustedID,100,web,Redwood City,CA,1-Jan-07,5000000,USD,a\n",
      "trustedid,TrustedID,100,web,Redwood City,CA,18-Oct-07,10000000,USD,b\n",
      "seeqpod,Seeqpod,25,web,Emeryville,CA,1-Apr-08,7000000,USD,angel\n",
      "quantenna,Quantenna,,web,Sunnyvale,CA,1-Nov-07,12700000,USD,b\n",
      "qwaq,Qwaq,,web,Palo Alto,CA,1-Nov-07,7000000,USD,b\n",
      "uber,uber,24,web,Beverly Hills,CA,26-May-08,7600000,USD,b\n",
      "cashview,CashView,,web,Palo Alto,CA,1-Sep-07,6500000,USD,b\n",
      "crossloop,CrossLoop,8,web,Monterey,CA,1-Dec-07,3000000,USD,a\n",
      "dapper,Dapper,20,web,San Francisco,CA,1-Dec-07,3000000,USD,a\n",
      "anchorintelligence,Anchor Intelligence,,web,Mountain View,CA,1-Jan-07,2000000,USD,a\n",
      "anchorintelligence,Anchor Intelligence,,web,Mountain View,CA,1-Sep-07,4000000,USD,b\n",
      "edgecast,EdgeCast,30,web,Los Angeles,CA,1-Dec-07,6000000,USD,b\n",
      "edgecast,EdgeCast,30,web,Los Angeles,CA,1-Jun-07,4000000,USD,a\n",
      "kosmix,Kosmix,,web,Mountain View,CA,1-Dec-07,10000000,USD,c\n",
      "goodreads,GoodReads,,web,Santa Monica,CA,1-Nov-07,750000,USD,angel\n",
      "ribbit,Ribbit,28,web,Mountain View,CA,1-Dec-07,10000000,USD,b\n",
      "ribbit,Ribbit,28,web,Mountain View,CA,1-Oct-06,3000000,USD,a\n",
      "jobvite,Jobvite,,web,San Francisco,CA,1-Dec-07,7200000,USD,a\n",
      "juicewireless,Juice Wireless,,web,Los Angeles,CA,1-Apr-05,500000,USD,a\n",
      "juicewireless,Juice Wireless,,web,Los Angeles,CA,1-Jan-06,1500000,USD,a\n",
      "juicewireless,Juice Wireless,,web,Los Angeles,CA,1-Jul-06,4000000,USD,a\n",
      "juicewireless,Juice Wireless,,web,Los Angeles,CA,1-Mar-07,3300000,USD,b\n",
      "juicewireless,Juice Wireless,,web,Los Angeles,CA,1-Dec-07,6000000,USD,c\n",
      "qik,Qik,22,web,Foster City,CA,9-Apr-08,3000000,USD,b\n",
      "playfirst,PlayFirst,,web,San Francisco,CA,1-Dec-07,16500000,USD,c\n",
      "playfirst,PlayFirst,,web,San Francisco,CA,1-Jan-06,5000000,USD,b\n",
      "mobissimo,Mobissimo,15,web,San Francisco,CA,1-Apr-04,1000000,USD,seed\n",
      "chumby,Chumby,20,hardware,San Diego,CA,1-Dec-06,5000000,USD,a\n",
      "chumby,Chumby,20,hardware,San Diego,CA,31-Mar-08,12500000,USD,b\n",
      "ugobe,UGOBE,,web,Emeryville,CA,1-Oct-06,8000000,USD,b\n",
      "ausra,Ausra,4,web,Palo Alto,CA,1-Sep-07,40000000,USD,a\n",
      "causes,Causes,,web,Berkeley,CA,1-Jan-07,2350000,USD,a\n",
      "causes,Causes,,web,Berkeley,CA,1-Mar-08,5000000,USD,b\n",
      "nanosolar,Nanosolar,,web,San Jose,CA,1-May-05,20000000,USD,b\n",
      "nanosolar,Nanosolar,,web,San Jose,CA,1-Jun-06,75000000,USD,c\n",
      "shozu,Shozu,,web,San Francisco,CA,1-May-05,12000000,USD,b\n",
      "shozu,Shozu,,web,San Francisco,CA,29-Jan-08,12000000,USD,c\n",
      "tesla-motors,Tesla Motors,270,hardware,San Carlos,CA,1-May-06,40000000,USD,c\n",
      "tesla-motors,Tesla Motors,270,hardware,San Carlos,CA,1-May-07,45000000,USD,d\n",
      "tesla-motors,Tesla Motors,270,hardware,San Carlos,CA,1-Apr-04,7500000,USD,a\n",
      "tesla-motors,Tesla Motors,270,hardware,San Carlos,CA,1-Feb-05,13000000,USD,b\n",
      "tesla-motors,Tesla Motors,270,hardware,San Carlos,CA,8-Feb-08,40000000,USD,e\n",
      "bunchball,Bunchball,,web,Redwood City,CA,1-Oct-06,2000000,USD,a\n",
      "bunchball,Bunchball,,web,Redwood City,CA,13-Apr-08,4000000,USD,b\n",
      "pinger,Pinger,,web,San Jose,CA,1-Dec-06,8000000,USD,b\n",
      "hooja,Hooja,,web,Palo Alto,CA,1-Dec-07,1250000,USD,seed\n",
      "travelmuse,TravelMuse,11,web,Los Altos,CA,1-May-07,3000000,USD,a\n",
      "cooking-com,Cooking.com,,web,Santa Monica,CA,1-Jan-08,7000000,USD,debt_round\n",
      "cooking-com,Cooking.com,,web,Santa Monica,CA,1-May-00,35000000,USD,e\n",
      "cooking-com,Cooking.com,,web,Santa Monica,CA,1-Apr-99,16000000,USD,b\n",
      "cooking-com,Cooking.com,,web,Santa Monica,CA,1-Oct-99,30000000,USD,c\n",
      "meraki,Meraki,,web,Mountain View,CA,1-Feb-07,5000000,USD,a\n",
      "meraki,Meraki,,web,Mountain View,CA,1-Jan-08,20000000,USD,b\n",
      "sugarcrm,SugarCRM,,web,Cupertino,CA,1-Jan-08,14500000,USD,d\n",
      "sugarcrm,SugarCRM,,web,Cupertino,CA,1-Oct-05,18770000,USD,c\n",
      "sugarcrm,SugarCRM,,web,Cupertino,CA,1-Aug-04,2000000,USD,a\n",
      "sugarcrm,SugarCRM,,web,Cupertino,CA,1-Feb-05,5750000,USD,b\n",
      "puddingmedia,Pudding Media,11,software,San Jose,CA,1-Jan-08,8000000,USD,a\n",
      "4homemedia,4HomeMedia,10,web,Sunnyvale,CA,1-Jan-07,2850000,USD,a\n",
      "pageonce,Pageonce,,web,Palo Alto,CA,1-Jan-08,1500000,USD,a\n",
      "bluepulse,bluepulse,0,web,San Mateo,CA,1-Apr-07,6000000,USD,a\n",
      "mogad,Mogad,2,web,San Francisco,CA,1-Aug-07,500000,USD,a\n",
      "devicevm,DeviceVM,,web,San Jose,CA,1-Aug-06,10000000,USD,a\n",
      "devicevm,DeviceVM,,web,San Jose,CA,1-Oct-07,10000000,USD,b\n",
      "outspark,Outspark,,web,San Francisco,CA,11-Apr-07,4000000,USD,a\n",
      "outspark,Outspark,,web,San Francisco,CA,1-Jan-08,11000000,USD,b\n",
      "engineyard,Engine Yard,60,web,San Francisco,CA,1-Jan-08,3500000,USD,a\n",
      "engineyard,Engine Yard,60,web,San Francisco,CA,13-Jul-08,15000000,USD,b\n",
      "plymedia,PLYmedia,,web,Palo Alto,CA,1-Oct-06,2500000,USD,a\n",
      "plymedia,PLYmedia,,web,Palo Alto,CA,1-Jul-08,6000000,USD,b\n",
      "fabrik,fabrik,175,web,San Mateo,CA,1-Sep-05,4100000,USD,a\n",
      "fabrik,fabrik,175,web,San Mateo,CA,1-Jun-06,8000000,USD,b\n",
      "fabrik,fabrik,175,web,San Mateo,CA,1-Feb-07,14300000,USD,c\n",
      "fabrik,fabrik,175,web,San Mateo,CA,1-May-07,24900000,USD,d\n",
      "widgetbox,Widgetbox,,web,San Francisco,CA,1-Jun-06,1500000,USD,angel\n",
      "widgetbox,Widgetbox,,web,San Francisco,CA,1-Jan-08,8000000,USD,b\n",
      "widgetbox,Widgetbox,,web,San Francisco,CA,1-Jun-07,5000000,USD,a\n",
      "razorgator,RazorGator,,web,Los Angeles,CA,1-Mar-05,26000000,USD,a\n",
      "razorgator,RazorGator,,web,Los Angeles,CA,1-Mar-06,22800000,USD,b\n",
      "oversee,OverSee,150,web,Los Angeles,CA,1-Jan-07,60000000,USD,debt_round\n",
      "oversee,OverSee,150,web,Los Angeles,CA,1-Jan-08,150000000,USD,a\n",
      "zynga,Zynga,90,other,San Francisco,CA,1-Jan-08,10000000,USD,a\n",
      "zynga,Zynga,90,other,San Francisco,CA,22-Jul-08,29000000,USD,b\n",
      "smaato,Smaato,,web,San Mateo,CA,1-Jan-08,3500000,USD,a\n",
      "credit-karma,Credit Karma,4,web,San Francisco,CA,1-May-07,750000,USD,angel\n",
      "greenplum,Greenplum,,web,San Mateo,CA,1-Jan-08,27000000,USD,c\n",
      "greenplum,Greenplum,,web,San Mateo,CA,1-Feb-07,15000000,USD,b\n",
      "greenplum,Greenplum,,web,San Mateo,CA,1-Mar-06,15000000,USD,a\n",
      "greenplum,Greenplum,,web,San Mateo,CA,1-Feb-07,4000000,USD,debt_round\n",
      "amobee,Amobee,,web,Redwood City,CA,1-Nov-06,5000000,USD,a\n",
      "amobee,Amobee,,web,Redwood City,CA,1-Jan-07,15000000,USD,b\n",
      "webmynd,WebMynd,,web,San Francisco,CA,1-Jul-08,250000,USD,angel\n",
      "currenttv,Current Media,,web,San Francisco,CA,29-Jul-05,15000000,USD,a\n",
      "heroku,Heroku,3,web,San Francisco,CA,1-Jan-08,20000,USD,seed\n",
      "heroku,Heroku,3,web,San Francisco,CA,8-May-08,3000000,USD,a\n",
      "lookery,Lookery,9,web,San Francisco,CA,7-Feb-08,900000,USD,seed\n",
      "mill-river-labs,Mill River Labs,5,web,Mountain View,CA,1-Jan-08,900000,USD,angel\n",
      "grouptivity,Grouptivity,10,web,San Mateo,CA,1-May-06,2000000,USD,angel\n",
      "aductions,Aductions,5,web,San Jose,CA,5-Jul-07,100000,USD,seed\n",
      "venturebeat,VentureBeat,,web,,CA,11-Feb-08,320000,USD,seed\n",
      "collarity,Collarity,30,web,Palo Alto,CA,1-Feb-08,7800000,USD,b\n",
      "rocketon,RocketOn,,web,South San Francisco,CA,1-Feb-08,5800000,USD,b\n",
      "what-they-like,What They Like,10,web,San Francisco,CA,29-Aug-07,990000,USD,a\n",
      "gumgum,GumGum,5,web,Los Angeles,CA,1-Dec-07,225000,USD,seed\n",
      "gumgum,GumGum,5,web,Los Angeles,CA,21-Jul-08,1000000,USD,a\n",
      "snap-technologies,Snap Technologies,32,web,Pasadena,CA,1-Jul-05,10000000,USD,a\n",
      "twofish,TwoFish,,web,Redwood City,CA,1-Jun-07,5000000,USD,a\n",
      "three-rings,Three Rings,30,web,San Francisco,CA,3-Mar-08,3500000,USD,a\n",
      "smalltown,Smalltown,8,web,San Mateo,CA,1-Nov-05,4000000,USD,a\n",
      "sparkplay-media,Sparkplay Media,,web,Mill Valley,CA,1-Feb-08,4250000,USD,a\n",
      "mog,MOG,,web,Berkeley,CA,1-Mar-07,1800000,USD,angel\n",
      "mog,MOG,,web,Berkeley,CA,29-Apr-08,2800000,USD,a\n",
      "social-gaming-network,Social Gaming Network,,web,Palo Alto,CA,13-May-08,15000000,USD,a\n",
      "danger,Danger,,software,Palo Alto,CA,1-Oct-01,36000000,USD,b\n",
      "danger,Danger,,software,Palo Alto,CA,1-Feb-03,35000000,USD,d\n",
      "danger,Danger,,software,Palo Alto,CA,1-Jul-04,37000000,USD,d\n",
      "coverity,Coverity,,software,San Francisco,CA,1-Feb-08,22000000,USD,a\n",
      "genietown,GenieTown,8,web,Palo Alto,CA,1-Oct-07,2000000,USD,a\n",
      "redux,Redux,11,web,Berkeley,CA,1-Mar-07,1650000,USD,seed\n",
      "redux,Redux,11,web,Berkeley,CA,7-Apr-08,6500000,USD,a\n",
      "evernote,Evernote,,software,Sunnyvale,CA,1-Mar-06,6000000,USD,angel\n",
      "evernote,Evernote,,software,Sunnyvale,CA,1-Sep-07,3000000,USD,angel\n",
      "numobiq,Numobiq,,mobile,Pleasanton,CA,8-Feb-08,4500000,USD,a\n",
      "goldspot-media,GoldSpot Media,,mobile,Sunnyvale,CA,23-Jan-08,3000000,USD,a\n",
      "mobixell,Mobixell,,mobile,Cupertino,CA,8-Jul-08,6000000,USD,a\n",
      "ad-infuse,Ad Infuse,,mobile,San Francisco,CA,23-Jan-08,12000000,USD,b\n",
      "ad-infuse,Ad Infuse,,mobile,San Francisco,CA,1-Jun-06,5000000,USD,a\n",
      "sendme,SendMe,,mobile,San Francisco,CA,1-Dec-06,6000000,USD,b\n",
      "sendme,SendMe,,mobile,San Francisco,CA,18-Mar-08,15000000,USD,c\n",
      "tiny-pictures,Tiny Pictures,15,mobile,San Francisco,CA,1-Aug-07,4000000,USD,a\n",
      "tiny-pictures,Tiny Pictures,15,mobile,San Francisco,CA,1-Feb-08,7200000,USD,b\n",
      "flurry,flurry,,mobile,San Francisco,CA,8-Mar-07,3500000,USD,a\n",
      "sharpcast,Sharpcast,,,Palo Alto,CA,8-Mar-06,13500000,USD,a\n",
      "sharpcast,Sharpcast,,,Palo Alto,CA,8-Mar-06,3000000,USD,b\n",
      "teneros,Teneros,,software,Mountain View,CA,1-Jul-04,7000000,USD,a\n",
      "teneros,Teneros,,software,Mountain View,CA,1-Mar-05,17500000,USD,b\n",
      "teneros,Teneros,,software,Mountain View,CA,1-Apr-06,20000000,USD,c\n",
      "teneros,Teneros,,software,Mountain View,CA,1-Jan-08,40000000,USD,d\n",
      "photocrank,PhotoCrank,3,web,Palo Alto,CA,1-Apr-07,250000,USD,seed\n",
      "yodlee,Yodlee,,web,Redwood City,CA,4-Jun-08,35000000,USD,unattributed\n",
      "sliderocket,SlideRocket,5,web,San Francisco,CA,31-Dec-07,2000000,USD,a\n",
      "surf-canyon,Surf Canyon,3,software,Oakland,CA,31-Jul-07,250000,USD,seed\n",
      "surf-canyon,Surf Canyon,3,software,Oakland,CA,8-May-08,600000,USD,seed\n",
      "central-desktop,Central Desktop,,web,Pasadena,CA,16-Apr-08,7000000,USD,a\n",
      "opendns,OpenDNS,15,web,San Francisco,CA,1-Jun-06,2000000,USD,a\n",
      "coveo,Coveo,,web,Palo Alto,CA,6-Mar-08,2500000,USD,a\n",
      "vizu,Vizu,,web,San Francisco,CA,20-Feb-06,1000000,USD,a\n",
      "vizu,Vizu,,web,San Francisco,CA,31-Jan-07,2900000,USD,b\n",
      "taltopia,Taltopia,,web,Los Angeles,CA,8-Mar-08,800000,USD,angel\n",
      "kapow-technologies,Kapow Technologies,,web,Palo Alto,CA,6-Mar-08,11600000,USD,c\n",
      "kapow-technologies,Kapow Technologies,,web,Palo Alto,CA,1-Feb-05,5100000,EUR,b\n",
      "programmermeetdesigner-com,ProgrammerMeetDesigner.com,4,web,Los Angeles,CA,12-Dec-07,500000,USD,seed\n",
      "liveops,LiveOps,,web,Santa Clara,CA,1-Apr-04,22000000,USD,b\n",
      "liveops,LiveOps,,web,Santa Clara,CA,13-Feb-07,28000000,USD,c\n",
      "clickpass,Clickpass,,web,San Francisco,CA,1-Jun-07,20000,USD,seed\n",
      "searchme,SearchMe,52,web,Mountain View,CA,1-Jul-05,400000,USD,a\n",
      "searchme,SearchMe,52,web,Mountain View,CA,1-Jan-06,3600000,USD,b\n",
      "searchme,SearchMe,52,web,Mountain View,CA,1-Jun-07,12000000,USD,c\n",
      "searchme,SearchMe,52,web,Mountain View,CA,1-Oct-07,15000000,USD,d\n",
      "searchme,SearchMe,52,web,Mountain View,CA,1-May-08,12600000,USD,e\n",
      "accountnow,AccountNow,,web,San Ramon,CA,29-Jun-07,12750000,USD,c\n",
      "dailystrength,DailyStrength,14,web,Los Angeles,CA,18-May-07,4000000,USD,a\n",
      "popularmedia,PopularMedia,,web,San Francisco,CA,1-Mar-07,4250000,USD,unattributed\n",
      "popularmedia,PopularMedia,,web,San Francisco,CA,28-Jul-08,8000000,USD,c\n",
      "clarizen,Clarizen,5,web,San Mateo,CA,1-May-08,9000000,USD,b\n",
      "sellpoint,SellPoint,,web,San Ramon,CA,27-Feb-08,7000000,USD,a\n",
      "livedeal,LiveDeal,,web,Santa Clara,CA,26-Oct-05,4900000,USD,a\n",
      "neoedge-networks,NeoEdge Networks,,web,Mountain View,CA,8-Jun-07,3000000,USD,b\n",
      "zuora,Zuora,30,web,Redwood City,CA,13-Mar-08,6500000,USD,a\n",
      "jivox,Jivox,,web,San Mateo,CA,10-Mar-08,2700000,USD,seed\n",
      "jivox,Jivox,,web,San Mateo,CA,16-Jun-08,10700000,USD,a\n",
      "elastra,Elastra,,,San Francisco,CA,15-Aug-07,2600000,USD,a\n",
      "kwiry,kwiry,3,mobile,San Francisco,CA,20-Mar-07,1000000,USD,a\n",
      "supplyframe,SupplyFrame,25,web,Pasadena,CA,21-Jun-07,7000000,USD,b\n",
      "inmage-systems,InMage Systems,,software,Santa Clara,CA,10-Jul-07,10000000,USD,b\n",
      "authenticlick,Authenticlick,20,web,Los Angeles,CA,1-Feb-06,5000000,USD,a\n",
      "interneer,Interneer,6,web,Agoura Hills,CA,6-Jun-07,2000000,USD,angel\n",
      "interneer,Interneer,6,web,Agoura Hills,CA,11-Mar-07,1200000,USD,a\n",
      "handipoints,Handipoints,,web,Oakland,CA,2-May-07,250000,USD,seed\n",
      "handipoints,Handipoints,,web,Oakland,CA,2-May-08,550000,USD,angel\n",
      "adconion-media-group,Adconion Media Group,150,web,Santa Monica,CA,24-Feb-08,80000000,USD,c\n",
      "zend-technologies,Zend Technologies,,,Cupertino,CA,28-Aug-06,20000000,USD,d\n",
      "zend-technologies,Zend Technologies,,,Cupertino,CA,19-Jul-04,8000000,USD,c\n",
      "slideshare,SlideShare,10,web,San Francisco,CA,7-May-08,3000000,USD,a\n",
      "intent,Intent,6,web,Santa Monica,CA,1-Feb-08,250000,USD,angel\n",
      "wikimedia-foundation,Wikimedia Foundation,,web,San Francisco,CA,25-Mar-08,3000000,USD,unattributed\n",
      "clearwell-systems,Clearwell Systems,75,software,Mountain View,CA,22-Aug-07,17000000,USD,c\n",
      "become,Become,,web,Mountain View,CA,25-Mar-08,17500000,USD,c\n",
      "become,Become,,web,Mountain View,CA,17-Jul-08,8000000,USD,d\n",
      "bubble-motion,Bubble Motion,,mobile,Mountain View,CA,26-Mar-08,14000000,USD,b\n",
      "bubble-motion,Bubble Motion,,mobile,Mountain View,CA,11-Sep-06,10000000,USD,a\n",
      "perfect-market,Perfect Market,,web,Pasadena,CA,9-Jul-08,15600000,USD,a\n",
      "glassdoor,Glassdoor,12,web,Sausalito,CA,27-Mar-08,3000000,USD,b\n",
      "support-space,Support Space,,web,Redwood City,CA,24-Oct-06,4250000,USD,a\n",
      "xoopit,Xoopit,,web,San Francisco,CA,1-Dec-06,1500000,USD,angel\n",
      "xoopit,Xoopit,,web,San Francisco,CA,2-Apr-08,5000000,USD,a\n",
      "reality-digital,Reality Digital,,software,San Francisco,CA,1-Nov-05,2000000,USD,a\n",
      "reality-digital,Reality Digital,,software,San Francisco,CA,31-Mar-08,6300000,USD,b\n",
      "cloud9-analytics,Cloud9 Analytics,,web,San Mateo,CA,25-Jul-07,5000000,USD,a\n",
      "netcipia,Netcipia,3,web,Palo Alto,CA,30-Aug-07,200000,USD,angel\n",
      "icontrol,iControl,,web,Palo Alto,CA,2-Apr-08,15500000,USD,b\n",
      "icontrol,iControl,,web,Palo Alto,CA,26-Apr-06,5000000,USD,a\n",
      "frengo,Frengo,,web,San Mateo,CA,1-Dec-06,2300000,USD,a\n",
      "frengo,Frengo,,web,San Mateo,CA,3-May-07,5700000,USD,b\n",
      "mblox,mBlox,,mobile,Sunnyvale,CA,23-Feb-06,25000000,USD,d\n",
      "mblox,mBlox,,mobile,Sunnyvale,CA,9-Mar-05,7500000,USD,c\n",
      "mblox,mBlox,,mobile,Sunnyvale,CA,9-Jul-04,10000000,USD,b\n",
      "mblox,mBlox,,mobile,Sunnyvale,CA,28-Jan-08,22000000,USD,e\n",
      "esolar,eSolar,10,hardware,Pasadena,CA,17-Jan-08,10000000,USD,a\n",
      "esolar,eSolar,10,hardware,Pasadena,CA,21-Apr-08,130000000,USD,b\n",
      "marin-software,Marin Software,,software,San Francisco,CA,5-Oct-06,2000000,USD,a\n",
      "marin-software,Marin Software,,software,San Francisco,CA,9-Apr-08,7250000,USD,b\n",
      "sibeam,SiBEAM,,hardware,Sunnyvale,CA,1-Dec-04,1250000,USD,seed\n",
      "sibeam,SiBEAM,,hardware,Sunnyvale,CA,1-May-05,15000000,USD,a\n",
      "sibeam,SiBEAM,,hardware,Sunnyvale,CA,1-Aug-06,21000000,USD,b\n",
      "sibeam,SiBEAM,,hardware,Sunnyvale,CA,7-Apr-08,40000000,USD,c\n",
      "lumosity,Lumos Labs,,web,San Francisco,CA,11-Jun-07,400000,USD,angel\n",
      "lumosity,Lumos Labs,,web,San Francisco,CA,3-Jun-08,3000000,USD,a\n",
      "irise,iRise,150,software,El Segundo,CA,1-Mar-08,20000000,USD,unattributed\n",
      "richrelevance,richrelevance,,web,San Francisco,CA,8-Apr-08,4200000,USD,b\n",
      "labmeeting,Labmeeting,,web,,CA,1-May-08,500000,USD,seed\n",
      "shopflick,Shopflick,10,web,Los Angeles,CA,15-Mar-08,1000000,USD,angel\n",
      "shopflick,Shopflick,10,web,Los Angeles,CA,1-Jul-08,7000000,USD,a\n",
      "turnhere,TurnHere,35,web,Emeryville,CA,15-Feb-08,7500000,USD,a\n",
      "turnhere,TurnHere,35,web,Emeryville,CA,1-Nov-06,1100000,USD,seed\n",
      "coupa,Coupa,,web,Foster City,CA,13-Mar-07,1500000,USD,a\n",
      "coupa,Coupa,,web,Foster City,CA,9-Apr-08,6000000,USD,b\n",
      "squaretrade,SquareTrade,,hardware,San Francisco,CA,1-Oct-99,400000,USD,seed\n",
      "squaretrade,SquareTrade,,hardware,San Francisco,CA,10-Apr-08,9000000,USD,b\n",
      "v-enable,V-Enable,,mobile,San Diego,CA,28-Feb-06,6000000,USD,c\n",
      "v-enable,V-Enable,,mobile,San Diego,CA,21-Sep-03,3750000,USD,b\n",
      "aeria,Aeria,,web,Santa Clara,CA,1-Oct-07,288000,USD,seed\n",
      "heysan,Heysan,6,mobile,San Francisco,CA,24-Jan-07,20000,USD,seed\n",
      "memeo,Memeo,,software,Aliso Viejo,CA,7-Jan-08,8100000,USD,b\n",
      "imageshack,imageshack,,web,Los Gatos,CA,1-May-07,10000000,USD,a\n",
      "pluggedin,PluggedIn,,,Santa Monica,CA,15-Apr-08,2000000,USD,unattributed\n",
      "cellspin,CellSpin,12,mobile,San Jose,CA,1-Dec-06,1100000,USD,angel\n",
      "remixation,Remixation,5,web,San Francisco,CA,1-Jul-07,1000000,USD,a\n",
      "the-auteurs,The Auteurs,9,web,Palo Alto,CA,1-Aug-07,750000,USD,a\n",
      "modern-feed,Modern Feed,,web,Los Angeles,CA,1-Apr-07,3000000,USD,seed\n",
      "grou-ps,GROU.PS,,web,San Francisco,CA,1-Jun-08,1100000,USD,a\n",
      "triggit,Triggit,5,web,San Francisco,CA,1-Mar-07,350000,USD,seed\n",
      "triggit,Triggit,5,web,San Francisco,CA,1-Jul-07,500000,USD,angel\n",
      "serious-business,Serious Business,6,web,San Francisco,CA,25-Apr-08,4000000,USD,unattributed\n",
      "presdo,Presdo,1,web,Mountain View,CA,1-Dec-07,35000,USD,seed\n",
      "nile-guide,Nile Guide,,web,San Francisco,CA,5-Jun-08,8000000,USD,b\n",
      "adify,Adify,10,web,San Bruno,CA,1-Aug-06,8000000,USD,a\n",
      "adify,Adify,10,web,San Bruno,CA,18-Apr-07,19000000,USD,b\n",
      "invensense,Invensense,,hardware,Sunnyvale,CA,28-Apr-08,19000000,USD,c\n",
      "centerd,Center'd,,web,Menlo Park,CA,1-Feb-07,1000000,USD,angel\n",
      "centerd,Center'd,,web,Menlo Park,CA,1-Oct-07,5500000,USD,a\n",
      "centerd,Center'd,,web,Menlo Park,CA,1-May-07,500000,USD,debt_round\n",
      "new-relic,New Relic,,web,,CA,1-Apr-08,3500000,USD,a\n",
      "gridstone-research,Gridstone Research,,software,San Mateo,CA,4-Apr-08,10000000,USD,b\n",
      "fusionops,FusionOps,10,software,Sunnyvale,CA,1-Mar-05,4000000,USD,a\n",
      "marketlive,MarketLive,,software,Foster City,CA,5-May-08,20000000,USD,e\n",
      "snaplogic,SnapLogic,,software,San Mateo,CA,22-May-07,2500000,USD,a\n",
      "boardwalktech,Boardwalktech,20,software,Palo Alto,CA,1-Oct-06,500000,USD,angel\n",
      "rosum,Rosum,,hardware,Mountain View,CA,15-Apr-08,15000000,USD,b\n",
      "citizenhawk,CitizenHawk,,,Aliso Viejo,CA,12-May-08,3000000,USD,unattributed\n",
      "dilithium-networks,Dilithium Networks,,web,Petaluma,CA,23-Apr-03,10000000,USD,b\n",
      "dilithium-networks,Dilithium Networks,,web,Petaluma,CA,14-Mar-05,18000000,USD,c\n",
      "dilithium-networks,Dilithium Networks,,web,Petaluma,CA,3-Jul-07,33000000,USD,d\n",
      "passenger,Passenger,,,Los Angeles,CA,5-Nov-07,8300000,USD,b\n",
      "passenger,Passenger,,,Los Angeles,CA,14-Mar-08,12200000,USD,c\n",
      "experience-project,Experience Project,,web,San Francisco,CA,13-May-08,3000000,USD,a\n",
      "mozes,Mozes,,web,Palo Alto,CA,22-Feb-07,5000000,USD,a\n",
      "mozes,Mozes,,web,Palo Alto,CA,1-May-08,11500000,USD,b\n",
      "rvita,rVita,6,software,Santa Clara,CA,1-Oct-07,1000000,USD,angel\n",
      "mefeedia,Mefeedia,6,web,Burbank,CA,19-Mar-08,250000,USD,angel\n",
      "wavemaker-software,Wavemaker Software,,software,San Francisco,CA,15-Apr-08,4500000,USD,a\n",
      "virtuallogix,VirtualLogix,,software,Sunnyvale,CA,11-Jul-07,16000000,USD,b\n",
      "fonemesh,Fonemesh,7,software,San Francisco,CA,1-Jun-08,100000,USD,angel\n",
      "fonemesh,Fonemesh,7,software,San Francisco,CA,1-May-08,150000,USD,seed\n",
      "cognition-technologies,Cognition Technologies,20,software,Culver City,CA,15-Jul-08,2700000,USD,unattributed\n",
      "sometrics,Sometrics,,web,Los Angeles,CA,14-May-08,1000000,USD,a\n",
      "socialvibe,SocialVibe,,web,Los Angeles,CA,1-Dec-07,4200000,USD,a\n",
      "deviantart,deviantART,,web,Hollywood,CA,21-Jun-07,3500000,USD,a\n",
      "mythings,MyThings,,web,Menlo Park,CA,1-Apr-06,8000000,USD,a\n",
      "mywaves,mywaves,35,mobile,Sunnyvale,CA,8-Dec-06,6000000,USD,a\n",
      "litescape,litescape,,web,Redwood Shores,CA,6-Aug-07,14000000,USD,b\n",
      "nextbio,nextbio,,,Cupertino,CA,6-Jun-07,7000000,USD,b\n",
      "parascale,Parascale,,software,Cupertino,CA,23-Jun-08,11370000,USD,a\n",
      "row44,Row44,,hardware,Westlake Village,CA,20-May-08,21000000,USD,a\n",
      "jellycloud,JellyCloud,,web,Redwood City,CA,16-May-08,6600000,USD,a\n",
      "aster-data-systems,Aster Data Systems,50,software,Redwood City,CA,1-Nov-05,1000000,USD,angel\n",
      "aster-data-systems,Aster Data Systems,50,software,Redwood City,CA,1-May-07,5000000,USD,a\n",
      "pixim,Pixim,,hardware,Mountain View,CA,7-Mar-07,15000000,USD,b\n",
      "pixim,Pixim,,hardware,Mountain View,CA,9-Jun-05,12000000,USD,a\n",
      "pixim,Pixim,,hardware,Mountain View,CA,12-Jun-07,5100000,USD,b\n",
      "funambol,Funambol,,mobile,Redwood City,CA,8-Aug-05,5000000,USD,a\n",
      "funambol,Funambol,,mobile,Redwood City,CA,1-Dec-06,5500000,USD,a\n",
      "funambol,Funambol,,mobile,Redwood City,CA,17-Jun-08,12500000,USD,b\n",
      "funambol,Funambol,,mobile,Redwood City,CA,1-Jun-08,2000000,USD,debt_round\n",
      "moblyng,Moblyng,,web,Menlo Park,CA,21-May-08,5700000,USD,b\n",
      "moblyng,Moblyng,,web,Menlo Park,CA,28-Mar-07,1530000,USD,a\n",
      "zecter,Zecter,3,web,Mountain View,CA,1-Jun-07,15000,USD,seed\n",
      "votigo,Votigo,,web,Emeryville,CA,31-Dec-07,1265000,USD,a\n",
      "zinio,Zinio,,web,San Francisco,CA,12-Sep-05,7000000,USD,a\n",
      "dreamfactory,Dreamfactory,,web,Mountain View,CA,8-May-06,5800000,USD,a\n",
      "greennote,GreenNote,15,web,Redwood City,CA,1-Oct-07,4200000,USD,a\n",
      "skyfire,Skyfire,,software,Mountain View,CA,1-Jun-07,4800000,USD,a\n",
      "skyfire,Skyfire,,software,Mountain View,CA,28-May-08,13000000,USD,b\n",
      "edufire,eduFire,,web,Santa Monica,CA,9-Apr-08,400000,USD,angel\n",
      "b-hive-networks,B-hive Networks,,software,San Mateo,CA,25-Aug-06,7000000,USD,a\n",
      "vmware,VMware,5000,,Palo Alto,CA,30-Jul-07,150000000,USD,unattributed\n",
      "katalyst-media,Katalyst Media,11,,Los Angeles,CA,28-Jan-08,10000000,USD,a\n",
      "neurovigil,NeuroVigil,5,biotech,La Jolla,CA,30-May-08,250000,USD,seed\n",
      "sylantro,Sylantro,,web,Campbell,CA,1-Apr-06,11000000,USD,e\n",
      "sylantro,Sylantro,,web,Campbell,CA,1-Nov-03,4500000,USD,d\n",
      "sylantro,Sylantro,,web,Campbell,CA,1-Oct-00,55000000,USD,c\n",
      "teleflip,TeleFlip,,mobile,Santa Monica,CA,1-Jan-08,4900000,USD,b\n",
      "vidshadow,Vidshadow,16,web,Placentia,CA,15-Feb-07,2000000,USD,a\n",
      "jigsaw,Jigsaw,,web,San Mateo,CA,1-Dec-03,750000,USD,a\n",
      "jigsaw,Jigsaw,,web,San Mateo,CA,1-Sep-04,5200000,USD,b\n",
      "jigsaw,Jigsaw,,web,San Mateo,CA,1-Mar-06,12000000,USD,c\n",
      "ozmo-devices,Ozmo Devices,,hardware,Palo Alto,CA,30-Mar-06,12550000,USD,a\n",
      "cooliris,Cooliris,,web,Menlo Park,CA,1-Jul-07,3000000,USD,a\n",
      "gamook,Gamook,,web,Menlo Park,CA,16-Mar-08,1500000,USD,a\n",
      "vindicia,Vindicia,,web,Redwood City,CA,31-Mar-08,5600000,USD,c\n",
      "dizzywood,Dizzywood,,web,,CA,7-Feb-08,1000000,USD,a\n",
      "limbo,Limbo,37,web,Burlingame,CA,25-Apr-07,8000000,USD,b\n",
      "startforce,StartForce,21,web,San Francisco,CA,1-Sep-07,1000000,USD,a\n",
      "coolearth,coolearth,9,cleantech,Livermore,CA,20-Feb-08,21000000,USD,a\n",
      "coolearth,coolearth,9,cleantech,Livermore,CA,1-Jun-07,1000000,USD,angel\n",
      "yield-software,Yield Software,,web,San Mateo,CA,4-Jun-08,6000000,USD,b\n",
      "tapulous,Tapulous,9,web,Palo Alto,CA,1-Jul-08,1800000,USD,angel\n",
      "codefast,Codefast,,software,San Jose,CA,15-Mar-05,6500000,USD,a\n",
      "hyperic,Hyperic,,web,San Francisco,CA,10-May-06,3800000,USD,a\n",
      "ipling-2,iPling :)),7,mobile,San Francisco,CA,1-Mar-08,300000,USD,angel\n",
      "intacct,Intacct,100,software,San Jose,CA,29-Apr-08,15000000,USD,unattributed\n",
      "intacct,Intacct,100,software,San Jose,CA,27-Jun-07,14000000,USD,unattributed\n",
      "vivaty,Vivaty,25,web,Menlo Park,CA,1-Aug-07,9400000,USD,a\n",
      "aurora-biofuels,Aurora Biofuels,,cleantech,Alameda,CA,10-Jun-08,20000000,USD,b\n",
      "eeye,eEye,,,Irvine,CA,1-Jun-04,15000000,USD,d\n",
      "eeye,eEye,,,Irvine,CA,1-Dec-02,9000000,USD,c\n",
      "allbusiness-com,AllBusiness.com,50,other,San Francisco,CA,1-Jul-04,10000000,USD,b\n",
      "allbusiness-com,AllBusiness.com,50,other,San Francisco,CA,1-Feb-06,12400000,USD,c\n",
      "insideview,InsideView,40,software,San Francisco,CA,1-Jun-07,7400000,USD,a\n",
      "clickability,Clickability,,software,San Francisco,CA,14-Jul-08,3500000,USD,debt_round\n",
      "keibi-technologies,Keibi Technologies,30,software,San Francisco,CA,1-May-07,5000000,USD,b\n",
      "robodynamics,RoboDynamics,5,hardware,Santa Monica,CA,1-Sep-03,100000,USD,seed\n",
      "robodynamics,RoboDynamics,5,hardware,Santa Monica,CA,1-May-06,500000,USD,angel\n",
      "imagespan,ImageSpan,,web,Sausalito,CA,23-Jun-08,11000000,USD,b\n",
      "solarflare,Solarflare,,hardware,Irvine,CA,18-Jun-08,26000000,USD,unattributed\n",
      "clupedia,Clupedia,,web,Santa Ana,CA,22-May-07,1300000,USD,a\n",
      "zigabid,Zigabid,10,other,La Canada,CA,1-Dec-06,500000,USD,seed\n",
      "zigabid,Zigabid,10,other,La Canada,CA,1-Feb-08,500000,USD,angel\n",
      "inthrma,InThrMa,3,software,Oakland,CA,1-Oct-07,10000,USD,seed\n",
      "webaroo,Webaroo,,,Santa Clara,CA,22-Dec-06,10000000,USD,b\n",
      "webaroo,Webaroo,,,Santa Clara,CA,5-Jul-08,10000000,USD,c\n",
      "fluid-entertainment,Fluid Entertainment,,other,Mill Valley,CA,12-Mar-08,3200000,USD,a\n",
      "unisfair,Unisfair,,other,Menlo Park,CA,21-Jan-08,10000000,USD,b\n",
      "on24,ON24,,web,San Francisco,CA,11-Jul-08,8000000,USD,unattributed\n",
      "trueanthem,trueAnthem,10,other,Newport Beach,CA,28-Jul-08,2000000,USD,angel\n",
      "colizer,Colizer,,web,San Diego,CA,1-Apr-04,120000,USD,a\n",
      "coremetrics,Coremetrics,,software,San Mateo,CA,9-Mar-06,31000000,USD,d\n",
      "coremetrics,Coremetrics,,software,San Mateo,CA,4-Apr-08,60000000,USD,e\n",
      "minted,Minted,,,San Francisco,CA,18-Jul-08,2500000,USD,seed\n",
      "appirio,Appirio,,software,San Mateo,CA,13-Mar-08,1100000,USD,a\n",
      "appirio,Appirio,,software,San Mateo,CA,21-Jul-08,10000000,USD,b\n",
      "samfind,samfind,3,web,Los Angeles,CA,1-Jan-06,20000,USD,seed\n",
      "eye-fi,Eye-Fi,,hardware,Mountain View,CA,11-Jun-07,5500000,USD,a\n",
      "responselogix,ResponseLogix,,web,Sunnyvale,CA,23-Jan-08,8000000,USD,a\n",
      "qumu,Qumu,,software,Emeryville,CA,21-Jul-08,10700000,USD,c\n",
      "carbonflow,CarbonFlow,,cleantech,San Francsico,CA,23-Jul-08,2900000,USD,a\n",
      "allvoices,Allvoices,8,web,San Francisco,CA,31-Jul-07,4500000,USD,a\n",
      "moxsie,Moxsie,,web,Palo Alto,CA,27-Jun-08,1000000,USD,a\n",
      "service-now-com,Service-now.com,80,web,Solana Beach,CA,5-Jul-05,2500000,USD,a\n",
      "service-now-com,Service-now.com,80,web,Solana Beach,CA,5-Dec-06,5000000,USD,b\n",
      "anvato,Anvato,,web,Mountain View,CA,29-Jul-08,550000,USD,seed\n",
      "vantage-media,Vantage Media,150,web,El Segundo,CA,28-Feb-07,70000000,USD,a\n",
      "entone-technologies,Entone Technologies,80,hardware,San Mateo,CA,1-Aug-08,14500000,USD,b\n",
      "entone-technologies,Entone Technologies,80,hardware,San Mateo,CA,2-May-03,9500000,USD,a\n",
      "750-industries,750 Industries,7,web,San Francisco,CA,1-Aug-08,1000000,USD,a\n",
      "plastic-logic,Plastic Logic,,hardware,Mountain View,CA,20-Apr-02,13700000,USD,a\n",
      "plastic-logic,Plastic Logic,,hardware,Mountain View,CA,5-Jan-05,8000000,USD,b\n",
      "plastic-logic,Plastic Logic,,hardware,Mountain View,CA,30-Nov-05,24000000,USD,c\n",
      "plastic-logic,Plastic Logic,,hardware,Mountain View,CA,6-Jan-07,100000000,USD,d\n",
      "plastic-logic,Plastic Logic,,hardware,Mountain View,CA,4-Aug-08,50000000,USD,e\n",
      "paymo,Paymo,,mobile,San Francisco,CA,1-Aug-08,5000000,USD,seed\n",
      "brilliant-telecom,Brilliant Telecom,,,Campbell,CA,4-Aug-08,11000000,USD,a\n",
      "skygrid,SkyGrid,,web,Sunnyvale,CA,6-Aug-08,11000000,USD,b\n",
      "intensedebate,Intense Debate,4,web,Boulder,CO,1-May-07,15000,USD,seed\n",
      "associatedcontent,Associated Content,,web,Denver,CO,1-Jan-06,5400000,USD,a\n",
      "associatedcontent,Associated Content,,web,Denver,CO,1-Jul-07,10000000,USD,b\n",
      "madkast,madKast,,web,Boulder,CO,1-Mar-07,15000,USD,seed\n",
      "madkast,madKast,,web,Boulder,CO,1-Oct-07,300000,USD,a\n",
      "eventvue,EventVue,,web,Boulder,CO,1-Aug-07,15000,USD,seed\n",
      "eventvue,EventVue,,web,Boulder,CO,1-Sep-07,250000,USD,a\n",
      "socialthing,Socialthing!,6,web,Boulder,CO,18-May-07,15000,USD,seed\n",
      "socialthing,Socialthing!,6,web,Boulder,CO,1-Oct-07,500000,USD,debt_round\n",
      "jsquaredmedia,J Squared Media,,web,Boulder,CO,1-Aug-07,15000,USD,seed\n",
      "searchtophone,Search to Phone,,web,Boulder,CO,1-Aug-07,15000,USD,seed\n",
      "filtrbox,Filtrbox,,web,Boulder,CO,1-Aug-07,15000,USD,seed\n",
      "filtrbox,Filtrbox,,web,Boulder,CO,28-Feb-08,500000,USD,seed\n",
      "brightkite,Brightkite,,web,Denver,CO,1-Aug-07,15000,USD,seed\n",
      "brightkite,Brightkite,,web,Denver,CO,1-Mar-08,1000000,USD,angel\n",
      "newsgator,NewsGator,,web,Denver,CO,23-Jun-04,1400000,USD,a\n",
      "newsgator,NewsGator,,web,Denver,CO,1-Dec-07,12000000,USD,c\n",
      "newsgator,NewsGator,,web,Denver,CO,1-Dec-04,8600000,USD,b\n",
      "me-dium,Me.dium,,web,Boulder,CO,1-Jun-07,15000000,USD,b\n",
      "buzzwire,Buzzwire,,web,Denver,CO,1-Dec-07,8000000,USD,b\n",
      "hivelive,HiveLive,,web,Boulder,CO,1-Feb-08,2200000,USD,angel\n",
      "hivelive,HiveLive,,web,Boulder,CO,27-Feb-08,5600000,USD,a\n",
      "xaware,XAware,,web,Colorado Springs,CO,1-Jan-08,7400000,USD,b\n",
      "xaware,XAware,,web,Colorado Springs,CO,1-Nov-02,2100000,USD,a\n",
      "lijit,Lijit,,web,Boulder,CO,1-Jan-07,900000,USD,a\n",
      "lijit,Lijit,,web,Boulder,CO,1-Jun-07,3300000,USD,b\n",
      "hubbuzz,hubbuzz,8,web,Centennial,CO,1-Mar-07,750000,USD,angel\n",
      "gnip,Gnip,6,web,Boulder,CO,1-Mar-08,1100000,USD,a\n",
      "collective-intellect,Collective Intellect,,,Boulder,CO,1-Feb-06,2600000,USD,a\n",
      "collective-intellect,Collective Intellect,,,Boulder,CO,15-Apr-08,6600000,USD,b\n",
      "rally-software,Rally Software,,software,Boulder,CO,4-Jun-08,16850000,USD,c\n",
      "rally-software,Rally Software,,software,Boulder,CO,14-Jun-06,8000000,USD,b\n",
      "symplified,Symplified,,software,Boulder,CO,9-Jun-08,6000000,USD,a\n",
      "indeed,Indeed,,web,Stamford,CT,1-Aug-05,5000000,USD,a\n",
      "geezeo,Geezeo,,web,Hartford,CT,24-Apr-08,1200000,USD,unattributed\n",
      "entrecard,Entrecard,1,web,Hamden,CT,1-Jan-07,30000,USD,seed\n",
      "entrecard,Entrecard,1,web,Hamden,CT,1-Nov-07,40000,USD,seed\n",
      "americantowns-com,AmericanTowns.com,10,web,Fairfield,CT,1-Jul-06,1100000,USD,a\n",
      "americantowns-com,AmericanTowns.com,10,web,Fairfield,CT,1-Sep-07,3300000,USD,b\n",
      "kayak,Kayak,58,web,Norwalk,CT,1-May-06,11500000,USD,c\n",
      "kayak,Kayak,58,web,Norwalk,CT,1-Dec-04,7000000,USD,b\n",
      "kayak,Kayak,58,web,Norwalk,CT,1-Dec-07,196000000,USD,d\n",
      "gocrosscampus,GoCrossCampus,25,web,New Haven,CT,1-Sep-07,375000,USD,seed\n",
      "health-plan-one,Health Plan One,,web,Shelton,CT,21-Apr-08,6500000,USD,a\n",
      "your-survival,Your Survival,10,web,Westport,CT,1-Nov-07,350000,USD,angel\n",
      "media-lantern,Media Lantern,9,web,New London,CT,30-Mar-08,250000,USD,seed\n",
      "gridpoint,GridPoint,,cleantech,Washington,DC,1-Sep-07,32000000,USD,d\n",
      "gridpoint,GridPoint,,cleantech,Washington,DC,1-May-06,16000000,USD,b\n",
      "gridpoint,GridPoint,,cleantech,Washington,DC,1-Sep-06,21000000,USD,c\n",
      "gridpoint,GridPoint,,cleantech,Washington,DC,28-Mar-08,15000000,USD,d\n",
      "hotpads-com,HotPads,11,web,Washington,DC,1-Mar-07,2300000,USD,a\n",
      "launchbox,LaunchBox,,web,Washinton,DC,1-Feb-08,250000,USD,a\n",
      "cogent,Cogent,,web,Washington,DC,12-Feb-08,510000,USD,seed\n",
      "swapdrive,SwapDrive,,web,Washington,DC,1-May-00,2650000,USD,a\n",
      "swapdrive,SwapDrive,,web,Washington,DC,1-May-01,2000000,USD,a\n",
      "searchles,Searchles,,web,Washington,DC,1-Jul-08,2000000,USD,angel\n",
      "payperpost,PayPerPost,,web,Orlando,FL,1-Jun-07,7000000,USD,b\n",
      "payperpost,PayPerPost,,web,Orlando,FL,1-Oct-06,3000000,USD,a\n",
      "affinityinternet,Affinity Internet,,web,Fort Lauderdale,FL,1-Oct-99,60000000,USD,a\n",
      "affinityinternet,Affinity Internet,,web,Fort Lauderdale,FL,1-Jan-02,25000000,USD,a\n",
      "multiply,Multiply,,web,Boca Raton,FL,1-Nov-05,2000000,USD,a\n",
      "multiply,Multiply,,web,Boca Raton,FL,1-Jul-06,3000000,USD,a\n",
      "multiply,Multiply,,web,Boca Raton,FL,1-Aug-07,16600000,USD,b\n",
      "revolutionmoney,Revolution Money,,web,Largo,FL,1-Sep-07,50000000,USD,b\n",
      "batanga,Batanga,,web,Miami,FL,1-Aug-07,30000000,USD,c\n",
      "batanga,Batanga,,web,Miami,FL,1-Apr-06,5000000,USD,b\n",
      "divorce360,divorce360,6,web,North Palm Beach,FL,1-Sep-07,2500000,USD,a\n",
      "infinitybox,Infinity Box,3,web,Tampa,FL,1-Jan-06,18000,USD,seed\n",
      "infinitybox,Infinity Box,3,web,Tampa,FL,1-Apr-06,100000,USD,angel\n",
      "moli,MOLI,,web,West Palm Beach,FL,1-Jan-08,29600000,USD,b\n",
      "global-roaming,Global Roaming,29,mobile,Miami,FL,1-Feb-07,7500000,USD,a\n",
      "global-roaming,Global Roaming,29,mobile,Miami,FL,1-Feb-08,23000000,USD,b\n",
      "slingpage,Slingpage,8,software,Estero,FL,1-Dec-07,2250000,USD,angel\n",
      "wrapmail,WrapMail,10,web,Fort Lauderdale,FL,6-Jan-07,1100000,USD,seed\n",
      "ejamming,eJamming,,web,Boca Raton,FL,2-Jun-08,150000,USD,unattributed\n",
      "lehigh-technologies,Lehigh Technologies,,cleantech,Naples,FL,23-Jun-08,34500000,USD,unattributed\n",
      "tournease,TournEase,10,web,Lakeland,FL,1-Apr-06,3000000,USD,angel\n",
      "tournease,TournEase,10,web,Lakeland,FL,1-Mar-08,500000,USD,angel\n",
      "vitrue,Vitrue,,web,Atlanta,GA,1-Oct-07,10000000,USD,b\n",
      "vitrue,Vitrue,,web,Atlanta,GA,1-May-06,2200000,USD,seed\n",
      "screamingsports,Screaming Sports,,web,Atlanta,GA,1-Jul-07,1250000,USD,a\n",
      "berecruited,beRecruited,,web,Atlanta,GA,1-Nov-07,1200000,USD,a\n",
      "mfg,MFG,,web,Atlanta,GA,1-Sep-05,14000000,USD,a\n",
      "mfg,MFG,,web,Atlanta,GA,1-Jan-07,4000000,USD,c\n",
      "mfg,MFG,,web,Atlanta,GA,1-Jan-08,26000000,USD,d\n",
      "scintella-solutions,Scintella Solutions,2,consulting,Atlanta,GA,30-Apr-08,10000,USD,seed\n",
      "scribestorm,ScribeStorm,12,web,Fairfield,IA,24-Apr-06,225000,USD,angel\n",
      "balihoo,Balihoo,,mobile,Boise,ID,1-Jul-07,1500000,USD,a\n",
      "balihoo,Balihoo,,mobile,Boise,ID,1-Jan-08,4000000,USD,b\n",
      "info,Info,,web,Chicago,IL,1-Nov-04,8400000,USD,a\n",
      "feedburner,FeedBurner,,web,Chicago,IL,1-Jun-04,1000000,USD,a\n",
      "feedburner,FeedBurner,,web,Chicago,IL,1-Apr-05,7000000,USD,b\n",
      "viewpoints,Viewpoints,,web,Chicago,IL,1-Jun-07,5000000,USD,a\n",
      "grubhub,GrubHub,,web,Chicago,IL,1-Nov-07,1100000,USD,a\n",
      "ticketsnow,TicketsNow,,web,Rolling Meadows,IL,1-Jan-07,34000000,USD,a\n",
      "the-point,The Point,,web,Chicago,IL,1-Nov-07,2500000,USD,angel\n",
      "the-point,The Point,,web,Chicago,IL,1-Feb-08,4800000,USD,a\n",
      "inkling,Inkling,2,web,Chicago,IL,1-Jan-07,20000,USD,seed\n",
      "crowdspring,crowdSPRING,6,web,Chicago,IL,23-May-08,3000000,USD,angel\n",
      "ifbyphone,Ifbyphone,16,web,Skokie,IL,1-Jul-07,1500000,USD,a\n",
      "fave-media,Fave Media,18,web,Chicago,IL,17-Jan-08,1600000,USD,a\n",
      "accertify,Accertify,,web,Schaumburg,IL,3-Jun-08,4000000,USD,a\n",
      "firefly-energy,Firefly Energy,,cleantech,Peoria,IL,14-Oct-04,4000000,USD,a\n",
      "firefly-energy,Firefly Energy,,cleantech,Peoria,IL,10-Jun-08,15000000,USD,c\n",
      "firefly-energy,Firefly Energy,,cleantech,Peoria,IL,13-Nov-06,10000000,USD,b\n",
      "savo,SAVO,68,software,Chicago,IL,1-Sep-05,10000000,USD,a\n",
      "chacha,ChaCha,75,web,Carmel,IN,1-Jan-07,6000000,USD,a\n",
      "chacha,ChaCha,75,web,Carmel,IN,1-Nov-07,10000000,USD,b\n",
      "betterworld,Better World Books,,web,Mishawaka,IN,7-Apr-08,4500000,USD,a\n",
      "compendium-blogware,Compendium Blogware,25,software,Indianapolis,IN,1-May-07,1100000,USD,angel\n",
      "compendium-blogware,Compendium Blogware,25,software,Indianapolis,IN,1-May-08,1600000,USD,angel\n",
      "instagarage,Instagarage,4,web,New Orleans,LA,10-May-07,25000,USD,seed\n",
      "iskoot,iSkoot,,web,Cambridge,MA,27-Feb-07,7000000,USD,b\n",
      "iskoot,iSkoot,,web,Cambridge,MA,29-Nov-06,6200000,USD,a\n",
      "gotuitmedia,Gotuit Media,,web,Woburn,MA,1-Dec-04,10000000,USD,b\n",
      "gotuitmedia,Gotuit Media,,web,Woburn,MA,1-Dec-02,6000000,USD,a\n",
      "carbonite,Carbonite,68,web,Boston,MA,1-Mar-06,2500000,USD,a\n",
      "carbonite,Carbonite,68,web,Boston,MA,1-Dec-06,3500000,USD,a\n",
      "carbonite,Carbonite,68,web,Boston,MA,1-May-07,15000000,USD,b\n",
      "carbonite,Carbonite,68,web,Boston,MA,28-Dec-07,5000000,USD,b\n",
      "scanscout,ScanScout,40,web,Boston,MA,1-Mar-07,7000000,USD,a\n",
      "scanscout,ScanScout,40,web,Boston,MA,1-Apr-07,2000000,USD,angel\n",
      "going,Going,,web,Boston,MA,1-Jul-07,5000000,USD,a\n",
      "brightcove,Brightcove,,web,Cambridge,MA,1-Mar-05,5500000,USD,a\n",
      "brightcove,Brightcove,,web,Cambridge,MA,1-Nov-05,16200000,USD,b\n",
      "brightcove,Brightcove,,web,Cambridge,MA,1-Jan-07,59500000,USD,c\n",
      "brightcove,Brightcove,,web,Cambridge,MA,1-Sep-06,5000000,USD,b\n",
      "brightcove,Brightcove,,web,Cambridge,MA,1-May-08,4900000,USD,d\n",
      "permissiontv,PermissionTV,,web,Waltham,MA,1-Jun-07,9000000,USD,c\n",
      "bountii,Bountii,,web,Boston,MA,1-Jun-07,15000,USD,seed\n",
      "conduitlabs,Conduit Labs,,web,Cambridge,MA,1-Aug-07,5500000,USD,a\n",
      "zoominfo,ZoomInfo,80,web,Waltham,MA,1-Jul-04,7000000,USD,a\n",
      "zoominfo,ZoomInfo,80,web,Waltham,MA,1-Jul-04,7000000,USD,a\n",
      "vlingo,Vlingo,,web,Cambridge,MA,2-Apr-08,20000000,USD,b\n",
      "vtap,Vtap,,web,Andover,MA,1-May-07,14000000,USD,b\n",
      "mocospace,MocoSpace,25,mobile,Boston,MA,1-Jan-07,3000000,USD,a\n",
      "quattro-wireless,Quattro Wireless,,web,Waltham,MA,1-May-07,6000000,USD,a\n",
      "quattro-wireless,Quattro Wireless,,web,Waltham,MA,5-Sep-07,12300000,USD,b\n",
      "care-com,Care.com,,web,Waltham,MA,1-May-07,3100000,USD,a\n",
      "onforce,OnForce,,web,Lexington,MA,1-Sep-07,6750000,USD,a\n",
      "onforce,OnForce,,web,Lexington,MA,12-Jan-06,15000000,USD,a\n",
      "ratepoint,RatePoint,,web,Needham,MA,1-Jun-07,6500000,USD,a\n",
      "updown,UpDown,5,web,Cambridge,MA,29-Jan-08,750000,USD,angel\n",
      "eons,Eons,,web,Boston,MA,1-Mar-07,22000000,USD,b\n",
      "eons,Eons,,web,Boston,MA,1-Apr-06,10000000,USD,a\n",
      "gamerdna,GamerDNA,,web,Cambridge,MA,18-Apr-08,3000000,USD,a\n",
      "mixandmeet,Mix & Meet,2,web,Cambridge,MA,29-Mar-08,400000,USD,angel\n",
      "sermo,Sermo,,web,Cambridge,MA,1-Sep-07,25000000,USD,c\n",
      "sermo,Sermo,,web,Cambridge,MA,1-Jan-07,9500000,USD,b\n",
      "sermo,Sermo,,web,Cambridge,MA,1-Sep-06,3000000,USD,a\n",
      "worklight,WorkLight,30,web,Newton,MA,1-Sep-06,5100000,USD,a\n",
      "worklight,WorkLight,30,web,Newton,MA,30-Apr-08,12000000,USD,b\n",
      "matchmine,MatchMine,,web,Needham,MA,1-Sep-07,10000000,USD,a\n",
      "condodomain,CondoDomain,4,other,Boston,MA,1-Jun-05,300000,USD,angel\n",
      "utest,uTest,10,web,Ashland,MA,1-Oct-07,2300000,USD,a\n",
      "compete,Compete,,web,Boston,MA,1-Aug-07,10000000,USD,c\n",
      "compete,Compete,,web,Boston,MA,6-Oct-03,13000000,USD,b\n",
      "azuki,Azuki Systems,30,web,Acton,MA,1-Sep-07,6000000,USD,a\n",
      "acinion,Acinion,,web,Acton,MA,1-Dec-06,5000000,USD,a\n",
      "acinion,Acinion,,web,Acton,MA,1-Oct-07,16000000,USD,b\n",
      "xkoto,xkoto,45,software,Waltham,MA,1-Nov-07,7500000,USD,b\n",
      "hubspot,HubSpot,30,web,Cambridge,MA,1-Sep-07,5000000,USD,a\n",
      "hubspot,HubSpot,30,web,Cambridge,MA,16-May-08,12000000,USD,b\n",
      "hubspot,HubSpot,30,web,Cambridge,MA,1-May-06,500000,USD,seed\n",
      "utterz,Utterz,3,mobile,Maynard,MA,1-Sep-07,4000000,USD,a\n",
      "intronis,Intronis,,web,Boston,MA,1-Oct-07,5000000,USD,a\n",
      "acquia,Acquia,11,web,Andover,MA,1-Dec-07,7000000,USD,a\n",
      "a123systems,A123Systems,,web,Watertown,MA,1-Oct-07,30000000,USD,d\n",
      "a123systems,A123Systems,,web,Watertown,MA,1-Jan-07,40000000,USD,c\n",
      "a123systems,A123Systems,,web,Watertown,MA,1-Feb-06,30000000,USD,b\n",
      "bostonpower,Boston Power,55,web,Westborough,MA,1-Nov-06,8000000,USD,a\n",
      "bostonpower,Boston Power,55,web,Westborough,MA,1-Jan-08,45000000,USD,c\n",
      "bostonpower,Boston Power,55,web,Westborough,MA,1-Jan-07,15600000,USD,b\n",
      "visiblemeasures,Visible Measures,,web,Boston,MA,1-Mar-07,5000000,USD,a\n",
      "visiblemeasures,Visible Measures,,web,Boston,MA,1-Jan-08,13500000,USD,b\n",
      "visiblemeasures,Visible Measures,,web,Boston,MA,1-Jan-06,800000,USD,seed\n",
      "endeca,Endeca,500,web,Cambridge,MA,1-Jun-04,15000000,USD,c\n",
      "endeca,Endeca,500,web,Cambridge,MA,1-Jan-08,15000000,USD,d\n",
      "endeca,Endeca,500,web,Cambridge,MA,1-Nov-01,15000000,USD,b\n",
      "endeca,Endeca,500,web,Cambridge,MA,1-Jan-01,10000000,USD,a\n",
      "choicestream,ChoiceStream,70,software,Cambridge,MA,1-Jan-00,15000000,USD,seed\n",
      "choicestream,ChoiceStream,70,software,Cambridge,MA,22-Feb-05,7000000,USD,a\n",
      "choicestream,ChoiceStream,70,software,Cambridge,MA,1-Jun-06,13100000,USD,b\n",
      "choicestream,ChoiceStream,70,software,Cambridge,MA,4-Apr-07,26500000,USD,c\n",
      "youcastr,YouCastr,5,web,Cambridge,MA,1-Feb-08,100000,USD,angel\n",
      "jackpot-rewards,JackPot Rewards,,web,Newton,MA,1-Feb-08,16700000,USD,a\n",
      "mzinga,Mzinga,,web,Burlington,MA,3-Mar-08,32500000,USD,d\n",
      "dimdim,Dimdim,,web,Burlington,MA,1-Feb-07,2400000,USD,a\n",
      "dimdim,Dimdim,,web,Burlington,MA,1-Jul-08,6000000,USD,b\n",
      "utoopia,utoopia,2,web,Boston,MA,1-Mar-07,100000,USD,seed\n",
      "retail-convergence,Retail Convergence,,web,Boston,MA,24-Apr-08,25000000,USD,a\n",
      "frame-media,Frame Media,,web,Wellesley,MA,9-Nov-07,2000000,USD,a\n",
      "frame-media,Frame Media,,web,Wellesley,MA,2-May-08,3000000,USD,unattributed\n",
      "turbine,Turbine,200,web,Westwood,MA,29-Apr-08,40000000,USD,c\n",
      "turbine,Turbine,200,web,Westwood,MA,9-May-05,30000000,USD,b\n",
      "zeer,Zeer,5,web,Boston,MA,1-Aug-07,1050000,USD,angel\n",
      "simpletuition,SimpleTuition,,web,Newton,MA,14-Apr-06,4400000,USD,a\n",
      "simpletuition,SimpleTuition,,web,Newton,MA,18-Dec-06,7500000,USD,b\n",
      "sirtris-pharmaceuticals,Sirtris Pharmaceuticals,,biotech,Cambridge,MA,1-Dec-04,13000000,USD,a\n",
      "sirtris-pharmaceuticals,Sirtris Pharmaceuticals,,biotech,Cambridge,MA,8-Mar-05,27000000,USD,b\n",
      "sirtris-pharmaceuticals,Sirtris Pharmaceuticals,,biotech,Cambridge,MA,19-Apr-06,37000000,USD,c\n",
      "good-data,Good Data,30,web,Cambridge,MA,23-Jul-08,2000000,USD,seed\n",
      "navic-networks,Navic Networks,,web,Waltham,MA,14-Feb-00,2000000,USD,a\n",
      "navic-networks,Navic Networks,,web,Waltham,MA,26-Feb-01,20000000,USD,c\n",
      "navic-networks,Navic Networks,,web,Waltham,MA,7-Jun-00,20000000,USD,b\n",
      "pivot,Pivot,40,software,Cambridge,MA,1-Dec-04,5000000,USD,a\n",
      "pivot,Pivot,40,software,Cambridge,MA,1-Apr-06,8000000,USD,b\n",
      "optaros,Optaros,200,consulting,Boston,MA,1-Jun-08,12000000,USD,c\n",
      "optaros,Optaros,200,consulting,Boston,MA,20-Nov-06,13000000,USD,b\n",
      "optaros,Optaros,200,consulting,Boston,MA,9-Mar-05,7000000,USD,a\n",
      "astaro,Astaro,,hardware,Burlington,MA,1-May-03,6200000,USD,a\n",
      "astaro,Astaro,,hardware,Burlington,MA,1-May-04,6700000,USD,b\n",
      "pangea-media,Pangea Media,25,web,Watertown,MA,1-Apr-07,1000000,USD,angel\n",
      "posterous,Posterous,,web,Boston,MA,1-May-08,15000,USD,seed\n",
      "spire,Spire,,web,Boston,MA,8-Jul-08,9000000,USD,a\n",
      "neosaej,neoSaej,,web,Burlington,MA,14-Jul-08,7000000,USD,unattributed\n",
      "genarts,GenArts,,software,Cambridge,MA,17-Jul-08,22400000,USD,unattributed\n",
      "ordermotion,OrderMotion,,web,Boston,MA,21-Jul-08,1400000,USD,unattributed\n",
      "ham-it,HAM-IT,7,web,North Andover,MA,1-Oct-07,340000,USD,seed\n",
      "freewebs,Freewebs,35,web,Silver Spring,MD,1-Aug-06,12000000,USD,a\n",
      "mptrax,MPTrax,4,web,Baltimore,MD,1-Jan-07,350000,USD,angel\n",
      "jackbe,JackBe,0,web,Chevy Chase,MD,1-Oct-07,9500000,USD,c\n",
      "zenimax,ZeniMax,,web,Rockville,MD,1-Oct-07,300000000,USD,a\n",
      "zenimax,ZeniMax,,web,Rockville,MD,30-May-08,9900000,USD,a\n",
      "intelliworks,Intelliworks,24,software,Rockville,MD,14-Feb-05,6000000,USD,a\n",
      "intelliworks,Intelliworks,24,software,Rockville,MD,10-Oct-06,10000000,USD,b\n",
      "intelliworks,Intelliworks,24,software,Rockville,MD,7-Apr-08,4000000,USD,c\n",
      "hexio,HEXIO,1,web,Kennebunk,ME,10-Jan-08,20000,USD,seed\n",
      "foneshow,Foneshow,8,web,Portland,ME,1-Sep-07,1050000,USD,a\n",
      "foneshow,Foneshow,8,web,Portland,ME,1-Sep-06,25000,USD,seed\n",
      "zattoo,Zattoo,45,web,Ann Arbor,MI,1-Nov-07,10000000,USD,b\n",
      "loudclick,LoudClick,9,web,Richfield,MN,31-Mar-08,600000,USD,angel\n",
      "agilis-systems,Agilis Systems,,mobile,St. Louis,MO,16-May-08,5000000,USD,b\n",
      "international-liars-poker-association,International Liars Poker Association,24,other,St. Louis,MO,1-Nov-07,1250000,USD,seed\n",
      "channeladvisor,ChannelAdvisor,300,web,Morrisville,NC,1-May-07,30000000,USD,c\n",
      "channeladvisor,ChannelAdvisor,300,web,Morrisville,NC,22-Jan-04,7000000,USD,a\n",
      "channeladvisor,ChannelAdvisor,300,web,Morrisville,NC,28-Apr-05,18000000,USD,b\n",
      "yap,Yap,,mobile,Charlotte,NC,1-Mar-07,1500000,USD,angel\n",
      "yap,Yap,,mobile,Charlotte,NC,10-Jun-08,6500000,USD,a\n",
      "prepchamps,PrepChamps,10,web,Durham,NC,22-Apr-08,1200000,USD,a\n",
      "silkroad-technology,SilkRoad technology,,,Winston-Salem,NC,19-Feb-08,10000000,USD,b\n",
      "silkroad-technology,SilkRoad technology,,,Winston-Salem,NC,15-May-08,54000000,USD,c\n",
      "brightdoor-systems,BrightDoor Systems,26,web,Cary,NC,13-Apr-07,200000,USD,a\n",
      "drifttoit,DriftToIt,4,web,Raleigh,NC,1-Jun-07,300000,USD,angel\n",
      "rpath,rPath,45,other,Raleigh,NC,24-Jan-06,6400000,USD,a\n",
      "rpath,rPath,45,other,Raleigh,NC,24-Jan-07,9100000,USD,b\n",
      "rpath,rPath,45,other,Raleigh,NC,24-Jun-08,10000000,USD,c\n",
      "ntractive,Ntractive,6,web,Grand Forks,ND,8-Jul-08,570000,USD,a\n",
      "billmelater,Bill Me Later,,web,Omaha,NE,1-Mar-06,27400000,USD,a\n",
      "adaptiveblue,AdaptiveBlue,6,web,Livingston,NJ,15-Feb-07,1500000,USD,a\n",
      "phanfare,Phanfare,,web,Metuchen,NJ,1-Nov-07,2500000,USD,c\n",
      "phanfare,Phanfare,,web,Metuchen,NJ,1-Jul-06,2000000,USD,b\n",
      "enterprisedb,EnterpriseDB,,software,Edison,NJ,7-Sep-05,7000000,USD,a\n",
      "enterprisedb,EnterpriseDB,,software,Edison,NJ,1-Aug-06,20000000,USD,b\n",
      "enterprisedb,EnterpriseDB,,software,Edison,NJ,25-Mar-08,10000000,USD,c\n",
      "neocleus,Neocleus,,web,Jersey City,NJ,19-Jun-08,11000000,USD,b\n",
      "datapipe,Datapipe,,web,Jersey City,NJ,8-Jul-08,75000000,USD,unattributed\n",
      "switch2health,Switch2Health,,web,North Brunswick,NJ,16-Jul-08,200000,USD,unattributed\n",
      "voltaix,Voltaix,,hardware,N. Branch,NJ,29-Jul-08,12500000,USD,unattributed\n",
      "spaboom,SpaBoom,9,web,Albuquerque,NM,15-Jul-06,700000,USD,a\n",
      "spaboom,SpaBoom,9,web,Albuquerque,NM,15-Sep-07,600000,USD,b\n",
      "novint,Novint,,other,Albuquerque,NM,17-Jun-08,5200000,USD,unattributed\n",
      "meetmoi,MeetMoi,7,web,New York City,NY,1-Jun-07,1500000,USD,a\n",
      "meetup,Meetup,1,mobile,New York,NY,1-Dec-02,2800000,USD,a\n",
      "meetup,Meetup,1,mobile,New York,NY,1-Nov-03,5300000,USD,b\n",
      "meetup,Meetup,1,mobile,New York,NY,23-Jul-08,7500000,USD,d\n",
      "mogulus,Mogulus,20,web,New York,NY,1-May-07,1200000,USD,angel\n",
      "mogulus,Mogulus,20,web,New York,NY,1-Jan-08,1500000,USD,angel\n",
      "mogulus,Mogulus,20,web,New York,NY,1-Jul-08,10000000,USD,a\n",
      "pando,Pando,23,software,New York,NY,1-Jan-07,11000000,USD,b\n",
      "pando,Pando,23,software,New York,NY,1-Mar-08,20900000,USD,c\n",
      "outside-in,Outside.in,17,web,Brooklyn,NY,1-Feb-07,900000,USD,angel\n",
      "outside-in,Outside.in,17,web,Brooklyn,NY,1-Oct-07,1500000,USD,angel\n",
      "outside-in,Outside.in,17,web,Brooklyn,NY,19-May-08,3000000,USD,a\n",
      "selectminds,SelectMinds,55,web,New York,NY,1-Aug-07,5500000,USD,a\n",
      "veotag,Veotag,,web,New York,NY,1-May-07,750000,USD,angel\n",
      "roo,KIT digital,100,web,New York,NY,8-May-08,15000000,USD,b\n",
      "roo,KIT digital,100,web,New York,NY,18-Apr-08,5000000,USD,a\n",
      "contextweb,ContextWeb,,web,New York,NY,1-Jun-04,3000000,USD,a\n",
      "contextweb,ContextWeb,,web,New York,NY,1-Jun-05,9000000,USD,b\n",
      "contextweb,ContextWeb,,web,New York,NY,20-Jul-08,26000000,USD,d\n",
      "datranmedia,Datran Media,,web,New York,NY,1-Mar-05,60000000,USD,a\n",
      "eyeblaster,Eyeblaster,,web,New York,NY,1-Dec-03,8000000,USD,a\n",
      "eyeblaster,Eyeblaster,,web,New York,NY,21-Mar-07,30000000,USD,b\n",
      "covestor,Covestor,,web,New York,NY,1-Jun-07,1000000,USD,angel\n",
      "covestor,Covestor,,web,New York,NY,7-Apr-08,6500000,USD,a\n",
      "globalgrind,Global Grind,20,web,New York,NY,1-Aug-07,4500000,USD,b\n",
      "heavy-com,Heavy.com,,web,New York,NY,1-Mar-01,3000000,USD,a\n",
      "spiralfrog,SpiralFrog,15,web,New York,NY,1-Dec-07,2000000,USD,debt_round\n",
      "broadbandenterprises,Broadband Enterprises,,web,New York,NY,1-Jan-08,10000000,USD,a\n",
      "thumbplay,Thumbplay,,mobile,New York,NY,13-Mar-08,18000000,USD,e\n",
      "waterfrontmedia,Waterfront Media,,web,\"Brooklyn, New York\",NY,1-Sep-07,25000000,USD,d\n",
      "waterfrontmedia,Waterfront Media,,web,\"Brooklyn, New York\",NY,1-Mar-04,4000000,USD,a\n",
      "waterfrontmedia,Waterfront Media,,web,\"Brooklyn, New York\",NY,1-Mar-06,6000000,USD,b\n",
      "waterfrontmedia,Waterfront Media,,web,\"Brooklyn, New York\",NY,1-Apr-07,8000000,USD,c\n",
      "tutor,Tutor,55,web,New Yorl,NY,1-May-07,13500000,USD,b\n",
      "daylife,Daylife,,web,New York,NY,1-Jun-07,8300000,USD,b\n",
      "teachthepeople,Teach The People,1,web,Astoria,NY,1-Jan-07,300000,USD,angel\n",
      "healthcare-health-human-powered-search,OrganizedWisdom,18,web,New York,NY,1-Jun-08,2300000,USD,a\n",
      "snooth,Snooth,,web,New  York,NY,1-Dec-06,300000,USD,angel\n",
      "snooth,Snooth,,web,New  York,NY,1-Nov-07,1000000,USD,a\n",
      "5min,5min,8,web,New York,NY,1-Apr-07,300000,USD,angel\n",
      "5min,5min,8,web,New York,NY,1-Nov-07,5000000,USD,a\n",
      "kaltura,Kaltura,20,web,Brooklyn,NY,1-May-07,2100000,USD,a\n",
      "mimeo,Mimeo,,web,New York,NY,1-Sep-07,25000000,USD,a\n",
      "rayv,RayV,,web,New York,NY,1-Oct-07,8000000,USD,b\n",
      "tumblr,Tumblr,,web,New York,NY,31-Oct-07,750000,USD,a\n",
      "payoneer,Payoneer,50,web,New York,NY,24-Jul-08,8000000,USD,b\n",
      "exelate,eXelate,,web,New York,NY,1-Oct-07,4000000,USD,a\n",
      "quigo,Quigo,,web,New York,NY,1-Mar-04,5000000,USD,a\n",
      "peer39,Peer39,50,web,New York,NY,1-Feb-07,3000000,USD,a\n",
      "peer39,Peer39,50,web,New York,NY,1-Sep-07,8200000,USD,b\n",
      "peer39,Peer39,50,web,New York,NY,1-Mar-06,500000,USD,seed\n",
      "rebelmonkey,Rebel Monkey,15,web,New York,NY,5-Feb-08,1000000,USD,a\n",
      "answers,Answers Corporation,,web,New York,NY,1-Jan-99,300000,USD,a\n",
      "answers,Answers Corporation,,web,New York,NY,1-Apr-99,1360000,USD,b\n",
      "answers,Answers Corporation,,web,New York,NY,1-Sep-99,2750000,USD,c\n",
      "answers,Answers Corporation,,web,New York,NY,1-May-00,28000000,USD,d\n",
      "answers,Answers Corporation,,web,New York,NY,17-Jun-08,13000000,USD,debt_round\n",
      "seetoo,SeeToo,,web,New York,NY,1-Oct-07,1000000,USD,angel\n",
      "drop-io-2,drop.io,,web,Brooklyn,NY,1-Nov-07,1250000,USD,a\n",
      "drop-io-2,drop.io,,web,Brooklyn,NY,10-Mar-08,2700000,USD,b\n",
      "motionbox,Motionbox,,web,New York,NY,1-Sep-06,4200000,USD,a\n",
      "motionbox,Motionbox,,web,New York,NY,1-Dec-07,7000000,USD,b\n",
      "dgplabs,DGP Labs,,web,New York,NY,1-Nov-07,4750000,USD,a\n",
      "ideeli,Ideeli,,web,New York,NY,1-Dec-07,3800000,USD,a\n",
      "livegamer,Live Gamer,,web,New York,NY,1-Dec-07,24000000,USD,a\n",
      "weshow,WeShow,0,web,New York,NY,1-Jun-07,5000000,USD,a\n",
      "etsy,Etsy,45,web,Brooklyn,NY,1-Jun-06,315000,USD,angel\n",
      "etsy,Etsy,45,web,Brooklyn,NY,1-Nov-06,1000000,USD,a\n",
      "etsy,Etsy,45,web,Brooklyn,NY,1-Jul-07,3250000,USD,b\n",
      "etsy,Etsy,45,web,Brooklyn,NY,1-Jan-08,27000000,USD,c\n",
      "phonetag,PhoneTag,10,web,New York,NY,1-Feb-07,3500000,USD,angel\n",
      "phonetag,PhoneTag,10,web,New York,NY,1-Jan-04,200000,USD,seed\n",
      "phonetag,PhoneTag,10,web,New York,NY,1-Dec-07,2000000,USD,angel\n",
      "tremormedia,Tremor Media,,web,New York,NY,1-Sep-06,8400000,USD,a\n",
      "tremormedia,Tremor Media,,web,New York,NY,1-Jan-08,11000000,USD,b\n",
      "yoonew,YooNew,,web,New York,NY,1-Aug-05,2000000,USD,angel\n",
      "fifthgenerationsystems,Fifth Generation Systems,,web,Roslyn Heights,NY,1-Jan-08,5300000,USD,b\n",
      "fifthgenerationsystems,Fifth Generation Systems,,web,Roslyn Heights,NY,1-Nov-06,5250000,USD,a\n",
      "igaworldwide,IGA Worldwide,,web,New York,NY,1-Feb-06,12000000,USD,a\n",
      "igaworldwide,IGA Worldwide,,web,New York,NY,1-Jul-07,25000000,USD,b\n",
      "igaworldwide,IGA Worldwide,,web,New York,NY,1-Jan-08,5000000,USD,b\n",
      "theladders,TheLadders,200,web,New York,NY,8-Nov-04,7250000,USD,a\n",
      "adotube,Adotube,30,web,New York,NY,31-Jul-07,630000,USD,seed\n",
      "adotube,Adotube,30,web,New York,NY,1-Apr-08,600000,USD,seed\n",
      "kluster,Kluster,,web,New York,NY,1-Jan-08,1000000,USD,seed\n",
      "blog-talk-radio,Blog Talk Radio,,web,New York,NY,25-Jun-08,4600000,USD,a\n",
      "pingg,Pingg,7,web,New York,NY,1-Jan-07,500000,USD,seed\n",
      "pingg,Pingg,7,web,New York,NY,1-Mar-07,800000,USD,angel\n",
      "outbrain,Outbrain,,web,New York City,NY,1-Jan-07,1000000,USD,seed\n",
      "outbrain,Outbrain,,web,New York City,NY,25-Feb-08,5000000,USD,a\n",
      "mochila,Mochila,52,web,New York,NY,2-Jan-07,8000000,USD,b\n",
      "olx,OLX,85,web,New York City,NY,1-Sep-07,10000000,USD,a\n",
      "olx,OLX,85,web,New York City,NY,11-Apr-08,13500000,USD,b\n",
      "boonty,Boonty,150,web,New York,NY,7-Jul-05,10000000,USD,b\n",
      "tripology,Tripology,,web,New York,NY,1-Jan-07,1250000,USD,a\n",
      "the-feedroom,The Feedroom,,web,New York,NY,9-Jul-08,12000000,USD,unattributed\n",
      "next-new-networks,Next New Networks,15,web,New York,NY,1-Jan-07,8000000,USD,a\n",
      "next-new-networks,Next New Networks,15,web,New York,NY,12-Mar-08,15000000,USD,b\n",
      "riverwired,RiverWired,,web,New York,NY,1-Mar-08,1500000,USD,seed\n",
      "fynanz,Fynanz,10,web,New York,NY,1-Oct-07,500000,USD,angel\n",
      "digital-railroad,Digital Railroad,,web,New York,NY,14-Jun-05,5200000,USD,a\n",
      "digital-railroad,Digital Railroad,,web,New York,NY,5-Feb-07,10000000,USD,b\n",
      "silicon-alley-insider,Silicon Alley Insider,,,New York,NY,16-Jul-08,900000,USD,seed\n",
      "undertone-networks,Undertone Networks,,web,New York,NY,31-Mar-08,40000000,USD,a\n",
      "someecards,Someecards,,web,New York,NY,1-Apr-08,350000,USD,seed\n",
      "trunkt,Trunkt,2,web,New York,NY,15-May-07,350000,USD,seed\n",
      "cutcaster-2,Cutcaster,6,web,New York City,NY,1-Jan-08,150000,USD,seed\n",
      "visible-world,Visible World,,software,New York,NY,14-Apr-08,25000000,USD,c\n",
      "visible-world,Visible World,,software,New York,NY,17-Nov-03,8000000,USD,b\n",
      "mad-mimi,Mad Mimi,3,web,,NY,29-Apr-07,200000,USD,angel\n",
      "social-median,Social Median,,web,New York,NY,7-Mar-08,500000,USD,seed\n",
      "scanbuy,Scanbuy,,software,New York,NY,12-Dec-06,9000000,USD,b\n",
      "scanbuy,Scanbuy,,software,New York,NY,1-Nov-07,6800000,USD,b\n",
      "pontiflex,Pontiflex,,web,Brooklyn,NY,30-Apr-08,2500000,USD,a\n",
      "chic-tv,CHIC.TV,12,web,New York,NY,1-Jan-06,500000,USD,angel\n",
      "expertflyer,ExpertFlyer,3,web,Patchogue,NY,1-Mar-04,30000,USD,seed\n",
      "x-1,x+1,,web,New York,NY,1-Jun-08,16000000,USD,a\n",
      "media6,Media6¡,,web,New York,NY,1-May-08,2000000,USD,debt_round\n",
      "knewton,Knewton,,web,New York,NY,21-May-08,2500000,USD,a\n",
      "sense-networks,Sense Networks,,mobile,New York City,NY,1-Apr-08,3000000,USD,a\n",
      "targetspot,TargetSpot,20,web,New York,NY,11-Mar-08,8600000,USD,b\n",
      "bountyjobs,BountyJobs,31,web,New York,NY,7-Jul-08,12000000,USD,b\n",
      "vbs-tv,vbs tv,40,other,Brooklyn,NY,1-Dec-06,10000000,USD,seed\n",
      "instinctiv,Instinctiv,,mobile,Ithaca,NY,1-Jun-08,750000,USD,seed\n",
      "visualplant,VISUALPLANT,6,web,New York,NY,1-Mar-07,500000,USD,seed\n",
      "xunlight,XunLight,,hardware,Toledo,OH,7-May-08,22000000,USD,b\n",
      "strands,Strands,150,web,Corvallis,OR,1-Mar-06,6000000,USD,a\n",
      "strands,Strands,150,web,Corvallis,OR,18-Jun-07,25000000,USD,b\n",
      "strands,Strands,150,web,Corvallis,OR,1-Dec-07,24000000,USD,b\n",
      "jivesoftware,Jive Software,,web,Portland,OR,1-Aug-07,15000000,USD,a\n",
      "platial,Platial,,web,Portland,OR,1-Oct-05,800000,USD,angel\n",
      "platial,Platial,,web,Portland,OR,1-Feb-07,2600000,USD,a\n",
      "garagegames,GarageGames,,web,Eugene,OR,1-Sep-07,50000000,USD,a\n",
      "iovation,iovation,50,web,Portland,OR,27-Mar-08,15000000,USD,a\n",
      "ingrid,InGrid,,web,Berwyn,PA,1-Jul-07,13500000,USD,c\n",
      "ingrid,InGrid,,web,Berwyn,PA,1-Sep-04,6600000,USD,a\n",
      "ingrid,InGrid,,web,Berwyn,PA,1-Jun-06,8100000,USD,b\n",
      "ingrid,InGrid,,web,Berwyn,PA,1-Jun-06,1500000,USD,debt_round\n",
      "sleep-fm,Sleep.FM,4,web,Philadelphia,PA,30-Mar-08,15000,USD,seed\n",
      "boomi,Boomi,0,web,Berwyn,PA,1-Jul-08,4000000,USD,a\n",
      "styky,Styky,3,web,Philadelphia,PA,1-Jan-07,100000,USD,seed\n",
      "totaltakeout,TotalTakeout,25,web,Allentown,PA,1-Oct-07,150000,USD,seed\n",
      "redlasso,RedLasso,,web,King of Prussia,PA,1-Nov-07,6500000,CAD,a\n",
      "qpondirect,QponDirect,10,web,Pittsburgh,PA,1-Mar-08,300000,USD,angel\n",
      "energyweb-solutions,EnergyWeb Solutions,3,web,Allentown,PA,15-Jun-06,100000,USD,seed\n",
      "aria-systems,Aria Systems,,software,Media,PA,7-Nov-07,4000000,USD,a\n",
      "vivsimo,Viv’simo,,software,Pittsburgh,PA,17-Mar-08,4000000,USD,a\n",
      "vivsimo,Viv’simo,,software,Pittsburgh,PA,12-Jul-03,960000,USD,seed\n",
      "vivsimo,Viv’simo,,software,Pittsburgh,PA,4-Jul-02,500000,USD,seed\n",
      "vivsimo,Viv’simo,,software,Pittsburgh,PA,1-Jun-00,100000,USD,seed\n",
      "vivsimo,Viv’simo,,software,Pittsburgh,PA,29-Jan-01,100000,USD,seed\n",
      "showclix,ShowClix,,web,Oakmont,PA,1-Oct-07,150000,USD,seed\n",
      "showclix,ShowClix,,web,Oakmont,PA,1-Jun-08,250000,USD,seed\n",
      "biowizard,BioWizard,8,web,Wayne,PA,3-Jan-08,1000000,USD,a\n",
      "ticketleap,TicketLeap,4,web,Philadelphia,PA,22-Jul-08,2000000,USD,a\n",
      "tizra,Tizra,,web,Providence,RI,1-May-07,500000,USD,seed\n",
      "quickoffice,Quickoffice,,software,Plano,TN,5-Feb-07,7000000,USD,b\n",
      "quickoffice,Quickoffice,,software,Plano,TN,1-Jan-06,11500000,USD,a\n",
      "quickoffice,Quickoffice,,software,Plano,TN,23-May-08,3000000,USD,c\n",
      "thoof,Thoof,,web,Austin,TX,1-Jun-07,1000000,USD,seed\n",
      "bazaarvoice,Bazaarvoice,,web,Austin,TX,1-May-06,4000000,USD,a\n",
      "bazaarvoice,Bazaarvoice,,web,Austin,TX,1-Sep-07,8800000,USD,b\n",
      "bazaarvoice,Bazaarvoice,,web,Austin,TX,18-Jun-08,7100000,USD,c\n",
      "smallworldlabs,Small World Labs,25,web,Austin,TX,19-Mar-08,1000000,USD,a\n",
      "pluck,Pluck,,web,Austin,TX,6-Oct-04,8500000,USD,b\n",
      "pluck,Pluck,,web,Austin,TX,14-Nov-06,7000000,USD,c\n",
      "spiceworks,Spiceworks,,web,Austin,TX,1-Aug-07,8000000,USD,b\n",
      "spendview,SpendView,3,web,Houston,TX,1-Jan-08,2000000,USD,a\n",
      "shangby,Shangby,,web,Austin,TX,1-Jun-07,1000000,USD,a\n",
      "onnetworks,On Networks,20,web,Austin,TX,1-Nov-06,4000000,USD,a\n",
      "onnetworks,On Networks,20,web,Austin,TX,1-Nov-07,12000000,USD,b\n",
      "careflash,CareFlash,0,web,Houston,TX,1-Aug-07,600000,USD,seed\n",
      "heliovolt,HelioVolt,,web,Austin,TX,1-Aug-07,77000000,USD,b\n",
      "challenge-games,Challenge Games,,web,Austin,TX,10-Jul-08,4500000,USD,a\n",
      "woot,Woot,100,web,Carrollton,TX,1-Jan-08,4000000,USD,a\n",
      "mumboe,Mumboe,17,software,Austin,TX,1-Oct-06,4500000,USD,seed\n",
      "breakingpoint-systems,BreakingPoint Systems,54,hardware,Austin,TX,12-Nov-07,15000000,USD,c\n",
      "famecast,FameCast,,web,Austin,TX,1-Jun-07,4500000,USD,a\n",
      "click-forensics,Click Forensics,,web,Austin,TX,1-Jan-07,5000000,USD,a\n",
      "click-forensics,Click Forensics,,web,Austin,TX,1-Mar-08,10000000,USD,b\n",
      "godtube,GodTube,,web,Plano,TX,4-May-08,30000000,USD,b\n",
      "ibiz-software,iBiz Software,50,software,Dallas,TX,20-May-08,250000,USD,angel\n",
      "cosential,Cosential,10,web,Austin,TX,1-Jun-02,250000,USD,b\n",
      "jad-tech-consulting,JAD Tech Consulting,6,consulting,Richardson,TX,23-Sep-93,125000,USD,seed\n",
      "mozy,Mozy,26,web,American Fork,UT,1-May-05,1900000,USD,a\n",
      "mozy,Mozy,26,web,American Fork,UT,1-May-05,1900000,USD,a\n",
      "ancestry-com,Ancestry.com,,web,Provo,UT,1-Sep-99,33200000,USD,b\n",
      "movenetworks,Move Networks,,web,American Fork,UT,1-Dec-06,11300000,USD,a\n",
      "movenetworks,Move Networks,,web,American Fork,UT,1-Oct-07,34000000,USD,b\n",
      "movenetworks,Move Networks,,web,American Fork,UT,14-Apr-08,46000000,USD,c\n",
      "worldvitalrecords,World Vital Records,,web,Provo,UT,1-Sep-07,1200000,USD,a\n",
      "bungee-labs,Bungee Labs,38,web,Orem,UT,14-Mar-08,8000000,USD,c\n",
      "footnote,Footnote,31,web,Lindon,UT,1-Jan-08,8000000,USD,a\n",
      "mediaforge,mediaFORGE,,web,Salt Lake City,UT,1-Jul-06,1500000,USD,a\n",
      "teamstreamz,TeamStreamz,5,web,Lehi,UT,10-Jan-07,80000,USD,seed\n",
      "exinda,Exinda,,software,Sandy,UT,22-May-04,6000000,USD,a\n",
      "clearspring,Clearspring,,web,McLean,VA,1-May-06,2500000,USD,a\n",
      "clearspring,Clearspring,,web,McLean,VA,1-Feb-07,5500000,USD,b\n",
      "clearspring,Clearspring,,web,McLean,VA,20-May-08,18000000,USD,c\n",
      "clearspring,Clearspring,,web,McLean,VA,27-Jul-07,10000000,USD,b\n",
      "availmedia,Avail Media,,web,Reston,VA,1-May-07,17000000,USD,b\n",
      "availmedia,Avail Media,,web,Reston,VA,1-Nov-07,25000000,USD,c\n",
      "fortiusone,FortiusOne,,web,Arlington,VA,1-May-07,5450000,USD,b\n",
      "mixx,Mixx,,web,,VA,1-Sep-07,1500000,USD,a\n",
      "mixx,Mixx,,web,,VA,1-Feb-08,2000000,USD,b\n",
      "jobfox,Jobfox,,web,McLean,VA,1-Jan-08,20000000,USD,c\n",
      "jobfox,Jobfox,,web,McLean,VA,1-May-06,13000000,USD,b\n",
      "jobfox,Jobfox,,web,McLean,VA,1-Apr-05,7000000,USD,a\n",
      "healthcentral,HealthCentral,,web,Arlington,VA,1-Jan-08,50000000,USD,a\n",
      "comscore,comScore,,web,Reston,VA,6-Jun-02,20000000,USD,d\n",
      "comscore,comScore,,web,Reston,VA,13-Aug-01,15000000,USD,c\n",
      "visualcv,VisualCV,20,web,Reston,VA,28-Jan-08,2000000,USD,a\n",
      "paxfire,Paxfire,,,Sterling,VA,22-May-05,2100000,USD,a\n",
      "shoutwire,ShoutWire,9,web,,VA,1-Jan-07,500000,USD,a\n",
      "parature,Parature,100,software,Vienna,VA,5-Jul-06,13500000,USD,a\n",
      "parature,Parature,100,software,Vienna,VA,7-May-08,16000000,USD,b\n",
      "loladex,Loladex,2,web,Leesburg,VA,1-Nov-07,350000,USD,seed\n",
      "appian,Appian,120,software,Vienna,VA,21-Jul-08,10000000,USD,a\n",
      "fortisphere,Fortisphere,50,software,Chantilly,VA,19-Nov-07,10000000,USD,a\n",
      "wetpaint,Wetpaint,35,web,Seattle,WA,1-Oct-05,5250000,USD,a\n",
      "wetpaint,Wetpaint,35,web,Seattle,WA,1-Jan-07,9500000,USD,b\n",
      "wetpaint,Wetpaint,35,web,Seattle,WA,1-May-05,25000000,USD,c\n",
      "jobster,Jobster,,web,Seattle,WA,1-Aug-05,19500000,USD,b\n",
      "jobster,Jobster,,web,Seattle,WA,1-Jul-06,18000000,USD,c\n",
      "jobster,Jobster,,web,Seattle,WA,1-Jan-05,8000000,USD,a\n",
      "jobster,Jobster,,web,Seattle,WA,25-Apr-08,7000000,USD,d\n",
      "yapta,Yapta,,web,Seattle,WA,1-Jul-07,2300000,USD,a\n",
      "yapta,Yapta,,web,Seattle,WA,1-Jul-07,700000,USD,seed\n",
      "farecast,Farecast,26,web,Seattle,WA,1-Oct-04,1500000,USD,a\n",
      "farecast,Farecast,26,web,Seattle,WA,1-Jul-05,7000000,USD,b\n",
      "farecast,Farecast,26,web,Seattle,WA,1-Jan-07,12100000,USD,c\n",
      "hautesecure,Haute Secure,,web,Seattle,WA,1-Jan-07,500000,USD,a\n",
      "newsvine,Newsvine,6,web,Seattle,WA,1-Jul-05,1250000,USD,a\n",
      "ilike,iLike,28,web,Seattle,WA,1-Jan-06,2500000,USD,a\n",
      "ilike,iLike,28,web,Seattle,WA,1-Jan-06,13300000,USD,b\n",
      "redfin,Redfin,100,web,Seattle,WA,1-Jul-07,12000000,USD,c\n",
      "redfin,Redfin,100,web,Seattle,WA,1-May-06,8000000,USD,b\n",
      "redfin,Redfin,100,web,Seattle,WA,1-Sep-05,770000,USD,a\n",
      "actionengine,Action Engine,,web,Bellevue,WA,1-May-00,7700000,USD,a\n",
      "actionengine,Action Engine,,web,Bellevue,WA,1-May-02,5000000,USD,b\n",
      "actionengine,Action Engine,,web,Bellevue,WA,1-Jan-05,10000000,USD,d\n",
      "actionengine,Action Engine,,web,Bellevue,WA,1-Mar-03,15500000,USD,c\n",
      "actionengine,Action Engine,,web,Bellevue,WA,1-Jul-07,20000000,USD,e\n",
      "wishpot,Wishpot,,web,Seattle,WA,29-Apr-08,1000000,USD,a\n",
      "payscale,PayScale,,web,Seattle,WA,1-Oct-04,3200000,USD,a\n",
      "payscale,PayScale,,web,Seattle,WA,1-Oct-05,7000000,USD,b\n",
      "payscale,PayScale,,web,Seattle,WA,1-Jul-07,10300000,USD,c\n",
      "buddytv,BuddyTV,,web,Seattle,WA,1-Jul-07,2800000,USD,a\n",
      "buddytv,BuddyTV,,web,Seattle,WA,1-May-07,250000,USD,angel\n",
      "buddytv,BuddyTV,,web,Seattle,WA,14-Apr-08,6000000,USD,b\n",
      "judysbook,Judys Book,,web,Seattle,WA,1-Jul-04,2500000,USD,a\n",
      "judysbook,Judys Book,,web,Seattle,WA,1-Nov-05,8000000,USD,b\n",
      "sampa,Sampa,4,web,Redmond,WA,1-Aug-07,310000,USD,angel\n",
      "sampa,Sampa,4,web,Redmond,WA,2-Apr-08,1000000,USD,angel\n",
      "zango,Zango,225,web,Bellevue,WA,1-Mar-04,40000000,USD,a\n",
      "cdigix,Cdigix,,web,Seattle,WA,1-Nov-05,4000000,USD,a\n",
      "ripl,Ripl,,web,Seattle,WA,1-Aug-07,4500000,USD,b\n",
      "eyejot,EyeJot,5,web,Seattle,WA,1-May-07,750000,USD,seed\n",
      "eyejot,EyeJot,5,web,Seattle,WA,1-Jan-07,400000,USD,angel\n",
      "flowplay,FlowPlay,6,web,Seattle,WA,1-May-07,500000,USD,angel\n",
      "flowplay,FlowPlay,6,web,Seattle,WA,6-Feb-08,3700000,USD,a\n",
      "smartsheet,SmartSheet,,web,Bellevue,WA,1-Jun-07,2690000,USD,a\n",
      "visibletechnologies,Visible Technologies,60,web,Seattle,WA,1-Aug-06,3500000,USD,a\n",
      "visibletechnologies,Visible Technologies,60,web,Seattle,WA,1-Sep-07,12000000,USD,b\n",
      "zillow,Zillow,155,web,Seattle,WA,1-Oct-05,32000000,USD,a\n",
      "zillow,Zillow,155,web,Seattle,WA,1-Jul-06,25000000,USD,b\n",
      "zillow,Zillow,155,web,Seattle,WA,1-Sep-07,30000000,USD,c\n",
      "seomoz,SEOMoz,,web,Seattle,WA,1-Sep-07,1250000,USD,a\n",
      "docusign,DocuSign,,web,Seattle,WA,1-Apr-06,10000000,USD,b\n",
      "docusign,DocuSign,,web,Seattle,WA,1-Sep-07,12400000,USD,c\n",
      "adready,AdReady,33,web,Seattle,WA,1-Dec-07,10000000,USD,b\n",
      "treemo,Treemo,,web,Seattle,WA,1-Oct-07,2550000,USD,a\n",
      "gridnetworks,GridNetworks,,web,Seattle,WA,1-Oct-07,9500000,USD,a\n",
      "pelago,Pelago,,web,Seattle,WA,1-Nov-06,7400000,USD,a\n",
      "pelago,Pelago,,web,Seattle,WA,27-May-08,15000000,USD,b\n",
      "blist,Blist,,web,Seattle,WA,20-Feb-08,6500000,USD,a\n",
      "realself,RealSelf,,web,Seattle,WA,1-Oct-07,1000000,USD,angel\n",
      "rescuetime,RescueTime,,web,Seattle,WA,14-Oct-07,20000,USD,seed\n",
      "zoji,Zoji,,web,Seattle,WA,1-Oct-07,1500000,USD,angel\n",
      "snapvine,Snapvine,20,web,Seattle,WA,1-Jul-06,2000000,USD,a\n",
      "snapvine,Snapvine,20,web,Seattle,WA,1-Sep-07,10000000,USD,b\n",
      "jott,Jott,,web,Seattle,WA,1-May-07,5400000,USD,b\n",
      "earthclassmail,Earth Class Mail,,web,Seattle,WA,1-Sep-07,7400000,USD,a\n",
      "earthclassmail,Earth Class Mail,,web,Seattle,WA,1-Jan-08,5900000,USD,a\n",
      "smilebox,Smilebox,,web,Redmond,WA,1-Feb-06,5000000,USD,a\n",
      "smilebox,Smilebox,,web,Redmond,WA,1-Dec-07,7000000,USD,b\n",
      "fyreball,Fyreball,,web,Bellevue,WA,1-Dec-07,1000000,USD,angel\n",
      "delve-networks,Delve Networks,,web,Seattle,WA,1-Dec-06,1650000,USD,seed\n",
      "delve-networks,Delve Networks,,web,Seattle,WA,1-Aug-07,8000000,USD,a\n",
      "livemocha,LiveMocha,,web,Bellevue,WA,1-Jan-08,6000000,USD,a\n",
      "mercentcorporation,Mercent Corporation,50,web,Seattle,WA,1-Jan-08,6500000,USD,b\n",
      "cleverset,CleverSet,,web,Seattle,WA,1-Aug-06,1400000,USD,angel\n",
      "cleverset,CleverSet,,web,Seattle,WA,1-Sep-05,1200000,USD,a\n",
      "cleverset,CleverSet,,web,Seattle,WA,1-Dec-07,500000,USD,angel\n",
      "liquidplanner,LiquidPlanner,11,web,Bellevue,WA,1-Jan-08,1200000,USD,angel\n",
      "limeade,Limeade,10,web,Bellevue,WA,1-Jan-07,1000000,USD,angel\n",
      "yodio,Yodio,4,web,Bellevue,WA,1-Feb-08,850000,USD,a\n",
      "tastemakers,Tastemakers,11,web,Seattle,WA,1-Feb-07,1000000,USD,a\n",
      "whitepages-com,WhitePages.com,125,web,Seattle,WA,1-Aug-05,45000000,USD,a\n",
      "revenuescience,RevenueScience,,web,Seattle,WA,19-Dec-05,24000000,USD,e\n",
      "gotvoice,GotVoice,15,mobile,Kirkland,WA,25-Oct-06,3000000,USD,a\n",
      "cardomain-network,CarDomain Network,50,web,Seattle,WA,29-Jun-07,3000000,USD,a\n",
      "mpire,mpire,,web,Seattle,WA,1-Feb-07,9800000,USD,a\n",
      "mpire,mpire,,web,Seattle,WA,11-Jun-08,10000000,USD,b\n",
      "teachstreet,TeachStreet,8,web,Seattle,WA,1-Mar-08,2250000,USD,a\n",
      "estately,Estately,,web,,WA,24-Apr-08,450000,USD,angel\n",
      "infinia,Infinia,,cleantech,Kennewick,WA,22-Apr-08,57000000,USD,b\n",
      "infinia,Infinia,,cleantech,Kennewick,WA,1-Jun-07,9500000,USD,a\n",
      "m-metrics,M:Metrics,,web,Seattle,WA,16-Oct-05,7000000,USD,b\n",
      "cozi,Cozi,26,software,Seattle,WA,11-Jul-07,3000000,USD,a\n",
      "cozi,Cozi,26,software,Seattle,WA,1-Jun-08,8000000,USD,c\n",
      "trusera,Trusera,15,web,Seattle,WA,1-Jun-07,2000000,USD,angel\n",
      "alerts-com,Alerts.com,,web,Bellevue,WA,8-Jul-08,1200000,USD,a\n",
      "myrio,Myrio,75,software,Bothell,WA,1-Jan-01,20500000,USD,unattributed\n",
      "grid-networks,Grid Networks,,web,Seattle,WA,30-Oct-07,9500000,USD,a\n",
      "grid-networks,Grid Networks,,web,Seattle,WA,20-May-08,10500000,USD,b\n"
     ]
    }
   ],
   "source": [
    "file_path = \"techcrunch.csv\"\n",
    "\n",
    "# Usamos un bucle for para iterar a través de las líneas generadas por la función con 'yield'.\n",
    "for line in fetch_lines_with_yield(file_path):\n",
    "    print(line, end='')  # Imprimimos cada línea sin agregar un salto de línea adicional."
   ]
  },
  {
   "cell_type": "code",
   "execution_count": 135,
   "metadata": {},
   "outputs": [
    {
     "name": "stdout",
     "output_type": "stream",
     "text": [
      "104\n"
     ]
    }
   ],
   "source": [
    "import sys\n",
    "\n",
    "result = fetch_lines_with_yield(file_path)\n",
    "memory_size = sys.getsizeof(result)\n",
    "print(memory_size)"
   ]
  },
  {
   "cell_type": "code",
   "execution_count": 136,
   "metadata": {},
   "outputs": [
    {
     "name": "stdout",
     "output_type": "stream",
     "text": [
      "<generator object fetch_lines_with_yield at 0x7fa4885feea0>\n"
     ]
    }
   ],
   "source": [
    "print(fetch_lines_with_yield(file_path))"
   ]
  },
  {
   "cell_type": "code",
   "execution_count": 137,
   "metadata": {},
   "outputs": [
    {
     "name": "stdout",
     "output_type": "stream",
     "text": [
      "0\n",
      "1\n",
      "2\n",
      "3\n",
      "4\n"
     ]
    }
   ],
   "source": [
    "# practica 4\n",
    "# Crea una función llamada mi_generador que toma un valor máximo como argumento. \n",
    "# Esta función generará números comenzando desde 0 hasta el valor máximo utilizando un generador.\n",
    "\n",
    "# Definimos una función generadora llamada 'mi_generador' que toma un valor máximo como argumento.\n",
    "def mi_generador(max_value):\n",
    "    current = 0  # Inicializamos una variable llamada 'current' en 0.\n",
    "    while current < max_value:  # Mientras 'current' sea menor que el valor máximo:\n",
    "        yield current  # Utilizamos la palabra clave 'yield' para generar el valor actual.\n",
    "        current += 1  # Incrementamos 'current' en 1 en preparación para el siguiente valor.\n",
    "\n",
    "# Uso del generador\n",
    "mi_iterador = mi_generador(5)  # Creamos una instancia del generador que generará números hasta 4.\n",
    "for elemento in mi_iterador:  # Iteramos a través de los números generados por el generador.\n",
    "    print(elemento)  # Imprimimos cada número en la pantalla."
   ]
  },
  {
   "cell_type": "code",
   "execution_count": 87,
   "metadata": {},
   "outputs": [],
   "source": [
    "#referencia https://realpython.com/introduction-to-python-generators/"
   ]
  },
  {
   "cell_type": "code",
   "execution_count": 148,
   "metadata": {},
   "outputs": [],
   "source": [
    "# Creamos una lista de comprensión para calcular los cuadrados de números del 0 al 4.\n",
    "nums_squared_lc = [num**2 for num in range(20)]\n",
    "\n",
    "# Creamos una expresión de generador para calcular los cuadrados de números del 0 al 4.\n",
    "nums_squared_gc = (num**2 for num in range(20))"
   ]
  },
  {
   "cell_type": "code",
   "execution_count": 150,
   "metadata": {},
   "outputs": [
    {
     "name": "stdout",
     "output_type": "stream",
     "text": [
      "[0, 1, 4, 9, 16, 25, 36, 49, 64, 81, 100, 121, 144, 169, 196, 225, 256, 289, 324, 361]\n"
     ]
    }
   ],
   "source": [
    "# Cuando imprimimos nums_squared_lc, obtenemos la lista completa de cuadrados.\n",
    "print(nums_squared_lc)"
   ]
  },
  {
   "cell_type": "code",
   "execution_count": 151,
   "metadata": {},
   "outputs": [
    {
     "name": "stdout",
     "output_type": "stream",
     "text": [
      "<generator object <genexpr> at 0x7fa488e74900>\n"
     ]
    }
   ],
   "source": [
    "# Cuando imprimimos nums_squared_lc, obtenemos la lista completa de cuadrados.\n",
    "print(nums_squared_gc)"
   ]
  },
  {
   "cell_type": "code",
   "execution_count": 152,
   "metadata": {},
   "outputs": [
    {
     "name": "stdout",
     "output_type": "stream",
     "text": [
      "Tamaño en bytes de la lista: 85176\n"
     ]
    }
   ],
   "source": [
    "# Importamos el módulo sys\n",
    "import sys\n",
    "\n",
    "# Creamos una lista de comprensión con los cuadrados de los números del 0 al 9999, multiplicados por 2\n",
    "nums_squared_lc = [i * 2 for i in range(10000)]\n",
    "\n",
    "# Obtenemos el tamaño en bytes de la lista y lo imprimimos\n",
    "print(\"Tamaño en bytes de la lista:\", sys.getsizeof(nums_squared_lc))"
   ]
  },
  {
   "cell_type": "code",
   "execution_count": 153,
   "metadata": {},
   "outputs": [
    {
     "name": "stdout",
     "output_type": "stream",
     "text": [
      "Tamaño en bytes del generador 'nums_squared_gc': 104\n"
     ]
    }
   ],
   "source": [
    "# Importamos el módulo sys para obtener información del sistema.\n",
    "import sys\n",
    "\n",
    "# Creamos un generador de expresión llamado 'nums_squared_gc'.\n",
    "# Este generador genera los cuadrados de los números del 0 al 9999.\n",
    "nums_squared_gc = (i ** 2 for i in range(10000))\n",
    "\n",
    "# Utilizamos la función 'sys.getsizeof()' para obtener el tamaño en bytes del generador.\n",
    "size_of_generator = sys.getsizeof(nums_squared_gc)\n",
    "\n",
    "# Imprimimos el tamaño en bytes del generador, que será mucho menor que el de una lista equivalente.\n",
    "print(\"Tamaño en bytes del generador 'nums_squared_gc':\", size_of_generator)"
   ]
  },
  {
   "cell_type": "code",
   "execution_count": 154,
   "metadata": {},
   "outputs": [
    {
     "data": {
      "text/plain": [
       "<generator object <genexpr> at 0x7fa488723990>"
      ]
     },
     "execution_count": 154,
     "metadata": {},
     "output_type": "execute_result"
    }
   ],
   "source": [
    "nums_squared_gc"
   ]
  },
  {
   "cell_type": "code",
   "execution_count": 155,
   "metadata": {},
   "outputs": [
    {
     "data": {
      "text/plain": [
       "0"
      ]
     },
     "execution_count": 155,
     "metadata": {},
     "output_type": "execute_result"
    }
   ],
   "source": [
    "# Llamamos a next() para obtener los primeros valores de la secuencia\n",
    "next(nums_squared_gc)"
   ]
  },
  {
   "cell_type": "code",
   "execution_count": 156,
   "metadata": {},
   "outputs": [
    {
     "data": {
      "text/plain": [
       "1"
      ]
     },
     "execution_count": 156,
     "metadata": {},
     "output_type": "execute_result"
    }
   ],
   "source": [
    "next(nums_squared_gc)"
   ]
  },
  {
   "cell_type": "code",
   "execution_count": 157,
   "metadata": {},
   "outputs": [
    {
     "data": {
      "text/plain": [
       "4"
      ]
     },
     "execution_count": 157,
     "metadata": {},
     "output_type": "execute_result"
    }
   ],
   "source": [
    "next(nums_squared_gc)"
   ]
  },
  {
   "cell_type": "code",
   "execution_count": 158,
   "metadata": {},
   "outputs": [
    {
     "data": {
      "text/plain": [
       "9"
      ]
     },
     "execution_count": 158,
     "metadata": {},
     "output_type": "execute_result"
    }
   ],
   "source": [
    "next(nums_squared_gc)"
   ]
  },
  {
   "cell_type": "markdown",
   "metadata": {},
   "source": [
    "### Practica 5\n",
    "- Vamos a crear una función generadora con yield para generar los cuadrados de los números en un bucle infinito hasta que se alcanza un cuadrado mayor que 100"
   ]
  },
  {
   "cell_type": "code",
   "execution_count": 161,
   "metadata": {},
   "outputs": [
    {
     "name": "stdout",
     "output_type": "stream",
     "text": [
      "1\n",
      "4\n",
      "9\n",
      "16\n",
      "25\n",
      "36\n",
      "49\n",
      "64\n",
      "81\n",
      "100\n"
     ]
    }
   ],
   "source": [
    "# Definimos una función generadora llamada 'nextSquare'\n",
    "def nextSquare(): \n",
    "    i = 1\n",
    "  \n",
    "    # Iniciamos un bucle infinito\n",
    "    while True: \n",
    "        # Usamos 'yield' para generar el cuadrado de 'i' en cada iteración\n",
    "        yield i*i                 \n",
    "        i += 1 \n",
    "\n",
    "# Creamos un bucle 'for' que itera sobre los valores generados por la función generadora\n",
    "for num in nextSquare(): \n",
    "    if num > 100: \n",
    "        break  # Salimos del bucle si el cuadrado es mayor que 100\n",
    "    print(num)  # Imprimimos el cuadrado en cada iteración"
   ]
  },
  {
   "cell_type": "markdown",
   "metadata": {},
   "source": [
    "- Este código procesa un archivo CSV ('techcrunch.csv') que contiene datos de financiamiento de empresas.\n",
    "- Utiliza generadores para analizar el archivo eficientemente.\n",
    "- Primero, extrae las columnas del archivo y luego suma el financiamiento total para las rondas de financiamiento 'a'.\""
   ]
  },
  {
   "cell_type": "code",
   "execution_count": 164,
   "metadata": {},
   "outputs": [
    {
     "name": "stdout",
     "output_type": "stream",
     "text": [
      "lines: <generator object <genexpr> at 0x7fa488471690>\n",
      "list_line: <generator object <genexpr> at 0x7fa488471460>\n",
      "cols ['permalink', 'company', 'numEmps', 'category', 'city', 'state', 'fundedDate', 'raisedAmt', 'raisedCurrency', 'round']\n",
      "company_dicts: <generator object <genexpr> at 0x7fa488472810>\n",
      "funding: <generator object <genexpr> at 0x7fa4884728f0>\n",
      "total_series_a: 4376015000\n",
      "Suma total de fondos para rondas 'a': 4376015000\n"
     ]
    }
   ],
   "source": [
    "# Nombre del archivo CSV\n",
    "file_name = \"techcrunch.csv\"\n",
    "\n",
    "# Abrimos el archivo y creamos un generador 'lines' para las líneas del archivo\n",
    "lines = (line for line in open(file_name))\n",
    "print(\"lines:\", lines)\n",
    "\n",
    "# Creamos un generador 'list_line' que divide cada línea en una lista de valores separados por comas\n",
    "list_line = (s.rstrip().split(\",\") for s in lines)\n",
    "print(\"list_line:\", list_line)\n",
    "\n",
    "# Obtenemos los nombres de las columnas de la primera línea del archivo CSV\n",
    "cols = next(list_line)\n",
    "print(\"cols\", cols)\n",
    "\n",
    "# Creamos un generador 'company_dicts' que convierte cada línea en un diccionario con las columnas como claves\n",
    "company_dicts = (dict(zip(cols, data)) for data in list_line)\n",
    "print(\"company_dicts:\", company_dicts)\n",
    "\n",
    "# Creamos un generador 'funding' que extrae el valor de 'raisedAmt' como un entero para las filas donde 'round' es 'a'\n",
    "funding = (int(company_dict[\"raisedAmt\"]) for company_dict in company_dicts if company_dict[\"round\"] == \"a\")\n",
    "print(\"funding:\", funding)\n",
    "\n",
    "# Calculamos la suma total de 'raisedAmt' para las rondas 'a'\n",
    "total_series_a = sum(funding)\n",
    "print(\"total_series_a:\", total_series_a)\n",
    "\n",
    "# Imprimimos el resultado, que es la suma total de fondos para rondas 'a'\n",
    "\n",
    "print(\"Suma total de fondos para rondas 'a':\", total_series_a)"
   ]
  },
  {
   "cell_type": "markdown",
   "metadata": {},
   "source": [
    "## DECORATORS"
   ]
  },
  {
   "cell_type": "code",
   "execution_count": 165,
   "metadata": {},
   "outputs": [],
   "source": [
    "#referencia https://realpython.com/primer-on-python-decorators/"
   ]
  },
  {
   "cell_type": "markdown",
   "metadata": {},
   "source": [
    "Los decoradores son funciones especiales que se utilizan para extender o modificar el comportamiento de otras funciones en Python"
   ]
  },
  {
   "cell_type": "code",
   "execution_count": 166,
   "metadata": {},
   "outputs": [
    {
     "data": {
      "text/plain": [
       "3"
      ]
     },
     "execution_count": 166,
     "metadata": {},
     "output_type": "execute_result"
    }
   ],
   "source": [
    "# Definimos una función llamada 'add_one' que toma un número como argumento.\n",
    "# La función devuelve el número aumentado en 1.\n",
    "def add_one(number):\n",
    "    return number + 1\n",
    "\n",
    "# Llamamos a la función 'add_one' con el argumento 2.\n",
    "# El resultado será 2 + 1, que es igual a 3.\n",
    "add_one(2)"
   ]
  },
  {
   "cell_type": "code",
   "execution_count": 167,
   "metadata": {},
   "outputs": [],
   "source": [
    "# Definimos un decorador llamado 'my_decorator'.\n",
    "# El decorador toma una función 'func' como argumento y devuelve una función 'wrapper'.\n",
    "def my_decorator(func):\n",
    "    # Definimos la función 'wrapper', que actúa como un envoltorio alrededor de 'func'.\n",
    "    def wrapper():\n",
    "        print(\"Something is happening before the function is called.\")\n",
    "        func()  # Llamamos a 'func' dentro de 'wrapper'.\n",
    "        print(\"Something is happening after the function is called.\")\n",
    "    # Devolvemos la función 'wrapper' como resultado del decorador.\n",
    "    return wrapper\n",
    "    \n",
    "# Aplicamos el decorador '@my_decorator' a la función 'say_whee'.\n",
    "# Esto significa que 'say_whee' se ejecutará dentro del contexto de 'my_decorator'.\n",
    "@my_decorator\n",
    "def say_whee_decorated():\n",
    "    print(\"Whee!\")"
   ]
  },
  {
   "cell_type": "code",
   "execution_count": 168,
   "metadata": {},
   "outputs": [
    {
     "name": "stdout",
     "output_type": "stream",
     "text": [
      "Something is happening before the function is called.\n",
      "Whee!\n",
      "Something is happening after the function is called.\n"
     ]
    }
   ],
   "source": [
    "say_whee_decorated()"
   ]
  },
  {
   "cell_type": "code",
   "execution_count": 169,
   "metadata": {},
   "outputs": [],
   "source": [
    "# Definimos un decorador llamado 'do_twice'.\n",
    "# El decorador toma una función 'func' como argumento.\n",
    "def do_twice(func):\n",
    "    # Definimos una función 'wrapper_do_twice'.\n",
    "    # Esta función ejecuta 'func' dos veces.\n",
    "    def wrapper_do_twice():\n",
    "        func()  # Ejecutamos 'func' la primera vez.\n",
    "        func()  # Ejecutamos 'func' la segunda vez.\n",
    "    # Devolvemos la función 'wrapper_do_twice' como resultado del decorador.\n",
    "    return wrapper_do_twice"
   ]
  },
  {
   "cell_type": "code",
   "execution_count": 170,
   "metadata": {},
   "outputs": [],
   "source": [
    "# Definimos una función llamada 'say_whee2'.\n",
    "@do_twice  # Aplicamos el decorador 'do_twice' a 'say_whee2'.\n",
    "def say_whee2():\n",
    "    print(\"Whee!\")"
   ]
  },
  {
   "cell_type": "code",
   "execution_count": 171,
   "metadata": {},
   "outputs": [
    {
     "name": "stdout",
     "output_type": "stream",
     "text": [
      "Whee!\n",
      "Whee!\n"
     ]
    }
   ],
   "source": [
    "say_whee2()"
   ]
  },
  {
   "cell_type": "code",
   "execution_count": 172,
   "metadata": {},
   "outputs": [],
   "source": [
    "# Definimos un decorador llamado 'do_twice2'.\n",
    "# El decorador toma una función 'func' como argumento y la ejecuta dos veces con los mismos argumentos.\n",
    "def do_twice2(func):\n",
    "    # Definimos una función 'wrapper_do_twice' que acepta cualquier número de argumentos posicionales (*args) y argumentos de palabras clave (**kwargs).\n",
    "    # Esta función ejecuta 'func' dos veces con los mismos argumentos.\n",
    "    def wrapper_do_twice(*args, **kwargs):\n",
    "        func(*args, **kwargs)  # Ejecutamos 'func' la primera vez con los mismos argumentos.\n",
    "        func(*args, **kwargs)  # Ejecutamos 'func' la segunda vez con los mismos argumentos.\n",
    "    # Devolvemos la función 'wrapper_do_twice' como resultado del decorador.\n",
    "    return wrapper_do_twice"
   ]
  },
  {
   "cell_type": "code",
   "execution_count": 173,
   "metadata": {},
   "outputs": [
    {
     "name": "stdout",
     "output_type": "stream",
     "text": [
      "Hello Serge\n",
      "Hello Serge\n"
     ]
    }
   ],
   "source": [
    "# Cuando ejecutamos la función greet(\"Serge\") \n",
    "@do_twice2 # que está decorada con @do_twice2. \n",
    "def greet(name):\n",
    "    print(\"Hello {}\".format(name))\n",
    "# La función greet se ejecuta dos veces con el mismo argumento \"Serge\".\n",
    "greet(\"Serge\")"
   ]
  },
  {
   "cell_type": "code",
   "execution_count": 174,
   "metadata": {},
   "outputs": [],
   "source": [
    "# Importamos los módulos functools y time. \n",
    "# El módulo functools se utiliza para trabajar con funciones y objetos relacionados con funciones en Python\n",
    "import functools\n",
    "import time\n",
    "\n",
    "# Definimos un decorador llamado 'slow_down'.\n",
    "# El decorador agrega un retraso de 1 segundo antes de llamar a la función decorada.\n",
    "def slow_down(func):\n",
    "    # Usamos functools.wraps para preservar la información de la función original.\n",
    "    @functools.wraps(func)\n",
    "    def wrapper_slow_down(*args, **kwargs):\n",
    "        time.sleep(1)  # Agregamos un retraso de 1 segundo.\n",
    "        return func(*args, **kwargs)  # Llamamos a la función decorada.\n",
    "    # Devolvemos la función 'wrapper_slow_down' como resultado del decorador.\n",
    "    return wrapper_slow_down\n",
    "\n",
    "# Definimos una función llamada 'countdown' que cuenta hacia atrás desde un número dado.\n",
    "@slow_down  # Aplicamos el decorador 'slow_down' a 'countdown'.\n",
    "def countdown(from_number):\n",
    "    if from_number < 1:\n",
    "        print(\"Liftoff!\")\n",
    "    else:\n",
    "        print(from_number)\n",
    "        countdown(from_number - 1)"
   ]
  },
  {
   "cell_type": "code",
   "execution_count": 175,
   "metadata": {},
   "outputs": [
    {
     "name": "stdout",
     "output_type": "stream",
     "text": [
      "10\n",
      "9\n",
      "8\n",
      "7\n",
      "6\n",
      "5\n",
      "4\n",
      "3\n",
      "2\n",
      "1\n",
      "Liftoff!\n"
     ]
    }
   ],
   "source": [
    "countdown(10)"
   ]
  },
  {
   "cell_type": "code",
   "execution_count": 176,
   "metadata": {},
   "outputs": [
    {
     "name": "stdout",
     "output_type": "stream",
     "text": [
      "##############################\n",
      "FLASH!\n",
      "##############################\n"
     ]
    }
   ],
   "source": [
    "#PRACTICA\n",
    "#Crear un decorador que imprime # 30 veces antes y despues de un texto\n",
    "def hasher(func):\n",
    "    def inner(*args, **kwargs):\n",
    "        print(\"#\" * 30)\n",
    "        func(*args, **kwargs)\n",
    "        print(\"#\" * 30)\n",
    "    return inner\n",
    "\n",
    "@hasher\n",
    "def printer(msg):\n",
    "    print(msg)\n",
    "printer(\"FLASH!\")"
   ]
  },
  {
   "cell_type": "code",
   "execution_count": null,
   "metadata": {},
   "outputs": [],
   "source": []
  }
 ],
 "metadata": {
  "kernelspec": {
   "display_name": "Python 3 (ipykernel)",
   "language": "python",
   "name": "python3"
  },
  "language_info": {
   "codemirror_mode": {
    "name": "ipython",
    "version": 3
   },
   "file_extension": ".py",
   "mimetype": "text/x-python",
   "name": "python",
   "nbconvert_exporter": "python",
   "pygments_lexer": "ipython3",
   "version": "3.10.12"
  }
 },
 "nbformat": 4,
 "nbformat_minor": 4
}
