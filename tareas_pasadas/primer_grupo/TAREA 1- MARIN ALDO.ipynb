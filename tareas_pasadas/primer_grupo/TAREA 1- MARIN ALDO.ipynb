{
 "cells": [
  {
   "cell_type": "markdown",
   "id": "1fd98180-981c-4e6a-96b7-1751d614e8f8",
   "metadata": {},
   "source": [
    "# TAREA 1"
   ]
  },
  {
   "cell_type": "markdown",
   "id": "f88181c1-8a88-458e-af28-b78f3bda77e5",
   "metadata": {},
   "source": [
    "## EJERCICIOS\n"
   ]
  },
  {
   "cell_type": "markdown",
   "id": "c20cb7ab-63ce-432d-89e8-b879665a0991",
   "metadata": {},
   "source": [
    "### Nº 1. Calcular el tamaño de la cadena \"Esta es una cadena\" sin usar la función len. "
   ]
  },
  {
   "cell_type": "code",
   "execution_count": 47,
   "id": "9d653a12-b4fe-4db8-b820-2bfb037aa427",
   "metadata": {},
   "outputs": [
    {
     "name": "stdout",
     "output_type": "stream",
     "text": [
      "El tamaño de la cadena es: 18\n"
     ]
    }
   ],
   "source": [
    "cadena = \"Esta es una cadena\"\n",
    "tamanio = 0\n",
    "\n",
    "for _ in cadena:\n",
    "    tamanio += 1\n",
    "\n",
    "print(\"El tamaño de la cadena es:\", tamanio)"
   ]
  },
  {
   "cell_type": "markdown",
   "id": "d2cee3c6-6f40-4e47-8793-e9e65664e76c",
   "metadata": {},
   "source": [
    "### Nº 2.Contar el número de caracteres en la cadena trabajando.pe. "
   ]
  },
  {
   "cell_type": "code",
   "execution_count": 49,
   "id": "0d8ff130-d3de-455c-adda-8be2282e299c",
   "metadata": {},
   "outputs": [
    {
     "name": "stdout",
     "output_type": "stream",
     "text": [
      "El número de caracteres en la cadena es: 13\n"
     ]
    }
   ],
   "source": [
    "cadena = \"trabajando.pe\"\n",
    "tamanio = 0\n",
    "\n",
    "for _ in cadena:\n",
    "    tamanio += 1\n",
    "  \n",
    "print(\"El número de caracteres en la cadena es:\", tamanio)"
   ]
  },
  {
   "cell_type": "markdown",
   "id": "6ab47de5-9f69-4e70-a5c2-c99be876ef12",
   "metadata": {},
   "source": [
    "### 3.Eliminar duplicados de la lista ['a', 'b', 'c', 'a', 'c', 'c']. "
   ]
  },
  {
   "cell_type": "code",
   "execution_count": 50,
   "id": "c5104816-5532-450c-a720-3252a5ea392c",
   "metadata": {},
   "outputs": [
    {
     "name": "stdout",
     "output_type": "stream",
     "text": [
      "Lista original: ['a', 'b', 'c', 'a', 'c', 'c']\n",
      "Lista sin duplicados: ['a', 'b', 'c']\n"
     ]
    }
   ],
   "source": [
    "lista = ['a', 'b', 'c', 'a', 'c', 'c']\n",
    "lista_sin_duplicados = list(set(lista))\n",
    "\n",
    "print(\"Lista original:\", lista)\n",
    "print(\"Lista sin duplicados:\", lista_sin_duplicados)\n",
    "\n"
   ]
  },
  {
   "cell_type": "markdown",
   "id": "f66c6a58-2ff2-45e5-8303-82d387cc4a76",
   "metadata": {},
   "source": [
    "### 4.Imprimir el patrón siguiente, usando bucles: \n"
   ]
  },
  {
   "cell_type": "code",
   "execution_count": 57,
   "id": "9bda0b38-7a01-4d2a-9501-768955cd0d72",
   "metadata": {},
   "outputs": [
    {
     "name": "stdout",
     "output_type": "stream",
     "text": [
      "1\n",
      "2\n",
      "3\n",
      "4\n",
      "5\n",
      "4\n",
      "3\n",
      "2\n",
      "1\n"
     ]
    }
   ],
   "source": [
    "# Cadena de números\n",
    "cadena_numerica = \"123454321\"\n",
    "\n",
    "# Bucle for para imprimir cada dígito\n",
    "for digito in cadena_numerica:\n",
    "    print(int(digito))\n"
   ]
  },
  {
   "cell_type": "markdown",
   "id": "9f44d888-d8fc-4d75-bfa0-33982fba9e37",
   "metadata": {},
   "source": [
    "\n",
    "### 5.Escribir una función para determinar si un número es primo o no. "
   ]
  },
  {
   "cell_type": "code",
   "execution_count": 63,
   "id": "a756f22d-0efe-4f3a-9afc-eb146b1e12ac",
   "metadata": {},
   "outputs": [
    {
     "name": "stdout",
     "output_type": "stream",
     "text": [
      "2 es un número primo.\n",
      "18 no es un número primo.\n"
     ]
    }
   ],
   "source": [
    "def es_primo(numero):\n",
    "    if numero <= 1:\n",
    "        return False\n",
    "    for i in range(2, numero):\n",
    "        if numero % i == 0:\n",
    "            return False\n",
    "    return True\n",
    "\n",
    "# Ejemplos de uso\n",
    "numero1 = 2\n",
    "numero2 = 18\n",
    "\n",
    "if es_primo(numero1):\n",
    "    print(f\"{numero1} es un número primo.\")\n",
    "else:\n",
    "    print(f\"{numero1} no es un número primo.\")\n",
    "\n",
    "if es_primo(numero2):\n",
    "    print(f\"{numero2} es un número primo.\")\n",
    "else:\n",
    "    print(f\"{numero2} no es un número primo.\")\n"
   ]
  },
  {
   "cell_type": "code",
   "execution_count": null,
   "id": "b4168a01-2156-4160-9269-b16c8d0fa502",
   "metadata": {},
   "outputs": [],
   "source": []
  }
 ],
 "metadata": {
  "kernelspec": {
   "display_name": "Python 3 (ipykernel)",
   "language": "python",
   "name": "python3"
  },
  "language_info": {
   "codemirror_mode": {
    "name": "ipython",
    "version": 3
   },
   "file_extension": ".py",
   "mimetype": "text/x-python",
   "name": "python",
   "nbconvert_exporter": "python",
   "pygments_lexer": "ipython3",
   "version": "3.10.12"
  }
 },
 "nbformat": 4,
 "nbformat_minor": 5
}
