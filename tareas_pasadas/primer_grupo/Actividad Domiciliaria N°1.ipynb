{
 "cells": [
  {
   "cell_type": "markdown",
   "id": "4d591026",
   "metadata": {},
   "source": [
    "# Actividad Domiciliaria"
   ]
  },
  {
   "cell_type": "markdown",
   "id": "04010d48",
   "metadata": {},
   "source": [
    "\n",
    "1. Calcular el tamaño de la cadena \"Esta es una cadena\" sin usar la función len.\n"
   ]
  },
  {
   "cell_type": "code",
   "execution_count": 12,
   "id": "d804db3e",
   "metadata": {},
   "outputs": [],
   "source": [
    "\n",
    "\"\"\" SOL:\n",
    "---------------------------------------------------------------------------------------------\n",
    "  Es necesario definir que tamaño es longitud de una cadena para ello usaremos un contador\n",
    "\"\"\"\n",
    "\n",
    "def longitud(valor):#creamos la función longitud con el parámetro valor\n",
    "    contador = 0\n",
    "    while True:\n",
    "        try:\n",
    "            valor[contador]#ejecutará el bloque de código mientras la condición sea verdadera\n",
    "            contador += 1\n",
    "        except IndexError:\n",
    "            break\n",
    "    return contador#utilizamos return para devolver el valor\n",
    "\n"
   ]
  },
  {
   "cell_type": "code",
   "execution_count": 13,
   "id": "242ff8c5",
   "metadata": {},
   "outputs": [
    {
     "name": "stdout",
     "output_type": "stream",
     "text": [
      "Longitud de la cadena: 18\n"
     ]
    }
   ],
   "source": [
    "# Ponemos a prueba la función creada (Solución)\n",
    "cadena = \"Esta es una cadena\"\n",
    "print(\"Longitud de la cadena:\", longitud(cadena))"
   ]
  },
  {
   "cell_type": "markdown",
   "id": "b97408fa",
   "metadata": {},
   "source": [
    "2. Contar el número de caracteres en la cadena trabajando.pe."
   ]
  },
  {
   "cell_type": "code",
   "execution_count": 14,
   "id": "41a88ecc",
   "metadata": {},
   "outputs": [],
   "source": [
    "\"\"\" SOL:\n",
    "---------------------------------------------------------------------------------------------\n",
    "  Podemos usar la funciòn predefinida len, pero antes definimos la cadena\n",
    "\"\"\"\n",
    "\n",
    "cadena = \"trabajando.pe\"\n",
    "total_caracteres = len(cadena)\n"
   ]
  },
  {
   "cell_type": "code",
   "execution_count": 15,
   "id": "2538f601",
   "metadata": {},
   "outputs": [
    {
     "name": "stdout",
     "output_type": "stream",
     "text": [
      "13\n"
     ]
    }
   ],
   "source": [
    "print (total_caracteres)"
   ]
  },
  {
   "cell_type": "markdown",
   "id": "7fe56625",
   "metadata": {},
   "source": [
    "3. Eliminar duplicados de la lista ['a', 'b', 'c', 'a', 'c', 'c']."
   ]
  },
  {
   "cell_type": "code",
   "execution_count": 16,
   "id": "057b7fc4",
   "metadata": {},
   "outputs": [],
   "source": [
    "a=['a', 'b', 'c', 'a', 'c', 'c']"
   ]
  },
  {
   "cell_type": "code",
   "execution_count": 17,
   "id": "4e0fafa2",
   "metadata": {},
   "outputs": [
    {
     "data": {
      "text/plain": [
       "['b', 'c', 'a']"
      ]
     },
     "execution_count": 17,
     "metadata": {},
     "output_type": "execute_result"
    }
   ],
   "source": [
    "list(set(a)) #esta función nos permite simplificar en términos únicos\n",
    "#si solamente dejamos como set(a) quedaría en llaves, y si necesitamos ordenar podemos utilizar la función sort"
   ]
  },
  {
   "cell_type": "markdown",
   "id": "14a72d6d",
   "metadata": {},
   "source": [
    "4. Imprimir un patrón de asteríscos cuya vértice se encuentra al lado derecho formado por 5 asteríscos"
   ]
  },
  {
   "cell_type": "code",
   "execution_count": 41,
   "id": "ae1d17e0",
   "metadata": {},
   "outputs": [
    {
     "name": "stdout",
     "output_type": "stream",
     "text": [
      "\n",
      "*\n",
      "**\n",
      "***\n",
      "****\n",
      "*****\n",
      "****\n",
      "***\n",
      "**\n",
      "*\n"
     ]
    }
   ],
   "source": [
    "\"\"\" SOL:\n",
    "---------------------------------------------------------------------------------------------\n",
    "  Creamos un bucle con while donde se comprueba la condición hasta que se vuelva falsa. \n",
    "  Si es verdad entonces entrar al bucle e imprime el patrón\n",
    "\"\"\"\n",
    "#Cantidad de asteríscos en el vértice\n",
    "num_asteríscos= 5\n",
    "\n",
    "for i in range(num_asteríscos):#Creamos dos contadores\n",
    "    for j in range(i):\n",
    "        print(\"*\", end=\"\")\n",
    "    print()\n",
    "    \n",
    "for i in range(num_asteríscos, 0, -1):\n",
    "    for j in range(0, i):\n",
    "        print(\"*\", end=\"\")\n",
    "    print()"
   ]
  },
  {
   "cell_type": "markdown",
   "id": "f4abde61",
   "metadata": {},
   "source": [
    "5. Escribir una función para determinar si un número es primo o no."
   ]
  },
  {
   "cell_type": "code",
   "execution_count": 56,
   "id": "077b9335",
   "metadata": {},
   "outputs": [
    {
     "name": "stdout",
     "output_type": "stream",
     "text": [
      "El número en consulta NO ES PRIMO\n"
     ]
    }
   ],
   "source": [
    "\"\"\" SOL:\n",
    "---------------------------------------------------------------------------------------------\n",
    "  Creamos una función estableciendo condicionales\n",
    "\"\"\"\n",
    "\n",
    "def primo(numero):\n",
    "    if numero == 0 or numero == 1 or numero == 4:#Excepciones del 0 y el 1, mientras que 4 es porque estamos generando de dos en dos\n",
    "        return False\n",
    "    for x in range(2, int(numero/2)):\n",
    "        if numero % x == 0:\n",
    "            return False\n",
    "    return True\n",
    "\n",
    "# Probar\n",
    "numero = 46888888 #aquí colocamos el número en consulta\n",
    "es_primo = primo(numero)\n",
    "if es_primo:\n",
    "\tprint(\"El número en consulta es PRIMO\")\n",
    "else:\n",
    "\tprint(\"El número en consulta NO ES PRIMO\")"
   ]
  },
  {
   "cell_type": "code",
   "execution_count": null,
   "id": "b1dd9fc3",
   "metadata": {},
   "outputs": [],
   "source": []
  }
 ],
 "metadata": {
  "kernelspec": {
   "display_name": "Python 3 (ipykernel)",
   "language": "python",
   "name": "python3"
  },
  "language_info": {
   "codemirror_mode": {
    "name": "ipython",
    "version": 3
   },
   "file_extension": ".py",
   "mimetype": "text/x-python",
   "name": "python",
   "nbconvert_exporter": "python",
   "pygments_lexer": "ipython3",
   "version": "3.10.12"
  }
 },
 "nbformat": 4,
 "nbformat_minor": 5
}
