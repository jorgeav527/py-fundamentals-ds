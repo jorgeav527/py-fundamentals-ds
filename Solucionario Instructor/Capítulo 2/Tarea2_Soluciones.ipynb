{
 "cells": [
  {
   "cell_type": "code",
   "execution_count": 11,
   "metadata": {},
   "outputs": [],
   "source": [
    "#1. OOP - Crear una clase llamada círculo\n",
    "#definir un radio de iniciación\n",
    "#definir 2 metodos\n",
    "#metodoA calcular area\n",
    "#metodoB calcular perimetro\n",
    "#crear un objeto círculo y pasar un radio, mostrar área y perimetro\n",
    "import math\n",
    "\n",
    "class circle:\n",
    "    def __init__(self, radius):\n",
    "        self.radius = radius\n",
    "    \n",
    "    def area(self):\n",
    "        return (self.radius**2) * (math.pi) \n",
    "    \n",
    "    def perimeter(self):\n",
    "        return 2 * self.radius * math.pi "
   ]
  },
  {
   "cell_type": "code",
   "execution_count": 12,
   "metadata": {},
   "outputs": [
    {
     "name": "stdout",
     "output_type": "stream",
     "text": [
      "Area is 706.8583470577034\n",
      "Perimeter is 94.24777960769379\n"
     ]
    }
   ],
   "source": [
    "circ1 = circle(15)\n",
    "print('Area is {}'.format(circ1.area()))\n",
    "print('Perimeter is {}'.format(circ1.perimeter()))"
   ]
  },
  {
   "cell_type": "code",
   "execution_count": 13,
   "metadata": {},
   "outputs": [],
   "source": [
    "#2 ERRORES - Python usa tipos de errores predefinidos. \n",
    "#Uno de ellos es ZeroDivisionError. \n",
    "#Hacer uso de este tipo de error para implementar \n",
    "#una rutina de manejo de divisiones en general y reconocer la división por cero.\n",
    "def divzero(num, den):\n",
    "    try:\n",
    "        num/den\n",
    "        return num/den\n",
    "    except ZeroDivisionError as ZeroEr:\n",
    "        return ZeroEr"
   ]
  },
  {
   "cell_type": "code",
   "execution_count": 15,
   "metadata": {},
   "outputs": [
    {
     "data": {
      "text/plain": [
       "1.5"
      ]
     },
     "execution_count": 15,
     "metadata": {},
     "output_type": "execute_result"
    }
   ],
   "source": [
    "divzero(6, 4)"
   ]
  },
  {
   "cell_type": "code",
   "execution_count": 16,
   "metadata": {},
   "outputs": [
    {
     "data": {
      "text/plain": [
       "ZeroDivisionError('division by zero')"
      ]
     },
     "execution_count": 16,
     "metadata": {},
     "output_type": "execute_result"
    }
   ],
   "source": [
    "divzero(9, 0)"
   ]
  },
  {
   "cell_type": "code",
   "execution_count": 38,
   "metadata": {},
   "outputs": [
    {
     "name": "stdout",
     "output_type": "stream",
     "text": [
      "set()\n"
     ]
    }
   ],
   "source": [
    "#3 LIST COMPREHENSION  - determinar si u nnumero es primo o no usando list comprehensions\n",
    "def isprime(x):\n",
    "    return {x for y in range(2, x) if x % y == 0}\n",
    "print(isprime(47))"
   ]
  },
  {
   "cell_type": "code",
   "execution_count": 39,
   "metadata": {},
   "outputs": [],
   "source": [
    "#4 LAMBDA - crear para la siguiente clase un sort basado en edad. \n",
    "#Crear 3 empleados e imprimir nombre de empleado en orden de edad\n",
    "class Employee:\n",
    "    def __init__(self, name, age):\n",
    "        self.name = name\n",
    "        self.age = age\n",
    "Alex = Employee('Alex', 20)\n",
    "Amanda = Employee('Amanda', 30)\n",
    "David = Employee('David', 15)\n",
    "L = [Alex, Amanda, David]"
   ]
  },
  {
   "cell_type": "code",
   "execution_count": 49,
   "metadata": {},
   "outputs": [
    {
     "name": "stdout",
     "output_type": "stream",
     "text": [
      "['David', 'Alex', 'Amanda']\n"
     ]
    }
   ],
   "source": [
    "L.sort(key=lambda x: x.age)\n",
    "print([res.name for res in L])"
   ]
  },
  {
   "cell_type": "code",
   "execution_count": 54,
   "metadata": {},
   "outputs": [
    {
     "name": "stdout",
     "output_type": "stream",
     "text": [
      "[0, 1, 1, 2, 3, 5, 8, 13, 21, 34]\n"
     ]
    }
   ],
   "source": [
    "#5 MAP/REDUCE - implementar la secuencia fibonacci usando map, reduce o filter - se puede usar en conjunto con lambda\n",
    "\n",
    "#CON MAP\n",
    "def fibonacci(count): \n",
    "    fib_list = [0, 1]\n",
    "    any(map(lambda _: fib_list.append(sum(fib_list[-2:])), range(2, count))) \n",
    "    return fib_list[:count]\n",
    "print(fibonacci(10)) "
   ]
  },
  {
   "cell_type": "code",
   "execution_count": 56,
   "metadata": {},
   "outputs": [
    {
     "name": "stdout",
     "output_type": "stream",
     "text": [
      "[0, 1, 1, 2, 3, 5, 8, 13, 21, 34]\n"
     ]
    }
   ],
   "source": [
    "#CON REDUCE\n",
    "from functools import reduce \n",
    "fib = lambda n: reduce(lambda x, _: x+[x[-1]+x[-2]], range(n-2), [0, 1]) \n",
    "print(fib(10)) "
   ]
  },
  {
   "cell_type": "code",
   "execution_count": 3,
   "metadata": {},
   "outputs": [
    {
     "name": "stdout",
     "output_type": "stream",
     "text": [
      "<b><i><u>hello world</u></i></b>\n"
     ]
    }
   ],
   "source": [
    "#6 decoradores\n",
    "#crear 3 decoradores que modifican una función print(\"hello world\") de la siguiente manera\n",
    "#make_bold retorna <b>+funcion+</b>\n",
    "#make_italic retorna <i>+funcion+</i>\n",
    "#make_underline retorna <u>+funcion+</u>\n",
    "\n",
    "def make_bold(fn):\n",
    "    def wrapped():\n",
    "        return \"<b>\" + fn() + \"</b>\"\n",
    "    return wrapped\n",
    "\n",
    "def make_italic(fn):\n",
    "    def wrapped():\n",
    "        return \"<i>\" + fn() + \"</i>\"\n",
    "    return wrapped\n",
    "\n",
    "def make_underline(fn):\n",
    "    def wrapped():\n",
    "        return \"<u>\" + fn() + \"</u>\"\n",
    "    return wrapped\n",
    "@make_bold\n",
    "@make_italic\n",
    "@make_underline\n",
    "def hello():\n",
    "    return \"hello world\"\n",
    "print(hello()) "
   ]
  },
  {
   "cell_type": "code",
   "execution_count": 2,
   "metadata": {},
   "outputs": [
    {
     "name": "stdin",
     "output_type": "stream",
     "text": [
      "Introduce radio:  5\n"
     ]
    },
    {
     "data": {
      "text/plain": [
       "'Área del círculo: 78.53981633974483'"
      ]
     },
     "metadata": {},
     "output_type": "display_data"
    },
    {
     "data": {
      "text/plain": [
       "'Perímetro del círculo: 31.41592653589793'"
      ]
     },
     "metadata": {},
     "output_type": "display_data"
    }
   ],
   "source": [
    "import math\n",
    "from IPython.display import display\n",
    "\n",
    "# Definir clase Circulo con dos métodos\n",
    "class Circulo:\n",
    "    def __init__(self, radio):\n",
    "        self.radio = radio\n",
    "\n",
    "    def calc_area(self):\n",
    "        area = math.pi * (self.radio ** 2)\n",
    "        return area\n",
    "\n",
    "    def calc_perimetro(self):\n",
    "        perimetro = 2 * math.pi * self.radio\n",
    "        return perimetro\n",
    "\n",
    "def get_input():\n",
    "    return float(input('Introduce radio: '))\n",
    "\n",
    "def main():\n",
    "    radio = get_input()\n",
    "\n",
    "    circulo1 = Circulo(radio)\n",
    "\n",
    "    area_circulo = circulo1.calc_area()\n",
    "    perimetro_circulo = circulo1.calc_perimetro()\n",
    "\n",
    "    display(f\"Área del círculo: {area_circulo}\")\n",
    "    display(f\"Perímetro del círculo: {perimetro_circulo}\")\n",
    "\n",
    "main()"
   ]
  },
  {
   "cell_type": "code",
   "execution_count": null,
   "metadata": {},
   "outputs": [],
   "source": []
  }
 ],
 "metadata": {
  "kernelspec": {
   "display_name": "Python 3 (ipykernel)",
   "language": "python",
   "name": "python3"
  },
  "language_info": {
   "codemirror_mode": {
    "name": "ipython",
    "version": 3
   },
   "file_extension": ".py",
   "mimetype": "text/x-python",
   "name": "python",
   "nbconvert_exporter": "python",
   "pygments_lexer": "ipython3",
   "version": "3.10.12"
  }
 },
 "nbformat": 4,
 "nbformat_minor": 4
}
