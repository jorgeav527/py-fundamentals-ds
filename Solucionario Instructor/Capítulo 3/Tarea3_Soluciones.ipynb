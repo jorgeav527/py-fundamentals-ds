{
 "cells": [
  {
   "cell_type": "code",
   "execution_count": 29,
   "metadata": {},
   "outputs": [
    {
     "name": "stdout",
     "output_type": "stream",
     "text": [
      "26\n"
     ]
    }
   ],
   "source": [
    "#1. crear un programa que lee un archivo de texto y retorna el numero de palabras del mismo\n",
    "#usar dog_breeds.txt\n",
    "with open('dog_breeds.txt', 'r') as reader:\n",
    "    out = reader.read()\n",
    "splitter = out.split()\n",
    "print(len(splitter))"
   ]
  },
  {
   "cell_type": "code",
   "execution_count": 18,
   "metadata": {},
   "outputs": [
    {
     "name": "stdout",
     "output_type": "stream",
     "text": [
      "2020-01-18 14:30:06,159 INFO sqlalchemy.engine.base.Engine SELECT CAST('test plain returns' AS VARCHAR(60)) AS anon_1\n",
      "2020-01-18 14:30:06,160 INFO sqlalchemy.engine.base.Engine ()\n",
      "2020-01-18 14:30:06,162 INFO sqlalchemy.engine.base.Engine SELECT CAST('test unicode returns' AS VARCHAR(60)) AS anon_1\n",
      "2020-01-18 14:30:06,163 INFO sqlalchemy.engine.base.Engine ()\n",
      "2020-01-18 14:30:06,165 INFO sqlalchemy.engine.base.Engine PRAGMA main.table_info(\"empleados\")\n",
      "2020-01-18 14:30:06,166 INFO sqlalchemy.engine.base.Engine ()\n",
      "2020-01-18 14:30:06,167 INFO sqlalchemy.engine.base.Engine PRAGMA temp.table_info(\"empleados\")\n",
      "2020-01-18 14:30:06,168 INFO sqlalchemy.engine.base.Engine ()\n",
      "2020-01-18 14:30:06,170 INFO sqlalchemy.engine.base.Engine \n",
      "CREATE TABLE empleados (\n",
      "\tid INTEGER NOT NULL, \n",
      "\tnombre VARCHAR, \n",
      "\tapellidos VARCHAR, \n",
      "\tedad INTEGER, \n",
      "\tdni VARCHAR, \n",
      "\tPRIMARY KEY (id)\n",
      ")\n",
      "\n",
      "\n",
      "2020-01-18 14:30:06,171 INFO sqlalchemy.engine.base.Engine ()\n",
      "2020-01-18 14:30:06,173 INFO sqlalchemy.engine.base.Engine COMMIT\n",
      "2020-01-18 14:30:06,177 INFO sqlalchemy.engine.base.Engine BEGIN (implicit)\n",
      "2020-01-18 14:30:06,180 INFO sqlalchemy.engine.base.Engine INSERT INTO empleados (nombre, apellidos, edad, dni) VALUES (?, ?, ?, ?)\n",
      "2020-01-18 14:30:06,181 INFO sqlalchemy.engine.base.Engine ('Julio', 'Perez', 50, '56773221')\n",
      "2020-01-18 14:30:06,182 INFO sqlalchemy.engine.base.Engine INSERT INTO empleados (nombre, apellidos, edad, dni) VALUES (?, ?, ?, ?)\n",
      "2020-01-18 14:30:06,183 INFO sqlalchemy.engine.base.Engine ('Carmen', 'Maura', 30, '46173220')\n",
      "2020-01-18 14:30:06,185 INFO sqlalchemy.engine.base.Engine INSERT INTO empleados (nombre, apellidos, edad, dni) VALUES (?, ?, ?, ?)\n",
      "2020-01-18 14:30:06,186 INFO sqlalchemy.engine.base.Engine ('Pedro', 'Fuentes', 28, '66662211')\n",
      "2020-01-18 14:30:06,188 INFO sqlalchemy.engine.base.Engine COMMIT\n"
     ]
    }
   ],
   "source": [
    "#2 SQL\n",
    "#Usando sqlalchemy y sqlite hacer lo siguiente\n",
    "#usar sqlite en memoria\n",
    "#crear tabla empleado con datos personales - minimo nombre, apellidos, edad, DNI\n",
    "#insertar datos\n",
    "#hacer un select all\n",
    "import sqlalchemy\n",
    "#CONECTAR A BD\n",
    "from sqlalchemy import create_engine\n",
    "engine = create_engine('sqlite:///:memory:', echo=True)\n",
    "from sqlalchemy.ext.declarative import declarative_base\n",
    "Base = declarative_base()\n",
    "from sqlalchemy import Column, Integer, String\n",
    "class Empleado(Base):\n",
    "    __tablename__ = 'empleados'\n",
    "    id = Column(Integer, primary_key=True)\n",
    "    nombre = Column(String)\n",
    "    apellidos = Column(String)\n",
    "    edad = Column(Integer)\n",
    "    dni = Column(String)\n",
    "    def __repr__(self):\n",
    "        return \"<User(nombre='%s', apellido='%s', dni='%s')>\" % (self.nombre, self.apellidos, self.dni)\n",
    "#crear tablas\n",
    "Base.metadata.create_all(engine)\n",
    "#crear sesión\n",
    "from sqlalchemy.orm import sessionmaker\n",
    "Session = sessionmaker(bind=engine)\n",
    "session = Session()\n",
    "#ADD/UPDATE\n",
    "session.add_all([\n",
    "Empleado(nombre='Julio', apellidos='Perez', edad=50, dni='56773221'),\n",
    "Empleado(nombre='Carmen', apellidos='Maura', edad=30, dni='46173220'),\n",
    "Empleado(nombre='Pedro', apellidos='Fuentes', edad=28, dni='66662211'),    \n",
    "])\n",
    "#commit\n",
    "session.commit()"
   ]
  },
  {
   "cell_type": "code",
   "execution_count": 19,
   "metadata": {},
   "outputs": [
    {
     "name": "stdout",
     "output_type": "stream",
     "text": [
      "2020-01-18 14:31:40,824 INFO sqlalchemy.engine.base.Engine BEGIN (implicit)\n",
      "2020-01-18 14:31:40,826 INFO sqlalchemy.engine.base.Engine SELECT empleados.id AS empleados_id, empleados.nombre AS empleados_nombre, empleados.apellidos AS empleados_apellidos, empleados.edad AS empleados_edad, empleados.dni AS empleados_dni \n",
      "FROM empleados\n",
      "2020-01-18 14:31:40,828 INFO sqlalchemy.engine.base.Engine ()\n",
      "Julio Perez 50 56773221\n",
      "Carmen Maura 30 46173220\n",
      "Pedro Fuentes 28 66662211\n"
     ]
    }
   ],
   "source": [
    "#SELECT ALL\n",
    "#QUERIES\n",
    "for instance in session.query(Empleado):\n",
    "    print(instance.nombre, instance.apellidos, instance.edad, instance.dni)"
   ]
  },
  {
   "cell_type": "code",
   "execution_count": 12,
   "metadata": {},
   "outputs": [
    {
     "name": "stdout",
     "output_type": "stream",
     "text": [
      "200\n"
     ]
    }
   ],
   "source": [
    "#3 Convertir JSON a CSV\n",
    "#Usar el json https://jsonplaceholder.typicode.com/todos\n",
    "import csv\n",
    "import json\n",
    "import requests\n",
    "response = requests.get(\"https://jsonplaceholder.typicode.com/todos\")\n",
    "todos = json.loads(response.text)\n",
    "print(len(todos))\n",
    "#opcion 1\n",
    "x = todos\n",
    "f = csv.writer(open(\"sol4.csv\", \"w\"))\n",
    "#cabecera\n",
    "f.writerow([\"userid\", \"id\", \"title\", \"completed\"])\n",
    "for x in x:\n",
    "    f.writerow([x[\"userId\"],\n",
    "                x[\"id\"],\n",
    "                x[\"title\"],\n",
    "                x[\"completed\"]])"
   ]
  }
 ],
 "metadata": {
  "kernelspec": {
   "display_name": "Python 3",
   "language": "python",
   "name": "python3"
  },
  "language_info": {
   "codemirror_mode": {
    "name": "ipython",
    "version": 3
   },
   "file_extension": ".py",
   "mimetype": "text/x-python",
   "name": "python",
   "nbconvert_exporter": "python",
   "pygments_lexer": "ipython3",
   "version": "3.5.6"
  }
 },
 "nbformat": 4,
 "nbformat_minor": 2
}
