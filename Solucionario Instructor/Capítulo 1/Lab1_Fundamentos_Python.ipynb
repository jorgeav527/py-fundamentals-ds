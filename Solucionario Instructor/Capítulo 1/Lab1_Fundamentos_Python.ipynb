{
 "cells": [
  {
   "cell_type": "code",
   "execution_count": 6,
   "metadata": {},
   "outputs": [],
   "source": [
    "#Referencia https://learnxinyminutes.com/docs/python/"
   ]
  },
  {
   "cell_type": "markdown",
   "metadata": {},
   "source": [
    "## 1. Tipos  de datos y operadores"
   ]
  },
  {
   "cell_type": "code",
   "execution_count": 7,
   "metadata": {},
   "outputs": [
    {
     "name": "stdout",
     "output_type": "stream",
     "text": [
      "2\n",
      "7\n",
      "20\n",
      "7.0\n"
     ]
    }
   ],
   "source": [
    "# Operaciones\n",
    "print(1+1) \n",
    "print(8-1)  \n",
    "print(10*2)  \n",
    "print(35/5)  "
   ]
  },
  {
   "cell_type": "code",
   "execution_count": 8,
   "metadata": {},
   "outputs": [
    {
     "name": "stdout",
     "output_type": "stream",
     "text": [
      "2.75\n",
      "2.75\n"
     ]
    }
   ],
   "source": [
    "# División \n",
    "print(11/4) \n",
    "print(11.0/4.0)  "
   ]
  },
  {
   "cell_type": "code",
   "execution_count": 9,
   "metadata": {},
   "outputs": [
    {
     "name": "stdout",
     "output_type": "stream",
     "text": [
      "1\n",
      "1.0\n",
      "-2\n",
      "-2.0\n"
     ]
    }
   ],
   "source": [
    "# División con redondeo\n",
    "print(5//3) \n",
    "print(5.0//3.0) \n",
    "print(-5//3) \n",
    "print(-5.0//3.0)"
   ]
  },
  {
   "cell_type": "code",
   "execution_count": 10,
   "metadata": {},
   "outputs": [
    {
     "name": "stdout",
     "output_type": "stream",
     "text": [
      "1\n"
     ]
    }
   ],
   "source": [
    "# Modulo \n",
    "print(7%3)"
   ]
  },
  {
   "cell_type": "code",
   "execution_count": 11,
   "metadata": {},
   "outputs": [
    {
     "name": "stdout",
     "output_type": "stream",
     "text": [
      "16\n"
     ]
    }
   ],
   "source": [
    "# Exponentes\n",
    "print(2**4)"
   ]
  },
  {
   "cell_type": "code",
   "execution_count": 12,
   "metadata": {},
   "outputs": [
    {
     "name": "stdout",
     "output_type": "stream",
     "text": [
      "8\n"
     ]
    }
   ],
   "source": [
    "# PEMDAS\n",
    "print((1+3)*2)"
   ]
  },
  {
   "cell_type": "code",
   "execution_count": 13,
   "metadata": {},
   "outputs": [
    {
     "name": "stdout",
     "output_type": "stream",
     "text": [
      "False\n",
      "True\n"
     ]
    }
   ],
   "source": [
    "# Boolean\n",
    "print(True and False)\n",
    "print(False or True)  "
   ]
  },
  {
   "cell_type": "code",
   "execution_count": 14,
   "metadata": {},
   "outputs": [
    {
     "name": "stdout",
     "output_type": "stream",
     "text": [
      "True\n",
      "False\n",
      "True\n"
     ]
    }
   ],
   "source": [
    "print(0==False)  \n",
    "print(2==True)  \n",
    "print(1==True) "
   ]
  },
  {
   "cell_type": "code",
   "execution_count": 15,
   "metadata": {},
   "outputs": [
    {
     "name": "stdout",
     "output_type": "stream",
     "text": [
      "False\n",
      "True\n"
     ]
    }
   ],
   "source": [
    "# negación\n",
    "print(not True)\n",
    "print(not False)"
   ]
  },
  {
   "cell_type": "code",
   "execution_count": 16,
   "metadata": {},
   "outputs": [
    {
     "name": "stdout",
     "output_type": "stream",
     "text": [
      "True\n",
      "False\n"
     ]
    }
   ],
   "source": [
    "# Igualdad\n",
    "print(1==1) \n",
    "print(2==1)"
   ]
  },
  {
   "cell_type": "code",
   "execution_count": 17,
   "metadata": {},
   "outputs": [
    {
     "name": "stdout",
     "output_type": "stream",
     "text": [
      "False\n",
      "True\n"
     ]
    }
   ],
   "source": [
    "# Desigual\n",
    "print(1!=1) \n",
    "print(2!=1)"
   ]
  },
  {
   "cell_type": "code",
   "execution_count": 18,
   "metadata": {},
   "outputs": [
    {
     "name": "stdout",
     "output_type": "stream",
     "text": [
      "True\n",
      "False\n",
      "True\n",
      "True\n",
      "True\n",
      "False\n"
     ]
    }
   ],
   "source": [
    "# Comparaciones\n",
    "print(1<10)  \n",
    "print(1>10) \n",
    "print(2<=2) \n",
    "print(2>=2) \n",
    "print(1<2<3)  \n",
    "print(2<3<2) "
   ]
  },
  {
   "cell_type": "code",
   "execution_count": 19,
   "metadata": {},
   "outputs": [
    {
     "name": "stdout",
     "output_type": "stream",
     "text": [
      "This is a string.\n",
      "This is also a string.\n"
     ]
    }
   ],
   "source": [
    "# Cadenas\n",
    "print(\"This is a string.\")\n",
    "print('This is also a string.')"
   ]
  },
  {
   "cell_type": "code",
   "execution_count": 20,
   "metadata": {},
   "outputs": [
    {
     "name": "stdout",
     "output_type": "stream",
     "text": [
      "Hello world!\n",
      "Hello world!\n",
      "HelloHelloHello\n"
     ]
    }
   ],
   "source": [
    "# Operaciones con cadenas\n",
    "print(\"Hello \"+\"world!\")\n",
    "print(\"Hello \"\"world!\") \n",
    "print(\"Hello\"*3) "
   ]
  },
  {
   "cell_type": "code",
   "execution_count": 21,
   "metadata": {},
   "outputs": [
    {
     "name": "stdout",
     "output_type": "stream",
     "text": [
      "T\n"
     ]
    }
   ],
   "source": [
    "# indexación de cadena\n",
    "print(\"This is a string\"[0])"
   ]
  },
  {
   "cell_type": "code",
   "execution_count": 22,
   "metadata": {},
   "outputs": [
    {
     "name": "stdout",
     "output_type": "stream",
     "text": [
      "16\n"
     ]
    }
   ],
   "source": [
    "# tamaño\n",
    "print(len(\"This is a string\"))"
   ]
  },
  {
   "cell_type": "code",
   "execution_count": 23,
   "metadata": {},
   "outputs": [
    {
     "name": "stdout",
     "output_type": "stream",
     "text": [
      "The items in the basket are apple and lemon\n"
     ]
    }
   ],
   "source": [
    "# formateo con %\n",
    "x = 'apple'\n",
    "y = 'lemon'\n",
    "z = \"The items in the basket are %s and %s\" % (x, y)\n",
    "print(z)"
   ]
  },
  {
   "cell_type": "code",
   "execution_count": 24,
   "metadata": {},
   "outputs": [
    {
     "name": "stdout",
     "output_type": "stream",
     "text": [
      "This is a placeholder\n",
      "strings can be formatted\n",
      "Bob wants to eat lasagna\n"
     ]
    }
   ],
   "source": [
    "# formateo con format\n",
    "print(\"{} is a {}\".format(\"This\", \"placeholder\"))\n",
    "print(\"{0} can be {1}\".format(\"strings\", \"formatted\"))\n",
    "print(\"{name} wants to eat {food}\".format(name=\"Bob\", food=\"lasagna\"))"
   ]
  },
  {
   "cell_type": "code",
   "execution_count": 25,
   "metadata": {},
   "outputs": [
    {
     "name": "stdout",
     "output_type": "stream",
     "text": [
      "w3ce\n",
      "w3w3\n",
      "ww\n"
     ]
    }
   ],
   "source": [
    "#PRACTICA\n",
    "#1 De una cadena imprimir solo los 2 primeros y 2 últimos caracteres.\n",
    "cad = \"w3resource\"\n",
    "print(cad[:2]+cad[-2:])\n",
    "cad = \"w3\"\n",
    "print(cad[:2]+cad[-2:])\n",
    "cad = \"w\"\n",
    "print(cad[:2]+cad[-2:])"
   ]
  },
  {
   "cell_type": "code",
   "execution_count": 26,
   "metadata": {},
   "outputs": [
    {
     "name": "stdout",
     "output_type": "stream",
     "text": [
      "***************************\n",
      "27\n"
     ]
    }
   ],
   "source": [
    "#PRACTICA\n",
    "#2 de una cadena con cierto numero de asteriscos, crear una nueva cadena que ha sido elevada por el numero\n",
    "#EJ ** -> **** - 2 al cuadrado\n",
    "ast = \"***\"\n",
    "res = \"*\" * (len(ast) ** len(ast))\n",
    "print(res)\n",
    "print(len(res))"
   ]
  },
  {
   "cell_type": "markdown",
   "metadata": {},
   "source": [
    "## 2.Colecciones"
   ]
  },
  {
   "cell_type": "code",
   "execution_count": 27,
   "metadata": {},
   "outputs": [
    {
     "name": "stdout",
     "output_type": "stream",
     "text": [
      "<class 'str'>\n",
      "<class 'float'>\n",
      "<class 'int'>\n",
      "<class 'list'>\n"
     ]
    }
   ],
   "source": [
    "# tipos de datos\n",
    "print(type(\"texto\"))\n",
    "print(type(5.0))\n",
    "print(type(5))\n",
    "print(type([]))  "
   ]
  },
  {
   "cell_type": "code",
   "execution_count": 28,
   "metadata": {},
   "outputs": [],
   "source": [
    "# LISTAS\n",
    "li = []\n",
    "other_li = [4, 5, 6]"
   ]
  },
  {
   "cell_type": "code",
   "execution_count": 29,
   "metadata": {},
   "outputs": [
    {
     "name": "stdout",
     "output_type": "stream",
     "text": [
      "[1, 2, 4, 3]\n",
      "[1, 2, 4]\n",
      "[1, 2, 4, 3]\n"
     ]
    }
   ],
   "source": [
    "# operaciones de listas\n",
    "li.append(1)  \n",
    "li.append(2)  \n",
    "li.append(4)  \n",
    "li.append(3)\n",
    "print(li)\n",
    "li.pop()\n",
    "print(li)\n",
    "li.append(3)\n",
    "print(li)"
   ]
  },
  {
   "cell_type": "code",
   "execution_count": 30,
   "metadata": {},
   "outputs": [
    {
     "name": "stdout",
     "output_type": "stream",
     "text": [
      "1\n",
      "42\n",
      "1\n",
      "3\n"
     ]
    }
   ],
   "source": [
    "# Acceso a listas\n",
    "print(li[0]) \n",
    "# Asignar otros valores\n",
    "li[0] = 42\n",
    "print(li[0]) \n",
    "li[0] = 1\n",
    "print(li[0])\n",
    "# último elemento\n",
    "print(li[-1])  "
   ]
  },
  {
   "cell_type": "code",
   "execution_count": 31,
   "metadata": {},
   "outputs": [
    {
     "name": "stdout",
     "output_type": "stream",
     "text": [
      "[2, 4]\n",
      "[4, 3]\n",
      "[1, 2, 4]\n",
      "[1, 4]\n",
      "[3, 4, 2, 1]\n"
     ]
    }
   ],
   "source": [
    "# slice\n",
    "print(li[1:3]) \n",
    "# Omitir comienzo\n",
    "print(li[2:])\n",
    "# Omitir final\n",
    "print(li[:3])  \n",
    "# seleccionar cada segundo elemento\n",
    "print(li[::2]) \n",
    "# invertir la lista\n",
    "print(li[::-1])"
   ]
  },
  {
   "cell_type": "code",
   "execution_count": 32,
   "metadata": {},
   "outputs": [
    {
     "name": "stdout",
     "output_type": "stream",
     "text": [
      "True\n"
     ]
    }
   ],
   "source": [
    "# ver si un elemento existe\n",
    "print(1 in li)"
   ]
  },
  {
   "cell_type": "code",
   "execution_count": 33,
   "metadata": {},
   "outputs": [
    {
     "name": "stdout",
     "output_type": "stream",
     "text": [
      "4\n"
     ]
    }
   ],
   "source": [
    "# tamaño de lista\n",
    "print(len(li))"
   ]
  },
  {
   "cell_type": "code",
   "execution_count": 34,
   "metadata": {},
   "outputs": [
    {
     "name": "stdout",
     "output_type": "stream",
     "text": [
      "1\n"
     ]
    },
    {
     "ename": "TypeError",
     "evalue": "'tuple' object does not support item assignment",
     "output_type": "error",
     "traceback": [
      "\u001b[1;31m---------------------------------------------------------------------------\u001b[0m",
      "\u001b[1;31mTypeError\u001b[0m                                 Traceback (most recent call last)",
      "\u001b[1;32m<ipython-input-34-a90f56ffc8f1>\u001b[0m in \u001b[0;36m<module>\u001b[1;34m\u001b[0m\n\u001b[0;32m      2\u001b[0m \u001b[0mtup\u001b[0m \u001b[1;33m=\u001b[0m \u001b[1;33m(\u001b[0m\u001b[1;36m1\u001b[0m\u001b[1;33m,\u001b[0m \u001b[1;36m2\u001b[0m\u001b[1;33m,\u001b[0m \u001b[1;36m3\u001b[0m\u001b[1;33m)\u001b[0m\u001b[1;33m\u001b[0m\u001b[0m\n\u001b[0;32m      3\u001b[0m \u001b[0mprint\u001b[0m\u001b[1;33m(\u001b[0m\u001b[0mtup\u001b[0m\u001b[1;33m[\u001b[0m\u001b[1;36m0\u001b[0m\u001b[1;33m]\u001b[0m\u001b[1;33m)\u001b[0m\u001b[1;33m\u001b[0m\u001b[0m\n\u001b[1;32m----> 4\u001b[1;33m \u001b[0mtup\u001b[0m\u001b[1;33m[\u001b[0m\u001b[1;36m0\u001b[0m\u001b[1;33m]\u001b[0m \u001b[1;33m=\u001b[0m \u001b[1;36m3\u001b[0m\u001b[1;33m\u001b[0m\u001b[0m\n\u001b[0m",
      "\u001b[1;31mTypeError\u001b[0m: 'tuple' object does not support item assignment"
     ]
    }
   ],
   "source": [
    "# TUPLES\n",
    "tup = (1, 2, 3)\n",
    "print(tup[0])\n",
    "tup[0] = 3"
   ]
  },
  {
   "cell_type": "code",
   "execution_count": 35,
   "metadata": {},
   "outputs": [
    {
     "name": "stdout",
     "output_type": "stream",
     "text": [
      "3\n",
      "(1, 2, 3, 4, 5, 6)\n",
      "(1, 2)\n",
      "True\n"
     ]
    }
   ],
   "source": [
    "print(len(tup))\n",
    "print(tup+(4, 5, 6))\n",
    "print(tup[:2])\n",
    "print(2 in tup)"
   ]
  },
  {
   "cell_type": "code",
   "execution_count": 36,
   "metadata": {},
   "outputs": [
    {
     "name": "stdout",
     "output_type": "stream",
     "text": [
      "1\n",
      "4\n",
      "(4, 5, 6)\n",
      "5\n",
      "4\n"
     ]
    }
   ],
   "source": [
    "# unpack\n",
    "a, b, c = (1, 2, 3)  \n",
    "print(a)\n",
    "d, e, f = 4, 5, 6  \n",
    "print(d)\n",
    "g = 4, 5, 6  \n",
    "print(g)\n",
    "e, d = d, e  \n",
    "print(d)\n",
    "print(e)"
   ]
  },
  {
   "cell_type": "code",
   "execution_count": 37,
   "metadata": {},
   "outputs": [
    {
     "name": "stdout",
     "output_type": "stream",
     "text": [
      "{'two': 2, 'one': 1, 'three': 3}\n"
     ]
    }
   ],
   "source": [
    "# DICCIONARIOS\n",
    "empty_dict = {}\n",
    "filled_dict = {\"one\": 1, \"two\": 2, \"three\": 3}\n",
    "print(filled_dict)"
   ]
  },
  {
   "cell_type": "code",
   "execution_count": 38,
   "metadata": {},
   "outputs": [
    {
     "name": "stdout",
     "output_type": "stream",
     "text": [
      "1\n"
     ]
    }
   ],
   "source": [
    "# Look up values with []\n",
    "print(filled_dict[\"one\"])"
   ]
  },
  {
   "cell_type": "code",
   "execution_count": 39,
   "metadata": {},
   "outputs": [
    {
     "name": "stdout",
     "output_type": "stream",
     "text": [
      "dict_keys(['two', 'one', 'three'])\n"
     ]
    }
   ],
   "source": [
    "# obtener los identificadores\n",
    "print(filled_dict.keys())  "
   ]
  },
  {
   "cell_type": "code",
   "execution_count": 40,
   "metadata": {},
   "outputs": [
    {
     "name": "stdout",
     "output_type": "stream",
     "text": [
      "dict_values([2, 1, 3])\n"
     ]
    }
   ],
   "source": [
    "# obtener los valores\n",
    "print(filled_dict.values())"
   ]
  },
  {
   "cell_type": "code",
   "execution_count": 41,
   "metadata": {},
   "outputs": [
    {
     "name": "stdout",
     "output_type": "stream",
     "text": [
      "dict_items([('two', 2), ('one', 1), ('three', 3)])\n"
     ]
    }
   ],
   "source": [
    "#obtener todos los elementos\n",
    "print(filled_dict.items()) "
   ]
  },
  {
   "cell_type": "code",
   "execution_count": 42,
   "metadata": {},
   "outputs": [
    {
     "name": "stdout",
     "output_type": "stream",
     "text": [
      "dict_items([('two', 2), ('one', 1), ('three', 3), ('four', 4)])\n"
     ]
    }
   ],
   "source": [
    "# asignar valor\n",
    "filled_dict[\"four\"] = 4\n",
    "print(filled_dict.items()) "
   ]
  },
  {
   "cell_type": "code",
   "execution_count": 43,
   "metadata": {},
   "outputs": [
    {
     "name": "stdout",
     "output_type": "stream",
     "text": [
      "{1, 2, 3, 4}\n"
     ]
    }
   ],
   "source": [
    "#SETS\n",
    "empty_set = set()\n",
    "# inicializar\n",
    "some_set = set([1, 2, 2, 3, 4]) \n",
    "print(some_set)"
   ]
  },
  {
   "cell_type": "code",
   "execution_count": 44,
   "metadata": {},
   "outputs": [
    {
     "name": "stdout",
     "output_type": "stream",
     "text": [
      "{1, 2, 3, 4}\n"
     ]
    }
   ],
   "source": [
    "# otra opción\n",
    "filled_set = {1, 2, 2, 3, 4}\n",
    "print(filled_set)"
   ]
  },
  {
   "cell_type": "code",
   "execution_count": 45,
   "metadata": {},
   "outputs": [
    {
     "name": "stdout",
     "output_type": "stream",
     "text": [
      "{3, 4}\n",
      "{1, 2, 3, 4, 5, 6}\n"
     ]
    }
   ],
   "source": [
    "other_set = {3, 4, 5, 6}\n",
    "# intersección\n",
    "print(filled_set & other_set)  \n",
    "# unión\n",
    "print(filled_set | other_set)  "
   ]
  },
  {
   "cell_type": "code",
   "execution_count": 46,
   "metadata": {},
   "outputs": [
    {
     "name": "stdout",
     "output_type": "stream",
     "text": [
      "set()\n"
     ]
    }
   ],
   "source": [
    "#PRACTICA\n",
    "#3 De 2 listas identificar si existe al menos algun elemento en común - sin for loop\n",
    "list1 = [1,2,3,4]\n",
    "list2 = [5,6,7,9]\n",
    "s1 = set(list1)\n",
    "s2 = set(list2)\n",
    "ans = s1 & s2\n",
    "print(ans)"
   ]
  },
  {
   "cell_type": "code",
   "execution_count": 47,
   "metadata": {},
   "outputs": [
    {
     "name": "stdout",
     "output_type": "stream",
     "text": [
      "55\n"
     ]
    }
   ],
   "source": [
    "#PRACTICA\n",
    "#4 Diccionario - sumar todos los valores presentes\n",
    "ndict = {\n",
    "'one':1,\n",
    "'two':2,\n",
    "'three':3,\n",
    "'four':4,\n",
    "'five':5,\n",
    "'six':6,\n",
    "'seven':7,\n",
    "'eight':8,\n",
    "'nine':9,\n",
    "'ten':10\n",
    "}\n",
    "nvalues = ndict.values()\n",
    "print(sum(nvalues))"
   ]
  },
  {
   "cell_type": "markdown",
   "metadata": {},
   "source": [
    "## 3. Control de flujo"
   ]
  },
  {
   "cell_type": "code",
   "execution_count": 48,
   "metadata": {},
   "outputs": [
    {
     "name": "stdout",
     "output_type": "stream",
     "text": [
      "some_var is smaller than 10.\n"
     ]
    }
   ],
   "source": [
    "some_var = 5\n",
    "#IF/THEN\n",
    "if some_var > 10:\n",
    "    print(\"some_var is totally bigger than 10.\")\n",
    "elif some_var < 10: \n",
    "    print(\"some_var is smaller than 10.\")\n",
    "else: \n",
    "    print(\"some_var is indeed 10.\")"
   ]
  },
  {
   "cell_type": "code",
   "execution_count": 49,
   "metadata": {},
   "outputs": [
    {
     "name": "stdout",
     "output_type": "stream",
     "text": [
      "dog is a mammal\n",
      "cat is a mammal\n",
      "mouse is a mammal\n"
     ]
    }
   ],
   "source": [
    "#FOR LOOPS\n",
    "for animal in [\"dog\", \"cat\", \"mouse\"]:\n",
    "    print(\"{0} is a mammal\".format(animal))"
   ]
  },
  {
   "cell_type": "code",
   "execution_count": 50,
   "metadata": {},
   "outputs": [
    {
     "name": "stdout",
     "output_type": "stream",
     "text": [
      "0\n",
      "1\n",
      "2\n",
      "3\n"
     ]
    }
   ],
   "source": [
    "for i in range(4):\n",
    "    print(i)"
   ]
  },
  {
   "cell_type": "code",
   "execution_count": 51,
   "metadata": {},
   "outputs": [
    {
     "name": "stdout",
     "output_type": "stream",
     "text": [
      "0\n",
      "1\n",
      "2\n",
      "3\n"
     ]
    }
   ],
   "source": [
    "x = 0\n",
    "while x < 4:\n",
    "    print(x)\n",
    "    x += 1  "
   ]
  },
  {
   "cell_type": "code",
   "execution_count": 52,
   "metadata": {},
   "outputs": [
    {
     "name": "stdout",
     "output_type": "stream",
     "text": [
      "1\n",
      "2\n",
      "FIZZ\n",
      "4\n",
      "BUZZ\n",
      "FIZZ\n",
      "7\n",
      "8\n",
      "FIZZ\n",
      "BUZZ\n",
      "11\n",
      "FIZZ\n",
      "13\n",
      "14\n",
      "FIZZBUZZ\n",
      "16\n",
      "17\n",
      "FIZZ\n",
      "19\n",
      "BUZZ\n",
      "FIZZ\n",
      "22\n",
      "23\n",
      "FIZZ\n",
      "BUZZ\n",
      "26\n",
      "FIZZ\n",
      "28\n",
      "29\n",
      "FIZZBUZZ\n",
      "31\n",
      "32\n",
      "FIZZ\n",
      "34\n",
      "BUZZ\n",
      "FIZZ\n",
      "37\n",
      "38\n",
      "FIZZ\n",
      "BUZZ\n",
      "41\n",
      "FIZZ\n",
      "43\n",
      "44\n",
      "FIZZBUZZ\n",
      "46\n",
      "47\n",
      "FIZZ\n",
      "49\n",
      "BUZZ\n"
     ]
    }
   ],
   "source": [
    "#PRACTICA\n",
    "#5 IF/ELSE - programa que imprime nros de 1 a 50. Si es multiplo de 3 imprimir FIZZ. Si es multiplo de 5 imprimir BUZZ.\n",
    "#Si es multiplo de ambos FIZZBUZZ. En el resto de casos solo el numero.\n",
    "for i in range(1, 51):\n",
    "    if i % 3 == 0 and i % 5 == 0:\n",
    "        print('FIZZBUZZ')\n",
    "    elif i % 3 == 0:\n",
    "        print('FIZZ')\n",
    "    elif i % 5 ==0:\n",
    "        print('BUZZ')\n",
    "    else:\n",
    "        print(i)"
   ]
  },
  {
   "cell_type": "code",
   "execution_count": 2,
   "metadata": {},
   "outputs": [
    {
     "name": "stdout",
     "output_type": "stream",
     "text": [
      "Elija un número entre 1 y 100: 25\n",
      "MAYOR!\n",
      "Elija un número entre 1 y 100: 30\n",
      "MAYOR!\n",
      "Elija un número entre 1 y 100: 40\n",
      "MAYOR!\n",
      "Elija un número entre 1 y 100: 60\n",
      "MAYOR!\n",
      "Elija un número entre 1 y 100: 80\n",
      "MAYOR!\n",
      "Elija un número entre 1 y 100: 90\n",
      "MENOR!\n",
      "Elija un número entre 1 y 100: 85\n",
      "MENOR!\n",
      "Elija un número entre 1 y 100: 82\n",
      "ACERTADO!\n"
     ]
    }
   ],
   "source": [
    "#PRACTICA\n",
    "#6 BUCLES - programa para adivinar un número generado al azar con input, indicar si es mayor o menor al buscado\n",
    "import random\n",
    "target_num, guess_num = random.randint(1, 100), 0\n",
    "while target_num != guess_num:\n",
    "    guess_num = int(input('Elija un número entre 1 y 100: '))\n",
    "    if guess_num < target_num:\n",
    "        print('MAYOR!')\n",
    "    elif guess_num > target_num:\n",
    "        print('MENOR!')\n",
    "print('ACERTADO!')"
   ]
  },
  {
   "cell_type": "markdown",
   "metadata": {},
   "source": [
    "## 4. Funciones"
   ]
  },
  {
   "cell_type": "code",
   "execution_count": 53,
   "metadata": {},
   "outputs": [],
   "source": [
    "def add(x, y):\n",
    "    print (\"x is {0} and y is {1}\".format(x, y))\n",
    "    return x + y "
   ]
  },
  {
   "cell_type": "code",
   "execution_count": 54,
   "metadata": {},
   "outputs": [
    {
     "name": "stdout",
     "output_type": "stream",
     "text": [
      "x is 5 and y is 6\n",
      "11\n",
      "x is 5 and y is 6\n",
      "11\n"
     ]
    }
   ],
   "source": [
    "print(add(5, 6)) \n",
    "print(add(y=6, x=5))  "
   ]
  },
  {
   "cell_type": "code",
   "execution_count": 55,
   "metadata": {},
   "outputs": [
    {
     "name": "stdout",
     "output_type": "stream",
     "text": [
      "(1, 2, 3)\n"
     ]
    }
   ],
   "source": [
    "def varargs(*args):\n",
    "    return args\n",
    "print(varargs(1, 2, 3))"
   ]
  },
  {
   "cell_type": "code",
   "execution_count": 56,
   "metadata": {},
   "outputs": [
    {
     "name": "stdout",
     "output_type": "stream",
     "text": [
      "{'big': 'foot', 'loch': 'ness'}\n"
     ]
    }
   ],
   "source": [
    "def keyword_args(**kwargs):\n",
    "    return kwargs\n",
    "print(keyword_args(big=\"foot\", loch=\"ness\"))"
   ]
  },
  {
   "cell_type": "code",
   "execution_count": 57,
   "metadata": {},
   "outputs": [
    {
     "name": "stdout",
     "output_type": "stream",
     "text": [
      "43\n",
      "5\n",
      "6\n",
      "6\n"
     ]
    }
   ],
   "source": [
    "# Scope\n",
    "x = 5\n",
    "\n",
    "def set_x(num):\n",
    "    x = num  \n",
    "    print(x)\n",
    "    \n",
    "def set_global_x(num):\n",
    "    global x\n",
    "    print(x)\n",
    "    x = num \n",
    "    print(x)\n",
    "\n",
    "set_x(43)\n",
    "set_global_x(6)\n",
    "print(x)"
   ]
  },
  {
   "cell_type": "code",
   "execution_count": 58,
   "metadata": {},
   "outputs": [
    {
     "name": "stdout",
     "output_type": "stream",
     "text": [
      "Original String :  The quick Brown Fox\n",
      "No. of Upper case characters :  3\n",
      "No. of Lower case Characters :  13\n"
     ]
    }
   ],
   "source": [
    "#PRACTICA\n",
    "#7 FUNCIONES - crear un programa que calcula el número de mayusculas y minusculas de una cadena\n",
    "def string_test(s):\n",
    "    d={\"UPPER_CASE\":0, \"LOWER_CASE\":0}\n",
    "    for c in s:\n",
    "        if c.isupper():\n",
    "           d[\"UPPER_CASE\"]+=1\n",
    "        elif c.islower():\n",
    "           d[\"LOWER_CASE\"]+=1\n",
    "    print (\"Original String : \", s)\n",
    "    print (\"No. of Upper case characters : \", d[\"UPPER_CASE\"])\n",
    "    print (\"No. of Lower case Characters : \", d[\"LOWER_CASE\"])\n",
    "string_test('The quick Brown Fox')"
   ]
  },
  {
   "cell_type": "code",
   "execution_count": 61,
   "metadata": {},
   "outputs": [
    {
     "name": "stdout",
     "output_type": "stream",
     "text": [
      "120\n"
     ]
    }
   ],
   "source": [
    "#8 EXEC - ejecutar el siguiente codigo en una cadena usando funciones\n",
    "code = \"\"\" \n",
    "def factorial(num): \n",
    "    fact=1 \n",
    "    for i in range(1,num+1): \n",
    "        fact = fact*i \n",
    "    return fact \n",
    "print(factorial(5)) \n",
    "\"\"\"\n",
    "def exec_code(code): \n",
    "    exec(code)      \n",
    "exec_code(code) "
   ]
  },
  {
   "cell_type": "code",
   "execution_count": 59,
   "metadata": {},
   "outputs": [
    {
     "name": "stdout",
     "output_type": "stream",
     "text": [
      "The Zen of Python, by Tim Peters\n",
      "\n",
      "Beautiful is better than ugly.\n",
      "Explicit is better than implicit.\n",
      "Simple is better than complex.\n",
      "Complex is better than complicated.\n",
      "Flat is better than nested.\n",
      "Sparse is better than dense.\n",
      "Readability counts.\n",
      "Special cases aren't special enough to break the rules.\n",
      "Although practicality beats purity.\n",
      "Errors should never pass silently.\n",
      "Unless explicitly silenced.\n",
      "In the face of ambiguity, refuse the temptation to guess.\n",
      "There should be one-- and preferably only one --obvious way to do it.\n",
      "Although that way may not be obvious at first unless you're Dutch.\n",
      "Now is better than never.\n",
      "Although never is often better than *right* now.\n",
      "If the implementation is hard to explain, it's a bad idea.\n",
      "If the implementation is easy to explain, it may be a good idea.\n",
      "Namespaces are one honking great idea -- let's do more of those!\n"
     ]
    }
   ],
   "source": [
    "import this"
   ]
  }
 ],
 "metadata": {
  "kernelspec": {
   "display_name": "Python 3 (ipykernel)",
   "language": "python",
   "name": "python3"
  },
  "language_info": {
   "codemirror_mode": {
    "name": "ipython",
    "version": 3
   },
   "file_extension": ".py",
   "mimetype": "text/x-python",
   "name": "python",
   "nbconvert_exporter": "python",
   "pygments_lexer": "ipython3",
   "version": "3.10.9"
  }
 },
 "nbformat": 4,
 "nbformat_minor": 2
}
