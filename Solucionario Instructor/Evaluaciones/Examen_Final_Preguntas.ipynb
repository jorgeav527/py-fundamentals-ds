{
 "cells": [
  {
   "cell_type": "markdown",
   "metadata": {},
   "source": [
    "## Examen Final - Python Fundamentals for Data Science\n",
    "Instrucciones:\n",
    "* El examen tiene un máximo de 3 horas de duración\n",
    "* Cada pregunta vale 2 puntos para un máximo de 20\n",
    "* Se permite hacer consultas por internet\n",
    "* Las respuestas incluyendo código deben verse reflejadas en el notebook\n",
    "* Enviar el notebook con respuestas al correo del instructor al terminar\n",
    "* No se permite consultar ni conversar con los compañeros de clase"
   ]
  },
  {
   "cell_type": "markdown",
   "metadata": {},
   "source": [
    "P1. Cargar el dataset datos.csv en Pandas. \n",
    "Mostrar las filas iniciales en la pantalla. Cuantas filas y columnas hay"
   ]
  },
  {
   "cell_type": "markdown",
   "metadata": {},
   "source": [
    "P2. Existe una columna que copia el índice. Eliminarla del dataframe y mostrar el resultado."
   ]
  },
  {
   "cell_type": "markdown",
   "metadata": {},
   "source": [
    "P3. ¿Cuántas personas de sexo masculino y femenino están representadas en el dataset?"
   ]
  },
  {
   "cell_type": "markdown",
   "metadata": {},
   "source": [
    "P4. ¿Cuál es la edad promedio del sexo masculino?"
   ]
  },
  {
   "cell_type": "markdown",
   "metadata": {},
   "source": [
    "P5. ¿Cuál es la proporción de cubanos del dataset?"
   ]
  },
  {
   "cell_type": "markdown",
   "metadata": {},
   "source": [
    "P6. ¿Cuál es la edad promedio de aquellos que ganan >50K y <=50K? "
   ]
  },
  {
   "cell_type": "markdown",
   "metadata": {},
   "source": [
    "P7. ¿Todos los que ganan mas de 50K al año tienen un master? "
   ]
  },
  {
   "cell_type": "markdown",
   "metadata": {},
   "source": [
    "P8. Determinar el número de horas promedio por semana que se trabaja en cada país para <=50K y >50K"
   ]
  },
  {
   "cell_type": "markdown",
   "metadata": {},
   "source": [
    "P9. Agrupar y contar los registros de <=50K y >50K. Graficar el resultado de manera apropiada"
   ]
  },
  {
   "cell_type": "markdown",
   "metadata": {},
   "source": [
    "P10. Según el análisis: \n",
    "* ¿Qué campos serían idóneos para entrenar un modelo que predice si nuevos datos corresponden a <=50K o >50K?\n",
    "* ¿Sería un modelo de regresión o clasificación - por qué?\n",
    "* Argumentar en mínimo 3 párrafos."
   ]
  }
 ],
 "metadata": {
  "kernelspec": {
   "display_name": "Python 3 (ipykernel)",
   "language": "python",
   "name": "python3"
  },
  "language_info": {
   "codemirror_mode": {
    "name": "ipython",
    "version": 3
   },
   "file_extension": ".py",
   "mimetype": "text/x-python",
   "name": "python",
   "nbconvert_exporter": "python",
   "pygments_lexer": "ipython3",
   "version": "3.10.12"
  }
 },
 "nbformat": 4,
 "nbformat_minor": 4
}
