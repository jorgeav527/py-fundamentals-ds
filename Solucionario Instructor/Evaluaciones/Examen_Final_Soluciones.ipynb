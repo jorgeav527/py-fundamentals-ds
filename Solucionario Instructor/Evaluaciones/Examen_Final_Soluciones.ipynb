{
 "cells": [
  {
   "cell_type": "markdown",
   "metadata": {},
   "source": [
    "## Examen Final - Python Fundamentals for Data Science\n",
    "Instrucciones:\n",
    "* El examen tiene un máximo de 3 horas de duración\n",
    "* Cada pregunta vale 2 puntos para un máximo de 20\n",
    "* Se permite hacer consultas por internet\n",
    "* Las respuestas incluyendo código deben verse reflejadas en el notebook\n",
    "* Enviar el notebook con respuestas al correo del instructor al terminar\n",
    "* No se permite consultar ni conversar con los compañeros de clase"
   ]
  },
  {
   "cell_type": "markdown",
   "metadata": {},
   "source": [
    "P1. Cargar el dataset datos.csv en Pandas. \n",
    "Mostrar las filas iniciales en la pantalla. Cuantas filas y columnas hay"
   ]
  },
  {
   "cell_type": "code",
   "execution_count": 1,
   "metadata": {},
   "outputs": [
    {
     "name": "stdout",
     "output_type": "stream",
     "text": [
      "   Unnamed: 0  age         workclass  fnlwgt  education  education-num  \\\n",
      "0           0   50  Self-emp-not-inc   83311  Bachelors             13   \n",
      "1           1   38           Private  215646    HS-grad              9   \n",
      "2           2   53           Private  234721       11th              7   \n",
      "3           3   28           Private  338409  Bachelors             13   \n",
      "4           4   37           Private  284582    Masters             14   \n",
      "\n",
      "       marital-status         occupation   relationship   race     sex  \\\n",
      "0  Married-civ-spouse    Exec-managerial        Husband  White    Male   \n",
      "1            Divorced  Handlers-cleaners  Not-in-family  White    Male   \n",
      "2  Married-civ-spouse  Handlers-cleaners        Husband  Black    Male   \n",
      "3  Married-civ-spouse     Prof-specialty           Wife  Black  Female   \n",
      "4  Married-civ-spouse    Exec-managerial           Wife  White  Female   \n",
      "\n",
      "   capital-gain  capital-loss  hours-per-week native-country salary  \n",
      "0             0             0              13  United-States  <=50K  \n",
      "1             0             0              40  United-States  <=50K  \n",
      "2             0             0              40  United-States  <=50K  \n",
      "3             0             0              40           Cuba  <=50K  \n",
      "4             0             0              40  United-States  <=50K  \n",
      "(32560, 16)\n"
     ]
    }
   ],
   "source": [
    "#P1_SOL\n",
    "%matplotlib inline\n",
    "import pandas as pd\n",
    "data = pd.read_csv('datos.csv')\n",
    "print(data.head())\n",
    "print(data.shape)"
   ]
  },
  {
   "cell_type": "markdown",
   "metadata": {},
   "source": [
    "P2. Existe una columna que copia el índice. Eliminarla del dataframe y mostrar el resultado."
   ]
  },
  {
   "cell_type": "code",
   "execution_count": 2,
   "metadata": {},
   "outputs": [
    {
     "name": "stdout",
     "output_type": "stream",
     "text": [
      "   Unnamed: 0  age         workclass  fnlwgt  education  education-num  \\\n",
      "0           0   50  Self-emp-not-inc   83311  Bachelors             13   \n",
      "1           1   38           Private  215646    HS-grad              9   \n",
      "2           2   53           Private  234721       11th              7   \n",
      "3           3   28           Private  338409  Bachelors             13   \n",
      "4           4   37           Private  284582    Masters             14   \n",
      "\n",
      "       marital-status         occupation   relationship   race     sex  \\\n",
      "0  Married-civ-spouse    Exec-managerial        Husband  White    Male   \n",
      "1            Divorced  Handlers-cleaners  Not-in-family  White    Male   \n",
      "2  Married-civ-spouse  Handlers-cleaners        Husband  Black    Male   \n",
      "3  Married-civ-spouse     Prof-specialty           Wife  Black  Female   \n",
      "4  Married-civ-spouse    Exec-managerial           Wife  White  Female   \n",
      "\n",
      "   capital-gain  capital-loss  hours-per-week native-country salary  \n",
      "0             0             0              13  United-States  <=50K  \n",
      "1             0             0              40  United-States  <=50K  \n",
      "2             0             0              40  United-States  <=50K  \n",
      "3             0             0              40           Cuba  <=50K  \n",
      "4             0             0              40  United-States  <=50K  \n"
     ]
    }
   ],
   "source": [
    "#P2_SOL\n",
    "#data = data.drop(columns='Unnamed: 0')\n",
    "print(data.head())"
   ]
  },
  {
   "cell_type": "markdown",
   "metadata": {},
   "source": [
    "P3. ¿Cuántas personas de sexo masculino y femenino están representadas en el dataset?"
   ]
  },
  {
   "cell_type": "code",
   "execution_count": 3,
   "metadata": {},
   "outputs": [
    {
     "name": "stdout",
     "output_type": "stream",
     "text": [
      "sex\n",
      "Male      21789\n",
      "Female    10771\n",
      "Name: count, dtype: int64\n"
     ]
    }
   ],
   "source": [
    "#P3_SOL\n",
    "counts = data['sex'].value_counts()\n",
    "print(counts)"
   ]
  },
  {
   "cell_type": "markdown",
   "metadata": {},
   "source": [
    "P4. ¿Cuál es la edad promedio del sexo masculino?"
   ]
  },
  {
   "cell_type": "code",
   "execution_count": 4,
   "metadata": {},
   "outputs": [
    {
     "data": {
      "text/plain": [
       "39.433567396392675"
      ]
     },
     "execution_count": 4,
     "metadata": {},
     "output_type": "execute_result"
    }
   ],
   "source": [
    "#P4_SOL\n",
    "data.loc[data['sex']=='Male', 'age'].mean()"
   ]
  },
  {
   "cell_type": "markdown",
   "metadata": {},
   "source": [
    "P5. ¿Cuál es la proporción de cubanos del dataset?"
   ]
  },
  {
   "cell_type": "code",
   "execution_count": 5,
   "metadata": {},
   "outputs": [
    {
     "name": "stdout",
     "output_type": "stream",
     "text": [
      "0.0029176904176904175\n"
     ]
    }
   ],
   "source": [
    "#P5_SOL\n",
    "prop = float((data['native-country'] == 'Cuba').sum()) / data.shape[0]\n",
    "print(prop)"
   ]
  },
  {
   "cell_type": "markdown",
   "metadata": {},
   "source": [
    "P6. ¿Cuál es la edad promedio de aquellos que ganan más de 50K y menos de 50K? "
   ]
  },
  {
   "cell_type": "code",
   "execution_count": 6,
   "metadata": {},
   "outputs": [
    {
     "name": "stdout",
     "output_type": "stream",
     "text": [
      "Promedio de pobres: 36.78364820583357\n",
      "Promedio de ricos: 44.24984058155847\n"
     ]
    }
   ],
   "source": [
    "#P6_SOL\n",
    "ages1 = data.loc[data['salary'] == '>50K', 'age']\n",
    "ages2 = data.loc[data['salary'] == '<=50K', 'age']\n",
    "print(\"Promedio de pobres: {}\".format(ages2.mean()))\n",
    "print(\"Promedio de ricos: {}\".format(ages1.mean()))"
   ]
  },
  {
   "cell_type": "markdown",
   "metadata": {},
   "source": [
    "P7. ¿Todos los que ganan mas de 50K al año tienen un master? "
   ]
  },
  {
   "cell_type": "code",
   "execution_count": 8,
   "metadata": {},
   "outputs": [
    {
     "name": "stdout",
     "output_type": "stream",
     "text": [
      "Empty DataFrame\n",
      "Columns: [Unnamed: 0, age, workclass, fnlwgt, education, education-num, marital-status, occupation, relationship, race, sex, capital-gain, capital-loss, hours-per-week, native-country, salary]\n",
      "Index: []\n"
     ]
    }
   ],
   "source": [
    "#P7_SOL - NO\n",
    "data.loc[data['salary'] == '>50K', 'education'].unique()\n",
    "print(data.loc[data['education']=='Master'])"
   ]
  },
  {
   "cell_type": "markdown",
   "metadata": {},
   "source": [
    "P8. Determinar el número de horas promedio por semana que se trabaja en cada país para <=50K y >50K"
   ]
  },
  {
   "cell_type": "code",
   "execution_count": 9,
   "metadata": {},
   "outputs": [
    {
     "name": "stdout",
     "output_type": "stream",
     "text": [
      "? <=50K 40.16\n",
      "? >50K 45.55\n",
      "Cambodia <=50K 41.42\n",
      "Cambodia >50K 40.0\n",
      "Canada <=50K 37.91\n",
      "Canada >50K 45.64\n",
      "China <=50K 37.38\n",
      "China >50K 38.9\n",
      "Columbia <=50K 38.68\n",
      "Columbia >50K 50.0\n",
      "Cuba <=50K 37.99\n",
      "Cuba >50K 42.44\n",
      "Dominican-Republic <=50K 42.34\n",
      "Dominican-Republic >50K 47.0\n",
      "Ecuador <=50K 38.04\n",
      "Ecuador >50K 48.75\n",
      "El-Salvador <=50K 36.03\n",
      "El-Salvador >50K 45.0\n",
      "England <=50K 40.48\n",
      "England >50K 44.53\n",
      "France <=50K 41.06\n",
      "France >50K 50.75\n",
      "Germany <=50K 39.14\n",
      "Germany >50K 44.98\n",
      "Greece <=50K 41.81\n",
      "Greece >50K 50.62\n",
      "Guatemala <=50K 39.36\n",
      "Guatemala >50K 36.67\n",
      "Haiti <=50K 36.33\n",
      "Haiti >50K 42.75\n",
      "Holand-Netherlands <=50K 40.0\n",
      "Honduras <=50K 34.33\n",
      "Honduras >50K 60.0\n",
      "Hong <=50K 39.14\n",
      "Hong >50K 45.0\n",
      "Hungary <=50K 31.3\n",
      "Hungary >50K 50.0\n",
      "India <=50K 38.23\n",
      "India >50K 46.48\n",
      "Iran <=50K 41.44\n",
      "Iran >50K 47.5\n",
      "Ireland <=50K 40.95\n",
      "Ireland >50K 48.0\n",
      "Italy <=50K 39.62\n",
      "Italy >50K 45.4\n",
      "Jamaica <=50K 38.24\n",
      "Jamaica >50K 41.1\n",
      "Japan <=50K 41.0\n",
      "Japan >50K 47.96\n",
      "Laos <=50K 40.38\n",
      "Laos >50K 40.0\n",
      "Mexico <=50K 40.0\n",
      "Mexico >50K 46.58\n",
      "Nicaragua <=50K 36.09\n",
      "Nicaragua >50K 37.5\n",
      "Outlying-US(Guam-USVI-etc) <=50K 41.86\n",
      "Peru <=50K 35.07\n",
      "Peru >50K 40.0\n",
      "Philippines <=50K 38.07\n",
      "Philippines >50K 43.03\n",
      "Poland <=50K 38.17\n",
      "Poland >50K 39.0\n",
      "Portugal <=50K 41.94\n",
      "Portugal >50K 41.5\n",
      "Puerto-Rico <=50K 38.47\n",
      "Puerto-Rico >50K 39.42\n",
      "Scotland <=50K 39.44\n",
      "Scotland >50K 46.67\n",
      "South <=50K 40.16\n",
      "South >50K 51.44\n",
      "Taiwan <=50K 33.77\n",
      "Taiwan >50K 46.8\n",
      "Thailand <=50K 42.87\n",
      "Thailand >50K 58.33\n",
      "Trinadad&Tobago <=50K 37.06\n",
      "Trinadad&Tobago >50K 40.0\n",
      "United-States <=50K 38.8\n",
      "United-States >50K 45.51\n",
      "Vietnam <=50K 37.19\n",
      "Vietnam >50K 39.2\n",
      "Yugoslavia <=50K 41.6\n",
      "Yugoslavia >50K 49.5\n"
     ]
    }
   ],
   "source": [
    "#P8_SOL\n",
    "for (country, salary), sub_df in data.groupby(['native-country', 'salary']):\n",
    "    print(country, salary, round(sub_df['hours-per-week'].mean(), 2))"
   ]
  },
  {
   "cell_type": "markdown",
   "metadata": {},
   "source": [
    "P9. Agrupar y contar los registros de <=50K y >50K. Graficar el resultado de manera apropiada"
   ]
  },
  {
   "cell_type": "code",
   "execution_count": 75,
   "metadata": {},
   "outputs": [
    {
     "name": "stdout",
     "output_type": "stream",
     "text": [
      "salary\n",
      "<=50K    24719\n",
      ">50K      7841\n",
      "Name: native-country, dtype: int64\n"
     ]
    },
    {
     "data": {
      "text/plain": [
       "<matplotlib.axes._subplots.AxesSubplot at 0x18ae99aa128>"
      ]
     },
     "execution_count": 75,
     "metadata": {},
     "output_type": "execute_result"
    },
    {
     "data": {
      "image/png": "[encoded data removed]",
      "text/plain": [
       "<Figure size 432x288 with 1 Axes>"
      ]
     },
     "metadata": {},
     "output_type": "display_data"
    }
   ],
   "source": [
    "#P9_SOL\n",
    "res = data.groupby(\"salary\")[\"native-country\"].count()\n",
    "print(res)\n",
    "res.plot.pie()"
   ]
  },
  {
   "cell_type": "markdown",
   "metadata": {},
   "source": [
    "P10. Según el análisis: \n",
    "* ¿Qué campos serían idóneos para entrenar un modelo que predice si nuevos datos corresponden a <=50K o >50K?\n",
    "* ¿Sería un modelo de regresión o clasificación - por qué?\n",
    "* Argumentar en mínimo 3 párrafos."
   ]
  }
 ],
 "metadata": {
  "kernelspec": {
   "display_name": "Python 3 (ipykernel)",
   "language": "python",
   "name": "python3"
  },
  "language_info": {
   "codemirror_mode": {
    "name": "ipython",
    "version": 3
   },
   "file_extension": ".py",
   "mimetype": "text/x-python",
   "name": "python",
   "nbconvert_exporter": "python",
   "pygments_lexer": "ipython3",
   "version": "3.10.12"
  }
 },
 "nbformat": 4,
 "nbformat_minor": 4
}
