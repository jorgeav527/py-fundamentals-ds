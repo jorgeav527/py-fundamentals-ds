{
 "cells": [
  {
   "cell_type": "code",
   "execution_count": 7,
   "metadata": {},
   "outputs": [],
   "source": [
    "#Referencia https://learnxinyminutes.com/docs/python/"
   ]
  },
  {
   "cell_type": "markdown",
   "metadata": {},
   "source": [
    "## 1. Tipos  de datos y operadores"
   ]
  },
  {
   "cell_type": "markdown",
   "metadata": {},
   "source": [
    "#### <span style=\"color: red;\">Speach</span>\n",
    "Estos son ejemplos de operaciones matemáticas básicas realizadas en Python:\n",
    "\n",
    "- `print(1+1)` la suma de 1 más 1, que es igual a 2.\n",
    "- `print(8-1)` la resta de 1 a 8, que es igual a 7.\n",
    "- `print(10*2)` el producto de 10 por 2, que es igual a 20.\n",
    "- `print(35/5)` la división de 35 entre 5, que es igual a 7.0 (Python devuelve un número decimal cuando realizas divisiones incluso si el resultado es un número entero para mantener la precisión). (También se les dice numeros punto flotante o coma flotante)"
   ]
  },
  {
   "cell_type": "code",
   "execution_count": 3,
   "metadata": {},
   "outputs": [
    {
     "name": "stdout",
     "output_type": "stream",
     "text": [
      "2\n",
      "7\n",
      "20\n",
      "7.0\n"
     ]
    }
   ],
   "source": [
    "# Operaciones\n",
    "print(1+1) \n",
    "print(8-1)  \n",
    "print(10*2)  \n",
    "print(35/5)"
   ]
  },
  {
   "cell_type": "markdown",
   "metadata": {},
   "source": [
    "#### <span style=\"color: red;\">Speach</span>\n",
    "- Ambas divisiones dan el mismo resultado, 2.75, pero la primera división usa números enteros y la segunda usa números decimales. Python realiza la conversión automáticamente si uno de los operandos es un float, para que el resultado sea lo más preciso posible."
   ]
  },
  {
   "cell_type": "code",
   "execution_count": 4,
   "metadata": {},
   "outputs": [
    {
     "name": "stdout",
     "output_type": "stream",
     "text": [
      "2.75\n",
      "2.75\n"
     ]
    }
   ],
   "source": [
    "# División \n",
    "print(11/4) \n",
    "print(11.0/4.0)  "
   ]
  },
  {
   "cell_type": "markdown",
   "metadata": {},
   "source": [
    "#### <span style=\"color: red;\">Speach</span>\n",
    "- `print(5//3)` En el primer caso, cuando ambos números son enteros, el operador `//` realiza una división entera y el resultado es el cociente de la división, redondeado hacia abajo si es necesario. En este caso, obtenemos `1`.\n",
    "\n",
    "- `print(5.0//3.0)` En el segundo caso, estamos dividiendo dos números decimales utilizando el operador `//`, que realiza una división entera. El resultado también es el cociente, pero en formato de punto flotante. En este caso, obtenemos `1.0` como float.\n",
    "\n",
    "- `print(-5//3)` En el tercer caso, estamos dividiendo un número entero negativo por un número entero positivo utilizando `//`. El resultado es el cociente de la división, redondeado hacia abajo, lo que nos da `-2`.\n",
    "\n",
    "- `print(-5.0//3.0)` En el cuarto y último, estamos dividiendo un número decimal negativo por un número decimal positivo utilizando `//`. El resultado es el cociente de la división, redondeado hacia abajo, lo que nos da `-2.0` como punto flotante."
   ]
  },
  {
   "cell_type": "code",
   "execution_count": 8,
   "metadata": {},
   "outputs": [
    {
     "name": "stdout",
     "output_type": "stream",
     "text": [
      "1\n",
      "1.0\n",
      "-2\n",
      "-2.0\n"
     ]
    }
   ],
   "source": [
    "# División con redondeo\n",
    "print(5//3) \n",
    "print(5.0//3.0) \n",
    "print(-5//3) \n",
    "print(-5.0//3.0)"
   ]
  },
  {
   "cell_type": "markdown",
   "metadata": {},
   "source": [
    "#### <span style=\"color: red;\">Speach</span>\n",
    "- El operador % que conocemos como porcentaje en Python se utiliza para calcular el módulo de una división, es decir, el residuo de la división, Esto significa que cuando divides 7 por 3, obtienes un cociente de 2 y un residuo de 1:"
   ]
  },
  {
   "cell_type": "code",
   "execution_count": 9,
   "metadata": {},
   "outputs": [
    {
     "name": "stdout",
     "output_type": "stream",
     "text": [
      "1\n"
     ]
    }
   ],
   "source": [
    "# Modulo \n",
    "print(7%3)"
   ]
  },
  {
   "cell_type": "markdown",
   "metadata": {},
   "source": [
    "#### <span style=\"color: red;\">Speach</span>\n",
    "- El operador ** en Python se utiliza para calcular exponentes. Esto significa que 2 elevado a la cuarta potencia es igual a 16."
   ]
  },
  {
   "cell_type": "code",
   "execution_count": 10,
   "metadata": {},
   "outputs": [
    {
     "name": "stdout",
     "output_type": "stream",
     "text": [
      "16\n"
     ]
    }
   ],
   "source": [
    "# Exponentes\n",
    "print(2**4)"
   ]
  },
  {
   "cell_type": "markdown",
   "metadata": {},
   "source": [
    "#### <span style=\"color: red;\">Speach</span>\n",
    "Por si no se acuerdan el acrónimo PEMDAS se usa para recordar el orden de las operaciones aritméticas:\n",
    "\n",
    "- Primero las operaciones dentro de los paréntesis.\n",
    "- Luego exponentes o potencias.\n",
    "- Luego multiplicaciones y divisiones de izquierda a derecha.\n",
    "- Y por último sumas y restas también de izquierda a derecha.\n",
    "- El primer paréntesis asegura el comando `print` pero el segúndo paréntesis realiza la adición antes de la multiplicación, siguiendo la regla de PEMDAS."
   ]
  },
  {
   "cell_type": "code",
   "execution_count": 11,
   "metadata": {},
   "outputs": [
    {
     "name": "stdout",
     "output_type": "stream",
     "text": [
      "8\n"
     ]
    }
   ],
   "source": [
    "# PEMDAS\n",
    "print((1+3)*2)"
   ]
  },
  {
   "cell_type": "markdown",
   "metadata": {},
   "source": [
    "#### <span style=\"color: red;\">Speach</span>\n",
    "En Python, los operadores booleanos and (y) y or (o) se utilizan para realizar operaciones lógicas entre valores booleanos.\n",
    "\n",
    "- `print(True and False)` realiza una operación (and) entre booleanos. El operador (and) devuelve Verdadero solo si ambos operandos son Verdaderos. En este caso, como uno de los operandos es Falso, el resultado será Falso.\n",
    "\n",
    "- `print(False or True)` realiza una operación (or) entre booleanos. El operador (or) devuelve Verdadero si al menos uno de los operandos es Verdadero. En este caso, uno de los operandos es Verdadero, por lo que el resultado será Verdadero."
   ]
  },
  {
   "cell_type": "code",
   "execution_count": 12,
   "metadata": {},
   "outputs": [
    {
     "name": "stdout",
     "output_type": "stream",
     "text": [
      "False\n",
      "True\n"
     ]
    }
   ],
   "source": [
    "# Boolean\n",
    "print(True and False)\n",
    "print(False or True)  "
   ]
  },
  {
   "cell_type": "markdown",
   "metadata": {},
   "source": [
    "#### <span style=\"color: red;\">Speach</span>\n",
    "\n",
    "En Python, las comparaciones entre valores numéricos y valores booleanos pueden ser interesantes debido a que:\n",
    "\n",
    "- En la primera expresión comparamos si el entero 0 es igual al valor booleano Falso. En Python, False se considera igual a 0 en contextos de comparación numérica, como 0 es igual a Falso, esta expresión es Verdadera.\n",
    "\n",
    "- En la segunda expresión comparamos si el entero 2 es igual al valor booleano Verdadero. En Python, True se considera igual a 1 en contextos de comparación numérica. Como 2 no es igual a 1, esta expresión es falsa.\n",
    "\n",
    "- En la tercera expresión comparamos si el entero 1 es igual al valor booleano Verdadero. Al igual que en el caso anterior, True se considera igual a 1 en contextos de comparación numérica. Como 1 es igual a 1, esta expresión es verdadera.\n",
    "\n",
    "Por lo mismo algunas veces van a notar que varios programas especialmente en sistemas Linux, retornan 1 si la ejecución del mismo es verdadera o se ejecuto con exito y si devuelve 0, las posibilidades de que el programa se haya ejecutado con errores son altas."
   ]
  },
  {
   "cell_type": "code",
   "execution_count": 1,
   "metadata": {},
   "outputs": [
    {
     "name": "stdout",
     "output_type": "stream",
     "text": [
      "True\n",
      "False\n",
      "True\n"
     ]
    }
   ],
   "source": [
    "print(0==False)  \n",
    "print(2==True)  \n",
    "print(1==True) "
   ]
  },
  {
   "cell_type": "markdown",
   "metadata": {},
   "source": [
    "#### <span style=\"color: red;\">Speach</span>\n",
    "- El operador not invierte el valor booleano al que se aplica, cambiando True a False y False a True. Por lo tanto ..."
   ]
  },
  {
   "cell_type": "code",
   "execution_count": 2,
   "metadata": {},
   "outputs": [
    {
     "name": "stdout",
     "output_type": "stream",
     "text": [
      "False\n",
      "True\n"
     ]
    }
   ],
   "source": [
    "# negación\n",
    "print(not True)\n",
    "print(not False)"
   ]
  },
  {
   "cell_type": "markdown",
   "metadata": {},
   "source": [
    "#### <span style=\"color: red;\">Speach</span>\n",
    "- Esto ejemplos muestran cómo se utiliza el operador de igualdad (==) para comparar valores en Python y cómo devuelve True cuando los valores son iguales y False cuando son diferentes."
   ]
  },
  {
   "cell_type": "code",
   "execution_count": 3,
   "metadata": {},
   "outputs": [
    {
     "name": "stdout",
     "output_type": "stream",
     "text": [
      "True\n",
      "False\n"
     ]
    }
   ],
   "source": [
    "# Igualdad\n",
    "print(1==1) \n",
    "print(2==1)"
   ]
  },
  {
   "cell_type": "markdown",
   "metadata": {},
   "source": [
    "#### <span style=\"color: red;\">Speach</span>\n",
    "- Esto muestra cómo se utiliza el operador de desigualdad (!=) para comparar si dos valores no son iguales en Python, y devuelve True cuando los valores son diferentes y False cuando son iguales."
   ]
  },
  {
   "cell_type": "code",
   "execution_count": 4,
   "metadata": {},
   "outputs": [
    {
     "name": "stdout",
     "output_type": "stream",
     "text": [
      "False\n",
      "True\n"
     ]
    }
   ],
   "source": [
    "# Desigual\n",
    "print(1!=1) \n",
    "print(2!=1)"
   ]
  },
  {
   "cell_type": "markdown",
   "metadata": {},
   "source": [
    "#### <span style=\"color: red;\">Speach</span>\n",
    "- `print(1 < 10)` compara si 1 es menor que 10, lo cual es verdadero.\n",
    "- `print(1 > 10)` compara si 1 es mayor que 10, lo cual es falso.\n",
    "- `print(2 <= 2)` compara si 2 es menor o igual a 2, lo cual es verdadero.\n",
    "- `print(2 >= 2)` compara si 2 es mayor o igual a 2, lo cual es verdadero.\n",
    "- `print(1 < 2 < 3)` esta expresión combina dos comparaciones: primero, verifica si 1 es menor que 2 (verdadero), luego verifica si 2 es menor que 3 (verdadero). Ambas comparaciones son verdaderas, por lo que el resultado será True. Esto demuestra cómo puedes encadenar múltiples comparaciones en una sola expresión.\n",
    "- `print(2 < 3 < 2)` también combina dos comparaciones: primero, verifica si 2 es menor que 3 (verdadero), luego verifica si 3 es menor que 2 (falso). Como una de las comparaciones es falsa, el resultado general será False."
   ]
  },
  {
   "cell_type": "code",
   "execution_count": 14,
   "metadata": {},
   "outputs": [
    {
     "name": "stdout",
     "output_type": "stream",
     "text": [
      "True\n",
      "False\n",
      "True\n",
      "True\n",
      "True\n",
      "False\n"
     ]
    }
   ],
   "source": [
    "# Comparaciones\n",
    "print(1<10)  \n",
    "print(1>10) \n",
    "print(2<=2) \n",
    "print(2>=2) \n",
    "print(1<2<3)  \n",
    "print(2<3<2) "
   ]
  },
  {
   "cell_type": "markdown",
   "metadata": {},
   "source": [
    "#### <span style=\"color: red;\">Speach</span>\n",
    "- Puedes elegir entre comillas dobles o comillas simples según tus preferencias personales o según el contexto de tu código. Lo importante es ser coherente en su uso dentro de un mismo programa o script."
   ]
  },
  {
   "cell_type": "code",
   "execution_count": 5,
   "metadata": {},
   "outputs": [
    {
     "name": "stdout",
     "output_type": "stream",
     "text": [
      "This is a string.\n",
      "This is also a string.\n"
     ]
    }
   ],
   "source": [
    "# Cadenas\n",
    "print(\"This is a string.\")\n",
    "print('This is also a string.')"
   ]
  },
  {
   "cell_type": "markdown",
   "metadata": {},
   "source": [
    "#### <span style=\"color: red;\">Speach</span>\n",
    "- Puedes concatenar cadenas utilizando el operador +, colocándolas una al lado de la otra sin operador (como en el segundo ejemplo), o repetir una cadena múltiples veces utilizando el operador * en Python."
   ]
  },
  {
   "cell_type": "code",
   "execution_count": 16,
   "metadata": {},
   "outputs": [
    {
     "name": "stdout",
     "output_type": "stream",
     "text": [
      "Hello world!\n",
      "Hello world!\n",
      "HelloHelloHello\n"
     ]
    }
   ],
   "source": [
    "# Operaciones con cadenas\n",
    "print(\"Hello \"+\"world!\")\n",
    "print(\"Hello \"\"world!\") \n",
    "print(\"Hello\"*3) "
   ]
  },
  {
   "cell_type": "markdown",
   "metadata": {},
   "source": [
    "#### <span style=\"color: red;\">Speach</span>\n",
    "- En Python, puedes acceder a caracteres específicos de una cadena utilizando la indexación. La indexación en Python comienza desde 0"
   ]
  },
  {
   "cell_type": "code",
   "execution_count": 8,
   "metadata": {},
   "outputs": [
    {
     "name": "stdout",
     "output_type": "stream",
     "text": [
      "T\n"
     ]
    }
   ],
   "source": [
    "# indexación de cadena\n",
    "print(\"This is a string\"[0])"
   ]
  },
  {
   "cell_type": "markdown",
   "metadata": {},
   "source": [
    "#### <span style=\"color: red;\">Speach</span>\n",
    "- Esto muestra cómo puedes determinar la longitud de una cadena en Python utilizando la función len()."
   ]
  },
  {
   "cell_type": "code",
   "execution_count": 18,
   "metadata": {},
   "outputs": [
    {
     "name": "stdout",
     "output_type": "stream",
     "text": [
      "16\n"
     ]
    }
   ],
   "source": [
    "# tamaño\n",
    "print(len(\"This is a string\"))"
   ]
  },
  {
   "cell_type": "markdown",
   "metadata": {},
   "source": [
    "#### <span style=\"color: red;\">Speach</span>\n",
    "- Esto muestra cómo puedes insertar valores de variables en una cadena de texto utilizando formateo de cadena con %. Los valores se reemplazan en el orden en que aparecen en la tupla (x, y) después del operador %."
   ]
  },
  {
   "cell_type": "code",
   "execution_count": 9,
   "metadata": {},
   "outputs": [
    {
     "name": "stdout",
     "output_type": "stream",
     "text": [
      "The items in the basket are apple and lemon\n"
     ]
    }
   ],
   "source": [
    "# formateo con %\n",
    "x = 'apple'\n",
    "y = 'lemon'\n",
    "z = \"The items in the basket are %s and %s\" % (x, y)\n",
    "print(z)"
   ]
  },
  {
   "cell_type": "markdown",
   "metadata": {},
   "source": [
    "#### <span style=\"color: red;\">Speach</span>\n",
    "- El método str.format() es una forma poderosa y flexible de formatear cadenas en Python, y es especialmente útil cuando necesitas formatear cadenas con múltiples valores o cambiar el orden de los valores en la cadena."
   ]
  },
  {
   "cell_type": "code",
   "execution_count": 20,
   "metadata": {},
   "outputs": [
    {
     "name": "stdout",
     "output_type": "stream",
     "text": [
      "This is a placeholder\n",
      "strings can be formatted\n",
      "Bob wants to eat lasagna\n"
     ]
    }
   ],
   "source": [
    "# formateo con format\n",
    "print(\"{} is a {}\".format(\"This\", \"placeholder\"))\n",
    "print(\"{0} can be {1}\".format(\"strings\", \"formatted\"))\n",
    "print(\"{name} wants to eat {food}\".format(name=\"Bob\", food=\"lasagna\"))"
   ]
  },
  {
   "cell_type": "markdown",
   "metadata": {},
   "source": [
    "#### <span style=\"color: red;\">Speach</span>\n",
    "Como para practica deseamos imprimir los 2 primeros y los 2 últimos caracteres de una cadena. Sin embargo, hay que tener en cuenta que en Python, si intentas acceder a índices que están fuera del rango de una cadena, no generará un error, sino que simplemente imprimirá los caracteres disponibles.\n",
    "\n",
    "- Para la cadena \"w3resource\", imprimirá \"w3ce\", que son los 2 primeros caracteres y los 2 últimos caracteres disponibles.\n",
    "- Para la cadena \"w3\", imprimirá \"w3w3\", ya que solo hay 2 caracteres en la cadena.-\n",
    "- Para la cadena \"w\", imprimirá \"ww\", ya que solo hay 1 caracter en la cadena y se repite dos veces.-"
   ]
  },
  {
   "cell_type": "code",
   "execution_count": 10,
   "metadata": {},
   "outputs": [
    {
     "name": "stdout",
     "output_type": "stream",
     "text": [
      "w3ce\n",
      "w3w3\n",
      "ww\n"
     ]
    }
   ],
   "source": [
    "#PRACTICA\n",
    "#1 De una cadena imprimir solo los 2 primeros y 2 últimos caracteres.\n",
    "cad = \"w3resource\"\n",
    "print(cad[:2]+cad[-2:])\n",
    "cad = \"w3\"\n",
    "print(cad[:2]+cad[-2:])\n",
    "cad = \"w\"\n",
    "print(cad[:2]+cad[-2:])"
   ]
  },
  {
   "cell_type": "markdown",
   "metadata": {},
   "source": [
    "#### <span style=\"color: red;\">Speach</span>\n",
    "Este código elevará la cadena `\"***\"` a la potencia de 3 (la longitud de la cadena original) y generará una nueva cadena con el resultado. En este caso, el resultado será 27 asteriscos `\"***************************\"`, que es 3 elevado a la 3ª potencia. La longitud de la nueva cadena es 27, que es la longitud de `\"***************************\"`."
   ]
  },
  {
   "cell_type": "code",
   "execution_count": 12,
   "metadata": {},
   "outputs": [
    {
     "name": "stdout",
     "output_type": "stream",
     "text": [
      "***************************\n",
      "27\n"
     ]
    }
   ],
   "source": [
    "#PRACTICA\n",
    "#2 de una cadena con cierto numero de asteriscos, crear una nueva cadena que ha sido elevada por el numero\n",
    "#EJ ** -> **** - 2 al cuadrado\n",
    "ast = \"***\"\n",
    "res = \"*\" * (len(ast) ** len(ast))\n",
    "print(res)\n",
    "print(len(res))"
   ]
  },
  {
   "cell_type": "markdown",
   "metadata": {},
   "source": [
    "## 2.Colecciones"
   ]
  },
  {
   "cell_type": "markdown",
   "metadata": {},
   "source": [
    "#### <span style=\"color: red;\">Speach</span>\n",
    "- Estos son algunos ejemplos de tipos de datos comunes en Python, como cadenas de texto (str), números de punto flotante o decimales (float), enteros (int) y listas (list).\n",
    "- La funcion type() te muestra el tipo de dato al que pertenece el valor o la variable."
   ]
  },
  {
   "cell_type": "code",
   "execution_count": 13,
   "metadata": {},
   "outputs": [
    {
     "name": "stdout",
     "output_type": "stream",
     "text": [
      "<class 'str'>\n",
      "<class 'float'>\n",
      "<class 'int'>\n",
      "<class 'list'>\n"
     ]
    }
   ],
   "source": [
    "# tipos de datos\n",
    "print(type(\"texto\"))\n",
    "print(type(5.0))\n",
    "print(type(5))\n",
    "print(type([]))  "
   ]
  },
  {
   "cell_type": "markdown",
   "metadata": {},
   "source": [
    "#### <span style=\"color: red;\">Speach</span>\n",
    "Aqui estamos realizando una serie de operaciones en una lista en Python:\n",
    "- li = [] crea una lista vacía llamada li.\n",
    "- other_li = [4, 5, 6] crea una lista llamada other_li con los elementos 4, 5 y 6.\n",
    "- li.append(1) agrega el valor 1 al final de la lista li. Ahora li contiene [1].\n",
    "- li.append(2) agrega el valor 2 al final de la lista li. Ahora li contiene [1, 2].\n",
    "- li.append(4) agrega el valor 4 al final de la lista li. Ahora li contiene [1, 2, 4].\n",
    "- li.append(3) agrega el valor 3 al final de la lista li. Ahora li contiene [1, 2, 4, 3].\n",
    "- li.pop() elimina el último elemento de la lista li. En este caso, elimina el valor 3. Ahora li contiene [1, 2, 4].\n",
    "- li.append(3) agrega nuevamente el valor 3 al final de la lista li. Ahora li contiene [1, 2, 4, 3].\n",
    "- Al final de estas operaciones, la lista li contiene los elementos [1, 2, 4, 3]."
   ]
  },
  {
   "cell_type": "code",
   "execution_count": 4,
   "metadata": {},
   "outputs": [],
   "source": [
    "# LISTAS\n",
    "li = []\n",
    "other_li = [4, 5, 6]"
   ]
  },
  {
   "cell_type": "code",
   "execution_count": 5,
   "metadata": {},
   "outputs": [
    {
     "name": "stdout",
     "output_type": "stream",
     "text": [
      "[1, 2, 4, 3]\n",
      "[1, 2, 4]\n",
      "[1, 2, 4, 3]\n"
     ]
    }
   ],
   "source": [
    "# operaciones de listas\n",
    "li.append(1)  \n",
    "li.append(2)  \n",
    "li.append(4)  \n",
    "li.append(3)\n",
    "print(li)\n",
    "li.pop()\n",
    "print(li)\n",
    "li.append(3)\n",
    "print(li)"
   ]
  },
  {
   "cell_type": "markdown",
   "metadata": {},
   "source": [
    "#### <span style=\"color: red;\">Speach</span>\n",
    "En Python, puedes acceder a los elementos de una lista utilizando índices:\n",
    "- `print(li[0])` accede al primer elemento de la lista li utilizando el índice 0. En este caso, imprime el valor 1, que es el primer elemento de la lista.\n",
    "- `li[0] = 42` asigna el valor 42 al primer elemento de la lista li. Ahora, el primer elemento de la lista es 42.\n",
    "- `print(li[0])` nuevamente accede al primer elemento de la lista li. Ahora, imprime el valor 42, ya que se ha cambiado previamente.\n",
    "- `li[0] = 1` se vuelve a asignar el valor 1 al primer elemento de la lista li, restaurando su valor original.\n",
    "- `print(li[-1])` accede al último elemento de la lista li utilizando el índice -1. En este caso, imprime el valor 3, que es el último elemento de la lista."
   ]
  },
  {
   "cell_type": "code",
   "execution_count": 6,
   "metadata": {},
   "outputs": [
    {
     "name": "stdout",
     "output_type": "stream",
     "text": [
      "1\n",
      "42\n",
      "1\n",
      "3\n"
     ]
    }
   ],
   "source": [
    "# Acceso a listas\n",
    "print(li[0]) \n",
    "# Asignar otros valores\n",
    "li[0] = 42\n",
    "print(li[0]) \n",
    "li[0] = 1\n",
    "print(li[0])\n",
    "# último elemento\n",
    "print(li[-1])  "
   ]
  },
  {
   "cell_type": "markdown",
   "metadata": {},
   "source": [
    "#### <span style=\"color: red;\">Speach</span>\n",
    "En Python, puedes usar la técnica de \"slicing\" (rebanado) para acceder a porciones específicas de una lista:\n",
    "\n",
    "- `print(li[1:3])` toma un \"slice\" desde el índice 1 (inclusive) hasta el índice 3 (exclusivo). Esto devuelve [2, 4], que son los elementos en esos índices.\n",
    "- `print(li[2:])` toma un \"slice\" desde el índice 2 hasta el final de la lista. Esto devuelve [4, 3], que son los elementos desde el índice 2 hasta el final.\n",
    "- `print(li[:3])` toma un \"slice\" desde el principio de la lista hasta el índice 3 (exclusivo). Esto devuelve [1, 2, 4], que son los elementos desde el principio hasta el índice 2.\n",
    "- `print(li[::2])` toma un \"slice\" que selecciona cada segundo elemento de la lista. Esto devuelve [1, 4], que son los elementos en los índices 0 y 2.\n",
    "- `print(li[::-1])` toma un \"slice\" que invierte la lista. Esto devuelve [3, 4, 2, 1], que es la lista original invertida."
   ]
  },
  {
   "cell_type": "code",
   "execution_count": 7,
   "metadata": {},
   "outputs": [
    {
     "name": "stdout",
     "output_type": "stream",
     "text": [
      "[2, 4]\n",
      "[4, 3]\n",
      "[1, 2, 4]\n",
      "[1, 4]\n",
      "[3, 4, 2, 1]\n"
     ]
    }
   ],
   "source": [
    "# slice\n",
    "print(li[1:3]) \n",
    "# Omitir comienzo\n",
    "print(li[2:])\n",
    "# Omitir final\n",
    "print(li[:3])  \n",
    "# seleccionar cada segundo elemento\n",
    "print(li[::2]) \n",
    "# invertir la lista\n",
    "print(li[::-1])"
   ]
  },
  {
   "cell_type": "markdown",
   "metadata": {},
   "source": [
    "#### <span style=\"color: red;\">Speach</span>\n",
    "- Puedes utilizar el operador in en Python para verificar si un elemento existe en una lista. En tu caso, estás verificando si el número 1 está en la lista li."
   ]
  },
  {
   "cell_type": "code",
   "execution_count": 8,
   "metadata": {},
   "outputs": [
    {
     "name": "stdout",
     "output_type": "stream",
     "text": [
      "True\n"
     ]
    }
   ],
   "source": [
    "# ver si un elemento existe\n",
    "print(1 in li)"
   ]
  },
  {
   "cell_type": "markdown",
   "metadata": {},
   "source": [
    "#### <span style=\"color: red;\">Speach</span>\n",
    "- Puedes utilizar la función len() en Python para obtener la longitud (es decir, la cantidad de elementos) de una lista. "
   ]
  },
  {
   "cell_type": "code",
   "execution_count": 9,
   "metadata": {},
   "outputs": [
    {
     "name": "stdout",
     "output_type": "stream",
     "text": [
      "4\n"
     ]
    }
   ],
   "source": [
    "# tamaño de lista\n",
    "print(len(li))"
   ]
  },
  {
   "cell_type": "markdown",
   "metadata": {},
   "source": [
    "#### <span style=\"color: red;\">Speach</span>\n",
    "En Python, las tuplas son similares a las listas, pero tienen la característica principal de ser inmutables, lo que significa que no puedes modificar los elementos de una tupla una vez que se han definido. Retorna `TypeError: 'tuple' object does not support item assignment` lo que quiere decir que no podemos reasignar el primer elemento de la tupla tup. "
   ]
  },
  {
   "cell_type": "code",
   "execution_count": 10,
   "metadata": {},
   "outputs": [
    {
     "name": "stdout",
     "output_type": "stream",
     "text": [
      "1\n"
     ]
    },
    {
     "ename": "TypeError",
     "evalue": "'tuple' object does not support item assignment",
     "output_type": "error",
     "traceback": [
      "\u001b[0;31m---------------------------------------------------------------------------\u001b[0m",
      "\u001b[0;31mTypeError\u001b[0m                                 Traceback (most recent call last)",
      "Cell \u001b[0;32mIn[10], line 4\u001b[0m\n\u001b[1;32m      2\u001b[0m tup \u001b[38;5;241m=\u001b[39m (\u001b[38;5;241m1\u001b[39m, \u001b[38;5;241m2\u001b[39m, \u001b[38;5;241m3\u001b[39m)\n\u001b[1;32m      3\u001b[0m \u001b[38;5;28mprint\u001b[39m(tup[\u001b[38;5;241m0\u001b[39m])\n\u001b[0;32m----> 4\u001b[0m \u001b[43mtup\u001b[49m\u001b[43m[\u001b[49m\u001b[38;5;241;43m0\u001b[39;49m\u001b[43m]\u001b[49m \u001b[38;5;241m=\u001b[39m \u001b[38;5;241m3\u001b[39m\n",
      "\u001b[0;31mTypeError\u001b[0m: 'tuple' object does not support item assignment"
     ]
    }
   ],
   "source": [
    "# TUPLES\n",
    "tup = (1, 2, 3)\n",
    "print(tup[0])\n",
    "tup[0] = 3"
   ]
  },
  {
   "cell_type": "markdown",
   "metadata": {},
   "source": [
    "#### <span style=\"color: red;\">Speach</span>\n",
    "Puedes realizar varias operaciones con tuplas en Python. Aquí tienes tus ejemplos:\n",
    "- `print(len(tup))` devuelve la longitud de la tupla tup. En este caso, la tupla tup contiene tres elementos, por lo que imprimirá 3.\n",
    "- `print(tup + (4, 5, 6))` realiza la concatenación de dos tuplas: la tupla tup y la tupla (4, 5, 6). El resultado es una nueva tupla que contiene los elementos de ambas tuplas concatenadas. En este caso, el resultado será (1, 2, 3, 4, 5, 6).\n",
    "- `print(tup[:2])` toma un \"slice\" de la tupla tup desde el principio hasta el índice 2 (exclusivo). Esto devuelve una nueva tupla que contiene los dos primeros elementos de tup, es decir, (1, 2).\n",
    "- `print(2 in tup)` verifica si el valor 2 está presente en la tupla tup. Como 2 está en la tupla, esta expresión evalúa a True."
   ]
  },
  {
   "cell_type": "code",
   "execution_count": 11,
   "metadata": {},
   "outputs": [
    {
     "name": "stdout",
     "output_type": "stream",
     "text": [
      "3\n",
      "(1, 2, 3, 4, 5, 6)\n",
      "(1, 2)\n",
      "True\n"
     ]
    }
   ],
   "source": [
    "print(len(tup))\n",
    "print(tup+(4, 5, 6))\n",
    "print(tup[:2])\n",
    "print(2 in tup)"
   ]
  },
  {
   "cell_type": "markdown",
   "metadata": {},
   "source": [
    "#### <span style=\"color: red;\">Speach</span>\n",
    "- el desempaquetado de tuplas es una característica poderosa y útil en Python.\n",
    "- Este código muestra cómo puedes asignar valores de una tupla o variables a otras variables en una sola línea. También muestra cómo intercambiar los valores de dos variables sin necesidad de una variable temporal utilizando una asignación en paralelo."
   ]
  },
  {
   "cell_type": "code",
   "execution_count": 1,
   "metadata": {},
   "outputs": [
    {
     "name": "stdout",
     "output_type": "stream",
     "text": [
      "1\n",
      "4\n",
      "(4, 5, 6)\n",
      "5\n",
      "4\n"
     ]
    }
   ],
   "source": [
    "# unpack\n",
    "a, b, c = (1, 2, 3)  \n",
    "print(a)\n",
    "d, e, f = 4, 5, 6  \n",
    "print(d)\n",
    "g = 4, 5, 6  \n",
    "print(g)\n",
    "e, d = d, e  \n",
    "print(d)\n",
    "print(e)"
   ]
  },
  {
   "cell_type": "markdown",
   "metadata": {},
   "source": [
    "#### <span style=\"color: red;\">Speach</span>\n",
    "Los diccionarios en Python son una estructura de datos versátil y fundamental que permite almacenar y recuperar datos relacionados de manera eficiente. Funcionan mediante la asignación de valores a claves únicas, lo que facilita la búsqueda y recuperación de datos específicos. Los diccionarios son un elemento esencial en la programación de Python y se utilizan ampliamente en diversas aplicaciones.\n",
    "- En resumen, estamos creando dos diccionarios en Python. Uno está vacío (no tiene nada dentro), y el otro tiene tres elementos con nombres (\"one\", \"two\" y \"three\") y valores correspondientes (1, 2 y 3). Luego, mostramos el segundo diccionario en la pantalla."
   ]
  },
  {
   "cell_type": "code",
   "execution_count": 4,
   "metadata": {},
   "outputs": [
    {
     "name": "stdout",
     "output_type": "stream",
     "text": [
      "{'one': 1, 'two': 2, 'three': 3}\n"
     ]
    }
   ],
   "source": [
    "# DICCIONARIOS\n",
    "empty_dict = {}\n",
    "filled_dict = {\"one\": 1, \"two\": 2, \"three\": 3}\n",
    "print(filled_dict)"
   ]
  },
  {
   "cell_type": "markdown",
   "metadata": {},
   "source": [
    "#### <span style=\"color: red;\">Speach</span>\n",
    "- Cuando usamos filled_dict[\"one\"], Python busca la clave \"one\" en el diccionario y muestra el valor asociado a esa clave, que en este caso es 1."
   ]
  },
  {
   "cell_type": "code",
   "execution_count": 5,
   "metadata": {},
   "outputs": [
    {
     "name": "stdout",
     "output_type": "stream",
     "text": [
      "1\n"
     ]
    }
   ],
   "source": [
    "# Look up values with []\n",
    "print(filled_dict[\"one\"])"
   ]
  },
  {
   "cell_type": "markdown",
   "metadata": {},
   "source": [
    "#### <span style=\"color: red;\">Speach</span>\n",
    "- Este código se utiliza para buscar y mostrar el valor asociado a la clave \"one\" en el diccionario filled_dict"
   ]
  },
  {
   "cell_type": "code",
   "execution_count": 6,
   "metadata": {},
   "outputs": [
    {
     "name": "stdout",
     "output_type": "stream",
     "text": [
      "dict_keys(['one', 'two', 'three'])\n"
     ]
    }
   ],
   "source": [
    "# obtener los identificadores\n",
    "print(filled_dict.keys())  "
   ]
  },
  {
   "cell_type": "markdown",
   "metadata": {},
   "source": [
    "#### <span style=\"color: red;\">Speach</span>\n",
    "- Este código se utiliza para obtener una lista de los valores presentes en el diccionario filled_dict"
   ]
  },
  {
   "cell_type": "code",
   "execution_count": 7,
   "metadata": {},
   "outputs": [
    {
     "name": "stdout",
     "output_type": "stream",
     "text": [
      "dict_values([1, 2, 3])\n"
     ]
    }
   ],
   "source": [
    "# obtener los valores\n",
    "print(filled_dict.values())"
   ]
  },
  {
   "cell_type": "markdown",
   "metadata": {},
   "source": [
    "#### <span style=\"color: red;\">Speach</span>\n",
    "- Este código se utiliza para obtener una lista de todos los elementos (pares clave-valor) presentes en el diccionario filled_dict"
   ]
  },
  {
   "cell_type": "code",
   "execution_count": 9,
   "metadata": {},
   "outputs": [
    {
     "name": "stdout",
     "output_type": "stream",
     "text": [
      "dict_items([('one', 1), ('two', 2), ('three', 3)])\n"
     ]
    }
   ],
   "source": [
    "#obtener todos los elementos\n",
    "print(filled_dict.items()) "
   ]
  },
  {
   "cell_type": "markdown",
   "metadata": {},
   "source": [
    "#### <span style=\"color: red;\">Speach</span>\n",
    "- Este código se utiliza para asignar un nuevo par clave-valor al diccionario filled_dict. En este caso, estamos agregando la clave \"four\" con el valor 4. Luego, mostramos la lista de todos los elementos del diccionario, que ahora incluirá el nuevo par clave-valor"
   ]
  },
  {
   "cell_type": "code",
   "execution_count": 38,
   "metadata": {},
   "outputs": [
    {
     "name": "stdout",
     "output_type": "stream",
     "text": [
      "dict_items([('one', 1), ('two', 2), ('three', 3), ('four', 4)])\n"
     ]
    }
   ],
   "source": [
    "# asignar valor\n",
    "filled_dict[\"four\"] = 4\n",
    "print(filled_dict.items()) "
   ]
  },
  {
   "cell_type": "markdown",
   "metadata": {},
   "source": [
    "#### <span style=\"color: red;\">Speach</span>\n",
    "- En Python, los sets son colecciones de elementos únicos, lo que significa que no pueden contener elementos duplicados. "
   ]
  },
  {
   "cell_type": "code",
   "execution_count": 11,
   "metadata": {},
   "outputs": [
    {
     "name": "stdout",
     "output_type": "stream",
     "text": [
      "{1, 2, 3, 4}\n"
     ]
    }
   ],
   "source": [
    "#SETS\n",
    "empty_set = set()\n",
    "# inicializar\n",
    "some_set = set([1, 2, 2, 3, 4]) \n",
    "print(some_set)"
   ]
  },
  {
   "cell_type": "markdown",
   "metadata": {},
   "source": [
    "- puedes crear sets utilizando llaves {}. Aquí tienes más ejemplos relacionados con sets:\n",
    "- filled_set = {1, 2, 2, 3, 4} crea un conjunto llamado filled_set con los elementos 1, 2, 2, 3 y 4. Los sets automáticamente eliminan los elementos duplicados, por lo que el resultado será {1, 2, 3, 4}."
   ]
  },
  {
   "cell_type": "code",
   "execution_count": 40,
   "metadata": {},
   "outputs": [
    {
     "name": "stdout",
     "output_type": "stream",
     "text": [
      "{1, 2, 3, 4}\n"
     ]
    }
   ],
   "source": [
    "# otra opción\n",
    "filled_set = {1, 2, 2, 3, 4}\n",
    "print(filled_set)"
   ]
  },
  {
   "cell_type": "markdown",
   "metadata": {},
   "source": [
    "- other_set = {3, 4, 5, 6} crea otro conjunto llamado other_set con los elementos 3, 4, 5 y 6.\n",
    "### Los sets son útiles cuando necesitas trabajar con colecciones de elementos únicos y realizar operaciones de conjuntos.\n",
    "- print(filled_set & other_set) realiza la operación de intersección entre filled_set y other_set, que devuelve un nuevo conjunto que contiene los elementos que están en ambos conjuntos. En este caso, la intersección es {3, 4}.\n",
    "- print(filled_set | other_set) realiza la operación de unión entre filled_set y other_set, que devuelve un nuevo conjunto que contiene todos los elementos de ambos conjuntos sin duplicados. En este caso, la unión es {1, 2, 3, 4, 5, 6}."
   ]
  },
  {
   "cell_type": "code",
   "execution_count": 41,
   "metadata": {},
   "outputs": [
    {
     "name": "stdout",
     "output_type": "stream",
     "text": [
      "{3, 4}\n",
      "{1, 2, 3, 4, 5, 6}\n"
     ]
    }
   ],
   "source": [
    "other_set = {3, 4, 5, 6}\n",
    "# intersección\n",
    "print(filled_set & other_set)  \n",
    "# unión\n",
    "print(filled_set | other_set)  "
   ]
  },
  {
   "cell_type": "markdown",
   "metadata": {},
   "source": [
    "- En este ejercicio, estamos buscando encontrar elementos en común entre dos listas sin usar un bucle for. La solución que hemos implementado utilizando conjuntos es una forma eficiente de hacerlo.\n",
    "- Primero, convertimos las listas list1 y list2 en conjuntos, a los que llamamos s1 y s2. Luego, utilizamos el operador & para encontrar la intersección entre los conjuntos. Esto nos da como resultado un conjunto llamado ans que contiene los elementos en común entre las dos listas.\n",
    "- En este ejemplo, como no hay elementos en común entre list1 y list2, ans será un conjunto vacío (set())."
   ]
  },
  {
   "cell_type": "code",
   "execution_count": 12,
   "metadata": {},
   "outputs": [
    {
     "name": "stdout",
     "output_type": "stream",
     "text": [
      "set()\n"
     ]
    }
   ],
   "source": [
    "#PRACTICA\n",
    "#3 De 2 listas identificar si existe al menos algun elemento en común - sin for loop\n",
    "list1 = [1,2,3,4]\n",
    "list2 = [5,6,7,9]\n",
    "s1 = set(list1)\n",
    "s2 = set(list2)\n",
    "ans = s1 & s2\n",
    "print(ans)"
   ]
  },
  {
   "cell_type": "markdown",
   "metadata": {},
   "source": [
    "- En esta práctica, estamos trabajando con un diccionario llamado ndict que contiene pares clave-valor. El objetivo es sumar todos los valores presentes en el diccionario\n",
    "- primero obtenemos todos los valores del diccionario utilizando ndict.values(). Luego, utilizamos la función sum() para sumar todos los valores y almacenamos el resultado en la variable total. Finalmente, imprimimos el valor total, que será la suma de los valores en el diccionario."
   ]
  },
  {
   "cell_type": "code",
   "execution_count": 43,
   "metadata": {},
   "outputs": [
    {
     "name": "stdout",
     "output_type": "stream",
     "text": [
      "55\n"
     ]
    }
   ],
   "source": [
    "#PRACTICA\n",
    "#4 Diccionario - sumar todos los valores presentes\n",
    "ndict = {\n",
    "'one':1,\n",
    "'two':2,\n",
    "'three':3,\n",
    "'four':4,\n",
    "'five':5,\n",
    "'six':6,\n",
    "'seven':7,\n",
    "'eight':8,\n",
    "'nine':9,\n",
    "'ten':10\n",
    "}\n",
    "nvalues = ndict.values()\n",
    "print(sum(nvalues))"
   ]
  },
  {
   "cell_type": "markdown",
   "metadata": {},
   "source": [
    "## 3. Control de flujo"
   ]
  },
  {
   "cell_type": "markdown",
   "metadata": {},
   "source": [
    "- En este caso, tenemos una variable llamada some_var que tiene un valor de 5. Comenzamos evaluando condiciones para saber qué acción tomar.\n",
    "- La primera condición, if some_var > 10, verifica si some_var es mayor que 10. Pero en este caso, eso es falso, porque 5 no es mayor que 10. Así que no hacemos nada en ese bloque.\n",
    "- Luego, pasamos a la siguiente condición, elif some_var < 10, que verifica si some_var es menor que 10. Esta condición es verdadera, porque 5 es, de hecho, menor que 10. Entonces, ejecutamos el código dentro de esa condición, que simplemente imprime 'some_var es menor que 10'.\n",
    "- La última cláusula else se omite porque solo se ejecuta cuando ninguna de las condiciones anteriores es verdadera. En este caso, la condición elif fue verdadera, por lo que no necesitamos el else.\""
   ]
  },
  {
   "cell_type": "code",
   "execution_count": 44,
   "metadata": {},
   "outputs": [
    {
     "name": "stdout",
     "output_type": "stream",
     "text": [
      "some_var is smaller than 10.\n"
     ]
    }
   ],
   "source": [
    "some_var = 5\n",
    "#IF/THEN\n",
    "if some_var > 10:\n",
    "    print(\"some_var is totally bigger than 10.\")\n",
    "elif some_var < 10: \n",
    "    print(\"some_var is smaller than 10.\")\n",
    "else: \n",
    "    print(\"some_var is indeed 10.\")"
   ]
  },
  {
   "cell_type": "markdown",
   "metadata": {},
   "source": [
    "- Este bucle for recorre una lista de animales e imprime un mensaje para cada uno de ellos. La variable animal toma el valor de cada elemento de la lista en cada iteración del bucle. "
   ]
  },
  {
   "cell_type": "code",
   "execution_count": 45,
   "metadata": {},
   "outputs": [
    {
     "name": "stdout",
     "output_type": "stream",
     "text": [
      "dog is a mammal\n",
      "cat is a mammal\n",
      "mouse is a mammal\n"
     ]
    }
   ],
   "source": [
    "#FOR LOOPS\n",
    "for animal in [\"dog\", \"cat\", \"mouse\"]:\n",
    "    print(\"{0} is a mammal\".format(animal))"
   ]
  },
  {
   "cell_type": "markdown",
   "metadata": {},
   "source": [
    "- Este bucle for utiliza range(4) para generar una secuencia de números del 0 al 3 (4 no está incluido) y luego imprime cada número en la secuencia."
   ]
  },
  {
   "cell_type": "code",
   "execution_count": 46,
   "metadata": {},
   "outputs": [
    {
     "name": "stdout",
     "output_type": "stream",
     "text": [
      "0\n",
      "1\n",
      "2\n",
      "3\n"
     ]
    }
   ],
   "source": [
    "for i in range(4):\n",
    "    print(i)"
   ]
  },
  {
   "cell_type": "markdown",
   "metadata": {},
   "source": [
    "- Este bucle while se ejecuta mientras la condición x < 4 sea verdadera. En cada iteración, se imprime el valor de x y se incrementa en 1. El bucle se ejecuta hasta que x sea igual o mayor que 4. La salida será:"
   ]
  },
  {
   "cell_type": "code",
   "execution_count": 47,
   "metadata": {},
   "outputs": [
    {
     "name": "stdout",
     "output_type": "stream",
     "text": [
      "0\n",
      "1\n",
      "2\n",
      "3\n"
     ]
    }
   ],
   "source": [
    "x = 0\n",
    "while x < 4:\n",
    "    print(x)\n",
    "    x += 1  "
   ]
  },
  {
   "cell_type": "markdown",
   "metadata": {},
   "source": [
    "- el código funciona según lo esperado, imprimiendo \"FIZZ\" para los múltiplos de 3, \"BUZZ\" para los múltiplos de 5 y \"FIZZBUZZ\" para los múltiplos de ambos 3 y 5, mientras que imprime el número en los demás casos. Esta es una práctica común en programación para evaluar la comprensión de las estructuras condicionales. ¡Bien hecho!"
   ]
  },
  {
   "cell_type": "code",
   "execution_count": 13,
   "metadata": {},
   "outputs": [
    {
     "name": "stdout",
     "output_type": "stream",
     "text": [
      "1\n",
      "2\n",
      "FIZZ\n",
      "4\n",
      "BUZZ\n",
      "FIZZ\n",
      "7\n",
      "8\n",
      "FIZZ\n",
      "BUZZ\n",
      "11\n",
      "FIZZ\n",
      "13\n",
      "14\n",
      "FIZZBUZZ\n",
      "16\n",
      "17\n",
      "FIZZ\n",
      "19\n",
      "BUZZ\n",
      "FIZZ\n",
      "22\n",
      "23\n",
      "FIZZ\n",
      "BUZZ\n",
      "26\n",
      "FIZZ\n",
      "28\n",
      "29\n",
      "FIZZBUZZ\n",
      "31\n",
      "32\n",
      "FIZZ\n",
      "34\n",
      "BUZZ\n",
      "FIZZ\n",
      "37\n",
      "38\n",
      "FIZZ\n",
      "BUZZ\n",
      "41\n",
      "FIZZ\n",
      "43\n",
      "44\n",
      "FIZZBUZZ\n",
      "46\n",
      "47\n",
      "FIZZ\n",
      "49\n",
      "BUZZ\n"
     ]
    }
   ],
   "source": [
    "#PRACTICA\n",
    "#5 IF/ELSE - programa que imprime nros de 1 a 50. Si es multiplo de 3 imprimir FIZZ. Si es multiplo de 5 imprimir BUZZ.\n",
    "#Si es multiplo de ambos FIZZBUZZ. En el resto de casos solo el numero.\n",
    "for i in range(1, 51):\n",
    "    if i % 3 == 0 and i % 5 == 0:\n",
    "        print('FIZZBUZZ')\n",
    "    elif i % 3 == 0:\n",
    "        print('FIZZ')\n",
    "    elif i % 5 ==0:\n",
    "        print('BUZZ')\n",
    "    else:\n",
    "        print(i)"
   ]
  },
  {
   "cell_type": "markdown",
   "metadata": {},
   "source": [
    "- En este juego, estamos tratando de adivinar un número que la computadora eligió al azar entre 1 y 100. Comenzamos con un intento inicial de 0.\n",
    "- Luego, entramos en un bucle que continúa ejecutándose hasta que adivinemos el número correcto. En cada intento, ingresamos un número y la computadora nos dice si ese número es mayor o menor que el número que estamos tratando de adivinar.\n",
    "- Si adivinamos correctamente, el juego termina y muestra 'ACERTADO!' en pantalla. Pero si no, seguimos intentando hasta que finalmente acertamos el número.\"\n",
    "- En resumen, el juego consiste en adivinar el número secreto de la computadora, y esta nos da pistas si estamos cerca o no."
   ]
  },
  {
   "cell_type": "code",
   "execution_count": 17,
   "metadata": {},
   "outputs": [
    {
     "name": "stdin",
     "output_type": "stream",
     "text": [
      "Elija un número entre 1 y 100:  50\n"
     ]
    },
    {
     "name": "stdout",
     "output_type": "stream",
     "text": [
      "MENOR!\n"
     ]
    },
    {
     "name": "stdin",
     "output_type": "stream",
     "text": [
      "Elija un número entre 1 y 100:  25\n"
     ]
    },
    {
     "name": "stdout",
     "output_type": "stream",
     "text": [
      "MENOR!\n"
     ]
    },
    {
     "name": "stdin",
     "output_type": "stream",
     "text": [
      "Elija un número entre 1 y 100:  13\n"
     ]
    },
    {
     "name": "stdout",
     "output_type": "stream",
     "text": [
      "MAYOR!\n"
     ]
    },
    {
     "name": "stdin",
     "output_type": "stream",
     "text": [
      "Elija un número entre 1 y 100:  17\n"
     ]
    },
    {
     "name": "stdout",
     "output_type": "stream",
     "text": [
      "MAYOR!\n"
     ]
    },
    {
     "name": "stdin",
     "output_type": "stream",
     "text": [
      "Elija un número entre 1 y 100:  22\n"
     ]
    },
    {
     "name": "stdout",
     "output_type": "stream",
     "text": [
      "MAYOR!\n"
     ]
    },
    {
     "name": "stdin",
     "output_type": "stream",
     "text": [
      "Elija un número entre 1 y 100:  24\n"
     ]
    },
    {
     "name": "stdout",
     "output_type": "stream",
     "text": [
      "ACERTADO!\n"
     ]
    }
   ],
   "source": [
    "#PRACTICA\n",
    "#6 BUCLES - programa para adivinar un número generado al azar con input, indicar si es mayor o menor al buscado\n",
    "import random\n",
    "target_num, guess_num = random.randint(1, 100), 0\n",
    "while target_num != guess_num:\n",
    "    guess_num = int(input('Elija un número entre 1 y 100: '))\n",
    "    if guess_num < target_num:\n",
    "        print('MAYOR!')\n",
    "    elif guess_num > target_num:\n",
    "        print('MENOR!')\n",
    "print('ACERTADO!')"
   ]
  },
  {
   "cell_type": "markdown",
   "metadata": {},
   "source": [
    "## 4. Funciones"
   ]
  },
  {
   "cell_type": "markdown",
   "metadata": {},
   "source": [
    "- Este código define una función llamada add que toma dos números como entrada, x e y. La función realiza dos acciones:\n",
    "- Imprime en pantalla un mensaje que muestra los valores de x e y utilizando la función format. Esto se hace para mostrar información - ---- sobre los valores que se están procesando en la función.\n",
    "- Luego, la función suma los valores de x e y y devuelve el resultado de la suma como resultado de la función.\n",
    "- En resumen, esta función toma dos números, muestra información sobre ellos y luego devuelve la suma de esos números."
   ]
  },
  {
   "cell_type": "code",
   "execution_count": 18,
   "metadata": {},
   "outputs": [],
   "source": [
    "def add(x, y):\n",
    "    print (\"x is {0} and y is {1}\".format(x, y))\n",
    "    return x + y "
   ]
  },
  {
   "cell_type": "markdown",
   "metadata": {},
   "source": [
    "- Puedes llamar a la función con diferentes argumentos y especificarlos por nombre si lo deseas."
   ]
  },
  {
   "cell_type": "code",
   "execution_count": 19,
   "metadata": {},
   "outputs": [
    {
     "name": "stdout",
     "output_type": "stream",
     "text": [
      "x is 5 and y is 6\n",
      "11\n",
      "x is 5 and y is 6\n",
      "11\n"
     ]
    }
   ],
   "source": [
    "print(add(5, 6)) \n",
    "print(add(y=6, x=5))  "
   ]
  },
  {
   "cell_type": "markdown",
   "metadata": {},
   "source": [
    "- Este código define una función llamada varargs que utiliza un asterisco * antes de args, lo que significa que puede aceptar cualquier número de argumentos. En este caso, cuando llamamos a la función varargs con los valores 1, 2 y 3, esos valores se recopilan en una tupla y se devuelven como resultado de la función.\n",
    "- En resumen, esta función puede aceptar múltiples argumentos y los devuelve como una tupla."
   ]
  },
  {
   "cell_type": "code",
   "execution_count": 20,
   "metadata": {},
   "outputs": [
    {
     "name": "stdout",
     "output_type": "stream",
     "text": [
      "(1, 2, 3)\n"
     ]
    }
   ],
   "source": [
    "def varargs(*args):\n",
    "    return args\n",
    "print(varargs(1, 2, 3))"
   ]
  },
  {
   "cell_type": "markdown",
   "metadata": {},
   "source": [
    "- Este código define una función llamada keyword_args que utiliza dos asteriscos ** antes de kwargs. Esto significa que puede aceptar un número variable de argumentos en forma de pares clave-valor. Cuando llamamos a la función keyword_args con los argumentos big=\"foot\" y loch=\"ness\", estos pares clave-valor se recopilan en un diccionario y se devuelven como resultado de la función.\n",
    "- En resumen, esta función acepta múltiples argumentos en forma de pares clave-valor y los devuelve como un diccionario."
   ]
  },
  {
   "cell_type": "code",
   "execution_count": 53,
   "metadata": {},
   "outputs": [
    {
     "name": "stdout",
     "output_type": "stream",
     "text": [
      "{'big': 'foot', 'loch': 'ness'}\n"
     ]
    }
   ],
   "source": [
    "def keyword_args(**kwargs):\n",
    "    return kwargs\n",
    "print(keyword_args(big=\"foot\", loch=\"ness\"))"
   ]
  },
  {
   "cell_type": "markdown",
   "metadata": {},
   "source": [
    "- Tenemos una variable x que tiene un valor inicial de 5.\n",
    "- La función set_x(num) recibe un número como argumento y crea una variable local llamada x dentro de la función con ese valor. Luego, imprime el valor local de x. Esto no afecta a la variable global x.\n",
    "- La función set_global_x(num) utiliza la palabra clave global para indicar que estamos trabajando con la variable global x. Primero, imprime el valor global de x, que es 5. Luego, actualiza la variable global x con el valor pasado como argumento (num) y lo imprime nuevamente.\n",
    "- Llamamos a set_x(43), lo que crea una variable local x con el valor 43, la imprime y luego la función termina. Esto no afecta a la variable global x.\n",
    "- Luego llamamos a set_global_x(6). La función imprime el valor global actual de x, que es 5, y luego actualiza la variable global x con el valor 6 y lo imprime nuevamente.\n",
    "- Finalmente, después de todas las llamadas a funciones, imprimimos la variable global x. Como se actualizó dentro de set_global_x(), su valor ahora es 6.\n",
    "- En resumen, este código muestra cómo las variables locales y globales pueden tener diferentes ámbitos y cómo se pueden modificar dentro de funciones."
   ]
  },
  {
   "cell_type": "code",
   "execution_count": 54,
   "metadata": {},
   "outputs": [
    {
     "name": "stdout",
     "output_type": "stream",
     "text": [
      "43\n",
      "5\n",
      "6\n",
      "6\n"
     ]
    }
   ],
   "source": [
    "# Scope\n",
    "x = 5\n",
    "\n",
    "def set_x(num):\n",
    "    x = num  \n",
    "    print(x)\n",
    "    \n",
    "def set_global_x(num):\n",
    "    global x\n",
    "    print(x)\n",
    "    x = num \n",
    "    print(x)\n",
    "\n",
    "set_x(43)\n",
    "set_global_x(6)\n",
    "print(x)"
   ]
  },
  {
   "cell_type": "markdown",
   "metadata": {},
   "source": [
    "Este código define una función string_test que calcula y muestra el número de letras mayúsculas y minúsculas en una cadena. En el ejemplo proporcionado, la función se llama con la cadena 'The quick Brown Fox', y muestra el resultado en la pantalla."
   ]
  },
  {
   "cell_type": "code",
   "execution_count": 21,
   "metadata": {},
   "outputs": [
    {
     "name": "stdout",
     "output_type": "stream",
     "text": [
      "Cadena Original:  The quick Brown Fox\n",
      "Número de letras mayúsculas:  3\n",
      "Número de letras minúsculas:  13\n"
     ]
    }
   ],
   "source": [
    "#PRACTICA\n",
    "#7 FUNCIONES - crear un programa que calcula el número de mayusculas y minusculas de una cadena\n",
    "# En este programa, creamos una función llamada string_test que calcula el número de letras mayúsculas y minúsculas en una cadena dada.\n",
    "\n",
    "def string_test(s):\n",
    "    # Creamos un diccionario llamado 'd' para almacenar el recuento de letras mayúsculas y minúsculas.\n",
    "    d = {\"UPPER_CASE\": 0, \"LOWER_CASE\": 0}\n",
    "    \n",
    "    # Iteramos a través de cada carácter en la cadena 's'.\n",
    "    for c in s:\n",
    "        if c.isupper():\n",
    "            # Si el carácter es una letra mayúscula, incrementamos el contador de letras mayúsculas en el diccionario.\n",
    "            d[\"UPPER_CASE\"] += 1\n",
    "        elif c.islower():\n",
    "            # Si el carácter es una letra minúscula, incrementamos el contador de letras minúsculas en el diccionario.\n",
    "            d[\"LOWER_CASE\"] += 1\n",
    "    \n",
    "    # Finalmente, imprimimos la cadena original y el recuento de letras mayúsculas y minúsculas.\n",
    "    print(\"Cadena Original: \", s)\n",
    "    print(\"Número de letras mayúsculas: \", d[\"UPPER_CASE\"])\n",
    "    print(\"Número de letras minúsculas: \", d[\"LOWER_CASE\"])\n",
    "\n",
    "# Llamamos a la función con una cadena de ejemplo.\n",
    "string_test('The quick Brown Fox')"
   ]
  },
  {
   "cell_type": "markdown",
   "metadata": {},
   "source": [
    "- Este código define una función llamada exec_code que utiliza la función exec para ejecutar una cadena de código. En este caso, la cadena de código contiene una función llamada factorial que calcula el factorial de un número y luego llama a esa función con el valor 5 para calcular el factorial de 5. El resultado se imprime en pantalla cuando ejecutamos la función exec_code(code)."
   ]
  },
  {
   "cell_type": "code",
   "execution_count": 22,
   "metadata": {},
   "outputs": [
    {
     "name": "stdout",
     "output_type": "stream",
     "text": [
      "120\n"
     ]
    }
   ],
   "source": [
    "#8 EXEC - ejecutar el siguiente codigo en una cadena usando funciones\n",
    "# Definimos la cadena de código que queremos ejecutar.\n",
    "code = \"\"\" \n",
    "def factorial(num): \n",
    "    fact = 1 \n",
    "    for i in range(1, num + 1): \n",
    "        fact = fact * i \n",
    "    return fact \n",
    "print(factorial(5)) \n",
    "\"\"\"\n",
    "\n",
    "# Definimos una función llamada 'exec_code' que toma una cadena 'code' como argumento.\n",
    "def exec_code(code):\n",
    "    # Utilizamos la función 'exec' para ejecutar la cadena de código proporcionada.\n",
    "    exec(code)\n",
    "\n",
    "# Llamamos a la función 'exec_code' y le pasamos la cadena 'code' como argumento.\n",
    "exec_code(code)"
   ]
  },
  {
   "cell_type": "markdown",
   "metadata": {},
   "source": [
    "- El comando import this en Python muestra el \"Zen de Python\", que es una colección de principios de diseño y filosofía que guían el desarrollo del lenguaje Python."
   ]
  },
  {
   "cell_type": "code",
   "execution_count": 23,
   "metadata": {},
   "outputs": [
    {
     "name": "stdout",
     "output_type": "stream",
     "text": [
      "The Zen of Python, by Tim Peters\n",
      "\n",
      "Beautiful is better than ugly.\n",
      "Explicit is better than implicit.\n",
      "Simple is better than complex.\n",
      "Complex is better than complicated.\n",
      "Flat is better than nested.\n",
      "Sparse is better than dense.\n",
      "Readability counts.\n",
      "Special cases aren't special enough to break the rules.\n",
      "Although practicality beats purity.\n",
      "Errors should never pass silently.\n",
      "Unless explicitly silenced.\n",
      "In the face of ambiguity, refuse the temptation to guess.\n",
      "There should be one-- and preferably only one --obvious way to do it.\n",
      "Although that way may not be obvious at first unless you're Dutch.\n",
      "Now is better than never.\n",
      "Although never is often better than *right* now.\n",
      "If the implementation is hard to explain, it's a bad idea.\n",
      "If the implementation is easy to explain, it may be a good idea.\n",
      "Namespaces are one honking great idea -- let's do more of those!\n"
     ]
    }
   ],
   "source": [
    "import this"
   ]
  },
  {
   "cell_type": "code",
   "execution_count": null,
   "metadata": {},
   "outputs": [],
   "source": []
  }
 ],
 "metadata": {
  "kernelspec": {
   "display_name": "Python 3 (ipykernel)",
   "language": "python",
   "name": "python3"
  },
  "language_info": {
   "codemirror_mode": {
    "name": "ipython",
    "version": 3
   },
   "file_extension": ".py",
   "mimetype": "text/x-python",
   "name": "python",
   "nbconvert_exporter": "python",
   "pygments_lexer": "ipython3",
   "version": "3.10.12"
  }
 },
 "nbformat": 4,
 "nbformat_minor": 4
}
