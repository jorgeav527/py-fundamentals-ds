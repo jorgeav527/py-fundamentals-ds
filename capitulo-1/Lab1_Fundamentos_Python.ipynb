{
 "cells": [
  {
   "cell_type": "code",
   "execution_count": 7,
   "metadata": {},
   "outputs": [],
   "source": [
    "#Referencia https://learnxinyminutes.com/docs/python/"
   ]
  },
  {
   "cell_type": "markdown",
   "metadata": {},
   "source": [
    "## 1. Tipos  de datos y operadores"
   ]
  },
  {
   "cell_type": "markdown",
   "metadata": {},
   "source": [
    "#### <span style=\"color: red;\">Speach</span>\n",
    "Estos son ejemplos de operaciones matemáticas básicas realizadas en Python:\n",
    "\n",
    "- `print(1+1)` la suma de 1 más 1, que es igual a 2.\n",
    "- `print(8-1)` la resta de 1 a 8, que es igual a 7.\n",
    "- `print(10*2)` el producto de 10 por 2, que es igual a 20.\n",
    "- `print(35/5)` la división de 35 entre 5, que es igual a 7.0 (Python devuelve un número decimal cuando realizas divisiones incluso si el resultado es un número entero para mantener la precisión). (También se les dice numeros punto flotante o coma flotante)"
   ]
  },
  {
   "cell_type": "code",
   "execution_count": 3,
   "metadata": {},
   "outputs": [
    {
     "name": "stdout",
     "output_type": "stream",
     "text": [
      "2\n",
      "7\n",
      "20\n",
      "7.0\n"
     ]
    }
   ],
   "source": [
    "# Operaciones\n",
    "print(1+1) \n",
    "print(8-1)  \n",
    "print(10*2)  \n",
    "print(35/5)"
   ]
  },
  {
   "cell_type": "markdown",
   "metadata": {},
   "source": [
    "#### <span style=\"color: red;\">Speach</span>\n",
    "- Ambas divisiones dan el mismo resultado, 2.75, pero la primera división usa números enteros y la segunda usa números decimales. Python realiza la conversión automáticamente si uno de los operandos es un float, para que el resultado sea lo más preciso posible."
   ]
  },
  {
   "cell_type": "code",
   "execution_count": 4,
   "metadata": {},
   "outputs": [
    {
     "name": "stdout",
     "output_type": "stream",
     "text": [
      "2.75\n",
      "2.75\n"
     ]
    }
   ],
   "source": [
    "# División \n",
    "print(11/4) \n",
    "print(11.0/4.0)  "
   ]
  },
  {
   "cell_type": "markdown",
   "metadata": {},
   "source": [
    "#### <span style=\"color: red;\">Speach</span>\n",
    "- `print(5//3)` En el primer caso, cuando ambos números son enteros, el operador `//` realiza una división entera y el resultado es el cociente de la división, redondeado hacia abajo si es necesario. En este caso, obtenemos `1`.\n",
    "\n",
    "- `print(5.0//3.0)` En el segundo caso, estamos dividiendo dos números decimales utilizando el operador `//`, que realiza una división entera. El resultado también es el cociente, pero en formato de punto flotante. En este caso, obtenemos `1.0` como float.\n",
    "\n",
    "- `print(-5//3)` En el tercer caso, estamos dividiendo un número entero negativo por un número entero positivo utilizando `//`. El resultado es el cociente de la división, redondeado hacia abajo, lo que nos da `-2`.\n",
    "\n",
    "- `print(-5.0//3.0)` En el cuarto y último, estamos dividiendo un número decimal negativo por un número decimal positivo utilizando `//`. El resultado es el cociente de la división, redondeado hacia abajo, lo que nos da `-2.0` como punto flotante."
   ]
  },
  {
   "cell_type": "code",
   "execution_count": 8,
   "metadata": {},
   "outputs": [
    {
     "name": "stdout",
     "output_type": "stream",
     "text": [
      "1\n",
      "1.0\n",
      "-2\n",
      "-2.0\n"
     ]
    }
   ],
   "source": [
    "# División con redondeo\n",
    "print(5//3) \n",
    "print(5.0//3.0) \n",
    "print(-5//3) \n",
    "print(-5.0//3.0)"
   ]
  },
  {
   "cell_type": "markdown",
   "metadata": {},
   "source": [
    "#### <span style=\"color: red;\">Speach</span>\n",
    "- El operador % que conocemos como porcentaje en Python se utiliza para calcular el módulo de una división, es decir, el residuo de la división, Esto significa que cuando divides 7 por 3, obtienes un cociente de 2 y un residuo de 1:"
   ]
  },
  {
   "cell_type": "code",
   "execution_count": 9,
   "metadata": {},
   "outputs": [
    {
     "name": "stdout",
     "output_type": "stream",
     "text": [
      "1\n"
     ]
    }
   ],
   "source": [
    "# Modulo \n",
    "print(7%3)"
   ]
  },
  {
   "cell_type": "markdown",
   "metadata": {},
   "source": [
    "#### <span style=\"color: red;\">Speach</span>\n",
    "- El operador ** en Python se utiliza para calcular exponentes. Esto significa que 2 elevado a la cuarta potencia es igual a 16."
   ]
  },
  {
   "cell_type": "code",
   "execution_count": 10,
   "metadata": {},
   "outputs": [
    {
     "name": "stdout",
     "output_type": "stream",
     "text": [
      "16\n"
     ]
    }
   ],
   "source": [
    "# Exponentes\n",
    "print(2**4)"
   ]
  },
  {
   "cell_type": "markdown",
   "metadata": {},
   "source": [
    "#### <span style=\"color: red;\">Speach</span>\n",
    "Por si no se acuerdan el acrónimo PEMDAS se usa para recordar el orden de las operaciones aritméticas:\n",
    "\n",
    "- Primero las operaciones dentro de los paréntesis.\n",
    "- Luego exponentes o potencias.\n",
    "- Luego multiplicaciones y divisiones de izquierda a derecha.\n",
    "- Y por último sumas y restas también de izquierda a derecha.\n",
    "- El primer paréntesis asegura el comando `print` pero el segúndo paréntesis realiza la adición antes de la multiplicación, siguiendo la regla de PEMDAS."
   ]
  },
  {
   "cell_type": "code",
   "execution_count": 11,
   "metadata": {},
   "outputs": [
    {
     "name": "stdout",
     "output_type": "stream",
     "text": [
      "8\n"
     ]
    }
   ],
   "source": [
    "# PEMDAS\n",
    "print((1+3)*2)"
   ]
  },
  {
   "cell_type": "markdown",
   "metadata": {},
   "source": [
    "#### <span style=\"color: red;\">Speach</span>\n",
    "En Python, los operadores booleanos and (y) y or (o) se utilizan para realizar operaciones lógicas entre valores booleanos.\n",
    "\n",
    "- `print(True and False)` realiza una operación (and) entre booleanos. El operador (and) devuelve Verdadero solo si ambos operandos son Verdaderos. En este caso, como uno de los operandos es Falso, el resultado será Falso.\n",
    "\n",
    "- `print(False or True)` realiza una operación (or) entre booleanos. El operador (or) devuelve Verdadero si al menos uno de los operandos es Verdadero. En este caso, uno de los operandos es True, por lo que el resultado será True."
   ]
  },
  {
   "cell_type": "code",
   "execution_count": 12,
   "metadata": {},
   "outputs": [
    {
     "name": "stdout",
     "output_type": "stream",
     "text": [
      "False\n",
      "True\n"
     ]
    }
   ],
   "source": [
    "# Boolean\n",
    "print(True and False)\n",
    "print(False or True)  "
   ]
  },
  {
   "cell_type": "markdown",
   "metadata": {},
   "source": [
    "#### <span style=\"color: red;\">Speach</span>\n",
    "\n",
    "En Python, las comparaciones entre valores numéricos y valores booleanos pueden ser interesantes debido a que:\n",
    "\n",
    "- En la primera expresión comparamos si el entero 0 es igual al valor booleano Falso. En Python, False se considera igual a 0 en contextos de comparación numérica, como 0 es igual a Falso, esta expresión es Verdadera.\n",
    "\n",
    "- En la segunda expresión comparamos si el entero 2 es igual al valor booleano Verdadero. En Python, True se considera igual a 1 en contextos de comparación numérica. Como 2 no es igual a 1, esta expresión es falsa.\n",
    "\n",
    "- En la tercera expresión comparamos si el entero 1 es igual al valor booleano Verdadero. Al igual que en el caso anterior, True se considera igual a 1 en contextos de comparación numérica. Como 1 es igual a 1, esta expresión es verdadera.\n",
    "\n",
    "Por lo mismo algunas veces van a notar que varios programas especialmente en sistemas Linux, retornan 1 si la ejecución del mismo es verdadera o se ejecuto con exito y si devuelve 0, las posibilidades de que el programa se haya ejecutado con errores son altas."
   ]
  },
  {
   "cell_type": "code",
   "execution_count": 1,
   "metadata": {},
   "outputs": [
    {
     "name": "stdout",
     "output_type": "stream",
     "text": [
      "True\n",
      "False\n",
      "True\n"
     ]
    }
   ],
   "source": [
    "print(0==False)  \n",
    "print(2==True)  \n",
    "print(1==True) "
   ]
  },
  {
   "cell_type": "markdown",
   "metadata": {},
   "source": [
    "#### <span style=\"color: red;\">Speach</span>\n",
    "- El operador not invierte el valor booleano al que se aplica, cambiando True a False y False a True. Por lo tanto ..."
   ]
  },
  {
   "cell_type": "code",
   "execution_count": 2,
   "metadata": {},
   "outputs": [
    {
     "name": "stdout",
     "output_type": "stream",
     "text": [
      "False\n",
      "True\n"
     ]
    }
   ],
   "source": [
    "# negación\n",
    "print(not True)\n",
    "print(not False)"
   ]
  },
  {
   "cell_type": "markdown",
   "metadata": {},
   "source": [
    "#### <span style=\"color: red;\">Speach</span>\n",
    "- Esto muestra cómo se utiliza el operador de igualdad (==) para comparar valores en Python y cómo devuelve True cuando los valores son iguales y False cuando son diferentes."
   ]
  },
  {
   "cell_type": "code",
   "execution_count": 3,
   "metadata": {},
   "outputs": [
    {
     "name": "stdout",
     "output_type": "stream",
     "text": [
      "True\n",
      "False\n"
     ]
    }
   ],
   "source": [
    "# Igualdad\n",
    "print(1==1) \n",
    "print(2==1)"
   ]
  },
  {
   "cell_type": "markdown",
   "metadata": {},
   "source": [
    "#### <span style=\"color: red;\">Speach</span>\n",
    "- Esto muestra cómo se utiliza el operador de desigualdad (!=) para comparar si dos valores no son iguales en Python, y devuelve True cuando los valores son diferentes y False cuando son iguales."
   ]
  },
  {
   "cell_type": "code",
   "execution_count": 4,
   "metadata": {},
   "outputs": [
    {
     "name": "stdout",
     "output_type": "stream",
     "text": [
      "False\n",
      "True\n"
     ]
    }
   ],
   "source": [
    "# Desigual\n",
    "print(1!=1) \n",
    "print(2!=1)"
   ]
  },
  {
   "cell_type": "markdown",
   "metadata": {},
   "source": [
    "#### <span style=\"color: red;\">Speach</span>\n",
    "- `print(1 < 10)` compara si 1 es menor que 10, lo cual es verdadero.\n",
    "- `print(1 > 10)` compara si 1 es mayor que 10, lo cual es falso.\n",
    "- `print(2 <= 2)` compara si 2 es menor o igual a 2, lo cual es verdadero.\n",
    "- `print(2 >= 2)` compara si 2 es mayor o igual a 2, lo cual es verdadero.\n",
    "- `print(1 < 2 < 3)` esta expresión combina dos comparaciones: primero, verifica si 1 es menor que 2 (verdadero), luego verifica si 2 es menor que 3 (verdadero). Ambas comparaciones son verdaderas, por lo que el resultado será True. Esto demuestra cómo puedes encadenar múltiples comparaciones en una sola expresión.\n",
    "- `print(2 < 3 < 2)` también combina dos comparaciones: primero, verifica si 2 es menor que 3 (verdadero), luego verifica si 3 es menor que 2 (falso). Como una de las comparaciones es falsa, el resultado general será False."
   ]
  },
  {
   "cell_type": "code",
   "execution_count": 14,
   "metadata": {},
   "outputs": [
    {
     "name": "stdout",
     "output_type": "stream",
     "text": [
      "True\n",
      "False\n",
      "True\n",
      "True\n",
      "True\n",
      "False\n"
     ]
    }
   ],
   "source": [
    "# Comparaciones\n",
    "print(1<10)  \n",
    "print(1>10) \n",
    "print(2<=2) \n",
    "print(2>=2) \n",
    "print(1<2<3)  \n",
    "print(2<3<2) "
   ]
  },
  {
   "cell_type": "markdown",
   "metadata": {},
   "source": [
    "#### <span style=\"color: red;\">Speach</span>\n",
    "- Puedes elegir entre comillas dobles o comillas simples según tus preferencias personales o según el contexto de tu código. Lo importante es ser coherente en su uso dentro de un mismo programa o script."
   ]
  },
  {
   "cell_type": "code",
   "execution_count": 5,
   "metadata": {},
   "outputs": [
    {
     "name": "stdout",
     "output_type": "stream",
     "text": [
      "This is a string.\n",
      "This is also a string.\n"
     ]
    }
   ],
   "source": [
    "# Cadenas\n",
    "print(\"This is a string.\")\n",
    "print('This is also a string.')"
   ]
  },
  {
   "cell_type": "markdown",
   "metadata": {},
   "source": [
    "#### <span style=\"color: red;\">Speach</span>\n",
    "- Puedes concatenar cadenas utilizando el operador +, colocándolas una al lado de la otra sin operador (como en el segundo ejemplo), o repetir una cadena múltiples veces utilizando el operador * en Python."
   ]
  },
  {
   "cell_type": "code",
   "execution_count": 16,
   "metadata": {},
   "outputs": [
    {
     "name": "stdout",
     "output_type": "stream",
     "text": [
      "Hello world!\n",
      "Hello world!\n",
      "HelloHelloHello\n"
     ]
    }
   ],
   "source": [
    "# Operaciones con cadenas\n",
    "print(\"Hello \"+\"world!\")\n",
    "print(\"Hello \"\"world!\") \n",
    "print(\"Hello\"*3) "
   ]
  },
  {
   "cell_type": "markdown",
   "metadata": {},
   "source": [
    "#### <span style=\"color: red;\">Speach</span>\n",
    "- En Python, puedes acceder a caracteres específicos de una cadena utilizando la indexación. La indexación en Python comienza desde 0"
   ]
  },
  {
   "cell_type": "code",
   "execution_count": 8,
   "metadata": {},
   "outputs": [
    {
     "name": "stdout",
     "output_type": "stream",
     "text": [
      "T\n"
     ]
    }
   ],
   "source": [
    "# indexación de cadena\n",
    "print(\"This is a string\"[0])"
   ]
  },
  {
   "cell_type": "markdown",
   "metadata": {},
   "source": [
    "#### <span style=\"color: red;\">Speach</span>\n",
    "- Esto muestra cómo puedes determinar la longitud de una cadena en Python utilizando la función len()."
   ]
  },
  {
   "cell_type": "code",
   "execution_count": 18,
   "metadata": {},
   "outputs": [
    {
     "name": "stdout",
     "output_type": "stream",
     "text": [
      "16\n"
     ]
    }
   ],
   "source": [
    "# tamaño\n",
    "print(len(\"This is a string\"))"
   ]
  },
  {
   "cell_type": "markdown",
   "metadata": {},
   "source": [
    "#### <span style=\"color: red;\">Speach</span>\n",
    "- Esto muestra cómo puedes insertar valores de variables en una cadena de texto utilizando formateo de cadena con %. Los valores se reemplazan en el orden en que aparecen en la tupla (x, y) después del operador %."
   ]
  },
  {
   "cell_type": "code",
   "execution_count": 9,
   "metadata": {},
   "outputs": [
    {
     "name": "stdout",
     "output_type": "stream",
     "text": [
      "The items in the basket are apple and lemon\n"
     ]
    }
   ],
   "source": [
    "# formateo con %\n",
    "x = 'apple'\n",
    "y = 'lemon'\n",
    "z = \"The items in the basket are %s and %s\" % (x, y)\n",
    "print(z)"
   ]
  },
  {
   "cell_type": "markdown",
   "metadata": {},
   "source": [
    "#### <span style=\"color: red;\">Speach</span>\n",
    "- El método str.format() es una forma poderosa y flexible de formatear cadenas en Python, y es especialmente útil cuando necesitas formatear cadenas con múltiples valores o cambiar el orden de los valores en la cadena."
   ]
  },
  {
   "cell_type": "code",
   "execution_count": 20,
   "metadata": {},
   "outputs": [
    {
     "name": "stdout",
     "output_type": "stream",
     "text": [
      "This is a placeholder\n",
      "strings can be formatted\n",
      "Bob wants to eat lasagna\n"
     ]
    }
   ],
   "source": [
    "# formateo con format\n",
    "print(\"{} is a {}\".format(\"This\", \"placeholder\"))\n",
    "print(\"{0} can be {1}\".format(\"strings\", \"formatted\"))\n",
    "print(\"{name} wants to eat {food}\".format(name=\"Bob\", food=\"lasagna\"))"
   ]
  },
  {
   "cell_type": "markdown",
   "metadata": {},
   "source": [
    "#### <span style=\"color: red;\">Speach</span>\n",
    "Como para practica deseamos imprimir los 2 primeros y los 2 últimos caracteres de una cadena. Sin embargo, hay que tener en cuenta que en Python, si intentas acceder a índices que están fuera del rango de una cadena, no generará un error, sino que simplemente imprimirá los caracteres disponibles.\n",
    "\n",
    "- Para la cadena \"w3resource\", imprimirá \"w3ce\", que son los 2 primeros caracteres y los 2 últimos caracteres disponibles.\n",
    "- Para la cadena \"w3\", imprimirá \"w3w3\", ya que solo hay 2 caracteres en la cadena.-\n",
    "- Para la cadena \"w\", imprimirá \"ww\", ya que solo hay 1 caracter en la cadena y se repite dos veces.-"
   ]
  },
  {
   "cell_type": "code",
   "execution_count": 10,
   "metadata": {},
   "outputs": [
    {
     "name": "stdout",
     "output_type": "stream",
     "text": [
      "w3ce\n",
      "w3w3\n",
      "ww\n"
     ]
    }
   ],
   "source": [
    "#PRACTICA\n",
    "#1 De una cadena imprimir solo los 2 primeros y 2 últimos caracteres.\n",
    "cad = \"w3resource\"\n",
    "print(cad[:2]+cad[-2:])\n",
    "cad = \"w3\"\n",
    "print(cad[:2]+cad[-2:])\n",
    "cad = \"w\"\n",
    "print(cad[:2]+cad[-2:])"
   ]
  },
  {
   "cell_type": "markdown",
   "metadata": {},
   "source": [
    "#### <span style=\"color: red;\">Speach</span>\n",
    "Este código elevará la cadena `\"***\"` a la potencia de 3 (la longitud de la cadena original) y generará una nueva cadena con el resultado. En este caso, el resultado será 27 asteriscos `\"***************************\"`, que es 3 elevado a la 3ª potencia. La longitud de la nueva cadena es 27, que es la longitud de `\"***************************\"`."
   ]
  },
  {
   "cell_type": "code",
   "execution_count": 12,
   "metadata": {},
   "outputs": [
    {
     "name": "stdout",
     "output_type": "stream",
     "text": [
      "***************************\n",
      "27\n"
     ]
    }
   ],
   "source": [
    "#PRACTICA\n",
    "#2 de una cadena con cierto numero de asteriscos, crear una nueva cadena que ha sido elevada por el numero\n",
    "#EJ ** -> **** - 2 al cuadrado\n",
    "ast = \"***\"\n",
    "res = \"*\" * (len(ast) ** len(ast))\n",
    "print(res)\n",
    "print(len(res))"
   ]
  },
  {
   "cell_type": "markdown",
   "metadata": {},
   "source": [
    "## 2.Colecciones"
   ]
  },
  {
   "cell_type": "markdown",
   "metadata": {},
   "source": [
    "#### <span style=\"color: red;\">Speach</span>\n",
    "- Estos son algunos ejemplos de tipos de datos comunes en Python, como cadenas de texto (str), números de punto flotante o decimales (float), enteros (int) y listas (list).\n",
    "- La funcion type() te muestra el tipo de dato al que pertenece el valor o la variable."
   ]
  },
  {
   "cell_type": "code",
   "execution_count": 13,
   "metadata": {},
   "outputs": [
    {
     "name": "stdout",
     "output_type": "stream",
     "text": [
      "<class 'str'>\n",
      "<class 'float'>\n",
      "<class 'int'>\n",
      "<class 'list'>\n"
     ]
    }
   ],
   "source": [
    "# tipos de datos\n",
    "print(type(\"texto\"))\n",
    "print(type(5.0))\n",
    "print(type(5))\n",
    "print(type([]))  "
   ]
  },
  {
   "cell_type": "markdown",
   "metadata": {},
   "source": [
    "#### <span style=\"color: red;\">Speach</span>\n",
    "Estás realizando una serie de operaciones en una lista en Python. Aquí tienes los pasos que estás llevando a cabo:\n",
    "- li = [] crea una lista vacía llamada li.\n",
    "- other_li = [4, 5, 6] crea una lista llamada other_li con los elementos 4, 5 y 6.\n",
    "- li.append(1) agrega el valor 1 al final de la lista li. Ahora li contiene [1].\n",
    "- li.append(2) agrega el valor 2 al final de la lista li. Ahora li contiene [1, 2].\n",
    "- li.append(4) agrega el valor 4 al final de la lista li. Ahora li contiene [1, 2, 4].\n",
    "- li.append(3) agrega el valor 3 al final de la lista li. Ahora li contiene [1, 2, 4, 3].\n",
    "- li.pop() elimina el último elemento de la lista li. En este caso, elimina el valor 3. Ahora li contiene [1, 2, 4].\n",
    "- li.append(3) agrega nuevamente el valor 3 al final de la lista li. Ahora li contiene [1, 2, 4, 3].\n",
    "- Al final de estas operaciones, la lista li contiene los elementos [1, 2, 4, 3]."
   ]
  },
  {
   "cell_type": "code",
   "execution_count": 4,
   "metadata": {},
   "outputs": [],
   "source": [
    "# LISTAS\n",
    "li = []\n",
    "other_li = [4, 5, 6]"
   ]
  },
  {
   "cell_type": "code",
   "execution_count": 5,
   "metadata": {},
   "outputs": [
    {
     "name": "stdout",
     "output_type": "stream",
     "text": [
      "[1, 2, 4, 3]\n",
      "[1, 2, 4]\n",
      "[1, 2, 4, 3]\n"
     ]
    }
   ],
   "source": [
    "# operaciones de listas\n",
    "li.append(1)  \n",
    "li.append(2)  \n",
    "li.append(4)  \n",
    "li.append(3)\n",
    "print(li)\n",
    "li.pop()\n",
    "print(li)\n",
    "li.append(3)\n",
    "print(li)"
   ]
  },
  {
   "cell_type": "markdown",
   "metadata": {},
   "source": [
    "#### <span style=\"color: red;\">Speach</span>\n",
    "En Python, puedes acceder a los elementos de una lista utilizando índices. Aquí están las operaciones que realizaste:\n",
    "- `print(li[0])` accede al primer elemento de la lista li utilizando el índice 0. En este caso, imprime el valor 1, que es el primer elemento de la lista.\n",
    "- `li[0] = 42` asigna el valor 42 al primer elemento de la lista li. Ahora, el primer elemento de la lista es 42.\n",
    "- `print(li[0])` nuevamente accede al primer elemento de la lista li. Ahora, imprime el valor 42, ya que se ha cambiado previamente.\n",
    "- `li[0] = 1` se vuelve a asignar el valor 1 al primer elemento de la lista li, restaurando su valor original.\n",
    "- `print(li[-1])` accede al último elemento de la lista li utilizando el índice -1. En este caso, imprime el valor 3, que es el último elemento de la lista."
   ]
  },
  {
   "cell_type": "code",
   "execution_count": 6,
   "metadata": {},
   "outputs": [
    {
     "name": "stdout",
     "output_type": "stream",
     "text": [
      "1\n",
      "42\n",
      "1\n",
      "3\n"
     ]
    }
   ],
   "source": [
    "# Acceso a listas\n",
    "print(li[0]) \n",
    "# Asignar otros valores\n",
    "li[0] = 42\n",
    "print(li[0]) \n",
    "li[0] = 1\n",
    "print(li[0])\n",
    "# último elemento\n",
    "print(li[-1])  "
   ]
  },
  {
   "cell_type": "markdown",
   "metadata": {},
   "source": [
    "#### <span style=\"color: red;\">Speach</span>\n",
    "En Python, puedes usar la técnica de \"slicing\" (rebanado) para acceder a porciones específicas de una lista. Aquí están tus ejemplos:\n",
    "\n",
    "- `print(li[1:3])` toma un \"slice\" desde el índice 1 (inclusive) hasta el índice 3 (exclusivo). Esto devuelve [2, 4], que son los elementos en esos índices.\n",
    "- `print(li[2:])` toma un \"slice\" desde el índice 2 hasta el final de la lista. Esto devuelve [4, 3], que son los elementos desde el índice 2 hasta el final.\n",
    "- `print(li[:3])` toma un \"slice\" desde el principio de la lista hasta el índice 3 (exclusivo). Esto devuelve [1, 2, 4], que son los elementos desde el principio hasta el índice 2.\n",
    "- `print(li[::2])` toma un \"slice\" que selecciona cada segundo elemento de la lista. Esto devuelve [1, 4], que son los elementos en los índices 0 y 2.\n",
    "- `print(li[::-1])` toma un \"slice\" que invierte la lista. Esto devuelve [3, 4, 2, 1], que es la lista original invertida."
   ]
  },
  {
   "cell_type": "code",
   "execution_count": 7,
   "metadata": {},
   "outputs": [
    {
     "name": "stdout",
     "output_type": "stream",
     "text": [
      "[2, 4]\n",
      "[4, 3]\n",
      "[1, 2, 4]\n",
      "[1, 4]\n",
      "[3, 4, 2, 1]\n"
     ]
    }
   ],
   "source": [
    "# slice\n",
    "print(li[1:3]) \n",
    "# Omitir comienzo\n",
    "print(li[2:])\n",
    "# Omitir final\n",
    "print(li[:3])  \n",
    "# seleccionar cada segundo elemento\n",
    "print(li[::2]) \n",
    "# invertir la lista\n",
    "print(li[::-1])"
   ]
  },
  {
   "cell_type": "markdown",
   "metadata": {},
   "source": [
    "#### <span style=\"color: red;\">Speach</span>\n",
    "- Puedes utilizar el operador in en Python para verificar si un elemento existe en una lista. En tu caso, estás verificando si el número 1 está en la lista li."
   ]
  },
  {
   "cell_type": "code",
   "execution_count": 8,
   "metadata": {},
   "outputs": [
    {
     "name": "stdout",
     "output_type": "stream",
     "text": [
      "True\n"
     ]
    }
   ],
   "source": [
    "# ver si un elemento existe\n",
    "print(1 in li)"
   ]
  },
  {
   "cell_type": "markdown",
   "metadata": {},
   "source": [
    "#### <span style=\"color: red;\">Speach</span>\n",
    "- Puedes utilizar la función len() en Python para obtener la longitud (es decir, la cantidad de elementos) de una lista. "
   ]
  },
  {
   "cell_type": "code",
   "execution_count": 9,
   "metadata": {},
   "outputs": [
    {
     "name": "stdout",
     "output_type": "stream",
     "text": [
      "4\n"
     ]
    }
   ],
   "source": [
    "# tamaño de lista\n",
    "print(len(li))"
   ]
  },
  {
   "cell_type": "markdown",
   "metadata": {},
   "source": [
    "#### <span style=\"color: red;\">Speach</span>\n",
    "En Python, las tuplas son similares a las listas, pero tienen la característica principal de ser inmutables, lo que significa que no puedes modificar los elementos de una tupla una vez que se han definido. Retorna `TypeError: 'tuple' object does not support item assignment` lo que quiere decir que no podemos reasignar el primer elemento de la tupla tup. "
   ]
  },
  {
   "cell_type": "code",
   "execution_count": 10,
   "metadata": {},
   "outputs": [
    {
     "name": "stdout",
     "output_type": "stream",
     "text": [
      "1\n"
     ]
    },
    {
     "ename": "TypeError",
     "evalue": "'tuple' object does not support item assignment",
     "output_type": "error",
     "traceback": [
      "\u001b[0;31m---------------------------------------------------------------------------\u001b[0m",
      "\u001b[0;31mTypeError\u001b[0m                                 Traceback (most recent call last)",
      "Cell \u001b[0;32mIn[10], line 4\u001b[0m\n\u001b[1;32m      2\u001b[0m tup \u001b[38;5;241m=\u001b[39m (\u001b[38;5;241m1\u001b[39m, \u001b[38;5;241m2\u001b[39m, \u001b[38;5;241m3\u001b[39m)\n\u001b[1;32m      3\u001b[0m \u001b[38;5;28mprint\u001b[39m(tup[\u001b[38;5;241m0\u001b[39m])\n\u001b[0;32m----> 4\u001b[0m \u001b[43mtup\u001b[49m\u001b[43m[\u001b[49m\u001b[38;5;241;43m0\u001b[39;49m\u001b[43m]\u001b[49m \u001b[38;5;241m=\u001b[39m \u001b[38;5;241m3\u001b[39m\n",
      "\u001b[0;31mTypeError\u001b[0m: 'tuple' object does not support item assignment"
     ]
    }
   ],
   "source": [
    "# TUPLES\n",
    "tup = (1, 2, 3)\n",
    "print(tup[0])\n",
    "tup[0] = 3"
   ]
  },
  {
   "cell_type": "markdown",
   "metadata": {},
   "source": [
    "#### <span style=\"color: red;\">Speach</span>\n",
    "Puedes realizar varias operaciones con tuplas en Python. Aquí tienes tus ejemplos:\n",
    "- `print(len(tup))` devuelve la longitud de la tupla tup. En este caso, la tupla tup contiene tres elementos, por lo que imprimirá 3.\n",
    "- `print(tup + (4, 5, 6))` realiza la concatenación de dos tuplas: la tupla tup y la tupla (4, 5, 6). El resultado es una nueva tupla que contiene los elementos de ambas tuplas concatenadas. En este caso, el resultado será (1, 2, 3, 4, 5, 6).\n",
    "- `print(tup[:2])` toma un \"slice\" de la tupla tup desde el principio hasta el índice 2 (exclusivo). Esto devuelve una nueva tupla que contiene los dos primeros elementos de tup, es decir, (1, 2).\n",
    "- `print(2 in tup)` verifica si el valor 2 está presente en la tupla tup. Como 2 está en la tupla, esta expresión evalúa a True."
   ]
  },
  {
   "cell_type": "code",
   "execution_count": 11,
   "metadata": {},
   "outputs": [
    {
     "name": "stdout",
     "output_type": "stream",
     "text": [
      "3\n",
      "(1, 2, 3, 4, 5, 6)\n",
      "(1, 2)\n",
      "True\n"
     ]
    }
   ],
   "source": [
    "print(len(tup))\n",
    "print(tup+(4, 5, 6))\n",
    "print(tup[:2])\n",
    "print(2 in tup)"
   ]
  },
  {
   "cell_type": "markdown",
   "metadata": {},
   "source": [
    "#### <span style=\"color: red;\">Speach</span>\n",
    "- el desempaquetado de tuplas es una característica poderosa y útil en Python para asignar múltiples valores de una vez a variables individuales."
   ]
  },
  {
   "cell_type": "code",
   "execution_count": 1,
   "metadata": {},
   "outputs": [
    {
     "name": "stdout",
     "output_type": "stream",
     "text": [
      "1\n",
      "4\n",
      "(4, 5, 6)\n",
      "5\n",
      "4\n"
     ]
    }
   ],
   "source": [
    "# unpack\n",
    "a, b, c = (1, 2, 3)  \n",
    "print(a)\n",
    "d, e, f = 4, 5, 6  \n",
    "print(d)\n",
    "g = 4, 5, 6  \n",
    "print(g)\n",
    "e, d = d, e  \n",
    "print(d)\n",
    "print(e)"
   ]
  },
  {
   "cell_type": "markdown",
   "metadata": {},
   "source": [
    "Los diccionarios en Python son una estructura de datos versátil y fundamental que permite almacenar y recuperar datos relacionados de manera eficiente. Funcionan mediante la asignación de valores a claves únicas, lo que facilita la búsqueda y recuperación de datos específicos. Los diccionarios son un elemento esencial en la programación de Python y se utilizan ampliamente en diversas aplicaciones.\n",
    "- `print(filled_dict)` imprime todo el diccionario filled_dict, que contiene los pares clave-valor definidos.\n",
    "print(filled_dict[\"one\"]) busca el valor asociado a la clave \"one\" en el diccionario filled_dict e imprime el valor, que en este caso es 1.\n",
    "- `print(filled_dict.keys())` devuelve una vista de todas las claves del diccionario filled_dict. En este caso, imprimirá dict_keys(['one', 'two', 'three']), que son las claves en el diccionario.\n",
    "- `print(filled_dict.values())` devuelve una vista de todos los valores del diccionario filled_dict. En este caso, imprimirá dict_values([1, 2, 3]), que son los valores en el diccionario.\n",
    "- `print(filled_dict.items())` devuelve una vista de todos los elementos (pares clave-valor) del diccionario filled_dict. En este caso, imprimirá dict_items([('one', 1), ('two', 2), ('three', 3)]), que son los elementos en el diccionario.\n",
    "`filled_dict[\"four\"] = 4` agrega un nuevo par clave-valor al diccionario filled_dict. Después de esta línea, filled_dict contendrá {'one': 1, 'two': 2, 'three': 3, 'four': 4}.\n",
    "\n"
   ]
  },
  {
   "cell_type": "code",
   "execution_count": 33,
   "metadata": {},
   "outputs": [
    {
     "name": "stdout",
     "output_type": "stream",
     "text": [
      "{'one': 1, 'two': 2, 'three': 3}\n"
     ]
    }
   ],
   "source": [
    "# DICCIONARIOS\n",
    "empty_dict = {}\n",
    "filled_dict = {\"one\": 1, \"two\": 2, \"three\": 3}\n",
    "print(filled_dict)"
   ]
  },
  {
   "cell_type": "code",
   "execution_count": 34,
   "metadata": {},
   "outputs": [
    {
     "name": "stdout",
     "output_type": "stream",
     "text": [
      "1\n"
     ]
    }
   ],
   "source": [
    "# Look up values with []\n",
    "print(filled_dict[\"one\"])"
   ]
  },
  {
   "cell_type": "code",
   "execution_count": 35,
   "metadata": {},
   "outputs": [
    {
     "name": "stdout",
     "output_type": "stream",
     "text": [
      "dict_keys(['one', 'two', 'three'])\n"
     ]
    }
   ],
   "source": [
    "# obtener los identificadores\n",
    "print(filled_dict.keys())  "
   ]
  },
  {
   "cell_type": "code",
   "execution_count": 36,
   "metadata": {},
   "outputs": [
    {
     "name": "stdout",
     "output_type": "stream",
     "text": [
      "dict_values([1, 2, 3])\n"
     ]
    }
   ],
   "source": [
    "# obtener los valores\n",
    "print(filled_dict.values())"
   ]
  },
  {
   "cell_type": "code",
   "execution_count": 37,
   "metadata": {},
   "outputs": [
    {
     "name": "stdout",
     "output_type": "stream",
     "text": [
      "dict_items([('one', 1), ('two', 2), ('three', 3)])\n"
     ]
    }
   ],
   "source": [
    "#obtener todos los elementos\n",
    "print(filled_dict.items()) "
   ]
  },
  {
   "cell_type": "code",
   "execution_count": 38,
   "metadata": {},
   "outputs": [
    {
     "name": "stdout",
     "output_type": "stream",
     "text": [
      "dict_items([('one', 1), ('two', 2), ('three', 3), ('four', 4)])\n"
     ]
    }
   ],
   "source": [
    "# asignar valor\n",
    "filled_dict[\"four\"] = 4\n",
    "print(filled_dict.items()) "
   ]
  },
  {
   "cell_type": "markdown",
   "metadata": {},
   "source": [
    "En Python, los sets son colecciones de elementos únicos, lo que significa que no pueden contener elementos duplicados. "
   ]
  },
  {
   "cell_type": "code",
   "execution_count": 39,
   "metadata": {},
   "outputs": [
    {
     "name": "stdout",
     "output_type": "stream",
     "text": [
      "{1, 2, 3, 4}\n"
     ]
    }
   ],
   "source": [
    "#SETS\n",
    "empty_set = set()\n",
    "# inicializar\n",
    "some_set = set([1, 2, 2, 3, 4]) \n",
    "print(some_set)"
   ]
  },
  {
   "cell_type": "markdown",
   "metadata": {},
   "source": [
    "puedes crear sets utilizando llaves {}. Aquí tienes más ejemplos relacionados con sets:\n",
    "- filled_set = {1, 2, 2, 3, 4} crea un conjunto llamado filled_set con los elementos 1, 2, 2, 3 y 4. Los sets automáticamente eliminan los elementos duplicados, por lo que el resultado será {1, 2, 3, 4}.\n",
    "- other_set = {3, 4, 5, 6} crea otro conjunto llamado other_set con los elementos 3, 4, 5 y 6.\n",
    "- print(filled_set & other_set) realiza la operación de intersección entre filled_set y other_set, que devuelve un nuevo conjunto que contiene los elementos que están en ambos conjuntos. En este caso, la intersección es {3, 4}.\n",
    "- print(filled_set | other_set) realiza la operación de unión entre filled_set y other_set, que devuelve un nuevo conjunto que contiene todos los elementos de ambos conjuntos sin duplicados. En este caso, la unión es {1, 2, 3, 4, 5, 6}."
   ]
  },
  {
   "cell_type": "code",
   "execution_count": 40,
   "metadata": {},
   "outputs": [
    {
     "name": "stdout",
     "output_type": "stream",
     "text": [
      "{1, 2, 3, 4}\n"
     ]
    }
   ],
   "source": [
    "# otra opción\n",
    "filled_set = {1, 2, 2, 3, 4}\n",
    "print(filled_set)"
   ]
  },
  {
   "cell_type": "markdown",
   "metadata": {},
   "source": [
    "Los sets son útiles cuando necesitas trabajar con colecciones de elementos únicos y realizar operaciones de conjuntos."
   ]
  },
  {
   "cell_type": "code",
   "execution_count": 41,
   "metadata": {},
   "outputs": [
    {
     "name": "stdout",
     "output_type": "stream",
     "text": [
      "{3, 4}\n",
      "{1, 2, 3, 4, 5, 6}\n"
     ]
    }
   ],
   "source": [
    "other_set = {3, 4, 5, 6}\n",
    "# intersección\n",
    "print(filled_set & other_set)  \n",
    "# unión\n",
    "print(filled_set | other_set)  "
   ]
  },
  {
   "cell_type": "markdown",
   "metadata": {},
   "source": [
    "- En este ejercicio, estás buscando encontrar elementos en común entre dos listas sin usar un bucle for. La solución que has implementado utilizando conjuntos es una forma eficiente de hacerlo. \n",
    "- Este código primero convierte las listas list1 y list2 en conjuntos s1 y s2. Luego, utiliza el operador & para encontrar la intersección entre los conjuntos, lo que da como resultado un conjunto ans que contiene los elementos en común entre las dos listas.\n",
    "- En este ejemplo, como no hay elementos en común entre list1 y list2, ans será un conjunto vacío (set())."
   ]
  },
  {
   "cell_type": "code",
   "execution_count": 42,
   "metadata": {},
   "outputs": [
    {
     "name": "stdout",
     "output_type": "stream",
     "text": [
      "set()\n"
     ]
    }
   ],
   "source": [
    "#PRACTICA\n",
    "#3 De 2 listas identificar si existe al menos algun elemento en común - sin for loop\n",
    "list1 = [1,2,3,4]\n",
    "list2 = [5,6,7,9]\n",
    "s1 = set(list1)\n",
    "s2 = set(list2)\n",
    "ans = s1 & s2\n",
    "print(ans)"
   ]
  },
  {
   "cell_type": "code",
   "execution_count": 43,
   "metadata": {},
   "outputs": [
    {
     "name": "stdout",
     "output_type": "stream",
     "text": [
      "55\n"
     ]
    }
   ],
   "source": [
    "#PRACTICA\n",
    "#4 Diccionario - sumar todos los valores presentes\n",
    "ndict = {\n",
    "'one':1,\n",
    "'two':2,\n",
    "'three':3,\n",
    "'four':4,\n",
    "'five':5,\n",
    "'six':6,\n",
    "'seven':7,\n",
    "'eight':8,\n",
    "'nine':9,\n",
    "'ten':10\n",
    "}\n",
    "nvalues = ndict.values()\n",
    "print(sum(nvalues))"
   ]
  },
  {
   "cell_type": "markdown",
   "metadata": {},
   "source": [
    "## 3. Control de flujo"
   ]
  },
  {
   "cell_type": "markdown",
   "metadata": {},
   "source": [
    "- En este caso, la variable some_var tiene el valor 5, por lo que la primera condición if some_var > 10 es falsa. Luego, la siguiente condición elif some_var < 10 es verdadera, y se ejecuta el bloque de código dentro de esa cláusula elif, que imprime \"some_var es menor que 10.\" La última cláusula else se omite porque solo se ejecuta cuando ninguna de las condiciones anteriores es verdadera."
   ]
  },
  {
   "cell_type": "code",
   "execution_count": 44,
   "metadata": {},
   "outputs": [
    {
     "name": "stdout",
     "output_type": "stream",
     "text": [
      "some_var is smaller than 10.\n"
     ]
    }
   ],
   "source": [
    "some_var = 5\n",
    "#IF/THEN\n",
    "if some_var > 10:\n",
    "    print(\"some_var is totally bigger than 10.\")\n",
    "elif some_var < 10: \n",
    "    print(\"some_var is smaller than 10.\")\n",
    "else: \n",
    "    print(\"some_var is indeed 10.\")"
   ]
  },
  {
   "cell_type": "markdown",
   "metadata": {},
   "source": [
    "- Este bucle for recorre una lista de animales e imprime un mensaje para cada uno de ellos. La variable animal toma el valor de cada elemento de la lista en cada iteración del bucle. "
   ]
  },
  {
   "cell_type": "code",
   "execution_count": 45,
   "metadata": {},
   "outputs": [
    {
     "name": "stdout",
     "output_type": "stream",
     "text": [
      "dog is a mammal\n",
      "cat is a mammal\n",
      "mouse is a mammal\n"
     ]
    }
   ],
   "source": [
    "#FOR LOOPS\n",
    "for animal in [\"dog\", \"cat\", \"mouse\"]:\n",
    "    print(\"{0} is a mammal\".format(animal))"
   ]
  },
  {
   "cell_type": "markdown",
   "metadata": {},
   "source": [
    "- Este bucle for utiliza range(4) para generar una secuencia de números del 0 al 3 (4 no está incluido) y luego imprime cada número en la secuencia."
   ]
  },
  {
   "cell_type": "code",
   "execution_count": 46,
   "metadata": {},
   "outputs": [
    {
     "name": "stdout",
     "output_type": "stream",
     "text": [
      "0\n",
      "1\n",
      "2\n",
      "3\n"
     ]
    }
   ],
   "source": [
    "for i in range(4):\n",
    "    print(i)"
   ]
  },
  {
   "cell_type": "markdown",
   "metadata": {},
   "source": [
    "- Este bucle while se ejecuta mientras la condición x < 4 sea verdadera. En cada iteración, se imprime el valor de x y se incrementa en 1. El bucle se ejecuta hasta que x sea igual o mayor que 4. La salida será:"
   ]
  },
  {
   "cell_type": "code",
   "execution_count": 47,
   "metadata": {},
   "outputs": [
    {
     "name": "stdout",
     "output_type": "stream",
     "text": [
      "0\n",
      "1\n",
      "2\n",
      "3\n"
     ]
    }
   ],
   "source": [
    "x = 0\n",
    "while x < 4:\n",
    "    print(x)\n",
    "    x += 1  "
   ]
  },
  {
   "cell_type": "markdown",
   "metadata": {},
   "source": [
    "- l código funciona según lo esperado, imprimiendo \"FIZZ\" para los múltiplos de 3, \"BUZZ\" para los múltiplos de 5 y \"FIZZBUZZ\" para los múltiplos de ambos 3 y 5, mientras que imprime el número en los demás casos. Esta es una práctica común en programación para evaluar la comprensión de las estructuras condicionales. ¡Bien hecho!"
   ]
  },
  {
   "cell_type": "code",
   "execution_count": 48,
   "metadata": {},
   "outputs": [
    {
     "name": "stdout",
     "output_type": "stream",
     "text": [
      "1\n",
      "2\n",
      "FIZZ\n",
      "4\n",
      "BUZZ\n",
      "FIZZ\n",
      "7\n",
      "8\n",
      "FIZZ\n",
      "BUZZ\n",
      "11\n",
      "FIZZ\n",
      "13\n",
      "14\n",
      "FIZZBUZZ\n",
      "16\n",
      "17\n",
      "FIZZ\n",
      "19\n",
      "BUZZ\n",
      "FIZZ\n",
      "22\n",
      "23\n",
      "FIZZ\n",
      "BUZZ\n",
      "26\n",
      "FIZZ\n",
      "28\n",
      "29\n",
      "FIZZBUZZ\n",
      "31\n",
      "32\n",
      "FIZZ\n",
      "34\n",
      "BUZZ\n",
      "FIZZ\n",
      "37\n",
      "38\n",
      "FIZZ\n",
      "BUZZ\n",
      "41\n",
      "FIZZ\n",
      "43\n",
      "44\n",
      "FIZZBUZZ\n",
      "46\n",
      "47\n",
      "FIZZ\n",
      "49\n",
      "BUZZ\n"
     ]
    }
   ],
   "source": [
    "#PRACTICA\n",
    "#5 IF/ELSE - programa que imprime nros de 1 a 50. Si es multiplo de 3 imprimir FIZZ. Si es multiplo de 5 imprimir BUZZ.\n",
    "#Si es multiplo de ambos FIZZBUZZ. En el resto de casos solo el numero.\n",
    "for i in range(1, 51):\n",
    "    if i % 3 == 0 and i % 5 == 0:\n",
    "        print('FIZZBUZZ')\n",
    "    elif i % 3 == 0:\n",
    "        print('FIZZ')\n",
    "    elif i % 5 ==0:\n",
    "        print('BUZZ')\n",
    "    else:\n",
    "        print(i)"
   ]
  },
  {
   "cell_type": "markdown",
   "metadata": {},
   "source": [
    "target_num se inicializa con un número aleatorio entre 1 y 100, generado por random.randint(1, 100).\n",
    "\n",
    "- El bucle while se ejecuta mientras target_num y guess_num no sean iguales. guess_num se inicializa en 0.\n",
    "- El usuario ingresa un número utilizando la función input(), que se convierte en un número entero con int(input(...)).\n",
    "- Luego, se comprueba si el número ingresado es mayor o menor que el target_num generado aleatoriamente, y se imprime un mensaje correspondiente.\n",
    "- Si el número ingresado (guess_num) es igual al número objetivo (target_num), el bucle while se detiene y se imprime \"ACERTADO\".\n",
    "\n",
    "El juego continuará ejecutándose hasta que el usuario adivine el número correcto. En ese momento, el bucle se detendrá y se imprimirá \"ACERTADO\". ¡Es una práctica divertida y educativa para aprender a utilizar bucles y estructuras condicionales en Python!"
   ]
  },
  {
   "cell_type": "code",
   "execution_count": 49,
   "metadata": {},
   "outputs": [
    {
     "name": "stdin",
     "output_type": "stream",
     "text": [
      "Elija un número entre 1 y 100:  2\n"
     ]
    },
    {
     "name": "stdout",
     "output_type": "stream",
     "text": [
      "MAYOR!\n"
     ]
    },
    {
     "name": "stdin",
     "output_type": "stream",
     "text": [
      "Elija un número entre 1 y 100:  5\n"
     ]
    },
    {
     "name": "stdout",
     "output_type": "stream",
     "text": [
      "MAYOR!\n"
     ]
    },
    {
     "name": "stdin",
     "output_type": "stream",
     "text": [
      "Elija un número entre 1 y 100:  99\n"
     ]
    },
    {
     "name": "stdout",
     "output_type": "stream",
     "text": [
      "MENOR!\n"
     ]
    },
    {
     "name": "stdin",
     "output_type": "stream",
     "text": [
      "Elija un número entre 1 y 100:  101\n"
     ]
    },
    {
     "name": "stdout",
     "output_type": "stream",
     "text": [
      "MENOR!\n"
     ]
    },
    {
     "name": "stdin",
     "output_type": "stream",
     "text": [
      "Elija un número entre 1 y 100:  100\n"
     ]
    },
    {
     "name": "stdout",
     "output_type": "stream",
     "text": [
      "MENOR!\n"
     ]
    },
    {
     "name": "stdin",
     "output_type": "stream",
     "text": [
      "Elija un número entre 1 y 100:  *\n"
     ]
    },
    {
     "ename": "ValueError",
     "evalue": "invalid literal for int() with base 10: '*'",
     "output_type": "error",
     "traceback": [
      "\u001b[0;31m---------------------------------------------------------------------------\u001b[0m",
      "\u001b[0;31mValueError\u001b[0m                                Traceback (most recent call last)",
      "Cell \u001b[0;32mIn[49], line 6\u001b[0m\n\u001b[1;32m      4\u001b[0m target_num, guess_num \u001b[38;5;241m=\u001b[39m random\u001b[38;5;241m.\u001b[39mrandint(\u001b[38;5;241m1\u001b[39m, \u001b[38;5;241m100\u001b[39m), \u001b[38;5;241m0\u001b[39m\n\u001b[1;32m      5\u001b[0m \u001b[38;5;28;01mwhile\u001b[39;00m target_num \u001b[38;5;241m!=\u001b[39m guess_num:\n\u001b[0;32m----> 6\u001b[0m     guess_num \u001b[38;5;241m=\u001b[39m \u001b[38;5;28;43mint\u001b[39;49m\u001b[43m(\u001b[49m\u001b[38;5;28;43minput\u001b[39;49m\u001b[43m(\u001b[49m\u001b[38;5;124;43m'\u001b[39;49m\u001b[38;5;124;43mElija un número entre 1 y 100: \u001b[39;49m\u001b[38;5;124;43m'\u001b[39;49m\u001b[43m)\u001b[49m\u001b[43m)\u001b[49m\n\u001b[1;32m      7\u001b[0m     \u001b[38;5;28;01mif\u001b[39;00m guess_num \u001b[38;5;241m<\u001b[39m target_num:\n\u001b[1;32m      8\u001b[0m         \u001b[38;5;28mprint\u001b[39m(\u001b[38;5;124m'\u001b[39m\u001b[38;5;124mMAYOR!\u001b[39m\u001b[38;5;124m'\u001b[39m)\n",
      "\u001b[0;31mValueError\u001b[0m: invalid literal for int() with base 10: '*'"
     ]
    }
   ],
   "source": [
    "#PRACTICA\n",
    "#6 BUCLES - programa para adivinar un número generado al azar con input, indicar si es mayor o menor al buscado\n",
    "import random\n",
    "target_num, guess_num = random.randint(1, 100), 0\n",
    "while target_num != guess_num:\n",
    "    guess_num = int(input('Elija un número entre 1 y 100: '))\n",
    "    if guess_num < target_num:\n",
    "        print('MAYOR!')\n",
    "    elif guess_num > target_num:\n",
    "        print('MENOR!')\n",
    "print('ACERTADO!')"
   ]
  },
  {
   "cell_type": "markdown",
   "metadata": {},
   "source": [
    "## 4. Funciones"
   ]
  },
  {
   "cell_type": "markdown",
   "metadata": {},
   "source": [
    "Tu código define una función llamada add que toma dos argumentos x e y. La función imprime los valores de x e y utilizando la función format() para formatear la cadena de salida y luego devuelve la suma de x e y.\n",
    "\n",
    "Luego, la función se llama dos veces con diferentes argumentos:\n",
    "\n",
    "- add(5, 6): Aquí, se pasan los valores 5 y 6 como argumentos a la función add. La función imprime \"x is 5 and y is 6\" y devuelve la suma, que es 11. Luego, print(add(5, 6)) muestra 11 en la salida.\n",
    "- add(y=6, x=5): En esta llamada, los argumentos se pasan de manera explícita con nombres. La función add aún imprime \"x is 5 and y is 6\" porque los nombres de los argumentos coinciden con x e y en la definición de la función. La suma es nuevamente 11, y print(add(y=6, x=5)) también muestra 11 en la salida.\n",
    "\n",
    "En resumen, tu función add toma dos argumentos, imprime sus valores y devuelve su suma."
   ]
  },
  {
   "cell_type": "code",
   "execution_count": 50,
   "metadata": {},
   "outputs": [],
   "source": [
    "def add(x, y):\n",
    "    print (\"x is {0} and y is {1}\".format(x, y))\n",
    "    return x + y "
   ]
  },
  {
   "cell_type": "markdown",
   "metadata": {},
   "source": [
    "- Puedes llamar a la función con diferentes argumentos y especificarlos por nombre si lo deseas."
   ]
  },
  {
   "cell_type": "code",
   "execution_count": 51,
   "metadata": {},
   "outputs": [
    {
     "name": "stdout",
     "output_type": "stream",
     "text": [
      "x is 5 and y is 6\n",
      "11\n",
      "x is 5 and y is 6\n",
      "11\n"
     ]
    }
   ],
   "source": [
    "print(add(5, 6)) \n",
    "print(add(y=6, x=5))  "
   ]
  },
  {
   "cell_type": "markdown",
   "metadata": {},
   "source": [
    "Tu código demuestra cómo trabajar con argumentos variables (*args) y argumentos de palabra clave (**kwargs) en funciones en Python. Aquí está la explicación:\n",
    "\n",
    "- varargs(*args):\n",
    "\n",
    "- *args permite pasar un número variable de argumentos no nombrados a la función.\n",
    "En este caso, varargs(1, 2, 3) pasa tres argumentos (1, 2 y 3) a la función.\n",
    "La función simplemente devuelve estos argumentos como una tupla.\n",
    "Entonces, print(varargs(1, 2, 3)) imprime la tupla (1, 2, 3)."
   ]
  },
  {
   "cell_type": "code",
   "execution_count": 52,
   "metadata": {},
   "outputs": [
    {
     "name": "stdout",
     "output_type": "stream",
     "text": [
      "(1, 2, 3)\n"
     ]
    }
   ],
   "source": [
    "def varargs(*args):\n",
    "    return args\n",
    "print(varargs(1, 2, 3))"
   ]
  },
  {
   "cell_type": "markdown",
   "metadata": {},
   "source": [
    "keyword_args(**kwargs):\n",
    "\n",
    "- **kwargs permite pasar un número variable de argumentos nombrados (argumentos de palabra clave) a la función.\n",
    "En este caso, keyword_args(big=\"foot\", loch=\"ness\") pasa dos argumentos de palabra clave (\"big\" con valor \"foot\" y \"loch\" con valor \"ness\") a la función.\n",
    "- La función devuelve estos argumentos de palabra clave como un diccionario.\n",
    "Entonces, print(keyword_args(big=\"foot\", loch=\"ness\")) imprime el diccionario {'big': 'foot', 'loch': 'ness'}.\n",
    "Estas son técnicas útiles cuando necesitas manejar un número variable de argumentos en tus funciones. Los argumentos no nombrados se recopilan en una tupla con *args, y los argumentos de palabra clave se recopilan en un diccionario con **kwargs."
   ]
  },
  {
   "cell_type": "code",
   "execution_count": 53,
   "metadata": {},
   "outputs": [
    {
     "name": "stdout",
     "output_type": "stream",
     "text": [
      "{'big': 'foot', 'loch': 'ness'}\n"
     ]
    }
   ],
   "source": [
    "def keyword_args(**kwargs):\n",
    "    return kwargs\n",
    "print(keyword_args(big=\"foot\", loch=\"ness\"))"
   ]
  },
  {
   "cell_type": "markdown",
   "metadata": {},
   "source": [
    "El código que proporcionaste demuestra cómo funciona el ámbito (scope) de las variables en Python. Aquí está la explicación de lo que ocurre:\n",
    "\n",
    "x = 5: En este paso, se crea una variable global x y se le asigna el valor 5. Esta variable es accesible desde cualquier lugar en el código.\n",
    "\n",
    "def set_x(num): Se define una función llamada set_x que toma un argumento num.\n",
    "\n",
    "x = num: Dentro de la función set_x, se crea una nueva variable local llamada x que oculta la variable global x. Se le asigna el valor num que se pasó como argumento a la función. Esta variable local x solo existe dentro del ámbito de la función set_x.\n",
    "\n",
    "print(x): Se imprime el valor de la variable local x dentro de la función set_x. Esto imprimirá el valor num que se pasó como argumento a la función.\n",
    "\n",
    "set_x(43): Se llama a la función set_x con el argumento 43. Esto crea una variable local x dentro de la función y la establece en 43. Luego, imprime 43.\n",
    "\n",
    "def set_global_x(num): Se define otra función llamada set_global_x que toma un argumento num.\n",
    "\n",
    "global x: Dentro de la función set_global_x, se utiliza la palabra clave global para indicar que se desea acceder a la variable global x, en lugar de crear una nueva variable local x.\n",
    "\n",
    "print(x): Se imprime el valor de la variable global x. Esto imprimirá el valor 5, ya que es el valor que se definió globalmente antes de llamar a la función.\n",
    "\n",
    "x = num: Luego, se actualiza el valor de la variable global x con el valor num que se pasó como argumento a la función.\n",
    "\n",
    "print(x): Se imprime nuevamente el valor de la variable global x. Ahora, imprimirá el valor num que se pasó como argumento a la función, que es 6.\n",
    "\n",
    "set_global_x(6): Se llama a la función set_global_x con el argumento 6. Esto actualiza la variable global x con el valor 6.\n",
    "\n",
    "print(x): Finalmente, se imprime el valor de la variable global x. Ahora, imprimirá 6, que es el valor actualizado.\n",
    "\n",
    "En resumen, el uso de global dentro de una función te permite acceder y modificar variables globales desde dentro de la función. Sin embargo, si no se utiliza global, se crea una nueva variable local con el mismo nombre, que oculta la variable global dentro del ámbito de la función."
   ]
  },
  {
   "cell_type": "code",
   "execution_count": 54,
   "metadata": {},
   "outputs": [
    {
     "name": "stdout",
     "output_type": "stream",
     "text": [
      "43\n",
      "5\n",
      "6\n",
      "6\n"
     ]
    }
   ],
   "source": [
    "# Scope\n",
    "x = 5\n",
    "\n",
    "def set_x(num):\n",
    "    x = num  \n",
    "    print(x)\n",
    "    \n",
    "def set_global_x(num):\n",
    "    global x\n",
    "    print(x)\n",
    "    x = num \n",
    "    print(x)\n",
    "\n",
    "set_x(43)\n",
    "set_global_x(6)\n",
    "print(x)"
   ]
  },
  {
   "cell_type": "markdown",
   "metadata": {},
   "source": [
    "Tu programa está diseñado para contar el número de letras mayúsculas y minúsculas en una cadena dada y luego imprimir el resultado. Aquí está el análisis del código:\n",
    "\n",
    "def string_test(s): Se define una función llamada string_test que toma una cadena s como argumento.\n",
    "\n",
    "d={\"UPPER_CASE\":0, \"LOWER_CASE\":0}: Se crea un diccionario d para llevar un registro del número de letras mayúsculas y minúsculas. Inicialmente, ambos valores se establecen en 0.\n",
    "\n",
    "Se inicia un bucle for que recorre cada carácter c en la cadena s.\n",
    "\n",
    "if c.isupper(): y elif c.islower(): se utilizan para verificar si el carácter c es una letra mayúscula o minúscula, respectivamente.\n",
    "\n",
    "Si c es una letra mayúscula, se incrementa el contador de letras mayúsculas en el diccionario d.\n",
    "\n",
    "Si c es una letra minúscula, se incrementa el contador de letras minúsculas en el diccionario d.\n",
    "\n",
    "Después de recorrer toda la cadena, se imprime la cadena original y el número de letras mayúsculas y minúsculas encontradas.\n",
    "\n",
    "string_test('The quick Brown Fox'): Se llama a la función string_test con la cadena \"The quick Brown Fox\"."
   ]
  },
  {
   "cell_type": "code",
   "execution_count": 55,
   "metadata": {},
   "outputs": [
    {
     "name": "stdout",
     "output_type": "stream",
     "text": [
      "Original String :  The quick Brown Fox\n",
      "No. of Upper case characters :  3\n",
      "No. of Lower case Characters :  13\n"
     ]
    }
   ],
   "source": [
    "#PRACTICA\n",
    "#7 FUNCIONES - crear un programa que calcula el número de mayusculas y minusculas de una cadena\n",
    "def string_test(s):\n",
    "    d={\"UPPER_CASE\":0, \"LOWER_CASE\":0}\n",
    "    for c in s:\n",
    "        if c.isupper():\n",
    "           d[\"UPPER_CASE\"]+=1\n",
    "        elif c.islower():\n",
    "           d[\"LOWER_CASE\"]+=1\n",
    "    print (\"Original String : \", s)\n",
    "    print (\"No. of Upper case characters : \", d[\"UPPER_CASE\"])\n",
    "    print (\"No. of Lower case Characters : \", d[\"LOWER_CASE\"])\n",
    "string_test('The quick Brown Fox')"
   ]
  },
  {
   "cell_type": "markdown",
   "metadata": {},
   "source": [
    "El código que proporcionaste utiliza la función exec() para ejecutar el código contenido en una cadena. Aquí está la descripción de cómo funciona:\n",
    "\n",
    "Se define una cadena code que contiene un bloque de código Python. En este caso, el código calcula el factorial de un número (en este caso, 5) e imprime el resultado.\n",
    "\n",
    "Se define una función exec_code(code) que toma una cadena code como argumento.\n",
    "\n",
    "Dentro de la función, exec(code) se utiliza para ejecutar el contenido de la cadena code. exec() es una función incorporada en Python que permite ejecutar código Python dinámicamente.\n",
    "\n",
    "Luego, se llama a la función exec_code(code) pasando la cadena code como argumento."
   ]
  },
  {
   "cell_type": "code",
   "execution_count": 56,
   "metadata": {},
   "outputs": [
    {
     "name": "stdout",
     "output_type": "stream",
     "text": [
      "120\n"
     ]
    }
   ],
   "source": [
    "#8 EXEC - ejecutar el siguiente codigo en una cadena usando funciones\n",
    "code = \"\"\" \n",
    "def factorial(num): \n",
    "    fact=1 \n",
    "    for i in range(1,num+1): \n",
    "        fact = fact*i \n",
    "    return fact \n",
    "print(factorial(5)) \n",
    "\"\"\"\n",
    "def exec_code(code): \n",
    "    exec(code)      \n",
    "exec_code(code) "
   ]
  },
  {
   "cell_type": "markdown",
   "metadata": {},
   "source": [
    "El comando import this en Python muestra el \"Zen de Python\", que es una colección de principios de diseño y filosofía que guían el desarrollo del lenguaje Python."
   ]
  },
  {
   "cell_type": "code",
   "execution_count": 57,
   "metadata": {},
   "outputs": [
    {
     "name": "stdout",
     "output_type": "stream",
     "text": [
      "The Zen of Python, by Tim Peters\n",
      "\n",
      "Beautiful is better than ugly.\n",
      "Explicit is better than implicit.\n",
      "Simple is better than complex.\n",
      "Complex is better than complicated.\n",
      "Flat is better than nested.\n",
      "Sparse is better than dense.\n",
      "Readability counts.\n",
      "Special cases aren't special enough to break the rules.\n",
      "Although practicality beats purity.\n",
      "Errors should never pass silently.\n",
      "Unless explicitly silenced.\n",
      "In the face of ambiguity, refuse the temptation to guess.\n",
      "There should be one-- and preferably only one --obvious way to do it.\n",
      "Although that way may not be obvious at first unless you're Dutch.\n",
      "Now is better than never.\n",
      "Although never is often better than *right* now.\n",
      "If the implementation is hard to explain, it's a bad idea.\n",
      "If the implementation is easy to explain, it may be a good idea.\n",
      "Namespaces are one honking great idea -- let's do more of those!\n"
     ]
    }
   ],
   "source": [
    "import this"
   ]
  },
  {
   "cell_type": "code",
   "execution_count": null,
   "metadata": {},
   "outputs": [],
   "source": []
  }
 ],
 "metadata": {
  "kernelspec": {
   "display_name": "Python 3 (ipykernel)",
   "language": "python",
   "name": "python3"
  },
  "language_info": {
   "codemirror_mode": {
    "name": "ipython",
    "version": 3
   },
   "file_extension": ".py",
   "mimetype": "text/x-python",
   "name": "python",
   "nbconvert_exporter": "python",
   "pygments_lexer": "ipython3",
   "version": "3.10.12"
  }
 },
 "nbformat": 4,
 "nbformat_minor": 4
}
