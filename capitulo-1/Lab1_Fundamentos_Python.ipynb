{
 "cells": [
  {
   "cell_type": "code",
   "execution_count": 7,
   "metadata": {},
   "outputs": [],
   "source": [
    "#Referencia https://learnxinyminutes.com/docs/python/"
   ]
  },
  {
   "cell_type": "markdown",
   "metadata": {},
   "source": [
    "## 1. Tipos  de datos y operadores"
   ]
  },
  {
   "cell_type": "markdown",
   "metadata": {},
   "source": [
    "- Estos son ejemplos de operaciones matemáticas básicas realizadas en Python:"
   ]
  },
  {
   "cell_type": "code",
   "execution_count": 5,
   "metadata": {},
   "outputs": [
    {
     "name": "stdout",
     "output_type": "stream",
     "text": [
      "2\n",
      "7\n",
      "20\n",
      "7.0\n"
     ]
    }
   ],
   "source": [
    "# Operación\n",
    "# Sumamos 1 más 1 y mostramos el resultado\n",
    "print(1+1)  # La salida será 2\n",
    "\n",
    "# Restamos 1 de 8 y mostramos el resultado\n",
    "print(8-1)  # La salida será 7\n",
    "\n",
    "# Multiplicamos 10 por 2 y mostramos el resultado\n",
    "print(10*2)  # La salida será 20\n",
    "\n",
    "# Dividimos 35 entre 5 y mostramos el resultado\n",
    "print(35/5)  # La salida será 7.0 (como número decimal)\n",
    "# (Python devuelve un número decimal cuando realizamos divisiones, incluso si el resultado es un número entero, para mantener la precisión)."
   ]
  },
  {
   "cell_type": "code",
   "execution_count": 4,
   "metadata": {},
   "outputs": [
    {
     "name": "stdout",
     "output_type": "stream",
     "text": [
      "2.75\n",
      "2.75\n"
     ]
    }
   ],
   "source": [
    "# División \n",
    "# Dividimos 11 entre 4 y mostramos el resultado\n",
    "print(11/4)  # La salida será 2.75 (como número decimal)\n",
    "\n",
    "# Dividimos 11.0 entre 4.0 y mostramos el resultado\n",
    "print(11.0/4.0)  # La salida también será 2.75 (como número decimal)"
   ]
  },
  {
   "cell_type": "code",
   "execution_count": 9,
   "metadata": {},
   "outputs": [
    {
     "name": "stdout",
     "output_type": "stream",
     "text": [
      "1\n",
      "1.0\n",
      "-2\n",
      "-2.0\n"
     ]
    }
   ],
   "source": [
    "# División con redondeo\n",
    "# Realizamos una división entera de 5 entre 3 y mostramos el resultado\n",
    "print(5//3)  # La salida será 1 (descartando el residuo)\n",
    "\n",
    "# Realizamos una división de punto flotante de 5.0 entre 3.0 y mostramos el resultado\n",
    "print(5.0//3.0)  # La salida también será 1.0 (como número decimal, descartando el residuo)\n",
    "\n",
    "# Realizamos una división entera de -5 entre 3 y mostramos el resultado\n",
    "print(-5//3)  # La salida será -2 (descartando el residuo)\n",
    "\n",
    "# Realizamos una división de punto flotante de -5.0 entre 3.0 y mostramos el resultado\n",
    "print(-5.0//3.0)  # La salida también será -2.0 (como número decimal, descartando el residuo)"
   ]
  },
  {
   "cell_type": "markdown",
   "metadata": {},
   "source": [
    "- El operador % que conocemos como porcentaje en Python se utiliza para calcular el módulo de una división, es decir, el residuo de la división."
   ]
  },
  {
   "cell_type": "code",
   "execution_count": 10,
   "metadata": {},
   "outputs": [
    {
     "name": "stdout",
     "output_type": "stream",
     "text": [
      "1\n"
     ]
    }
   ],
   "source": [
    "# Modulo\n",
    "# Calculamos el residuo de la división de 7 entre 3 y mostramos el resultado\n",
    "print(7%3)  # La salida será 1\n",
    "\n",
    "# En esta operación, 7 se divide por 3, y el residuo es 1."
   ]
  },
  {
   "cell_type": "markdown",
   "metadata": {},
   "source": [
    "- El operador ** en Python se utiliza para calcular exponentes. Esto significa que 2 elevado a la cuarta potencia es igual a 16."
   ]
  },
  {
   "cell_type": "code",
   "execution_count": 8,
   "metadata": {},
   "outputs": [
    {
     "name": "stdout",
     "output_type": "stream",
     "text": [
      "16\n"
     ]
    }
   ],
   "source": [
    "# Exponentes\n",
    "# En este espresión elevamos 2 a la cuarta potencia y mostramos el resultado\n",
    "print(2**4)  # La salida será 16"
   ]
  },
  {
   "cell_type": "markdown",
   "metadata": {},
   "source": [
    "Por si no se acuerdan el acrónimo PEMDAS se usa para recordar el orden de las operaciones aritméticas:\n",
    "\n",
    "- Primero las operaciones dentro de los paréntesis.\n",
    "- Luego exponentes o potencias.\n",
    "- Luego multiplicaciones y divisiones de izquierda a derecha.\n",
    "- Y por último sumas y restas también de izquierda a derecha."
   ]
  },
  {
   "cell_type": "code",
   "execution_count": 1,
   "metadata": {},
   "outputs": [
    {
     "name": "stdout",
     "output_type": "stream",
     "text": [
      "8\n"
     ]
    }
   ],
   "source": [
    "# PEMDAS\n",
    "# El primer paréntesis asegura el comando `print` pero el segúndo paréntesis \n",
    "# realiza la adición antes de la multiplicación, siguiendo la regla de PEMDAS.\n",
    "print((1+3)*2)"
   ]
  },
  {
   "cell_type": "markdown",
   "metadata": {},
   "source": [
    "En Python, los operadores booleanos and (y), or (o) se utilizan para realizar operaciones lógicas entre valores booleanos, también not que es la negación de una expresión lo veremos más adelante."
   ]
  },
  {
   "cell_type": "code",
   "execution_count": 12,
   "metadata": {},
   "outputs": [
    {
     "name": "stdout",
     "output_type": "stream",
     "text": [
      "False\n",
      "True\n"
     ]
    }
   ],
   "source": [
    "# Boolean\n",
    "# Realizamos la operación lógica \"and\" entre True y False y mostramos el resultado\n",
    "print(True and False)  # La salida será False\n",
    "\n",
    "# En esta operación \"and\", ambos operandos deben ser True para que el resultado sea True.\n",
    "# Como uno de los operandos es False, el resultado es False.\n",
    "\n",
    "# Realizamos la operación lógica \"or\" entre False y True y mostramos el resultado\n",
    "print(False or True)  # La salida será True\n",
    "\n",
    "# En esta operación \"or\", al menos uno de los operandos debe ser True para que el resultado sea True.\n",
    "# Como uno de los operandos es True, el resultado es True.  "
   ]
  },
  {
   "cell_type": "markdown",
   "metadata": {},
   "source": [
    "En Python, las comparaciones entre valores numéricos y valores booleanos pueden ser interesantes debido a que por ejemplo:"
   ]
  },
  {
   "cell_type": "code",
   "execution_count": 3,
   "metadata": {},
   "outputs": [
    {
     "name": "stdout",
     "output_type": "stream",
     "text": [
      "True\n",
      "False\n",
      "True\n"
     ]
    }
   ],
   "source": [
    "# Comparamos si 0 es igual a False y mostramos el resultado\n",
    "print(0 == False)  # La salida será True\n",
    "\n",
    "# En Python, False se considera igual a 0 en contextos de comparación numérica.\n",
    "# Por lo tanto, 0 es igual a False, y la comparación es True.\n",
    "\n",
    "# Comparamos si 2 es igual a True y mostramos el resultado\n",
    "print(2 == True)  # La salida será False\n",
    "\n",
    "# En esta comparación, True se considera igual a 1 en Python en contextos de comparación numérica.\n",
    "# Como 2 no es igual a 1, esta expresión es falsa.\n",
    "\n",
    "# Comparamos si 1 es igual a True y mostramos el resultado\n",
    "print(1 == True)  # La salida será True\n",
    "\n",
    "# Al igual que en el caso anterior, True se considera igual a 1 en contextos de comparación numérica.\n",
    "# Como 1 es igual a 1, esta expresión es verdadera.\n",
    "\n",
    "# En sistemas Linux, es una convención común que un programa retorne 0 si se ejecuta con éxito (verdadero) \n",
    "# y un valor diferente de 0 si se ejecuta con errores (falso)."
   ]
  },
  {
   "cell_type": "markdown",
   "metadata": {},
   "source": [
    "- El operador not invierte el valor booleano al que se aplica, cambiando True a False y False a True. Por lo tanto."
   ]
  },
  {
   "cell_type": "code",
   "execution_count": 16,
   "metadata": {},
   "outputs": [
    {
     "name": "stdout",
     "output_type": "stream",
     "text": [
      "False\n",
      "True\n"
     ]
    }
   ],
   "source": [
    "# negación\n",
    "# Aplicamos la operación lógica \"not\" a True y mostramos el resultado\n",
    "print(not True)  # La salida será False\n",
    "# La operación \"not\" invierte el valor booleano. Como True se invierte a False, la salida es False.\n",
    "\n",
    "# Aplicamos la operación lógica \"not\" a False y mostramos el resultado\n",
    "print(not False)  # La salida será True\n",
    "# De manera similar, la operación \"not\" invierte el valor booleano. Como False se invierte a True, la salida es True."
   ]
  },
  {
   "cell_type": "markdown",
   "metadata": {},
   "source": [
    "- Esto ejemplos muestran cómo se utiliza el operador de igualdad (==) para comparar valores en Python y cómo devuelve True cuando los valores son iguales y False cuando son diferentes."
   ]
  },
  {
   "cell_type": "code",
   "execution_count": 17,
   "metadata": {},
   "outputs": [
    {
     "name": "stdout",
     "output_type": "stream",
     "text": [
      "True\n",
      "False\n"
     ]
    }
   ],
   "source": [
    "# Igualdad\n",
    "print(1==1) \n",
    "print(2==1)"
   ]
  },
  {
   "cell_type": "markdown",
   "metadata": {},
   "source": [
    "- Esto muestra cómo se utiliza el operador de desigualdad (!=) para comparar si dos valores no son iguales en Python, y devuelve True cuando los valores son diferentes y False cuando son iguales."
   ]
  },
  {
   "cell_type": "code",
   "execution_count": 19,
   "metadata": {},
   "outputs": [
    {
     "name": "stdout",
     "output_type": "stream",
     "text": [
      "False\n",
      "True\n"
     ]
    }
   ],
   "source": [
    "# Desigual\n",
    "print(1!=1) \n",
    "print(2!=1)"
   ]
  },
  {
   "cell_type": "markdown",
   "metadata": {},
   "source": [
    "Vamos con comparaciones.\n",
    "- `print(1 < 10)` comparamos si 1 es menor que 10, lo cual es verdadero.\n",
    "- `print(1 > 10)` comparamos si 1 es mayor que 10, lo cual es falso.\n",
    "- `print(2 <= 2)` comparamos si 2 es menor o igual a 2, lo cual es verdadero.\n",
    "- `print(2 >= 2)` comparamos si 2 es mayor o igual a 2, lo cual es verdadero.\n",
    "- `print(1 < 2 < 3)` esta expresión combina dos comparaciones: primero, verificamos si 1 es menor que 2 (verdadero), luego verificamos si 2 es menor que 3 (verdadero). Ambas comparaciones son verdaderas, por lo que el resultado será True. Esto demuestra cómo podemos encadenar múltiples comparaciones en una sola expresión.\n",
    "- `print(2 < 3 < 2)` también combina dos comparaciones: primero, verificamos si 2 es menor que 3 (verdadero), luego verificamos si 3 es menor que 2 (falso). Como una de las comparaciones es falsa, el resultado general será False."
   ]
  },
  {
   "cell_type": "code",
   "execution_count": 21,
   "metadata": {},
   "outputs": [
    {
     "name": "stdout",
     "output_type": "stream",
     "text": [
      "True\n",
      "False\n",
      "True\n",
      "True\n",
      "True\n",
      "False\n"
     ]
    }
   ],
   "source": [
    "# Comparaciones\n",
    "print(1<10)  \n",
    "print(1>10) \n",
    "print(2<=2) \n",
    "print(2>=2) \n",
    "print(1<2<3)  \n",
    "print(2<3<2) "
   ]
  },
  {
   "cell_type": "markdown",
   "metadata": {},
   "source": [
    "- Podemos elegir entre comillas dobles o comillas simples según nuestras preferencias personales o según el contexto de nuestro código. Lo importante es ser coherentes en su uso dentro de un mismo programa o script."
   ]
  },
  {
   "cell_type": "code",
   "execution_count": 22,
   "metadata": {},
   "outputs": [
    {
     "name": "stdout",
     "output_type": "stream",
     "text": [
      "This is a string.\n",
      "This is also a string.\n"
     ]
    }
   ],
   "source": [
    "# Cadenas\n",
    "print(\"This is a string.\")\n",
    "print('This is also a string.')"
   ]
  },
  {
   "cell_type": "markdown",
   "metadata": {},
   "source": [
    "- Podemos concatenar cadenas utilizando el operador +, colocándolas una al lado de la otra sin operador (como en el segundo ejemplo), o repetir una cadena múltiples veces utilizando el operador * en Python"
   ]
  },
  {
   "cell_type": "code",
   "execution_count": 23,
   "metadata": {},
   "outputs": [
    {
     "name": "stdout",
     "output_type": "stream",
     "text": [
      "Hello world!\n",
      "Hello world!\n",
      "HelloHelloHello\n"
     ]
    }
   ],
   "source": [
    "# Operaciones con cadenas\n",
    "print(\"Hello \"+\"world!\")\n",
    "print(\"Hello \"\"world!\") \n",
    "print(\"Hello\"*3) "
   ]
  },
  {
   "cell_type": "markdown",
   "metadata": {},
   "source": [
    "- En Python, podemos acceder a caracteres específicos de una cadena utilizando la indexación. La indexación en Python comienza desde 0"
   ]
  },
  {
   "cell_type": "code",
   "execution_count": 6,
   "metadata": {},
   "outputs": [
    {
     "name": "stdout",
     "output_type": "stream",
     "text": [
      "T\n"
     ]
    }
   ],
   "source": [
    "# indexación de cadena\n",
    "print(\"This is a string\"[0])"
   ]
  },
  {
   "cell_type": "code",
   "execution_count": 26,
   "metadata": {},
   "outputs": [
    {
     "name": "stdout",
     "output_type": "stream",
     "text": [
      "16\n"
     ]
    }
   ],
   "source": [
    "# tamaño\n",
    "# La función len() nos devuelve la cantidad de caracteres en una cadena, incluyendo espacios en blanco.\n",
    "# En este caso, la cadena tiene 16 caracteres, por lo que nuestro resultado es 16.\n",
    "print(len(\"This is a string\"))  # La salida será 16"
   ]
  },
  {
   "cell_type": "code",
   "execution_count": 9,
   "metadata": {},
   "outputs": [
    {
     "name": "stdout",
     "output_type": "stream",
     "text": [
      "En nuestra canasta de compras tenemos manzana y limón\n"
     ]
    }
   ],
   "source": [
    "# formateo con %\n",
    "# Imagina que estamos haciendo una lista de compras en una tienda de comestibles.\n",
    "\n",
    "# Primero, declaramos dos variables: 'x' y 'y', que representan dos frutas que queremos comprar.\n",
    "x = 'manzana'\n",
    "y = 'limón'\n",
    "\n",
    "# Luego, creamos una cadena de texto 'z' que describe lo que hay en nuestra canasta de compras.\n",
    "# Usamos el operador '%' para indicar dónde queremos insertar los valores de nuestras variables.\n",
    "z = \"En nuestra canasta de compras tenemos %s y %s\" % (x, y)\n",
    "\n",
    "# Finalmente, mostramos la cadena formateada 'z' que contiene nuestros elementos de la canasta.\n",
    "# Los valores de 'x' e 'y' se reemplazarán en los lugares donde usamos '%s'.\n",
    "print(z)"
   ]
  },
  {
   "cell_type": "markdown",
   "metadata": {},
   "source": [
    "- El método str.format() es una forma poderosa y flexible de formatear cadenas en Python.\n",
    "- el método format() se utiliza para crear cadenas de texto dinámicas al insertar valores en marcadores de posición."
   ]
  },
  {
   "cell_type": "code",
   "execution_count": 29,
   "metadata": {},
   "outputs": [
    {
     "name": "stdout",
     "output_type": "stream",
     "text": [
      "This is a placeholder\n",
      "strings can be formatted\n",
      "Bob wants to eat lasagna\n"
     ]
    }
   ],
   "source": [
    "# formateo con format \n",
    "\n",
    "# En el primer ejemplo, usamos '{}' como marcadores de posición. Luego, llamamos al método format() \n",
    "# y proporcionamos los valores \"This\" y \"placeholder\" como argumentos.\n",
    "print(\"{} is a {}\".format(\"This\", \"placeholder\"))\n",
    "# La salida será: \"This is a placeholder\"\n",
    "\n",
    "# En el segundo ejemplo, utilizamos índices numéricos para especificar qué valor se inserta en cada marcador de posición. \n",
    "# \"strings\" se inserta en {0} y \"formatted\" en {1}.\n",
    "print(\"{0} can be {1}\".format(\"strings\", \"formatted\"))\n",
    "# La salida será: \"strings can be formatted\"\n",
    "\n",
    "# En el tercer ejemplo, utilizamos nombres de variables dentro de las llaves {}.\n",
    "# Luego, asignamos valores a estos nombres al usar el método format() con argumentos con nombre.\n",
    "print(\"{name} wants to eat {food}\".format(name=\"Bob\", food=\"lasagna\"))\n",
    "# La salida será: \"Bob wants to eat lasagna\""
   ]
  },
  {
   "cell_type": "markdown",
   "metadata": {},
   "source": [
    "Como para practica deseamos imprimir los 2 primeros y los 2 últimos caracteres de una cadena. Sin embargo, hay que tener en cuenta que en Python, si intentas acceder a índices que están fuera del rango de una cadena, no generará un error, sino que simplemente imprimirá los caracteres disponibles.\n",
    "\n",
    "- Para la cadena \"w3resource\", imprimirá \"w3ce\", que son los 2 primeros caracteres y los 2 últimos caracteres disponibles.\n",
    "- Para la cadena \"w3\", imprimirá \"w3w3\", ya que solo hay 2 caracteres en la cadena.-\n",
    "- Para la cadena \"w\", imprimirá \"ww\", ya que solo hay 1 caracter en la cadena y se repite dos veces.-"
   ]
  },
  {
   "cell_type": "code",
   "execution_count": 30,
   "metadata": {},
   "outputs": [
    {
     "name": "stdout",
     "output_type": "stream",
     "text": [
      "w3ce\n",
      "w3w3\n",
      "ww\n"
     ]
    }
   ],
   "source": [
    "#PRACTICA\n",
    "#1 De una cadena imprimir solo los 2 primeros y 2 últimos caracteres.\n",
    "cad = \"w3resource\"\n",
    "print(cad[:2]+cad[-2:])\n",
    "cad = \"w3\"\n",
    "print(cad[:2]+cad[-2:])\n",
    "cad = \"w\"\n",
    "print(cad[:2]+cad[-2:])"
   ]
  },
  {
   "cell_type": "markdown",
   "metadata": {},
   "source": [
    "En esta práctica, vamos a elevar una cadena con cierto número de asteriscos a la potencia de su longitud para generar una nueva cadena.\n",
    "Por ejemplo, vamos a elevar la cadena `\"***\"` a la potencia de 3 (la longitud de la cadena original). El resultado será una nueva cadena con 27 asteriscos `\"***************************\"`, que es 3 elevado a la 3ª potencia.\n",
    "\n",
    "- Este código elevará la cadena `\"***\"` a la potencia de 3 (la longitud de la cadena original) y generará una nueva cadena con el resultado.\n",
    "- En este caso, el resultado será 27 asteriscos `\"***************************\"`, que es 3 elevado a la 3ª potencia.\n",
    "- La longitud de la nueva cadena es 27, que es la longitud de `\"***************************\"`."
   ]
  },
  {
   "cell_type": "code",
   "execution_count": 32,
   "metadata": {},
   "outputs": [
    {
     "name": "stdout",
     "output_type": "stream",
     "text": [
      "***************************\n",
      "27\n"
     ]
    }
   ],
   "source": [
    "#PRACTICA\n",
    "#2 de una cadena con cierto numero de asteriscos, crear una nueva cadena que ha sido elevada por el numero\n",
    "#EJ ** -> **** - 2 al cuadrado\n",
    "ast = \"***\"\n",
    "res = \"*\" * (len(ast) ** len(ast))\n",
    "print(res)\n",
    "print(len(res))"
   ]
  },
  {
   "cell_type": "markdown",
   "metadata": {},
   "source": [
    "## 2.Colecciones"
   ]
  },
  {
   "cell_type": "markdown",
   "metadata": {},
   "source": [
    "- Estos son ejemplos de tipos de datos comunes en Python, incluyendo cadenas de texto (str), números de punto flotante o decimales (float), enteros (int) y booleanos (bool).\n",
    "- También estamos mostrando estructuras vacías como listas (list), tuplas (tuple), diccionarios (dict) y conjuntos (set). Es importante notar que la creación de listas, tuplas y diccionarios tiene una forma rápida y directa, mientras que los conjuntos (set) se manejan de manera diferente.\n",
    "- La función `type()` se utiliza para determinar el tipo de dato al que pertenece un valor o variable.- La funcion type() te muestra el tipo de dato al que pertenece el valor o la variable."
   ]
  },
  {
   "cell_type": "code",
   "execution_count": 38,
   "metadata": {},
   "outputs": [
    {
     "name": "stdout",
     "output_type": "stream",
     "text": [
      "<class 'str'>\n",
      "<class 'float'>\n",
      "<class 'int'>\n",
      "<class 'bool'>\n",
      "<class 'list'>\n",
      "<class 'tuple'>\n",
      "<class 'dict'>\n",
      "<class 'set'>\n"
     ]
    }
   ],
   "source": [
    "# tipos de datos\n",
    "print(type(\"texto\"))\n",
    "print(type(5.0))\n",
    "print(type(5))\n",
    "print(type(True))\n",
    "# tipos de estructuras\n",
    "print(type([]))\n",
    "print(type(()))\n",
    "print(type({}))\n",
    "print(type(set()))"
   ]
  },
  {
   "cell_type": "markdown",
   "metadata": {},
   "source": [
    "Aqui estamos realizando una serie de operaciones en una lista en Python:\n",
    "- li = [] crea una lista vacía llamada li.\n",
    "- other_li = [4, 5, 6] crea una lista llamada other_li con los elementos 4, 5 y 6.\n",
    "- li.append(1) agrega el valor 1 al final de la lista li. Ahora li contiene [1].\n",
    "- li.append(2) agrega el valor 2 al final de la lista li. Ahora li contiene [1, 2].\n",
    "- li.append(4) agrega el valor 4 al final de la lista li. Ahora li contiene [1, 2, 4].\n",
    "- li.append(3) agrega el valor 3 al final de la lista li. Ahora li contiene [1, 2, 4, 3].\n",
    "- li.pop() elimina el último elemento de la lista li. En este caso, elimina el valor 3. Ahora li contiene [1, 2, 4].\n",
    "- li.append(3) agrega nuevamente el valor 3 al final de la lista li. Ahora li contiene [1, 2, 4, 3].\n",
    "- Al final de estas operaciones, la lista li contiene los elementos [1, 2, 4, 3]."
   ]
  },
  {
   "cell_type": "code",
   "execution_count": 39,
   "metadata": {},
   "outputs": [],
   "source": [
    "# LISTAS\n",
    "li = []\n",
    "other_li = [4, 5, 6]"
   ]
  },
  {
   "cell_type": "code",
   "execution_count": 41,
   "metadata": {},
   "outputs": [
    {
     "name": "stdout",
     "output_type": "stream",
     "text": [
      "[1, 2, 4, 3, 1, 2, 4, 3]\n",
      "[1, 2, 4, 3, 1, 2, 4]\n",
      "[1, 2, 4, 3, 1, 2, 4, 3]\n"
     ]
    }
   ],
   "source": [
    "# operaciones de listas\n",
    "li.append(1)  \n",
    "li.append(2)  \n",
    "li.append(4)  \n",
    "li.append(3)\n",
    "print(li)\n",
    "li.pop()\n",
    "print(li)\n",
    "li.append(3)\n",
    "print(li)"
   ]
  },
  {
   "cell_type": "code",
   "execution_count": 43,
   "metadata": {},
   "outputs": [
    {
     "name": "stdout",
     "output_type": "stream",
     "text": [
      "1\n",
      "42\n",
      "1\n",
      "3\n"
     ]
    }
   ],
   "source": [
    "# Acceso y Modificación de Listas\n",
    "\n",
    "# Accedemos al primer elemento de la lista usando li[0].\n",
    "print(li[0])  # Muestra el primer valor en la lista 'li'.\n",
    "\n",
    "# Podemos cambiar ese valor asignándole uno nuevo, como li[0] = 42.\n",
    "li[0] = 42\n",
    "print(li[0])  # Muestra el nuevo valor, que es 42.\n",
    "\n",
    "# Si queremos volver al valor original, simplemente lo asignamos nuevamente, li[0] = 1.\n",
    "li[0] = 1\n",
    "print(li[0])  # Vuelve al valor original, que es 1.\n",
    "\n",
    "# Para acceder al último elemento, usamos el índice -1.\n",
    "print(li[-1])  # Muestra el valor en la última posición de la lista 'li'."
   ]
  },
  {
   "cell_type": "markdown",
   "metadata": {},
   "source": [
    "En Python, puedes usar la técnica de \"slicing\" (rebanado) para acceder a porciones específicas de una lista:\n",
    "\n",
    "- `print(li[1:3])` toma un \"slice\" desde el índice 1 (inclusive) hasta el índice 3 (exclusivo). Esto devuelve [2, 4], que son los elementos en esos índices.\n",
    "- `print(li[2:])` toma un \"slice\" desde el índice 2 hasta el final de la lista. Esto devuelve [4, 3], que son los elementos desde el índice 2 hasta el final.\n",
    "- `print(li[:3])` toma un \"slice\" desde el principio de la lista hasta el índice 3 (exclusivo). Esto devuelve [1, 2, 4], que son los elementos desde el principio hasta el índice 2.\n",
    "- `print(li[::2])` toma un \"slice\" que selecciona cada segundo elemento de la lista. Esto devuelve [1, 4], que son los elementos en los índices 0 y 2.\n",
    "- `print(li[::-1])` toma un \"slice\" que invierte la lista. Esto devuelve [3, 4, 2, 1], que es la lista original invertida."
   ]
  },
  {
   "cell_type": "code",
   "execution_count": 7,
   "metadata": {},
   "outputs": [
    {
     "name": "stdout",
     "output_type": "stream",
     "text": [
      "[2, 4]\n",
      "[4, 3]\n",
      "[1, 2, 4]\n",
      "[1, 4]\n",
      "[3, 4, 2, 1]\n"
     ]
    }
   ],
   "source": [
    "# slice\n",
    "print(li[1:3]) \n",
    "# Omitir comienzo\n",
    "print(li[2:])\n",
    "# Omitir final\n",
    "print(li[:3])  \n",
    "# seleccionar cada segundo elemento\n",
    "print(li[::2]) \n",
    "# invertir la lista\n",
    "print(li[::-1])"
   ]
  },
  {
   "cell_type": "code",
   "execution_count": 45,
   "metadata": {},
   "outputs": [
    {
     "name": "stdout",
     "output_type": "stream",
     "text": [
      "True\n"
     ]
    }
   ],
   "source": [
    "# Puedemos utilizar el operador in en Python para verificar si un elemento existe en una lista. \n",
    "# En este caso, estamos verificando si el número 1 está en la lista li.\n",
    "# ver si un elemento existe\n",
    "print(1 in li)"
   ]
  },
  {
   "cell_type": "code",
   "execution_count": 47,
   "metadata": {},
   "outputs": [
    {
     "name": "stdout",
     "output_type": "stream",
     "text": [
      "8\n"
     ]
    }
   ],
   "source": [
    "# Podemos utilizar la función len() en Python para obtener la longitud (es decir, la cantidad de elementos) de una lista. \n",
    "# tamaño de lista\n",
    "print(len(li))"
   ]
  },
  {
   "cell_type": "markdown",
   "metadata": {},
   "source": [
    "En Python, las tuplas son similares a las listas, pero tienen la característica principal de ser inmutables, lo que significa que no se pueden modificar los elementos de una tupla una vez que se han definido. \n",
    "\n",
    "- Este ejemplo retorna `TypeError: 'tuple' object does not support item assignment` lo que quiere decir que no podemos reasignar el primer elemento de la tupla tup. "
   ]
  },
  {
   "cell_type": "code",
   "execution_count": 48,
   "metadata": {},
   "outputs": [
    {
     "name": "stdout",
     "output_type": "stream",
     "text": [
      "1\n"
     ]
    },
    {
     "ename": "TypeError",
     "evalue": "'tuple' object does not support item assignment",
     "output_type": "error",
     "traceback": [
      "\u001b[0;31m---------------------------------------------------------------------------\u001b[0m",
      "\u001b[0;31mTypeError\u001b[0m                                 Traceback (most recent call last)",
      "Cell \u001b[0;32mIn[48], line 4\u001b[0m\n\u001b[1;32m      2\u001b[0m tup \u001b[38;5;241m=\u001b[39m (\u001b[38;5;241m1\u001b[39m, \u001b[38;5;241m2\u001b[39m, \u001b[38;5;241m3\u001b[39m)\n\u001b[1;32m      3\u001b[0m \u001b[38;5;28mprint\u001b[39m(tup[\u001b[38;5;241m0\u001b[39m])\n\u001b[0;32m----> 4\u001b[0m \u001b[43mtup\u001b[49m\u001b[43m[\u001b[49m\u001b[38;5;241;43m0\u001b[39;49m\u001b[43m]\u001b[49m \u001b[38;5;241m=\u001b[39m \u001b[38;5;241m3\u001b[39m\n",
      "\u001b[0;31mTypeError\u001b[0m: 'tuple' object does not support item assignment"
     ]
    }
   ],
   "source": [
    "# TUPLES\n",
    "tup = (1, 2, 3)\n",
    "print(tup[0])\n",
    "tup[0] = 3"
   ]
  },
  {
   "cell_type": "markdown",
   "metadata": {},
   "source": [
    "Podemos realizar varias operaciones con tuplas en Python. Aquí tenemos tus ejemplos:"
   ]
  },
  {
   "cell_type": "code",
   "execution_count": 49,
   "metadata": {},
   "outputs": [
    {
     "name": "stdout",
     "output_type": "stream",
     "text": [
      "3\n",
      "(1, 2, 3, 4, 5, 6)\n",
      "(1, 2)\n",
      "True\n"
     ]
    }
   ],
   "source": [
    "# Mostramos la longitud de la tupla usando la función len()\n",
    "print(len(tup))  # Muestra la longitud de la tupla 'tup'.\n",
    "\n",
    "# Podemos concatenar dos tuplas usando el operador '+'.\n",
    "# En este caso, estamos agregando a la tupla (4, 5, 6) la tupla 'tup'.\n",
    "print(tup + (4, 5, 6))  # Muestra la tupla resultante después de la concatenación.\n",
    "\n",
    "# Para obtener una porción de la tupla, usamos slicing [:].\n",
    "# Aquí, obtenemos los primeros dos elementos de 'tup'.\n",
    "print(tup[:2])  # Muestra los dos primeros elementos de la tupla 'tup'.\n",
    "\n",
    "# Para verificar si un valor está en la tupla, usamos 'in'.\n",
    "# Comprobamos si el número 2 está en la tupla 'tup'.\n",
    "print(2 in tup)  # Muestra True si 2 está en la tupla, de lo contrario, muestra False."
   ]
  },
  {
   "cell_type": "markdown",
   "metadata": {},
   "source": [
    "- el desempaquetado de tuplas es una característica poderosa y útil en Python."
   ]
  },
  {
   "cell_type": "code",
   "execution_count": 51,
   "metadata": {},
   "outputs": [
    {
     "name": "stdout",
     "output_type": "stream",
     "text": [
      "1\n",
      "4\n",
      "(4, 5, 6)\n",
      "5\n",
      "4\n"
     ]
    }
   ],
   "source": [
    "# Podemos desempaquetar los valores de una tupla en variables individuales.\n",
    "# En este caso, estamos asignando los valores (1, 2, 3) a las variables a, b y c respectivamente.\n",
    "a, b, c = (1, 2, 3)\n",
    "print(a)  # Muestra el valor de 'a', que es 1\n",
    "\n",
    "# También podemos desempaquetar sin necesidad de los paréntesis.\n",
    "# Asignamos los valores 4, 5 y 6 a las variables d, e y f.\n",
    "d, e, f = 4, 5, 6\n",
    "print(d)  # Muestra el valor de 'd', que es 4\n",
    "\n",
    "# Incluso podemos crear una tupla sin paréntesis.\n",
    "# Aquí, la tupla (4, 5, 6) se asigna a la variable g.\n",
    "g = 4, 5, 6\n",
    "print(g)  # Muestra la tupla g, que es (4, 5, 6)\n",
    "\n",
    "# También podemos intercambiar valores de variables de manera eficiente.\n",
    "# Intercambiamos los valores de 'd' y 'e'.\n",
    "e, d = d, e\n",
    "print(d)  # Muestra el nuevo valor de 'd', que es 5\n",
    "print(e)  # Muestra el nuevo valor de 'e', que es 4"
   ]
  },
  {
   "cell_type": "markdown",
   "metadata": {},
   "source": [
    "- Ahora hablemos de los diccionarios en Python son una estructura de datos versátil y fundamental que permite almacenar y recuperar datos relacionados de manera eficiente. \n",
    "- Funcionan mediante la asignación de valores a claves únicas, lo que facilita la búsqueda y recuperación de datos específicos. Los diccionarios son un elemento esencial en la programación de Python y se utilizan ampliamente en diversas aplicaciones."
   ]
  },
  {
   "cell_type": "code",
   "execution_count": 52,
   "metadata": {},
   "outputs": [
    {
     "name": "stdout",
     "output_type": "stream",
     "text": [
      "{'one': 1, 'two': 2, 'three': 3}\n"
     ]
    }
   ],
   "source": [
    "# DICCIONARIOS\n",
    "# Estamos creando dos diccionarios en Python.\n",
    "# Uno está vacío (no tiene nada dentro), y el otro tiene tres elementos con nombres (\"one\", \"two\" y \"three\") y valores correspondientes (1, 2 y 3). \n",
    "empty_dict = {}\n",
    "filled_dict = {\"one\": 1, \"two\": 2, \"three\": 3}\n",
    "print(filled_dict)\n",
    "# Luego, mostramos el segundo diccionario en la pantalla."
   ]
  },
  {
   "cell_type": "code",
   "execution_count": 54,
   "metadata": {},
   "outputs": [
    {
     "name": "stdout",
     "output_type": "stream",
     "text": [
      "1\n"
     ]
    }
   ],
   "source": [
    "# Look up values with []\n",
    "\n",
    "# Cuando usamos filled_dict[\"one\"].\n",
    "# Python busca la clave \"one\" en el diccionario y muestra el valor asociado a esa clave, que en este caso es 1.\n",
    "print(filled_dict[\"one\"])"
   ]
  },
  {
   "cell_type": "code",
   "execution_count": 55,
   "metadata": {},
   "outputs": [
    {
     "name": "stdout",
     "output_type": "stream",
     "text": [
      "dict_keys(['one', 'two', 'three'])\n"
     ]
    }
   ],
   "source": [
    "# obtener los identificadores\n",
    "# Este código se utiliza para buscar y mostrar el valor asociado a la clave \"one\" en el diccionario filled_dict\n",
    "print(filled_dict.keys())  "
   ]
  },
  {
   "cell_type": "code",
   "execution_count": 56,
   "metadata": {},
   "outputs": [
    {
     "name": "stdout",
     "output_type": "stream",
     "text": [
      "dict_values([1, 2, 3])\n"
     ]
    }
   ],
   "source": [
    "# obtener los valores\n",
    "# Este código se utiliza para obtener una lista de los valores presentes en el diccionario filled_dict\n",
    "print(filled_dict.values())"
   ]
  },
  {
   "cell_type": "code",
   "execution_count": 57,
   "metadata": {},
   "outputs": [
    {
     "name": "stdout",
     "output_type": "stream",
     "text": [
      "dict_items([('one', 1), ('two', 2), ('three', 3)])\n"
     ]
    }
   ],
   "source": [
    "#obtener todos los elementos\n",
    "# Este código se utiliza para obtener una lista de todos los elementos (pares clave-valor) \n",
    "# presentes en el diccionario filled_dict\n",
    "print(filled_dict.items()) "
   ]
  },
  {
   "cell_type": "markdown",
   "metadata": {},
   "source": [
    "#### <span style=\"color: red;\">Speach</span>\n",
    "- Este código se utiliza para asignar un nuevo par clave-valor al diccionario filled_dict. En este caso, estamos agregando la clave \"four\" con el valor 4. Luego, mostramos la lista de todos los elementos del diccionario, que ahora incluirá el nuevo par clave-valor"
   ]
  },
  {
   "cell_type": "code",
   "execution_count": 58,
   "metadata": {},
   "outputs": [
    {
     "name": "stdout",
     "output_type": "stream",
     "text": [
      "dict_items([('one', 1), ('two', 2), ('three', 3), ('four', 4)])\n"
     ]
    }
   ],
   "source": [
    "# asignar valor\n",
    "# Podemos asignar un valor a un diccionario utilizando la notación de corchetes [].\n",
    "# En este caso, asignamos el valor 4 a la clave \"four\" en el diccionario filled_dict.\n",
    "filled_dict[\"four\"] = 4\n",
    "\n",
    "# Luego, mostramos los elementos del diccionario utilizando el método items().\n",
    "print(filled_dict.items())"
   ]
  },
  {
   "cell_type": "markdown",
   "metadata": {},
   "source": [
    "\n",
    "- En Python, los sets son colecciones de elementos únicos, lo que significa que no pueden contener elementos duplicados. "
   ]
  },
  {
   "cell_type": "code",
   "execution_count": 59,
   "metadata": {},
   "outputs": [
    {
     "name": "stdout",
     "output_type": "stream",
     "text": [
      "{1, 2, 3, 4}\n"
     ]
    }
   ],
   "source": [
    "#SETS\n",
    "# Podemos crear un conjunto vacío utilizando set().\n",
    "empty_set = set()\n",
    "\n",
    "# También podemos inicializar un conjunto con valores utilizando set() y una lista.\n",
    "# En este caso, creamos un conjunto 'some_set' con los valores 1, 2, 3 y 4.\n",
    "some_set = set([1, 2, 2, 3, 4])\n",
    "\n",
    "# Mostramos el conjunto 'some_set', que automáticamente elimina duplicados.\n",
    "print(some_set)"
   ]
  },
  {
   "cell_type": "code",
   "execution_count": 61,
   "metadata": {},
   "outputs": [
    {
     "name": "stdout",
     "output_type": "stream",
     "text": [
      "{1, 2, 3, 4}\n"
     ]
    }
   ],
   "source": [
    "# otra opción\n",
    "filled_set = {1, 2, 2, 3, 4}\n",
    "print(filled_set)"
   ]
  },
  {
   "cell_type": "markdown",
   "metadata": {},
   "source": [
    "- other_set = {3, 4, 5, 6} crea otro conjunto llamado other_set con los elementos 3, 4, 5 y 6.\n",
    "### Los sets son útiles cuando necesitas trabajar con colecciones de elementos únicos y realizar operaciones de conjuntos.\n",
    "- print(filled_set & other_set) realiza la operación de intersección entre filled_set y other_set, que devuelve un nuevo conjunto que contiene los elementos que están en ambos conjuntos. En este caso, la intersección es {3, 4}.\n",
    "- print(filled_set | other_set) realiza la operación de unión entre filled_set y other_set, que devuelve un nuevo conjunto que contiene todos los elementos de ambos conjuntos sin duplicados. En este caso, la unión es {1, 2, 3, 4, 5, 6}."
   ]
  },
  {
   "cell_type": "code",
   "execution_count": 62,
   "metadata": {},
   "outputs": [
    {
     "name": "stdout",
     "output_type": "stream",
     "text": [
      "{3, 4}\n",
      "{1, 2, 3, 4, 5, 6}\n"
     ]
    }
   ],
   "source": [
    "other_set = {3, 4, 5, 6}\n",
    "# intersección\n",
    "print(filled_set & other_set)  \n",
    "# unión\n",
    "print(filled_set | other_set)  "
   ]
  },
  {
   "cell_type": "markdown",
   "metadata": {},
   "source": [
    "En este ejercicio, estamos buscando encontrar elementos en común entre dos listas sin usar un bucle for.\n",
    "- La solución que implemente fue utilizando conjuntos es una forma eficiente de hacerlo.\n",
    "- Primero, convertimos las listas list1 y list2 en conjuntos, a los que llamamos s1 y s2. Luego, utilizamos el operador & para encontrar la intersección entre los conjuntos. Esto nos da como resultado un conjunto llamado ans que contiene los elementos en común entre las dos listas.\n",
    "- En este ejemplo, como no hay elementos en común entre list1 y list2, ans será un conjunto vacío (set())."
   ]
  },
  {
   "cell_type": "code",
   "execution_count": 64,
   "metadata": {},
   "outputs": [
    {
     "name": "stdout",
     "output_type": "stream",
     "text": [
      "set()\n"
     ]
    }
   ],
   "source": [
    "#PRACTICA\n",
    "#3 De 2 listas identificar si existe al menos algun elemento en común - sin for loop\n",
    "list1 = [1,2,3,4]\n",
    "list2 = [5,6,7,9]\n",
    "s1 = set(list1)\n",
    "s2 = set(list2)\n",
    "ans = s1 & s2\n",
    "print(ans)"
   ]
  },
  {
   "cell_type": "markdown",
   "metadata": {},
   "source": [
    "- En esta práctica, estamos trabajando con un diccionario llamado ndict que contiene pares clave-valor.\n",
    "- El objetivo es sumar todos los valores presentes en el diccionario\n",
    "- primero obtenemos todos los valores del diccionario utilizando ndict.values().\n",
    "- Luego, utilizamos la función sum() para sumar todos los valores y almacenamos el resultado en la variable total.\n",
    "- Finalmente, imprimimos el valor total, que será la suma de los valores en el diccionario."
   ]
  },
  {
   "cell_type": "code",
   "execution_count": 63,
   "metadata": {},
   "outputs": [
    {
     "name": "stdout",
     "output_type": "stream",
     "text": [
      "55\n"
     ]
    }
   ],
   "source": [
    "#PRACTICA\n",
    "#4 Diccionario - sumar todos los valores presentes\n",
    "ndict = {\n",
    "'one':1,\n",
    "'two':2,\n",
    "'three':3,\n",
    "'four':4,\n",
    "'five':5,\n",
    "'six':6,\n",
    "'seven':7,\n",
    "'eight':8,\n",
    "'nine':9,\n",
    "'ten':10\n",
    "}\n",
    "nvalues = ndict.values()\n",
    "print(sum(nvalues))"
   ]
  },
  {
   "cell_type": "markdown",
   "metadata": {},
   "source": [
    "## 3. Control de flujo"
   ]
  },
  {
   "cell_type": "markdown",
   "metadata": {},
   "source": [
    "- En este caso, tenemos una variable llamada some_var que tiene un valor de 5. Comenzamos evaluando condiciones para saber qué acción tomar.\n",
    "- La primera condición, if some_var > 10, verifica si some_var es mayor que 10. Pero en este caso, eso es falso, porque 5 no es mayor que 10. Así que no hacemos nada en ese bloque.\n",
    "- Luego, pasamos a la siguiente condición, elif some_var < 10, que verifica si some_var es menor que 10. Esta condición es verdadera, porque 5 es, de hecho, menor que 10. Entonces, ejecutamos el código dentro de esa condición, que simplemente imprime 'some_var es menor que 10'.\n",
    "- La última cláusula else se omite porque solo se ejecuta cuando ninguna de las condiciones anteriores es verdadera. En este caso, la condición elif fue verdadera, por lo que no necesitamos el else.\""
   ]
  },
  {
   "cell_type": "code",
   "execution_count": 72,
   "metadata": {},
   "outputs": [
    {
     "name": "stdout",
     "output_type": "stream",
     "text": [
      "some_var es menor que 10.\n"
     ]
    }
   ],
   "source": [
    "# Definimos una variable some_var con el valor 5.\n",
    "some_var = 5\n",
    "\n",
    "# Usamos una declaración if/elif/else para tomar decisiones en función del valor de some_var.\n",
    "if some_var > 10:\n",
    "    print(\"some_var es totalmente mayor que 10.\")\n",
    "elif some_var < 10: \n",
    "    print(\"some_var es menor que 10.\")\n",
    "else: \n",
    "    print(\"some_var es efectivamente 10.\")"
   ]
  },
  {
   "cell_type": "code",
   "execution_count": 75,
   "metadata": {},
   "outputs": [
    {
     "name": "stdout",
     "output_type": "stream",
     "text": [
      "dog es un mamífero\n",
      "cat es un mamífero\n",
      "mouse es un mamífero\n"
     ]
    }
   ],
   "source": [
    "#FOR LOOPS\n",
    "# Usamos un bucle FOR para iterar a través de una lista de animales.\n",
    "# En cada iteración, la variable 'animal' toma el valor de uno de los elementos de la lista.\n",
    "for animal in [\"dog\", \"cat\", \"mouse\"]:\n",
    "    # Utilizamos la función format() para mostrar el nombre del animal en la cadena de salida.\n",
    "    print(\"{0} es un mamífero\".format(animal))"
   ]
  },
  {
   "cell_type": "markdown",
   "metadata": {},
   "source": [
    "- Este bucle for utiliza range(4) para generar una secuencia de números del 0 al 3 (4 no está incluido) y luego imprime cada número en la secuencia."
   ]
  },
  {
   "cell_type": "code",
   "execution_count": 76,
   "metadata": {},
   "outputs": [
    {
     "name": "stdout",
     "output_type": "stream",
     "text": [
      "0\n",
      "1\n",
      "2\n",
      "3\n"
     ]
    }
   ],
   "source": [
    "for i in range(4):\n",
    "    print(i)"
   ]
  },
  {
   "cell_type": "markdown",
   "metadata": {},
   "source": [
    "- Este bucle while se ejecuta mientras la condición x < 4 sea verdadera.\n",
    "- En cada iteración, se imprime el valor de x y se incrementa en 1.\n",
    "- El bucle se ejecuta hasta que x sea igual o mayor que 4. La salida será:"
   ]
  },
  {
   "cell_type": "code",
   "execution_count": 78,
   "metadata": {},
   "outputs": [
    {
     "name": "stdout",
     "output_type": "stream",
     "text": [
      "0\n",
      "1\n",
      "2\n",
      "3\n"
     ]
    }
   ],
   "source": [
    "x = 0\n",
    "while x < 4:\n",
    "    print(x)\n",
    "    x += 1  "
   ]
  },
  {
   "cell_type": "markdown",
   "metadata": {},
   "source": [
    "- el código funciona según lo esperado, imprimiendo \"FIZZ\" para los múltiplos de 3, \"BUZZ\" para los múltiplos de 5 y \"FIZZBUZZ\" para los múltiplos de ambos 3 y 5, mientras que imprime el número en los demás casos.\n",
    "- Esta es una práctica común en programación para evaluar la comprensión de las estructuras condicionales. ¡Bien hecho!"
   ]
  },
  {
   "cell_type": "code",
   "execution_count": 80,
   "metadata": {},
   "outputs": [
    {
     "name": "stdout",
     "output_type": "stream",
     "text": [
      "1\n",
      "2\n",
      "FIZZ\n",
      "4\n",
      "BUZZ\n",
      "FIZZ\n",
      "7\n",
      "8\n",
      "FIZZ\n",
      "BUZZ\n",
      "11\n",
      "FIZZ\n",
      "13\n",
      "14\n",
      "FIZZBUZZ\n",
      "16\n",
      "17\n",
      "FIZZ\n",
      "19\n",
      "BUZZ\n",
      "FIZZ\n",
      "22\n",
      "23\n",
      "FIZZ\n",
      "BUZZ\n",
      "26\n",
      "FIZZ\n",
      "28\n",
      "29\n",
      "FIZZBUZZ\n",
      "31\n",
      "32\n",
      "FIZZ\n",
      "34\n",
      "BUZZ\n",
      "FIZZ\n",
      "37\n",
      "38\n",
      "FIZZ\n",
      "BUZZ\n",
      "41\n",
      "FIZZ\n",
      "43\n",
      "44\n",
      "FIZZBUZZ\n",
      "46\n",
      "47\n",
      "FIZZ\n",
      "49\n",
      "BUZZ\n"
     ]
    }
   ],
   "source": [
    "#PRACTICA\n",
    "#5 IF/ELSE - programa que imprime nros de 1 a 50. Si es multiplo de 3 imprimir FIZZ. Si es multiplo de 5 imprimir BUZZ.\n",
    "#Si es multiplo de ambos FIZZBUZZ. En el resto de casos solo el numero.\n",
    "for i in range(1, 51):\n",
    "    if i % 3 == 0 and i % 5 == 0:\n",
    "        print('FIZZBUZZ')\n",
    "    elif i % 3 == 0:\n",
    "        print('FIZZ')\n",
    "    elif i % 5 ==0:\n",
    "        print('BUZZ')\n",
    "    else:\n",
    "        print(i)"
   ]
  },
  {
   "cell_type": "markdown",
   "metadata": {},
   "source": [
    "- En este juego, estamos tratando de adivinar un número que la computadora eligió al azar entre 1 y 100. Comenzamos con un intento inicial de 0.\n",
    "- Luego, entramos en un bucle que continúa ejecutándose hasta que adivinemos el número correcto. En cada intento, ingresamos un número y la computadora nos dice si ese número es mayor o menor que el número que estamos tratando de adivinar.\n",
    "- Si adivinamos correctamente, el juego termina y muestra 'ACERTADO!' en pantalla. Pero si no, seguimos intentando hasta que finalmente acertamos el número.\"\n",
    "- En resumen, el juego consiste en adivinar el número secreto de la computadora, y esta nos da pistas si estamos cerca o no."
   ]
  },
  {
   "cell_type": "code",
   "execution_count": 83,
   "metadata": {},
   "outputs": [
    {
     "name": "stdin",
     "output_type": "stream",
     "text": [
      "Elija un número entre 1 y 100:  25\n"
     ]
    },
    {
     "name": "stdout",
     "output_type": "stream",
     "text": [
      "MAYOR!\n"
     ]
    },
    {
     "name": "stdin",
     "output_type": "stream",
     "text": [
      "Elija un número entre 1 y 100:  50\n"
     ]
    },
    {
     "name": "stdout",
     "output_type": "stream",
     "text": [
      "MAYOR!\n"
     ]
    },
    {
     "name": "stdin",
     "output_type": "stream",
     "text": [
      "Elija un número entre 1 y 100:  70\n"
     ]
    },
    {
     "name": "stdout",
     "output_type": "stream",
     "text": [
      "MAYOR!\n"
     ]
    },
    {
     "name": "stdin",
     "output_type": "stream",
     "text": [
      "Elija un número entre 1 y 100:  90\n"
     ]
    },
    {
     "name": "stdout",
     "output_type": "stream",
     "text": [
      "MAYOR!\n"
     ]
    },
    {
     "name": "stdin",
     "output_type": "stream",
     "text": [
      "Elija un número entre 1 y 100:  95\n"
     ]
    },
    {
     "name": "stdout",
     "output_type": "stream",
     "text": [
      "MENOR!\n"
     ]
    },
    {
     "name": "stdin",
     "output_type": "stream",
     "text": [
      "Elija un número entre 1 y 100:  92\n"
     ]
    },
    {
     "name": "stdout",
     "output_type": "stream",
     "text": [
      "MAYOR!\n"
     ]
    },
    {
     "name": "stdin",
     "output_type": "stream",
     "text": [
      "Elija un número entre 1 y 100:  93\n"
     ]
    },
    {
     "name": "stdout",
     "output_type": "stream",
     "text": [
      "MAYOR!\n"
     ]
    },
    {
     "name": "stdin",
     "output_type": "stream",
     "text": [
      "Elija un número entre 1 y 100:  94\n"
     ]
    },
    {
     "name": "stdout",
     "output_type": "stream",
     "text": [
      "ACERTADO!\n"
     ]
    }
   ],
   "source": [
    "#PRACTICA\n",
    "#6 BUCLES - programa para adivinar un número generado al azar con input, indicar si es mayor o menor al buscado\n",
    "import random\n",
    "\n",
    "# Juego de Adivinanza de Números\n",
    "\n",
    "# Importamos el módulo random para generar un número aleatorio.\n",
    "import random\n",
    "\n",
    "# Generamos un número aleatorio entre 1 y 100 y lo almacenamos en target_num.\n",
    "target_num = random.randint(1, 100)\n",
    "\n",
    "# Inicializamos guess_num con 0.\n",
    "guess_num = 0\n",
    "\n",
    "# tambien lo podriamos hacer de la siguiente manera\n",
    "# target_num, guess_num = random.randint(1, 100), 0\n",
    "\n",
    "# Comenzamos un bucle while que continuará hasta que guess_num sea igual a target_num.\n",
    "while target_num != guess_num:\n",
    "    # Solicitamos al usuario que elija un número entre 1 y 100.\n",
    "    guess_num = int(input('Elija un número entre 1 y 100: '))\n",
    "    \n",
    "    # Comparamos guess_num con target_num.\n",
    "    if guess_num < target_num:\n",
    "        print('MAYOR!')  # Si guess_num es menor, mostramos \"MAYOR!\".\n",
    "    elif guess_num > target_num:\n",
    "        print('MENOR!')  # Si guess_num es mayor, mostramos \"MENOR!\".\n",
    "\n",
    "# Cuando guess_num finalmente sea igual a target_num, saldremos del bucle while y mostraremos \"ACERTADO!\".\n",
    "print('ACERTADO!')"
   ]
  },
  {
   "cell_type": "markdown",
   "metadata": {},
   "source": [
    "## 4. Funciones"
   ]
  },
  {
   "cell_type": "code",
   "execution_count": 84,
   "metadata": {},
   "outputs": [],
   "source": [
    "# Definimos una función llamada 'add' que toma dos argumentos, 'x' e 'y'.\n",
    "def add(x, y):\n",
    "    # Dentro de la función, mostramos los valores de 'x' e 'y' utilizando la función format().\n",
    "    print(\"x is {0} and y is {1}\".format(x, y))\n",
    "    \n",
    "    # Luego, retornamos la suma de 'x' e 'y' como resultado de la función.\n",
    "    return x + y"
   ]
  },
  {
   "cell_type": "markdown",
   "metadata": {},
   "source": [
    "- Puedes llamar a la función con diferentes argumentos y especificarlos por nombre si lo deseas."
   ]
  },
  {
   "cell_type": "code",
   "execution_count": 85,
   "metadata": {},
   "outputs": [
    {
     "name": "stdout",
     "output_type": "stream",
     "text": [
      "x is 5 and y is 6\n",
      "11\n",
      "x is 5 and y is 6\n",
      "11\n"
     ]
    }
   ],
   "source": [
    "print(add(5, 6)) \n",
    "print(add(y=6, x=5))  "
   ]
  },
  {
   "cell_type": "markdown",
   "metadata": {},
   "source": [
    "- Este código define una función llamada varargs que utiliza un asterisco * antes de args, lo que significa que puede aceptar cualquier número de argumentos. En este caso, cuando llamamos a la función varargs con los valores 1, 2 y 3, esos valores se recopilan en una tupla y se devuelven como resultado de la función.\n",
    "- En resumen, esta función puede aceptar múltiples argumentos y los devuelve como una tupla."
   ]
  },
  {
   "cell_type": "code",
   "execution_count": 86,
   "metadata": {},
   "outputs": [
    {
     "name": "stdout",
     "output_type": "stream",
     "text": [
      "(1, 2, 3)\n"
     ]
    }
   ],
   "source": [
    "# Definimos una función llamada 'varargs' que toma un número variable de argumentos (*args).\n",
    "def varargs(*args):\n",
    "    # Dentro de la función, simplemente retornamos los argumentos tal como son.\n",
    "    return args\n",
    "\n",
    "# Llamamos a la función 'varargs' con tres argumentos: 1, 2 y 3.\n",
    "print(varargs(1, 2, 3))"
   ]
  },
  {
   "cell_type": "markdown",
   "metadata": {},
   "source": [
    "- Este código define una función llamada keyword_args que utiliza dos asteriscos ** antes de kwargs. Esto significa que puede aceptar un número variable de argumentos en forma de pares clave-valor. Cuando llamamos a la función keyword_args con los argumentos big=\"foot\" y loch=\"ness\", estos pares clave-valor se recopilan en un diccionario y se devuelven como resultado de la función.\n",
    "- En resumen, esta función acepta múltiples argumentos en forma de pares clave-valor y los devuelve como un diccionario."
   ]
  },
  {
   "cell_type": "code",
   "execution_count": 88,
   "metadata": {},
   "outputs": [
    {
     "name": "stdout",
     "output_type": "stream",
     "text": [
      "{'big': 'foot', 'loch': 'ness'}\n"
     ]
    }
   ],
   "source": [
    "# Definimos una función llamada 'keyword_args' que toma argumentos de palabra clave (**kwargs).\n",
    "def keyword_args(**kwargs):\n",
    "    # Dentro de la función, simplemente retornamos los argumentos de palabra clave como un diccionario.\n",
    "    return kwargs\n",
    "\n",
    "# Llamamos a la función 'keyword_args' con argumentos de palabra clave.\n",
    "result = keyword_args(big=\"foot\", loch=\"ness\")\n",
    "print(result)"
   ]
  },
  {
   "cell_type": "code",
   "execution_count": 96,
   "metadata": {},
   "outputs": [
    {
     "name": "stdout",
     "output_type": "stream",
     "text": [
      "Valor de x antes de las funciones: 5\n",
      "Dentro de set_x: 43\n",
      "Antes de set_global_x: 5\n",
      "Después de set_global_x: 6\n",
      "Valor de x después de las funciones: 6\n"
     ]
    }
   ],
   "source": [
    "# Scope\n",
    "x = 5\n",
    "\n",
    "def set_x(num):\n",
    "    x = num  \n",
    "    print(\"Dentro de set_x:\", x)\n",
    "    \n",
    "def set_global_x(num):\n",
    "    global x\n",
    "    print(\"Antes de set_global_x:\", x)\n",
    "    x = num \n",
    "    print(\"Después de set_global_x:\", x)\n",
    "    \n",
    "print(\"Valor de x antes de las funciones:\", x)\n",
    "set_x(43)\n",
    "set_global_x(6)\n",
    "print(\"Valor de x después de las funciones:\", x)"
   ]
  },
  {
   "cell_type": "code",
   "execution_count": 95,
   "metadata": {},
   "outputs": [
    {
     "name": "stdout",
     "output_type": "stream",
     "text": [
      "Valor de x antes de las funciones: 5\n",
      "Dentro de set_x: 43\n",
      "Antes de set_global_x: 5\n",
      "Después de set_global_x: 6\n",
      "Valor de x después de las funciones: 6\n"
     ]
    }
   ],
   "source": [
    "# Alcance de Variables\n",
    "\n",
    "# Definimos una variable global 'x' con el valor 5.\n",
    "x = 5\n",
    "\n",
    "# Creamos una función 'set_x' que toma un argumento 'num'.\n",
    "def set_x(num):\n",
    "    # Dentro de la función, creamos una nueva variable local 'x' con el valor 'num'.\n",
    "    x = num\n",
    "    # Imprimimos el valor de 'x' dentro de la función 'set_x'.\n",
    "    print(\"Dentro de set_x:\", x)\n",
    "\n",
    "# Creamos una función 'set_global_x' que toma un argumento 'num'.\n",
    "def set_global_x(num):\n",
    "    # Utilizamos la palabra clave 'global' para indicar que estamos modificando la variable global 'x'.\n",
    "    global x\n",
    "    # Imprimimos el valor de la variable global 'x' antes de cambiarlo.\n",
    "    print(\"Antes de set_global_x:\", x)\n",
    "    # Asignamos el valor 'num' a la variable global 'x'.\n",
    "    x = num\n",
    "    # Imprimimos el nuevo valor de la variable global 'x'.\n",
    "    print(\"Después de set_global_x:\", x)\n",
    "\n",
    "# Imprimimos el valor de la variable global 'x' antes de llamar a las funciones.\n",
    "print(\"Valor de x antes de las funciones:\", x)\n",
    "\n",
    "# Llamamos a las funciones 'set_x' y 'set_global_x' con diferentes valores.\n",
    "set_x(43)  # Esto crea una variable local 'x' con el valor 43 y la imprime.\n",
    "set_global_x(6)  # Esto modifica la variable global 'x' y la imprime.\n",
    "\n",
    "# Imprimimos el valor de la variable global 'x' después de llamar a las funciones.\n",
    "print(\"Valor de x después de las funciones:\", x)"
   ]
  },
  {
   "cell_type": "markdown",
   "metadata": {},
   "source": [
    "- Este código define una función string_test que calcula y muestra el número de letras mayúsculas y minúsculas en una cadena. \n",
    "- En el ejemplo proporcionado, la función se llama con la cadena 'The quick Brown Fox', y muestra el resultado en la pantalla."
   ]
  },
  {
   "cell_type": "code",
   "execution_count": 97,
   "metadata": {},
   "outputs": [
    {
     "name": "stdout",
     "output_type": "stream",
     "text": [
      "Cadena Original:  The quick Brown Fox\n",
      "Número de letras mayúsculas:  3\n",
      "Número de letras minúsculas:  13\n"
     ]
    }
   ],
   "source": [
    "#PRACTICA\n",
    "#7 FUNCIONES - crear un programa que calcula el número de mayusculas y minusculas de una cadena\n",
    "# En este programa, creamos una función llamada string_test que calcula el número de letras mayúsculas y minúsculas en una cadena dada.\n",
    "\n",
    "def string_test(s):\n",
    "    # Creamos un diccionario llamado 'd' para almacenar el recuento de letras mayúsculas y minúsculas.\n",
    "    d = {\"UPPER_CASE\": 0, \"LOWER_CASE\": 0}\n",
    "    \n",
    "    # Iteramos a través de cada carácter en la cadena 's'.\n",
    "    for c in s:\n",
    "        if c.isupper():\n",
    "            # Si el carácter es una letra mayúscula, incrementamos el contador de letras mayúsculas en el diccionario.\n",
    "            d[\"UPPER_CASE\"] += 1\n",
    "        elif c.islower():\n",
    "            # Si el carácter es una letra minúscula, incrementamos el contador de letras minúsculas en el diccionario.\n",
    "            d[\"LOWER_CASE\"] += 1\n",
    "    \n",
    "    # Finalmente, imprimimos la cadena original y el recuento de letras mayúsculas y minúsculas.\n",
    "    print(\"Cadena Original: \", s)\n",
    "    print(\"Número de letras mayúsculas: \", d[\"UPPER_CASE\"])\n",
    "    print(\"Número de letras minúsculas: \", d[\"LOWER_CASE\"])\n",
    "\n",
    "# Llamamos a la función con una cadena de ejemplo.\n",
    "string_test('The quick Brown Fox')"
   ]
  },
  {
   "cell_type": "markdown",
   "metadata": {},
   "source": [
    "- Este código define una función llamada exec_code que utiliza la función exec para ejecutar una cadena de código.\n",
    "- En este caso, la cadena de código contiene una función llamada factorial que calcula el factorial de un número y luego llama a esa función con el valor 5 para calcular el factorial de 5.\n",
    "- El resultado se imprime en pantalla cuando ejecutamos la función exec_code(code)."
   ]
  },
  {
   "cell_type": "code",
   "execution_count": 99,
   "metadata": {},
   "outputs": [
    {
     "name": "stdout",
     "output_type": "stream",
     "text": [
      "120\n"
     ]
    }
   ],
   "source": [
    "#8 EXEC - ejecutar el siguiente codigo en una cadena usando funciones\n",
    "# Definimos la cadena de código que queremos ejecutar.\n",
    "code = \"\"\" \n",
    "def factorial(num): \n",
    "    fact = 1 \n",
    "    for i in range(1, num + 1): \n",
    "        fact = fact * i \n",
    "    return fact \n",
    "print(factorial(5)) \n",
    "\"\"\"\n",
    "\n",
    "# Definimos una función llamada 'exec_code' que toma una cadena 'code' como argumento.\n",
    "def exec_code(code):\n",
    "    # Utilizamos la función 'exec' para ejecutar la cadena de código proporcionada.\n",
    "    exec(code)\n",
    "\n",
    "# Llamamos a la función 'exec_code' y le pasamos la cadena 'code' como argumento.\n",
    "exec_code(code)"
   ]
  },
  {
   "cell_type": "code",
   "execution_count": 100,
   "metadata": {},
   "outputs": [
    {
     "name": "stdout",
     "output_type": "stream",
     "text": [
      "The Zen of Python, by Tim Peters\n",
      "\n",
      "Beautiful is better than ugly.\n",
      "Explicit is better than implicit.\n",
      "Simple is better than complex.\n",
      "Complex is better than complicated.\n",
      "Flat is better than nested.\n",
      "Sparse is better than dense.\n",
      "Readability counts.\n",
      "Special cases aren't special enough to break the rules.\n",
      "Although practicality beats purity.\n",
      "Errors should never pass silently.\n",
      "Unless explicitly silenced.\n",
      "In the face of ambiguity, refuse the temptation to guess.\n",
      "There should be one-- and preferably only one --obvious way to do it.\n",
      "Although that way may not be obvious at first unless you're Dutch.\n",
      "Now is better than never.\n",
      "Although never is often better than *right* now.\n",
      "If the implementation is hard to explain, it's a bad idea.\n",
      "If the implementation is easy to explain, it may be a good idea.\n",
      "Namespaces are one honking great idea -- let's do more of those!\n"
     ]
    }
   ],
   "source": [
    "# El comando import this en Python muestra el \"Zen de Python\".\n",
    "import this"
   ]
  },
  {
   "cell_type": "code",
   "execution_count": null,
   "metadata": {},
   "outputs": [],
   "source": []
  }
 ],
 "metadata": {
  "kernelspec": {
   "display_name": "Python 3 (ipykernel)",
   "language": "python",
   "name": "python3"
  },
  "language_info": {
   "codemirror_mode": {
    "name": "ipython",
    "version": 3
   },
   "file_extension": ".py",
   "mimetype": "text/x-python",
   "name": "python",
   "nbconvert_exporter": "python",
   "pygments_lexer": "ipython3",
   "version": "3.10.12"
  }
 },
 "nbformat": 4,
 "nbformat_minor": 4
}
