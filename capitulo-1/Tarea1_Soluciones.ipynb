{
 "cells": [
  {
   "cell_type": "markdown",
   "metadata": {},
   "source": [
    "# 1. Calcular el tamaño de la cadena \"Esta es una cadena\" sin usar la función len"
   ]
  },
  {
   "cell_type": "code",
   "execution_count": 20,
   "metadata": {},
   "outputs": [
    {
     "name": "stdout",
     "output_type": "stream",
     "text": [
      "La longitud de la cadena es: 18\n"
     ]
    }
   ],
   "source": [
    "# Definimos una función llamada calculate_string_length que calcula la longitud de una cadena.\n",
    "\n",
    "def calculate_string_length(input_string):\n",
    "    # Inicializamos una variable llamada 'length' en 0 para contar la longitud.\n",
    "    length = 0\n",
    "    \n",
    "    # Recorremos cada carácter en la cadena 'input_string'.\n",
    "    for character in input_string:\n",
    "        # En cada iteración, aumentamos 'length' en 1 para contar los caracteres.\n",
    "        length += 1\n",
    "    \n",
    "    # Devolvemos el valor final de 'length', que es la longitud de la cadena.\n",
    "    return length\n",
    "\n",
    "# Llamamos a la función calculate_string_length con una cadena de ejemplo y mostramos el resultado.\n",
    "sample_string = 'Esta es una cadena'\n",
    "string_length = calculate_string_length(sample_string)\n",
    "print(f'La longitud de la cadena es: {string_length}')"
   ]
  },
  {
   "cell_type": "markdown",
   "metadata": {},
   "source": [
    "- Esta función, string_length, toma una cadena como entrada y utiliza un bucle for para contar la cantidad de caracteres en la cadena.\n",
    "- Luego, devuelve ese valor como la longitud de la cadena."
   ]
  },
  {
   "cell_type": "markdown",
   "metadata": {},
   "source": [
    "# 2. Contar el numero de caracteres en la cadena trabajando.pe"
   ]
  },
  {
   "cell_type": "code",
   "execution_count": 21,
   "metadata": {},
   "outputs": [],
   "source": [
    "# Definimos una función llamada 'cont_car' que cuenta la cantidad de veces que aparece cada carácter en una cadena.\n",
    "\n",
    "def cont_car(chain):\n",
    "    # Inicializamos un diccionario vacío llamado 'dictionary' para almacenar los resultados.\n",
    "    dictionary = {}\n",
    "    \n",
    "    # Recorremos cada carácter en la cadena 'cad'.\n",
    "    for n in chain:\n",
    "        # Verificamos si el carácter 'n' ya es una clave en el diccionario 'dicc'.\n",
    "        keys = dictionary.keys()\n",
    "        if n in keys:\n",
    "            # Si es una clave existente, incrementamos su valor en 1.\n",
    "            dictionary[n] += 1\n",
    "        else:\n",
    "            # Si no es una clave existente, agregamos una nueva clave con valor 1.\n",
    "            dictionary[n] = 1\n",
    "    \n",
    "    # Devolvemos el diccionario 'dicc' que contiene la cuenta de cada carácter.\n",
    "    return dictionary"
   ]
  },
  {
   "cell_type": "code",
   "execution_count": 22,
   "metadata": {},
   "outputs": [
    {
     "data": {
      "text/plain": [
       "{'t': 1,\n",
       " 'r': 1,\n",
       " 'a': 3,\n",
       " 'b': 1,\n",
       " 'j': 1,\n",
       " 'n': 1,\n",
       " 'd': 1,\n",
       " 'o': 1,\n",
       " '.': 1,\n",
       " 'p': 1,\n",
       " 'e': 1}"
      ]
     },
     "execution_count": 22,
     "metadata": {},
     "output_type": "execute_result"
    }
   ],
   "source": [
    "cont_car('trabajando.pe')"
   ]
  },
  {
   "cell_type": "markdown",
   "metadata": {},
   "source": [
    "- Esta función es útil para contar la frecuencia de cada carácter en una cadena.\n",
    "- Por ejemplo, si llamamos a cont_car('abracadabra'), el diccionario resultante contendrá la cuenta de cada carácter en la cadena, como {'a': 5, 'b': 2, 'r': 2, 'c': 1, 'd': 1}."
   ]
  },
  {
   "cell_type": "markdown",
   "metadata": {},
   "source": [
    "# 3. Eliminar duplicados de la lista ['a', 'b', 'c', 'a', 'c', 'c']"
   ]
  },
  {
   "cell_type": "code",
   "execution_count": 23,
   "metadata": {},
   "outputs": [],
   "source": [
    "# Creamos una lista llamada 'lista' con elementos repetidos.\n",
    "_list = ['a', 'b', 'c', 'a', 'c', 'c']"
   ]
  },
  {
   "cell_type": "code",
   "execution_count": 24,
   "metadata": {},
   "outputs": [
    {
     "name": "stdout",
     "output_type": "stream",
     "text": [
      "['a', 'b', 'c']\n"
     ]
    }
   ],
   "source": [
    "# Creamos una lista vacía llamada 'nlist' para almacenar elementos únicos.\n",
    "new_list = []\n",
    "\n",
    "# Recorremos cada elemento en la lista 'lista'.\n",
    "for i in _list:\n",
    "    # Verificamos si el elemento 'i' no está en la lista 'nlist'.\n",
    "    if i not in new_list:\n",
    "        # Si no está en 'nlist', lo añadimos a 'nlist'.\n",
    "        new_list.append(i)\n",
    "\n",
    "# Al final, 'nlist' contendrá los elementos únicos de 'lista'.\n",
    "print(new_list)"
   ]
  },
  {
   "cell_type": "markdown",
   "metadata": {},
   "source": [
    "- Este código crea una nueva lista llamada new_list y recorre la lista original lista.\n",
    "- En cada iteración, verifica si el elemento actual (i) no está en new_list. Si no está en new_list, se agrega a new_list.\n",
    "- Esto garantiza que new_list contendrá solo elementos únicos de la lista original.\n",
    "- La salida será una lista con elementos únicos, como ['a', 'b', 'c']."
   ]
  },
  {
   "cell_type": "markdown",
   "metadata": {},
   "source": [
    "# 4. Imprimir el patron siguiente usando bucles"
   ]
  },
  {
   "cell_type": "code",
   "execution_count": 25,
   "metadata": {},
   "outputs": [
    {
     "name": "stdout",
     "output_type": "stream",
     "text": [
      "*\n",
      "**\n",
      "***\n",
      "****\n",
      "*****\n",
      "****\n",
      "***\n",
      "**\n",
      "*\n"
     ]
    }
   ],
   "source": [
    "# Creamos una lista llamada 'list_star' con valores numéricos.\n",
    "list_star = [1, 2, 3, 4, 5, 4, 3, 2, 1]\n",
    "\n",
    "# Recorremos cada valor 'i' en la lista 'list_star'.\n",
    "for i in list_star:\n",
    "    # Imprimimos una línea con '*' repetido 'i' veces.\n",
    "    print('*' * i)"
   ]
  },
  {
   "cell_type": "markdown",
   "metadata": {},
   "source": [
    "- Este código utiliza un bucle for para iterar a través de los valores en la lista list_star.\n",
    "- En cada iteración, imprime una línea de asteriscos donde el número de asteriscos en la línea es igual al valor i de la lista en esa iteración.\n",
    "- Esto crea un patrón de líneas con asteriscos de longitud variable. Por ejemplo, si list_star contiene [1, 2, 3], la salida sería:"
   ]
  },
  {
   "cell_type": "markdown",
   "metadata": {},
   "source": [
    "# 5. Escribir una función para determinar si un número es primo o no"
   ]
  },
  {
   "cell_type": "code",
   "execution_count": 26,
   "metadata": {},
   "outputs": [],
   "source": [
    "def is_prime(integer):\n",
    "    if integer == 1:\n",
    "        prime = True\n",
    "    elif integer == 2:\n",
    "        prime = True\n",
    "    else:\n",
    "        for num in range (2, integer):\n",
    "            if integer % num == 0:\n",
    "                prime = False\n",
    "                break\n",
    "            else:\n",
    "                prime = True\n",
    "    return prime"
   ]
  },
  {
   "cell_type": "markdown",
   "metadata": {},
   "source": [
    "- En este código, primero se manejan los casos especiales de integer igual a 1 o 2, considerándolos como números primos.\n",
    "- Luego, se inicializa la variable prime como True y se utiliza un bucle for para verificar si integer es divisible por algún número en el rango de 2 a integer.\n",
    "- Si encontramos un divisor, cambiamos prime a False.\n",
    "- Si no se encuintegerra ningún divisor, prime permanece como True.\n",
    "- Finalmintegere, se devuelve el valor de prime, que indicará si integer es primo o no."
   ]
  },
  {
   "cell_type": "code",
   "execution_count": 27,
   "metadata": {},
   "outputs": [
    {
     "data": {
      "text/plain": [
       "False"
      ]
     },
     "execution_count": 27,
     "metadata": {},
     "output_type": "execute_result"
    }
   ],
   "source": [
    "is_prime(15)"
   ]
  },
  {
   "cell_type": "code",
   "execution_count": 28,
   "metadata": {},
   "outputs": [],
   "source": [
    "# Definimos una función llamada 'is_prime' para verificar si un número 'integer' es primo.\n",
    "\n",
    "def is_prime(integer):\n",
    "    # Si 'integer' es igual a 1 o 2, consideramos que es primo.\n",
    "    if integer == 1 or integer == 2:\n",
    "        prime = True\n",
    "    else:\n",
    "        # Inicializamos la variable 'prime' como True.\n",
    "        prime = True\n",
    "        # Iteramos desde 2 hasta 'integer - 1' para verificar si 'integer' es divisible por algún número en ese rango.\n",
    "        for num in range(2, integer):\n",
    "            if integer % num == 0:\n",
    "                # Si encontramos un divisor, 'integer' no es primo y cambiamos 'prime' a False.\n",
    "                prime = False\n",
    "                break\n",
    "    return prime"
   ]
  },
  {
   "cell_type": "code",
   "execution_count": 29,
   "metadata": {},
   "outputs": [
    {
     "data": {
      "text/plain": [
       "False"
      ]
     },
     "execution_count": 29,
     "metadata": {},
     "output_type": "execute_result"
    }
   ],
   "source": [
    "is_prime(15)"
   ]
  }
 ],
 "metadata": {
  "kernelspec": {
   "display_name": "Python 3 (ipykernel)",
   "language": "python",
   "name": "python3"
  },
  "language_info": {
   "codemirror_mode": {
    "name": "ipython",
    "version": 3
   },
   "file_extension": ".py",
   "mimetype": "text/x-python",
   "name": "python",
   "nbconvert_exporter": "python",
   "pygments_lexer": "ipython3",
   "version": "3.10.12"
  }
 },
 "nbformat": 4,
 "nbformat_minor": 4
}
