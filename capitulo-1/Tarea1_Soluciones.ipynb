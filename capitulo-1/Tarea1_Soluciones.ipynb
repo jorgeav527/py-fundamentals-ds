{
 "cells": [
  {
   "cell_type": "markdown",
   "metadata": {},
   "source": [
    "# 1. Calcular el tamaño de la cadena \"Esta es una cadena\" sin usar la función len"
   ]
  },
  {
   "cell_type": "markdown",
   "metadata": {},
   "source": [
    "- Esta función, string_length, toma una cadena como entrada y utiliza un bucle for para contar la cantidad de caracteres en la cadena. Luego, devuelve ese valor como la longitud de la cadena. En el ejemplo proporcionado, la función se llama con la cadena 'Esta es una cadena' y muestra la longitud de la cadena en pantalla."
   ]
  },
  {
   "cell_type": "code",
   "execution_count": 1,
   "metadata": {},
   "outputs": [
    {
     "name": "stdout",
     "output_type": "stream",
     "text": [
      "18\n"
     ]
    }
   ],
   "source": [
    "# Definimos una función llamada string_length que calcula la longitud de una cadena.\n",
    "\n",
    "def string_length(str1):\n",
    "    # Inicializamos una variable llamada 'count' en 0.\n",
    "    count = 0\n",
    "    \n",
    "    # Recorremos cada carácter en la cadena 'str1'.\n",
    "    for char in str1:\n",
    "        # En cada iteración, aumentamos 'count' en 1.\n",
    "        count += 1\n",
    "    \n",
    "    # Devolvemos el valor final de 'count', que es la longitud de la cadena.\n",
    "    return count\n",
    "\n",
    "# Llamamos a la función string_length con una cadena de ejemplo y mostramos el resultado.\n",
    "print(string_length('Esta es una cadena'))"
   ]
  },
  {
   "cell_type": "markdown",
   "metadata": {},
   "source": [
    "# 2. Contar el numero de caracteres en la cadena trabajando.pe"
   ]
  },
  {
   "cell_type": "markdown",
   "metadata": {},
   "source": [
    "- Esta función es útil para contar la frecuencia de cada carácter en una cadena. Por ejemplo, si llamamos a cont_car('abracadabra'), el diccionario resultante contendrá la cuenta de cada carácter en la cadena, como {'a': 5, 'b': 2, 'r': 2, 'c': 1, 'd': 1}."
   ]
  },
  {
   "cell_type": "code",
   "execution_count": 4,
   "metadata": {},
   "outputs": [],
   "source": [
    "# Definimos una función llamada 'cont_car' que cuenta la cantidad de veces que aparece cada carácter en una cadena.\n",
    "\n",
    "def cont_car(cad):\n",
    "    # Inicializamos un diccionario vacío llamado 'dicc' para almacenar los resultados.\n",
    "    dicc = {}\n",
    "    \n",
    "    # Recorremos cada carácter en la cadena 'cad'.\n",
    "    for n in cad:\n",
    "        # Verificamos si el carácter 'n' ya es una clave en el diccionario 'dicc'.\n",
    "        keys = dicc.keys()\n",
    "        if n in keys:\n",
    "            # Si es una clave existente, incrementamos su valor en 1.\n",
    "            dicc[n] += 1\n",
    "        else:\n",
    "            # Si no es una clave existente, agregamos una nueva clave con valor 1.\n",
    "            dicc[n] = 1\n",
    "    \n",
    "    # Devolvemos el diccionario 'dicc' que contiene la cuenta de cada carácter.\n",
    "    return dicc"
   ]
  },
  {
   "cell_type": "code",
   "execution_count": 4,
   "metadata": {},
   "outputs": [
    {
     "data": {
      "text/plain": [
       "{'.': 1,\n",
       " 'a': 3,\n",
       " 'b': 1,\n",
       " 'd': 1,\n",
       " 'e': 1,\n",
       " 'j': 1,\n",
       " 'n': 1,\n",
       " 'o': 1,\n",
       " 'p': 1,\n",
       " 'r': 1,\n",
       " 't': 1}"
      ]
     },
     "execution_count": 4,
     "metadata": {},
     "output_type": "execute_result"
    }
   ],
   "source": [
    "cont_car('trabajando.pe')"
   ]
  },
  {
   "cell_type": "markdown",
   "metadata": {},
   "source": [
    "# 3. Eliminar duplicados de la lista ['a', 'b', 'c', 'a', 'c', 'c']"
   ]
  },
  {
   "cell_type": "markdown",
   "metadata": {},
   "source": [
    "- Este código crea una nueva lista llamada nlist y recorre la lista original lista. En cada iteración, verifica si el elemento actual (i) no está en nlist. Si no está en nlist, se agrega a nlist. Esto garantiza que nlist contendrá solo elementos únicos de la lista original. La salida será una lista con elementos únicos, como ['a', 'b', 'c']."
   ]
  },
  {
   "cell_type": "code",
   "execution_count": 5,
   "metadata": {},
   "outputs": [],
   "source": [
    "# Creamos una lista llamada 'lista' con elementos repetidos.\n",
    "lista = ['a', 'b', 'c', 'a', 'c', 'c']"
   ]
  },
  {
   "cell_type": "code",
   "execution_count": 6,
   "metadata": {},
   "outputs": [
    {
     "name": "stdout",
     "output_type": "stream",
     "text": [
      "['a', 'b', 'c']\n"
     ]
    }
   ],
   "source": [
    "# Creamos una lista vacía llamada 'nlist' para almacenar elementos únicos.\n",
    "nlist = []\n",
    "\n",
    "# Recorremos cada elemento en la lista 'lista'.\n",
    "for i in lista:\n",
    "    # Verificamos si el elemento 'i' no está en la lista 'nlist'.\n",
    "    if i not in nlist:\n",
    "        # Si no está en 'nlist', lo añadimos a 'nlist'.\n",
    "        nlist.append(i)\n",
    "\n",
    "# Al final, 'nlist' contendrá los elementos únicos de 'lista'.\n",
    "print(nlist)"
   ]
  },
  {
   "cell_type": "markdown",
   "metadata": {},
   "source": [
    "# 4. Imprimir el patron siguiente usando bucles"
   ]
  },
  {
   "cell_type": "markdown",
   "metadata": {},
   "source": [
    "- Este código utiliza un bucle for para iterar a través de los valores en la lista pstar. En cada iteración, imprime una línea de asteriscos donde el número de asteriscos en la línea es igual al valor i de la lista en esa iteración. Esto crea un patrón de líneas con asteriscos de longitud variable. Por ejemplo, si pstar contiene [1, 2, 3], la salida sería:"
   ]
  },
  {
   "cell_type": "code",
   "execution_count": 8,
   "metadata": {},
   "outputs": [
    {
     "name": "stdout",
     "output_type": "stream",
     "text": [
      "*\n",
      "**\n",
      "***\n",
      "****\n",
      "*****\n",
      "****\n",
      "***\n",
      "**\n",
      "*\n"
     ]
    }
   ],
   "source": [
    "# Creamos una lista llamada 'pstar' con valores numéricos.\n",
    "pstar = [1, 2, 3, 4, 5, 4, 3, 2, 1]\n",
    "\n",
    "# Recorremos cada valor 'i' en la lista 'pstar'.\n",
    "for i in pstar:\n",
    "    # Imprimimos una línea con '*' repetido 'i' veces.\n",
    "    print('*' * i)"
   ]
  },
  {
   "cell_type": "markdown",
   "metadata": {},
   "source": [
    "# 5. Escribir una función para determinar si un número es primo o no"
   ]
  },
  {
   "cell_type": "markdown",
   "metadata": {},
   "source": [
    "- En este código, primero se manejan los casos especiales de ent igual a 1 o 2, considerándolos como números primos. Luego, se inicializa la variable prime como True y se utiliza un bucle for para verificar si ent es divisible por algún número en el rango de 2 a ent - 1. Si encontramos un divisor, cambiamos prime a False. Si no se encuentra ningún divisor, prime permanece como True. Finalmente, se devuelve el valor de prime, que indicará si ent es primo o no."
   ]
  },
  {
   "cell_type": "code",
   "execution_count": 13,
   "metadata": {},
   "outputs": [],
   "source": [
    "def is_prime(ent):\n",
    "    if ent == 1:\n",
    "        prime = True\n",
    "    elif ent == 2:\n",
    "        prime = True\n",
    "    else:\n",
    "        for num in range (2, ent):\n",
    "            if ent % num == 0:\n",
    "                prime = False\n",
    "                break\n",
    "            else:\n",
    "                prime = True\n",
    "    return prime"
   ]
  },
  {
   "cell_type": "code",
   "execution_count": 14,
   "metadata": {},
   "outputs": [
    {
     "data": {
      "text/plain": [
       "False"
      ]
     },
     "execution_count": 14,
     "metadata": {},
     "output_type": "execute_result"
    }
   ],
   "source": [
    "is_prime(15)"
   ]
  },
  {
   "cell_type": "code",
   "execution_count": 11,
   "metadata": {},
   "outputs": [],
   "source": [
    "# Definimos una función llamada 'is_prime' para verificar si un número 'ent' es primo.\n",
    "\n",
    "def is_prime(ent):\n",
    "    # Si 'ent' es igual a 1 o 2, consideramos que es primo.\n",
    "    if ent == 1 or ent == 2:\n",
    "        prime = True\n",
    "    else:\n",
    "        # Inicializamos la variable 'prime' como True.\n",
    "        prime = True\n",
    "        # Iteramos desde 2 hasta 'ent - 1' para verificar si 'ent' es divisible por algún número en ese rango.\n",
    "        for num in range(2, ent):\n",
    "            if ent % num == 0:\n",
    "                # Si encontramos un divisor, 'ent' no es primo y cambiamos 'prime' a False.\n",
    "                prime = False\n",
    "                break\n",
    "    return prime"
   ]
  },
  {
   "cell_type": "code",
   "execution_count": 12,
   "metadata": {},
   "outputs": [
    {
     "data": {
      "text/plain": [
       "False"
      ]
     },
     "execution_count": 12,
     "metadata": {},
     "output_type": "execute_result"
    }
   ],
   "source": [
    "is_prime(15)"
   ]
  },
  {
   "cell_type": "code",
   "execution_count": null,
   "metadata": {},
   "outputs": [],
   "source": []
  }
 ],
 "metadata": {
  "kernelspec": {
   "display_name": "Python 3 (ipykernel)",
   "language": "python",
   "name": "python3"
  },
  "language_info": {
   "codemirror_mode": {
    "name": "ipython",
    "version": 3
   },
   "file_extension": ".py",
   "mimetype": "text/x-python",
   "name": "python",
   "nbconvert_exporter": "python",
   "pygments_lexer": "ipython3",
   "version": "3.10.12"
  }
 },
 "nbformat": 4,
 "nbformat_minor": 4
}
