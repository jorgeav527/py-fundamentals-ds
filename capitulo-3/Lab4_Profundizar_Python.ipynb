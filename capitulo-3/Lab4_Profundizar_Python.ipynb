{
 "cells": [
  {
   "cell_type": "markdown",
   "metadata": {},
   "source": [
    "# MongoDB"
   ]
  },
  {
   "cell_type": "code",
   "execution_count": 2,
   "metadata": {},
   "outputs": [
    {
     "name": "stdout",
     "output_type": "stream",
     "text": [
      "Collecting pymongo\n",
      "  Obtaining dependency information for pymongo from https://files.pythonhosted.org/packages/4e/50/7e0e838892507d99a6b981824c73617cba567a56a802a518d49e12da77b6/pymongo-4.5.0-cp310-cp310-manylinux_2_17_x86_64.manylinux2014_x86_64.whl.metadata\n",
      "  Downloading pymongo-4.5.0-cp310-cp310-manylinux_2_17_x86_64.manylinux2014_x86_64.whl.metadata (22 kB)\n",
      "Collecting dnspython<3.0.0,>=1.16.0 (from pymongo)\n",
      "  Obtaining dependency information for dnspython<3.0.0,>=1.16.0 from https://files.pythonhosted.org/packages/f6/b4/0a9bee52c50f226a3cbfb54263d02bb421c7f2adc136520729c2c689c1e5/dnspython-2.4.2-py3-none-any.whl.metadata\n",
      "  Using cached dnspython-2.4.2-py3-none-any.whl.metadata (4.9 kB)\n",
      "Using cached pymongo-4.5.0-cp310-cp310-manylinux_2_17_x86_64.manylinux2014_x86_64.whl (671 kB)\n",
      "Using cached dnspython-2.4.2-py3-none-any.whl (300 kB)\n",
      "Installing collected packages: dnspython, pymongo\n",
      "Successfully installed dnspython-2.4.2 pymongo-4.5.0\n",
      "\n",
      "\u001b[1m[\u001b[0m\u001b[34;49mnotice\u001b[0m\u001b[1;39;49m]\u001b[0m\u001b[39;49m A new release of pip is available: \u001b[0m\u001b[31;49m23.2.1\u001b[0m\u001b[39;49m -> \u001b[0m\u001b[32;49m23.3.1\u001b[0m\n",
      "\u001b[1m[\u001b[0m\u001b[34;49mnotice\u001b[0m\u001b[1;39;49m]\u001b[0m\u001b[39;49m To update, run: \u001b[0m\u001b[32;49mpip install --upgrade pip\u001b[0m\n"
     ]
    }
   ],
   "source": [
    "!pip install pymongo"
   ]
  },
  {
   "cell_type": "code",
   "execution_count": 1,
   "metadata": {},
   "outputs": [
    {
     "name": "stdout",
     "output_type": "stream",
     "text": [
      "MongoClient(host=['localhost:27017'], document_class=dict, tz_aware=False, connect=True)\n",
      "Database(MongoClient(host=['localhost:27017'], document_class=dict, tz_aware=False, connect=True), 'mydatabase')\n"
     ]
    }
   ],
   "source": [
    "import pymongo\n",
    "\n",
    "# Conecta a MongoDB (asegúrate de que MongoDB esté en ejecución)\n",
    "client = pymongo.MongoClient(\"mongodb://localhost:27017/\")\n",
    "print(client)\n",
    "\n",
    "# Crea una base de datos llamada \"mydatabase\"\n",
    "db = client[\"mydatabase\"]\n",
    "print(db)"
   ]
  },
  {
   "cell_type": "code",
   "execution_count": 2,
   "metadata": {},
   "outputs": [
    {
     "name": "stdout",
     "output_type": "stream",
     "text": [
      "Collection(Database(MongoClient(host=['localhost:27017'], document_class=dict, tz_aware=False, connect=True), 'mydatabase'), 'mycollection')\n"
     ]
    }
   ],
   "source": [
    "# Crea una colección llamada \"mycollection\"\n",
    "collection = db[\"mycollection\"]\n",
    "print(collection)"
   ]
  },
  {
   "cell_type": "markdown",
   "metadata": {},
   "source": [
    "### Crear (Create)"
   ]
  },
  {
   "cell_type": "code",
   "execution_count": 5,
   "metadata": {},
   "outputs": [
    {
     "name": "stdout",
     "output_type": "stream",
     "text": [
      "Documento insertado con ID: 653fb5257b6f6aa49aae6a29\n"
     ]
    }
   ],
   "source": [
    "# Insertar un documento en la colección\n",
    "# insert_one()\n",
    "data = {\"name\": \"Jorge\", \"age\": 30}\n",
    "result = collection.insert_one(data)\n",
    "print(f\"Documento insertado con ID: {result.inserted_id}\")"
   ]
  },
  {
   "cell_type": "markdown",
   "metadata": {},
   "source": [
    "### Leer (Read)"
   ]
  },
  {
   "cell_type": "code",
   "execution_count": 18,
   "metadata": {},
   "outputs": [
    {
     "name": "stdout",
     "output_type": "stream",
     "text": [
      "{'_id': ObjectId('653fb5257b6f6aa49aae6a29'), 'name': 'Jorge', 'age': 30}\n"
     ]
    }
   ],
   "source": [
    "# Leer todos los documentos en la colección\n",
    "documents = collection.find()\n",
    "for docs in documents:\n",
    "    print(docs)"
   ]
  },
  {
   "cell_type": "code",
   "execution_count": 16,
   "metadata": {},
   "outputs": [
    {
     "name": "stdout",
     "output_type": "stream",
     "text": [
      "{'_id': ObjectId('653fb42a7b6f6aa49aae6a28'), 'name': 'Ejemplo', 'age': 35}\n"
     ]
    }
   ],
   "source": [
    "from bson.objectid import ObjectId  # Importar ObjectId para trabajar con _id\n",
    "\n",
    "# Definir el ID del documento que deseas encontrar\n",
    "document_id = ObjectId(\"653fb42a7b6f6aa49aae6a28\")\n",
    "\n",
    "# Utilizar find_one para buscar el documento por su ID\n",
    "doc = collection.find_one({\"_id\": document_id})\n",
    "print(doc)"
   ]
  },
  {
   "cell_type": "markdown",
   "metadata": {},
   "source": [
    "### Actualizar (Update)"
   ]
  },
  {
   "cell_type": "code",
   "execution_count": 14,
   "metadata": {},
   "outputs": [
    {
     "data": {
      "text/plain": [
       "<pymongo.results.UpdateResult at 0x7f16c2f76ad0>"
      ]
     },
     "execution_count": 14,
     "metadata": {},
     "output_type": "execute_result"
    }
   ],
   "source": [
    "# Actualizar un documento existente\n",
    "query = {\"name\": \"Ejemplo\"}\n",
    "new_values = {\"$set\": {\"age\": 35}}\n",
    "collection.update_one(query, new_values)"
   ]
  },
  {
   "cell_type": "markdown",
   "metadata": {},
   "source": [
    "### Eliminar (Delete)"
   ]
  },
  {
   "cell_type": "code",
   "execution_count": 17,
   "metadata": {},
   "outputs": [
    {
     "data": {
      "text/plain": [
       "<pymongo.results.DeleteResult at 0x7f16c2c63d00>"
      ]
     },
     "execution_count": 17,
     "metadata": {},
     "output_type": "execute_result"
    }
   ],
   "source": [
    "# Eliminar un documento\n",
    "query = {\"name\": \"Ejemplo\"}\n",
    "collection.delete_one(query)"
   ]
  },
  {
   "cell_type": "markdown",
   "metadata": {},
   "source": [
    "### Crear varios documentos (Create - Many)"
   ]
  },
  {
   "cell_type": "code",
   "execution_count": 19,
   "metadata": {},
   "outputs": [
    {
     "name": "stdout",
     "output_type": "stream",
     "text": [
      "Documentos insertados con IDs: [ObjectId('653fb8637b6f6aa49aae6a2a'), ObjectId('653fb8637b6f6aa49aae6a2b'), ObjectId('653fb8637b6f6aa49aae6a2c')]\n"
     ]
    }
   ],
   "source": [
    "# Datos a insertar\n",
    "data_list = [\n",
    "    {\"name\": \"Persona1\", \"age\": 25},\n",
    "    {\"name\": \"Persona2\", \"age\": 30},\n",
    "    {\"name\": \"Persona3\", \"age\": 35}\n",
    "]\n",
    "\n",
    "# Insertar varios documentos en la colección\n",
    "result = collection.insert_many(data_list)\n",
    "print(f\"Documentos insertados con IDs: {result.inserted_ids}\")"
   ]
  },
  {
   "cell_type": "markdown",
   "metadata": {},
   "source": [
    "### Leer varios documentos (Read - Many)"
   ]
  },
  {
   "cell_type": "code",
   "execution_count": 25,
   "metadata": {},
   "outputs": [
    {
     "name": "stdout",
     "output_type": "stream",
     "text": [
      "{'_id': ObjectId('653fb5257b6f6aa49aae6a29'), 'name': 'Jorge', 'age': 30}\n",
      "{'_id': ObjectId('653fb8637b6f6aa49aae6a2a'), 'name': 'Persona1', 'age': 25}\n",
      "{'_id': ObjectId('653fb8637b6f6aa49aae6a2b'), 'name': 'Persona2', 'age': 30}\n",
      "{'_id': ObjectId('653fb8637b6f6aa49aae6a2c'), 'name': 'Persona3', 'age': 35, 'status': 'Mayor'}\n"
     ]
    }
   ],
   "source": [
    "# Leer documentos que cumplen un cierto criterio (por ejemplo, mayores de 30 años)\n",
    "query = {\"age\": {\"$gt\": 20}}\n",
    "documents = collection.find(query)\n",
    "\n",
    "for doc in documents:\n",
    "    print(doc)"
   ]
  },
  {
   "cell_type": "markdown",
   "metadata": {},
   "source": [
    "### Actualizar varios documentos (Update - Many)"
   ]
  },
  {
   "cell_type": "code",
   "execution_count": 26,
   "metadata": {},
   "outputs": [
    {
     "name": "stdout",
     "output_type": "stream",
     "text": [
      "0 documentos actualizados\n"
     ]
    }
   ],
   "source": [
    "# Actualizar varios documentos que cumplen un cierto criterio\n",
    "query = {\"age\": {\"$gt\": 30}}\n",
    "new_values = {\"$set\": {\"status\": \"Mayor\"}}\n",
    "result = collection.update_many(query, new_values)\n",
    "print(f\"{result.modified_count} documentos actualizados\")"
   ]
  },
  {
   "cell_type": "markdown",
   "metadata": {},
   "source": [
    "### Eliminar varios documentos (Delete - Many)"
   ]
  },
  {
   "cell_type": "code",
   "execution_count": 28,
   "metadata": {},
   "outputs": [
    {
     "name": "stdout",
     "output_type": "stream",
     "text": [
      "0 documentos eliminados\n"
     ]
    }
   ],
   "source": [
    "# Eliminar varios documentos que cumplen un cierto criterio\n",
    "query = {\"status\": \"Mayor\"}\n",
    "result = collection.delete_many(query)\n",
    "print(f\"{result.deleted_count} documentos eliminados\")"
   ]
  },
  {
   "cell_type": "markdown",
   "metadata": {},
   "source": [
    "### REGEX EXPRESIONES LIKE"
   ]
  },
  {
   "cell_type": "code",
   "execution_count": 31,
   "metadata": {},
   "outputs": [
    {
     "name": "stdout",
     "output_type": "stream",
     "text": [
      "{'_id': ObjectId('653fb8637b6f6aa49aae6a2a'), 'name': 'Persona1', 'age': 25}\n",
      "{'_id': ObjectId('653fb8637b6f6aa49aae6a2b'), 'name': 'Persona2', 'age': 30}\n"
     ]
    }
   ],
   "source": [
    "# Expresión regular para buscar nombres que comiencen con \"P\" y terminen en un número\n",
    "result = collection.find({\"name\": {\"$regex\": r'^P.*\\d$'}})\n",
    "\n",
    "# Recorre los resultados\n",
    "for doc in result:\n",
    "    print(doc)"
   ]
  },
  {
   "cell_type": "markdown",
   "metadata": {},
   "source": [
    "## Mongo Engine"
   ]
  },
  {
   "cell_type": "code",
   "execution_count": 33,
   "metadata": {},
   "outputs": [
    {
     "name": "stdout",
     "output_type": "stream",
     "text": [
      "Collecting mongoengine\n",
      "  Downloading mongoengine-0.27.0-py3-none-any.whl (110 kB)\n",
      "\u001b[2K     \u001b[38;2;114;156;31m━━━━━━━━━━━━━━━━━━━━━━━━━━━━━━━━━━━━━\u001b[0m \u001b[32m110.6/110.6 kB\u001b[0m \u001b[31m229.8 kB/s\u001b[0m eta \u001b[36m0:00:00\u001b[0m kB/s\u001b[0m eta \u001b[36m0:00:01\u001b[0m:01\u001b[0m\n",
      "\u001b[?25hRequirement already satisfied: pymongo<5.0,>=3.4 in /home/jorgeav527/Dev-Space/cibertec/py-fundamentals-ds/.venv/lib/python3.10/site-packages (from mongoengine) (4.5.0)\n",
      "Requirement already satisfied: dnspython<3.0.0,>=1.16.0 in /home/jorgeav527/Dev-Space/cibertec/py-fundamentals-ds/.venv/lib/python3.10/site-packages (from pymongo<5.0,>=3.4->mongoengine) (2.4.2)\n",
      "Installing collected packages: mongoengine\n",
      "Successfully installed mongoengine-0.27.0\n",
      "\n",
      "\u001b[1m[\u001b[0m\u001b[34;49mnotice\u001b[0m\u001b[1;39;49m]\u001b[0m\u001b[39;49m A new release of pip is available: \u001b[0m\u001b[31;49m23.2.1\u001b[0m\u001b[39;49m -> \u001b[0m\u001b[32;49m23.3.1\u001b[0m\n",
      "\u001b[1m[\u001b[0m\u001b[34;49mnotice\u001b[0m\u001b[1;39;49m]\u001b[0m\u001b[39;49m To update, run: \u001b[0m\u001b[32;49mpip install --upgrade pip\u001b[0m\n"
     ]
    }
   ],
   "source": [
    "!pip install mongoengine"
   ]
  },
  {
   "cell_type": "code",
   "execution_count": 35,
   "metadata": {},
   "outputs": [],
   "source": [
    "# Paso 1: Importamos las bibliotecas necesarias\n",
    "from mongoengine import Document, StringField, IntField, ReferenceField, connect\n",
    "\n",
    "# Paso 2: Nos conectamos a la base de datos MongoDB\n",
    "connect('mydatabase', host='mongodb://localhost:27017')\n",
    "\n",
    "# Paso 3: Definimos los modelos de documentos\n",
    "\n",
    "# Creamos un modelo para Usuarios (User)\n",
    "class User(Document):\n",
    "    username = StringField(required=True, max_length=100)\n",
    "\n",
    "# Creamos un modelo para Publicaciones (Post)\n",
    "class Post(Document):\n",
    "    title = StringField(required=True, max_length=100)\n",
    "    content = StringField(required=True)\n",
    "    author = ReferenceField(User)\n",
    "\n",
    "# Creamos un modelo para Comentarios (Comment)\n",
    "class Comment(Document):\n",
    "    text = StringField(required=True)\n",
    "    author = ReferenceField(User)\n",
    "    post = ReferenceField(Post)"
   ]
  },
  {
   "cell_type": "code",
   "execution_count": 36,
   "metadata": {},
   "outputs": [],
   "source": [
    "# Paso 4: Creamos instancias de los modelos\n",
    "\n",
    "# Creamos usuarios\n",
    "user1 = User(username=\"user1\").save()\n",
    "user2 = User(username=\"user2\").save()\n",
    "\n",
    "# Creamos publicaciones\n",
    "post1 = Post(title=\"Post 1\", content=\"Contenido del Post 1\", author=user1).save()\n",
    "post2 = Post(title=\"Post 2\", content=\"Contenido del Post 2\", author=user2).save()\n",
    "\n",
    "# Creamos comentarios\n",
    "comment1 = Comment(text=\"Comentario en Post 1\", author=user1, post=post1).save()\n",
    "comment2 = Comment(text=\"Comentario en Post 2\", author=user2, post=post2).save()\n",
    "comment3 = Comment(text=\"Comentario en Post 2\", author=user2, post=post2).save()\n",
    "comment3 = Comment(text=\"Comentario en Post 2\", author=user2, post=post2).save()"
   ]
  },
  {
   "cell_type": "code",
   "execution_count": 37,
   "metadata": {},
   "outputs": [],
   "source": [
    "# Paso 5: Actualizamos y eliminamos documentos\n",
    "\n",
    "# Actualizamos un usuario\n",
    "user_to_update = User.objects(username=\"user1\").first()\n",
    "user_to_update.username = \"new_user1\"\n",
    "user_to_update.save()\n",
    "\n",
    "# Eliminamos un comentario\n",
    "comment_to_delete = Comment.objects(text=\"Comentario en Post 2\").first()\n",
    "comment_to_delete.delete()"
   ]
  },
  {
   "cell_type": "code",
   "execution_count": 39,
   "metadata": {},
   "outputs": [
    {
     "name": "stdout",
     "output_type": "stream",
     "text": [
      "Usuario actualizado: user2\n",
      "Publicaciones:\n",
      "- Post 2: Contenido del Post 2\n",
      "Comentarios:\n",
      "- Comentario en Post 2 en el post 'Post 2'\n",
      "- Comentario en Post 2 en el post 'Post 2'\n"
     ]
    }
   ],
   "source": [
    "# Paso 6: Realizamos consultas\n",
    "\n",
    "# Consultamos el usuario actualizado\n",
    "updated_user = User.objects(username=\"user2\").first()\n",
    "# Consultamos las publicaciones del usuario\n",
    "posts = Post.objects(author=updated_user)\n",
    "# Consultamos los comentarios del usuario\n",
    "comments = Comment.objects(author=updated_user)\n",
    "\n",
    "# Paso 7: Mostramos resultados\n",
    "\n",
    "print(f\"Usuario actualizado: {updated_user.username}\")\n",
    "print(\"Publicaciones:\")\n",
    "for post in posts:\n",
    "    print(f\"- {post.title}: {post.content}\")\n",
    "\n",
    "print(\"Comentarios:\")\n",
    "for comment in comments:\n",
    "    print(f\"- {comment.text} en el post '{comment.post.title}'\")"
   ]
  },
  {
   "cell_type": "markdown",
   "metadata": {},
   "source": [
    "### Mongo Shell"
   ]
  },
  {
   "cell_type": "markdown",
   "metadata": {},
   "source": [
    "- `docker exec -it mongo bash`\n",
    "- `mongosh`\n",
    "- `show dbs`\n",
    "- `use mydatabase`\n",
    "- `show collections`\n",
    "- `db.mycollection.find({})`"
   ]
  },
  {
   "cell_type": "markdown",
   "metadata": {},
   "source": [
    "## Restaurantes ejemplo"
   ]
  },
  {
   "cell_type": "code",
   "execution_count": 42,
   "metadata": {},
   "outputs": [],
   "source": [
    "import json\n",
    "import pymongo\n",
    "\n",
    "# Establece la conexión con el servidor de MongoDB (asegúrate de tener un servidor MongoDB en ejecución)\n",
    "client = pymongo.MongoClient(\"mongodb://localhost:27017/\")\n",
    "\n",
    "# Selecciona la base de datos (o créala si no existe)\n",
    "db = client[\"mydatabase\"]\n",
    "\n",
    "# Selecciona la colección en la que deseas insertar los datos\n",
    "collection = db[\"restaurants\"]\n",
    "\n",
    "# Abre el archivo JSON y procesa cada línea como un objeto JSON\n",
    "with open(\"restaurants.json\", \"r\") as file:\n",
    "    for line in file:\n",
    "        try:\n",
    "            data = json.loads(line)\n",
    "            collection.insert_one(data)\n",
    "        except json.JSONDecodeError as e:\n",
    "            print(f\"Error al cargar una línea: {e}\")"
   ]
  },
  {
   "cell_type": "code",
   "execution_count": 58,
   "metadata": {},
   "outputs": [
    {
     "name": "stdout",
     "output_type": "stream",
     "text": [
      "Total de documentos en la colección: 3772\n"
     ]
    }
   ],
   "source": [
    "count = collection.count_documents({})\n",
    "print(f\"Total de documentos en la colección: {count}\")"
   ]
  },
  {
   "cell_type": "code",
   "execution_count": 59,
   "metadata": {},
   "outputs": [
    {
     "name": "stdout",
     "output_type": "stream",
     "text": [
      "{'_id': ObjectId('653ff44b7b6f6aa49aae6a39'), 'address': {'building': '469', 'coord': [-73.961704, 40.662942], 'street': 'Flatbush Avenue', 'zipcode': '11225'}, 'borough': 'Brooklyn', 'cuisine': 'Hamburgers', 'grades': [{'date': {'$date': 1419897600000}, 'grade': 'A', 'score': 8}, {'date': {'$date': 1404172800000}, 'grade': 'B', 'score': 23}, {'date': {'$date': 1367280000000}, 'grade': 'A', 'score': 12}, {'date': {'$date': 1336435200000}, 'grade': 'A', 'score': 12}], 'name': \"Wendy'S\", 'restaurant_id': '30112340'}\n",
      "{'_id': ObjectId('653ff44b7b6f6aa49aae6a52'), 'address': {'building': '531', 'coord': [-73.9634876, 40.6940001], 'street': 'Myrtle Avenue', 'zipcode': '11205'}, 'borough': 'Brooklyn', 'cuisine': 'Hamburgers', 'grades': [{'date': {'$date': 1395100800000}, 'grade': 'A', 'score': 8}, {'date': {'$date': 1363564800000}, 'grade': 'A', 'score': 8}, {'date': {'$date': 1349827200000}, 'grade': 'A', 'score': 7}, {'date': {'$date': 1316649600000}, 'grade': 'A', 'score': 2}], 'name': 'White Castle', 'restaurant_id': '40362344'}\n",
      "{'_id': ObjectId('653ff44c7b6f6aa49aae6b07'), 'address': {'building': '943', 'coord': [-73.95802549999999, 40.6487475], 'street': 'Flatbush Avenue', 'zipcode': '11226'}, 'borough': 'Brooklyn', 'cuisine': 'Hamburgers', 'grades': [{'date': {'$date': 1416182400000}, 'grade': 'A', 'score': 11}, {'date': {'$date': 1384732800000}, 'grade': 'A', 'score': 12}, {'date': {'$date': 1367366400000}, 'grade': 'A', 'score': 7}, {'date': {'$date': 1333584000000}, 'grade': 'A', 'score': 10}, {'date': {'$date': 1322611200000}, 'grade': 'A', 'score': 7}], 'name': \"Mcdonald'S\", 'restaurant_id': '40367790'}\n",
      "{'_id': ObjectId('653ff44c7b6f6aa49aae6b42'), 'address': {'building': '395', 'coord': [-73.9808063, 40.6895078], 'street': 'Flatbush Avenue Extension', 'zipcode': '11201'}, 'borough': 'Brooklyn', 'cuisine': 'Hamburgers', 'grades': [{'date': {'$date': 1396828800000}, 'grade': 'A', 'score': 10}, {'date': {'$date': 1365033600000}, 'grade': 'A', 'score': 7}, {'date': {'$date': 1333670400000}, 'grade': 'A', 'score': 5}, {'date': {'$date': 1302652800000}, 'grade': 'A', 'score': 10}], 'name': \"Mcdonald'S\", 'restaurant_id': '40369535'}\n",
      "{'_id': ObjectId('653ff44c7b6f6aa49aae6b49'), 'address': {'building': '846', 'coord': [-73.9321666, 40.6632351], 'street': 'Empire Boulevard', 'zipcode': '11213'}, 'borough': 'Brooklyn', 'cuisine': 'Hamburgers', 'grades': [{'date': {'$date': 1394064000000}, 'grade': 'A', 'score': 10}, {'date': {'$date': 1362096000000}, 'grade': 'A', 'score': 12}, {'date': {'$date': 1330732800000}, 'grade': 'A', 'score': 6}, {'date': {'$date': 1300320000000}, 'grade': 'A', 'score': 7}], 'name': 'White Castle', 'restaurant_id': '40369667'}\n",
      "{'_id': ObjectId('653ff44c7b6f6aa49aae6b4c'), 'address': {'building': '4202', 'coord': [-73.993031, 40.6417669], 'street': 'Ft Hamilton Parkway', 'zipcode': '11219'}, 'borough': 'Brooklyn', 'cuisine': 'Hamburgers', 'grades': [{'date': {'$date': 1418083200000}, 'grade': 'A', 'score': 8}, {'date': {'$date': 1388448000000}, 'grade': 'A', 'score': 3}, {'date': {'$date': 1356912000000}, 'grade': 'A', 'score': 7}, {'date': {'$date': 1325203200000}, 'grade': 'A', 'score': 10}], 'name': 'White Castle', 'restaurant_id': '40369676'}\n",
      "{'_id': ObjectId('653ff44c7b6f6aa49aae6b52'), 'address': {'building': '701', 'coord': [-73.9308722, 40.656262], 'street': 'Utica Avenue', 'zipcode': '11203'}, 'borough': 'Brooklyn', 'cuisine': 'Hamburgers', 'grades': [{'date': {'$date': 1402272000000}, 'grade': 'A', 'score': 13}, {'date': {'$date': 1372636800000}, 'grade': 'A', 'score': 10}, {'date': {'$date': 1360108800000}, 'grade': 'A', 'score': 8}, {'date': {'$date': 1345075200000}, 'grade': 'A', 'score': 11}, {'date': {'$date': 1330473600000}, 'grade': 'A', 'score': 4}, {'date': {'$date': 1317859200000}, 'grade': 'A', 'score': 12}], 'name': \"Mcdonald'S\", 'restaurant_id': '40369782'}\n",
      "{'_id': ObjectId('653ff44c7b6f6aa49aae6b77'), 'address': {'building': '9006', 'coord': [-73.9195106, 40.6527642], 'street': 'Church Avenue', 'zipcode': '11236'}, 'borough': 'Brooklyn', 'cuisine': 'Hamburgers', 'grades': [{'date': {'$date': 1417478400000}, 'grade': 'A', 'score': 10}, {'date': {'$date': 1403654400000}, 'grade': 'A', 'score': 5}, {'date': {'$date': 1368489600000}, 'grade': 'A', 'score': 9}, {'date': {'$date': 1354233600000}, 'grade': 'A', 'score': 13}], 'name': 'Burger King', 'restaurant_id': '40370917'}\n",
      "{'_id': ObjectId('653ff44c7b6f6aa49aae6bb0'), 'address': {'building': '5804', 'coord': [-73.9216671, 40.6447189], 'street': 'Clarendon Road', 'zipcode': '11203'}, 'borough': 'Brooklyn', 'cuisine': 'Hamburgers', 'grades': [{'date': {'$date': 1421193600000}, 'grade': 'A', 'score': 7}, {'date': {'$date': 1407801600000}, 'grade': 'B', 'score': 17}, {'date': {'$date': 1376265600000}, 'grade': 'A', 'score': 10}, {'date': {'$date': 1364428800000}, 'grade': 'A', 'score': 7}, {'date': {'$date': 1331596800000}, 'grade': 'A', 'score': 10}], 'name': \"Mcdonald'S\", 'restaurant_id': '40373909'}\n",
      "{'_id': ObjectId('653ff44c7b6f6aa49aae6bc3'), 'address': {'building': '82', 'coord': [-73.9917897, 40.6913932], 'street': 'Court Street', 'zipcode': '11201'}, 'borough': 'Brooklyn', 'cuisine': 'Hamburgers', 'grades': [{'date': {'$date': 1420156800000}, 'grade': 'A', 'score': 10}, {'date': {'$date': 1407974400000}, 'grade': 'A', 'score': 12}, {'date': {'$date': 1393891200000}, 'grade': 'A', 'score': 12}, {'date': {'$date': 1380499200000}, 'grade': 'A', 'score': 12}, {'date': {'$date': 1367366400000}, 'grade': 'A', 'score': 4}, {'date': {'$date': 1353974400000}, 'grade': 'A', 'score': 2}], 'name': \"Mcdonald'S\", 'restaurant_id': '40374507'}\n",
      "{'_id': ObjectId('653ff44d7b6f6aa49aae6c48'), 'address': {'building': '968', 'coord': [-74.0054378, 40.653762], 'street': '4 Avenue', 'zipcode': '11232'}, 'borough': 'Brooklyn', 'cuisine': 'Hamburgers', 'grades': [{'date': {'$date': 1392681600000}, 'grade': 'A', 'score': 2}, {'date': {'$date': 1359590400000}, 'grade': 'A', 'score': 3}, {'date': {'$date': 1345507200000}, 'grade': 'A', 'score': 10}, {'date': {'$date': 1312416000000}, 'grade': 'A', 'score': 5}, {'date': {'$date': 1301356800000}, 'grade': 'A', 'score': 4}], 'name': \"Mcdonald'S\", 'restaurant_id': '40382421'}\n",
      "{'_id': ObjectId('653ff44d7b6f6aa49aae6c6b'), 'address': {'building': '819', 'coord': [-73.88966429999999, 40.6578505], 'street': 'Pennsylvania Avenue', 'zipcode': '11207'}, 'borough': 'Brooklyn', 'cuisine': 'Hamburgers', 'grades': [{'date': {'$date': 1398297600000}, 'grade': 'A', 'score': 3}, {'date': {'$date': 1381363200000}, 'grade': 'A', 'score': 4}, {'date': {'$date': 1367971200000}, 'grade': 'A', 'score': 2}, {'date': {'$date': 1353628800000}, 'grade': 'A', 'score': 7}, {'date': {'$date': 1330905600000}, 'grade': 'B', 'score': 19}, {'date': {'$date': 1316649600000}, 'grade': 'A', 'score': 12}, {'date': {'$date': 1313452800000}, 'grade': 'P', 'score': 3}], 'name': \"Mcdonald'S\", 'restaurant_id': '40384036'}\n",
      "{'_id': ObjectId('653ff44d7b6f6aa49aae6c7a'), 'address': {'building': '900', 'coord': [-73.88898209999999, 40.65584459999999], 'street': 'Pennsylvania Avenue', 'zipcode': '11207'}, 'borough': 'Brooklyn', 'cuisine': 'Hamburgers', 'grades': [{'date': {'$date': 1402272000000}, 'grade': 'A', 'score': 10}, {'date': {'$date': 1371772800000}, 'grade': 'A', 'score': 13}, {'date': {'$date': 1359417600000}, 'grade': 'A', 'score': 9}, {'date': {'$date': 1326326400000}, 'grade': 'A', 'score': 10}], 'name': 'White Castle', 'restaurant_id': '40384575'}\n",
      "{'_id': ObjectId('653ff44d7b6f6aa49aae6cba'), 'address': {'building': '3101', 'coord': [-73.8812773, 40.679218], 'street': 'Atlantic Avenue', 'zipcode': '11208'}, 'borough': 'Brooklyn', 'cuisine': 'Hamburgers', 'grades': [{'date': {'$date': 1415923200000}, 'grade': 'A', 'score': 2}, {'date': {'$date': 1382313600000}, 'grade': 'A', 'score': 3}, {'date': {'$date': 1352851200000}, 'grade': 'A', 'score': 0}], 'name': 'White Castle', 'restaurant_id': '40386837'}\n",
      "{'_id': ObjectId('653ff44d7b6f6aa49aae6cf8'), 'address': {'building': '781', 'coord': [-73.9431862, 40.7146566], 'street': 'Metropolitan Avenue', 'zipcode': '11211'}, 'borough': 'Brooklyn', 'cuisine': 'Hamburgers', 'grades': [{'date': {'$date': 1408924800000}, 'grade': 'A', 'score': 12}, {'date': {'$date': 1378684800000}, 'grade': 'A', 'score': 10}, {'date': {'$date': 1364256000000}, 'grade': 'A', 'score': 2}, {'date': {'$date': 1362441600000}, 'grade': 'P', 'score': 2}, {'date': {'$date': 1330992000000}, 'grade': 'A', 'score': 2}], 'name': 'White Castle', 'restaurant_id': '40388703'}\n",
      "{'_id': ObjectId('653ff44f7b6f6aa49aae700f'), 'address': {'building': '5713', 'coord': [-73.9232263, 40.65249710000001], 'street': 'Church Avenue', 'zipcode': '11203'}, 'borough': 'Brooklyn', 'cuisine': 'Hamburgers', 'grades': [{'date': {'$date': 1401926400000}, 'grade': 'A', 'score': 11}, {'date': {'$date': 1370563200000}, 'grade': 'A', 'score': 9}, {'date': {'$date': 1340841600000}, 'grade': 'A', 'score': 13}, {'date': {'$date': 1323043200000}, 'grade': 'B', 'score': 27}, {'date': {'$date': 1308268800000}, 'grade': 'A', 'score': 12}], 'name': \"Mcdonald'S\", 'restaurant_id': '40512425'}\n",
      "{'_id': ObjectId('653ff44f7b6f6aa49aae7055'), 'address': {'building': '2848', 'coord': [-73.9498035, 40.6505357], 'street': 'Church Avenue', 'zipcode': '11226'}, 'borough': 'Brooklyn', 'cuisine': 'Hamburgers', 'grades': [{'date': {'$date': 1390435200000}, 'grade': 'A', 'score': 5}, {'date': {'$date': 1355788800000}, 'grade': 'A', 'score': 2}], 'name': \"Mcdonald'S\", 'restaurant_id': '40524878'}\n",
      "{'_id': ObjectId('653ff4507b6f6aa49aae71fa'), 'address': {'building': '700', 'coord': [-73.9435104, 40.7013798], 'street': 'Broadway', 'zipcode': '11206'}, 'borough': 'Brooklyn', 'cuisine': 'Hamburgers', 'grades': [{'date': {'$date': 1413331200000}, 'grade': 'A', 'score': 5}, {'date': {'$date': 1400803200000}, 'grade': 'A', 'score': 5}, {'date': {'$date': 1384992000000}, 'grade': 'A', 'score': 12}, {'date': {'$date': 1352937600000}, 'grade': 'A', 'score': 12}, {'date': {'$date': 1322870400000}, 'grade': 'A', 'score': 2}], 'name': \"Mcdonald'S\", 'restaurant_id': '40577889'}\n",
      "{'_id': ObjectId('653ff4507b6f6aa49aae723a'), 'address': {'building': '428', 'coord': [-73.91972299999999, 40.699329], 'street': 'Knickerbocker Avenue', 'zipcode': '11237'}, 'borough': 'Brooklyn', 'cuisine': 'Hamburgers', 'grades': [{'date': {'$date': 1412553600000}, 'grade': 'B', 'score': 21}, {'date': {'$date': 1381190400000}, 'grade': 'A', 'score': 7}, {'date': {'$date': 1367539200000}, 'grade': 'A', 'score': 9}, {'date': {'$date': 1348444800000}, 'grade': 'A', 'score': 9}], 'name': \"Mcdonald'S\", 'restaurant_id': '40587085'}\n",
      "{'_id': ObjectId('653ff4507b6f6aa49aae7297'), 'address': {'building': '1602', 'coord': [-74.00035129999999, 40.59535289999999], 'street': 'Shore Parkway', 'zipcode': '11214'}, 'borough': 'Brooklyn', 'cuisine': 'Hamburgers', 'grades': [{'date': {'$date': 1421193600000}, 'grade': 'A', 'score': 6}, {'date': {'$date': 1409184000000}, 'grade': 'A', 'score': 5}, {'date': {'$date': 1393977600000}, 'grade': 'A', 'score': 11}, {'date': {'$date': 1360627200000}, 'grade': 'A', 'score': 6}, {'date': {'$date': 1328140800000}, 'grade': 'A', 'score': 7}], 'name': \"Wendy'S\", 'restaurant_id': '40599130'}\n",
      "{'_id': ObjectId('653ff4517b6f6aa49aae7356'), 'address': {'building': '624', 'coord': [-73.8665421, 40.6755027], 'street': 'South Conduit Avenue', 'zipcode': '11208'}, 'borough': 'Brooklyn', 'cuisine': 'Hamburgers', 'grades': [{'date': {'$date': 1395792000000}, 'grade': 'A', 'score': 5}, {'date': {'$date': 1363824000000}, 'grade': 'A', 'score': 13}, {'date': {'$date': 1331683200000}, 'grade': 'A', 'score': 2}, {'date': {'$date': 1301961600000}, 'grade': 'A', 'score': 10}], 'name': 'Burger King', 'restaurant_id': '40640493'}\n",
      "{'_id': ObjectId('653ff4517b6f6aa49aae7358'), 'address': {'building': '957', 'coord': [-73.9459945, 40.6804254], 'street': 'Marcy Avenue', 'zipcode': '11216'}, 'borough': 'Brooklyn', 'cuisine': 'Hamburgers', 'grades': [{'date': {'$date': 1410998400000}, 'grade': 'B', 'score': 27}, {'date': {'$date': 1379289600000}, 'grade': 'A', 'score': 9}, {'date': {'$date': 1366675200000}, 'grade': 'A', 'score': 13}, {'date': {'$date': 1334620800000}, 'grade': 'A', 'score': 9}], 'name': 'Burger King', 'restaurant_id': '40640496'}\n",
      "{'_id': ObjectId('653ff4517b6f6aa49aae7389'), 'address': {'building': '420', 'coord': [-73.9863096, 40.69069349999999], 'street': 'Fulton Street', 'zipcode': '11201'}, 'borough': 'Brooklyn', 'cuisine': 'Hamburgers', 'grades': [{'date': {'$date': 1400025600000}, 'grade': 'A', 'score': 11}, {'date': {'$date': 1386028800000}, 'grade': 'A', 'score': 12}, {'date': {'$date': 1354492800000}, 'grade': 'A', 'score': 2}, {'date': {'$date': 1323907200000}, 'grade': 'A', 'score': 12}], 'name': \"Mcdonald'S\", 'restaurant_id': '40651965'}\n",
      "{'_id': ObjectId('653ff4517b6f6aa49aae739e'), 'address': {'building': '1916', 'coord': [-73.89086619999999, 40.6580684], 'street': 'Linden Boulevard', 'zipcode': '11207'}, 'borough': 'Brooklyn', 'cuisine': 'Hamburgers', 'grades': [{'date': {'$date': 1405382400000}, 'grade': 'A', 'score': 8}, {'date': {'$date': 1392768000000}, 'grade': 'A', 'score': 11}, {'date': {'$date': 1373328000000}, 'grade': 'A', 'score': 2}, {'date': {'$date': 1352937600000}, 'grade': 'A', 'score': 13}, {'date': {'$date': 1320278400000}, 'grade': 'A', 'score': 5}], 'name': \"Wendy'S\", 'restaurant_id': '40656356'}\n",
      "{'_id': ObjectId('653ff4517b6f6aa49aae7430'), 'address': {'building': '652', 'coord': [-73.9404776, 40.7220173], 'street': 'Meeker Ave', 'zipcode': '11222'}, 'borough': 'Brooklyn', 'cuisine': 'Hamburgers', 'grades': [{'date': {'$date': 1414022400000}, 'grade': 'A', 'score': 12}, {'date': {'$date': 1400198400000}, 'grade': 'A', 'score': 8}, {'date': {'$date': 1366588800000}, 'grade': 'A', 'score': 2}, {'date': {'$date': 1333497600000}, 'grade': 'A', 'score': 4}], 'name': \"Mcdonald'S\", 'restaurant_id': '40686067'}\n",
      "{'_id': ObjectId('653ff4517b6f6aa49aae7432'), 'address': {'building': '505', 'coord': [-73.93104199999999, 40.661174], 'street': 'Utica Avenue', 'zipcode': '11203'}, 'borough': 'Brooklyn', 'cuisine': 'Hamburgers', 'grades': [{'date': {'$date': 1413417600000}, 'grade': 'A', 'score': 12}, {'date': {'$date': 1398902400000}, 'grade': 'A', 'score': 10}, {'date': {'$date': 1366156800000}, 'grade': 'A', 'score': 13}, {'date': {'$date': 1334793600000}, 'grade': 'A', 'score': 7}], 'name': \"Wendy'S\", 'restaurant_id': '40686372'}\n",
      "{'_id': ObjectId('653ff4527b6f6aa49aae756f'), 'address': {'building': '2797', 'coord': [-73.8603037, 40.6701624], 'street': 'Linden Boulevard', 'zipcode': '11208'}, 'borough': 'Brooklyn', 'cuisine': 'Hamburgers', 'grades': [{'date': {'$date': 1410307200000}, 'grade': 'A', 'score': 9}, {'date': {'$date': 1398902400000}, 'grade': 'A', 'score': 9}, {'date': {'$date': 1377734400000}, 'grade': 'A', 'score': 2}, {'date': {'$date': 1364860800000}, 'grade': 'A', 'score': 12}, {'date': {'$date': 1331942400000}, 'grade': 'A', 'score': 8}], 'name': \"Mcdonald'S\", 'restaurant_id': '40736385'}\n",
      "{'_id': ObjectId('653ff4527b6f6aa49aae7571'), 'address': {'building': '4101', 'coord': [-74.0071389, 40.6512448], 'street': '4 Avenue', 'zipcode': '11232'}, 'borough': 'Brooklyn', 'cuisine': 'Hamburgers', 'grades': [{'date': {'$date': 1393891200000}, 'grade': 'A', 'score': 13}, {'date': {'$date': 1360540800000}, 'grade': 'A', 'score': 7}, {'date': {'$date': 1334793600000}, 'grade': 'A', 'score': 10}, {'date': {'$date': 1305072000000}, 'grade': 'A', 'score': 5}], 'name': 'Burger King', 'restaurant_id': '40736890'}\n",
      "{'_id': ObjectId('653ff4527b6f6aa49aae7584'), 'address': {'building': '267', 'coord': [-73.9589046, 40.7089167], 'street': 'Broadway', 'zipcode': '11211'}, 'borough': 'Brooklyn', 'cuisine': 'Hamburgers', 'grades': [{'date': {'$date': 1413331200000}, 'grade': 'A', 'score': 12}, {'date': {'$date': 1381276800000}, 'grade': 'A', 'score': 12}, {'date': {'$date': 1351209600000}, 'grade': 'A', 'score': 4}, {'date': {'$date': 1338854400000}, 'grade': 'A', 'score': 2}, {'date': {'$date': 1321574400000}, 'grade': 'A', 'score': 5}], 'name': \"Mcdonald'S\", 'restaurant_id': '40738860'}\n",
      "{'_id': ObjectId('653ff4527b6f6aa49aae7585'), 'address': {'building': '741', 'coord': [-73.943218, 40.711967], 'street': 'Grand Street', 'zipcode': '11211'}, 'borough': 'Brooklyn', 'cuisine': 'Hamburgers', 'grades': [{'date': {'$date': 1420416000000}, 'grade': 'A', 'score': 13}, {'date': {'$date': 1408320000000}, 'grade': 'A', 'score': 12}, {'date': {'$date': 1375833600000}, 'grade': 'A', 'score': 2}, {'date': {'$date': 1345507200000}, 'grade': 'A', 'score': 2}], 'name': \"Mcdonald'S\", 'restaurant_id': '40738863'}\n",
      "{'_id': ObjectId('653ff4527b6f6aa49aae75f3'), 'address': {'building': '2164', 'coord': [-73.99464789999999, 40.6020978], 'street': '86 Street', 'zipcode': '11214'}, 'borough': 'Brooklyn', 'cuisine': 'Hamburgers', 'grades': [{'date': {'$date': 1419379200000}, 'grade': 'A', 'score': 11}, {'date': {'$date': 1406073600000}, 'grade': 'C', 'score': 28}, {'date': {'$date': 1373932800000}, 'grade': 'A', 'score': 12}, {'date': {'$date': 1343692800000}, 'grade': 'A', 'score': 12}, {'date': {'$date': 1336435200000}, 'grade': 'A', 'score': 3}], 'name': 'Burger King', 'restaurant_id': '40753282'}\n",
      "{'_id': ObjectId('653ff4537b6f6aa49aae7629'), 'address': {'building': '1412', 'coord': [-73.918601, 40.698549], 'street': 'Myrtle Avenue', 'zipcode': '11237'}, 'borough': 'Brooklyn', 'cuisine': 'Hamburgers', 'grades': [{'date': {'$date': 1399939200000}, 'grade': 'A', 'score': 12}, {'date': {'$date': 1381363200000}, 'grade': 'B', 'score': 23}, {'date': {'$date': 1349308800000}, 'grade': 'A', 'score': 13}, {'date': {'$date': 1337644800000}, 'grade': 'A', 'score': 9}, {'date': {'$date': 1325203200000}, 'grade': 'A', 'score': 7}, {'date': {'$date': 1309305600000}, 'grade': 'A', 'score': 8}], 'name': 'Burger King', 'restaurant_id': '40762618'}\n",
      "{'_id': ObjectId('653ff4537b6f6aa49aae762e'), 'address': {'building': '2425', 'coord': [-73.96086919999999, 40.5977486], 'street': 'Coney Island Ave', 'zipcode': '11223'}, 'borough': 'Brooklyn', 'cuisine': 'Hamburgers', 'grades': [{'date': {'$date': 1394064000000}, 'grade': 'A', 'score': 11}, {'date': {'$date': 1374451200000}, 'grade': 'A', 'score': 11}, {'date': {'$date': 1355788800000}, 'grade': 'B', 'score': 26}, {'date': {'$date': 1337644800000}, 'grade': 'A', 'score': 13}, {'date': {'$date': 1326067200000}, 'grade': 'B', 'score': 20}], 'name': 'Burger King', 'restaurant_id': '40763076'}\n",
      "{'_id': ObjectId('653ff4537b6f6aa49aae76e0'), 'address': {'building': '15', 'coord': [-73.89784999999999, 40.67754499999999], 'street': 'Sheffield Avenue', 'zipcode': '11207'}, 'borough': 'Brooklyn', 'cuisine': 'Hamburgers', 'grades': [{'date': {'$date': 1392854400000}, 'grade': 'A', 'score': 4}, {'date': {'$date': 1360540800000}, 'grade': 'A', 'score': 10}, {'date': {'$date': 1329436800000}, 'grade': 'A', 'score': 13}, {'date': {'$date': 1300147200000}, 'grade': 'A', 'score': 12}], 'name': \"Mcdonald'S\", 'restaurant_id': '40809862'}\n",
      "{'_id': ObjectId('653ff4547b6f6aa49aae782b'), 'address': {'building': '1545', 'coord': [-73.9128746, 40.69959739999999], 'street': 'Myrtle Avenue', 'zipcode': '11237'}, 'borough': 'Brooklyn', 'cuisine': 'Hamburgers', 'grades': [{'date': {'$date': 1395273600000}, 'grade': 'A', 'score': 7}, {'date': {'$date': 1362614400000}, 'grade': 'A', 'score': 8}, {'date': {'$date': 1331251200000}, 'grade': 'A', 'score': 9}, {'date': {'$date': 1301443200000}, 'grade': 'A', 'score': 9}], 'name': 'White Castle', 'restaurant_id': '40868583'}\n"
     ]
    }
   ],
   "source": [
    "# Utiliza el método `find` con un filtro para obtener documentos con 'borough' igual a 'Brooklyn'\n",
    "documents = collection.find({\"borough\": \"Brooklyn\", 'cuisine': 'Hamburgers'})\n",
    "\n",
    "# Itera a través de los documentos que cumplen con el filtro e imprímelos con formato JSON indentado\n",
    "for document in documents:\n",
    "    # Utiliza json.dumps para imprimir el documento indentado\n",
    "    print(document)"
   ]
  },
  {
   "cell_type": "code",
   "execution_count": 60,
   "metadata": {},
   "outputs": [
    {
     "name": "stdout",
     "output_type": "stream",
     "text": [
      "{'_id': ObjectId('653ff44b7b6f6aa49aae6a39'), 'address': {'coord': [-73.961704, 40.662942], 'street': 'Flatbush Avenue'}, 'borough': 'Brooklyn', 'cuisine': 'Hamburgers', 'name': \"Wendy'S\"}\n",
      "{'_id': ObjectId('653ff44b7b6f6aa49aae6a52'), 'address': {'coord': [-73.9634876, 40.6940001], 'street': 'Myrtle Avenue'}, 'borough': 'Brooklyn', 'cuisine': 'Hamburgers', 'name': 'White Castle'}\n",
      "{'_id': ObjectId('653ff44c7b6f6aa49aae6b07'), 'address': {'coord': [-73.95802549999999, 40.6487475], 'street': 'Flatbush Avenue'}, 'borough': 'Brooklyn', 'cuisine': 'Hamburgers', 'name': \"Mcdonald'S\"}\n",
      "{'_id': ObjectId('653ff44c7b6f6aa49aae6b42'), 'address': {'coord': [-73.9808063, 40.6895078], 'street': 'Flatbush Avenue Extension'}, 'borough': 'Brooklyn', 'cuisine': 'Hamburgers', 'name': \"Mcdonald'S\"}\n",
      "{'_id': ObjectId('653ff44c7b6f6aa49aae6b49'), 'address': {'coord': [-73.9321666, 40.6632351], 'street': 'Empire Boulevard'}, 'borough': 'Brooklyn', 'cuisine': 'Hamburgers', 'name': 'White Castle'}\n",
      "{'_id': ObjectId('653ff44c7b6f6aa49aae6b4c'), 'address': {'coord': [-73.993031, 40.6417669], 'street': 'Ft Hamilton Parkway'}, 'borough': 'Brooklyn', 'cuisine': 'Hamburgers', 'name': 'White Castle'}\n",
      "{'_id': ObjectId('653ff44c7b6f6aa49aae6b52'), 'address': {'coord': [-73.9308722, 40.656262], 'street': 'Utica Avenue'}, 'borough': 'Brooklyn', 'cuisine': 'Hamburgers', 'name': \"Mcdonald'S\"}\n",
      "{'_id': ObjectId('653ff44c7b6f6aa49aae6b77'), 'address': {'coord': [-73.9195106, 40.6527642], 'street': 'Church Avenue'}, 'borough': 'Brooklyn', 'cuisine': 'Hamburgers', 'name': 'Burger King'}\n",
      "{'_id': ObjectId('653ff44c7b6f6aa49aae6bb0'), 'address': {'coord': [-73.9216671, 40.6447189], 'street': 'Clarendon Road'}, 'borough': 'Brooklyn', 'cuisine': 'Hamburgers', 'name': \"Mcdonald'S\"}\n",
      "{'_id': ObjectId('653ff44c7b6f6aa49aae6bc3'), 'address': {'coord': [-73.9917897, 40.6913932], 'street': 'Court Street'}, 'borough': 'Brooklyn', 'cuisine': 'Hamburgers', 'name': \"Mcdonald'S\"}\n",
      "{'_id': ObjectId('653ff44d7b6f6aa49aae6c48'), 'address': {'coord': [-74.0054378, 40.653762], 'street': '4 Avenue'}, 'borough': 'Brooklyn', 'cuisine': 'Hamburgers', 'name': \"Mcdonald'S\"}\n",
      "{'_id': ObjectId('653ff44d7b6f6aa49aae6c6b'), 'address': {'coord': [-73.88966429999999, 40.6578505], 'street': 'Pennsylvania Avenue'}, 'borough': 'Brooklyn', 'cuisine': 'Hamburgers', 'name': \"Mcdonald'S\"}\n",
      "{'_id': ObjectId('653ff44d7b6f6aa49aae6c7a'), 'address': {'coord': [-73.88898209999999, 40.65584459999999], 'street': 'Pennsylvania Avenue'}, 'borough': 'Brooklyn', 'cuisine': 'Hamburgers', 'name': 'White Castle'}\n",
      "{'_id': ObjectId('653ff44d7b6f6aa49aae6cba'), 'address': {'coord': [-73.8812773, 40.679218], 'street': 'Atlantic Avenue'}, 'borough': 'Brooklyn', 'cuisine': 'Hamburgers', 'name': 'White Castle'}\n",
      "{'_id': ObjectId('653ff44d7b6f6aa49aae6cf8'), 'address': {'coord': [-73.9431862, 40.7146566], 'street': 'Metropolitan Avenue'}, 'borough': 'Brooklyn', 'cuisine': 'Hamburgers', 'name': 'White Castle'}\n",
      "{'_id': ObjectId('653ff44f7b6f6aa49aae700f'), 'address': {'coord': [-73.9232263, 40.65249710000001], 'street': 'Church Avenue'}, 'borough': 'Brooklyn', 'cuisine': 'Hamburgers', 'name': \"Mcdonald'S\"}\n",
      "{'_id': ObjectId('653ff44f7b6f6aa49aae7055'), 'address': {'coord': [-73.9498035, 40.6505357], 'street': 'Church Avenue'}, 'borough': 'Brooklyn', 'cuisine': 'Hamburgers', 'name': \"Mcdonald'S\"}\n",
      "{'_id': ObjectId('653ff4507b6f6aa49aae71fa'), 'address': {'coord': [-73.9435104, 40.7013798], 'street': 'Broadway'}, 'borough': 'Brooklyn', 'cuisine': 'Hamburgers', 'name': \"Mcdonald'S\"}\n",
      "{'_id': ObjectId('653ff4507b6f6aa49aae723a'), 'address': {'coord': [-73.91972299999999, 40.699329], 'street': 'Knickerbocker Avenue'}, 'borough': 'Brooklyn', 'cuisine': 'Hamburgers', 'name': \"Mcdonald'S\"}\n",
      "{'_id': ObjectId('653ff4507b6f6aa49aae7297'), 'address': {'coord': [-74.00035129999999, 40.59535289999999], 'street': 'Shore Parkway'}, 'borough': 'Brooklyn', 'cuisine': 'Hamburgers', 'name': \"Wendy'S\"}\n",
      "{'_id': ObjectId('653ff4517b6f6aa49aae7356'), 'address': {'coord': [-73.8665421, 40.6755027], 'street': 'South Conduit Avenue'}, 'borough': 'Brooklyn', 'cuisine': 'Hamburgers', 'name': 'Burger King'}\n",
      "{'_id': ObjectId('653ff4517b6f6aa49aae7358'), 'address': {'coord': [-73.9459945, 40.6804254], 'street': 'Marcy Avenue'}, 'borough': 'Brooklyn', 'cuisine': 'Hamburgers', 'name': 'Burger King'}\n",
      "{'_id': ObjectId('653ff4517b6f6aa49aae7389'), 'address': {'coord': [-73.9863096, 40.69069349999999], 'street': 'Fulton Street'}, 'borough': 'Brooklyn', 'cuisine': 'Hamburgers', 'name': \"Mcdonald'S\"}\n",
      "{'_id': ObjectId('653ff4517b6f6aa49aae739e'), 'address': {'coord': [-73.89086619999999, 40.6580684], 'street': 'Linden Boulevard'}, 'borough': 'Brooklyn', 'cuisine': 'Hamburgers', 'name': \"Wendy'S\"}\n",
      "{'_id': ObjectId('653ff4517b6f6aa49aae7430'), 'address': {'coord': [-73.9404776, 40.7220173], 'street': 'Meeker Ave'}, 'borough': 'Brooklyn', 'cuisine': 'Hamburgers', 'name': \"Mcdonald'S\"}\n",
      "{'_id': ObjectId('653ff4517b6f6aa49aae7432'), 'address': {'coord': [-73.93104199999999, 40.661174], 'street': 'Utica Avenue'}, 'borough': 'Brooklyn', 'cuisine': 'Hamburgers', 'name': \"Wendy'S\"}\n",
      "{'_id': ObjectId('653ff4527b6f6aa49aae756f'), 'address': {'coord': [-73.8603037, 40.6701624], 'street': 'Linden Boulevard'}, 'borough': 'Brooklyn', 'cuisine': 'Hamburgers', 'name': \"Mcdonald'S\"}\n",
      "{'_id': ObjectId('653ff4527b6f6aa49aae7571'), 'address': {'coord': [-74.0071389, 40.6512448], 'street': '4 Avenue'}, 'borough': 'Brooklyn', 'cuisine': 'Hamburgers', 'name': 'Burger King'}\n",
      "{'_id': ObjectId('653ff4527b6f6aa49aae7584'), 'address': {'coord': [-73.9589046, 40.7089167], 'street': 'Broadway'}, 'borough': 'Brooklyn', 'cuisine': 'Hamburgers', 'name': \"Mcdonald'S\"}\n",
      "{'_id': ObjectId('653ff4527b6f6aa49aae7585'), 'address': {'coord': [-73.943218, 40.711967], 'street': 'Grand Street'}, 'borough': 'Brooklyn', 'cuisine': 'Hamburgers', 'name': \"Mcdonald'S\"}\n",
      "{'_id': ObjectId('653ff4527b6f6aa49aae75f3'), 'address': {'coord': [-73.99464789999999, 40.6020978], 'street': '86 Street'}, 'borough': 'Brooklyn', 'cuisine': 'Hamburgers', 'name': 'Burger King'}\n",
      "{'_id': ObjectId('653ff4537b6f6aa49aae7629'), 'address': {'coord': [-73.918601, 40.698549], 'street': 'Myrtle Avenue'}, 'borough': 'Brooklyn', 'cuisine': 'Hamburgers', 'name': 'Burger King'}\n",
      "{'_id': ObjectId('653ff4537b6f6aa49aae762e'), 'address': {'coord': [-73.96086919999999, 40.5977486], 'street': 'Coney Island Ave'}, 'borough': 'Brooklyn', 'cuisine': 'Hamburgers', 'name': 'Burger King'}\n",
      "{'_id': ObjectId('653ff4537b6f6aa49aae76e0'), 'address': {'coord': [-73.89784999999999, 40.67754499999999], 'street': 'Sheffield Avenue'}, 'borough': 'Brooklyn', 'cuisine': 'Hamburgers', 'name': \"Mcdonald'S\"}\n",
      "{'_id': ObjectId('653ff4547b6f6aa49aae782b'), 'address': {'coord': [-73.9128746, 40.69959739999999], 'street': 'Myrtle Avenue'}, 'borough': 'Brooklyn', 'cuisine': 'Hamburgers', 'name': 'White Castle'}\n"
     ]
    }
   ],
   "source": [
    "# Ahora con un nuevo diccionario para mostrar solo los campos con 1\n",
    "documents = collection.find(\n",
    "    {\"borough\": \"Brooklyn\", \"cuisine\": \"Hamburgers\"},\n",
    "    {\"name\": 1, \"address.street\": 1, \"address.coord\": 1, 'borough': 1, 'cuisine': 1}\n",
    ")\n",
    "\n",
    "# Itera a través de los documentos que cumplen con el filtro y proyección e imprímelos\n",
    "for document in documents:\n",
    "    print(document)"
   ]
  },
  {
   "cell_type": "code",
   "execution_count": 62,
   "metadata": {},
   "outputs": [
    {
     "name": "stdout",
     "output_type": "stream",
     "text": [
      "{'address': {'coord': [-73.961704, 40.662942], 'street': 'Flatbush Avenue'}, 'borough': 'Brooklyn', 'cuisine': 'Hamburgers', 'name': \"Wendy'S\"}\n",
      "{'address': {'coord': [-73.9634876, 40.6940001], 'street': 'Myrtle Avenue'}, 'borough': 'Brooklyn', 'cuisine': 'Hamburgers', 'name': 'White Castle'}\n",
      "{'address': {'coord': [-73.95802549999999, 40.6487475], 'street': 'Flatbush Avenue'}, 'borough': 'Brooklyn', 'cuisine': 'Hamburgers', 'name': \"Mcdonald'S\"}\n",
      "{'address': {'coord': [-73.9808063, 40.6895078], 'street': 'Flatbush Avenue Extension'}, 'borough': 'Brooklyn', 'cuisine': 'Hamburgers', 'name': \"Mcdonald'S\"}\n",
      "{'address': {'coord': [-73.9321666, 40.6632351], 'street': 'Empire Boulevard'}, 'borough': 'Brooklyn', 'cuisine': 'Hamburgers', 'name': 'White Castle'}\n",
      "{'address': {'coord': [-73.993031, 40.6417669], 'street': 'Ft Hamilton Parkway'}, 'borough': 'Brooklyn', 'cuisine': 'Hamburgers', 'name': 'White Castle'}\n",
      "{'address': {'coord': [-73.9308722, 40.656262], 'street': 'Utica Avenue'}, 'borough': 'Brooklyn', 'cuisine': 'Hamburgers', 'name': \"Mcdonald'S\"}\n",
      "{'address': {'coord': [-73.9195106, 40.6527642], 'street': 'Church Avenue'}, 'borough': 'Brooklyn', 'cuisine': 'Hamburgers', 'name': 'Burger King'}\n",
      "{'address': {'coord': [-73.9216671, 40.6447189], 'street': 'Clarendon Road'}, 'borough': 'Brooklyn', 'cuisine': 'Hamburgers', 'name': \"Mcdonald'S\"}\n",
      "{'address': {'coord': [-73.9917897, 40.6913932], 'street': 'Court Street'}, 'borough': 'Brooklyn', 'cuisine': 'Hamburgers', 'name': \"Mcdonald'S\"}\n",
      "{'address': {'coord': [-74.0054378, 40.653762], 'street': '4 Avenue'}, 'borough': 'Brooklyn', 'cuisine': 'Hamburgers', 'name': \"Mcdonald'S\"}\n",
      "{'address': {'coord': [-73.88966429999999, 40.6578505], 'street': 'Pennsylvania Avenue'}, 'borough': 'Brooklyn', 'cuisine': 'Hamburgers', 'name': \"Mcdonald'S\"}\n",
      "{'address': {'coord': [-73.88898209999999, 40.65584459999999], 'street': 'Pennsylvania Avenue'}, 'borough': 'Brooklyn', 'cuisine': 'Hamburgers', 'name': 'White Castle'}\n",
      "{'address': {'coord': [-73.8812773, 40.679218], 'street': 'Atlantic Avenue'}, 'borough': 'Brooklyn', 'cuisine': 'Hamburgers', 'name': 'White Castle'}\n",
      "{'address': {'coord': [-73.9431862, 40.7146566], 'street': 'Metropolitan Avenue'}, 'borough': 'Brooklyn', 'cuisine': 'Hamburgers', 'name': 'White Castle'}\n",
      "{'address': {'coord': [-73.9232263, 40.65249710000001], 'street': 'Church Avenue'}, 'borough': 'Brooklyn', 'cuisine': 'Hamburgers', 'name': \"Mcdonald'S\"}\n",
      "{'address': {'coord': [-73.9498035, 40.6505357], 'street': 'Church Avenue'}, 'borough': 'Brooklyn', 'cuisine': 'Hamburgers', 'name': \"Mcdonald'S\"}\n",
      "{'address': {'coord': [-73.9435104, 40.7013798], 'street': 'Broadway'}, 'borough': 'Brooklyn', 'cuisine': 'Hamburgers', 'name': \"Mcdonald'S\"}\n",
      "{'address': {'coord': [-73.91972299999999, 40.699329], 'street': 'Knickerbocker Avenue'}, 'borough': 'Brooklyn', 'cuisine': 'Hamburgers', 'name': \"Mcdonald'S\"}\n",
      "{'address': {'coord': [-74.00035129999999, 40.59535289999999], 'street': 'Shore Parkway'}, 'borough': 'Brooklyn', 'cuisine': 'Hamburgers', 'name': \"Wendy'S\"}\n",
      "{'address': {'coord': [-73.8665421, 40.6755027], 'street': 'South Conduit Avenue'}, 'borough': 'Brooklyn', 'cuisine': 'Hamburgers', 'name': 'Burger King'}\n",
      "{'address': {'coord': [-73.9459945, 40.6804254], 'street': 'Marcy Avenue'}, 'borough': 'Brooklyn', 'cuisine': 'Hamburgers', 'name': 'Burger King'}\n",
      "{'address': {'coord': [-73.9863096, 40.69069349999999], 'street': 'Fulton Street'}, 'borough': 'Brooklyn', 'cuisine': 'Hamburgers', 'name': \"Mcdonald'S\"}\n",
      "{'address': {'coord': [-73.89086619999999, 40.6580684], 'street': 'Linden Boulevard'}, 'borough': 'Brooklyn', 'cuisine': 'Hamburgers', 'name': \"Wendy'S\"}\n",
      "{'address': {'coord': [-73.9404776, 40.7220173], 'street': 'Meeker Ave'}, 'borough': 'Brooklyn', 'cuisine': 'Hamburgers', 'name': \"Mcdonald'S\"}\n",
      "{'address': {'coord': [-73.93104199999999, 40.661174], 'street': 'Utica Avenue'}, 'borough': 'Brooklyn', 'cuisine': 'Hamburgers', 'name': \"Wendy'S\"}\n",
      "{'address': {'coord': [-73.8603037, 40.6701624], 'street': 'Linden Boulevard'}, 'borough': 'Brooklyn', 'cuisine': 'Hamburgers', 'name': \"Mcdonald'S\"}\n",
      "{'address': {'coord': [-74.0071389, 40.6512448], 'street': '4 Avenue'}, 'borough': 'Brooklyn', 'cuisine': 'Hamburgers', 'name': 'Burger King'}\n",
      "{'address': {'coord': [-73.9589046, 40.7089167], 'street': 'Broadway'}, 'borough': 'Brooklyn', 'cuisine': 'Hamburgers', 'name': \"Mcdonald'S\"}\n",
      "{'address': {'coord': [-73.943218, 40.711967], 'street': 'Grand Street'}, 'borough': 'Brooklyn', 'cuisine': 'Hamburgers', 'name': \"Mcdonald'S\"}\n",
      "{'address': {'coord': [-73.99464789999999, 40.6020978], 'street': '86 Street'}, 'borough': 'Brooklyn', 'cuisine': 'Hamburgers', 'name': 'Burger King'}\n",
      "{'address': {'coord': [-73.918601, 40.698549], 'street': 'Myrtle Avenue'}, 'borough': 'Brooklyn', 'cuisine': 'Hamburgers', 'name': 'Burger King'}\n",
      "{'address': {'coord': [-73.96086919999999, 40.5977486], 'street': 'Coney Island Ave'}, 'borough': 'Brooklyn', 'cuisine': 'Hamburgers', 'name': 'Burger King'}\n",
      "{'address': {'coord': [-73.89784999999999, 40.67754499999999], 'street': 'Sheffield Avenue'}, 'borough': 'Brooklyn', 'cuisine': 'Hamburgers', 'name': \"Mcdonald'S\"}\n",
      "{'address': {'coord': [-73.9128746, 40.69959739999999], 'street': 'Myrtle Avenue'}, 'borough': 'Brooklyn', 'cuisine': 'Hamburgers', 'name': 'White Castle'}\n"
     ]
    }
   ],
   "source": [
    "# Tambien podemos excluir con 0\n",
    "documents = collection.find(\n",
    "    {\"borough\": \"Brooklyn\", \"cuisine\": \"Hamburgers\"},\n",
    "    {\"_id\": 0,\"name\": 1, \"address.street\": 1, \"address.coord\": 1, 'borough': 1, 'cuisine': 1}\n",
    ")\n",
    "\n",
    "# Itera a través de los documentos que cumplen con el filtro y proyección e imprímelos\n",
    "for document in documents:\n",
    "    print(document)"
   ]
  },
  {
   "cell_type": "code",
   "execution_count": 63,
   "metadata": {},
   "outputs": [
    {
     "name": "stdout",
     "output_type": "stream",
     "text": [
      "{'address': {'coord': [-73.961704, 40.662942], 'street': 'Flatbush Avenue'}, 'borough': 'Brooklyn', 'cuisine': 'Hamburgers', 'name': \"Wendy'S\"}\n",
      "{'address': {'coord': [-73.9634876, 40.6940001], 'street': 'Myrtle Avenue'}, 'borough': 'Brooklyn', 'cuisine': 'Hamburgers', 'name': 'White Castle'}\n",
      "{'address': {'coord': [-73.95802549999999, 40.6487475], 'street': 'Flatbush Avenue'}, 'borough': 'Brooklyn', 'cuisine': 'Hamburgers', 'name': \"Mcdonald'S\"}\n",
      "{'address': {'coord': [-73.9808063, 40.6895078], 'street': 'Flatbush Avenue Extension'}, 'borough': 'Brooklyn', 'cuisine': 'Hamburgers', 'name': \"Mcdonald'S\"}\n",
      "{'address': {'coord': [-73.9321666, 40.6632351], 'street': 'Empire Boulevard'}, 'borough': 'Brooklyn', 'cuisine': 'Hamburgers', 'name': 'White Castle'}\n"
     ]
    }
   ],
   "source": [
    "# También podemos limitar los resutados\n",
    "# Tambien podemos excluir con 0\n",
    "documents = collection.find(\n",
    "    {\"borough\": \"Brooklyn\", \"cuisine\": \"Hamburgers\"},\n",
    "    {\"_id\": 0,\"name\": 1, \"address.street\": 1, \"address.coord\": 1, 'borough': 1, 'cuisine': 1}\n",
    ").limit(5)\n",
    "\n",
    "# Itera a través de los documentos que cumplen con el filtro y proyección e imprímelos\n",
    "for document in documents:\n",
    "    print(document)"
   ]
  },
  {
   "cell_type": "code",
   "execution_count": 65,
   "metadata": {},
   "outputs": [
    {
     "name": "stdout",
     "output_type": "stream",
     "text": [
      "{'address': {'coord': [-73.9782725, 40.7624022], 'street': 'West   54 Street'}, 'borough': 'Manhattan', 'cuisine': 'American ', 'name': \"Murals On 54/Randolphs'S\"}\n",
      "{'address': {'coord': [-73.9864626, 40.7266739], 'street': 'East 6 Street'}, 'borough': 'Manhattan', 'cuisine': 'Indian', 'name': 'Gandhi'}\n",
      "{'address': {'coord': [-73.984758, 40.7457939], 'street': 'Madison Avenue'}, 'borough': 'Manhattan', 'cuisine': 'Pizza/Italian', 'name': 'Bella Napoli'}\n"
     ]
    }
   ],
   "source": [
    "# Utiliza el método `find` con un filtro para obtener documentos con 'score' mayor a 90\n",
    "documents = collection.find(\n",
    "    {\"grades.score\": {\"$gt\": 90}}, \n",
    "    {\"_id\": 0,\"name\": 1, \"address.street\": 1, \"address.coord\": 1, 'borough': 1, 'cuisine': 1}\n",
    ")\n",
    "\n",
    "# Itera a través de los documentos que cumplen con el filtro e imprímelos\n",
    "for document in documents:\n",
    "    print(document)"
   ]
  },
  {
   "cell_type": "markdown",
   "metadata": {},
   "source": [
    "### Practica\n",
    "\n",
    "Recupera y muestra los nombres, direcciones y coordenadas de restaurantes en el Bronx que sirvan comida italiana ('cuisine') y tengan un puntaje ('score') mayor a 20 en sus calificaciones, utilizando el método find de MongoDB con un filtro específico."
   ]
  },
  {
   "cell_type": "code",
   "execution_count": 74,
   "metadata": {},
   "outputs": [
    {
     "name": "stdout",
     "output_type": "stream",
     "text": [
      "{'address': {'coord': [-73.8177658, 40.8204314], 'street': 'East Tremont Avenue'}, 'name': \"Spoto'S Restaurant\"}\n",
      "{'address': {'coord': [-73.8189257, 40.82115659999999], 'street': 'East Tremont Avenue'}, 'name': \"Rino'S\"}\n",
      "{'address': {'coord': [-73.8889027, 40.8543105], 'street': 'Arthur Avenue'}, 'name': \"Dominick'S Bar & Restaurant\"}\n",
      "{'address': {'coord': [-73.8887814, 40.85436720000001], 'street': 'Arthur Avenue'}, 'name': 'Enzo Cafe'}\n",
      "{'address': {'coord': [-73.78706799999999, 40.8496359], 'street': 'City Island Avenue'}, 'name': \"Artie'S\"}\n",
      "{'address': {'coord': [-73.8892497, 40.8537883], 'street': 'Arthur Avenue'}, 'name': 'Pasquale Rigoletto Restaurant'}\n"
     ]
    }
   ],
   "source": [
    "# Utiliza el método `find` con un filtro para obtener documentos con 'cuisine' igual a 'Italian' y 'borough' igual a 'Brooklyn'\n",
    "documents = collection.find(\n",
    "    {\"grades.score\": {\"$gt\": 20}, \"cuisine\": \"Italian\", \"borough\": \"Bronx\"},\n",
    "    {\"_id\": 0, \"name\": 1, \"address.street\": 1, \"address.coord\": 1}\n",
    ")\n",
    "\n",
    "# Itera a través de los documentos que cumplen con el filtro e imprímelos\n",
    "for document in documents:\n",
    "    print(document)"
   ]
  },
  {
   "cell_type": "code",
   "execution_count": null,
   "metadata": {},
   "outputs": [],
   "source": []
  }
 ],
 "metadata": {
  "kernelspec": {
   "display_name": "Python 3 (ipykernel)",
   "language": "python",
   "name": "python3"
  },
  "language_info": {
   "codemirror_mode": {
    "name": "ipython",
    "version": 3
   },
   "file_extension": ".py",
   "mimetype": "text/x-python",
   "name": "python",
   "nbconvert_exporter": "python",
   "pygments_lexer": "ipython3",
   "version": "3.10.12"
  }
 },
 "nbformat": 4,
 "nbformat_minor": 4
}
